{
 "cells": [
  {
   "cell_type": "markdown",
   "id": "91f05541",
   "metadata": {
    "slideshow": {
     "slide_type": "skip"
    }
   },
   "source": [
    "**CN-01: Python - Estruturas de controle**"
   ]
  },
  {
   "cell_type": "markdown",
   "id": "b3c06174",
   "metadata": {
    "slideshow": {
     "slide_type": "slide"
    }
   },
   "source": [
    "# Estruturas de controle"
   ]
  },
  {
   "cell_type": "markdown",
   "id": "c03f8062",
   "metadata": {
    "slideshow": {
     "slide_type": "subslide"
    }
   },
   "source": [
    "As estruturas de controle permitem modificar a ordem de execução dos comandos\n",
    "\n",
    "Elas podem ser de 2 tipos:\n",
    "\n",
    "* Estruturas condicionais\n",
    "* Estruturas de laço\n",
    "\n",
    "Diferente de outras linguagens, o **escopo** é definido pela indentação do código"
   ]
  },
  {
   "cell_type": "markdown",
   "id": "a74e681b",
   "metadata": {
    "slideshow": {
     "slide_type": "slide"
    }
   },
   "source": [
    "# Estrutura IF"
   ]
  },
  {
   "cell_type": "markdown",
   "id": "e6620dd2",
   "metadata": {
    "slideshow": {
     "slide_type": "subslide"
    }
   },
   "source": [
    "A estrutura if possui a seguinte sintaxe:\n",
    "\n",
    "```python\n",
    "if condicao:\n",
    "    comandos dentro do IF\n",
    "```"
   ]
  },
  {
   "cell_type": "code",
   "execution_count": 8,
   "id": "9bdfe9a4",
   "metadata": {
    "slideshow": {
     "slide_type": "fragment"
    }
   },
   "outputs": [
    {
     "name": "stdout",
     "output_type": "stream",
     "text": [
      "5 é menor que 7\n"
     ]
    }
   ],
   "source": [
    "# Exemplo de if\n",
    "if 5 < 7:\n",
    "    print('5 é menor que 7')"
   ]
  },
  {
   "cell_type": "code",
   "execution_count": 10,
   "id": "efe770e0",
   "metadata": {
    "slideshow": {
     "slide_type": "fragment"
    }
   },
   "outputs": [
    {
     "name": "stdout",
     "output_type": "stream",
     "text": [
      "Entre com a temperatura: 40\n",
      "Atenção! Você está com febre\n",
      "Procure um médico\n",
      "Obrigado!\n"
     ]
    }
   ],
   "source": [
    "# Exemplo com vários comandos\n",
    "temperatura = float(input('Entre com a temperatura: '))\n",
    "if temperatura > 37.8:\n",
    "    print('Atenção! Você está com febre')\n",
    "    print('Procure um médico')\n",
    "print('Obrigado!')    "
   ]
  },
  {
   "cell_type": "code",
   "execution_count": 11,
   "id": "e3ef155a",
   "metadata": {
    "slideshow": {
     "slide_type": "fragment"
    }
   },
   "outputs": [
    {
     "name": "stdout",
     "output_type": "stream",
     "text": [
      "a é maior que b\n"
     ]
    }
   ],
   "source": [
    "# quando temos apenas 1 comando, é possível colocá-lo na mesma linha\n",
    "a = 6\n",
    "b = 3\n",
    "\n",
    "if a > b: print(\"a é maior que b\")"
   ]
  },
  {
   "cell_type": "markdown",
   "id": "3e6f29eb",
   "metadata": {
    "slideshow": {
     "slide_type": "slide"
    }
   },
   "source": [
    "## Estrutura IF-ELSE"
   ]
  },
  {
   "cell_type": "markdown",
   "id": "b4880240",
   "metadata": {
    "slideshow": {
     "slide_type": "subslide"
    }
   },
   "source": [
    "A estrutura if-else possui a seguinte sintaxe:\n",
    "\n",
    "```python\n",
    "if condicao:\n",
    "    comandos dentro do IF\n",
    "else:\n",
    "    comandos dentro do ELSE\n",
    "```"
   ]
  },
  {
   "cell_type": "code",
   "execution_count": 13,
   "id": "22ab9a5f",
   "metadata": {
    "slideshow": {
     "slide_type": "fragment"
    }
   },
   "outputs": [
    {
     "name": "stdout",
     "output_type": "stream",
     "text": [
      "Você está de recuperação\n"
     ]
    }
   ],
   "source": [
    "# Exemplo\n",
    "nota = 47\n",
    "if nota >= 60:\n",
    "    print('Você passou')\n",
    "    print('Parabens!')\n",
    "else:\n",
    "    print('Você está de recuperação')"
   ]
  },
  {
   "cell_type": "markdown",
   "id": "50cf908d",
   "metadata": {
    "slideshow": {
     "slide_type": "slide"
    }
   },
   "source": [
    "## Estrutura IF-ELSEIF"
   ]
  },
  {
   "cell_type": "markdown",
   "id": "9e376f72",
   "metadata": {
    "slideshow": {
     "slide_type": "subslide"
    }
   },
   "source": [
    "A estrutura if-else-if possui a seguinte sintaxe:\n",
    "\n",
    "```python\n",
    "if condicao1:\n",
    "    comandos dentro do IF\n",
    "elif condicao2:\n",
    "    comandos dentro do ELSE-IF\n",
    "```"
   ]
  },
  {
   "cell_type": "code",
   "execution_count": 9,
   "id": "9371c9fc",
   "metadata": {
    "slideshow": {
     "slide_type": "fragment"
    }
   },
   "outputs": [
    {
     "name": "stdout",
     "output_type": "stream",
     "text": [
      "x é maior que y\n"
     ]
    }
   ],
   "source": [
    "# Exemplo de elseif\n",
    "x = 10\n",
    "y = 3\n",
    "if x > y:\n",
    "    print('x é maior que y')\n",
    "elif x == y:\n",
    "    print('x é igual a y')\n",
    "else:\n",
    "    print('x é menor a y')    "
   ]
  },
  {
   "cell_type": "markdown",
   "id": "dc1f530d",
   "metadata": {
    "slideshow": {
     "slide_type": "slide"
    }
   },
   "source": [
    "## Estrutura IF aninhado"
   ]
  },
  {
   "cell_type": "code",
   "execution_count": 15,
   "id": "0e1da961",
   "metadata": {
    "slideshow": {
     "slide_type": "subslide"
    }
   },
   "outputs": [
    {
     "name": "stdout",
     "output_type": "stream",
     "text": [
      "x é maior que 10\n"
     ]
    }
   ],
   "source": [
    "# Podemos colocar um IF dentro de outro IF:\n",
    "x = 12\n",
    "if x > 10:\n",
    "    print('x é maior que 10')\n",
    "    if x > 20:\n",
    "        print('x também é maior que 20')"
   ]
  },
  {
   "cell_type": "markdown",
   "id": "dbe7f03d",
   "metadata": {
    "slideshow": {
     "slide_type": "slide"
    }
   },
   "source": [
    "# Estrutura FOR"
   ]
  },
  {
   "cell_type": "markdown",
   "id": "bb9fd2db",
   "metadata": {
    "slideshow": {
     "slide_type": "subslide"
    }
   },
   "source": [
    "A estrutura `for` é utilizada para percorrer uma sequência do tipo lista, tupla, dicionário e possui a seguinte sintaxe:\n",
    "\n",
    "```python\n",
    "for variavel in sequencia\n",
    "    comandos-do-laço\n",
    "```"
   ]
  },
  {
   "cell_type": "code",
   "execution_count": 26,
   "id": "55b1f5a2",
   "metadata": {
    "slideshow": {
     "slide_type": "fragment"
    }
   },
   "outputs": [
    {
     "name": "stdout",
     "output_type": "stream",
     "text": [
      "maça\n",
      "banana\n",
      "uva\n",
      "maça\n",
      "banana\n",
      "uva\n"
     ]
    }
   ],
   "source": [
    "# Exemplo de laço for usando lista\n",
    "frutas = [\"maça\", \"banana\", \"uva\"]\n",
    "\n",
    "for f in frutas:\n",
    "    print(f)\n",
    "\n",
    "#n = len(frutas)\n",
    "#for i in range(n):\n",
    "#    print(frutas[i])"
   ]
  },
  {
   "cell_type": "code",
   "execution_count": 27,
   "id": "63326b0a",
   "metadata": {
    "slideshow": {
     "slide_type": "fragment"
    }
   },
   "outputs": [
    {
     "name": "stdout",
     "output_type": "stream",
     "text": [
      "maça\n",
      "banana\n"
     ]
    }
   ],
   "source": [
    "# Podemos interromper o laço for usando o comando break\n",
    "frutas = [\"maça\", \"banana\", \"uva\", \"melancia\"]\n",
    "for f in frutas:\n",
    "    print(f)\n",
    "    if f == \"banana\":\n",
    "        break "
   ]
  },
  {
   "cell_type": "code",
   "execution_count": 32,
   "id": "bc85ad75",
   "metadata": {
    "slideshow": {
     "slide_type": "fragment"
    }
   },
   "outputs": [
    {
     "name": "stdout",
     "output_type": "stream",
     "text": [
      "maça\n",
      "melancia\n"
     ]
    }
   ],
   "source": [
    "# Podemos pular uma iteração do laço usando o comando continue\n",
    "frutas = [\"maça\", \"banana\", \"uva\", \"melancia\"]\n",
    "for f in frutas:\n",
    "    if f == \"banana\" or f == \"uva\": continue\n",
    "    print(f)\n",
    "    "
   ]
  },
  {
   "cell_type": "code",
   "execution_count": 33,
   "id": "fbf3f08b",
   "metadata": {
    "slideshow": {
     "slide_type": "fragment"
    }
   },
   "outputs": [
    {
     "name": "stdout",
     "output_type": "stream",
     "text": [
      "Tabuado do  1\n",
      "1  x  1  =  1\n",
      "1  x  2  =  2\n",
      "1  x  3  =  3\n",
      "1  x  4  =  4\n",
      "1  x  5  =  5\n",
      "1  x  6  =  6\n",
      "1  x  7  =  7\n",
      "1  x  8  =  8\n",
      "1  x  9  =  9\n",
      "1  x  10  =  10\n",
      "Tabuado do  2\n",
      "2  x  1  =  2\n",
      "2  x  2  =  4\n",
      "2  x  3  =  6\n",
      "2  x  4  =  8\n",
      "2  x  5  =  10\n",
      "2  x  6  =  12\n",
      "2  x  7  =  14\n",
      "2  x  8  =  16\n",
      "2  x  9  =  18\n",
      "2  x  10  =  20\n",
      "Tabuado do  3\n",
      "3  x  1  =  3\n",
      "3  x  2  =  6\n",
      "3  x  3  =  9\n",
      "3  x  4  =  12\n",
      "3  x  5  =  15\n",
      "3  x  6  =  18\n",
      "3  x  7  =  21\n",
      "3  x  8  =  24\n",
      "3  x  9  =  27\n",
      "3  x  10  =  30\n"
     ]
    }
   ],
   "source": [
    "# Laço for aninhado\n",
    "for i in range(1,4):\n",
    "    print('Tabuado do ', i)\n",
    "    for j in range(1,11):\n",
    "        print(i, ' x ', j, ' = ', i*j)"
   ]
  },
  {
   "cell_type": "markdown",
   "id": "3c5abcce",
   "metadata": {
    "slideshow": {
     "slide_type": "slide"
    }
   },
   "source": [
    "# Estrutura WHILE"
   ]
  },
  {
   "cell_type": "markdown",
   "id": "d450a79e",
   "metadata": {
    "slideshow": {
     "slide_type": "subslide"
    }
   },
   "source": [
    "A estrutura while possui a seguinte sintaxe:\n",
    "\n",
    "```python\n",
    "while condicao:\n",
    "    comandos-dentro-do-laço\n",
    "```\n",
    "\n"
   ]
  },
  {
   "cell_type": "code",
   "execution_count": 19,
   "id": "e9089d8a",
   "metadata": {
    "slideshow": {
     "slide_type": "fragment"
    }
   },
   "outputs": [
    {
     "name": "stdout",
     "output_type": "stream",
     "text": [
      "1\n",
      "2\n",
      "3\n",
      "4\n",
      "5\n"
     ]
    }
   ],
   "source": [
    "# Exemplo de laço while\n",
    "i = 1\n",
    "while i < 6:\n",
    "    print(i)\n",
    "    i += 1 # i = i + 1"
   ]
  },
  {
   "cell_type": "code",
   "execution_count": 33,
   "id": "f61c3ad3",
   "metadata": {
    "slideshow": {
     "slide_type": "fragment"
    }
   },
   "outputs": [
    {
     "name": "stdout",
     "output_type": "stream",
     "text": [
      "1\n",
      "2\n",
      "3\n",
      "4\n",
      "5\n",
      "6\n"
     ]
    }
   ],
   "source": [
    "# Interrompendo o laço while\n",
    "i = 1\n",
    "while True:\n",
    "    print(i)\n",
    "    i += 1\n",
    "    if i == 7: break"
   ]
  },
  {
   "cell_type": "code",
   "execution_count": 41,
   "id": "b4eeda7f",
   "metadata": {
    "slideshow": {
     "slide_type": "fragment"
    }
   },
   "outputs": [
    {
     "name": "stdout",
     "output_type": "stream",
     "text": [
      "40\n",
      "41\n",
      "42\n",
      "43\n",
      "44\n",
      "45\n",
      "46\n",
      "47\n",
      "48\n",
      "49\n",
      "50\n"
     ]
    }
   ],
   "source": [
    "# Pulando uma iteração do laço while\n",
    "i = 0\n",
    "while i < 50:\n",
    "    i += 1\n",
    "    if (i < 40): continue\n",
    "    print(i)"
   ]
  }
 ],
 "metadata": {
  "kernelspec": {
   "display_name": "Python 3 (ipykernel)",
   "language": "python",
   "name": "python3"
  },
  "language_info": {
   "codemirror_mode": {
    "name": "ipython",
    "version": 3
   },
   "file_extension": ".py",
   "mimetype": "text/x-python",
   "name": "python",
   "nbconvert_exporter": "python",
   "pygments_lexer": "ipython3",
   "version": "3.10.4"
  },
  "latex_envs": {
   "LaTeX_envs_menu_present": true,
   "autoclose": true,
   "autocomplete": true,
   "bibliofile": "biblio.bib",
   "cite_by": "apalike",
   "current_citInitial": 1,
   "eqLabelWithNumbers": true,
   "eqNumInitial": 1,
   "hotkeys": {
    "equation": "Ctrl-E",
    "itemize": "Ctrl-I"
   },
   "labels_anchors": false,
   "latex_user_defs": false,
   "report_style_numbering": false,
   "user_envs_cfg": false
  }
 },
 "nbformat": 4,
 "nbformat_minor": 5
}
