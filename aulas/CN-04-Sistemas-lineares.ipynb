{
 "cells": [
  {
   "cell_type": "markdown",
   "id": "3944a8bc",
   "metadata": {},
   "source": [
    "# Sistemas lineares"
   ]
  },
  {
   "cell_type": "markdown",
   "id": "26a0ead7",
   "metadata": {},
   "source": [
    "https://sites.google.com/view/projetoclculonumricoparatodos/m3?authuser=0"
   ]
  },
  {
   "cell_type": "markdown",
   "id": "f005b30e",
   "metadata": {},
   "source": [
    "Veremos nesta parte a resolução de problemas que podem ser formulados da seguinte forma:\n",
    "\n",
    "\\begin{equation}\n",
    "\\begin{aligned}\n",
    "f_1(x_1, x_2, \\ldots, x_n) &= 0 \\\\\n",
    "f_2(x_1, x_2, \\ldots, x_n) &= 0 \\\\\n",
    "\\vdots \\\\\n",
    "f_n(x_1, x_2, \\ldots, x_n) &= 0 \\\\\n",
    "\\end{aligned}\n",
    "\\end{equation}\n",
    "\n",
    "chamadas de sistemas de equações."
   ]
  },
  {
   "cell_type": "markdown",
   "id": "56350de6",
   "metadata": {},
   "source": [
    "Inicialmente vamos nos concentrar na solução de equações algébricas lineares, ou seja, sistemas que tenham a forma geral:\n",
    "\n",
    "\\begin{equation}\n",
    "\\begin{aligned}\n",
    " a_{11}x_1 + a_{12}x_2 + \\ldots + a_{1n}x_n &= b_1 \\\\\n",
    " a_{21}x_1 + a_{22}x_2 + \\ldots + a_{2n}x_n &= b_2 \\\\\n",
    " \\vdots \\\\\n",
    " a_{n1}x_1 + a_{n2}x_2 + \\ldots + a_{nn}x_n &= b_n \\\\\n",
    "\\end{aligned}\n",
    "\\end{equation}\n",
    "\n",
    "Para simplificar a notação, utilizaremos matrizes e vetores para representar sistemas de equações.\n",
    "Assim, definindo:\n",
    "\n",
    "$\n",
    "A = \\begin{bmatrix}\n",
    "a_{11} & a_{12} & \\ldots & a_{1n} \\\\\n",
    "a_{21} & a_{22} & \\ldots & a_{2n} \\\\\n",
    "\\vdots \\\\\n",
    "a_{n1} & a_{n2} & \\ldots & a_{nn} \n",
    "\\end{bmatrix}\n",
    "$ como sendo a matriz de coeficientes,\n",
    "\n",
    "$\n",
    "x = \\begin{bmatrix}\n",
    "x_1 \\\\\n",
    "x_2 \\\\\n",
    "\\vdots \\\\\n",
    "x_n\n",
    "\\end{bmatrix}\n",
    "$ o vetor de incognitas\n",
    "\n",
    "e\n",
    "\n",
    "$\n",
    "b = \\begin{bmatrix}\n",
    "b_1 \\\\\n",
    "b_2 \\\\\n",
    "\\vdots \\\\\n",
    "b_n\n",
    "\\end{bmatrix}\n",
    "$ o vetor de constantes.\n",
    "\n",
    "Podemos escrever nosso sistema como:\n",
    "\n",
    "\\begin{equation}\n",
    "Ax = b\n",
    "\\end{equation}\n",
    "\n"
   ]
  },
  {
   "cell_type": "markdown",
   "id": "a514cc9b",
   "metadata": {},
   "source": [
    "Podemos determinar o vetor de incognitas fazendo:\n",
    "\n",
    "\\begin{equation}\n",
    "x = A^{-1}b\n",
    "\\end{equation},\n",
    "\n",
    "onde $A^{-1}$ é a matriz inversa de $A$"
   ]
  },
  {
   "cell_type": "markdown",
   "id": "dc070db4",
   "metadata": {},
   "source": [
    "## Exemplo\n",
    "\n",
    "Vamos resolver o seguinte sistema de equações:\n",
    "\n",
    "$\n",
    "A = \\begin{bmatrix} 2 & 4 \\\\\n",
    "3 & -1\n",
    "\\end{bmatrix}\n",
    "$\n",
    "\n",
    "e\n",
    "\n",
    "$\n",
    "b = \\begin{bmatrix} 0 \\\\ 2 \\end{bmatrix}\n",
    "$"
   ]
  },
  {
   "cell_type": "code",
   "execution_count": 20,
   "id": "2b80801e",
   "metadata": {},
   "outputs": [
    {
     "data": {
      "text/plain": [
       "array([ 1.5, -0.5])"
      ]
     },
     "execution_count": 20,
     "metadata": {},
     "output_type": "execute_result"
    }
   ],
   "source": [
    "import numpy as np\n",
    "A = np.array([[2, 4], [3, 1]])\n",
    "b = np.array([1, 4])\n",
    "np.linalg.solve(A,b)"
   ]
  },
  {
   "cell_type": "markdown",
   "id": "32f9e429",
   "metadata": {},
   "source": [
    "## Exemplo 2"
   ]
  },
  {
   "cell_type": "markdown",
   "id": "7b81e55f",
   "metadata": {},
   "source": [
    "<img src=\"figuras/sistemas_lineares_exemplo1.svg\" width=\"500\"/>"
   ]
  },
  {
   "cell_type": "markdown",
   "id": "3593a2ed",
   "metadata": {},
   "source": [
    "Fonte: https://www.engquimicasantossp.com.br/2015/06/balanco-de-massa-balanco-material.html\n",
    "\n",
    "Em uma coluna trabalhando em regime permanente destilam-se 1000 kg/h de uma mistura composta por 50% em peso de benzeno e 50% de tolueno. O destilado que sai da coluna é composto por 90% em peso de benzeno, e o resíduo que sai da coluna é composto por 8% em peso de benzeno. \n",
    "Determine a massa do destilado ($M_D$) e do resíduo ($M_R$)"
   ]
  },
  {
   "cell_type": "markdown",
   "id": "284de236",
   "metadata": {},
   "source": [
    "## Resolução:\n",
    "\n",
    "O balanço de massa consiste em uma descrição dos fluxos de massa de entrada e saída de um processo, baseado na lei de conservação de massa, e pode ser expresso como:\n",
    "\n",
    "\\begin{equation}\n",
    "\\sum \\text{Entrada} = \\sum \\text{Acúmulo} + \\sum \\text{Saída}\n",
    "\\end{equation}\n",
    "\n",
    "Considerando um processo operando em regime permanente, temos que o acúmulo é zero e o balanço se torna:\n",
    "\n",
    "\\begin{equation}\n",
    "\\sum \\text{Entrada} = \\sum \\text{Saída}\n",
    "\\end{equation}\n",
    "\n",
    "Aplicando o balanço de massa para o benzeno, temos que:\n",
    "\n",
    "\\begin{equation}\n",
    "0,5M_A = 0,9M_D + 0,08M_R\n",
    "\\end{equation}\n",
    "\n",
    "Aplicando o balanço de massa para o tolueno, temos que:\n",
    "\n",
    "\\begin{equation}\n",
    "0,5M_A = 0,1M_D + 0,92M_R\n",
    "\\end{equation}\n",
    "\n",
    "Transformando o problema em um sistema de equações, ele se torna:\n",
    "\n",
    "$\n",
    "A = \\begin{bmatrix} 0,9 & 0,08 \\\\\n",
    "0,1 & 0,92\n",
    "\\end{bmatrix}\n",
    "$\n",
    "\n",
    "$\n",
    "x = \\begin{bmatrix} M_D \\\\\n",
    "M_R\n",
    "\\end{bmatrix}\n",
    "$\n",
    "e\n",
    "\n",
    "$\n",
    "b = \\begin{bmatrix} 0,5M_A \\\\ 0,5M_A \\end{bmatrix}\n",
    "$"
   ]
  },
  {
   "cell_type": "code",
   "execution_count": 2,
   "id": "60d75418",
   "metadata": {},
   "outputs": [
    {
     "data": {
      "text/plain": [
       "array([512.19512195, 487.80487805])"
      ]
     },
     "execution_count": 2,
     "metadata": {},
     "output_type": "execute_result"
    }
   ],
   "source": [
    "import numpy as np\n",
    "MA = 1000\n",
    "A = np.array([[0.9, 0.08], [0.1, 0.92] ])\n",
    "b = np.array([0.5*MA,0.5*MA])\n",
    "np.linalg.solve(A,b)"
   ]
  },
  {
   "cell_type": "markdown",
   "id": "2a5640f1",
   "metadata": {},
   "source": [
    "## Exemplo 3"
   ]
  },
  {
   "cell_type": "markdown",
   "id": "94c2fe39",
   "metadata": {},
   "source": [
    "Uma equação química balanceada é aquela onde o número de cada átomo nos reagentes é igual nos produtos.\n",
    "Por exemplo, a reação $2H_2 + O_2 \\rightarrow 2H_2O$ encontra-se na forma balanceada.\n",
    "\n",
    "Encontre o balanceamento mínimo para a seguinte equação:\n",
    "\n",
    "$\n",
    "C_5H_{11}OH + O_2 \\rightarrow H_2O + CO_2\n",
    "$"
   ]
  },
  {
   "cell_type": "markdown",
   "id": "2c5ff940",
   "metadata": {},
   "source": [
    "## Solução:\n",
    "\n",
    "O vetor de incógnitas será descrito usando a equação $X\\cdot C_5H_{11}OH + Y\\cdot O_2 - Z\\cdot H_2O - W\\cdot CO_2 = 0$.\n",
    "\n",
    "Assim teremos para o carbono:\n",
    "\n",
    "$\n",
    "5X - W = 0\n",
    "$\n",
    "\n",
    "Para o hidrogênio:\n",
    "\n",
    "$\n",
    "12X - 2Z  = 0\n",
    "$\n",
    "\n",
    "e para o oxigênio:\n",
    "\n",
    "$\n",
    "X + 2Y - Z -2W = 0\n",
    "$\n",
    "\n",
    "e o vetor de incógnitas será:\n",
    "\n",
    "$\n",
    "x = \\begin{bmatrix} X \\\\ Y \\\\ Z \\\\ W \\end{bmatrix}\n",
    "$\n",
    "\n",
    "Observe que temos 3 equações e 4 incógnitas.\n",
    "Isto ocorre porque qualquer múltiplo da solução encontrada também satisfaz o sistema.\n",
    "Podemos então arbitrar um valor para uma das variáveis e depois ajustar o resultado de forma a obter valores inteiros.\n",
    "\n",
    "Neste exemplo, vamos fazer $W = 1$ e o nosso sistema ficará como:\n",
    "\n",
    "\\begin{aligned}\n",
    "5X = 1 \\\\\n",
    "12X - 2Z = 0 \\\\\n",
    "X + 2Y - Z = 2\n",
    "\\end{aligned}\n",
    "\n",
    "e as matrizes correspondentes serão:\n",
    "\n",
    "$\n",
    "A = \\begin{bmatrix}\n",
    "5 &  0 & 0 \\\\\n",
    "12 & 0 & -2 \\\\\n",
    "1 & 2 & -1\n",
    "\\end{bmatrix}\n",
    "$\n",
    "\n",
    "$\n",
    "b = \\begin{bmatrix} 1 \\\\ 0 \\\\ 2 \\end{bmatrix}\n",
    "$"
   ]
  },
  {
   "cell_type": "code",
   "execution_count": 5,
   "id": "e229eed9",
   "metadata": {},
   "outputs": [
    {
     "data": {
      "text/plain": [
       "array([ 2., 15., 12.])"
      ]
     },
     "execution_count": 5,
     "metadata": {},
     "output_type": "execute_result"
    }
   ],
   "source": [
    "import numpy as np\n",
    "A = np.array([[5, 0, 0], [12, 0, -2], [1, 2, -1]])\n",
    "b = np.array([1,0,2])\n",
    "10*np.linalg.solve(A,b) "
   ]
  },
  {
   "cell_type": "markdown",
   "id": "e16e1103",
   "metadata": {},
   "source": [
    "## Exemplo 4"
   ]
  },
  {
   "cell_type": "markdown",
   "id": "f0f678f7",
   "metadata": {},
   "source": [
    "<img src=\"figuras/sistemas_lineares_exemplo2.svg\" width=\"300\"/>"
   ]
  },
  {
   "cell_type": "markdown",
   "id": "06d49ecd",
   "metadata": {},
   "source": [
    "Considere uma rede composta por 3 nós, $A$, $B$ e $C$.\n",
    "Em cada um dos nós temos fluxos entrando e/ou saindo, conforme figura acima.\n",
    "Determine os fluxos desconhecidos ($f_1$, $f_2$ e $f_3$) para o problema acima."
   ]
  },
  {
   "cell_type": "markdown",
   "id": "7b1d1e5d",
   "metadata": {},
   "source": [
    "## Solução\n",
    "\n",
    "Podemos escrever para cada nó uma equação contendo os fluxos que entram e os fluxos que saem:\n",
    "\n",
    "Para o nó A:\n",
    "\n",
    "$\n",
    "10 + 5 = f_1 + f_2\n",
    "$\n",
    "\n",
    "Para o nó B:\n",
    "\n",
    "$\n",
    "f_1 = 10 + 3\n",
    "$\n",
    "\n",
    "e para o nó C:\n",
    "\n",
    "$\n",
    "f_2 + 3 + 5 = f_3\n",
    "$\n",
    "\n",
    "De forma mais compacta, podemos representar o problema como:\n",
    "\n",
    "\\begin{aligned}\n",
    "f_1 + f_2 = 15 \\\\\n",
    "f_1 = 13 \\\\\n",
    "f_2 - f_3 = -8 \\\\\n",
    "\\end{aligned}\n",
    "\n",
    "o que nos leva às matrizes:\n",
    "\n",
    "$\n",
    "A = \n",
    "\\begin{bmatrix}\n",
    "1 & 1 & 0 \\\\\n",
    "1 & 0 & 0 \\\\\n",
    "0 & 1 & -1 \n",
    "\\end{bmatrix}\n",
    "$\n",
    "\n",
    "e\n",
    "\n",
    "$\n",
    "b = \n",
    "\\begin{bmatrix}\n",
    "15 \\\\ 13 \\\\ -8\n",
    "\\end{bmatrix}\n",
    "$\n"
   ]
  },
  {
   "cell_type": "code",
   "execution_count": 9,
   "id": "eb85eef3",
   "metadata": {},
   "outputs": [
    {
     "data": {
      "text/plain": [
       "array([13.,  2., 10.])"
      ]
     },
     "execution_count": 9,
     "metadata": {},
     "output_type": "execute_result"
    }
   ],
   "source": [
    "import numpy as np\n",
    "A = np.array([[1, 1, 0], [1, 0, 0], [0, 1, -1]])\n",
    "b = np.array([15,13,-8])\n",
    "np.linalg.solve(A,b)"
   ]
  },
  {
   "cell_type": "markdown",
   "id": "6b3e5aef",
   "metadata": {},
   "source": [
    "## Gauss"
   ]
  },
  {
   "cell_type": "markdown",
   "id": "c81018c2",
   "metadata": {},
   "source": [
    "Vamos considerar a matriz aumentada, concatenando a matriz A com o vetor b:\n",
    "\n",
    "$\n",
    "Ab = \\begin{bmatrix}\n",
    "a_{11} & a_{12} & \\ldots & a_{1n} & b_1 \\\\\n",
    "a_{21} & a_{22} & \\ldots & a_{2n} & b_2 \\\\\n",
    "\\vdots \\\\\n",
    "a_{n1} & a_{n2} & \\ldots & a_{nn} & b_n \n",
    "\\end{bmatrix}\n",
    "$\n",
    "\n",
    "e vamos considerar uma linha qualquer:\n",
    "\n",
    "$[a_i] = \\begin{bmatrix}\n",
    "a_{i1} & a_{i2} & \\ldots & a_{in} & b_i \\end{bmatrix}$\n",
    "\n",
    "O método de Eliminação de Gauss se baseia na propriedade de que, se trocarmos a linha $i$ por:\n",
    "\n",
    "$[a'_i] = [a_i] + c[a_j]$\n",
    "\n",
    "a nova matriz continua tendo a mesma resposta que a matriz anterior."
   ]
  },
  {
   "cell_type": "markdown",
   "id": "acf07fd1",
   "metadata": {},
   "source": [
    "Com base nesta propriedade, é possível achar uma matriz equivalente contendo zeros em todos os elementos da primeira coluna abaixo do elemento $a_{11}$:\n",
    "\n",
    "$\n",
    "Ab' = \\begin{bmatrix}\n",
    "a_{11} & a_{12} & a'_{13} & \\ldots & a_{1n} & b_1 \\\\\n",
    "0 & a'_{22} & a'_{23} & \\ldots & a'_{2n} & b'_2 \\\\\n",
    "0 & a'_{32} & a'_{33} & \\ldots & a'_{3n} & b'_3 \\\\\n",
    "\\vdots \\\\\n",
    "0 & a'_{n2} & a'_{n3} &\\ldots & a'_{nn} & b'_n \n",
    "\\end{bmatrix}\n",
    "$\n",
    "\n",
    "Para isso, basta escolhermos o valor $c_i = -a_{i1}/a_{11}$ e realizarmos a operação:\n",
    "\n",
    "$[a'_i] = [a_i] + c_i[a_1]$ para todas as linhas a partir da segunda.\n",
    "\n",
    "Para zerarmos a segunda coluna, escolhemos o elemento $a'_{22}$ como pivô e o valor de $c_i$ é dado por $c_i = -a'_{i2}/a'_{22}$.\n",
    "\n",
    "$\n",
    "Ab' = \\begin{bmatrix}\n",
    "a_{11} & a_{12} & a'_{13} & \\ldots & a_{1n} & b_1 \\\\\n",
    "0 & a'_{22} & a'_{23} & \\ldots & a'_{2n} & b'_2 \\\\\n",
    "0 & 0 & a''_{33} & \\ldots & a''_{3n} & b''_3 \\\\\n",
    "\\vdots \\\\\n",
    "0 & 0 & a''_{n3} &\\ldots & a''_{nn} & b''_n \n",
    "\\end{bmatrix}\n",
    "$\n",
    "\n",
    "Realizando esta operação, obtemos uma matriz triangular superior conforme abaixo (omitimos o índice superior, por simplicidade):\n",
    "\n",
    "$\n",
    "Ab' = \\begin{bmatrix}\n",
    "a_{11} & a_{12} & a'_{13} & \\ldots & a_{1n} & b_1 \\\\\n",
    "0 & a'_{22} & a'_{23} & \\ldots & a'_{2n} & b'_2 \\\\\n",
    "0 & 0 & a'_{33} & \\ldots & a'_{3n} & b'_3 \\\\\n",
    "\\vdots \\\\\n",
    "0 & 0 & 0 &\\ldots & a'_{nn} & b'_n \n",
    "\\end{bmatrix}\n",
    "$\n"
   ]
  },
  {
   "cell_type": "markdown",
   "id": "b68d1b4c",
   "metadata": {},
   "source": [
    "Em seguida, podemos avançar a partir da última linha para determinar os valores de $x$ usando a fórmula:\n",
    "\n",
    "$\n",
    "x_n = b'_n/a'_{nn}\n",
    "$ para o último elemento\n",
    "\n",
    "$\n",
    "x_i = \\dfrac{b'_i - \\sum\\limits_{j=i+1}^n a'_{ij}x_j}{a'_{ii}}\n",
    "$\n",
    "\n",
    "para os demais.\n"
   ]
  },
  {
   "cell_type": "code",
   "execution_count": 46,
   "id": "9dd8bff4",
   "metadata": {},
   "outputs": [
    {
     "name": "stdout",
     "output_type": "stream",
     "text": [
      "\n",
      " [[ 1.  3.  4. -4.]\n",
      " [ 2.  5.  1.  6.]\n",
      " [ 3.  6.  9. 12.]]\n",
      "\n",
      " [[ 1.  3.  4. -4.]\n",
      " [ 0. -1. -7. 14.]\n",
      " [ 3.  6.  9. 12.]]\n",
      "\n",
      " [[ 1.  3.  4. -4.]\n",
      " [ 0. -1. -7. 14.]\n",
      " [ 0. -3. -3. 24.]]\n",
      "\n",
      " [[  1.   3.   4.  -4.]\n",
      " [  0.  -1.  -7.  14.]\n",
      " [  0.   0.  18. -18.]]\n"
     ]
    }
   ],
   "source": [
    "import numpy as np\n",
    "np.set_printoptions(suppress=True)\n",
    "A = np.array([[1.0, 3, 4] , [2, 5, 1], [3, 6, 9]])\n",
    "b = np.array([[-4, 6, 12]]).T\n",
    "\n",
    "Ab = np.concatenate((A, b), axis=1)\n",
    "print('\\n',Ab)\n",
    "\n",
    "PIVO = 0\n",
    "\n",
    "LIN = 1\n",
    "C = -Ab[LIN,PIVO]/Ab[PIVO,PIVO]\n",
    "Ab[LIN,:] = Ab[LIN,:] + C*Ab[PIVO,:] \n",
    "print('\\n',Ab)\n",
    "\n",
    "LIN = 2\n",
    "C = -Ab[LIN,PIVO]/Ab[PIVO,PIVO]\n",
    "Ab[LIN,:] = Ab[LIN,:] + C*Ab[PIVO,:] \n",
    "print('\\n',Ab)\n",
    "\n",
    "PIVO = 1\n",
    "\n",
    "LIN = 2\n",
    "C = -Ab[LIN,PIVO]/Ab[PIVO,PIVO]\n",
    "Ab[LIN,:] = Ab[LIN,:] + C*Ab[PIVO,:] \n",
    "print('\\n',Ab)"
   ]
  },
  {
   "cell_type": "markdown",
   "id": "abb8a8e2",
   "metadata": {},
   "source": [
    "Em seguida, podemos calcular os valores de $x_i$ usando a fórmula:\n",
    "\n",
    "$\n",
    "x_i = \\dfrac{b'_i - \\sum\\limits_{j=i+1}^n a'_{ij}x_j}{a'_{ii}}\n",
    "$"
   ]
  },
  {
   "cell_type": "code",
   "execution_count": 18,
   "id": "b7e4a05a",
   "metadata": {},
   "outputs": [
    {
     "name": "stdout",
     "output_type": "stream",
     "text": [
      "[21. -7. -1.]\n",
      "[[21.]\n",
      " [-7.]\n",
      " [-1.]]\n"
     ]
    }
   ],
   "source": [
    "n = np.shape(A)[0]\n",
    "x = np.zeros(n)\n",
    "for i in reversed(range(n)):\n",
    "    b_i = Ab[i,n]\n",
    "    a_ii = Ab[i,i]\n",
    "    soma = np.dot(Ab[i,i+1:n], x[i+1:n])\n",
    "    #s = 0\n",
    "    #for j in range(i+1,n):\n",
    "    #    s += Ab[i,j]*x[j]\n",
    "    x[i] = (b_i - soma)/a_ii\n",
    "print(x)\n",
    "\n",
    "# Comparando com o resultado obtido pela função existente no python:\n",
    "r = np.linalg.solve(A,b)\n",
    "print(r)"
   ]
  },
  {
   "cell_type": "markdown",
   "id": "2567717d",
   "metadata": {},
   "source": [
    "Vamos agora juntar o código em uma única função:"
   ]
  },
  {
   "cell_type": "code",
   "execution_count": null,
   "id": "ec47dad7",
   "metadata": {},
   "outputs": [],
   "source": [
    "def gauss(A, b):\n",
    "    n = np.shape(A)[0]\n",
    "    Ab = np.concatenate((A, b), axis=1)\n",
    "\n",
    "    for PIVO in range(n):\n",
    "        for LIN in range(PIVO+1, n):\n",
    "            C = -Ab[LIN,PIVO]/Ab[PIVO,PIVO]\n",
    "            Ab[LIN,:] = Ab[LIN,:] + C*Ab[PIVO,:]\n",
    "\n",
    "    x = np.zeros(n)\n",
    "    for i in reversed(range(n)):\n",
    "        b_i = Ab[i,n]\n",
    "        a_ii = Ab[i,i]\n",
    "        soma = np.dot(Ab[i,i+1:n], x[i+1:n])\n",
    "        x[i] = (b_i - soma)/a_ii\n",
    "    return x\n",
    "\n",
    "gauss(A,b)"
   ]
  },
  {
   "cell_type": "markdown",
   "id": "1338624f",
   "metadata": {},
   "source": [
    "Resolva o seguinte sistema linear:\n",
    "\n",
    "$\n",
    "\\begin{bmatrix}\n",
    "10^{-17} & 1 \\\\ 1 & 1\n",
    "\\end{bmatrix}\n",
    "\\begin{bmatrix}\n",
    "x_1 \\\\ x_2\n",
    "\\end{bmatrix}\n",
    "=\n",
    "\\begin{bmatrix} 1 \\\\ 2 \\end{bmatrix}\n",
    "$"
   ]
  },
  {
   "cell_type": "markdown",
   "id": "d39a0b11",
   "metadata": {},
   "source": [
    "Resposta analítica:\n",
    "\n",
    "\\begin{aligned}\n",
    "x_1 = 1 + \\dfrac{1}{10^{17}-1}  \\\\ \n",
    "x_2 = 1 - \\dfrac{1}{10^{17}-1}  \n",
    "\\end{aligned}\n"
   ]
  },
  {
   "cell_type": "code",
   "execution_count": 89,
   "id": "e2581593",
   "metadata": {},
   "outputs": [
    {
     "name": "stdout",
     "output_type": "stream",
     "text": [
      "[0.00000000000000000000 1.00000000000000000000]\n",
      "[[1.00000000000000000000 1.00000000000000000000]]\n"
     ]
    }
   ],
   "source": [
    "np.set_printoptions(precision=20,floatmode='fixed')\n",
    "A1 = np.array([[10**(-17), 1], [1,1]])\n",
    "b1 = np.array([[1,2]]).T\n",
    "print(gauss(A1,b1))\n",
    "print(np.linalg.solve(A1, b1).T)"
   ]
  },
  {
   "cell_type": "markdown",
   "id": "10dc3ede",
   "metadata": {},
   "source": [
    "## Eliminação de Gaus com pivoteamento parcial"
   ]
  },
  {
   "cell_type": "code",
   "execution_count": 45,
   "id": "ea1ce973",
   "metadata": {},
   "outputs": [
    {
     "data": {
      "text/plain": [
       "array([ 4.,  8., -2.])"
      ]
     },
     "execution_count": 45,
     "metadata": {},
     "output_type": "execute_result"
    }
   ],
   "source": [
    "def gauss_pivoteamento(A, b):\n",
    "    n = np.shape(A)[0]\n",
    "    Ab = np.concatenate((A, b), axis=1)\n",
    "\n",
    "    for PIVO in range(n):\n",
    "        amax = np.argmax(abs(Ab[PIVO:,PIVO]))\n",
    "        \n",
    "        if amax != 0:\n",
    "            # trocando 2 linha de posicao:\n",
    "            Ab[np.array([PIVO,amax+PIVO])] = Ab[np.array([amax+PIVO,PIVO])]\n",
    "        \n",
    "        for LIN in range(PIVO+1, n):            \n",
    "            C = -Ab[LIN,PIVO]/Ab[PIVO,PIVO]\n",
    "            Ab[LIN,:] = Ab[LIN,:] + C*Ab[PIVO,:]\n",
    "\n",
    "    x = np.zeros(n)\n",
    "    for i in reversed(range(n)):\n",
    "        b_i = Ab[i,n]\n",
    "        a_ii = Ab[i,i]\n",
    "        soma = np.dot(Ab[i,i+1:n], x[i+1:n])\n",
    "        x[i] = (b_i - soma)/a_ii\n",
    "    return x\n",
    "\n",
    "A = np.array([[2.0, -6.0, -1.0] , [-3.0, -1.0, 7.0], [-8.0, 1.0, -2.0]])\n",
    "b = np.array([[-38, -34, -20]]).T\n",
    "\n",
    "gauss_pivoteamento(A,b)\n",
    "#np.linalg.solve(A,b)"
   ]
  },
  {
   "cell_type": "code",
   "execution_count": 90,
   "id": "d9ea3e17",
   "metadata": {},
   "outputs": [
    {
     "name": "stdout",
     "output_type": "stream",
     "text": [
      "[1.00000000000000000000 1.00000000000000000000]\n",
      "[[1.00000000000000000000 1.00000000000000000000]]\n"
     ]
    }
   ],
   "source": [
    "np.set_printoptions(precision=20,floatmode='fixed')\n",
    "A1 = np.array([[10**(-17), 1], [1,1]])\n",
    "b1 = np.array([[1,2]]).T\n",
    "print(gauss_pivoteamento(A1,b1))\n",
    "print(np.linalg.solve(A1, b1).T)"
   ]
  }
 ],
 "metadata": {
  "kernelspec": {
   "display_name": "Python 3 (ipykernel)",
   "language": "python",
   "name": "python3"
  },
  "language_info": {
   "codemirror_mode": {
    "name": "ipython",
    "version": 3
   },
   "file_extension": ".py",
   "mimetype": "text/x-python",
   "name": "python",
   "nbconvert_exporter": "python",
   "pygments_lexer": "ipython3",
   "version": "3.10.4"
  },
  "latex_envs": {
   "LaTeX_envs_menu_present": true,
   "autoclose": true,
   "autocomplete": false,
   "bibliofile": "biblio.bib",
   "cite_by": "apalike",
   "current_citInitial": 1,
   "eqLabelWithNumbers": true,
   "eqNumInitial": 1,
   "hotkeys": {
    "equation": "Ctrl-E",
    "itemize": "Ctrl-I"
   },
   "labels_anchors": false,
   "latex_user_defs": false,
   "report_style_numbering": false,
   "user_envs_cfg": false
  }
 },
 "nbformat": 4,
 "nbformat_minor": 5
}
