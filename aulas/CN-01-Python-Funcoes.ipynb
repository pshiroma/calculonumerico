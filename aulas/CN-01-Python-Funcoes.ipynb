{
 "cells": [
  {
   "cell_type": "markdown",
   "id": "4cffb68d",
   "metadata": {},
   "source": [
    "# Funções"
   ]
  },
  {
   "cell_type": "markdown",
   "id": "1783caec",
   "metadata": {},
   "source": [
    "Função é um conjunto de instruções que recebe um nome e pode ser chamado de qualquer lugar no código.\n",
    "\n",
    "Funções são utilizadas para manter o código mais legível, flexível e fácil de manter.\n",
    "\n",
    "No Python, você pode criar suas próprias funções ou executar funções já existentes. "
   ]
  },
  {
   "cell_type": "markdown",
   "id": "256c37a0",
   "metadata": {},
   "source": [
    "# Bibliotecas"
   ]
  },
  {
   "cell_type": "markdown",
   "id": "ba640c1c",
   "metadata": {},
   "source": [
    "Para executar uma função definida em um módulo externo, utilizamos o comando `import`\n",
    "\n",
    "Para acessar a função, devemos usar a sintaxe `nome_do_modulo.nome_da_função(argumentos)`"
   ]
  },
  {
   "cell_type": "code",
   "execution_count": 2,
   "id": "9cf34348",
   "metadata": {},
   "outputs": [
    {
     "data": {
      "text/plain": [
       "-1.0"
      ]
     },
     "execution_count": 2,
     "metadata": {},
     "output_type": "execute_result"
    }
   ],
   "source": [
    "# Exemplo de utilização da função cosseno definida dentro do módulo math\n",
    "import math as m\n",
    "m.cos(m.pi)"
   ]
  },
  {
   "cell_type": "markdown",
   "id": "ff35631e",
   "metadata": {},
   "source": [
    "Caso você queira importar apenas uma única função dentro de um módulo, podemos utilizar o comando `from`.\n",
    "\n",
    "A sintaxe é `from nome_do_modulo import nome_da_funcao`.\n",
    "Neste caso, não é necessário colocar o prefixo para chamar a função"
   ]
  },
  {
   "cell_type": "code",
   "execution_count": 3,
   "id": "25574516",
   "metadata": {},
   "outputs": [
    {
     "data": {
      "text/plain": [
       "1.2246467991473532e-16"
      ]
     },
     "execution_count": 3,
     "metadata": {},
     "output_type": "execute_result"
    }
   ],
   "source": [
    "from math import sin\n",
    "sin(m.pi)"
   ]
  },
  {
   "cell_type": "markdown",
   "id": "df5d4ce9",
   "metadata": {},
   "source": [
    "É possível obter uma breve descrição da função usando o comando `help` ou o caracter `?`"
   ]
  },
  {
   "cell_type": "code",
   "execution_count": 10,
   "id": "59caaa16",
   "metadata": {},
   "outputs": [
    {
     "name": "stdout",
     "output_type": "stream",
     "text": [
      "Help on built-in function tan in module math:\n",
      "\n",
      "tan(x, /)\n",
      "    Return the tangent of x (measured in radians).\n",
      "\n"
     ]
    }
   ],
   "source": [
    "help(m.tan)"
   ]
  },
  {
   "cell_type": "code",
   "execution_count": 13,
   "id": "ee8fa612",
   "metadata": {},
   "outputs": [],
   "source": [
    "?m.atan2"
   ]
  },
  {
   "cell_type": "markdown",
   "id": "69766ea8",
   "metadata": {},
   "source": [
    "# Criando uma função"
   ]
  },
  {
   "cell_type": "markdown",
   "id": "326d3dc3",
   "metadata": {},
   "source": [
    "Para criarmos uma nova função, usamos a sintaxe a seguir:\n",
    "\n",
    "```python\n",
    "def nome_da_funcao():\n",
    "    comandos\n",
    "```\n",
    "\n",
    "Ao contrário de outras linguagens, onde o início e final da função são definidos por palavras chaves como `begin ... end` ou `{ }`, em Python o escopo das instruções que pertencem a uma função é definido pela indentação.\n",
    "\n",
    "Por exemplo, no código abaixo:\n",
    "\n",
    "```python\n",
    "def nome_da_funcao():\n",
    "    instrucao1\n",
    "    instrucao2\n",
    "instrucao3\n",
    "```\n",
    "\n",
    "as instruções 1 e 2 estão dentro da função, enquanto que a instrução 3 está fora dela."
   ]
  },
  {
   "cell_type": "markdown",
   "id": "f126adde",
   "metadata": {},
   "source": [
    "Em seguida, para utilizarmos a função, basta chamarmos pelo seu nome:\n",
    "\n",
    "`nome_da_funcao()`"
   ]
  },
  {
   "cell_type": "code",
   "execution_count": 54,
   "id": "86da5240",
   "metadata": {},
   "outputs": [],
   "source": [
    "# Exemplo de criacao de uma funcao:\n",
    "def exemplo_de_funcao():\n",
    "    print('Hello world!')"
   ]
  },
  {
   "cell_type": "code",
   "execution_count": 16,
   "id": "cf257849",
   "metadata": {},
   "outputs": [
    {
     "name": "stdout",
     "output_type": "stream",
     "text": [
      "Hello world!\n"
     ]
    }
   ],
   "source": [
    "# Chamando a função definida acima:\n",
    "exemplo_de_funcao()"
   ]
  },
  {
   "cell_type": "markdown",
   "id": "18ad7eba",
   "metadata": {},
   "source": [
    "Para criarmos a documentação da função, inserimos um texto entre 3 aspas logo no início da função: \n",
    "\n",
    "```python\n",
    "def nome_da_funcao():\n",
    "    '''\n",
    "    Texto que irá aparecer quando você entrar com o comando help(nome_da_funcao)\n",
    "    '''\n",
    "    instrucao1\n",
    "    instrucao2\n",
    "instrucao3\n",
    "```"
   ]
  },
  {
   "cell_type": "code",
   "execution_count": 55,
   "id": "30e1ccc1",
   "metadata": {},
   "outputs": [],
   "source": [
    "# Exemplo de criacao de uma funcao com o texto de help:\n",
    "def exemplo_de_funcao2():\n",
    "    \"\"\"\n",
    "    Esta função imprime o texto Hello world na tela\n",
    "    \"\"\"\n",
    "    print('Hello world!')"
   ]
  },
  {
   "cell_type": "code",
   "execution_count": 56,
   "id": "d2c6821e",
   "metadata": {},
   "outputs": [
    {
     "name": "stdout",
     "output_type": "stream",
     "text": [
      "Help on function exemplo_de_funcao2 in module __main__:\n",
      "\n",
      "exemplo_de_funcao2()\n",
      "    Esta função imprime o texto Hello world na tela\n",
      "\n"
     ]
    }
   ],
   "source": [
    "help(exemplo_de_funcao2)"
   ]
  },
  {
   "cell_type": "markdown",
   "id": "96101768",
   "metadata": {},
   "source": [
    "## Parâmetros de entrada"
   ]
  },
  {
   "cell_type": "markdown",
   "id": "ad242a59",
   "metadata": {},
   "source": [
    "Uma função pode receber um ou mais parâmetros de entrada:\n",
    "\n",
    "```python\n",
    "def nome_da_funcao(parametro1, parametro2, etc):\n",
    "    instrucoes\n",
    "```"
   ]
  },
  {
   "cell_type": "code",
   "execution_count": 19,
   "id": "c68bf797",
   "metadata": {},
   "outputs": [],
   "source": [
    "# Exemplo de funcao com 1 parâmetro de entrada:\n",
    "def quadrado(numero):\n",
    "    quad = numero**2\n",
    "    print('O quadrado de', numero, 'é', quad)"
   ]
  },
  {
   "cell_type": "code",
   "execution_count": 18,
   "id": "6082298a",
   "metadata": {},
   "outputs": [
    {
     "name": "stdout",
     "output_type": "stream",
     "text": [
      "O quadrado de  4 é 16\n"
     ]
    }
   ],
   "source": [
    "quadrado(4)"
   ]
  },
  {
   "cell_type": "code",
   "execution_count": 58,
   "id": "79ef2dec",
   "metadata": {},
   "outputs": [],
   "source": [
    "# Exemplo de funcao com 2 parâmetros de entrada:\n",
    "def imc(peso, altura):\n",
    "    '''\n",
    "    Calcula e imprime o IMC (índice de massa corporal)\n",
    "    '''\n",
    "    imc = peso/(altura*altura)\n",
    "    print(f'Seu imc é de {imc:.2f}')"
   ]
  },
  {
   "cell_type": "code",
   "execution_count": 59,
   "id": "bd2454ff",
   "metadata": {},
   "outputs": [
    {
     "name": "stdout",
     "output_type": "stream",
     "text": [
      "Seu imc é de 24.22\n"
     ]
    }
   ],
   "source": [
    "imc(70, 1.7)"
   ]
  },
  {
   "cell_type": "markdown",
   "id": "17db3771",
   "metadata": {},
   "source": [
    "## Valor de retorno"
   ]
  },
  {
   "cell_type": "markdown",
   "id": "5bbb06b2",
   "metadata": {},
   "source": [
    "Uma função pode retornar um ou mais valores como resposta:\n",
    "\n",
    "```python\n",
    "\n",
    "def nome_da_funcao():\n",
    "    return alguma_coisa\n",
    "```"
   ]
  },
  {
   "cell_type": "code",
   "execution_count": 61,
   "id": "8fa63719",
   "metadata": {},
   "outputs": [],
   "source": [
    "# Exemplo de funcao com retorno\n",
    "def fatorial(n):\n",
    "    '''\n",
    "    Calcula o fatorial de um número: n! = 1*2* ... *n\n",
    "    '''\n",
    "    fat = 1\n",
    "    for i in range(1,n+1):\n",
    "        fat *= i\n",
    "    return fat"
   ]
  },
  {
   "cell_type": "code",
   "execution_count": 36,
   "id": "2664d334",
   "metadata": {},
   "outputs": [
    {
     "data": {
      "text/plain": [
       "3628800"
      ]
     },
     "execution_count": 36,
     "metadata": {},
     "output_type": "execute_result"
    }
   ],
   "source": [
    "fatorial(10)"
   ]
  },
  {
   "cell_type": "markdown",
   "id": "7dc13f35",
   "metadata": {},
   "source": [
    "Também é possível retornar mais de 1 valor como resposta, separando-os por vírgulas."
   ]
  },
  {
   "cell_type": "code",
   "execution_count": 38,
   "id": "dce2b34f",
   "metadata": {},
   "outputs": [],
   "source": [
    "from random import randint"
   ]
  },
  {
   "cell_type": "code",
   "execution_count": 48,
   "id": "19a22adc",
   "metadata": {},
   "outputs": [],
   "source": [
    "def sorteia_ponto():\n",
    "    \"\"\"\n",
    "    Sorteia um ponto de coordenadas (x,y).\n",
    "    As coordenadas são geradas de forma aleatórias, e encontram-se no intervalo de 0 a 100\n",
    "    \"\"\"\n",
    "    x = randint(0,100)\n",
    "    y = randint(0,100)\n",
    "    return x,y"
   ]
  },
  {
   "cell_type": "code",
   "execution_count": 49,
   "id": "dc7d4310",
   "metadata": {},
   "outputs": [
    {
     "name": "stdout",
     "output_type": "stream",
     "text": [
      "Help on function sorteia_ponto in module __main__:\n",
      "\n",
      "sorteia_ponto()\n",
      "    Sorteia um ponto de coordenadas (x,y).\n",
      "    As coordenadas são geradas de forma aleatórias, e encontram-se no intervalo de 0 a 100\n",
      "\n"
     ]
    }
   ],
   "source": [
    "help(sorteia_ponto)"
   ]
  },
  {
   "cell_type": "code",
   "execution_count": 53,
   "id": "8c31fdf5",
   "metadata": {},
   "outputs": [
    {
     "name": "stdout",
     "output_type": "stream",
     "text": [
      "(94, 19)\n"
     ]
    }
   ],
   "source": [
    "p = sorteia_ponto()\n",
    "print(p)"
   ]
  }
 ],
 "metadata": {
  "kernelspec": {
   "display_name": "Python 3 (ipykernel)",
   "language": "python",
   "name": "python3"
  },
  "language_info": {
   "codemirror_mode": {
    "name": "ipython",
    "version": 3
   },
   "file_extension": ".py",
   "mimetype": "text/x-python",
   "name": "python",
   "nbconvert_exporter": "python",
   "pygments_lexer": "ipython3",
   "version": "3.10.4"
  },
  "latex_envs": {
   "LaTeX_envs_menu_present": true,
   "autoclose": true,
   "autocomplete": true,
   "bibliofile": "biblio.bib",
   "cite_by": "apalike",
   "current_citInitial": 1,
   "eqLabelWithNumbers": true,
   "eqNumInitial": 1,
   "hotkeys": {
    "equation": "Ctrl-E",
    "itemize": "Ctrl-I"
   },
   "labels_anchors": false,
   "latex_user_defs": false,
   "report_style_numbering": false,
   "user_envs_cfg": false
  }
 },
 "nbformat": 4,
 "nbformat_minor": 5
}
