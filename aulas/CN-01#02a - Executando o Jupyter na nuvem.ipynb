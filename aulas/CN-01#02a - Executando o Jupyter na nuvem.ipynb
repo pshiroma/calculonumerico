{
 "cells": [
  {
   "cell_type": "markdown",
   "id": "afda32ec",
   "metadata": {},
   "source": [
    "[Clonando o repositório do Github](https://youtu.be/zCpZhEmhdIo)\n",
    "\n",
    "[Iniciando o Jupyter a partir do Anaconda](https://youtu.be/NEmb1s1tSRM)"
   ]
  },
  {
   "cell_type": "markdown",
   "id": "4d39803d",
   "metadata": {},
   "source": [
    "# Trabalhando remotamente\n",
    "\n",
    "É possível executar o programa Jupyter remotamente utilizando um servidor conectado na nuvem.\n",
    "Assim, não é preciso instalar nenhum programa adicional no seu computador.\n",
    "Existem diversos servidores na nuvem que permitem executar o Jupyter, tais como:\n",
    "\n",
    "* Site oficial do Jupyter\n",
    "* Google Colab\n",
    "* Mybinder\n",
    "* CoCalc"
   ]
  },
  {
   "cell_type": "markdown",
   "id": "c0af2542-73c7-4a1f-a706-6df9872bff9f",
   "metadata": {},
   "source": [
    "## Google Colab"
   ]
  },
  {
   "cell_type": "markdown",
   "id": "b778f9b5-64bf-4460-b694-380a131c1a41",
   "metadata": {},
   "source": [
    "O google Colab permite você criar, realizar o download, upload e executar notebooks.\n",
    "Ele encontra-se disponível no site https://colab.research.google.com/\n",
    "\n",
    "Para utilizá-lo com os arquivos do curso, escolha a opção `github` na janela inicial e configure o repositório com o endereço: https://github.com/pshiroma/calculonumerico.\n",
    "\n",
    "<img src=\"https://bit.ly/3Tgk0Pz\" width=\"1000\">\n",
    "\n",
    "Em seguida, basta abrir o notebook desejado, editá-lo e executá-lo."
   ]
  },
  {
   "cell_type": "markdown",
   "id": "b90ee4c4-d96e-48a3-810c-c8abc3a62cd1",
   "metadata": {},
   "source": [
    "## Utilizando o site oficial"
   ]
  },
  {
   "cell_type": "markdown",
   "id": "7bdacc37-d18c-49d7-a8f3-fe2b0fd46541",
   "metadata": {},
   "source": [
    "Para rodar o Jupyter a partir do site oficial, é necessário primeiro baixar os notebooks da disciplina."
   ]
  },
  {
   "cell_type": "markdown",
   "id": "ee56e68c",
   "metadata": {
    "slideshow": {
     "slide_type": "subslide"
    }
   },
   "source": [
    "### Realizando o download dos arquivos da disciplina\n",
    "\n",
    "Os arquivos da disciplina podem ser encontrados no site:  https://github.com/pshiroma/calculonumerico\n",
    "\n",
    "<img src=\"https://lh3.googleusercontent.com/drive-viewer/AKGpihbFS-7HDGRPYUFAe6vw1jsBi3ZDiguyU3HiTUjextzGV6gRCf2dTOoE9GzzGiwl-JH_MR0-IzxeovpKLOB49DvyCotsRg=s1600\" width=\"1000\">\n",
    "\n",
    "Após entrar no site, selecione o botão verde escrito \"Code\" e escolha a opção \"Download zip\".\n",
    "\n",
    "Em seguida, extraia todos os arquivos para uma pasta do seu computador."
   ]
  },
  {
   "cell_type": "markdown",
   "id": "1632d799-b1f6-4bdd-9336-910b312bf0cd",
   "metadata": {},
   "source": [
    "Após realizar o download dos notebooks da disciplina, extraia-o para uma pasta no seu computador.\n",
    "\n",
    "Acesse o site https://jupyter.org/try-jupyter/lab/ para executar os notebooks.\n",
    "\n",
    "Utilizando o explorador de arquivos do Windows, arraste o notebook que deseja carregar para a barra lateral esquerda da janela onde o jupyter está sendo executado.\n",
    "\n",
    "<img src=\"https://lh5.googleusercontent.com/SXdJt3nJ0_6j6h-5qeiamBQyNit6PMObFK4NHiaGZMcSd7u4wQB-zYoDWPZ6uJKaq_mPfTQDhlp7GkGARCRx04RDHQajdjijLsBHQcvHkn2syPR2NK9gPEqhXCzxLZ_KYQ=w1280\" width=\"1000\">\n",
    "\n",
    "<div class=\"alert alert-danger\"><b>Importante:</b> Este servidor não salva os arquivos criados ou modificados dentro dele. Ou seja, qualquer arquivo que você queira preservar deve ser realizado o <b>download</b> do mesmo.</div>"
   ]
  },
  {
   "cell_type": "markdown",
   "id": "ad1805f8-ad85-4cb3-84d4-f6446cfeef7e",
   "metadata": {},
   "source": [
    "## Mybinder"
   ]
  },
  {
   "cell_type": "markdown",
   "id": "f3af9447-3070-48d7-8aba-f5cbed7970a9",
   "metadata": {},
   "source": [
    "Outra opção para rodar os notebooks é utilizar o site https://mybinder.org/ para acessar os notebooks presentes no repositório https://github.com/pshiroma/calculonumerico.\n",
    "\n",
    "Pode-se utilizar o link direto, disponível em:\n",
    "\n",
    "https://mybinder.org/v2/gh/pshiroma/calculonumerico/main [![Binder](https://mybinder.org/badge_logo.svg)](https://mybinder.org/v2/gh/pshiroma/calculonumerico/main)\n",
    "\n",
    "<img src=\"figuras/mybinder.png\" width=\"1000\">\n",
    "\n",
    "<div class=\"alert alert-danger\"><b>Importante:</b> O binder não salva os arquivos criados ou modificados dentro dele. Ou seja, qualquer arquivo que você queira preservar deve ser realizado o <b>download</b> do mesmo.</div>"
   ]
  }
 ],
 "metadata": {
  "celltoolbar": "Slideshow",
  "kernelspec": {
   "display_name": "Python 3 (ipykernel)",
   "language": "python",
   "name": "python3"
  },
  "language_info": {
   "codemirror_mode": {
    "name": "ipython",
    "version": 3
   },
   "file_extension": ".py",
   "mimetype": "text/x-python",
   "name": "python",
   "nbconvert_exporter": "python",
   "pygments_lexer": "ipython3",
   "version": "3.9.12"
  },
  "latex_envs": {
   "LaTeX_envs_menu_present": true,
   "autoclose": true,
   "autocomplete": true,
   "bibliofile": "biblio.bib",
   "cite_by": "apalike",
   "current_citInitial": 1,
   "eqLabelWithNumbers": true,
   "eqNumInitial": 1,
   "hotkeys": {
    "equation": "Ctrl-E",
    "itemize": "Ctrl-I"
   },
   "labels_anchors": false,
   "latex_user_defs": false,
   "report_style_numbering": false,
   "user_envs_cfg": false
  }
 },
 "nbformat": 4,
 "nbformat_minor": 5
}
