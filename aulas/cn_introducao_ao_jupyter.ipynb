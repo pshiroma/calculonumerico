{
 "cells": [
  {
   "cell_type": "markdown",
   "id": "386ef7b0",
   "metadata": {
    "heading_collapsed": true
   },
   "source": [
    "# Executando o Jupyter \n",
    "\n",
    "Por se tratar de uma aplicação web, existem diversas formas de trabalhar com o ambiente jupyter.\n",
    "Vamos descrever algumas delas:"
   ]
  },
  {
   "cell_type": "markdown",
   "id": "253e93e7",
   "metadata": {
    "hidden": true
   },
   "source": [
    "## Opção 1: Localmente\n",
    "\n",
    "Para trabalhar localmente, você deve:\n",
    "\n",
    "1. Instalar o python / Jupyter no seu computador (por exemplo, usando o instador Anaconda https://anaconda.org/).\n",
    "\n",
    "2. Realizar o download dos arquivos da disciplina, disponível em https://github.com/pshiroma/calculonumerico\n",
    "\n",
    "<img src=\"figuras/github.png\" width=\"1000\">\n",
    "\n",
    "3. Executar o jupyter notebook a partir do Anaconda Navigator\n",
    "\n",
    "<img src=\"figuras/anaconda14.png\" width=\"1000\">\n",
    "\n",
    "\n",
    "## Opção 2: Na nuvem,  usando o servidor Mybinder\n",
    "\n",
    "Outra opção é utilizar o site https://mybinder.org/ para acessar os notebooks presentes no repositório https://github.com/pshiroma/calculonumerico.\n",
    "\n",
    "Acesse o link https://mybinder.org/v2/gh/pshiroma/calculonumerico/main [![Binder](https://mybinder.org/badge_logo.svg)](https://mybinder.org/v2/gh/pshiroma/calculonumerico/main)\n",
    "\n",
    "<img src=\"figuras/mybinder.png\" width=\"1000\">\n",
    "\n",
    "<div class=\"alert alert-danger\"><b>Importante:</b> O binder não salva os arquivos criados ou modificados dentro dele. Ou seja, qualquer arquivo que você queira preservar deve ser realizado o <b>download</b> do mesmo.</div>\n",
    "\n",
    "\n",
    "## Opção 3: Na nuvem,  usando o servidor Google colab\n",
    "\n",
    "Por último, também é possível utilizar o site https://colab.research.google.com/ para executar os notebooks.\n",
    "\n",
    "Na janela que abrir, escolha a opção `github` e configure o local do repositório: https://github.com/pshiroma/calculonumerico.\n",
    "\n",
    "<img src=\"figuras/googlecolab.png\" width=\"1000\">\n",
    "\n",
    "<div class=\"alert alert-warning\"><b>Atenção:</b> O google colab não possui alguns dos pacotes auxiliares utilizados, mas contém os principais.\n",
    "\n"
   ]
  },
  {
   "cell_type": "markdown",
   "id": "71540f39",
   "metadata": {
    "heading_collapsed": true
   },
   "source": [
    "#  Jupyter\n",
    "\n",
    "Com o intuito de prover um ambiente de programação intuitivo, fácil de dominar e dinâmico, escolhemos o ambiente **Jupyter**."
   ]
  },
  {
   "cell_type": "markdown",
   "id": "0496cb35",
   "metadata": {
    "hidden": true
   },
   "source": [
    "O jupyter é uma aplicação web acessada por meio do navegador de Internet, ou seja, você pode utilizar o Google Chrome, o Firefox, o Internet Explorer ou outro navegador qualquer para acessá-lo.\n",
    "\n",
    "Além disso, o servidor do jupyter pode estar sendo executado localmente, na sua máquina, ou na nuvem, usando um servidor como o Amazon Web Service (AWS), Google Cloud ou outro qualquer.\n",
    "\n",
    "A grande facilidade é que você pode acessar o jupyter a partir de qualquer computador conectado a Internet, independente do tipo de sistema operacional ou hardware utilizado.\n",
    "\n",
    "\n",
    "## O que é o jupyter\n",
    "\n",
    "O jupyter é baseado no conceito de **notebook**.\n",
    "Um exemplo é este documento que você está acessando no momento.\n",
    "Um notebook pode ser idealizado como um caderno onde você pode:\n",
    "\n",
    "* escrever textos e anotações,\n",
    "* escrever equações matemáticas como $\\lim\\limits_{x \\rightarrow 2} x^2 = 4$,\n",
    "* inserir figuras como: ![lena](figuras/lena.png)\n",
    "* inserir link de vídeos: [![video](figuras/youtube1.png)](https://www.youtube.com/watch?v=wswYxcNoi00)\n",
    "\n",
    "Além disso, outra característica fundamental é que é possível executar códigos-fonte de diversas linguagens dentre de um notebook do jupyter.\n",
    "\n",
    "Para saber mais, consulte:\n",
    "\n",
    "https://jupyter.brynmawr.edu/services/public/dblank/Jupyter%20Notebook%20Users%20Manual.ipynb\n",
    "\n",
    "https://jupyter.org/\n",
    "\n",
    "https://letscode-academy.com/blog/introducao-ao-jupyter-notebook/\n"
   ]
  },
  {
   "cell_type": "markdown",
   "id": "d94a75eb",
   "metadata": {},
   "source": [
    "# Células"
   ]
  },
  {
   "cell_type": "markdown",
   "id": "99a650ee",
   "metadata": {},
   "source": [
    "O jupyter possui basicamento 2 tipos de células:\n",
    "\n",
    "* Células de texto ou Markdown, utilizadas para escrever fórmulas, tabelas, textos, imagens, etc (como esta aqui)\n",
    "* Células de código, utilizadas para rodar códigos de programa (como a célula de baixo)\n",
    "\n",
    "Para identificar o tipo de célula, basta observar o lado esquerdo da célula:\n",
    "<img src='figuras/code_cell.png'>\n",
    "\n",
    "Caso apareça o texto __In [ ]__ é sinal de que a célula é do tipo _Code_.\n",
    "O número [1] indica a ordem em que ela foi executada no notebook."
   ]
  },
  {
   "cell_type": "code",
   "execution_count": 1,
   "id": "fd01e222",
   "metadata": {},
   "outputs": [
    {
     "name": "stdout",
     "output_type": "stream",
     "text": [
      "54\n"
     ]
    }
   ],
   "source": [
    "x = 42 + 12\n",
    "print(x)"
   ]
  },
  {
   "cell_type": "markdown",
   "id": "c2b7492e",
   "metadata": {},
   "source": [
    "## Comandos principais \n",
    "\n",
    "A seguir uma breve descrição dos principais comandos usados para trabalhar com células dentro do jupyter:\n",
    "\n",
    "* Para navegar por entre as células, basta usar as setas $\\uparrow$ ou $\\downarrow$ do teclado.\n",
    "* Para editar uma célula, use a tecla __Enter__\n",
    "* Para sair do modo de edição, use a tecla __Esc__\n",
    "* Para executar uma célula de código novamente, use a combinação __Shift-Enter__ ou __Ctrl-Enter__\n",
    "* Para inserir uma célula abaixo, use a tecla __b__, para inserir acima, use a tecla __a__\n",
    "* Para cortar uma célula, use a tecla __x__, para colar, use a tecla __v__\n",
    "* Para outras funções, consulte as teclas de atalho no __Help__ ou use a combinação __Shift-Ctrl-P__"
   ]
  }
 ],
 "metadata": {
  "kernelspec": {
   "display_name": "Python 3 (ipykernel)",
   "language": "python",
   "name": "python3"
  },
  "language_info": {
   "codemirror_mode": {
    "name": "ipython",
    "version": 3
   },
   "file_extension": ".py",
   "mimetype": "text/x-python",
   "name": "python",
   "nbconvert_exporter": "python",
   "pygments_lexer": "ipython3",
   "version": "3.10.4"
  },
  "latex_envs": {
   "LaTeX_envs_menu_present": true,
   "autoclose": true,
   "autocomplete": true,
   "bibliofile": "biblio.bib",
   "cite_by": "apalike",
   "current_citInitial": 1,
   "eqLabelWithNumbers": true,
   "eqNumInitial": 1,
   "hotkeys": {
    "equation": "Ctrl-E",
    "itemize": "Ctrl-I"
   },
   "labels_anchors": false,
   "latex_user_defs": false,
   "report_style_numbering": false,
   "user_envs_cfg": false
  }
 },
 "nbformat": 4,
 "nbformat_minor": 5
}
