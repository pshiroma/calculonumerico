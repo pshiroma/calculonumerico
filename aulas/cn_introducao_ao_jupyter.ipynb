{
 "cells": [
  {
   "cell_type": "markdown",
   "id": "386ef7b0",
   "metadata": {
    "slideshow": {
     "slide_type": "slide"
    }
   },
   "source": [
    "# Executando o Jupyter \n",
    "\n",
    "Por se tratar de uma aplicação web, existem diversas formas de trabalhar com o ambiente jupyter.\n",
    "Vamos descrever algumas delas:"
   ]
  },
  {
   "cell_type": "markdown",
   "id": "253e93e7",
   "metadata": {
    "slideshow": {
     "slide_type": "slide"
    }
   },
   "source": [
    "## Opção 1: Localmente"
   ]
  },
  {
   "cell_type": "markdown",
   "id": "5bcce766",
   "metadata": {
    "slideshow": {
     "slide_type": "subslide"
    }
   },
   "source": [
    "Para trabalhar localmente, você deve:\n",
    "\n",
    "1. Instalar o python / Jupyter no seu computador (por exemplo, usando o instador Anaconda https://anaconda.org/).\n",
    "2. Realizar o download dos arquivos da disciplina, disponível em https://github.com/pshiroma/calculonumerico\n",
    "<img src=\"figuras/github.png\" width=\"1000\">\n",
    "3. Executar o jupyter notebook a partir do Anaconda Navigator\n",
    "\n",
    "<img src=\"figuras/anaconda14.png\" width=\"1000\">"
   ]
  },
  {
   "cell_type": "markdown",
   "id": "05f82d29",
   "metadata": {
    "slideshow": {
     "slide_type": "subslide"
    }
   },
   "source": [
    "## Opção 2: Na nuvem,  usando o servidor Mybinder"
   ]
  },
  {
   "cell_type": "markdown",
   "id": "f5e64dd3",
   "metadata": {
    "slideshow": {
     "slide_type": "subslide"
    }
   },
   "source": [
    "Outra opção é utilizar o site https://mybinder.org/ para acessar os notebooks presentes no repositório https://github.com/pshiroma/calculonumerico.\n",
    "\n",
    "Acesse o link https://mybinder.org/v2/gh/pshiroma/calculonumerico/main [![Binder](https://mybinder.org/badge_logo.svg)](https://mybinder.org/v2/gh/pshiroma/calculonumerico/main)\n",
    "\n",
    "<img src=\"figuras/mybinder.png\" width=\"1000\">\n",
    "\n",
    "<div class=\"alert alert-danger\"><b>Importante:</b> O binder não salva os arquivos criados ou modificados dentro dele. Ou seja, qualquer arquivo que você queira preservar deve ser realizado o <b>download</b> do mesmo.</div>"
   ]
  },
  {
   "cell_type": "markdown",
   "id": "768ce789",
   "metadata": {
    "slideshow": {
     "slide_type": "subslide"
    }
   },
   "source": [
    "## Opção 3: Na nuvem,  usando o servidor Google colab"
   ]
  },
  {
   "cell_type": "markdown",
   "id": "345e0e84",
   "metadata": {
    "slideshow": {
     "slide_type": "subslide"
    }
   },
   "source": [
    "Por último, também é possível utilizar o site https://colab.research.google.com/ para executar os notebooks.\n",
    "\n",
    "Na janela que abrir, escolha a opção `github` e configure o local do repositório: https://github.com/pshiroma/calculonumerico.\n",
    "\n",
    "<img src=\"figuras/googlecolab.png\" width=\"1000\">\n",
    "\n",
    "<div class=\"alert alert-warning\"><b>Atenção:</b> O google colab não possui alguns dos pacotes auxiliares utilizados, mas contém os principais."
   ]
  },
  {
   "cell_type": "markdown",
   "id": "71540f39",
   "metadata": {
    "slideshow": {
     "slide_type": "slide"
    }
   },
   "source": [
    "#  Visão geral do Jupyter\n",
    "\n",
    "Com o intuito de prover um ambiente de programação intuitivo, fácil de dominar e dinâmico, escolhemos o ambiente **Jupyter**."
   ]
  },
  {
   "cell_type": "markdown",
   "id": "3e9ffcf2",
   "metadata": {
    "slideshow": {
     "slide_type": "subslide"
    }
   },
   "source": [
    "O jupyter é uma aplicação web acessada por meio do navegador de Internet, ou seja, você pode utilizar o Google Chrome, o Firefox, o Internet Explorer ou outro navegador qualquer para acessá-lo.\n",
    "\n",
    "Além disso, o servidor do jupyter pode estar sendo executado localmente, na sua máquina, ou na nuvem, usando um servidor como o Amazon Web Service (AWS), Google Cloud ou outro qualquer.\n",
    "\n",
    "A grande facilidade é que você pode acessar o jupyter a partir de qualquer computador conectado a Internet, independente do tipo de sistema operacional ou hardware utilizado."
   ]
  },
  {
   "cell_type": "markdown",
   "id": "0496cb35",
   "metadata": {
    "slideshow": {
     "slide_type": "subslide"
    }
   },
   "source": [
    "## O que é o jupyter\n",
    "\n",
    "O jupyter é baseado no conceito de **notebook**.\n",
    "Um exemplo é este documento que você está acessando no momento.\n",
    "Um notebook pode ser idealizado como um caderno onde você pode:\n",
    "\n",
    "* escrever textos e anotações,\n",
    "* escrever equações matemáticas como $\\lim\\limits_{x \\rightarrow 2} x^2 = 4$,\n",
    "* inserir figuras como: ![lena](figuras/lena.png)\n",
    "* inserir link de vídeos: [![video](figuras/youtube1.png)](https://www.youtube.com/watch?v=wswYxcNoi00)\n",
    "\n",
    "Além disso, outra característica fundamental é que é possível executar códigos-fonte de diversas linguagens dentre de um notebook do jupyter.\n",
    "\n",
    "Para saber mais, consulte:\n",
    "\n",
    "https://jupyter.brynmawr.edu/services/public/dblank/Jupyter%20Notebook%20Users%20Manual.ipynb\n",
    "\n",
    "https://jupyter.org/\n",
    "\n",
    "https://letscode-academy.com/blog/introducao-ao-jupyter-notebook/\n"
   ]
  },
  {
   "cell_type": "markdown",
   "id": "d94a75eb",
   "metadata": {
    "slideshow": {
     "slide_type": "slide"
    }
   },
   "source": [
    "# Células"
   ]
  },
  {
   "cell_type": "markdown",
   "id": "99a650ee",
   "metadata": {
    "slideshow": {
     "slide_type": "subslide"
    }
   },
   "source": [
    "Um notebook é dividido em uma ou mais células, e cada célula pode ser do tipo:\n",
    "\n",
    "* Markdown: Usado para escrever anotações, equações matemáticas, inserir figuras ou links para vídeos. Por exemplo, esta célula que você esta lendo no momento é do tipo Markdown;\n",
    "* Code: Usado para escrever e executar códigos em uma linguagem de programação. Por exemplo, a célula abaixo é do tipo Code. Selecione a célula abaixo e dê um clique no botão __Run__ acima:  <img src='figuras/run.png'>\n",
    "\n",
    "Para identificar o tipo de célula, basta observar o lado esquerdo da célula:\n",
    "<img src='figuras/code_cell.png'>\n",
    "\n",
    "Caso apareça o texto __In [ ]__ é sinal de que a célula é do tipo _Code_.\n",
    "O número [1] indica a ordem em que ela foi executada no notebook."
   ]
  },
  {
   "cell_type": "code",
   "execution_count": 31,
   "id": "fd01e222",
   "metadata": {
    "slideshow": {
     "slide_type": "subslide"
    }
   },
   "outputs": [
    {
     "name": "stdout",
     "output_type": "stream",
     "text": [
      "54\n"
     ]
    }
   ],
   "source": [
    "x = 42 + 12\n",
    "print(x)"
   ]
  },
  {
   "cell_type": "markdown",
   "id": "4a186b52",
   "metadata": {
    "heading_collapsed": true,
    "slideshow": {
     "slide_type": "subslide"
    }
   },
   "source": [
    "## Comandos principais \n",
    "\n",
    "A seguir uma breve descrição dos principais comandos usados para trabalhar com células dentro do jupyter:\n",
    "\n",
    "* Para navegar por entre as células, basta usar as setas $\\uparrow$ ou $\\downarrow$ do teclado.\n",
    "* Para editar uma célula, use a tecla __Enter__\n",
    "* Para sair do modo de edição, use a tecla __Esc__\n",
    "* Para executar uma célula de código novamente, use a combinação __Shift-Enter__ ou __Ctrl-Enter__\n",
    "* Para inserir uma célula abaixo, use a tecla __b__, para inserir acima, use a tecla __a__\n",
    "* Para cortar uma célula, use a tecla __x__, para colar, use a tecla __v__\n",
    "* Para outras funções, consulte as teclas de atalho no __Help__ ou use a combinação __Shift-Ctrl-P__"
   ]
  },
  {
   "cell_type": "markdown",
   "id": "4782d33f",
   "metadata": {
    "slideshow": {
     "slide_type": "slide"
    }
   },
   "source": [
    "## Células Markdown"
   ]
  },
  {
   "cell_type": "markdown",
   "id": "793c2ea7",
   "metadata": {
    "slideshow": {
     "slide_type": "subslide"
    }
   },
   "source": [
    "Markdown é uma sintaxe usada para produzir textos utilizando apenas os caracteres disponíveis no teclado, facilitando a padronizar e formatação de textos na web.\n",
    "Os textos utilizam caracteres não-alfabéticos como `# \\ * ! [ ] ( )` como comandos para a configuração de títulos, listas, itálico, negrito, inserção de imagens, dentre outros.\n",
    "\n",
    "Fontes:\n",
    "\n",
    "https://jupyter-notebook.readthedocs.io/en/stable/examples/Notebook/Working%20With%20Markdown%20Cells.html\n",
    "\n",
    "https://medium.com/analytics-vidhya/the-ultimate-markdown-guide-for-jupyter-notebook-d5e5abf728fd\n",
    "\n",
    "https://acervolima.com/celula-markdown-no-caderno-jupyter/\n",
    "\n",
    "https://docs.pipz.com/central-de-ajuda/learning-center/guia-basico-de-markdown#open\n",
    "\n",
    "https://experienceleague.adobe.com/docs/contributor/contributor-guide/writing-essentials/markdown.html?lang=pt-BR"
   ]
  },
  {
   "cell_type": "markdown",
   "id": "27eee1b5",
   "metadata": {
    "slideshow": {
     "slide_type": "-"
    }
   },
   "source": [
    "Para criar um cabeçalho, use uma ou mais marcas de hash (#) no início do título:\n",
    "\n",
    "# Cabeçalho 1\n",
    "## Cabeçalho 2\n",
    "### Cabeçalho 3"
   ]
  },
  {
   "cell_type": "markdown",
   "id": "a5ecf108",
   "metadata": {
    "slideshow": {
     "slide_type": "subslide"
    }
   },
   "source": [
    "## Listas:\n",
    "\n",
    "Para listas não ordenadas, utilize um asterisco * na frente to item:\n",
    "\n",
    "* Item 1\n",
    "* Item 2\n",
    "* Item 3\n",
    "\n",
    "Para listas ordenadas, utilize o número do item seguido de ponto . :\n",
    "\n",
    "1. Item 1\n",
    "2. Item 2\n",
    "3. Item 3\n",
    "\n",
    "Listas com níveis são criadas usando a indentação (tab):\n",
    "\n",
    "1. Lista principal\n",
    "    1. Sub-lista\n",
    "    1. Sub-lista \n",
    "        1. Sub-sub-lista\n",
    "        1. Sub-sub-lista \n",
    "1. Lista principal"
   ]
  },
  {
   "cell_type": "markdown",
   "id": "cd029025",
   "metadata": {
    "slideshow": {
     "slide_type": "subslide"
    }
   },
   "source": [
    "## Ênfase\n",
    "\n",
    "Para formatar o texto como negrito, coloque-o entre dois asteriscos ou dois traços-baixos:\n",
    "\n",
    "* **texto em negrito usando 2 asteriscos**\n",
    "* __texto em negrito usando 2 traços baixos__\n",
    "\n",
    "Para formatar o texto como itálico, coloque-o entre um único asterisco ou um traço-baixo:\n",
    "\n",
    "* *texto em itálico usando asterisco* \n",
    "* _texto em itálico usando traço baixo_"
   ]
  },
  {
   "cell_type": "markdown",
   "id": "c0c60242",
   "metadata": {
    "slideshow": {
     "slide_type": "subslide"
    }
   },
   "source": [
    "## Caracteres reservados:\n",
    "\n",
    "Insira o caracter `\\` antes do caracter:\n",
    "\n",
    "\\*\n",
    "\n",
    "\\_\n",
    "\n",
    "\\$\n",
    "\n",
    "\n"
   ]
  },
  {
   "cell_type": "markdown",
   "id": "4dad0c39",
   "metadata": {
    "slideshow": {
     "slide_type": "subslide"
    }
   },
   "source": [
    "## Imagem\n",
    "\n",
    "* Método 1: ![Título da imagem](figuras/lena.png)\n",
    "* Método 2: <img src=\"figuras/lena.png\" width=\"100\">"
   ]
  },
  {
   "cell_type": "markdown",
   "id": "65c54b34",
   "metadata": {
    "slideshow": {
     "slide_type": "subslide"
    }
   },
   "source": [
    "<a id=\"tabela\"></a>\n",
    "## Tabela\n",
    "\n",
    "Exemplo   | Valor do exemplo\n",
    "--------- | ------\n",
    "Exemplo 1 | R\\$ 10\n",
    "Exemplo 2 | R\\$ 8\n",
    "Exemplo 3 | R\\$ 7\n",
    "Exemplo 4 | <img src=\"figuras/lena.png\" width=\"100\">"
   ]
  },
  {
   "cell_type": "markdown",
   "id": "064b77c1",
   "metadata": {
    "slideshow": {
     "slide_type": "subslide"
    }
   },
   "source": [
    "## Código-fonte\n",
    "\n",
    "```python\n",
    "def funcao(x):\n",
    "    return x ** 2\n",
    "y = funcao(3)\n",
    "print(x)\n",
    "```"
   ]
  },
  {
   "cell_type": "markdown",
   "id": "17a3a60b",
   "metadata": {
    "slideshow": {
     "slide_type": "subslide"
    }
   },
   "source": [
    "## Links\n",
    "\n",
    "A sintaxe de um link consiste na parte `[texto]`, seguida pela parte `(url)`, que é o URL ou link ao qual esta direcionado:\n",
    "\n",
    "[Exemplos de notebooks](https://jupyter-notebook.readthedocs.io/en/stable/examples/Notebook/examples_index.html)\n",
    "\n",
    "[Exemplo de link para vídeo](https://www.youtube.com/watch?v=wswYxcNoi00)\n",
    "\n",
    "[Link interno](#tabela)"
   ]
  },
  {
   "cell_type": "markdown",
   "id": "cc0ab93c",
   "metadata": {
    "slideshow": {
     "slide_type": "subslide"
    }
   },
   "source": [
    "## Fórmulas matemáticas\n",
    "\n",
    "A sintaxe markdown do jupyter oferece suporte ao $\\LaTeX$ para produzir fórmulas matemáticas com qualidade:\n",
    "\n",
    "* Fórmulas inline: Coloque o símbolo \\\\$ antes e depois do código latex:\n",
    "\n",
    "`$e^{i \\pi} + 1 = 0$` irá produzir a fórmula: $e^{i \\pi} + 1 = 0$.\n",
    "\n",
    "Expressões maiores podem ser produzidas utilizando a sintaxe:\n",
    "\n",
    "```latex\n",
    "\\begin{equation}\n",
    "formula\n",
    "\\end{equation}\n",
    "```\n",
    "\n",
    "Por exemplo o Teorema de Taylor nos diz que:\n",
    "\n",
    "\\begin{aligned}\n",
    "f(x) =& f(a) + \\dfrac{f'(a)}{1!}(x-a) + \\dfrac{f''(a)}{2!}(x-a)^2 + \\ldots + \\\\\n",
    "&\\dfrac{f^{(k)}(a)}{k!}(x-a)^k + h_k(x)(x-a)^k\n",
    "\\end{aligned}\n",
    "\n",
    "Para saber mais:\n",
    "\n",
    "https://app.mettzer.com/latex"
   ]
  },
  {
   "cell_type": "markdown",
   "id": "4e44319a",
   "metadata": {
    "slideshow": {
     "slide_type": "subslide"
    }
   },
   "source": [
    "## HTML\n",
    "\n",
    "A maioria dos visualizadores irá aceitar a inclusão de tags html para produzir formas mais elaboradas de formatação.\n",
    "Veja alguns exemplos:\n",
    "   \n",
    "<blockquote>\n",
    "    Citação de um texto usando blockquote<br>\n",
    "    Próxima linha\n",
    "</blockquote>\n",
    "\n",
    "<span style='color:Red'>Texto em vermelho.</span>\n",
    "\n",
    "<span style='background:yellow'> Texto com fundo amarelo  </span>\n",
    "\n",
    "<div class=\"alert alert-success\">\n",
    "  <strong>Success!</strong> Classe alert alert-success - fundo verde.\n",
    "</div>\n",
    "\n",
    "<div class=\"alert alert-info\">\n",
    "  <strong>Info!</strong> Classe alert alert-info - fundo azul.\n",
    "</div>\n",
    "\n",
    "<div class=\"alert alert-warning\">\n",
    "  <strong>Warning!</strong> Classe alert alert-warning - fundo pastel.\n",
    "</div>\n",
    "\n",
    "<div class=\"alert alert-danger\">\n",
    "  <strong>Danger!</strong> Classe alert alert-danger - fundo roxo.\n",
    "</div>"
   ]
  },
  {
   "cell_type": "markdown",
   "id": "4d3f8b21",
   "metadata": {
    "slideshow": {
     "slide_type": "slide"
    }
   },
   "source": [
    "## Células de código: Hello world"
   ]
  },
  {
   "cell_type": "markdown",
   "id": "d2979fc4",
   "metadata": {
    "slideshow": {
     "slide_type": "-"
    }
   },
   "source": [
    "A seguir, vamos escrever um trecho de código que escreve o texto \"Hello world\" na tela:"
   ]
  },
  {
   "cell_type": "code",
   "execution_count": 2,
   "id": "19ffc622",
   "metadata": {
    "slideshow": {
     "slide_type": "subslide"
    }
   },
   "outputs": [
    {
     "name": "stdout",
     "output_type": "stream",
     "text": [
      "Hello world!\n"
     ]
    }
   ],
   "source": [
    "print(\"Hello world!\")"
   ]
  }
 ],
 "metadata": {
  "celltoolbar": "Slideshow",
  "kernelspec": {
   "display_name": "Python 3 (ipykernel)",
   "language": "python",
   "name": "python3"
  },
  "language_info": {
   "codemirror_mode": {
    "name": "ipython",
    "version": 3
   },
   "file_extension": ".py",
   "mimetype": "text/x-python",
   "name": "python",
   "nbconvert_exporter": "python",
   "pygments_lexer": "ipython3",
   "version": "3.10.4"
  },
  "latex_envs": {
   "LaTeX_envs_menu_present": true,
   "autoclose": true,
   "autocomplete": true,
   "bibliofile": "biblio.bib",
   "cite_by": "apalike",
   "current_citInitial": 1,
   "eqLabelWithNumbers": true,
   "eqNumInitial": 1,
   "hotkeys": {
    "equation": "Ctrl-E",
    "itemize": "Ctrl-I"
   },
   "labels_anchors": false,
   "latex_user_defs": false,
   "report_style_numbering": false,
   "user_envs_cfg": false
  }
 },
 "nbformat": 4,
 "nbformat_minor": 5
}
