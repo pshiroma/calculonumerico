{
 "cells": [
  {
   "cell_type": "markdown",
   "id": "386ef7b0",
   "metadata": {
    "slideshow": {
     "slide_type": "slide"
    }
   },
   "source": [
    "# Executando o Jupyter \n",
    "\n",
    "Por se tratar de uma aplicação web, existem diversas formas de trabalhar com o ambiente jupyter.\n",
    "Vamos descrever algumas delas:"
   ]
  },
  {
   "cell_type": "markdown",
   "id": "253e93e7",
   "metadata": {
    "slideshow": {
     "slide_type": "slide"
    }
   },
   "source": [
    "## Opção 1: Localmente"
   ]
  },
  {
   "cell_type": "markdown",
   "id": "1078b911",
   "metadata": {
    "slideshow": {
     "slide_type": "subslide"
    }
   },
   "source": [
    "Para trabalhar localmente, você deve:\n",
    "\n",
    "1. Instalar o python / Jupyter no seu computador (por exemplo, usando o instador Anaconda https://anaconda.org/).\n",
    "2. Realizar o download dos arquivos da disciplina, disponível em https://github.com/pshiroma/calculonumerico\n",
    "<img src=\"figuras/github.png\" width=\"1000\">\n",
    "3. Executar o jupyter notebook a partir do Anaconda Navigator\n",
    "\n",
    "<img src=\"figuras/anaconda14.png\" width=\"1000\">"
   ]
  },
  {
   "cell_type": "markdown",
   "id": "1d230379",
   "metadata": {
    "slideshow": {
     "slide_type": "subslide"
    }
   },
   "source": [
    "## Opção 2: Na nuvem,  usando o servidor Mybinder"
   ]
  },
  {
   "cell_type": "markdown",
   "id": "e42f5661",
   "metadata": {
    "slideshow": {
     "slide_type": "subslide"
    }
   },
   "source": [
    "Outra opção é utilizar o site https://mybinder.org/ para acessar os notebooks presentes no repositório https://github.com/pshiroma/calculonumerico.\n",
    "\n",
    "Acesse o link https://mybinder.org/v2/gh/pshiroma/calculonumerico/main [![Binder](https://mybinder.org/badge_logo.svg)](https://mybinder.org/v2/gh/pshiroma/calculonumerico/main)\n",
    "\n",
    "<img src=\"figuras/mybinder.png\" width=\"1000\">\n",
    "\n",
    "<div class=\"alert alert-danger\"><b>Importante:</b> O binder não salva os arquivos criados ou modificados dentro dele. Ou seja, qualquer arquivo que você queira preservar deve ser realizado o <b>download</b> do mesmo.</div>"
   ]
  },
  {
   "cell_type": "markdown",
   "id": "57f775e2",
   "metadata": {
    "slideshow": {
     "slide_type": "subslide"
    }
   },
   "source": [
    "## Opção 3: Na nuvem,  usando o servidor Google colab"
   ]
  },
  {
   "cell_type": "markdown",
   "id": "1f3502b0",
   "metadata": {
    "slideshow": {
     "slide_type": "subslide"
    }
   },
   "source": [
    "Por último, também é possível utilizar o site https://colab.research.google.com/ para executar os notebooks.\n",
    "\n",
    "Na janela que abrir, escolha a opção `github` e configure o local do repositório: https://github.com/pshiroma/calculonumerico.\n",
    "\n",
    "<img src=\"figuras/googlecolab.png\" width=\"1000\">\n",
    "\n",
    "<div class=\"alert alert-warning\"><b>Atenção:</b> O google colab não possui alguns dos pacotes auxiliares utilizados, mas contém os principais."
   ]
  },
  {
   "cell_type": "markdown",
   "id": "71540f39",
   "metadata": {
    "slideshow": {
     "slide_type": "slide"
    }
   },
   "source": [
    "#  Visão geral do Jupyter\n",
    "\n",
    "Com o intuito de prover um ambiente de programação intuitivo, fácil de dominar e dinâmico, escolhemos o ambiente **Jupyter**."
   ]
  },
  {
   "cell_type": "markdown",
   "id": "43c0ce16",
   "metadata": {
    "slideshow": {
     "slide_type": "subslide"
    }
   },
   "source": [
    "O jupyter é uma aplicação web acessada por meio do navegador de Internet, ou seja, você pode utilizar o Google Chrome, o Firefox, o Internet Explorer ou outro navegador qualquer para acessá-lo.\n",
    "\n",
    "Além disso, o servidor do jupyter pode estar sendo executado localmente, na sua máquina, ou na nuvem, usando um servidor como o Amazon Web Service (AWS), Google Cloud ou outro qualquer.\n",
    "\n",
    "A grande facilidade é que você pode acessar o jupyter a partir de qualquer computador conectado a Internet, independente do tipo de sistema operacional ou hardware utilizado."
   ]
  },
  {
   "cell_type": "markdown",
   "id": "0496cb35",
   "metadata": {
    "slideshow": {
     "slide_type": "subslide"
    }
   },
   "source": [
    "## O que é o jupyter\n",
    "\n",
    "O jupyter é baseado no conceito de **notebook**.\n",
    "Um exemplo é este documento que você está acessando no momento.\n",
    "Um notebook pode ser idealizado como um caderno onde você pode:\n",
    "\n",
    "* escrever textos e anotações,\n",
    "* escrever equações matemáticas como $\\lim\\limits_{x \\rightarrow 2} x^2 = 4$,\n",
    "* inserir figuras como: ![lena](figuras/lena.png)\n",
    "* inserir link de vídeos: [![video](figuras/youtube1.png)](https://www.youtube.com/watch?v=wswYxcNoi00)\n",
    "\n",
    "Além disso, outra característica fundamental é que é possível executar códigos-fonte de diversas linguagens dentre de um notebook do jupyter.\n",
    "\n",
    "Para saber mais, consulte:\n",
    "\n",
    "https://jupyter.brynmawr.edu/services/public/dblank/Jupyter%20Notebook%20Users%20Manual.ipynb\n",
    "\n",
    "https://jupyter.org/\n",
    "\n",
    "https://letscode-academy.com/blog/introducao-ao-jupyter-notebook/\n"
   ]
  },
  {
   "cell_type": "markdown",
   "id": "d94a75eb",
   "metadata": {
    "slideshow": {
     "slide_type": "slide"
    }
   },
   "source": [
    "# Células"
   ]
  },
  {
   "cell_type": "markdown",
   "id": "99a650ee",
   "metadata": {
    "slideshow": {
     "slide_type": "subslide"
    }
   },
   "source": [
    "Um notebook é dividido em uma ou mais células, e cada célula pode ser do tipo:\n",
    "\n",
    "* Markdown: Usado para escrever anotações, equações matemáticas, inserir figuras ou links para vídeos. Por exemplo, esta célula que você esta lendo no momento é do tipo Markdown;\n",
    "* Code: Usado para escrever e executar códigos em uma linguagem de programação. Por exemplo, a célula abaixo é do tipo Code. Selecione a célula abaixo e dê um clique no botão __Run__ acima:  <img src='figuras/run.png'>\n",
    "\n",
    "Para identificar o tipo de célula, basta observar o lado esquerdo da célula:\n",
    "<img src='figuras/code_cell.png'>\n",
    "\n",
    "Caso apareça o texto __In [ ]__ é sinal de que a célula é do tipo _Code_.\n",
    "O número [1] indica a ordem em que ela foi executada no notebook."
   ]
  },
  {
   "cell_type": "code",
   "execution_count": 31,
   "id": "fd01e222",
   "metadata": {
    "slideshow": {
     "slide_type": "subslide"
    }
   },
   "outputs": [
    {
     "name": "stdout",
     "output_type": "stream",
     "text": [
      "54\n"
     ]
    }
   ],
   "source": [
    "x = 42 + 12\n",
    "print(x)"
   ]
  },
  {
   "cell_type": "markdown",
   "id": "0c15b4c6",
   "metadata": {
    "heading_collapsed": true,
    "slideshow": {
     "slide_type": "subslide"
    }
   },
   "source": [
    "## Comandos principais \n",
    "\n",
    "A seguir uma breve descrição dos principais comandos usados para trabalhar com células dentro do jupyter:\n",
    "\n",
    "* Para navegar por entre as células, basta usar as setas $\\uparrow$ ou $\\downarrow$ do teclado.\n",
    "* Para editar uma célula, use a tecla __Enter__\n",
    "* Para sair do modo de edição, use a tecla __Esc__\n",
    "* Para executar uma célula de código novamente, use a combinação __Shift-Enter__ ou __Ctrl-Enter__\n",
    "* Para inserir uma célula abaixo, use a tecla __b__, para inserir acima, use a tecla __a__\n",
    "* Para cortar uma célula, use a tecla __x__, para colar, use a tecla __v__\n",
    "* Para outras funções, consulte as teclas de atalho no __Help__ ou use a combinação __Shift-Ctrl-P__"
   ]
  },
  {
   "cell_type": "markdown",
   "id": "7954c283",
   "metadata": {
    "slideshow": {
     "slide_type": "slide"
    }
   },
   "source": [
    "# Hello world"
   ]
  },
  {
   "cell_type": "markdown",
   "id": "e4f8f7df",
   "metadata": {},
   "source": [
    "A seguir, vamos escrever um trecho de código que escreve o texto \"Hello world\" na tela:"
   ]
  },
  {
   "cell_type": "code",
   "execution_count": 2,
   "id": "05cbf1e2",
   "metadata": {
    "slideshow": {
     "slide_type": "subslide"
    }
   },
   "outputs": [
    {
     "name": "stdout",
     "output_type": "stream",
     "text": [
      "Hello world!\n"
     ]
    }
   ],
   "source": [
    "print(\"Hello world!\")"
   ]
  },
  {
   "cell_type": "markdown",
   "id": "31a5ecb5",
   "metadata": {
    "slideshow": {
     "slide_type": "subslide"
    }
   },
   "source": [
    "Vamos agora escrever um código que imprime o valor da variável `x`, criada anteriormente:"
   ]
  },
  {
   "cell_type": "code",
   "execution_count": 3,
   "id": "167d9599",
   "metadata": {
    "slideshow": {
     "slide_type": "-"
    }
   },
   "outputs": [
    {
     "name": "stdout",
     "output_type": "stream",
     "text": [
      "O valor de x é:  54\n"
     ]
    }
   ],
   "source": [
    "print(\"O valor de x é: \", x)"
   ]
  },
  {
   "cell_type": "markdown",
   "id": "e26ef86e",
   "metadata": {
    "slideshow": {
     "slide_type": "slide"
    }
   },
   "source": [
    "## Entrada de dados\n",
    "\n",
    "Vamos ver agora como ler uma entrada do usuário e armazená-la em uma variável:"
   ]
  },
  {
   "cell_type": "code",
   "execution_count": 10,
   "id": "7ce59c7f",
   "metadata": {
    "slideshow": {
     "slide_type": "-"
    }
   },
   "outputs": [
    {
     "name": "stdout",
     "output_type": "stream",
     "text": [
      "23\n",
      "O valor que você entrou foi de 23 e o valor de x é 54\n"
     ]
    }
   ],
   "source": [
    "y = input()\n",
    "print(\"O valor que você entrou foi de\", y , \"e o valor de x é\", x)"
   ]
  },
  {
   "cell_type": "markdown",
   "id": "670cca39",
   "metadata": {
    "slideshow": {
     "slide_type": "slide"
    }
   },
   "source": [
    "# Organização do código"
   ]
  },
  {
   "cell_type": "markdown",
   "id": "cbaf56cc",
   "metadata": {
    "slideshow": {
     "slide_type": "subslide"
    }
   },
   "source": [
    "É recomendável organizar o código-fonte de forma que ele fique bem estruturado.\n",
    "\n",
    "A forma como organizamos um código no Jupyter é um pouco diferente daquela encontrada em um compilador tradicional.\n",
    "Por exemplo, em um compilador C normalmente temos uma função principal:\n",
    "```\n",
    "int main()\n",
    "{\n",
    "}\n",
    "```\n",
    "e o seu código seria escrito dentro desta função.\n",
    "\n",
    "No ambiente jupyter não temos uma função principal, sendo os comandos organizados dentro das células."
   ]
  },
  {
   "cell_type": "markdown",
   "id": "a8646a73",
   "metadata": {
    "slideshow": {
     "slide_type": "subslide"
    }
   },
   "source": [
    "Vamos, por questão meramente didática, dividir o código-fonte em células segundo o critério a seguir:\n",
    "\n",
    "1. Inclusão das bibliotecas: Nesta célula vamos realizar os comandos do tipo `import biblioteca`. \n",
    "2. Definição de constantes e variáveis: Nesta(s) célula(s) vamos definir as constantes e variáveis (que possuem valor inicial) que serão usadas durante o código.\n",
    "3. Desenvolvimento do algoritmo: Nesta(s) célula(s) vamos desenvolver o(s) algoritmo(s)."
   ]
  },
  {
   "cell_type": "markdown",
   "id": "829550da",
   "metadata": {
    "slideshow": {
     "slide_type": "slide"
    }
   },
   "source": [
    "# Exemplos"
   ]
  },
  {
   "cell_type": "markdown",
   "id": "88750031",
   "metadata": {
    "slideshow": {
     "slide_type": "slide"
    }
   },
   "source": [
    "## Exemplo 1\n",
    "\n",
    "Vamos criar um código para calcular o IMC (índice de massa corporal) de uma pessoa.\n",
    "O IMC é dado pela fórmula:\n",
    "\n",
    "$\n",
    "IMC = \\frac{\\text{massa}}{\\text{altura} \\cdot \\text{altura}}\n",
    "$\n",
    "\n",
    "onde:\n",
    "\n",
    "* massa: Dado em quilogramas;\n",
    "* altura: Dado em metros.\n",
    "\n",
    "Obs.: O IMC ideal encontra-se na faixa entre 18,50 e 24,99.\n",
    "\n",
    "Fonte: https://pt.wikipedia.org/wiki/%C3%8Dndice_de_massa_corporal"
   ]
  },
  {
   "cell_type": "markdown",
   "id": "24b5bb28",
   "metadata": {
    "slideshow": {
     "slide_type": "subslide"
    }
   },
   "source": [
    "### Inclusão das bibliotecas\n",
    "\n",
    "Este exemplo não irá necessitar de nenhuma biblioteca extra."
   ]
  },
  {
   "cell_type": "markdown",
   "id": "16bb27f8",
   "metadata": {
    "slideshow": {
     "slide_type": "subslide"
    }
   },
   "source": [
    "### Definição de constantes e variáveis\n",
    "\n",
    "Neste exemplo não iremos ter constantes e as variáveis não possuem valor inicial."
   ]
  },
  {
   "cell_type": "markdown",
   "id": "c933146d",
   "metadata": {
    "slideshow": {
     "slide_type": "subslide"
    }
   },
   "source": [
    "### Desenvolvimento do algoritmo"
   ]
  },
  {
   "cell_type": "code",
   "execution_count": 15,
   "id": "15966d02",
   "metadata": {
    "slideshow": {
     "slide_type": "-"
    }
   },
   "outputs": [
    {
     "name": "stdout",
     "output_type": "stream",
     "text": [
      "Entre com a massa: 74.8\n",
      "Entre com a altura: 1.65\n",
      "Seu imc é de 27.474747474747478\n"
     ]
    }
   ],
   "source": [
    "# Vamos usar o comando float() para converter a entrada em um número real\n",
    "massa = float(input(\"Entre com a massa: \"))\n",
    "altura = float(input(\"Entre com a altura: \"))\n",
    "imc = massa / (altura*altura);\n",
    "print(\"Seu imc é de\", imc)"
   ]
  },
  {
   "cell_type": "markdown",
   "id": "9dbebe12",
   "metadata": {
    "slideshow": {
     "slide_type": "slide"
    }
   },
   "source": [
    "## Exemplo 2 (importando uma biblioteca)\n",
    "\n",
    "Vamos criar um algoritmo para calcular a área de um círculo."
   ]
  },
  {
   "cell_type": "markdown",
   "id": "8dcf836f",
   "metadata": {
    "slideshow": {
     "slide_type": "subslide"
    }
   },
   "source": [
    "### Inclusão das bibliotecas\n",
    "\n",
    "Vamos incluir a biblioteca `math` para termos o valor de $\\pi$.\n",
    "Vamos também renomeá-la para `m`, para deixar o código mais limpo.\n",
    "<div class=\"alert alert-info\">Observe que só precisamos importar uma biblioteca uma única vez em cada notebook.</div>"
   ]
  },
  {
   "cell_type": "code",
   "execution_count": 16,
   "id": "1bc70b07",
   "metadata": {
    "slideshow": {
     "slide_type": "-"
    }
   },
   "outputs": [],
   "source": [
    "import math as m"
   ]
  },
  {
   "cell_type": "code",
   "execution_count": 28,
   "id": "3022d2e7",
   "metadata": {
    "slideshow": {
     "slide_type": "-"
    }
   },
   "outputs": [
    {
     "name": "stdout",
     "output_type": "stream",
     "text": [
      "Entre com o raio: 2\n",
      "A área é de 12.566370614359172\n"
     ]
    }
   ],
   "source": [
    "raio = float(input(\"Entre com o raio: \")) \n",
    "area = m.pi * raio ** 2\n",
    "print(\"A área é de\", area)"
   ]
  },
  {
   "cell_type": "markdown",
   "id": "3ef89c98",
   "metadata": {
    "slideshow": {
     "slide_type": "subslide"
    }
   },
   "source": [
    "Caso você queira formatar a saída para apresentar apenas 2 algarismos após a vírgula, uma das formas possíveis é utilizar as `f-strings` (https://pythonacademy.com.br/blog/f-strings-no-python)"
   ]
  },
  {
   "cell_type": "code",
   "execution_count": 30,
   "id": "2db581a9",
   "metadata": {
    "slideshow": {
     "slide_type": "-"
    }
   },
   "outputs": [
    {
     "name": "stdout",
     "output_type": "stream",
     "text": [
      "A área é de 12.57\n"
     ]
    }
   ],
   "source": [
    "print(f'A área é de {area:.2f}')"
   ]
  },
  {
   "cell_type": "markdown",
   "id": "d4cb3319",
   "metadata": {
    "slideshow": {
     "slide_type": "slide"
    }
   },
   "source": [
    "## Exemplo 3: Constantes"
   ]
  },
  {
   "cell_type": "markdown",
   "id": "090e5c6f",
   "metadata": {},
   "source": [
    "Um carro A viaja de Ouro Branco à Belo Horizonte a uma velocidade de 80km/h.\n",
    "\n",
    "Outro carro B viaja de Belo Horizonte à Ouro Branco a uma velocidade de 100km/h.\n",
    "\n",
    "Sabendo que a distância entre as cidades é de 100km e que eles saíram no mesmo horário, em qual quilômetro eles irão se encontrar?\n",
    "\n",
    "https://www.sofisica.com.br/conteudos/Mecanica/Cinematica/mu.php"
   ]
  },
  {
   "cell_type": "markdown",
   "id": "8dbb7828",
   "metadata": {
    "slideshow": {
     "slide_type": "subslide"
    }
   },
   "source": [
    "Sabemos que a equação de um movimento uniforme é dado por:\n",
    "\n",
    "\\begin{equation}\n",
    "S_{final} = S_{inicial} + v \\Delta t\n",
    "\\end{equation}"
   ]
  },
  {
   "cell_type": "markdown",
   "id": "f224090f",
   "metadata": {
    "slideshow": {
     "slide_type": "subslide"
    }
   },
   "source": [
    "Temos que:\n",
    "\n",
    "Para o carro A:\n",
    "\n",
    "* $S^A_{inicial} = 0$\n",
    "* $v_A = 80$\n",
    "\n",
    "Para o carro B:\n",
    "\n",
    "* $S^B_{inicial} = 100$\n",
    "* $v_B = -100$\n",
    "\n",
    "E finalmente:\n",
    "\n",
    "* $S^A_{final} = S^B_{final}$\n",
    "* $\\Delta t_A = \\Delta t_B$\n"
   ]
  },
  {
   "cell_type": "markdown",
   "id": "f74dcda0",
   "metadata": {
    "slideshow": {
     "slide_type": "subslide"
    }
   },
   "source": [
    "Substituindo os valores chegamos em:\n",
    "  \n",
    "$S^A_{inicial} + v_A \\Delta t = S^B_{inicial} + v_B \\Delta t$\n",
    "\n",
    "Ou seja:\n",
    "\n",
    "$\\Delta t = \\dfrac{S^B_{inicial} - S^A_{inicial}}{v_A - v_B}$\n",
    "\n",
    "E:\n",
    "\n",
    "$S_{final} = S^A_{inicial} + v_A \\Delta t$"
   ]
  },
  {
   "cell_type": "code",
   "execution_count": 45,
   "id": "62dd5e7a",
   "metadata": {
    "slideshow": {
     "slide_type": "subslide"
    }
   },
   "outputs": [],
   "source": [
    "velocidade_a = 80\n",
    "velocidade_b = -100\n",
    "distancia = 100\n",
    "s_a = 0\n",
    "s_b = distancia"
   ]
  },
  {
   "cell_type": "code",
   "execution_count": 57,
   "id": "6cc16891",
   "metadata": {
    "slideshow": {
     "slide_type": "-"
    }
   },
   "outputs": [
    {
     "name": "stdout",
     "output_type": "stream",
     "text": [
      "Eles irão se encontrar no km: 44.44\n"
     ]
    }
   ],
   "source": [
    "Delta_t = (s_b - s_a)/(velocidade_a - velocidade_b)\n",
    "posicao_final = s_a + velocidade_a * Delta_t\n",
    "print(f'Eles irão se encontrar no km: {posicao_final:.2f}')"
   ]
  },
  {
   "cell_type": "markdown",
   "id": "20999604",
   "metadata": {
    "slideshow": {
     "slide_type": "slide"
    }
   },
   "source": [
    "## Exemplo 4: Booleanos"
   ]
  },
  {
   "cell_type": "markdown",
   "id": "57b9f044",
   "metadata": {
    "slideshow": {
     "slide_type": "skip"
    }
   },
   "source": [
    "O tipo de dados `bool` armazena valores do tipo *verdadeiro* e *falso*.\n",
    "Seu nome tem origem no matemático <a href=https://www.tecmundo.com.br/programacao/1527-logica-booleana-saiba-um-pouco-mais-sobre-esta-logica-e-como-ela-funciona.htm>George Boole</a>, criador da álgebra booleana.\n",
    "\n",
    "A álgebra de Boole baseia-se em três operadores: E, OU e NÃO (AND, OR, NOT), e foi fundamental para o desenvolvimento dos circuitos lógicos, base dos computadores modernos.\n",
    "Ou seja, embora um microprocessador pareça ser algo extremamente complicado, caso pudéssemos visualizá-lo no seu nível mais fundamental, veríamos milhões de portas lógicas conectadas entre si.\n",
    "\n",
    "Um aspecto interessante é que tais portas lógicas foram inicialmente implementadas com relés, depois válvulas e por último transistores e os circuitos integrados.\n",
    "<a href=https://tecdicas.com/criando-portas-logicas-com-transistores/>[saiba mais]</a>\n",
    "\n",
    "Outra aplicação que tem mostrado crescimento expressivo é na área de biologia sintética, onde circuitos lógicos *biológicos* são inseridos dentro de células, ajustando o fluxo metabólico com o intuito de gerar células que produzam um produto de interesse. \n",
    "Por exemplo, uma bactéria pode ser alterada de forma a apresentar bioluminescência na presença de metais pesados ou toxinas, tornando-se um <a href=https://bv.fapesp.br/pt/bolsas/166316/construcao-de-biossensores-de-arsenio-ultrassensiveis-atraves-da-abordagem-da-biologia-sintetica/>biossensor</a>.\n",
    "Outros exemplos são a produção de <a href=https://www.perfectdayfoods.com/>leite sintético</a> ou um assento feito de <a href=https://forbes.com.br/negocios/2019/09/conheca-cinco-empresas-de-biologia-sintetica-que-vao-mudar-a-industria-automotiva/>teias de aranha</a>.\n",
    "<a href=https://www.blogs.unicamp.br/synbiobrasil/tag/logica-booleana/>[saiba mais]</a>\n",
    "<a href=https://repositorio.unb.br/handle/10482/35547>[Duarte 2019, UnB]</a>\n",
    "\n",
    "Veremos mais a frente, quando estivermos falando de comandos condicionais (`if`), laços (`while`) e operações lógicas a utilização de variáveis do tipo booleano."
   ]
  },
  {
   "cell_type": "code",
   "execution_count": 84,
   "id": "2d902ddf",
   "metadata": {
    "slideshow": {
     "slide_type": "subslide"
    }
   },
   "outputs": [
    {
     "name": "stdout",
     "output_type": "stream",
     "text": [
      "Operador not:\n",
      "False\n",
      "False\n",
      "True\n",
      "True\n",
      "\n",
      "Operador and:\n",
      "\n",
      "V and V:  True\n",
      "True\n",
      "1 > 0 and 3 < 4:  True\n",
      "V and F:  False\n",
      "1 > 0 and 5 == 2:  False\n",
      "F and F:  False\n",
      "3 > 5 and 3 > 6:  False\n",
      "\n",
      "Operador or:\n",
      "\n",
      "V or V:  True\n",
      "4 > 4 or 3 < 4:  True\n",
      "V or F:  True\n",
      "4 >= 4 or 5 == 2:  True\n",
      "F or F:  False\n",
      "3 >= 5 or 3 != 3:  True\n"
     ]
    }
   ],
   "source": [
    "# Vamos criar algumas variaveis e armazenar valores booleanos nelas:\n",
    "V1 = True \n",
    "V2 = True\n",
    "F1 = False\n",
    "F2 = False\n",
    "\n",
    "# Em seguida, vamos imprimir o resultado de algumas operacoes boolenas:\n",
    "# Operador not:\n",
    "print('Operador not:')\n",
    "print(not True)\n",
    "print(not V1)\n",
    "\n",
    "print(not False)\n",
    "print(not F1)\n",
    "\n",
    "# Operador and:\n",
    "print('\\nOperador and:\\n')\n",
    "print('V and V: ', True and True)\n",
    "\n",
    "print(V1 and V2)\n",
    "\n",
    "res = 1 > 0 and 3 < 4\n",
    "\n",
    "print('1 > 0 and 3 < 4: ', res)\n",
    "\n",
    "print('V and F: ', True and False)\n",
    "\n",
    "res = 1 > 0 and 5 == 2\n",
    "\n",
    "print('1 > 0 and 5 == 2: ', res)\n",
    "\n",
    "print('F and F: ',False and False)\n",
    "\n",
    "res = 3 > 5 and 3 > 6\n",
    "\n",
    "print('3 > 5 and 3 > 6: ', res)\n",
    "\n",
    "# Operador or:\n",
    "print('\\nOperador or:\\n')\n",
    "print('V or V: ', True or True)\n",
    "print('4 > 4 or 3 < 4: ', 4 > 4 or 3 < 4)\n",
    "\n",
    "print('V or F: ', True or False)\n",
    "print('4 >= 4 or 5 == 2: ', 4 >= 4 or 5 == 2)\n",
    "\n",
    "print('F or F: ', False or False)\n",
    "print('3 >= 5 or 3 != 3: ', 3 >= 5 or 3 != 6)\n"
   ]
  },
  {
   "cell_type": "code",
   "execution_count": null,
   "id": "44a04b25",
   "metadata": {},
   "outputs": [],
   "source": []
  },
  {
   "cell_type": "markdown",
   "id": "449feb66",
   "metadata": {
    "heading_collapsed": true
   },
   "source": [
    "# Exercício 1: Média"
   ]
  },
  {
   "cell_type": "markdown",
   "id": "c50e2d8a",
   "metadata": {
    "hidden": true
   },
   "source": [
    "Crie um algoritmo que leia 3 números reais ($a$, $b$ e $c$) e calcule:\n",
    "\n",
    "* A média aritmética deles: \n",
    "$MA = \\dfrac{(a + b + c)}{3}$\n",
    "* A média harmônica deles: \n",
    "$MH = \\dfrac{3}{\\dfrac{1}{a} + \\dfrac{1}{b} + \\dfrac{1}{c}}$\n",
    "\n",
    "<div class=\"alert alert-info\">\n",
    "Obs.: Use os parênteses \"()\" para organizar a precedência das operações.\n",
    "</div>"
   ]
  },
  {
   "cell_type": "markdown",
   "id": "2c8fea7a",
   "metadata": {
    "hidden": true
   },
   "source": [
    "## Escreva sua resposta abaixo:\n",
    "\n",
    "Crie novas células se quiser"
   ]
  },
  {
   "cell_type": "code",
   "execution_count": null,
   "id": "dc01c474",
   "metadata": {
    "hidden": true
   },
   "outputs": [],
   "source": []
  },
  {
   "cell_type": "markdown",
   "id": "18b53256",
   "metadata": {
    "heading_collapsed": true
   },
   "source": [
    "# Exercício 2: Razão áurea"
   ]
  },
  {
   "cell_type": "markdown",
   "id": "fa7514d1",
   "metadata": {
    "hidden": true
   },
   "source": [
    "A razão áurea é um número irracional, tal qual o famoso número $\\pi$, e é também denotado por uma letra grega, o “phi” ($\\phi$). \n",
    "Este famoso número se manisfesta em diversas aspectos da natureza, como nas espirais de conchas, flores, redemoinhos, teias de aranha e de galáxias.\n",
    "Também o encontramos em pinturas, esculturas, música e construções.\n",
    "Como exemplo, várias obras de Leonardo Da Vinci utilizam a divina proporção, pois o corpo humano também possui diversas relações com a razão áurea. \n",
    "No Egito Antigo, as pirâmides de Gizé foram construídas tendo por base a razão de ouro: o quociente entre a altura de uma face e metade do lado da base da grande pirâmide é igual ao número de ouro. \n",
    "Fibonacci utilizou a razão áurea na solução do famoso problema dos coelhos, naquilo que hoje conhecemos como a sequência de números de Fibonacci. \n",
    "Na natureza, o modelo de desenvolvimento de muitas plantas pode ser relacionado com esta sequência.\n",
    "\n",
    "Conhecido desde a Antiguidade, o $\\phi$ recebeu vários títulos: \"Número Áureo\", \"Razão Áurea\", \"Proporção Áurea\", \"Proporção de Ouro\", \"Número de Ouro\", \"Divisão de Extrema Razão\".\n",
    "\n",
    "Matematicamente, a razão áurea é dada por:\n",
    "\n",
    "$\\phi = \\frac{1 + \\sqrt{5}}{2}$\n",
    "\n",
    "Escreva um algoritmo que determine o valor da razão áurea.\n",
    "\n",
    "Use a função `sqrt(numero)` para calcular a raiz quadrada.\n",
    "\n",
    "Sabendo que a pirâmide de Quéops obedece a seguinte proporção:\n",
    "![fig](./figuras/piramide.jpg)\n",
    "\n",
    "__calcule a altura da pirâmide de Quéops, sabendo que sua base mede 230,33m.__\n",
    "\n",
    "Fontes: \n",
    "\n",
    "https://www.megacurioso.com.br/matematica-e-estatistica/74174-voce-sabe-o-que-e-a-proporcao-aurea.htm\n",
    "\n",
    "http://clubes.obmep.org.br/blog/atividade-a-razao-aurea/\n",
    "\n",
    "http://www.rpm.org.br/cdrpm/48/1.htm"
   ]
  },
  {
   "cell_type": "markdown",
   "id": "ff939811",
   "metadata": {
    "hidden": true
   },
   "source": [
    "## Escreva sua resposta abaixo:\n",
    "\n",
    "Crie novas células se quiser"
   ]
  },
  {
   "cell_type": "code",
   "execution_count": null,
   "id": "16117cde",
   "metadata": {
    "hidden": true
   },
   "outputs": [],
   "source": []
  }
 ],
 "metadata": {
  "celltoolbar": "Slideshow",
  "kernelspec": {
   "display_name": "Python 3 (ipykernel)",
   "language": "python",
   "name": "python3"
  },
  "language_info": {
   "codemirror_mode": {
    "name": "ipython",
    "version": 3
   },
   "file_extension": ".py",
   "mimetype": "text/x-python",
   "name": "python",
   "nbconvert_exporter": "python",
   "pygments_lexer": "ipython3",
   "version": "3.10.4"
  },
  "latex_envs": {
   "LaTeX_envs_menu_present": true,
   "autoclose": true,
   "autocomplete": true,
   "bibliofile": "biblio.bib",
   "cite_by": "apalike",
   "current_citInitial": 1,
   "eqLabelWithNumbers": true,
   "eqNumInitial": 1,
   "hotkeys": {
    "equation": "Ctrl-E",
    "itemize": "Ctrl-I"
   },
   "labels_anchors": false,
   "latex_user_defs": false,
   "report_style_numbering": false,
   "user_envs_cfg": false
  }
 },
 "nbformat": 4,
 "nbformat_minor": 5
}
