{
 "cells": [
  {
   "cell_type": "markdown",
   "id": "47de5b8f",
   "metadata": {},
   "source": [
    "# Exercício 1\n",
    "\n",
    "Considerando os pontos abaixo:\n",
    "\n",
    "\\begin{array}{|c|cccccccccc|} \\hline\n",
    "x & 0 & 2 & 4 & 6 & 9 & 11 & 12 & 15 & 17 & 19 \\\\ \\hline\n",
    "y & 5 & 6 & 7 & 6 & 9 & 8 & 8 & 10 & 12 & 12 \\\\ \\hline\n",
    "\\end{array}\n",
    "\n",
    "1. Plote o gráfico de dispersão dos pontos acima.\n",
    "2. Use o método dos mínimos quadrados linear para realizar o ajuste de uma reta.\n",
    "3. Plote o gráfico da reta estimada."
   ]
  },
  {
   "cell_type": "code",
   "execution_count": null,
   "id": "161d1335",
   "metadata": {},
   "outputs": [],
   "source": []
  },
  {
   "cell_type": "markdown",
   "id": "a69a89be",
   "metadata": {},
   "source": [
    "# Exercício 2\n",
    "\n",
    "Um resistor foi submetido à uma tensão elétrica $U$ e mediu-se a corrente $I$ que passou pelo circuito.\n",
    "O valor de $U$ variou de 10V até 40V, conforme tabela abaixo.\n",
    "\n",
    "\\begin{array}{|c|c|} \\hline\n",
    "U (V)) & I (mA) \\\\ \\hline\n",
    "10,3 & 20,5 \\\\\n",
    "15,8 & 31,8 \\\\\n",
    "19,5 & 40,0 \\\\\n",
    "22,6 & 44,6 \\\\\n",
    "29,0 & 59,0 \\\\\n",
    "37,4 & 75,1 \\\\\n",
    "40,0 & 80,2 \\\\ \\hline\n",
    "\\end{array}\n",
    "\n",
    "1. Plote o gráfico de $U$ por $I$\n",
    "2. Sabendo que o resistor obedece a lei de Ohm ($U = R\\cdot I$), utilize o método dos mínimos quadrados para estimar um valor de $R$."
   ]
  },
  {
   "cell_type": "code",
   "execution_count": null,
   "id": "1ef504cc",
   "metadata": {},
   "outputs": [],
   "source": []
  },
  {
   "cell_type": "markdown",
   "id": "00ee9364-d1f5-457d-8ce3-2b3539a1a5c5",
   "metadata": {},
   "source": [
    "# Exercício 3\n",
    "\n",
    "Considere os dados abaixo:\n",
    "\n",
    "\\begin{array}{|c|cccccccccc|} \\hline\n",
    "x   & 1 & 3 & 4 & 5 & 8 & 12 & 15 & 17 & 19 & 20 \\\\ \\hline\n",
    "y_1 & 8 & 12 & 16 & 18 & 24 & 29 & 35 & 42 & 44 & 48  \\\\ \\hline\n",
    "y_2 & 13 & 14 & 15 & 15 & 21 & 23 & 35 & 38 & 45 & 52  \\\\ \\hline\n",
    "\\end{array}\n",
    "\n",
    "1. Determine a melhor reta que se ajusta aos conjunto de dados $(x, y_1)$ \n",
    "2. Determine a melhor reta que se ajusta aos conjunto de dados $(x, y_2)$ \n",
    "3. Determine o valor da métrica $r^2$ para o primeiro e para o segundo ajustes.\n",
    "4. Identifique qual deles se ajusta melhor à uma reta."
   ]
  },
  {
   "cell_type": "code",
   "execution_count": null,
   "id": "8a140fcb-3307-4ea0-953d-2ed3ec7efa2c",
   "metadata": {},
   "outputs": [],
   "source": []
  },
  {
   "cell_type": "markdown",
   "id": "3f892f0d-4135-4f4d-abfe-e04fe0352857",
   "metadata": {},
   "source": [
    "# Exercício 4\n",
    "\n",
    "Suponha que um determinado fenômeno obedece ao modelo $P(t) = P_0 e^{-\\lambda/t}$.\n",
    "Considerando os valores de $P$ e $t$ abaixo, faça o que se pede: \n",
    "\n",
    "\\begin{array}{|c|c|} \\hline\n",
    "P & t \\\\ \\hline\n",
    "2,5 & 261 \\\\\n",
    "6,1 & 280 \\\\\n",
    "10,1 & 290 \\\\\n",
    "31,3 & 302 \\\\\n",
    "44,1 & 310 \\\\\n",
    "80,0 & 322 \\\\\n",
    "150,0 & 331 \\\\\n",
    "260,0 & 340 \\\\ \\hline\n",
    "\\end{array}\n",
    "\n",
    "1. Linearize o modelo.\n",
    "2. Determine os valores de $P_0$ e $\\lambda$ utilizando regressão linear.\n",
    "3. Plote os pontos originais.\n",
    "4. Plote o gráfico da curva $P(t) = P_0 e^{-\\lambda/t}$ estimada.\n",
    "5. Estime o valor de P(100)."
   ]
  },
  {
   "cell_type": "code",
   "execution_count": null,
   "id": "ee9b42e7-80a8-4b59-bc34-081b10e1fc53",
   "metadata": {},
   "outputs": [],
   "source": []
  },
  {
   "cell_type": "markdown",
   "id": "db2b2825-e1a0-4719-9029-48b2ec201300",
   "metadata": {},
   "source": [
    "# Exercício 5"
   ]
  },
  {
   "cell_type": "markdown",
   "id": "116543c3",
   "metadata": {},
   "source": [
    "Os dados abaixo estão relacionados com a equação do tipo $y(x) = ax^n$.\n",
    "\n",
    "\\begin{array}{|c|c|} \\hline\n",
    "x & y \\\\ \\hline\n",
    "2.0  &  8.3 \\\\\n",
    "4.0  &  30.0 \\\\\n",
    "6.0  &  72.3 \\\\\n",
    "8.0  &  128.4 \\\\\n",
    "10.0  &  200.6 \\\\\n",
    "12.0  &  287.6 \\\\\n",
    "14.0  &  391.2 \\\\\n",
    "16.0  &  513.3 \\\\\n",
    "18.0  &  648.1 \\\\\n",
    "20.0  &  799.5 \\\\ \\hline\n",
    "\\end{array}\n",
    "\n",
    "1. Estime os valores de $a$ e $n$ utilizando o método dos mínimos quadrados.\n",
    "2. Plote o gráfico de dispersão dos pontos originais.\n",
    "3. Plote o gráfico da curva $y(x) = ax^n$ estimada."
   ]
  },
  {
   "cell_type": "code",
   "execution_count": null,
   "id": "a1a4d74f",
   "metadata": {},
   "outputs": [],
   "source": []
  },
  {
   "cell_type": "markdown",
   "id": "bf85914f",
   "metadata": {},
   "source": [
    "# Exercício 6\n",
    "\n",
    "[CHAPRA, ex. 14.21]\n",
    "\n",
    "Os seguintes dados foram tomados de um reator de mistura para a reação $A \\rightarrow B$.\n",
    "Use os dados para determinar a melhor estimativa possível para $k_{01}$ e $E_1$ para o seguinte modelo cinético:\n",
    "\n",
    "\\begin{equation}\n",
    "-\\dfrac{dA}{dt} = k_{01}e^{-E_1/RT}A\n",
    "\\end{equation}\n",
    "\n",
    "onde $R$ é a constante do gás ideal e é igual a 0,00198Kcal/mol/K\n",
    "\n",
    "\\begin{array}{lccccc} \\hline\n",
    "-dA/dt (mols/L/s) & 460 & 960 & 2.485 & 1.600 & 1.245 \\\\\n",
    "A (mols/L) & 200 & 150 & 50 & 20 & 10 \\\\\n",
    "T (K) & 280 & 320 & 450 & 500 & 550 \\\\ \\hline\n",
    "\\end{array}\n",
    "\n",
    "Dica: Linearize o problema definindo a variável $y$ de forma inteligente."
   ]
  },
  {
   "cell_type": "code",
   "execution_count": null,
   "id": "6e708bdd",
   "metadata": {},
   "outputs": [],
   "source": []
  },
  {
   "cell_type": "markdown",
   "id": "d1d5d281",
   "metadata": {},
   "source": [
    "# Exercício 7\n",
    "\n",
    "[Adaptado de CHAPRA ex 15.11]\n",
    "\n",
    "O seguinte modelo é usado para representar o efeito da radiação solar na taxa de fotossíntese de plantas aquáticas:\n",
    "\n",
    "\\begin{equation}\n",
    "P = P_m \\dfrac{I}{I_{sat}}e^{-\\frac{I}{I_{sat}}+1}\n",
    "\\end{equation}\n",
    "\n",
    "onde $P$ é a taxa de fotossíntese ($mg\\cdot m^{-3}\\cdot d^{-1}$), $P_m$ é a taxa de fotossíntese máxima ($mg\\cdot m^{-3}\\cdot d^{-1}$), $I$ é a radiação solar ($\\mu  E \\cdot m^{-2}\\cdot s^{-1}$) e $I_{sat}$ é a radiação solar ótima ($\\mu E \\cdot m^{-2}\\cdot s^{-1}$).\n",
    "\n",
    "Utilize a estimativa inicial $P_m = 400$ e $I_{sat} = 500$ caso necessário e os dados abaixo:\n",
    "\n",
    "\\begin{array}{lccccccccc} \\hline\n",
    "I & 50 & 80 & 130 & 200 & 250 & 350 & 450 & 550 & 700 \\\\\n",
    "P & 99 & 177 & 202 & 248 & 229 & 219 & 173 & 142 & 72 \\\\ \\hline\n",
    "\\end{array}\n",
    "\n",
    "1. Use a regressão não-linear para calcular $P_m$ e $I_{sat}$.\n",
    "2. Plote os pontos originais.\n",
    "3. Plote o gráfico da curva $P = P_m \\dfrac{I}{I_{sat}}e^{-\\frac{I}{I_{sat}}+1}$\n",
    "4. Estime o valor da taxa de fotossíntese para uma radiação solar de $1000 \\mu  E \\cdot m^{-2}\\cdot s^{-1}$"
   ]
  },
  {
   "cell_type": "code",
   "execution_count": null,
   "id": "ddea5c3b",
   "metadata": {},
   "outputs": [],
   "source": []
  }
 ],
 "metadata": {
  "kernelspec": {
   "display_name": "Python 3 (ipykernel)",
   "language": "python",
   "name": "python3"
  },
  "language_info": {
   "codemirror_mode": {
    "name": "ipython",
    "version": 3
   },
   "file_extension": ".py",
   "mimetype": "text/x-python",
   "name": "python",
   "nbconvert_exporter": "python",
   "pygments_lexer": "ipython3",
   "version": "3.9.12"
  },
  "latex_envs": {
   "LaTeX_envs_menu_present": true,
   "autoclose": true,
   "autocomplete": false,
   "bibliofile": "biblio.bib",
   "cite_by": "apalike",
   "current_citInitial": 1,
   "eqLabelWithNumbers": true,
   "eqNumInitial": 1,
   "hotkeys": {
    "equation": "Ctrl-E",
    "itemize": "Ctrl-I"
   },
   "labels_anchors": false,
   "latex_user_defs": false,
   "report_style_numbering": false,
   "user_envs_cfg": false
  }
 },
 "nbformat": 4,
 "nbformat_minor": 5
}
