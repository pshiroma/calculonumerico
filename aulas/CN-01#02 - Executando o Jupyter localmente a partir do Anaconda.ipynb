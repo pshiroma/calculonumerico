{
 "cells": [
  {
   "cell_type": "markdown",
   "id": "afda32ec",
   "metadata": {},
   "source": [
    "[Clonando o repositório do Github](https://youtu.be/zCpZhEmhdIo)\n",
    "\n",
    "[Iniciando o Jupyter a partir do Anaconda](https://youtu.be/NEmb1s1tSRM)"
   ]
  },
  {
   "cell_type": "markdown",
   "id": "4d39803d",
   "metadata": {},
   "source": [
    "# Trabalhando localmente\n",
    "\n",
    "Para trabalhar localmente, direto do seu computador, voce deve realizar 3 passos:\n",
    "\n",
    "1. Realizar o download dos notebooks da disciplina\n",
    "2. Instalar o Anaconda e os pacotes auxiliares\n",
    "3. Iniciar o Jupyter"
   ]
  },
  {
   "cell_type": "markdown",
   "id": "ee56e68c",
   "metadata": {
    "slideshow": {
     "slide_type": "subslide"
    }
   },
   "source": [
    "## Realizando o download dos arquivos da disciplina\n",
    "\n",
    "Os arquivos encontram-se disponíveis em https://github.com/pshiroma/calculonumerico\n",
    "\n",
    "<img src=\"figuras/github.png\" width=\"1000\">\n",
    "\n",
    "Após entrar no site, selecione o botão verde escrito \"Code\" e escolha a opção \"Download zip\""
   ]
  },
  {
   "cell_type": "markdown",
   "id": "0e69b322",
   "metadata": {
    "heading_collapsed": true
   },
   "source": [
    "## Instalando o Anaconda\n",
    "\n",
    "A forma mais prática de instalar o python é utilizando o instalador Anaconda (https://anaconda.org/), embora existam outros instaladores."
   ]
  },
  {
   "cell_type": "markdown",
   "id": "e49e36e8",
   "metadata": {
    "hidden": true
   },
   "source": [
    "A grande vantagem é que nele já vem instalado quase todas as bibliotecas que serão necessárias para a disciplina, além de contar com uma interface gráfica amigável.\n",
    "\n",
    "1. Baixe o instalador e instale-o\n",
    "\n",
    "2. Para iniciar o programa, você pode iniciar pelo `Anaconda Powershell` ou pelo `anaconda navigator`:\n",
    "\n",
    "<img src=\"figuras/anaconda1.png\" width=\"1000\">\n",
    "\n",
    "Um ambiente é uma forma de isolar um ambiente de desenvolvimento, permitindo que você utilize versões diferentes de pacotes sem interferir nos outros ambientes. \n",
    "\n",
    "O Anaconda vem com um ambiente (Environment) padrão chamado `base (root)`.\n",
    "Não há problema em desenvolver utilizando este ambiente mas caso prefira, você criar um ambiente específico para a disciplina.\n",
    "\n",
    "3. Configurando o canal `conda-forge`\n",
    "\n",
    "Apesar do site oficial do Anaconda possuir um vasto repositório de bibliotecas, nem todos os pacotes necessários foram integradas à ela.\n",
    "Um repositório que possui um conjunto interessante de outras bibliotecas é chamado `conda-forge`.\n",
    "\n",
    "Para adicioná-lo, clique no botâo `Channels` e em seguida digite o texto `conda-forge` logo abaixo do canal `defaults`.\n",
    "\n",
    "<img src=\"figuras/anaconda3.png\" width=\"1000\">\n",
    "\n",
    "Clique que `Update channels` e finalize.\n",
    "\n",
    "<img src=\"figuras/anaconda4.png\" width=\"500\">\n",
    "\n",
    "4. Instalando as bibliotecas da disciplina\n",
    "\n",
    "O próximo passo é instalar as bibliotecas que serão utilizadas na disciplina.\n",
    "\n",
    "Serão utilizados as seguintes bibliotecas:\n",
    "\n",
    "* jupyter\n",
    "* numpy\n",
    "* scipy\n",
    "* matplotlib\n",
    "* ipympl\n",
    "* jupyter_latex_envs\n",
    "* nbextensions (opcional)\n",
    "* mplcursors (opcional)\n",
    "\n",
    "Caso algum deles não esteja instalado, basta selecioná-lo e pedir para instalar, por exemplo, digite o nome de uma biblioteca no campo de busca e veja se ela está instalada:\n",
    "\n",
    "<img src=\"figuras/anaconda6.png\" width=\"1000\">\n",
    "\n",
    "Caso não esteja, marque-a e peça para instalar.\n",
    "\n",
    "<img src=\"figuras/anaconda5.png\" width=\"1000\">\n",
    "\n",
    "<img src=\"figuras/anaconda12.png\" width=\"1000\">\n",
    "\n",
    "Após selecionar as bibliotecas que deseja instalar, clique no botão `Apply`:\n",
    "\n",
    "<img src=\"figuras/anaconda9.png\" width=\"200\">\n",
    "\n",
    "verifique os pacotes que serão instalados e confirme:\n",
    "\n",
    "<img src=\"figuras/anaconda10.png\" width=\"600\">\n",
    "\n",
    "Por último, atualize as informações e clique no botão `Update index...`\n",
    "\n",
    "\n",
    " 4.1. Também é possível instalár as bibliotecas utilizando o Anaconda Powershell, por meio do comando:\n",
    "\n",
    "```\n",
    "conda install -c conda-forge nomedabiblioteca\n",
    "```\n",
    "\n",
    "Caso você precise economizar espaço, uma alternativa é utilizar o Miniconda (https://docs.conda.io/en/latest/miniconda.html), uma versão reduzida do Anaconda, porém sua utilização é mais trabalhosa.\n",
    "\n",
    "Os seguintes pacotes foram instalados no computador:\n",
    "\n",
    "```\n",
    "conda install -c conda-forge jupyter numpy matplotlib ipympl jupyter_contrib_nbextensions jupyter_latex_envs mplcursors rise\n",
    "conda install -c anaconda scipy\n",
    "```"
   ]
  },
  {
   "cell_type": "markdown",
   "id": "fce69c8a",
   "metadata": {},
   "source": [
    "# Executando o Jupyter"
   ]
  },
  {
   "cell_type": "markdown",
   "id": "145dab93",
   "metadata": {},
   "source": [
    "Dentro do Anaconda Navigator, vá em `Home` e em seguida, selecione a aplicação `Jupyter notebook`:\n",
    "\n",
    "<img src=\"figuras/anaconda13.png\" width=\"1000\">\n",
    "\n",
    "Caso a opção não apareça, você pode ir no item `Environments` e ao clicar no botão de play, deve aparecer a opção de executar o jupyter:\n",
    "\n",
    "<img src=\"figuras/anaconda14.png\" width=\"1000\">\n"
   ]
  }
 ],
 "metadata": {
  "celltoolbar": "Slideshow",
  "kernelspec": {
   "display_name": "Python 3 (ipykernel)",
   "language": "python",
   "name": "python3"
  },
  "language_info": {
   "codemirror_mode": {
    "name": "ipython",
    "version": 3
   },
   "file_extension": ".py",
   "mimetype": "text/x-python",
   "name": "python",
   "nbconvert_exporter": "python",
   "pygments_lexer": "ipython3",
   "version": "3.9.12"
  },
  "latex_envs": {
   "LaTeX_envs_menu_present": true,
   "autoclose": true,
   "autocomplete": true,
   "bibliofile": "biblio.bib",
   "cite_by": "apalike",
   "current_citInitial": 1,
   "eqLabelWithNumbers": true,
   "eqNumInitial": 1,
   "hotkeys": {
    "equation": "Ctrl-E",
    "itemize": "Ctrl-I"
   },
   "labels_anchors": false,
   "latex_user_defs": false,
   "report_style_numbering": false,
   "user_envs_cfg": false
  }
 },
 "nbformat": 4,
 "nbformat_minor": 5
}
