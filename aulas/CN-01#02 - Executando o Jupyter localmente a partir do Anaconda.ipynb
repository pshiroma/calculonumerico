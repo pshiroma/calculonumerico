{
 "cells": [
  {
   "cell_type": "markdown",
   "id": "afda32ec",
   "metadata": {},
   "source": [
    "[Clonando o repositório do Github](https://youtu.be/zCpZhEmhdIo)\n",
    "\n",
    "[Iniciando o Jupyter a partir do Anaconda](https://youtu.be/NEmb1s1tSRM)"
   ]
  },
  {
   "cell_type": "markdown",
   "id": "386ef7b0",
   "metadata": {
    "slideshow": {
     "slide_type": "slide"
    }
   },
   "source": [
    "# Executando o Jupyter \n",
    "\n",
    "Por se tratar de uma aplicação web, existem diversas formas de trabalhar com o ambiente jupyter.\n",
    "Vamos detalhar como executá-lo localmente, a partir do Anaconda"
   ]
  },
  {
   "cell_type": "markdown",
   "id": "5bcce766",
   "metadata": {
    "slideshow": {
     "slide_type": "subslide"
    }
   },
   "source": [
    "Para trabalhar localmente, você deve:\n",
    "\n",
    "1. Realizar o download dos arquivos da disciplina, disponível em https://github.com/pshiroma/calculonumerico\n",
    "\n",
    "<img src=\"figuras/github.png\" width=\"1000\">\n",
    "\n",
    "2. Instalar o python / Jupyter no seu computador (por exemplo, usando o instador Anaconda https://anaconda.org/).\n",
    "\n",
    "3. Executar o jupyter notebook a partir do Anaconda Navigator\n",
    "\n",
    "<img src=\"figuras/anaconda14.png\" width=\"1000\">"
   ]
  }
 ],
 "metadata": {
  "celltoolbar": "Slideshow",
  "kernelspec": {
   "display_name": "Python 3 (ipykernel)",
   "language": "python",
   "name": "python3"
  },
  "language_info": {
   "codemirror_mode": {
    "name": "ipython",
    "version": 3
   },
   "file_extension": ".py",
   "mimetype": "text/x-python",
   "name": "python",
   "nbconvert_exporter": "python",
   "pygments_lexer": "ipython3",
   "version": "3.10.4"
  },
  "latex_envs": {
   "LaTeX_envs_menu_present": true,
   "autoclose": true,
   "autocomplete": true,
   "bibliofile": "biblio.bib",
   "cite_by": "apalike",
   "current_citInitial": 1,
   "eqLabelWithNumbers": true,
   "eqNumInitial": 1,
   "hotkeys": {
    "equation": "Ctrl-E",
    "itemize": "Ctrl-I"
   },
   "labels_anchors": false,
   "latex_user_defs": false,
   "report_style_numbering": false,
   "user_envs_cfg": false
  }
 },
 "nbformat": 4,
 "nbformat_minor": 5
}
