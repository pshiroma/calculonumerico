{
 "cells": [
  {
   "cell_type": "markdown",
   "id": "afda32ec",
   "metadata": {},
   "source": [
    "[Clonando o repositório do Github](https://youtu.be/zCpZhEmhdIo)\n",
    "\n",
    "[Iniciando o Jupyter a partir do Anaconda](https://youtu.be/NEmb1s1tSRM)"
   ]
  },
  {
   "cell_type": "markdown",
   "id": "4d39803d",
   "metadata": {},
   "source": [
    "# Trabalhando localmente\n",
    "\n",
    "É possível executar o programa Jupyter localmente no seu computador, não sendo necessário uma conexão com a Internet ou utilizar um servidor na nuvem. \n",
    "\n",
    "Para utilizar o Jupyter localmente, direto do seu computador, voce deve realizar 3 passos:\n",
    "\n",
    "1. Realizar o download dos notebooks da disciplina\n",
    "2. Instalar o Anaconda e os pacotes auxiliares\n",
    "3. Iniciar o Jupyter"
   ]
  },
  {
   "cell_type": "markdown",
   "id": "ee56e68c",
   "metadata": {
    "slideshow": {
     "slide_type": "subslide"
    }
   },
   "source": [
    "## Realizando o download dos arquivos da disciplina\n",
    "\n",
    "Os arquivos da disciplina encontram-se podem ser encontrados no site:  https://github.com/pshiroma/calculonumerico\n",
    "\n",
    "<img src=\"https://lh3.googleusercontent.com/drive-viewer/AKGpihbFS-7HDGRPYUFAe6vw1jsBi3ZDiguyU3HiTUjextzGV6gRCf2dTOoE9GzzGiwl-JH_MR0-IzxeovpKLOB49DvyCotsRg=s1600\" width=\"1000\">\n",
    "\n",
    "Após entrar no site, selecione o botão verde escrito \"Code\" e escolha a opção \"Download zip\".\n",
    "\n",
    "Em seguida, extraia todos os arquivos para uma pasta do seu computador."
   ]
  },
  {
   "cell_type": "markdown",
   "id": "0e69b322",
   "metadata": {
    "heading_collapsed": true
   },
   "source": [
    "## Instalando o Anaconda\n",
    "\n",
    "A forma mais prática de instalar o python é utilizando o instalador Anaconda (https://anaconda.org/), embora existam outros instaladores."
   ]
  },
  {
   "cell_type": "markdown",
   "id": "e49e36e8",
   "metadata": {
    "hidden": true
   },
   "source": [
    "A grande vantagem é que nele já vem instalado quase todas as bibliotecas que serão necessárias para a disciplina, além de contar com uma interface gráfica amigável.\n",
    "\n",
    "1. Baixe o instalador e instale-o\n",
    "\n",
    "2. Para iniciar o programa, você pode iniciar pelo `Anaconda Powershell` ou pelo `anaconda navigator`:\n",
    "\n",
    "<img src=\"https://lh3.googleusercontent.com/drive-viewer/AKGpihYfd_knBnbbctKkYKAzR3wRzs3v74wK1kxS0JhgYc-JvMJQIL09ZzCeKOXobNPVS29jeNkDxAUqBpDaLYXfaOO1nf_5=s1600\" width=\"1000\">\n",
    "\n",
    "O Anaconda utiliza o conceito de ambientes.\n",
    "Um ambiente é uma forma de isolar diferentes projetos em desenvolvimento, permitindo que você utilize versões diferentes de pacotes sem interferir nos outros ambientes. \n",
    "\n",
    "O Anaconda vem com um ambiente (Environment) padrão chamado `base (root)`.\n",
    "Não há problema em desenvolver utilizando este ambiente mas, caso prefira, você pode criar um ambiente específico para a disciplina."
   ]
  },
  {
   "cell_type": "markdown",
   "id": "d0f03da8-8aa9-4c7f-a1f6-b8fbccff710e",
   "metadata": {},
   "source": [
    "Opcionalmente, caso você queira adicionar outros pacotes, execute os passos abaixo:\n",
    "\n",
    "3. Configurando o canal `conda-forge`\n",
    "\n",
    "Apesar do site oficial do Anaconda possuir um vasto repositório de bibliotecas, nem todos os pacotes necessários foram integradas à ela.\n",
    "Um repositório que possui um conjunto interessante de outras bibliotecas é chamado `conda-forge`.\n",
    "\n",
    "Para adicioná-lo, clique no botâo `Channels` e em seguida digite o texto `conda-forge` logo abaixo do canal `defaults`.\n",
    "\n",
    "<img src=\"https://lh3.googleusercontent.com/drive-viewer/AKGpihbS1z9gMZNtUEZ074bwSQBkYQQwbCwMuXhpzvbfxcoIxdfRuA9om4rEucv7iBTQrmUJMoEdDIjLuWZVfVdh8qtgK4Ju8w=s1600\" width=\"1000\">\n",
    "\n",
    "Clique em `Update channels` e finalize.\n",
    "\n",
    "<img src=\"https://lh3.googleusercontent.com/drive-viewer/AKGpihZHqJoid4DLBsno1Vbi6w7z3qkGj_rinkPBWty3RYMiTDLlUjrgThvGZPlSNnSsEW_G0Q4gztb4mk0xCit06YHXmjm6=s2560\" width=\"500\">\n",
    "\n",
    "4. Instalando as bibliotecas da disciplina\n",
    "\n",
    "O próximo passo é instalar as bibliotecas que serão utilizadas na disciplina.\n",
    "\n",
    "Serão utilizados as seguintes bibliotecas:\n",
    "\n",
    "* jupyter\n",
    "* numpy\n",
    "* scipy\n",
    "* matplotlib\n",
    "\n",
    "Caso algum deles não esteja instalado, basta selecioná-lo e pedir para instalar, por exemplo, digite o nome de uma biblioteca no campo de busca e veja se ela está instalada:\n",
    "\n",
    "<img src=\"https://lh3.googleusercontent.com/drive-viewer/AKGpihb5J2uBAo-azxWydl3gN5G4SZUFBp-1qcBd7p5Qklg8FB_UcaH6LiKrFpbD2YKrGWoFEuRbPtn3Q4BD6MQHw20sMh-BHg=s1600\" width=\"1000\">\n",
    "\n",
    "Caso não esteja, marque-a e peça para instalar.\n",
    "\n",
    "<img src=\"https://lh3.googleusercontent.com/drive-viewer/AKGpihY9rztohsQVJRZJtSleMRsEcuWOnDvEjL5fI9HNBm_0fcXLBlorTcYmVJkzgf2BeQbqMti7MjyhdJjQ7eSH9jQnJ5_koQ=s1600\" width=\"1000\">\n",
    "\n",
    "<img src=\"https://lh3.googleusercontent.com/drive-viewer/AKGpihZJfX_DKllHYxI4i6lK9HZzrbMHqWFPhNCdUahZOQgrFzbSXjMI25gRCdwaJkbnyN0VYzKqkpbdhAJA7jQyL5uiiPAe=s1600\" width=\"1000\">\n",
    "\n",
    "Após selecionar as bibliotecas que deseja instalar, clique no botão `Apply`:\n",
    "\n",
    "<img src=\"https://lh3.googleusercontent.com/drive-viewer/AKGpihYAp63rD6cI25TWwV6AD4fAoFfalRIBm_zcUNKVyfsnlsDhJDaiDCL1NqaLq7iXVEw-2DxrOPaPevKuNNQ_4xHf9iTG0g=s2560\" width=\"200\">\n",
    "\n",
    "verifique os pacotes que serão instalados e confirme:\n",
    "\n",
    "<img src=\"https://lh3.googleusercontent.com/drive-viewer/AKGpihaY1qAwQdj_l4pBd9NXIAmcP5v4Yfk6_uwVHO8XktngnuvptVWFFi7ZDY2v0oT-QF8F21hI2xuPppWBF-rTIsVnBWHQ=s2560\" width=\"600\">\n",
    "\n",
    "Por último, atualize as informações e clique no botão `Update index...`\n",
    "\n",
    "\n",
    " 4.1. Também é possível instalár as bibliotecas utilizando o Anaconda Powershell, por meio do comando:\n",
    "\n",
    "```\n",
    "conda install -c conda-forge nomedabiblioteca\n",
    "```\n",
    "\n",
    "Caso você precise economizar espaço, uma alternativa é utilizar o Miniconda (https://docs.conda.io/en/latest/miniconda.html), uma versão reduzida do Anaconda, porém sua utilização é mais trabalhosa.\n",
    "\n",
    "Os seguintes pacotes foram instalados no computador:\n",
    "\n",
    "```\n",
    "conda install -c conda-forge jupyter numpy matplotlib ipympl jupyter_contrib_nbextensions jupyter_latex_envs mplcursors rise\n",
    "conda install -c anaconda scipy\n",
    "```"
   ]
  },
  {
   "cell_type": "markdown",
   "id": "fce69c8a",
   "metadata": {},
   "source": [
    "# Executando o Jupyter"
   ]
  },
  {
   "cell_type": "markdown",
   "id": "145dab93",
   "metadata": {},
   "source": [
    "Dentro do Anaconda Navigator, vá em `Home` e em seguida, selecione a aplicação `Jupyter notebook`:\n",
    "\n",
    "<img src=\"https://lh3.googleusercontent.com/drive-viewer/AKGpihZ-HVr5JtTat22eDTcYjt3Ddm7oXuAHZ7a_axG-A61-ouIRv9SGnMqNC2iP2B45w5fKLWnaEA4UBdMGHhYE6nxp6egShQ=s1600\" width=\"1000\">\n",
    "\n",
    "Caso a opção não apareça, você pode ir no item `Environments` e ao clicar no botão de play, deve aparecer a opção de executar o jupyter:\n",
    "\n",
    "<img src=\"https://lh3.googleusercontent.com/drive-viewer/AKGpihZCOV7j2sZturpD-C766U4eBczyZFngvEohOi76VuJd2zcgwc6GSS1nJ1vscX6NTg9EJ1O7FAMKbZd1InLVjX3AHz_s=s1600\" width=\"1000\">\n"
   ]
  }
 ],
 "metadata": {
  "celltoolbar": "Slideshow",
  "kernelspec": {
   "display_name": "Python 3 (ipykernel)",
   "language": "python",
   "name": "python3"
  },
  "language_info": {
   "codemirror_mode": {
    "name": "ipython",
    "version": 3
   },
   "file_extension": ".py",
   "mimetype": "text/x-python",
   "name": "python",
   "nbconvert_exporter": "python",
   "pygments_lexer": "ipython3",
   "version": "3.12.5"
  },
  "latex_envs": {
   "LaTeX_envs_menu_present": true,
   "autoclose": true,
   "autocomplete": true,
   "bibliofile": "biblio.bib",
   "cite_by": "apalike",
   "current_citInitial": 1,
   "eqLabelWithNumbers": true,
   "eqNumInitial": 1,
   "hotkeys": {
    "equation": "Ctrl-E",
    "itemize": "Ctrl-I"
   },
   "labels_anchors": false,
   "latex_user_defs": false,
   "report_style_numbering": false,
   "user_envs_cfg": false
  }
 },
 "nbformat": 4,
 "nbformat_minor": 5
}
