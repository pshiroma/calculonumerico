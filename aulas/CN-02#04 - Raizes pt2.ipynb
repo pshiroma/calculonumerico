{
 "cells": [
  {
   "cell_type": "markdown",
   "id": "8d0156c0",
   "metadata": {
    "slideshow": {
     "slide_type": "slide"
    }
   },
   "source": [
    "# Raízes de um polinômio"
   ]
  },
  {
   "cell_type": "markdown",
   "id": "756ad81b",
   "metadata": {
    "slideshow": {
     "slide_type": "subslide"
    }
   },
   "source": [
    "Um caso especial ocorre quando queremos achar as raízes de um polinômio.\n",
    "\n",
    "A solução para este caso pode ser obtido convertendo o polinômio em uma matriz especial, chamada matriz companheira, e determinando os *autovalores* desta matriz.\n",
    "\n",
    "No python, a função que implementa este método é chamada `roots`, presente na biblioteca `numpy`."
   ]
  },
  {
   "cell_type": "markdown",
   "id": "0f1c53c8",
   "metadata": {
    "slideshow": {
     "slide_type": "subslide"
    }
   },
   "source": [
    "Suponha que você tenha o seguinte polinômio:\n",
    "\n",
    "$\n",
    "p(x) = x^3 - 2x^2 - 5x + 6\n",
    "$\n",
    "\n",
    "Para calcular as raízes do polinômio, executamos o comando `roots`:"
   ]
  },
  {
   "cell_type": "code",
   "execution_count": 8,
   "id": "d9c48bb0",
   "metadata": {
    "slideshow": {
     "slide_type": "fragment"
    }
   },
   "outputs": [
    {
     "data": {
      "text/plain": [
       "array([-2.,  3.,  1.])"
      ]
     },
     "execution_count": 8,
     "metadata": {},
     "output_type": "execute_result"
    }
   ],
   "source": [
    "import numpy as np\n",
    "polinomio = [1, -2, -5, 6]\n",
    "np.roots(polinomio)"
   ]
  },
  {
   "cell_type": "markdown",
   "id": "82f921cf",
   "metadata": {
    "slideshow": {
     "slide_type": "fragment"
    }
   },
   "source": [
    "Para calcular o valor do polinômio em um ponto qualquer, utilizamos o comando `polyval`:"
   ]
  },
  {
   "cell_type": "code",
   "execution_count": 9,
   "id": "da33496e",
   "metadata": {
    "slideshow": {
     "slide_type": "fragment"
    }
   },
   "outputs": [
    {
     "data": {
      "text/plain": [
       "-4"
      ]
     },
     "execution_count": 9,
     "metadata": {},
     "output_type": "execute_result"
    }
   ],
   "source": [
    "np.polyval(polinomio, 2)"
   ]
  },
  {
   "cell_type": "markdown",
   "id": "a30ab996",
   "metadata": {
    "slideshow": {
     "slide_type": "subslide"
    }
   },
   "source": [
    "Suponha que você tenha o seguinte polinômio:\n",
    "\n",
    "$\n",
    "p(x) = x^2 - x + 5\n",
    "$\n",
    "\n",
    "Para calcular as raízes do polinômio, executamos o comando `roots`:"
   ]
  },
  {
   "cell_type": "code",
   "execution_count": 10,
   "id": "019be1b0",
   "metadata": {
    "slideshow": {
     "slide_type": "fragment"
    }
   },
   "outputs": [
    {
     "data": {
      "text/plain": [
       "array([1.+6.68896751e-09j, 1.-6.68896751e-09j])"
      ]
     },
     "execution_count": 10,
     "metadata": {},
     "output_type": "execute_result"
    }
   ],
   "source": [
    "import numpy as np\n",
    "polinomio = [1, -2, 1]\n",
    "np.roots(polinomio)"
   ]
  },
  {
   "cell_type": "markdown",
   "id": "632ef289",
   "metadata": {
    "slideshow": {
     "slide_type": "slide"
    }
   },
   "source": [
    "# Revisão"
   ]
  },
  {
   "cell_type": "code",
   "execution_count": 11,
   "id": "546e7d6c",
   "metadata": {
    "slideshow": {
     "slide_type": "subslide"
    }
   },
   "outputs": [],
   "source": [
    "def bisseccao_laco_for(f, xl, xu, n):\n",
    "    '''\n",
    "    Executa o algoritmo de bisseccao n vezes.\n",
    "    @f: funcao que desejamos achar o zero\n",
    "    @xl: limite inferior\n",
    "    @xu: limite superior\n",
    "    @n: número de vezes que a bissecção será executada\n",
    "    '''\n",
    "    #print('xl     xu     xr')\n",
    "    for i in range(n):\n",
    "        xr = (xl + xu)/2\n",
    "\n",
    "        #print(f'{xl:6.2f} {xu:6.2f} {xr:6.2f}')\n",
    "        if (f(xl)*f(xr) < 0):\n",
    "            xu = xr\n",
    "        else:\n",
    "            xl = xr\n",
    "    return xr"
   ]
  },
  {
   "cell_type": "code",
   "execution_count": 12,
   "id": "296aa655",
   "metadata": {
    "slideshow": {
     "slide_type": "fragment"
    }
   },
   "outputs": [],
   "source": [
    "def falsaposicao_laco_for(f, xl, xu, n):\n",
    "    #print('xl     xu     xr')\n",
    "    for i in range(n):\n",
    "        xr = xu - f(xu)*(xl-xu)/(f(xl) - f(xu))\n",
    "       \n",
    "        #print(f'{xl:6.2f} {xu:6.2f} {xr:6.2f}')\n",
    "        if (f(xl)*f(xr) < 0):\n",
    "            xu = xr\n",
    "        else:\n",
    "            xl = xr\n",
    "    return xr"
   ]
  },
  {
   "cell_type": "code",
   "execution_count": 13,
   "id": "1e314cae",
   "metadata": {
    "slideshow": {
     "slide_type": "fragment"
    }
   },
   "outputs": [],
   "source": [
    "def pontofixo_laco_for(g, x0, n):\n",
    "    xi = x0\n",
    "    for i in range(n):\n",
    "        xi = g(xi)\n",
    "    return xi"
   ]
  },
  {
   "cell_type": "code",
   "execution_count": 14,
   "id": "d122b6bb",
   "metadata": {
    "slideshow": {
     "slide_type": "fragment"
    }
   },
   "outputs": [],
   "source": [
    "def newtonraphson_laco_for(f, df, x0, n):\n",
    "    xvelho = x0\n",
    "    for i in range(n):\n",
    "        xnovo = xvelho - f(xvelho)/df(xvelho)\n",
    "        erro_aproximado = abs((xnovo - xvelho)/xnovo)\n",
    "        #print(f'{i} {xnovo:.6f} {erro_aproximado:.6%}')\n",
    "        xvelho = xnovo  \n",
    "    return xnovo"
   ]
  },
  {
   "cell_type": "code",
   "execution_count": 15,
   "id": "e3e4ece6",
   "metadata": {
    "slideshow": {
     "slide_type": "fragment"
    }
   },
   "outputs": [],
   "source": [
    "def secante_laco_for(f, x0, delta, n):\n",
    "    xvelho = x0\n",
    "    for i in range(n):\n",
    "        xnovo = xvelho - delta*f(xvelho)/(f(xvelho+delta) - f(xvelho))\n",
    "        erro_aproximado = abs((xnovo - xvelho)/xnovo)\n",
    "        #print(f'{i} {xnovo:.6f} {erro_aproximado:.6%}')\n",
    "        xvelho = xnovo\n",
    "    return xnovo"
   ]
  },
  {
   "cell_type": "markdown",
   "id": "98079ce8",
   "metadata": {
    "slideshow": {
     "slide_type": "slide"
    }
   },
   "source": [
    "# Scipy"
   ]
  },
  {
   "cell_type": "code",
   "execution_count": 10,
   "id": "fabb0da9",
   "metadata": {
    "slideshow": {
     "slide_type": "subslide"
    }
   },
   "outputs": [],
   "source": [
    "from scipy import optimize"
   ]
  },
  {
   "cell_type": "code",
   "execution_count": 5,
   "id": "1212e1a9",
   "metadata": {
    "slideshow": {
     "slide_type": "fragment"
    }
   },
   "outputs": [],
   "source": [
    "def f(x):\n",
    "    return x**10 - 1\n",
    "\n",
    "# usando no algoritmo de newton-rapshon\n",
    "def df(x):\n",
    "    return 10*x**9\n",
    "\n",
    "# usado no algoritmo do ponto fixo\n",
    "def g(x):\n",
    "    return 1"
   ]
  },
  {
   "cell_type": "code",
   "execution_count": 3,
   "id": "ac5990f3",
   "metadata": {
    "slideshow": {
     "slide_type": "fragment"
    }
   },
   "outputs": [],
   "source": [
    "def f(x):\n",
    "    return np.exp(-x) - x\n",
    "\n",
    "# usando no algoritmo de newton-rapshon\n",
    "def df(x):\n",
    "    return -x*np.exp(-x) - 1\n",
    "\n",
    "def g(x):\n",
    "    return np.exp(-x)"
   ]
  },
  {
   "cell_type": "code",
   "execution_count": 6,
   "id": "a23d70cd",
   "metadata": {
    "scrolled": true,
    "slideshow": {
     "slide_type": "fragment"
    }
   },
   "outputs": [
    {
     "data": {
      "text/plain": [
       "[<matplotlib.lines.Line2D at 0x17220b682e0>]"
      ]
     },
     "execution_count": 6,
     "metadata": {},
     "output_type": "execute_result"
    },
    {
     "data": {
      "image/png": "[encoded data removed]",
      "text/plain": [
       "<Figure size 432x288 with 1 Axes>"
      ]
     },
     "metadata": {
      "needs_background": "light"
     },
     "output_type": "display_data"
    }
   ],
   "source": [
    "import matplotlib.pyplot as plt\n",
    "import numpy as np\n",
    "\n",
    "X = np.linspace(0,1.2,100)\n",
    "Y = f(X)\n",
    "plt.plot(X,Y)"
   ]
  },
  {
   "cell_type": "code",
   "execution_count": 7,
   "id": "923f2888",
   "metadata": {
    "slideshow": {
     "slide_type": "fragment"
    }
   },
   "outputs": [
    {
     "name": "stdout",
     "output_type": "stream",
     "text": [
      "Bissecção:\n",
      " (1.0000000000004547,       converged: True\n",
      "           flag: 'converged'\n",
      " function_calls: 43\n",
      "     iterations: 41\n",
      "           root: 1.0000000000004547)\n",
      "Brent:\n",
      " (1.0000000000000038,       converged: True\n",
      "           flag: 'converged'\n",
      " function_calls: 14\n",
      "     iterations: 13\n",
      "           root: 1.0000000000000038)\n",
      "Newton-Raphson:\n",
      " (1.0000000000000009,       converged: True\n",
      "           flag: 'converged'\n",
      " function_calls: 22\n",
      "     iterations: 11\n",
      "           root: 1.0000000000000009)\n",
      "Secante:\n",
      "       converged: True\n",
      "           flag: 'converged'\n",
      " function_calls: 4\n",
      "     iterations: 3\n",
      "           root: 7.620746494213767e-05\n",
      "Padrão:\n",
      "     fjac: array([[1.]])\n",
      "     fun: array([-1.])\n",
      " message: 'The iteration is not making good progress, as measured by the \\n  improvement from the last ten iterations.'\n",
      "    nfev: 13\n",
      "     qtf: array([-1.])\n",
      "       r: array([-94.04460493])\n",
      "  status: 5\n",
      " success: False\n",
      "       x: array([0.])\n"
     ]
    },
    {
     "name": "stderr",
     "output_type": "stream",
     "text": [
      "C:\\Users\\pshir\\anaconda3\\lib\\site-packages\\scipy\\optimize\\zeros.py:341: RuntimeWarning: Tolerance of 5.080440303369362e-05 reached.\n",
      "  warnings.warn(msg, RuntimeWarning)\n"
     ]
    }
   ],
   "source": [
    "from scipy import optimize\n",
    "sol = optimize.bisect(f, 0,3, full_output=True)\n",
    "print('Bissecção:\\n', sol)\n",
    "sol = optimize.brentq(f, 0,3, full_output=True)\n",
    "print('Brent:\\n', sol)\n",
    "sol = optimize.newton(f, fprime=df, x0=2, full_output=True)\n",
    "print('Newton-Raphson:\\n', sol)\n",
    "sol = optimize.root_scalar(f, x0=0, x1=3,method='secant')\n",
    "print('Secante:\\n', sol)\n",
    "sol = optimize.root(f, x0=0)\n",
    "print('Padrão:\\n', sol)"
   ]
  },
  {
   "cell_type": "code",
   "execution_count": 16,
   "id": "4ab6e2ec",
   "metadata": {
    "slideshow": {
     "slide_type": "fragment"
    }
   },
   "outputs": [
    {
     "data": {
      "text/plain": [
       "1.0000000000004547"
      ]
     },
     "execution_count": 16,
     "metadata": {},
     "output_type": "execute_result"
    }
   ],
   "source": [
    "bisseccao_laco_for(f, 0, 3, 41)"
   ]
  },
  {
   "cell_type": "code",
   "execution_count": 17,
   "id": "0176d081",
   "metadata": {
    "slideshow": {
     "slide_type": "fragment"
    }
   },
   "outputs": [
    {
     "data": {
      "text/plain": [
       "0.0020823104346265886"
      ]
     },
     "execution_count": 17,
     "metadata": {},
     "output_type": "execute_result"
    }
   ],
   "source": [
    "falsaposicao_laco_for(f, 0, 3, 41)"
   ]
  },
  {
   "cell_type": "code",
   "execution_count": 18,
   "id": "2dbeda66",
   "metadata": {
    "slideshow": {
     "slide_type": "fragment"
    }
   },
   "outputs": [
    {
     "data": {
      "text/plain": [
       "3.4867844009999984e+16"
      ]
     },
     "execution_count": 18,
     "metadata": {},
     "output_type": "execute_result"
    }
   ],
   "source": [
    "newtonraphson_laco_for(f, df, 0.01, 11)"
   ]
  },
  {
   "cell_type": "code",
   "execution_count": 19,
   "id": "1fee52ba",
   "metadata": {
    "slideshow": {
     "slide_type": "fragment"
    }
   },
   "outputs": [
    {
     "data": {
      "text/plain": [
       "348678506.0848352"
      ]
     },
     "execution_count": 19,
     "metadata": {},
     "output_type": "execute_result"
    }
   ],
   "source": [
    "secante_laco_for(f, 0, 0.1, 11)"
   ]
  },
  {
   "cell_type": "code",
   "execution_count": 20,
   "id": "eb9cd3bf",
   "metadata": {
    "slideshow": {
     "slide_type": "fragment"
    }
   },
   "outputs": [
    {
     "data": {
      "text/plain": [
       "1"
      ]
     },
     "execution_count": 20,
     "metadata": {},
     "output_type": "execute_result"
    }
   ],
   "source": [
    "pontofixo_laco_for(g, 0, 10)"
   ]
  },
  {
   "cell_type": "markdown",
   "id": "6b3d8343",
   "metadata": {
    "slideshow": {
     "slide_type": "slide"
    }
   },
   "source": [
    "# Exercícios"
   ]
  },
  {
   "cell_type": "markdown",
   "id": "4d7b2fe3",
   "metadata": {
    "slideshow": {
     "slide_type": "slide"
    }
   },
   "source": [
    "## Exercício 1"
   ]
  },
  {
   "cell_type": "markdown",
   "id": "fa35eb35",
   "metadata": {
    "slideshow": {
     "slide_type": "subslide"
    }
   },
   "source": [
    "Determine as raízes de $f(x) = -12 -21x +18x^2 -2,75x^3$."
   ]
  },
  {
   "cell_type": "code",
   "execution_count": null,
   "id": "05d1d039",
   "metadata": {
    "slideshow": {
     "slide_type": "-"
    }
   },
   "outputs": [],
   "source": []
  },
  {
   "cell_type": "markdown",
   "id": "94e7dbf5",
   "metadata": {
    "slideshow": {
     "slide_type": "slide"
    }
   },
   "source": [
    "\n",
    "## Exercício 2"
   ]
  },
  {
   "cell_type": "markdown",
   "id": "7b7225e8",
   "metadata": {
    "slideshow": {
     "slide_type": "subslide"
    }
   },
   "source": [
    "Determine a raiz não trivial de $\\sin(x) = x^2$ localizada no intervalo de 0,5 a 1."
   ]
  },
  {
   "cell_type": "code",
   "execution_count": null,
   "id": "3f58598c",
   "metadata": {
    "slideshow": {
     "slide_type": "-"
    }
   },
   "outputs": [],
   "source": []
  },
  {
   "cell_type": "markdown",
   "id": "29947a27",
   "metadata": {
    "slideshow": {
     "slide_type": "slide"
    }
   },
   "source": [
    "## Exercício 3"
   ]
  },
  {
   "cell_type": "markdown",
   "id": "7a5e98a9",
   "metadata": {
    "slideshow": {
     "slide_type": "subslide"
    }
   },
   "source": [
    "[5.15 CHAPRA] Muitos campos da engenharia necessitam de estimativas acuradas da população. \n",
    "Por exemplo pode ser necessário determinar separadamente a tendência de crescimento da população de uma cidade e do subúrbio adjacente.\n",
    "A população da área urbana está diminuindo com o tempo de acordo com\n",
    "\n",
    "$\n",
    "P_u(t) = P_{u,max}e^{-k_ut}+ P_{u,min}\n",
    "$\n",
    "\n",
    "enquanto a população suburbana está crescendo de acordo com\n",
    "\n",
    "$\n",
    "P_s(t) = \\dfrac{P_{s,max}}{1 + (P_{s,max}/P_0-1)e^{-k_st}}\n",
    "$\n",
    "\n",
    "onde $P_{u,max}$, $P_{s,max}$, $P_0$ e $k_s$ são parâmetros determinados empiricamente.\n",
    "Determine o tempo e os valores correspondentes de $P_u(t)$ e $P_s(t)$ quando os subúrbios forem 20\\% maiores que a cidade.\n",
    "Os valores dos parâmetros são $P_{u,max} = 80.000$ pessoas, $k_u = 0,05/ano$, $P_{u,min} = 110.000$ pessoas, $P_{s,max} = 320.000$ pessoas, $P_{0} = 10.000$ pessoas e $k_s = 0,09/ano$."
   ]
  },
  {
   "cell_type": "code",
   "execution_count": null,
   "id": "7a363614",
   "metadata": {},
   "outputs": [],
   "source": []
  },
  {
   "cell_type": "code",
   "execution_count": null,
   "id": "dccb973b",
   "metadata": {
    "slideshow": {
     "slide_type": "-"
    }
   },
   "outputs": [],
   "source": []
  },
  {
   "cell_type": "markdown",
   "id": "6bec7ad9",
   "metadata": {
    "slideshow": {
     "slide_type": "slide"
    }
   },
   "source": [
    "## Exercício 4\n",
    "\n",
    "[6.14 CHAPRA] Em um processo de engenharia química, o vapor de água ($H_2O$) é aquecido a uma temperatura suficientemente alta para que uma parte significativa da água se dissocie, ou se quebre, para formar oxigênio ($O_2$) e hidrogênio ($H_2$):\n",
    "\n",
    "$\n",
    "H_2O \\rightleftharpoons H_2 + \\dfrac{1}{2}O_2\n",
    "$\n",
    "\n",
    "Se for assumido que essa é a única reação envolvida, a fração molar $x$ de $H_2O$ que se dissocia pode ser representada por\n",
    "\n",
    "$\n",
    "K = \\dfrac{x}{1-x}\\sqrt{\\dfrac{2p_t}{2+x}}\n",
    "$\n",
    "\n",
    "onde $K$ é a constante de equilíbrio da reação e $p_t$ é a pressão total da mistura.\n",
    "Se $p_t = 3atm$ e $K = 0,05$, determine o valor de $x$ que satisfaz a equação."
   ]
  },
  {
   "cell_type": "code",
   "execution_count": null,
   "id": "0a9ab653",
   "metadata": {
    "slideshow": {
     "slide_type": "-"
    }
   },
   "outputs": [],
   "source": []
  },
  {
   "cell_type": "markdown",
   "id": "c276319a",
   "metadata": {
    "slideshow": {
     "slide_type": "slide"
    }
   },
   "source": [
    "## Exercício 5\n",
    "\n",
    "[6.7 CHAPRA adaptado] \n",
    "A determinação do escoamento (fluxo) de fluidos através de canais e tubulações tem grande relevância em muitas áreas da engenharia e da ciência.\n",
    "Entre as aplicações típicas estão o fluxo de líquido e gases através de dutos e sistemas de refrigeração, fluxo nos vaso sanguíneos até o sistema vascular de uma planta.\n",
    "\n",
    "A resistência ao fluxo em tais canais é parametrizada por um número adimensional chamado *fator de atrito (f)* e, para um fluxo turbulento, a equação de Colebrook fornece um meio de calcular o fator de atrito:\n",
    "\n",
    "\\begin{equation} \\label{eq:colebrook}\n",
    "0 = \\dfrac{1}{\\sqrt{f}} + 2,0\\log\\left( \\dfrac{\\epsilon}{3,7D} + \\dfrac{2,51}{Re\\sqrt{f}} \\right)\n",
    "\\end{equation}\n",
    "\n",
    "onde $\\epsilon$ é a rugosidade, $D$ o diâmetro e $Re$ o número de Reynolds é dado por:\n",
    "\n",
    "$\n",
    "Re = \\dfrac{\\rho VD}{\\mu}\n",
    "$\n",
    "\n",
    "Determine a resistência ao fluxo para uma densidade de fluxo $\\rho = 1,23kg/m^3$, velocidade $V = 40m/s$, diâmetro $D = 0,005m$, viscosidade dinâmica $\\mu = 1,79\\times 10^{-5}N\\cdot s/m^2$ e rugosidade $\\epsilon = 0,0000015m$.\n",
    "\n",
    "Observe que o fator de atrivo varia entre 0,008 a 0,08"
   ]
  },
  {
   "cell_type": "code",
   "execution_count": 4,
   "id": "e1f70c63",
   "metadata": {
    "slideshow": {
     "slide_type": "-"
    }
   },
   "outputs": [
    {
     "data": {
      "text/plain": [
       "      converged: True\n",
       "           flag: 'converged'\n",
       " function_calls: 10\n",
       "     iterations: 9\n",
       "           root: 0.02896781017145587"
      ]
     },
     "execution_count": 4,
     "metadata": {},
     "output_type": "execute_result"
    },
    {
     "data": {
      "image/png": "[encoded data removed]",
      "text/plain": [
       "<Figure size 432x288 with 1 Axes>"
      ]
     },
     "metadata": {
      "needs_background": "light"
     },
     "output_type": "display_data"
    }
   ],
   "source": [
    "import numpy as np\n",
    "import matplotlib.pyplot as plt\n",
    "import scipy.optimize as opt\n",
    "def funcao(f):\n",
    "    D = 0.005\n",
    "    ep = 0.0000015\n",
    "    V = 40\n",
    "    rho = 1.23\n",
    "    mu = 1.79*10**(-5)\n",
    "    Re = rho*V*D/mu\n",
    "    r = 1/np.sqrt(f) + 2*np.log10(ep/(3.7*D) + 2.51/(Re*np.sqrt(f)))\n",
    "    return r\n",
    "\n",
    "#r = funcao(0.008)\n",
    "#print(r)\n",
    "X = np.linspace(0.008, 0.08, 200)\n",
    "Y = funcao(X)\n",
    "plt.figure()\n",
    "plt.plot(X,Y)\n",
    "\n",
    "opt.root_scalar(funcao, bracket=[0.008, 0.08])"
   ]
  }
 ],
 "metadata": {
  "celltoolbar": "Slideshow",
  "kernelspec": {
   "display_name": "Python 3 (ipykernel)",
   "language": "python",
   "name": "python3"
  },
  "language_info": {
   "codemirror_mode": {
    "name": "ipython",
    "version": 3
   },
   "file_extension": ".py",
   "mimetype": "text/x-python",
   "name": "python",
   "nbconvert_exporter": "python",
   "pygments_lexer": "ipython3",
   "version": "3.9.12"
  },
  "latex_envs": {
   "LaTeX_envs_menu_present": true,
   "autoclose": true,
   "autocomplete": false,
   "bibliofile": "biblio.bib",
   "cite_by": "apalike",
   "current_citInitial": 1,
   "eqLabelWithNumbers": true,
   "eqNumInitial": 1,
   "hotkeys": {
    "equation": "Ctrl-E",
    "itemize": "Ctrl-I"
   },
   "labels_anchors": false,
   "latex_user_defs": false,
   "report_style_numbering": false,
   "user_envs_cfg": false
  }
 },
 "nbformat": 4,
 "nbformat_minor": 5
}
