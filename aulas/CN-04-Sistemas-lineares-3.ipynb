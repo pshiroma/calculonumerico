{
 "cells": [
  {
   "cell_type": "markdown",
   "id": "0e3e0c20",
   "metadata": {
    "slideshow": {
     "slide_type": "slide"
    }
   },
   "source": [
    "# Sistemas lineares\n",
    "\n",
    "* Condicionamento de matriz\n",
    "\n",
    "https://www.ufrgs.br/reamat/CalculoNumerico/livro-py/sdsl-condicionamento_de_sistemas_lineares.html"
   ]
  },
  {
   "cell_type": "markdown",
   "id": "aa10dd10",
   "metadata": {
    "slideshow": {
     "slide_type": "fragment"
    }
   },
   "source": [
    "## Condicionamento de uma matriz"
   ]
  },
  {
   "cell_type": "code",
   "execution_count": 35,
   "id": "e5a81c29",
   "metadata": {
    "slideshow": {
     "slide_type": "fragment"
    }
   },
   "outputs": [
    {
     "name": "stdout",
     "output_type": "stream",
     "text": [
      "[ 3.33333333 -3.33333333] \n",
      " [-65. 115.] \n",
      " [-85.35 150.25]\n"
     ]
    }
   ],
   "source": [
    "import numpy as np\n",
    "A1 = np.array( [ [71, 41], [51, 30] ] )\n",
    "A2 = np.array( [ [71, 41], [52, 30] ] )\n",
    "\n",
    "b1 = np.array( [100.0, 70.0] )\n",
    "b2 = np.array( [100.4, 69.3] )\n",
    "\n",
    "x1 = np.linalg.solve(A1,b1)\n",
    "x2 = np.linalg.solve(A2,b1)\n",
    "x3 = np.linalg.solve(A2,b2)\n",
    "\n",
    "print(x1, '\\n',x2, '\\n', x3)"
   ]
  },
  {
   "cell_type": "markdown",
   "id": "60520ca1",
   "metadata": {
    "slideshow": {
     "slide_type": "fragment"
    }
   },
   "source": [
    "Analise o que aconteceu no exemplo anterior:\n",
    "\n",
    "Uma pequena variação na entrada ($A$ ou $b$) produziu uma grande diferença no valor de $x$.\n",
    "\n",
    "Nestes casos, dizemos que o sistema é **mal condicionado**."
   ]
  },
  {
   "cell_type": "markdown",
   "id": "813f96c5",
   "metadata": {
    "slideshow": {
     "slide_type": "fragment"
    }
   },
   "source": [
    "Considere um sistema linear:\n",
    "\n",
    "$Ax = y$\n",
    "\n",
    "Suponha que tenhamos um erro na entrada de $\\delta_x$, então teremos:\n",
    "\n",
    "$A(x + \\delta_x) = y + \\delta_y$, onde $\\delta_y$ é o erro associado à $\\delta_x$. \n",
    "\n",
    "Teremos então que:\n",
    "\n",
    "$A\\delta_x = \\delta_y$"
   ]
  },
  {
   "cell_type": "markdown",
   "id": "4aefa8f3",
   "metadata": {
    "slideshow": {
     "slide_type": "fragment"
    }
   },
   "source": [
    "Estamos interessados em relacionar o erro relativo em $x$ e o erro relativo em $y$:\n",
    "\n",
    "$\n",
    "\\dfrac{\\lVert \\delta_x \\rVert / \\lVert x \\rVert }{\\lVert \\delta_y \\rVert / \\lVert y \\rVert }\n",
    "$\n",
    "\n",
    "Sabendo que:\n",
    "\n",
    "$\n",
    "\\lVert \\delta_x \\rVert = \\lVert A^{-1}\\delta_y \\rVert \n",
    "$ e\n",
    "\n",
    "$\n",
    "\\lVert y \\rVert = \\lVert Ax \\rVert \n",
    "$ \n",
    "\n",
    "temos que:\n",
    "\n",
    "$\n",
    "\\dfrac{\\lVert \\delta_x \\rVert / \\lVert x \\rVert }{\\lVert \\delta_y \\rVert / \\lVert y \\rVert } \\leq \n",
    "\\lVert A \\rVert \\cdot \\lVert A^{-1} \\rVert\n",
    "$\n"
   ]
  },
  {
   "cell_type": "markdown",
   "id": "1b11f0c5",
   "metadata": {
    "slideshow": {
     "slide_type": "fragment"
    }
   },
   "source": [
    "O número de condicionamento de uma matriz é definido como:\n",
    "\n",
    "$\n",
    "Cond(A) = \\lVert A \\rVert \\cdot \\lVert A^{-1} \\rVert\n",
    "$\n",
    "\n",
    "e está relacionado à sensibilidade a variações de uma matriz, ou seja, como os erros de arredondamento se propagam de forma mais ou menos relevante."
   ]
  },
  {
   "cell_type": "code",
   "execution_count": 23,
   "id": "ec0e274a",
   "metadata": {
    "slideshow": {
     "slide_type": "fragment"
    }
   },
   "outputs": [
    {
     "name": "stdout",
     "output_type": "stream",
     "text": [
      "5162.9998063135145\n",
      "5162.999999999844\n",
      "Existe mais de uma forma de definir a norma:  6887.999999999792\n",
      "Exemplo de matriz bem condicionada: 2.618\n"
     ]
    }
   ],
   "source": [
    "import numpy as np\n",
    "\n",
    "A2 = np.array( [ [71, 41], [52, 30] ] )\n",
    "\n",
    "# calculando o número de condicionamento de uma matriz:\n",
    "print(np.linalg.cond(A2))\n",
    "print(np.linalg.norm(A2) * np.linalg.norm(np.linalg.inv(A2)))\n",
    "\n",
    "# existem diferentes fórmulas para calcular a norma:\n",
    "print('Existe mais de uma forma de definir a norma: ', np.linalg.cond(A2, p=np.inf))\n",
    "\n",
    "A3 = np.array( [ [1, 2], [5, 0] ] )\n",
    "\n",
    "# uma matriz bem condicionada possui um valor baixo de condicionamento:\n",
    "print(f'Exemplo de matriz bem condicionada: {np.linalg.cond(A3):.3f}')"
   ]
  }
 ],
 "metadata": {
  "celltoolbar": "Slideshow",
  "kernelspec": {
   "display_name": "Python 3 (ipykernel)",
   "language": "python",
   "name": "python3"
  },
  "language_info": {
   "codemirror_mode": {
    "name": "ipython",
    "version": 3
   },
   "file_extension": ".py",
   "mimetype": "text/x-python",
   "name": "python",
   "nbconvert_exporter": "python",
   "pygments_lexer": "ipython3",
   "version": "3.10.4"
  },
  "latex_envs": {
   "LaTeX_envs_menu_present": true,
   "autoclose": true,
   "autocomplete": false,
   "bibliofile": "biblio.bib",
   "cite_by": "apalike",
   "current_citInitial": 1,
   "eqLabelWithNumbers": true,
   "eqNumInitial": 1,
   "hotkeys": {
    "equation": "Ctrl-E",
    "itemize": "Ctrl-I"
   },
   "labels_anchors": false,
   "latex_user_defs": false,
   "report_style_numbering": false,
   "user_envs_cfg": false
  }
 },
 "nbformat": 4,
 "nbformat_minor": 5
}
