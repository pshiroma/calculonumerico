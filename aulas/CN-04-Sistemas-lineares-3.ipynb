{
 "cells": [
  {
   "cell_type": "markdown",
   "id": "0e3e0c20",
   "metadata": {},
   "source": [
    "# Sistemas lineares\n",
    "\n",
    "* Cálculo de inversa ($A^{-1}$)\n",
    "* Condicionamento de matriz\n",
    "\n",
    "https://www.ufrgs.br/reamat/CalculoNumerico/livro-py/sdsl-condicionamento_de_sistemas_lineares.html"
   ]
  },
  {
   "cell_type": "markdown",
   "id": "43913a27",
   "metadata": {},
   "source": [
    "## Cálcula da inversa\n",
    "\n",
    "Uma propriedade importante para calcular a inversa de uma matriz vem do fato que, ao resolvermos o sistema:\n",
    "\n",
    "$\n",
    "A \\cdot x  = \n",
    "\\begin{bmatrix} 1 \\\\ 0 \\\\ 0 \\\\ \\vdots \\\\ 0 \\end{bmatrix} \n",
    "$\n",
    "\n",
    "encontramos a primeira coluna de $A^{-1}$.\n",
    "\n",
    "De forma análoga, ao usarmos a $n$-ésima coluna da matriz identidade, achamos a $n$-ésima coluna da inversa de $A$."
   ]
  },
  {
   "cell_type": "code",
   "execution_count": 87,
   "id": "5eafb03b",
   "metadata": {},
   "outputs": [
    {
     "name": "stdout",
     "output_type": "stream",
     "text": [
      "[[ 0.     0.25   0.25 ]\n",
      " [ 0.5    0.125 -0.375]\n",
      " [ 0.5   -0.375  0.125]] \n",
      "\n",
      "[[ 0.     0.25   0.25 ]\n",
      " [ 0.5    0.125 -0.375]\n",
      " [ 0.5   -0.375  0.125]]\n"
     ]
    }
   ],
   "source": [
    "# Exemplo do calculo da inversa:\n",
    "A = np.array([[1,1,1], [2,1,-1], [2,-1,1]])\n",
    "\n",
    "I = np.identity(3)\n",
    "I1 = I[0,:]\n",
    "I2 = I[1,:]\n",
    "I3 = I[2,:]\n",
    "\n",
    "x1 = np.linalg.solve(A,I1).reshape((3,1))\n",
    "x2 = np.linalg.solve(A,I2).reshape((3,1))\n",
    "x3 = np.linalg.solve(A,I3).reshape((3,1))\n",
    "\n",
    "inversa = x1\n",
    "inversa = np.concatenate((inversa , x2), axis=1)\n",
    "inversa = np.concatenate((inversa , x3), axis=1)\n",
    "\n",
    "print(inversa, '\\n')\n",
    "print(np.linalg.inv(A))"
   ]
  },
  {
   "cell_type": "code",
   "execution_count": 97,
   "id": "561a8db0",
   "metadata": {},
   "outputs": [],
   "source": [
    "def lu(A):\n",
    "    n = np.shape(A)[0]\n",
    "    L = np.identity(n)\n",
    "    U = np.copy(A)\n",
    "\n",
    "    for PIVO in range(n):\n",
    "        for LIN in range(PIVO+1, n):\n",
    "            C = U[LIN,PIVO]/U[PIVO,PIVO]\n",
    "            L[LIN,PIVO] = C\n",
    "            U[LIN,:] = U[LIN,:] - C*U[PIVO,:]\n",
    "    return L,U\n",
    "\n",
    "# https://johnfoster.pge.utexas.edu/numerical-methods-book/LinearAlgebra_LU.html\n",
    "def forward_substitution(L, b):\n",
    "    #Get number of rows\n",
    "    n = L.shape[0]\n",
    "    \n",
    "    #Allocating space for the solution vector\n",
    "    y = np.zeros_like(b, dtype=np.double);\n",
    "    \n",
    "    #Here we perform the forward-substitution.  \n",
    "    #Initializing  with the first row.\n",
    "    y[0] = b[0] / L[0, 0]\n",
    "    \n",
    "    #Looping over rows in reverse (from the bottom  up),\n",
    "    #starting with the second to last row, because  the \n",
    "    #last row solve was completed in the last step.\n",
    "    for i in range(1, n):\n",
    "        y[i] = (b[i] - np.dot(L[i,:i], y[:i])) / L[i,i]\n",
    "        \n",
    "    return y\n",
    "\n",
    "def back_substitution(U, y):\n",
    "    #Number of rows\n",
    "    n = U.shape[0]\n",
    "    \n",
    "    #Allocating space for the solution vector\n",
    "    x = np.zeros_like(y, dtype=np.double);\n",
    "\n",
    "    #Here we perform the back-substitution.  \n",
    "    #Initializing with the last row.\n",
    "    x[-1] = y[-1] / U[-1, -1]\n",
    "    \n",
    "    #Looping over rows in reverse (from the bottom up), \n",
    "    #starting with the second to last row, because the \n",
    "    #last row solve was completed in the last step.\n",
    "    for i in range(n-2, -1, -1):\n",
    "        x[i] = (y[i] - np.dot(U[i,i:], x[i:])) / U[i,i]\n",
    "        \n",
    "    return x"
   ]
  },
  {
   "cell_type": "code",
   "execution_count": 101,
   "id": "d92949c6",
   "metadata": {},
   "outputs": [
    {
     "name": "stdout",
     "output_type": "stream",
     "text": [
      "[[ 0.     0.25   0.25 ]\n",
      " [ 0.5    0.125 -0.375]\n",
      " [ 0.5   -0.375  0.125]] \n",
      "\n",
      "[[1. 0. 0.]\n",
      " [0. 1. 0.]\n",
      " [0. 0. 1.]]\n"
     ]
    }
   ],
   "source": [
    "# Exemplo de cálculo de inversa utilizando a fatoração LU\n",
    "A = np.array([[1,1,1], [2,1,-1], [2,-1,1]])\n",
    "\n",
    "# a função LU só precisa ser chamada uma única vez:\n",
    "L,U = lu(A)\n",
    "\n",
    "n = A.shape[0]\n",
    "I = np.identity(n)\n",
    "inversa = np.empty((n,0))\n",
    "\n",
    "# observe que o laço principal só utiliza as chamadas para as funções forward_substitution\n",
    "# e back_substitution, que requerem poucos cálculos.\n",
    "for i in range(n):\n",
    "    In = I[i,:]\n",
    "    y = forward_substitution(L, In)\n",
    "    x = back_substitution(U, y).reshape((n,1))\n",
    "    inversa = np.concatenate((inversa, x), axis=1)\n",
    "\n",
    "print(inversa, '\\n')\n",
    "print(A @ inversa)"
   ]
  },
  {
   "cell_type": "markdown",
   "id": "8ad54df9",
   "metadata": {},
   "source": [
    "## Condicionamento de uma matriz"
   ]
  },
  {
   "cell_type": "code",
   "execution_count": 35,
   "id": "e5a81c29",
   "metadata": {},
   "outputs": [
    {
     "name": "stdout",
     "output_type": "stream",
     "text": [
      "[ 3.33333333 -3.33333333] \n",
      " [-65. 115.] \n",
      " [-85.35 150.25]\n"
     ]
    }
   ],
   "source": [
    "import numpy as np\n",
    "A1 = np.array( [ [71, 41], [51, 30] ] )\n",
    "A2 = np.array( [ [71, 41], [52, 30] ] )\n",
    "\n",
    "b1 = np.array( [100.0, 70.0] )\n",
    "b2 = np.array( [100.4, 69.3] )\n",
    "\n",
    "x1 = np.linalg.solve(A1,b1)\n",
    "x2 = np.linalg.solve(A2,b1)\n",
    "x3 = np.linalg.solve(A2,b2)\n",
    "\n",
    "print(x1, '\\n',x2, '\\n', x3)"
   ]
  },
  {
   "cell_type": "markdown",
   "id": "8e33d797",
   "metadata": {},
   "source": [
    "Analise o que aconteceu no exemplo anterior:\n",
    "\n",
    "Uma pequena variação na entrada ($A$ ou $b$) produziu uma grande diferença no valor de $x$.\n",
    "\n",
    "Nestes casos, dizemos que o sistema é **mal condicionado**."
   ]
  },
  {
   "cell_type": "markdown",
   "id": "813f96c5",
   "metadata": {},
   "source": [
    "Considere um sistema linear:\n",
    "\n",
    "$Ax = y$\n",
    "\n",
    "Suponha que tenhamos um erro na entrada de $\\delta_x$, então teremos:\n",
    "\n",
    "$A(x + \\delta_x) = y + \\delta_y$, onde $\\delta_y$ é o erro associado à $\\delta_x$. \n",
    "\n",
    "Teremos então que:\n",
    "\n",
    "$A\\delta_x = \\delta_y$"
   ]
  },
  {
   "cell_type": "markdown",
   "id": "4aefa8f3",
   "metadata": {},
   "source": [
    "Estamos interessados em relacionar o erro relativo em $x$ e o erro relativo em $y$:\n",
    "\n",
    "$\n",
    "\\dfrac{\\lVert \\delta_x \\rVert / \\lVert x \\rVert }{\\lVert \\delta_y \\rVert / \\lVert y \\rVert }\n",
    "$\n",
    "\n",
    "Sabendo que:\n",
    "\n",
    "$\n",
    "\\lVert \\delta_x \\rVert = \\lVert A^{-1}\\delta_y \\rVert \n",
    "$ e\n",
    "\n",
    "$\n",
    "\\lVert y \\rVert = \\lVert Ax \\rVert \n",
    "$ \n",
    "\n",
    "temos que:\n",
    "\n",
    "$\n",
    "\\dfrac{\\lVert \\delta_x \\rVert / \\lVert x \\rVert }{\\lVert \\delta_y \\rVert / \\lVert y \\rVert } \\leq \n",
    "\\lVert A \\rVert \\cdot \\lVert A^{-1} \\rVert\n",
    "$\n"
   ]
  },
  {
   "cell_type": "markdown",
   "id": "1b11f0c5",
   "metadata": {},
   "source": [
    "O número de condicionamento de uma matriz é definido como:\n",
    "\n",
    "$\n",
    "Cond(A) = \\lVert A \\rVert \\cdot \\lVert A^{-1} \\rVert\n",
    "$\n",
    "\n",
    "e está relacionado à sensibilidade a variações de uma matriz, ou seja, como os erros de arredondamento se propagam de forma mais ou menos relevante."
   ]
  },
  {
   "cell_type": "code",
   "execution_count": 95,
   "id": "ec0e274a",
   "metadata": {},
   "outputs": [
    {
     "data": {
      "text/plain": [
       "6887.999999999792"
      ]
     },
     "execution_count": 95,
     "metadata": {},
     "output_type": "execute_result"
    }
   ],
   "source": [
    "import numpy as np\n",
    "\n",
    "A2 = np.array( [ [71, 41], [52, 30] ] )\n",
    "\n",
    "np.linalg.cond(A2, p=np.inf)"
   ]
  }
 ],
 "metadata": {
  "kernelspec": {
   "display_name": "Python 3 (ipykernel)",
   "language": "python",
   "name": "python3"
  },
  "language_info": {
   "codemirror_mode": {
    "name": "ipython",
    "version": 3
   },
   "file_extension": ".py",
   "mimetype": "text/x-python",
   "name": "python",
   "nbconvert_exporter": "python",
   "pygments_lexer": "ipython3",
   "version": "3.10.4"
  },
  "latex_envs": {
   "LaTeX_envs_menu_present": true,
   "autoclose": true,
   "autocomplete": false,
   "bibliofile": "biblio.bib",
   "cite_by": "apalike",
   "current_citInitial": 1,
   "eqLabelWithNumbers": true,
   "eqNumInitial": 1,
   "hotkeys": {
    "equation": "Ctrl-E",
    "itemize": "Ctrl-I"
   },
   "labels_anchors": false,
   "latex_user_defs": false,
   "report_style_numbering": false,
   "user_envs_cfg": false
  }
 },
 "nbformat": 4,
 "nbformat_minor": 5
}
