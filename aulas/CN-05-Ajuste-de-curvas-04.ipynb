{
 "cells": [
  {
   "cell_type": "markdown",
   "id": "b83a9544",
   "metadata": {
    "slideshow": {
     "slide_type": "slide"
    }
   },
   "source": [
    "# Ajuste de curvas\n",
    "\n",
    "A regressão linear permite encontrar a melhor reta que se ajusta a um conjunto de pontos fornecidos.\n",
    "\n",
    "Veremos agora como ajustar o conjunto de pontos no caso de modelo não-lineares.\n",
    "\n",
    "* Linearização de modelos não-lineares\n",
    " * Linearização da equação de potência\n",
    " * Linearização da equação y = ax/(b+x)"
   ]
  },
  {
   "cell_type": "markdown",
   "id": "578b9a6a",
   "metadata": {
    "slideshow": {
     "slide_type": "slide"
    }
   },
   "source": [
    "## Linearização da equação de potência\n",
    "\n",
    "De forma análoga, podemos linearizar a equação de potência simples:\n",
    "\n",
    "\\begin{equation}\n",
    "y = \\alpha x^\\beta\n",
    "\\end{equation}\n",
    "\n",
    "aplicando o logaritmico em ambos os lados:\n",
    "\n",
    "\\begin{equation}\n",
    "ln(y) = ln(\\alpha) +  \\beta\\ln(x)\n",
    "\\end{equation}\n",
    "\n",
    "que também apresenta a equação de uma reta:\n",
    "\n",
    "\\begin{equation}\n",
    "Y = \\theta_0 +  \\theta_1X\n",
    "\\end{equation}\n",
    "\n",
    "onde $Y = ln(y)$, $\\theta_0 = \\ln(\\alpha)$, $\\theta_1 = \\beta$ e $X = \\ln(x)$\n"
   ]
  },
  {
   "cell_type": "markdown",
   "id": "bc972b33",
   "metadata": {
    "slideshow": {
     "slide_type": "fragment"
    }
   },
   "source": [
    "## Exemplo\n",
    "\n",
    "[CHAPRA, Métodos numéricos aplicados com MATLAB]\n",
    "\n",
    "Ajuste a equação de potência para os dados abaixo:\n",
    "\n",
    "\\begin{array}{|c|c|} \\hline\n",
    "x_i & y_i \\\\ \\hline\n",
    " 10 & 25  \\\\\n",
    " 20 & 70  \\\\\n",
    " 30 & 380  \\\\\n",
    " 40 & 550 \\\\ \n",
    " 50 & 610 \\\\\n",
    " 60 & 1220 \\\\\n",
    " 70 & 830 \\\\\n",
    " 80 & 1450 \\\\ \\hline\n",
    " \\end{array}"
   ]
  },
  {
   "cell_type": "code",
   "execution_count": 1,
   "id": "d234ec8e",
   "metadata": {
    "slideshow": {
     "slide_type": "fragment"
    }
   },
   "outputs": [
    {
     "name": "stderr",
     "output_type": "stream",
     "text": [
      "d:\\system\\conda_envs\\cn\\lib\\site-packages\\scipy\\stats\\stats.py:1541: UserWarning: kurtosistest only valid for n>=20 ... continuing anyway, n=8\n",
      "  warnings.warn(\"kurtosistest only valid for n>=20 ... continuing \"\n"
     ]
    },
    {
     "name": "stdout",
     "output_type": "stream",
     "text": [
      "                            OLS Regression Results                            \n",
      "==============================================================================\n",
      "Dep. Variable:                      y   R-squared:                       0.948\n",
      "Model:                            OLS   Adj. R-squared:                  0.939\n",
      "Method:                 Least Squares   F-statistic:                     109.5\n",
      "Date:                Thu, 07 Jul 2022   Prob (F-statistic):           4.47e-05\n",
      "Time:                        21:31:58   Log-Likelihood:                 4.8047\n",
      "No. Observations:                   8   AIC:                            -5.609\n",
      "Df Residuals:                       6   BIC:                            -5.451\n",
      "Df Model:                           1                                         \n",
      "Covariance Type:            nonrobust                                         \n",
      "==============================================================================\n",
      "                 coef    std err          t      P>|t|      [0.025      0.975]\n",
      "------------------------------------------------------------------------------\n",
      "const         -0.5620      0.304     -1.851      0.114      -1.305       0.181\n",
      "x              1.9842      0.190     10.464      0.000       1.520       2.448\n",
      "==============================================================================\n",
      "Omnibus:                        0.664   Durbin-Watson:                   2.323\n",
      "Prob(Omnibus):                  0.718   Jarque-Bera (JB):                0.513\n",
      "Skew:                           0.092   Prob(JB):                        0.774\n",
      "Kurtosis:                       1.774   Cond. No.                         12.4\n",
      "==============================================================================\n",
      "\n",
      "Notes:\n",
      "[1] Standard Errors assume that the covariance matrix of the errors is correctly specified.\n",
      "\n",
      " const   -0.562032\n",
      "x        1.984176\n",
      "dtype: float64\n"
     ]
    },
    {
     "data": {
      "text/plain": [
       "<matplotlib.collections.PathCollection at 0x24b4e4f2620>"
      ]
     },
     "execution_count": 1,
     "metadata": {},
     "output_type": "execute_result"
    },
    {
     "data": {
      "image/png": "[encoded data removed]",
      "text/plain": [
       "<Figure size 432x288 with 1 Axes>"
      ]
     },
     "metadata": {
      "needs_background": "light"
     },
     "output_type": "display_data"
    }
   ],
   "source": [
    "import numpy as np\n",
    "import matplotlib.pyplot as plt\n",
    "import pandas as pd\n",
    "import statsmodels.api as sm\n",
    "\n",
    "dados = [ [10, 20, 30, 40, 50, 60, 70, 80], [25, 70, 380, 550, 610, 1220, 830, 1450]]\n",
    "df = pd.DataFrame({'x': dados[0], 'y': dados[1]})\n",
    "\n",
    "X = df['x']\n",
    "Y = df['y']\n",
    "\n",
    "Xls = np.log10(X)\n",
    "Xls = sm.add_constant(Xls)\n",
    "Yls = np.log10(Y)\n",
    "\n",
    "modelo = sm.OLS(Yls, Xls).fit()\n",
    "\n",
    "print(modelo.summary())\n",
    "print('\\n',modelo.params)\n",
    "\n",
    "alpha = 10**modelo.params.const\n",
    "beta = modelo.params.x\n",
    "\n",
    "Ym = alpha*X**beta\n",
    "plt.plot(X, Ym)\n",
    "plt.scatter(X, Y, c='r')"
   ]
  },
  {
   "cell_type": "markdown",
   "id": "cba5a806",
   "metadata": {
    "slideshow": {
     "slide_type": "slide"
    }
   },
   "source": [
    "## Linearização da equação y = ax/(b+x)\n",
    "\n",
    "Outro exemplo de modelo não-linear é a equação:\n",
    "\n",
    "\\begin{equation}\n",
    "y = \\alpha \\dfrac{x}{\\beta + x}\n",
    "\\end{equation}\n",
    "\n",
    "Neste caso, podemos inverter os termos e obter:\n",
    "\n",
    "\\begin{equation}\n",
    "\\dfrac{1}{y} = \\dfrac{1}{\\alpha} + \\dfrac{\\beta}{\\alpha x}\n",
    "\\end{equation}\n",
    "\n",
    "que corresponde à equação linear:\n",
    "\n",
    "\\begin{equation}\n",
    "Y = \\theta_0 + \\theta_1X\n",
    "\\end{equation}\n",
    "\n",
    "onde:\n",
    "\n",
    "\\begin{itemize}\n",
    "\\item $Y = \\dfrac{1}{y}$\n",
    "\\item $\\theta_0 = \\dfrac{1}{\\alpha}$\n",
    "\\item $\\theta_1 = \\dfrac{\\beta}{\\alpha}$\n",
    "\\item $X = \\dfrac{1}{x}$\n",
    "\\end{itemize}\n"
   ]
  },
  {
   "cell_type": "markdown",
   "id": "508e7c57",
   "metadata": {
    "slideshow": {
     "slide_type": "fragment"
    }
   },
   "source": [
    "## Exemplo: Equação de Michaelis-Menten\n",
    "\n",
    "A equação de Michaelis-Menten é utilizada para descrever boa parte da cinética enzimática, ramo que estuda as reações químicas catalisadas por enzimas.\n",
    "\n",
    "Neste caso a velocidade inicial de catálise ($V_0$) depende da concentração de substrato ($[S]$).\n",
    "Foi observado que a relação entre $V_0$ e $[S]$ é composto de 2 fases: Uma cinética de primeira ordem, onde a velocidade depende da concentração do substrato, e uma cinética de ordem zero, onde a velocidade não depende da concentração.\n",
    "Esta segunda fase é causada pela saturação e temos que $V_0$ não pode ser superior a um dado valor máximo $V_{max}$.\n",
    "\n",
    "A equação de Michaelis-Menten é matematicamente formulada como:\n",
    "\n",
    "\\begin{equation}\n",
    "V_0 = \\dfrac{V_{max} [S]}{K_m + [S]}\n",
    "\\end{equation}\n",
    "\n",
    "onde:\n",
    "\n",
    "\\begin{itemize}\n",
    "\\item $V_0$ é a velocidade inicial \n",
    "\\item $[S]$ é a concentração de um substrato\n",
    "\\item $V_{max}$ é a velocidade máxima da velocidade inicial, \n",
    "\\item $K_m$ é a concentração de substrato que faz com que tenhamos metade da velocidade máxima\n",
    "\\end{itemize}\n",
    "\n",
    "![michaelis-menten](./figuras/ajuste-curvas-michaelis_menten.png)"
   ]
  },
  {
   "cell_type": "markdown",
   "id": "1cc66a57",
   "metadata": {
    "slideshow": {
     "slide_type": "fragment"
    }
   },
   "source": [
    "A linearização pode ser obtida fazendo a transformação (Lineweaver-Burk):\n",
    "\n",
    "\\begin{equation}\n",
    "\\dfrac{1}{V_0} = \\dfrac{K_m}{V_{max}}\\dfrac{1}{[S]} + \\dfrac{1}{V_{max}}\n",
    "\\end{equation}\n",
    "\n",
    "que corresponde à equação linear:\n",
    "\n",
    "\\begin{equation}\n",
    "Y = \\theta_1X + \\theta_0\n",
    "\\end{equation}\n",
    "\n",
    "onde:\n",
    "\n",
    "\\begin{itemize}\n",
    "\\item $Y = \\frac{1}{V_0}$\n",
    "\\item $\\theta_0 = \\frac{1}{V_{max}}$\n",
    "\\item $\\theta_1 = \\frac{K_m}{V_{max}}$\n",
    "\\item $X = \\frac{1}{[S]}$\n",
    "\\end{itemize}\n",
    "\n",
    "e obtemos a relação:\n",
    "\n",
    "$V_{max} = 1/\\theta_0$\n",
    "\n",
    "e\n",
    "\n",
    "$K_m = V_{max}\\cdot \\theta_1$"
   ]
  },
  {
   "cell_type": "markdown",
   "id": "210eb67f",
   "metadata": {
    "slideshow": {
     "slide_type": "fragment"
    }
   },
   "source": [
    "Considere os seguintes dados de concentração e velocidade inicial:\n",
    "\n",
    "\\begin{array}{|c|c|} \\hline \n",
    "[S] (\\mu mol) & V_0 (\\mu mol/min) \\\\ \\hline\n",
    "500 & 0,25 \\\\ \n",
    "50 & 0,25 \\\\ \n",
    "5,0 & 0,25 \\\\ \n",
    "0,5 & 0,20 \\\\ \n",
    "0,05 & 0,071 \\\\ \n",
    "0,005 & 0,0096 \\\\ \\hline\n",
    "\\end{array}"
   ]
  },
  {
   "cell_type": "code",
   "execution_count": 2,
   "id": "46b5c063",
   "metadata": {
    "slideshow": {
     "slide_type": "fragment"
    }
   },
   "outputs": [
    {
     "name": "stdout",
     "output_type": "stream",
     "text": [
      "                            OLS Regression Results                            \n",
      "==============================================================================\n",
      "Dep. Variable:                     V0   R-squared:                       1.000\n",
      "Model:                            OLS   Adj. R-squared:                  1.000\n",
      "Method:                 Least Squares   F-statistic:                 2.287e+06\n",
      "Date:                Thu, 07 Jul 2022   Prob (F-statistic):           1.15e-12\n",
      "Time:                        21:36:17   Log-Likelihood:                 9.6416\n",
      "No. Observations:                   6   AIC:                            -15.28\n",
      "Df Residuals:                       4   BIC:                            -15.70\n",
      "Df Model:                           1                                         \n",
      "Covariance Type:            nonrobust                                         \n",
      "==============================================================================\n",
      "                 coef    std err          t      P>|t|      [0.025      0.975]\n",
      "------------------------------------------------------------------------------\n",
      "const          3.9890      0.027    146.743      0.000       3.914       4.065\n",
      "S              0.5009      0.000   1512.170      0.000       0.500       0.502\n",
      "==============================================================================\n",
      "Omnibus:                          nan   Durbin-Watson:                   2.099\n",
      "Prob(Omnibus):                    nan   Jarque-Bera (JB):                0.138\n",
      "Skew:                          -0.370   Prob(JB):                        0.933\n",
      "Kurtosis:                       2.961   Cond. No.                         92.0\n",
      "==============================================================================\n",
      "\n",
      "Notes:\n",
      "[1] Standard Errors assume that the covariance matrix of the errors is correctly specified.\n",
      "const    3.989044\n",
      "S        0.500927\n",
      "dtype: float64\n",
      "Vmax = 0.25068661404809417 e Km = 0.12557559009962926\n"
     ]
    },
    {
     "name": "stderr",
     "output_type": "stream",
     "text": [
      "d:\\system\\conda_envs\\cn\\lib\\site-packages\\statsmodels\\stats\\stattools.py:74: ValueWarning: omni_normtest is not valid with less than 8 observations; 6 samples were given.\n",
      "  warn(\"omni_normtest is not valid with less than 8 observations; %i \"\n"
     ]
    },
    {
     "data": {
      "text/plain": [
       "[<matplotlib.lines.Line2D at 0x24b4e9e6260>]"
      ]
     },
     "execution_count": 2,
     "metadata": {},
     "output_type": "execute_result"
    },
    {
     "data": {
      "image/png": "[encoded data removed]",
      "text/plain": [
       "<Figure size 432x288 with 1 Axes>"
      ]
     },
     "metadata": {
      "needs_background": "light"
     },
     "output_type": "display_data"
    }
   ],
   "source": [
    "import matplotlib.pyplot as plt\n",
    "import numpy as np\n",
    "import pandas as pd\n",
    "import statsmodels.api as sm\n",
    "\n",
    "dados = [[ 500, 50, 5, 0.5, 0.05, 0.005],  [0.25, 0.25, 0.25, 0.2, 0.071, 0.0096]]\n",
    "df = pd.DataFrame({'S': dados[0], 'V0': dados[1]})\n",
    "\n",
    "S = df['S']\n",
    "V0 = df['V0']\n",
    "\n",
    "Y = 1/V0\n",
    "X = 1/S\n",
    "X = sm.add_constant(X)\n",
    "\n",
    "modelo = sm.OLS(Y,X).fit()\n",
    "\n",
    "print(modelo.summary())\n",
    "print(modelo.params)\n",
    "\n",
    "Vmax = 1/modelo.params[0]\n",
    "Km = modelo.params[1]*Vmax\n",
    "\n",
    "print(f'Vmax = {Vmax} e Km = {Km}')\n",
    "\n",
    "plt.scatter(S, V0)\n",
    "SS = np.linspace(0.005, 500)\n",
    "V = Vmax*SS/(Km + SS)\n",
    "plt.plot(SS, V)"
   ]
  }
 ],
 "metadata": {
  "celltoolbar": "Slideshow",
  "kernelspec": {
   "display_name": "Python 3 (ipykernel)",
   "language": "python",
   "name": "python3"
  },
  "language_info": {
   "codemirror_mode": {
    "name": "ipython",
    "version": 3
   },
   "file_extension": ".py",
   "mimetype": "text/x-python",
   "name": "python",
   "nbconvert_exporter": "python",
   "pygments_lexer": "ipython3",
   "version": "3.10.4"
  },
  "latex_envs": {
   "LaTeX_envs_menu_present": true,
   "autoclose": true,
   "autocomplete": false,
   "bibliofile": "biblio.bib",
   "cite_by": "apalike",
   "current_citInitial": 1,
   "eqLabelWithNumbers": true,
   "eqNumInitial": 1,
   "hotkeys": {
    "equation": "Ctrl-E",
    "itemize": "Ctrl-I"
   },
   "labels_anchors": false,
   "latex_user_defs": false,
   "report_style_numbering": false,
   "user_envs_cfg": false
  }
 },
 "nbformat": 4,
 "nbformat_minor": 5
}
