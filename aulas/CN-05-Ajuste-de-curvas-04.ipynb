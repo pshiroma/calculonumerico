{
 "cells": [
  {
   "cell_type": "markdown",
   "id": "b83a9544",
   "metadata": {
    "slideshow": {
     "slide_type": "slide"
    }
   },
   "source": [
    "# Ajuste de curvas\n",
    "\n",
    "A regressão linear permite encontrar a melhor reta que se ajusta a um conjunto de pontos fornecidos.\n",
    "\n",
    "Veremos agora como ajustar o conjunto de pontos no caso de modelo **não-lineares**.\n",
    "\n",
    "* Linearização de modelos não-lineares\n",
    "  * Linearização da equação de potência\n",
    "  * Linearização da equação y = ax/(b+x)"
   ]
  },
  {
   "cell_type": "markdown",
   "id": "578b9a6a",
   "metadata": {
    "slideshow": {
     "slide_type": "slide"
    }
   },
   "source": [
    "## Linearização da equação de potência\n",
    "\n",
    "De forma análoga, podemos linearizar a equação de potência simples:\n",
    "\n",
    "\\begin{equation}\n",
    "y = \\alpha x^\\beta\n",
    "\\end{equation}\n",
    "\n",
    "aplicando o logaritmico em ambos os lados:\n",
    "\n",
    "\\begin{equation}\n",
    "ln(y) = ln(\\alpha) +  \\beta\\ln(x)\n",
    "\\end{equation}\n",
    "\n",
    "que também apresenta a equação de uma reta:\n",
    "\n",
    "\\begin{equation}\n",
    "Y = \\theta_0 +  \\theta_1X\n",
    "\\end{equation}\n",
    "\n",
    "onde $Y = ln(y)$, $\\theta_0 = \\ln(\\alpha)$, $\\theta_1 = \\beta$ e $X = \\ln(x)$\n"
   ]
  },
  {
   "cell_type": "markdown",
   "id": "bc972b33",
   "metadata": {
    "slideshow": {
     "slide_type": "fragment"
    }
   },
   "source": [
    "## Exemplo\n",
    "\n",
    "[CHAPRA, Métodos numéricos aplicados com MATLAB]\n",
    "\n",
    "Ajuste a equação de potência para os dados abaixo:\n",
    "\n",
    "\\begin{array}{|c|c|} \\hline\n",
    "x_i & y_i \\\\ \\hline\n",
    " 10 & 25  \\\\\n",
    " 20 & 70  \\\\\n",
    " 30 & 380  \\\\\n",
    " 40 & 550 \\\\ \n",
    " 50 & 610 \\\\\n",
    " 60 & 1220 \\\\\n",
    " 70 & 830 \\\\\n",
    " 80 & 1450 \\\\ \\hline\n",
    " \\end{array}"
   ]
  },
  {
   "cell_type": "code",
   "execution_count": 10,
   "id": "b2cfa249-f26a-408d-a71c-31196e003492",
   "metadata": {},
   "outputs": [
    {
     "name": "stdout",
     "output_type": "stream",
     "text": [
      "LinregressResult(slope=1.9841762557640135, intercept=-1.2941260499535616, rvalue=0.9736803105754778, pvalue=4.468581748614249e-05, stderr=0.18961252408684837, intercept_stderr=0.6991656056262293)\n",
      "alpha = 0.27413734201322043 e beta = 1.9841762557640135\n"
     ]
    },
    {
     "data": {
      "text/plain": [
       "[<matplotlib.lines.Line2D at 0x148fbdd71f0>]"
      ]
     },
     "execution_count": 10,
     "metadata": {},
     "output_type": "execute_result"
    },
    {
     "data": {
      "image/png": "[encoded data removed]",
      "text/plain": [
       "<Figure size 432x288 with 1 Axes>"
      ]
     },
     "metadata": {
      "needs_background": "light"
     },
     "output_type": "display_data"
    }
   ],
   "source": [
    "import matplotlib.pyplot as plt\n",
    "import numpy as np\n",
    "import pandas as pd\n",
    "from scipy import stats\n",
    "\n",
    "x = np.array([ 10,20,30,40,50,60,70,80])\n",
    "y = np.array([25,70,380,550,610,1220,830,1450])\n",
    "\n",
    "Y = np.log(y)\n",
    "X = np.log(x)\n",
    "\n",
    "modelo = stats.linregress(X, Y)\n",
    "\n",
    "print(modelo)\n",
    "\n",
    "alpha = np.exp(modelo.intercept)\n",
    "beta = modelo.slope\n",
    "\n",
    "print(f'alpha = {alpha} e beta = {beta}')\n",
    "\n",
    "plt.scatter(x, y)\n",
    "x_modelo = np.linspace(0.0, x[-1])\n",
    "y_modelo = alpha*x**beta\n",
    "plt.plot(x, y_modelo,'r')"
   ]
  },
  {
   "cell_type": "markdown",
   "id": "a889bb57-5f74-421c-a543-bfd7c66bbb7d",
   "metadata": {},
   "source": [
    "# Exercício\n",
    "\n",
    "Os dados abaixo estão relacionados com a equação do tipo $y(x) = ax^n$.\n",
    "\n",
    "\\begin{array}{|c|c|} \\hline\n",
    "x & y \\\\ \\hline\n",
    "2.0  &  8.3 \\\\\n",
    "4.0  &  30.0 \\\\\n",
    "6.0  &  72.3 \\\\\n",
    "8.0  &  128.4 \\\\\n",
    "10.0  &  200.6 \\\\\n",
    "12.0  &  287.6 \\\\\n",
    "14.0  &  391.2 \\\\\n",
    "16.0  &  513.3 \\\\\n",
    "18.0  &  648.1 \\\\\n",
    "20.0  &  799.5 \\\\ \\hline\n",
    "\\end{array}\n",
    "\n",
    "1. Estime os valores de $a$ e $n$ utilizando o método dos mínimos quadrados.\n",
    "2. Plote o gráfico de dispersão dos pontos originais.\n",
    "3. Plote o gráfico da curva $y(x) = ax^n$ estimada.\n",
    "4. Estime o valor de $y$ para $x = 15$."
   ]
  },
  {
   "cell_type": "code",
   "execution_count": 22,
   "id": "a1a4d74f",
   "metadata": {},
   "outputs": [
    {
     "data": {
      "text/plain": [
       "[<matplotlib.lines.Line2D at 0x148fd42f790>]"
      ]
     },
     "execution_count": 22,
     "metadata": {},
     "output_type": "execute_result"
    },
    {
     "data": {
      "image/png": "[encoded data removed]",
      "text/plain": [
       "<Figure size 432x288 with 1 Axes>"
      ]
     },
     "metadata": {
      "needs_background": "light"
     },
     "output_type": "display_data"
    }
   ],
   "source": [
    "import numpy as np\n",
    "import matplotlib.pyplot as plt\n",
    "from scipy import stats\n",
    "\n",
    "# Dados de entrada\n",
    "x = np.array([2,4,6,8,10,12,14,16,18,20])\n",
    "y = np.array([8.3, 30, 72.3, 128.4, 200.6, 287.6, 391.2, 513.3, 648.1, 799.5])\n",
    "\n",
    "# Linearização do modelo\n",
    "Yrl = np.log(y)\n",
    "Xrl = np.log(x)\n",
    "\n",
    "# Regressão linear\n",
    "modelo = stats.linregress(Xrl, Yrl)\n",
    "\n",
    "# Ajuste para o modelo não-linear\n",
    "a = np.exp(modelo.intercept)\n",
    "n = modelo.slope\n",
    "\n",
    "# Plotando os resultados\n",
    "plt.scatter(x,y)\n",
    "xp = np.linspace(2,20)\n",
    "yp = a*xp**n\n",
    "plt.plot(xp,yp,'r')"
   ]
  },
  {
   "cell_type": "markdown",
   "id": "cba5a806",
   "metadata": {
    "slideshow": {
     "slide_type": "slide"
    }
   },
   "source": [
    "## Linearização da equação y = ax/(b+x)\n",
    "\n",
    "Outro exemplo de modelo não-linear é a equação:\n",
    "\n",
    "\\begin{equation}\n",
    "y = \\alpha \\dfrac{x}{\\beta + x}\n",
    "\\end{equation}\n",
    "\n",
    "Neste caso, podemos inverter os termos e obter:\n",
    "\n",
    "\\begin{equation}\n",
    "\\dfrac{1}{y} = \\dfrac{1}{\\alpha} + \\dfrac{\\beta}{\\alpha x}\n",
    "\\end{equation}\n",
    "\n",
    "que corresponde à equação linear:\n",
    "\n",
    "\\begin{equation}\n",
    "Y = \\theta_0 + \\theta_1X\n",
    "\\end{equation}\n",
    "\n",
    "onde:\n",
    "\n",
    "* $Y = \\dfrac{1}{y}$\n",
    "* $\\theta_0 = \\dfrac{1}{\\alpha}$\n",
    "* $\\theta_1 = \\dfrac{\\beta}{\\alpha}$\n",
    "* $X = \\dfrac{1}{x}$\n"
   ]
  },
  {
   "cell_type": "markdown",
   "id": "508e7c57",
   "metadata": {
    "slideshow": {
     "slide_type": "fragment"
    }
   },
   "source": [
    "## Exemplo: Equação de Michaelis-Menten\n",
    "\n",
    "A equação de Michaelis-Menten é utilizada para descrever boa parte da cinética enzimática, ramo que estuda as reações químicas catalisadas por enzimas.\n",
    "\n",
    "Neste caso a velocidade inicial de catálise ($V_0$) depende da concentração de substrato ($[S]$).\n",
    "Foi observado que a relação entre $V_0$ e $[S]$ é composto de 2 fases: Uma cinética de primeira ordem, onde a velocidade depende da concentração do substrato, e uma cinética de ordem zero, onde a velocidade não depende da concentração.\n",
    "Esta segunda fase é causada pela saturação e temos que $V_0$ não pode ser superior a um dado valor máximo $V_{max}$.\n",
    "\n",
    "A equação de Michaelis-Menten é matematicamente formulada como:\n",
    "\n",
    "\\begin{equation}\n",
    "V_0 = \\dfrac{V_{max} [S]}{K_m + [S]}\n",
    "\\end{equation}\n",
    "\n",
    "onde:\n",
    "\n",
    "* $V_0$ é a velocidade inicial \n",
    "* $[S]$ é a concentração de um substrato\n",
    "* $V_{max}$ é a velocidade máxima da velocidade inicial, \n",
    "* $K_m$ é a concentração de substrato que faz com que tenhamos metade da velocidade máxima\n",
    "\n",
    "![michaelis-menten](./figuras/ajuste-curvas-michaelis_menten.png)"
   ]
  },
  {
   "cell_type": "markdown",
   "id": "1cc66a57",
   "metadata": {
    "slideshow": {
     "slide_type": "fragment"
    }
   },
   "source": [
    "A linearização pode ser obtida fazendo a transformação (Lineweaver-Burk):\n",
    "\n",
    "\\begin{equation}\n",
    "\\dfrac{1}{V_0} = \\dfrac{K_m}{V_{max}}\\dfrac{1}{[S]} + \\dfrac{1}{V_{max}}\n",
    "\\end{equation}\n",
    "\n",
    "que corresponde à equação linear:\n",
    "\n",
    "\\begin{equation}\n",
    "Y = \\theta_1X + \\theta_0\n",
    "\\end{equation}\n",
    "\n",
    "onde:\n",
    "\n",
    "* $Y = \\frac{1}{V_0}$\n",
    "* $\\theta_0 = \\frac{1}{V_{max}}$\n",
    "* $\\theta_1 = \\frac{K_m}{V_{max}}$\n",
    "* $X = \\frac{1}{[S]}$\n",
    "\n",
    "e obtemos a relação:\n",
    "\n",
    "$V_{max} = 1/\\theta_0$\n",
    "\n",
    "e\n",
    "\n",
    "$K_m = V_{max}\\cdot \\theta_1$"
   ]
  },
  {
   "cell_type": "markdown",
   "id": "210eb67f",
   "metadata": {
    "slideshow": {
     "slide_type": "fragment"
    }
   },
   "source": [
    "Considere os seguintes dados de concentração e velocidade inicial:\n",
    "\n",
    "\\begin{array}{|c|c|} \\hline \n",
    "[S] (\\mu mol) & V_0 (\\mu mol/min) \\\\ \\hline\n",
    "500 & 0,25 \\\\ \n",
    "50 & 0,25 \\\\ \n",
    "5,0 & 0,25 \\\\ \n",
    "0,5 & 0,20 \\\\ \n",
    "0,05 & 0,071 \\\\ \n",
    "0,005 & 0,0096 \\\\ \\hline\n",
    "\\end{array}"
   ]
  },
  {
   "cell_type": "markdown",
   "id": "e5977cb1-f046-441e-8687-722a54493dbf",
   "metadata": {},
   "source": [
    "Determine os parâmetros da equação de Michaelis-Menten que melhor se ajustam aos dados acima."
   ]
  },
  {
   "cell_type": "code",
   "execution_count": 3,
   "id": "46b5c063",
   "metadata": {
    "slideshow": {
     "slide_type": "fragment"
    }
   },
   "outputs": [
    {
     "name": "stdout",
     "output_type": "stream",
     "text": [
      "LinregressResult(slope=0.5009265874704331, intercept=3.9890442646776023, rvalue=0.9999991253628349, pvalue=1.1474849214166323e-12, stderr=0.00033126330765487335, intercept_stderr=0.02718379629730892)\n",
      "Vmax = 0.2506866140480947 e Km = 0.12557559009962962\n"
     ]
    },
    {
     "data": {
      "text/plain": [
       "[<matplotlib.lines.Line2D at 0x148fafd7e50>]"
      ]
     },
     "execution_count": 3,
     "metadata": {},
     "output_type": "execute_result"
    },
    {
     "data": {
      "image/png": "[encoded data removed]",
      "text/plain": [
       "<Figure size 432x288 with 1 Axes>"
      ]
     },
     "metadata": {
      "needs_background": "light"
     },
     "output_type": "display_data"
    }
   ],
   "source": [
    "import matplotlib.pyplot as plt\n",
    "import numpy as np\n",
    "import pandas as pd\n",
    "from scipy import stats\n",
    "\n",
    "S = np.array([ 500, 50, 5, 0.5, 0.05, 0.005])\n",
    "V0 = np.array([0.25, 0.25, 0.25, 0.2, 0.071, 0.0096])\n",
    "\n",
    "Y = 1/V0\n",
    "X = 1/S\n",
    "\n",
    "modelo = stats.linregress(X, Y)\n",
    "\n",
    "print(modelo)\n",
    "\n",
    "Vmax = 1/modelo.intercept\n",
    "Km = modelo.slope*Vmax\n",
    "\n",
    "print(f'Vmax = {Vmax} e Km = {Km}')\n",
    "\n",
    "plt.scatter(S, V0)\n",
    "SS = np.linspace(0.005, 500)\n",
    "V = Vmax*SS/(Km + SS)\n",
    "plt.plot(SS, V)"
   ]
  }
 ],
 "metadata": {
  "celltoolbar": "Slideshow",
  "kernelspec": {
   "display_name": "Python 3 (ipykernel)",
   "language": "python",
   "name": "python3"
  },
  "language_info": {
   "codemirror_mode": {
    "name": "ipython",
    "version": 3
   },
   "file_extension": ".py",
   "mimetype": "text/x-python",
   "name": "python",
   "nbconvert_exporter": "python",
   "pygments_lexer": "ipython3",
   "version": "3.9.12"
  },
  "latex_envs": {
   "LaTeX_envs_menu_present": true,
   "autoclose": true,
   "autocomplete": false,
   "bibliofile": "biblio.bib",
   "cite_by": "apalike",
   "current_citInitial": 1,
   "eqLabelWithNumbers": true,
   "eqNumInitial": 1,
   "hotkeys": {
    "equation": "Ctrl-E",
    "itemize": "Ctrl-I"
   },
   "labels_anchors": false,
   "latex_user_defs": false,
   "report_style_numbering": false,
   "user_envs_cfg": false
  }
 },
 "nbformat": 4,
 "nbformat_minor": 5
}
