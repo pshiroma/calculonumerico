{
 "cells": [
  {
   "cell_type": "markdown",
   "id": "8d0156c0",
   "metadata": {
    "slideshow": {
     "slide_type": "slide"
    }
   },
   "source": [
    "# Raízes de um polinômio"
   ]
  },
  {
   "cell_type": "markdown",
   "id": "756ad81b",
   "metadata": {
    "slideshow": {
     "slide_type": "subslide"
    }
   },
   "source": [
    "Um caso especial ocorre quando queremos achar as raízes de um polinômio.\n",
    "\n",
    "A solução para este caso pode ser obtido convertendo o polinômio em uma matriz especial, chamada matriz companheira, e determinando os *autovalores* desta matriz.\n",
    "\n",
    "No python, a função que implementa este método é chamada `roots`, presente na biblioteca `numpy`."
   ]
  },
  {
   "cell_type": "markdown",
   "id": "0f1c53c8",
   "metadata": {
    "slideshow": {
     "slide_type": "subslide"
    }
   },
   "source": [
    "Suponha que você tenha o seguinte polinômio:\n",
    "\n",
    "$\n",
    "p(x) = x^3 - 2x^2 - 5x + 6\n",
    "$\n",
    "\n",
    "Para calcular as raízes do polinômio, executamos o comando `roots`:"
   ]
  },
  {
   "cell_type": "code",
   "execution_count": 38,
   "id": "d9c48bb0",
   "metadata": {
    "slideshow": {
     "slide_type": "fragment"
    }
   },
   "outputs": [
    {
     "data": {
      "text/plain": [
       "array([-2.,  3.,  1.])"
      ]
     },
     "execution_count": 38,
     "metadata": {},
     "output_type": "execute_result"
    }
   ],
   "source": [
    "import numpy as np\n",
    "polinomio = [1, -2, -5, 6]\n",
    "np.roots(polinomio)"
   ]
  },
  {
   "cell_type": "markdown",
   "id": "82f921cf",
   "metadata": {
    "slideshow": {
     "slide_type": "fragment"
    }
   },
   "source": [
    "Para calcular o valor do polinômio em um ponto qualquer, utilizamos o comando `polyval`:"
   ]
  },
  {
   "cell_type": "code",
   "execution_count": 40,
   "id": "da33496e",
   "metadata": {
    "slideshow": {
     "slide_type": "fragment"
    }
   },
   "outputs": [
    {
     "data": {
      "text/plain": [
       "-4"
      ]
     },
     "execution_count": 40,
     "metadata": {},
     "output_type": "execute_result"
    }
   ],
   "source": [
    "np.polyval(polinomio, 2)"
   ]
  },
  {
   "cell_type": "markdown",
   "id": "632ef289",
   "metadata": {
    "slideshow": {
     "slide_type": "slide"
    }
   },
   "source": [
    "# Revisão"
   ]
  },
  {
   "cell_type": "code",
   "execution_count": 151,
   "id": "546e7d6c",
   "metadata": {
    "slideshow": {
     "slide_type": "subslide"
    }
   },
   "outputs": [],
   "source": [
    "def bisseccao_laco_for(f, xl, xu, n):\n",
    "    '''\n",
    "    Executa o algoritmo de bisseccao n vezes.\n",
    "    @f: funcao que desejamos achar o zero\n",
    "    @xl: limite inferior\n",
    "    @xu: limite superior\n",
    "    @n: número de vezes que a bissecção será executada\n",
    "    '''\n",
    "    #print('xl     xu     xr')\n",
    "    for i in range(n):\n",
    "        xr = (xl + xu)/2\n",
    "\n",
    "        #print(f'{xl:6.2f} {xu:6.2f} {xr:6.2f}')\n",
    "        if (f(xl)*f(xr) < 0):\n",
    "            xu = xr\n",
    "        else:\n",
    "            xl = xr\n",
    "    return xr"
   ]
  },
  {
   "cell_type": "code",
   "execution_count": 160,
   "id": "296aa655",
   "metadata": {
    "slideshow": {
     "slide_type": "fragment"
    }
   },
   "outputs": [],
   "source": [
    "def falsaposicao_laco_for(f, xl, xu, n):\n",
    "    #print('xl     xu     xr')\n",
    "    for i in range(n):\n",
    "        xr = xu - f(xu)*(xl-xu)/(f(xl) - f(xu))\n",
    "       \n",
    "        #print(f'{xl:6.2f} {xu:6.2f} {xr:6.2f}')\n",
    "        if (f(xl)*f(xr) < 0):\n",
    "            xu = xr\n",
    "        else:\n",
    "            xl = xr\n",
    "    return xr"
   ]
  },
  {
   "cell_type": "code",
   "execution_count": 163,
   "id": "1e314cae",
   "metadata": {
    "slideshow": {
     "slide_type": "fragment"
    }
   },
   "outputs": [],
   "source": [
    "def pontofixo_laco_for(g, x0, n):\n",
    "    xi = x0\n",
    "    for i in range(n):\n",
    "        xi = g(xi)\n",
    "    return xi"
   ]
  },
  {
   "cell_type": "code",
   "execution_count": 152,
   "id": "d122b6bb",
   "metadata": {
    "slideshow": {
     "slide_type": "fragment"
    }
   },
   "outputs": [],
   "source": [
    "def newtonraphson_laco_for(f, df, x0, n):\n",
    "    xvelho = x0\n",
    "    for i in range(n):\n",
    "        xnovo = xvelho - f(xvelho)/df(xvelho)\n",
    "        erro_aproximado = abs((xnovo - xvelho)/xnovo)\n",
    "        #print(f'{i} {xnovo:.6f} {erro_aproximado:.6%}')\n",
    "        xvelho = xnovo  \n",
    "    return xnovo"
   ]
  },
  {
   "cell_type": "code",
   "execution_count": 153,
   "id": "e3e4ece6",
   "metadata": {
    "slideshow": {
     "slide_type": "fragment"
    }
   },
   "outputs": [],
   "source": [
    "def secante_laco_for(f, x0, delta, n):\n",
    "    xvelho = x0\n",
    "    for i in range(n):\n",
    "        xnovo = xvelho - delta*f(xvelho)/(f(xvelho+delta) - f(xvelho))\n",
    "        erro_aproximado = abs((xnovo - xvelho)/xnovo)\n",
    "        #print(f'{i} {xnovo:.6f} {erro_aproximado:.6%}')\n",
    "        xvelho = xnovo\n",
    "    return xnovo"
   ]
  },
  {
   "cell_type": "markdown",
   "id": "98079ce8",
   "metadata": {
    "slideshow": {
     "slide_type": "slide"
    }
   },
   "source": [
    "# Scipy"
   ]
  },
  {
   "cell_type": "code",
   "execution_count": 96,
   "id": "fabb0da9",
   "metadata": {
    "slideshow": {
     "slide_type": "subslide"
    }
   },
   "outputs": [],
   "source": [
    "from scipy import optimize"
   ]
  },
  {
   "cell_type": "code",
   "execution_count": 276,
   "id": "1212e1a9",
   "metadata": {
    "slideshow": {
     "slide_type": "fragment"
    }
   },
   "outputs": [],
   "source": [
    "def f(x):\n",
    "    return x**10 - 1\n",
    "\n",
    "# usando no algoritmo de newton-rapshon\n",
    "def df(x):\n",
    "    return 10*x**9\n",
    "\n",
    "# usado no algoritmo do ponto fixo\n",
    "def g(x):\n",
    "    return 1"
   ]
  },
  {
   "cell_type": "code",
   "execution_count": 251,
   "id": "ac5990f3",
   "metadata": {
    "slideshow": {
     "slide_type": "fragment"
    }
   },
   "outputs": [],
   "source": [
    "def f(x):\n",
    "    return np.exp(-x) - x\n",
    "\n",
    "# usando no algoritmo de newton-rapshon\n",
    "def df(x):\n",
    "    return -x*np.exp(-x) - 1\n",
    "\n",
    "def g(x):\n",
    "    return np.exp(-x)"
   ]
  },
  {
   "cell_type": "code",
   "execution_count": 277,
   "id": "a23d70cd",
   "metadata": {
    "scrolled": true,
    "slideshow": {
     "slide_type": "fragment"
    }
   },
   "outputs": [
    {
     "data": {
      "text/plain": [
       "<mplcursors._mplcursors.Cursor at 0x272c69b2ef0>"
      ]
     },
     "execution_count": 277,
     "metadata": {},
     "output_type": "execute_result"
    },
    {
     "data": {
      "application/vnd.jupyter.widget-view+json": {
       "model_id": "c8b8d98b32a744c3864b1a8ed0f79884",
       "version_major": 2,
       "version_minor": 0
      },
      "image/png": "[encoded data removed]",
      "text/html": [
       "\n",
       "            <div style=\"display: inline-block;\">\n",
       "                <div class=\"jupyter-widgets widget-label\" style=\"text-align: center;\">\n",
       "                    Figure\n",
       "                </div>\n",
       "                <img src='data:image/png;base64,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' width=640.0/>\n",
       "            </div>\n",
       "        "
      ],
      "text/plain": [
       "Canvas(toolbar=Toolbar(toolitems=[('Home', 'Reset original view', 'home', 'home'), ('Back', 'Back to previous …"
      ]
     },
     "metadata": {},
     "output_type": "display_data"
    }
   ],
   "source": [
    "import matplotlib.pyplot as plt\n",
    "import mplcursors\n",
    "%matplotlib widget\n",
    "X = np.linspace(0,1.2,100)\n",
    "Y = f(X)\n",
    "plt.plot(X,Y)\n",
    "mplcursors.cursor(hover=True)"
   ]
  },
  {
   "cell_type": "code",
   "execution_count": 278,
   "id": "923f2888",
   "metadata": {
    "slideshow": {
     "slide_type": "fragment"
    }
   },
   "outputs": [
    {
     "name": "stdout",
     "output_type": "stream",
     "text": [
      "Bissecção:\n",
      " (1.0000000000004547,       converged: True\n",
      "           flag: 'converged'\n",
      " function_calls: 43\n",
      "     iterations: 41\n",
      "           root: 1.0000000000004547)\n",
      "Brent:\n",
      " (1.0000000000000038,       converged: True\n",
      "           flag: 'converged'\n",
      " function_calls: 14\n",
      "     iterations: 13\n",
      "           root: 1.0000000000000038)\n",
      "Newton-Raphson:\n",
      " (1.0000000000000009,       converged: True\n",
      "           flag: 'converged'\n",
      " function_calls: 22\n",
      "     iterations: 11\n",
      "           root: 1.0000000000000009)\n",
      "Secante:\n",
      "       converged: True\n",
      "           flag: 'converged'\n",
      " function_calls: 4\n",
      "     iterations: 3\n",
      "           root: 7.620746494213767e-05\n",
      "Padrão:\n",
      "     fjac: array([[1.]])\n",
      "     fun: array([-1.])\n",
      " message: 'The iteration is not making good progress, as measured by the \\n  improvement from the last ten iterations.'\n",
      "    nfev: 13\n",
      "     qtf: array([-1.])\n",
      "       r: array([-94.04460493])\n",
      "  status: 5\n",
      " success: False\n",
      "       x: array([0.])\n"
     ]
    },
    {
     "name": "stderr",
     "output_type": "stream",
     "text": [
      "d:\\system\\conda_envs\\cn\\lib\\site-packages\\scipy\\optimize\\zeros.py:341: RuntimeWarning: Tolerance of 5.080440303369362e-05 reached.\n",
      "  warnings.warn(msg, RuntimeWarning)\n"
     ]
    }
   ],
   "source": [
    "sol = optimize.bisect(f, 0,3, full_output=True)\n",
    "print('Bissecção:\\n', sol)\n",
    "sol = optimize.brentq(f, 0,3, full_output=True)\n",
    "print('Brent:\\n', sol)\n",
    "sol = optimize.newton(f, fprime=df, x0=2, full_output=True)\n",
    "print('Newton-Raphson:\\n', sol)\n",
    "sol = optimize.root_scalar(f, x0=0, x1=3,method='secant')\n",
    "print('Secante:\\n', sol)\n",
    "sol = optimize.root(f, x0=0)\n",
    "print('Padrão:\\n', sol)"
   ]
  },
  {
   "cell_type": "code",
   "execution_count": 178,
   "id": "4ab6e2ec",
   "metadata": {
    "slideshow": {
     "slide_type": "fragment"
    }
   },
   "outputs": [
    {
     "data": {
      "text/plain": [
       "1.0000000000004547"
      ]
     },
     "execution_count": 178,
     "metadata": {},
     "output_type": "execute_result"
    }
   ],
   "source": [
    "bisseccao_laco_for(f, 0, 3, 41)"
   ]
  },
  {
   "cell_type": "code",
   "execution_count": 280,
   "id": "0176d081",
   "metadata": {
    "slideshow": {
     "slide_type": "fragment"
    }
   },
   "outputs": [
    {
     "data": {
      "text/plain": [
       "0.0020823104346265886"
      ]
     },
     "execution_count": 280,
     "metadata": {},
     "output_type": "execute_result"
    }
   ],
   "source": [
    "falsaposicao_laco_for(f, 0, 3, 41)"
   ]
  },
  {
   "cell_type": "code",
   "execution_count": 283,
   "id": "2dbeda66",
   "metadata": {
    "slideshow": {
     "slide_type": "fragment"
    }
   },
   "outputs": [
    {
     "data": {
      "text/plain": [
       "3.4867844009999984e+16"
      ]
     },
     "execution_count": 283,
     "metadata": {},
     "output_type": "execute_result"
    }
   ],
   "source": [
    "newtonraphson_laco_for(f, df, 0.01, 11)"
   ]
  },
  {
   "cell_type": "code",
   "execution_count": 284,
   "id": "1fee52ba",
   "metadata": {
    "slideshow": {
     "slide_type": "fragment"
    }
   },
   "outputs": [
    {
     "data": {
      "text/plain": [
       "348678506.0848352"
      ]
     },
     "execution_count": 284,
     "metadata": {},
     "output_type": "execute_result"
    }
   ],
   "source": [
    "secante_laco_for(f, 0, 0.1, 11)"
   ]
  },
  {
   "cell_type": "code",
   "execution_count": 285,
   "id": "eb9cd3bf",
   "metadata": {
    "slideshow": {
     "slide_type": "fragment"
    }
   },
   "outputs": [
    {
     "data": {
      "text/plain": [
       "1"
      ]
     },
     "execution_count": 285,
     "metadata": {},
     "output_type": "execute_result"
    }
   ],
   "source": [
    "pontofixo_laco_for(g, 0, 10)"
   ]
  },
  {
   "cell_type": "markdown",
   "id": "6b3d8343",
   "metadata": {
    "slideshow": {
     "slide_type": "slide"
    }
   },
   "source": [
    "# Exercícios"
   ]
  },
  {
   "cell_type": "markdown",
   "id": "4d7b2fe3",
   "metadata": {
    "slideshow": {
     "slide_type": "slide"
    }
   },
   "source": [
    "## Exercício 1"
   ]
  },
  {
   "cell_type": "markdown",
   "id": "fa35eb35",
   "metadata": {
    "slideshow": {
     "slide_type": "subslide"
    }
   },
   "source": [
    "Determine as raízes de $f(x) = -12 -21x +18x^2 -2,75x^3$."
   ]
  },
  {
   "cell_type": "code",
   "execution_count": null,
   "id": "05d1d039",
   "metadata": {
    "slideshow": {
     "slide_type": "-"
    }
   },
   "outputs": [],
   "source": []
  },
  {
   "cell_type": "markdown",
   "id": "94e7dbf5",
   "metadata": {
    "slideshow": {
     "slide_type": "slide"
    }
   },
   "source": [
    "## Exercício 2"
   ]
  },
  {
   "cell_type": "markdown",
   "id": "7b7225e8",
   "metadata": {
    "slideshow": {
     "slide_type": "subslide"
    }
   },
   "source": [
    "Determine a raiz não trivial de $\\sin(x) = x^2$ localizada no intervalo de 0,5 a 1."
   ]
  },
  {
   "cell_type": "code",
   "execution_count": null,
   "id": "3f58598c",
   "metadata": {
    "slideshow": {
     "slide_type": "-"
    }
   },
   "outputs": [],
   "source": []
  },
  {
   "cell_type": "markdown",
   "id": "29947a27",
   "metadata": {
    "slideshow": {
     "slide_type": "slide"
    }
   },
   "source": [
    "## Exercício 3"
   ]
  },
  {
   "cell_type": "markdown",
   "id": "7a5e98a9",
   "metadata": {
    "slideshow": {
     "slide_type": "subslide"
    }
   },
   "source": [
    "[5.15 CHAPRA] Muitos campos da engenharia necessitam de estimativas acuradas da população. \n",
    "Por exemplo pode ser necessário determinar separadamente a tendência de crescimento da população de uma cidade e do subúrbio adjacente.\n",
    "A população da área urbana está diminuindo com o tempo de acordo com\n",
    "\n",
    "$\n",
    "P_u(t) = P_{u,max}e^{-k_ut}+ P_{u,min}\n",
    "$\n",
    "\n",
    "enquanto a população suburbana está crescendo de acordo com\n",
    "\n",
    "$\n",
    "P_s(t) = \\dfrac{P_{s,max}}{1 + (P_{s,max}/P_0-1)e^{-k_st}}\n",
    "$\n",
    "\n",
    "onde $P_{u,max}$, $P_{s,max}$, $P_0$ e $k_s$ são parâmetros determinados empiricamente.\n",
    "Determine o tempo e os valores correspondentes de $P_u(t)$ e $P_s(t)$ quando os subúrbios forem 20\\% maiores que a cidade.\n",
    "Os valores dos parâmetros são $P_{u,max} = 80.000$ pessoas, $k_u = 0,05/ano$, $P_{u,min} = 110.000$ pessoas, $P_{s,max} = 320.000$ pessoas, $P_{0} = 10.000$ pessoas e $k_s = 0,09/ano$."
   ]
  },
  {
   "cell_type": "code",
   "execution_count": null,
   "id": "dccb973b",
   "metadata": {
    "slideshow": {
     "slide_type": "-"
    }
   },
   "outputs": [],
   "source": []
  },
  {
   "cell_type": "markdown",
   "id": "6bec7ad9",
   "metadata": {
    "slideshow": {
     "slide_type": "slide"
    }
   },
   "source": [
    "## Exercício 4\n",
    "\n",
    "[6.14 CHAPRA] Em um processo de engenharia química, o vapor de água ($H_2O$) é aquecido a uma temperatura suficientemente alta para que uma parte significativa da água se dissocie, ou se quebre, para formar oxigênio ($O_2$) e hidrogênio ($H_2$):\n",
    "\n",
    "$\n",
    "H_2O \\rightleftharpoons H_2 + \\dfrac{1}{2}O_2\n",
    "$\n",
    "\n",
    "Se for assumido que essa é a única reação envolvida, a fração molar $x$ de $H_2O$ que se dissocia pode ser representada por\n",
    "\n",
    "$\n",
    "K = \\dfrac{x}{1-x}\\sqrt{\\dfrac{2p_t}{2+x}}\n",
    "$\n",
    "\n",
    "onde $K$ é a constante de equilíbrio da reação e $p_t$ é a pressão total da mistura.\n",
    "Se $p_t = 3atm$ e $K = 0,05$, determine o valor de $x$ que satisfaz a equação."
   ]
  },
  {
   "cell_type": "code",
   "execution_count": null,
   "id": "0a9ab653",
   "metadata": {
    "slideshow": {
     "slide_type": "-"
    }
   },
   "outputs": [],
   "source": []
  },
  {
   "cell_type": "markdown",
   "id": "c276319a",
   "metadata": {
    "slideshow": {
     "slide_type": "slide"
    }
   },
   "source": [
    "## Exercício 5\n",
    "\n",
    "[6.7 CHAPRA adaptado] \n",
    "A determinação do escoamento (fluxo) de fluidos através de canais e tubulações tem grande relevância em muitas áreas da engenharia e da ciência.\n",
    "Entre as aplicações típicas estão o fluxo de líquido e gases através de dutos e sistemas de refrigeração, fluxo nos vaso sanguíneos até o sistema vascular de uma planta.\n",
    "\n",
    "A resistência ao fluxo em tais canais é parametrizada por um número adimensional chamado *fator de atrito (f)* e, para um fluxo turbulento, a equação de Colebrook fornece um meio de calcular o fator de atrito:\n",
    "\n",
    "\\begin{equation} \\label{eq:colebrook}\n",
    "0 = \\dfrac{1}{\\sqrt{f}} + 2,0\\log\\left( \\dfrac{\\epsilon}{3,7D} + \\dfrac{2,51}{Re\\sqrt{f}} \\right)\n",
    "\\end{equation}\n",
    "\n",
    "onde $\\epsilon$ é a rugosidade, $D$ o diâmetro e $Re$ o número de Reynolds é dado por:\n",
    "\n",
    "$\n",
    "Re = \\dfrac{\\rho VD}{\\mu}\n",
    "$\n",
    "\n",
    "Determine a resistência ao fluxo para uma densidade de fluxo $\\rho = 1,23kg/m^3$, velocidade $V = 40m/s$, diâmetro $D = 0,005m$, viscosidade dinâmica $\\mu = 1,79\\times 10^{-5}N\\cdot s/m^2$ e rugosidade $\\epsilon = 0,0000015m$.\n",
    "\n",
    "Observe que o fator de atrivo varia entre 0,008 a 0,08"
   ]
  },
  {
   "cell_type": "code",
   "execution_count": null,
   "id": "e1f70c63",
   "metadata": {
    "slideshow": {
     "slide_type": "-"
    }
   },
   "outputs": [],
   "source": []
  }
 ],
 "metadata": {
  "celltoolbar": "Slideshow",
  "kernelspec": {
   "display_name": "Python 3 (ipykernel)",
   "language": "python",
   "name": "python3"
  },
  "language_info": {
   "codemirror_mode": {
    "name": "ipython",
    "version": 3
   },
   "file_extension": ".py",
   "mimetype": "text/x-python",
   "name": "python",
   "nbconvert_exporter": "python",
   "pygments_lexer": "ipython3",
   "version": "3.10.4"
  },
  "latex_envs": {
   "LaTeX_envs_menu_present": true,
   "autoclose": true,
   "autocomplete": false,
   "bibliofile": "biblio.bib",
   "cite_by": "apalike",
   "current_citInitial": 1,
   "eqLabelWithNumbers": true,
   "eqNumInitial": 1,
   "hotkeys": {
    "equation": "Ctrl-E",
    "itemize": "Ctrl-I"
   },
   "labels_anchors": false,
   "latex_user_defs": false,
   "report_style_numbering": false,
   "user_envs_cfg": false
  }
 },
 "nbformat": 4,
 "nbformat_minor": 5
}
