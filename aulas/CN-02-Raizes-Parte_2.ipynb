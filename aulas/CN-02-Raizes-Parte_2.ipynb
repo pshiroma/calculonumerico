{
 "cells": [
  {
   "cell_type": "markdown",
   "id": "8d0156c0",
   "metadata": {
    "slideshow": {
     "slide_type": "slide"
    }
   },
   "source": [
    "# Raízes de um polinômio"
   ]
  },
  {
   "cell_type": "markdown",
   "id": "756ad81b",
   "metadata": {
    "slideshow": {
     "slide_type": "subslide"
    }
   },
   "source": [
    "Um caso especial ocorre quando queremos achar as raízes de um polinômio.\n",
    "\n",
    "A solução para este caso pode ser obtido convertendo o polinômio em uma matriz especial, chamada matriz companheira, e determinando os *autovalores* desta matriz.\n",
    "\n",
    "No python, a função que implementa este método é chamada `roots`, presente na biblioteca `numpy`."
   ]
  },
  {
   "cell_type": "markdown",
   "id": "0f1c53c8",
   "metadata": {
    "slideshow": {
     "slide_type": "subslide"
    }
   },
   "source": [
    "Suponha que você tenha o seguinte polinômio:\n",
    "\n",
    "$\n",
    "p(x) = x^3 - 2x^2 - 5x + 6\n",
    "$\n",
    "\n",
    "Para calcular as raízes do polinômio, executamos o comando `roots`:"
   ]
  },
  {
   "cell_type": "code",
   "execution_count": 38,
   "id": "d9c48bb0",
   "metadata": {
    "slideshow": {
     "slide_type": "fragment"
    }
   },
   "outputs": [
    {
     "data": {
      "text/plain": [
       "array([-2.,  3.,  1.])"
      ]
     },
     "execution_count": 38,
     "metadata": {},
     "output_type": "execute_result"
    }
   ],
   "source": [
    "import numpy as np\n",
    "polinomio = [1, -2, -5, 6]\n",
    "np.roots(polinomio)"
   ]
  },
  {
   "cell_type": "markdown",
   "id": "82f921cf",
   "metadata": {
    "slideshow": {
     "slide_type": "fragment"
    }
   },
   "source": [
    "Para calcular o valor do polinômio em um ponto qualquer, utilizamos o comando `polyval`:"
   ]
  },
  {
   "cell_type": "code",
   "execution_count": 40,
   "id": "da33496e",
   "metadata": {
    "slideshow": {
     "slide_type": "fragment"
    }
   },
   "outputs": [
    {
     "data": {
      "text/plain": [
       "-4"
      ]
     },
     "execution_count": 40,
     "metadata": {},
     "output_type": "execute_result"
    }
   ],
   "source": [
    "np.polyval(polinomio, 2)"
   ]
  },
  {
   "cell_type": "markdown",
   "id": "632ef289",
   "metadata": {
    "slideshow": {
     "slide_type": "slide"
    }
   },
   "source": [
    "# Revisão"
   ]
  },
  {
   "cell_type": "code",
   "execution_count": 7,
   "id": "546e7d6c",
   "metadata": {
    "slideshow": {
     "slide_type": "subslide"
    }
   },
   "outputs": [],
   "source": [
    "def bisseccao_laco_for(f, xl, xu, n):\n",
    "    '''\n",
    "    Executa o algoritmo de bisseccao n vezes.\n",
    "    @f: funcao que desejamos achar o zero\n",
    "    @xl: limite inferior\n",
    "    @xu: limite superior\n",
    "    @n: número de vezes que a bissecção será executada\n",
    "    '''\n",
    "    #print('xl     xu     xr')\n",
    "    for i in range(n):\n",
    "        xr = (xl + xu)/2\n",
    "\n",
    "        #print(f'{xl:6.2f} {xu:6.2f} {xr:6.2f}')\n",
    "        if (f(xl)*f(xr) < 0):\n",
    "            xu = xr\n",
    "        else:\n",
    "            xl = xr\n",
    "    return xr"
   ]
  },
  {
   "cell_type": "code",
   "execution_count": 8,
   "id": "296aa655",
   "metadata": {
    "slideshow": {
     "slide_type": "fragment"
    }
   },
   "outputs": [],
   "source": [
    "def falsaposicao_laco_for(f, xl, xu, n):\n",
    "    #print('xl     xu     xr')\n",
    "    for i in range(n):\n",
    "        xr = xu - f(xu)*(xl-xu)/(f(xl) - f(xu))\n",
    "       \n",
    "        #print(f'{xl:6.2f} {xu:6.2f} {xr:6.2f}')\n",
    "        if (f(xl)*f(xr) < 0):\n",
    "            xu = xr\n",
    "        else:\n",
    "            xl = xr\n",
    "    return xr"
   ]
  },
  {
   "cell_type": "code",
   "execution_count": 9,
   "id": "1e314cae",
   "metadata": {
    "slideshow": {
     "slide_type": "fragment"
    }
   },
   "outputs": [],
   "source": [
    "def pontofixo_laco_for(g, x0, n):\n",
    "    xi = x0\n",
    "    for i in range(n):\n",
    "        xi = g(xi)\n",
    "    return xi"
   ]
  },
  {
   "cell_type": "code",
   "execution_count": 10,
   "id": "d122b6bb",
   "metadata": {
    "slideshow": {
     "slide_type": "fragment"
    }
   },
   "outputs": [],
   "source": [
    "def newtonraphson_laco_for(f, df, x0, n):\n",
    "    xvelho = x0\n",
    "    for i in range(n):\n",
    "        xnovo = xvelho - f(xvelho)/df(xvelho)\n",
    "        erro_aproximado = abs((xnovo - xvelho)/xnovo)\n",
    "        #print(f'{i} {xnovo:.6f} {erro_aproximado:.6%}')\n",
    "        xvelho = xnovo  \n",
    "    return xnovo"
   ]
  },
  {
   "cell_type": "code",
   "execution_count": 11,
   "id": "e3e4ece6",
   "metadata": {
    "slideshow": {
     "slide_type": "fragment"
    }
   },
   "outputs": [],
   "source": [
    "def secante_laco_for(f, x0, delta, n):\n",
    "    xvelho = x0\n",
    "    for i in range(n):\n",
    "        xnovo = xvelho - delta*f(xvelho)/(f(xvelho+delta) - f(xvelho))\n",
    "        erro_aproximado = abs((xnovo - xvelho)/xnovo)\n",
    "        #print(f'{i} {xnovo:.6f} {erro_aproximado:.6%}')\n",
    "        xvelho = xnovo\n",
    "    return xnovo"
   ]
  },
  {
   "cell_type": "markdown",
   "id": "98079ce8",
   "metadata": {
    "slideshow": {
     "slide_type": "slide"
    }
   },
   "source": [
    "# Scipy"
   ]
  },
  {
   "cell_type": "code",
   "execution_count": 96,
   "id": "fabb0da9",
   "metadata": {
    "slideshow": {
     "slide_type": "subslide"
    }
   },
   "outputs": [],
   "source": [
    "from scipy import optimize"
   ]
  },
  {
   "cell_type": "code",
   "execution_count": 1,
   "id": "1212e1a9",
   "metadata": {
    "slideshow": {
     "slide_type": "fragment"
    }
   },
   "outputs": [],
   "source": [
    "def f(x):\n",
    "    return x**10 - 1\n",
    "\n",
    "# usando no algoritmo de newton-rapshon\n",
    "def df(x):\n",
    "    return 10*x**9\n",
    "\n",
    "# usado no algoritmo do ponto fixo\n",
    "def g(x):\n",
    "    return 1"
   ]
  },
  {
   "cell_type": "code",
   "execution_count": 17,
   "id": "ac5990f3",
   "metadata": {
    "slideshow": {
     "slide_type": "fragment"
    }
   },
   "outputs": [],
   "source": [
    "def f(x):\n",
    "    return np.exp(-x) - x\n",
    "\n",
    "# usando no algoritmo de newton-rapshon\n",
    "def df(x):\n",
    "    return -x*np.exp(-x) - 1\n",
    "\n",
    "def g(x):\n",
    "    return np.exp(-x)"
   ]
  },
  {
   "cell_type": "code",
   "execution_count": null,
   "id": "a23d70cd",
   "metadata": {
    "scrolled": true,
    "slideshow": {
     "slide_type": "fragment"
    }
   },
   "outputs": [],
   "source": [
    "import matplotlib.pyplot as plt\n",
    "import numpy as np\n",
    "import mplcursors\n",
    "%matplotlib widget\n",
    "X = np.linspace(0,1.2,100)\n",
    "Y = f(X)\n",
    "plt.plot(X,Y)\n",
    "mplcursors.cursor(hover=True)"
   ]
  },
  {
   "cell_type": "code",
   "execution_count": 19,
   "id": "923f2888",
   "metadata": {
    "slideshow": {
     "slide_type": "fragment"
    }
   },
   "outputs": [
    {
     "name": "stdout",
     "output_type": "stream",
     "text": [
      "Bissecção:\n",
      " (0.5671432904105131,       converged: True\n",
      "           flag: 'converged'\n",
      " function_calls: 43\n",
      "     iterations: 41\n",
      "           root: 0.5671432904105131)\n",
      "Brent:\n",
      " (0.567143290410095,       converged: True\n",
      "           flag: 'converged'\n",
      " function_calls: 8\n",
      "     iterations: 7\n",
      "           root: 0.567143290410095)\n",
      "Newton-Raphson:\n",
      " (0.5671432886001259,       converged: True\n",
      "           flag: 'converged'\n",
      " function_calls: 22\n",
      "     iterations: 11\n",
      "           root: 0.5671432886001259)\n",
      "Secante:\n",
      "       converged: True\n",
      "           flag: 'converged'\n",
      " function_calls: 7\n",
      "     iterations: 6\n",
      "           root: 0.5671432904098026\n",
      "Padrão:\n",
      "     fjac: array([[-1.]])\n",
      "     fun: array([0.])\n",
      " message: 'The solution converged.'\n",
      "    nfev: 8\n",
      "     qtf: array([-3.30757643e-12])\n",
      "       r: array([1.56714333])\n",
      "  status: 1\n",
      " success: True\n",
      "       x: array([0.56714329])\n"
     ]
    }
   ],
   "source": [
    "from scipy import optimize\n",
    "sol = optimize.bisect(f, 0,3, full_output=True)\n",
    "print('Bissecção:\\n', sol)\n",
    "sol = optimize.brentq(f, 0,3, full_output=True)\n",
    "print('Brent:\\n', sol)\n",
    "sol = optimize.newton(f, fprime=df, x0=2, full_output=True)\n",
    "print('Newton-Raphson:\\n', sol)\n",
    "sol = optimize.root_scalar(f, x0=0, x1=3,method='secant')\n",
    "print('Secante:\\n', sol)\n",
    "sol = optimize.root(f, x0=0)\n",
    "print('Padrão:\\n', sol)"
   ]
  },
  {
   "cell_type": "code",
   "execution_count": 12,
   "id": "4ab6e2ec",
   "metadata": {
    "slideshow": {
     "slide_type": "fragment"
    }
   },
   "outputs": [
    {
     "data": {
      "text/plain": [
       "1.0000000000004547"
      ]
     },
     "execution_count": 12,
     "metadata": {},
     "output_type": "execute_result"
    }
   ],
   "source": [
    "bisseccao_laco_for(f, 0, 3, 41)"
   ]
  },
  {
   "cell_type": "code",
   "execution_count": 13,
   "id": "0176d081",
   "metadata": {
    "slideshow": {
     "slide_type": "fragment"
    }
   },
   "outputs": [
    {
     "data": {
      "text/plain": [
       "0.0020823104346265886"
      ]
     },
     "execution_count": 13,
     "metadata": {},
     "output_type": "execute_result"
    }
   ],
   "source": [
    "falsaposicao_laco_for(f, 0, 3, 41)"
   ]
  },
  {
   "cell_type": "code",
   "execution_count": 14,
   "id": "2dbeda66",
   "metadata": {
    "slideshow": {
     "slide_type": "fragment"
    }
   },
   "outputs": [
    {
     "data": {
      "text/plain": [
       "3.4867844009999984e+16"
      ]
     },
     "execution_count": 14,
     "metadata": {},
     "output_type": "execute_result"
    }
   ],
   "source": [
    "newtonraphson_laco_for(f, df, 0.01, 11)"
   ]
  },
  {
   "cell_type": "code",
   "execution_count": 15,
   "id": "1fee52ba",
   "metadata": {
    "slideshow": {
     "slide_type": "fragment"
    }
   },
   "outputs": [
    {
     "data": {
      "text/plain": [
       "348678506.0848352"
      ]
     },
     "execution_count": 15,
     "metadata": {},
     "output_type": "execute_result"
    }
   ],
   "source": [
    "secante_laco_for(f, 0, 0.1, 11)"
   ]
  },
  {
   "cell_type": "code",
   "execution_count": 16,
   "id": "eb9cd3bf",
   "metadata": {
    "slideshow": {
     "slide_type": "fragment"
    }
   },
   "outputs": [
    {
     "data": {
      "text/plain": [
       "1"
      ]
     },
     "execution_count": 16,
     "metadata": {},
     "output_type": "execute_result"
    }
   ],
   "source": [
    "pontofixo_laco_for(g, 0, 10)"
   ]
  },
  {
   "cell_type": "markdown",
   "id": "6b3d8343",
   "metadata": {
    "slideshow": {
     "slide_type": "slide"
    }
   },
   "source": [
    "# Exercícios"
   ]
  },
  {
   "cell_type": "markdown",
   "id": "4d7b2fe3",
   "metadata": {
    "slideshow": {
     "slide_type": "slide"
    }
   },
   "source": [
    "## Exercício 1"
   ]
  },
  {
   "cell_type": "markdown",
   "id": "fa35eb35",
   "metadata": {
    "slideshow": {
     "slide_type": "subslide"
    }
   },
   "source": [
    "Determine as raízes de $f(x) = -12 -21x +18x^2 -2,75x^3$."
   ]
  },
  {
   "cell_type": "code",
   "execution_count": 23,
   "id": "05d1d039",
   "metadata": {
    "slideshow": {
     "slide_type": "-"
    }
   },
   "outputs": [
    {
     "data": {
      "text/plain": [
       "array([ 4.74032566,  2.2198183 , -0.41468941])"
      ]
     },
     "execution_count": 23,
     "metadata": {},
     "output_type": "execute_result"
    }
   ],
   "source": [
    "import numpy as np\n",
    "pol = [-2.75, 18, -21, -12]\n",
    "np.roots(pol)"
   ]
  },
  {
   "cell_type": "markdown",
   "id": "94e7dbf5",
   "metadata": {
    "slideshow": {
     "slide_type": "slide"
    }
   },
   "source": [
    "\n",
    "## Exercício 2"
   ]
  },
  {
   "cell_type": "markdown",
   "id": "7b7225e8",
   "metadata": {
    "slideshow": {
     "slide_type": "subslide"
    }
   },
   "source": [
    "Determine a raiz não trivial de $\\sin(x) = x^2$ localizada no intervalo de 0,5 a 1."
   ]
  },
  {
   "cell_type": "code",
   "execution_count": 29,
   "id": "3f58598c",
   "metadata": {
    "slideshow": {
     "slide_type": "-"
    }
   },
   "outputs": [
    {
     "name": "stdout",
     "output_type": "stream",
     "text": [
      "0.8767262153950626\n"
     ]
    }
   ],
   "source": [
    "import scipy.optimize as opt\n",
    "def f(x):\n",
    "    r = np.sin(x) - x**2\n",
    "    return r\n",
    "\n",
    "sol = opt.root_scalar(f, bracket=[0.5,1])\n",
    "print(sol.root)"
   ]
  },
  {
   "cell_type": "markdown",
   "id": "29947a27",
   "metadata": {
    "slideshow": {
     "slide_type": "slide"
    }
   },
   "source": [
    "## Exercício 3"
   ]
  },
  {
   "cell_type": "markdown",
   "id": "7a5e98a9",
   "metadata": {
    "slideshow": {
     "slide_type": "subslide"
    }
   },
   "source": [
    "[5.15 CHAPRA] Muitos campos da engenharia necessitam de estimativas acuradas da população. \n",
    "Por exemplo pode ser necessário determinar separadamente a tendência de crescimento da população de uma cidade e do subúrbio adjacente.\n",
    "A população da área urbana está diminuindo com o tempo de acordo com\n",
    "\n",
    "$\n",
    "P_u(t) = P_{u,max}e^{-k_ut}+ P_{u,min}\n",
    "$\n",
    "\n",
    "enquanto a população suburbana está crescendo de acordo com\n",
    "\n",
    "$\n",
    "P_s(t) = \\dfrac{P_{s,max}}{1 + (P_{s,max}/P_0-1)e^{-k_st}}\n",
    "$\n",
    "\n",
    "onde $P_{u,max}$, $P_{s,max}$, $P_0$ e $k_s$ são parâmetros determinados empiricamente.\n",
    "Determine o tempo e os valores correspondentes de $P_u(t)$ e $P_s(t)$ quando os subúrbios forem 20\\% maiores que a cidade.\n",
    "Os valores dos parâmetros são $P_{u,max} = 80.000$ pessoas, $k_u = 0,05/ano$, $P_{u,min} = 110.000$ pessoas, $P_{s,max} = 320.000$ pessoas, $P_{0} = 10.000$ pessoas e $k_s = 0,09/ano$."
   ]
  },
  {
   "cell_type": "code",
   "execution_count": 41,
   "id": "dccb973b",
   "metadata": {
    "slideshow": {
     "slide_type": "-"
    }
   },
   "outputs": [
    {
     "data": {
      "text/plain": [
       "      converged: True\n",
       "           flag: 'converged'\n",
       " function_calls: 7\n",
       "     iterations: 6\n",
       "           root: 36.42107937206685"
      ]
     },
     "execution_count": 41,
     "metadata": {},
     "output_type": "execute_result"
    }
   ],
   "source": [
    "import matplotlib.pyplot as plt\n",
    "def f(t):\n",
    "    Pumax = 80000\n",
    "    ku = 0.05\n",
    "    Pumin = 110000\n",
    "    Psmax = 320000\n",
    "    ks = 0.09\n",
    "    P0 = 10000\n",
    "    Pu = Pumax*np.exp(-ku*t) + Pumin\n",
    "    Ps = Psmax/(1 + (Psmax/P0-1)*np.exp(-ks*t))\n",
    "    return 1.2*Pu - Ps\n",
    "\n",
    "opt.root_scalar(f, x0=1, x1=1.5, method='secant')\n",
    "#X = np.linspace(1, 100, 200)\n",
    "#Y = f(X)\n",
    "#plt.figure()\n",
    "#plt.plot(X,Y)"
   ]
  },
  {
   "cell_type": "markdown",
   "id": "6bec7ad9",
   "metadata": {
    "slideshow": {
     "slide_type": "slide"
    }
   },
   "source": [
    "## Exercício 4\n",
    "\n",
    "[6.14 CHAPRA] Em um processo de engenharia química, o vapor de água ($H_2O$) é aquecido a uma temperatura suficientemente alta para que uma parte significativa da água se dissocie, ou se quebre, para formar oxigênio ($O_2$) e hidrogênio ($H_2$):\n",
    "\n",
    "$\n",
    "H_2O \\rightleftharpoons H_2 + \\dfrac{1}{2}O_2\n",
    "$\n",
    "\n",
    "Se for assumido que essa é a única reação envolvida, a fração molar $x$ de $H_2O$ que se dissocia pode ser representada por\n",
    "\n",
    "$\n",
    "K = \\dfrac{x}{1-x}\\sqrt{\\dfrac{2p_t}{2+x}}\n",
    "$\n",
    "\n",
    "onde $K$ é a constante de equilíbrio da reação e $p_t$ é a pressão total da mistura.\n",
    "Se $p_t = 3atm$ e $K = 0,05$, determine o valor de $x$ que satisfaz a equação."
   ]
  },
  {
   "cell_type": "code",
   "execution_count": 42,
   "id": "0a9ab653",
   "metadata": {
    "slideshow": {
     "slide_type": "-"
    }
   },
   "outputs": [
    {
     "data": {
      "text/plain": [
       "      converged: True\n",
       "           flag: 'converged'\n",
       " function_calls: 7\n",
       "     iterations: 6\n",
       "           root: 0.02824944114847114"
      ]
     },
     "execution_count": 42,
     "metadata": {},
     "output_type": "execute_result"
    }
   ],
   "source": [
    "def f(x):\n",
    "    pt = 3\n",
    "    K = 0.05\n",
    "    return (x/(1-x))*np.sqrt(2*pt/(2+x)) - K\n",
    "\n",
    "opt.root_scalar(f, x0=0.1, x1=0.2, method='secant')"
   ]
  },
  {
   "cell_type": "markdown",
   "id": "c276319a",
   "metadata": {
    "slideshow": {
     "slide_type": "slide"
    }
   },
   "source": [
    "## Exercício 5\n",
    "\n",
    "[6.7 CHAPRA adaptado] \n",
    "A determinação do escoamento (fluxo) de fluidos através de canais e tubulações tem grande relevância em muitas áreas da engenharia e da ciência.\n",
    "Entre as aplicações típicas estão o fluxo de líquido e gases através de dutos e sistemas de refrigeração, fluxo nos vaso sanguíneos até o sistema vascular de uma planta.\n",
    "\n",
    "A resistência ao fluxo em tais canais é parametrizada por um número adimensional chamado *fator de atrito (f)* e, para um fluxo turbulento, a equação de Colebrook fornece um meio de calcular o fator de atrito:\n",
    "\n",
    "\\begin{equation} \\label{eq:colebrook}\n",
    "0 = \\dfrac{1}{\\sqrt{f}} + 2,0\\log\\left( \\dfrac{\\epsilon}{3,7D} + \\dfrac{2,51}{Re\\sqrt{f}} \\right)\n",
    "\\end{equation}\n",
    "\n",
    "onde $\\epsilon$ é a rugosidade, $D$ o diâmetro e $Re$ o número de Reynolds é dado por:\n",
    "\n",
    "$\n",
    "Re = \\dfrac{\\rho VD}{\\mu}\n",
    "$\n",
    "\n",
    "Determine a resistência ao fluxo para uma densidade de fluxo $\\rho = 1,23kg/m^3$, velocidade $V = 40m/s$, diâmetro $D = 0,005m$, viscosidade dinâmica $\\mu = 1,79\\times 10^{-5}N\\cdot s/m^2$ e rugosidade $\\epsilon = 0,0000015m$.\n",
    "\n",
    "Observe que o fator de atrivo varia entre 0,008 a 0,08"
   ]
  },
  {
   "cell_type": "code",
   "execution_count": 58,
   "id": "e1f70c63",
   "metadata": {
    "slideshow": {
     "slide_type": "-"
    }
   },
   "outputs": [
    {
     "data": {
      "text/plain": [
       "[<matplotlib.lines.Line2D at 0x2a1ba1ec3d0>]"
      ]
     },
     "execution_count": 58,
     "metadata": {},
     "output_type": "execute_result"
    },
    {
     "data": {
      "application/vnd.jupyter.widget-view+json": {
       "model_id": "e86a2e91aaf94eb6b133b2ad080639df",
       "version_major": 2,
       "version_minor": 0
      },
      "image/png": "[encoded data removed]",
      "text/html": [
       "\n",
       "            <div style=\"display: inline-block;\">\n",
       "                <div class=\"jupyter-widgets widget-label\" style=\"text-align: center;\">\n",
       "                    Figure\n",
       "                </div>\n",
       "                <img src='data:image/png;base64,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' width=640.0/>\n",
       "            </div>\n",
       "        "
      ],
      "text/plain": [
       "Canvas(toolbar=Toolbar(toolitems=[('Home', 'Reset original view', 'home', 'home'), ('Back', 'Back to previous …"
      ]
     },
     "metadata": {},
     "output_type": "display_data"
    }
   ],
   "source": [
    "def funcao(f):\n",
    "    D = 0.005\n",
    "    ep = 0.0000015\n",
    "    V = 40\n",
    "    rho = 1.23\n",
    "    mu = 1.79*10**(-5)\n",
    "    Re = rho*V*D/mu\n",
    "    r = 1/np.sqrt(f) + 2*np.log10(ep/(3.7*D) + 2.51/(Re*np.sqrt(f)))\n",
    "    return r\n",
    "\n",
    "#r = funcao(0.008)\n",
    "#print(r)\n",
    "X = np.linspace(0.008, 0.08, 200)\n",
    "Y = funcao(X)\n",
    "plt.figure()\n",
    "plt.plot(X,Y)\n",
    "\n",
    "#opt.root_scalar(funcao, bracket=[0.008, 0.08])"
   ]
  }
 ],
 "metadata": {
  "celltoolbar": "Slideshow",
  "kernelspec": {
   "display_name": "Python 3 (ipykernel)",
   "language": "python",
   "name": "python3"
  },
  "language_info": {
   "codemirror_mode": {
    "name": "ipython",
    "version": 3
   },
   "file_extension": ".py",
   "mimetype": "text/x-python",
   "name": "python",
   "nbconvert_exporter": "python",
   "pygments_lexer": "ipython3",
   "version": "3.10.4"
  },
  "latex_envs": {
   "LaTeX_envs_menu_present": true,
   "autoclose": true,
   "autocomplete": false,
   "bibliofile": "biblio.bib",
   "cite_by": "apalike",
   "current_citInitial": 1,
   "eqLabelWithNumbers": true,
   "eqNumInitial": 1,
   "hotkeys": {
    "equation": "Ctrl-E",
    "itemize": "Ctrl-I"
   },
   "labels_anchors": false,
   "latex_user_defs": false,
   "report_style_numbering": false,
   "user_envs_cfg": false
  }
 },
 "nbformat": 4,
 "nbformat_minor": 5
}
