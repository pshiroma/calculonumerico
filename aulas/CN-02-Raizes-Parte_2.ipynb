{
 "cells": [
  {
   "cell_type": "markdown",
   "id": "492ceb1b",
   "metadata": {},
   "source": [
    "# Raízes de um polinômio"
   ]
  },
  {
   "cell_type": "markdown",
   "id": "7d6d3e67",
   "metadata": {},
   "source": [
    "Um caso especial ocorre quando queremos achar as raízes de um polinômio.\n",
    "\n",
    "A solução para este caso pode ser obtido convertendo o polinômio em uma matriz especial, chamada matriz companheira, e determinando os *autovalores* desta matriz.\n",
    "\n",
    "No python, a função que implementa este método é chamada `roots`, presente na biblioteca `numpy`."
   ]
  },
  {
   "cell_type": "markdown",
   "id": "7e08edc8",
   "metadata": {},
   "source": [
    "Suponha que você tenha o seguinte polinômio:\n",
    "\n",
    "$\n",
    "p(x) = x^3 - 2x^2 - 5x + 6\n",
    "$\n",
    "\n",
    "Para calcular as raízes do polinômio, executamos o comando `roots`:"
   ]
  },
  {
   "cell_type": "code",
   "execution_count": 38,
   "id": "dcdeff77",
   "metadata": {},
   "outputs": [
    {
     "data": {
      "text/plain": [
       "array([-2.,  3.,  1.])"
      ]
     },
     "execution_count": 38,
     "metadata": {},
     "output_type": "execute_result"
    }
   ],
   "source": [
    "import numpy as np\n",
    "polinomio = [1, -2, -5, 6]\n",
    "np.roots(polinomio)"
   ]
  },
  {
   "cell_type": "markdown",
   "id": "d328ec1e",
   "metadata": {},
   "source": [
    "Para calcular o valor do polinômio em um ponto qualquer, utilizamos o comando `polyval`:"
   ]
  },
  {
   "cell_type": "code",
   "execution_count": 40,
   "id": "85ef0681",
   "metadata": {},
   "outputs": [
    {
     "data": {
      "text/plain": [
       "-4"
      ]
     },
     "execution_count": 40,
     "metadata": {},
     "output_type": "execute_result"
    }
   ],
   "source": [
    "np.polyval(polinomio, 2)"
   ]
  },
  {
   "cell_type": "markdown",
   "id": "4754c8c4",
   "metadata": {},
   "source": [
    "# Revisão"
   ]
  },
  {
   "cell_type": "code",
   "execution_count": 151,
   "id": "8ee7ba4f",
   "metadata": {},
   "outputs": [],
   "source": [
    "def bisseccao_laco_for(f, xl, xu, n):\n",
    "    '''\n",
    "    Executa o algoritmo de bisseccao n vezes.\n",
    "    @f: funcao que desejamos achar o zero\n",
    "    @xl: limite inferior\n",
    "    @xu: limite superior\n",
    "    @n: número de vezes que a bissecção será executada\n",
    "    '''\n",
    "    #print('xl     xu     xr')\n",
    "    for i in range(n):\n",
    "        xr = (xl + xu)/2\n",
    "\n",
    "        #print(f'{xl:6.2f} {xu:6.2f} {xr:6.2f}')\n",
    "        if (f(xl)*f(xr) < 0):\n",
    "            xu = xr\n",
    "        else:\n",
    "            xl = xr\n",
    "    return xr"
   ]
  },
  {
   "cell_type": "code",
   "execution_count": 160,
   "id": "661fb1b0",
   "metadata": {},
   "outputs": [],
   "source": [
    "def falsaposicao_laco_for(f, xl, xu, n):\n",
    "    #print('xl     xu     xr')\n",
    "    for i in range(n):\n",
    "        xr = xu - f(xu)*(xl-xu)/(f(xl) - f(xu))\n",
    "       \n",
    "        #print(f'{xl:6.2f} {xu:6.2f} {xr:6.2f}')\n",
    "        if (f(xl)*f(xr) < 0):\n",
    "            xu = xr\n",
    "        else:\n",
    "            xl = xr\n",
    "    return xr"
   ]
  },
  {
   "cell_type": "code",
   "execution_count": 163,
   "id": "e6bb305c",
   "metadata": {},
   "outputs": [],
   "source": [
    "def pontofixo_laco_for(g, x0, n):\n",
    "    xi = x0\n",
    "    for i in range(n):\n",
    "        xi = g(xi)\n",
    "    return xi"
   ]
  },
  {
   "cell_type": "code",
   "execution_count": 152,
   "id": "2f0c3e5c",
   "metadata": {},
   "outputs": [],
   "source": [
    "def newtonraphson_laco_for(f, df, x0, n):\n",
    "    xvelho = x0\n",
    "    for i in range(n):\n",
    "        xnovo = xvelho - f(xvelho)/df(xvelho)\n",
    "        erro_aproximado = abs((xnovo - xvelho)/xnovo)\n",
    "        #print(f'{i} {xnovo:.6f} {erro_aproximado:.6%}')\n",
    "        xvelho = xnovo  \n",
    "    return xnovo"
   ]
  },
  {
   "cell_type": "code",
   "execution_count": 153,
   "id": "9e1a37d4",
   "metadata": {},
   "outputs": [],
   "source": [
    "def secante_laco_for(f, x0, delta, n):\n",
    "    xvelho = x0\n",
    "    for i in range(n):\n",
    "        xnovo = xvelho - delta*f(xvelho)/(f(xvelho+delta) - f(xvelho))\n",
    "        erro_aproximado = abs((xnovo - xvelho)/xnovo)\n",
    "        #print(f'{i} {xnovo:.6f} {erro_aproximado:.6%}')\n",
    "        xvelho = xnovo\n",
    "    return xnovo"
   ]
  },
  {
   "cell_type": "markdown",
   "id": "2bab068c",
   "metadata": {},
   "source": [
    "# Scipy"
   ]
  },
  {
   "cell_type": "code",
   "execution_count": 96,
   "id": "309b82db",
   "metadata": {},
   "outputs": [],
   "source": [
    "from scipy import optimize"
   ]
  },
  {
   "cell_type": "code",
   "execution_count": 176,
   "id": "c46c22ae",
   "metadata": {},
   "outputs": [],
   "source": [
    "def f(x):\n",
    "    return x**10 - 1\n",
    "\n",
    "# usando no algoritmo de newton-rapshon\n",
    "def df(x):\n",
    "    return 10*x**9\n",
    "\n",
    "# usado no algoritmo do ponto fixo\n",
    "def g(x):\n",
    "    return 1"
   ]
  },
  {
   "cell_type": "code",
   "execution_count": 251,
   "id": "bee4688c",
   "metadata": {},
   "outputs": [],
   "source": [
    "def f(x):\n",
    "    return np.exp(-x) - x\n",
    "\n",
    "# usando no algoritmo de newton-rapshon\n",
    "def df(x):\n",
    "    return -x*np.exp(-x) - 1\n",
    "\n",
    "def g(x):\n",
    "    return np.exp(-x)"
   ]
  },
  {
   "cell_type": "code",
   "execution_count": 252,
   "id": "013dd07e",
   "metadata": {
    "scrolled": true
   },
   "outputs": [
    {
     "data": {
      "text/plain": [
       "<mplcursors._mplcursors.Cursor at 0x272c5601a80>"
      ]
     },
     "execution_count": 252,
     "metadata": {},
     "output_type": "execute_result"
    },
    {
     "data": {
      "application/vnd.jupyter.widget-view+json": {
       "model_id": "2a5e38bf3d944f11b9748baedc3b0870",
       "version_major": 2,
       "version_minor": 0
      },
      "image/png": "[encoded data removed]",
      "text/html": [
       "\n",
       "            <div style=\"display: inline-block;\">\n",
       "                <div class=\"jupyter-widgets widget-label\" style=\"text-align: center;\">\n",
       "                    Figure\n",
       "                </div>\n",
       "                <img src='data:image/png;base64,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' width=640.0/>\n",
       "            </div>\n",
       "        "
      ],
      "text/plain": [
       "Canvas(toolbar=Toolbar(toolitems=[('Home', 'Reset original view', 'home', 'home'), ('Back', 'Back to previous …"
      ]
     },
     "metadata": {},
     "output_type": "display_data"
    }
   ],
   "source": [
    "import matplotlib.pyplot as plt\n",
    "import mplcursors\n",
    "%matplotlib widget\n",
    "X = np.linspace(0,1.2,100)\n",
    "Y = f(X)\n",
    "plt.plot(X,Y)\n",
    "mplcursors.cursor(hover=True)"
   ]
  },
  {
   "cell_type": "code",
   "execution_count": 177,
   "id": "83113485",
   "metadata": {},
   "outputs": [
    {
     "name": "stdout",
     "output_type": "stream",
     "text": [
      "Bissecção:\n",
      " (1.0000000000004547,       converged: True\n",
      "           flag: 'converged'\n",
      " function_calls: 43\n",
      "     iterations: 41\n",
      "           root: 1.0000000000004547)\n",
      "Brent:\n",
      " (1.0000000000000038,       converged: True\n",
      "           flag: 'converged'\n",
      " function_calls: 14\n",
      "     iterations: 13\n",
      "           root: 1.0000000000000038)\n",
      "Newton-Raphson:\n",
      " (1.0000000000000009,       converged: True\n",
      "           flag: 'converged'\n",
      " function_calls: 22\n",
      "     iterations: 11\n",
      "           root: 1.0000000000000009)\n",
      "Secante:\n",
      "       converged: True\n",
      "           flag: 'converged'\n",
      " function_calls: 4\n",
      "     iterations: 3\n",
      "           root: 7.620746494213767e-05\n",
      "Padrão:\n",
      "     fjac: array([[1.]])\n",
      "     fun: array([-1.])\n",
      " message: 'The iteration is not making good progress, as measured by the \\n  improvement from the last ten iterations.'\n",
      "    nfev: 13\n",
      "     qtf: array([-1.])\n",
      "       r: array([-94.04460493])\n",
      "  status: 5\n",
      " success: False\n",
      "       x: array([0.])\n"
     ]
    }
   ],
   "source": [
    "sol = optimize.bisect(f, 0,3, full_output=True)\n",
    "print('Bissecção:\\n', sol)\n",
    "sol = optimize.brentq(f, 0,3, full_output=True)\n",
    "print('Brent:\\n', sol)\n",
    "sol = optimize.newton(f, fprime=df, x0=2, full_output=True)\n",
    "print('Newton-Raphson:\\n', sol)\n",
    "sol = optimize.root_scalar(f, x0=0, x1=3,method='secant')\n",
    "print('Secante:\\n', sol)\n",
    "sol = optimize.root(f, x0=0)\n",
    "print('Padrão:\\n', sol)"
   ]
  },
  {
   "cell_type": "code",
   "execution_count": 178,
   "id": "1b2c0208",
   "metadata": {},
   "outputs": [
    {
     "data": {
      "text/plain": [
       "1.0000000000004547"
      ]
     },
     "execution_count": 178,
     "metadata": {},
     "output_type": "execute_result"
    }
   ],
   "source": [
    "bisseccao_laco_for(f, 0, 3, 41)"
   ]
  },
  {
   "cell_type": "code",
   "execution_count": 179,
   "id": "353bafc0",
   "metadata": {},
   "outputs": [
    {
     "data": {
      "text/plain": [
       "0.0020823104346265886"
      ]
     },
     "execution_count": 179,
     "metadata": {},
     "output_type": "execute_result"
    }
   ],
   "source": [
    "falsaposicao_laco_for(f, 0, 3, 41)"
   ]
  },
  {
   "cell_type": "code",
   "execution_count": 180,
   "id": "3b11fe13",
   "metadata": {},
   "outputs": [
    {
     "ename": "ZeroDivisionError",
     "evalue": "division by zero",
     "output_type": "error",
     "traceback": [
      "\u001b[1;31m---------------------------------------------------------------------------\u001b[0m",
      "\u001b[1;31mZeroDivisionError\u001b[0m                         Traceback (most recent call last)",
      "Input \u001b[1;32mIn [180]\u001b[0m, in \u001b[0;36m<cell line: 1>\u001b[1;34m()\u001b[0m\n\u001b[1;32m----> 1\u001b[0m \u001b[43mnewtonraphson_laco_for\u001b[49m\u001b[43m(\u001b[49m\u001b[43mf\u001b[49m\u001b[43m,\u001b[49m\u001b[43m \u001b[49m\u001b[43mdf\u001b[49m\u001b[43m,\u001b[49m\u001b[43m \u001b[49m\u001b[38;5;241;43m0\u001b[39;49m\u001b[43m,\u001b[49m\u001b[43m \u001b[49m\u001b[38;5;241;43m11\u001b[39;49m\u001b[43m)\u001b[49m\n",
      "Input \u001b[1;32mIn [152]\u001b[0m, in \u001b[0;36mnewtonraphson_laco_for\u001b[1;34m(f, df, x0, n)\u001b[0m\n\u001b[0;32m      2\u001b[0m xvelho \u001b[38;5;241m=\u001b[39m x0\n\u001b[0;32m      3\u001b[0m \u001b[38;5;28;01mfor\u001b[39;00m i \u001b[38;5;129;01min\u001b[39;00m \u001b[38;5;28mrange\u001b[39m(n):\n\u001b[1;32m----> 4\u001b[0m     xnovo \u001b[38;5;241m=\u001b[39m xvelho \u001b[38;5;241m-\u001b[39m \u001b[43mf\u001b[49m\u001b[43m(\u001b[49m\u001b[43mxvelho\u001b[49m\u001b[43m)\u001b[49m\u001b[38;5;241;43m/\u001b[39;49m\u001b[43mdf\u001b[49m\u001b[43m(\u001b[49m\u001b[43mxvelho\u001b[49m\u001b[43m)\u001b[49m\n\u001b[0;32m      5\u001b[0m     erro_aproximado \u001b[38;5;241m=\u001b[39m \u001b[38;5;28mabs\u001b[39m((xnovo \u001b[38;5;241m-\u001b[39m xvelho)\u001b[38;5;241m/\u001b[39mxnovo)\n\u001b[0;32m      6\u001b[0m     \u001b[38;5;66;03m#print(f'{i} {xnovo:.6f} {erro_aproximado:.6%}')\u001b[39;00m\n",
      "\u001b[1;31mZeroDivisionError\u001b[0m: division by zero"
     ]
    }
   ],
   "source": [
    "newtonraphson_laco_for(f, df, 0, 11)"
   ]
  },
  {
   "cell_type": "code",
   "execution_count": 181,
   "id": "e96c954f",
   "metadata": {},
   "outputs": [
    {
     "data": {
      "text/plain": [
       "348678506.0848352"
      ]
     },
     "execution_count": 181,
     "metadata": {},
     "output_type": "execute_result"
    }
   ],
   "source": [
    "secante_laco_for(f, 0, 0.1, 11)"
   ]
  },
  {
   "cell_type": "code",
   "execution_count": 182,
   "id": "0faf2051",
   "metadata": {},
   "outputs": [
    {
     "data": {
      "text/plain": [
       "1"
      ]
     },
     "execution_count": 182,
     "metadata": {},
     "output_type": "execute_result"
    }
   ],
   "source": [
    "pontofixo_laco_for(g, 0, 10)"
   ]
  },
  {
   "cell_type": "markdown",
   "id": "5bdc8128",
   "metadata": {},
   "source": [
    "# Exercícios"
   ]
  },
  {
   "cell_type": "markdown",
   "id": "fd40b110",
   "metadata": {},
   "source": [
    "## Exercício 1"
   ]
  },
  {
   "cell_type": "markdown",
   "id": "4247c3be",
   "metadata": {},
   "source": [
    "Determine as raízes de $f(x) = -12 -21x +18x^2 -2,75x^3$."
   ]
  },
  {
   "cell_type": "code",
   "execution_count": null,
   "id": "b282088e",
   "metadata": {},
   "outputs": [],
   "source": []
  },
  {
   "cell_type": "markdown",
   "id": "36190c66",
   "metadata": {},
   "source": [
    "## Exercício 2"
   ]
  },
  {
   "cell_type": "markdown",
   "id": "21cfebf5",
   "metadata": {},
   "source": [
    "Determine a raiz não trivial de $\\sin(x) = x^2$ localizada no intervalo de 0,5 a 1."
   ]
  },
  {
   "cell_type": "code",
   "execution_count": null,
   "id": "a2dfdf23",
   "metadata": {},
   "outputs": [],
   "source": []
  },
  {
   "cell_type": "markdown",
   "id": "1ca925d2",
   "metadata": {},
   "source": [
    "## Exercício 3"
   ]
  },
  {
   "cell_type": "markdown",
   "id": "b1fb0a0d",
   "metadata": {},
   "source": [
    "[5.15 CHAPRA] Muitos campos da engenharia necessitam de estimativas acuradas da população. \n",
    "Por exemplo pode ser necessário determinar separadamente a tendência de crescimento da população de uma cidade e do subúrbio adjacente.\n",
    "A população da área urbana está diminuindo com o tempo de acordo com\n",
    "\n",
    "$\n",
    "P_u(t) = P_{u,max}e^{-k_ut}+ P_{u,min}\n",
    "$\n",
    "\n",
    "enquanto a população suburbana está crescendo de acordo com\n",
    "\n",
    "$\n",
    "P_s(t) = \\dfrac{P_{s,max}}{1 + (P_{s,max}/P_0-1)e^{-k_st}}\n",
    "$\n",
    "\n",
    "onde $P_{u,max}$, $P_{s,max}$, $P_0$ e $k_s$ são parâmetros determinados empiricamente.\n",
    "Determine o tempo e os valores correspondentes de $P_u(t)$ e $P_s(t)$ quando os subúrbios forem 20\\% maiores que a cidade.\n",
    "Os valores dos parâmetros são $P_{u,max} = 80.000$ pessoas, $k_u = 0,05/ano$, $P_{u,min} = 110.000$ pessoas, $P_{s,max} = 320.000$ pessoas, $P_{0} = 10.000$ pessoas e $k_s = 0,09/ano$."
   ]
  },
  {
   "cell_type": "code",
   "execution_count": null,
   "id": "09b2d42c",
   "metadata": {},
   "outputs": [],
   "source": []
  },
  {
   "cell_type": "markdown",
   "id": "204cca6d",
   "metadata": {},
   "source": [
    "## Exercício 4\n",
    "\n",
    "[6.14 CHAPRA] Em um processo de engenharia química, o vapor de água ($H_2O$) é aquecido a uma temperatura suficientemente alta para que uma parte significativa da água se dissocie, ou se quebre, para formar oxigênio ($O_2$) e hidrogênio ($H_2$):\n",
    "\n",
    "$\n",
    "H_2O \\rightleftharpoons H_2 + \\dfrac{1}{2}O_2\n",
    "$\n",
    "\n",
    "Se for assumido que essa é a única reação envolvida, a fração molar $x$ de $H_2O$ que se dissocia pode ser representada por\n",
    "\n",
    "$\n",
    "K = \\dfrac{x}{1-x}\\sqrt{\\dfrac{2p_t}{2+x}}\n",
    "$\n",
    "\n",
    "onde $K$ é a constante de equilíbrio da reação e $p_t$ é a pressão total da mistura.\n",
    "Se $p_t = 3atm$ e $K = 0,05$, determine o valor de $x$ que satisfaz a equação."
   ]
  },
  {
   "cell_type": "code",
   "execution_count": null,
   "id": "9d39b258",
   "metadata": {},
   "outputs": [],
   "source": []
  },
  {
   "cell_type": "markdown",
   "id": "659e3893",
   "metadata": {},
   "source": [
    "## Exercício 5\n",
    "\n",
    "[6.7 CHAPRA adaptado] \n",
    "A determinação do escoamento (fluxo) de fluidos através de canais e tubulações tem grande relevância em muitas áreas da engenharia e da ciência.\n",
    "Entre as aplicações típicas estão o fluxo de líquido e gases através de dutos e sistemas de refrigeração, fluxo nos vaso sanguíneos até o sistema vascular de uma planta.\n",
    "\n",
    "A resistência ao fluxo em tais canais é parametrizada por um número adimensional chamado *fator de atrito (f)* e, para um fluxo turbulento, a equação de Colebrook fornece um meio de calcular o fator de atrito:\n",
    "\n",
    "\\begin{equation} \\label{eq:colebrook}\n",
    "0 = \\dfrac{1}{\\sqrt{f}} + 2,0\\log\\left( \\dfrac{\\epsilon}{3,7D} + \\dfrac{2,51}{Re\\sqrt{f}} \\right)\n",
    "\\end{equation}\n",
    "\n",
    "onde $\\epsilon$ é a rugosidade, $D$ o diâmetro e $Re$ o número de Reynolds é dado por:\n",
    "\n",
    "$\n",
    "Re = \\dfrac{\\rho VD}{\\mu}\n",
    "$\n",
    "\n",
    "Determine a resistência ao fluxo para uma densidade de fluxo $\\rho = 1,23kg/m^3$, velocidade $V = 40m/s$, diâmetro $D = 0,005m$, viscosidade dinâmica $\\mu = 1,79\\times 10^{-5}N\\cdot s/m^2$ e rugosidade $\\epsilon = 0,0000015m$.\n",
    "\n",
    "Observe que o fator de atrivo varia entre 0,008 a 0,08"
   ]
  },
  {
   "cell_type": "code",
   "execution_count": null,
   "id": "afc3d59f",
   "metadata": {},
   "outputs": [],
   "source": [
    "def funcao(f):\n",
    "    rho = 1.23\n",
    "    v = 40\n",
    "    d = 0.005\n",
    "    mu = 1.79*10**-5\n",
    "    epsilon = 0.0000015\n",
    "    y = 1/np.sqrt(f) + 2*np.log(e)"
   ]
  }
 ],
 "metadata": {
  "kernelspec": {
   "display_name": "Python 3 (ipykernel)",
   "language": "python",
   "name": "python3"
  },
  "language_info": {
   "codemirror_mode": {
    "name": "ipython",
    "version": 3
   },
   "file_extension": ".py",
   "mimetype": "text/x-python",
   "name": "python",
   "nbconvert_exporter": "python",
   "pygments_lexer": "ipython3",
   "version": "3.10.4"
  },
  "latex_envs": {
   "LaTeX_envs_menu_present": true,
   "autoclose": true,
   "autocomplete": false,
   "bibliofile": "biblio.bib",
   "cite_by": "apalike",
   "current_citInitial": 1,
   "eqLabelWithNumbers": true,
   "eqNumInitial": 1,
   "hotkeys": {
    "equation": "Ctrl-E",
    "itemize": "Ctrl-I"
   },
   "labels_anchors": false,
   "latex_user_defs": false,
   "report_style_numbering": false,
   "user_envs_cfg": false
  }
 },
 "nbformat": 4,
 "nbformat_minor": 5
}
