{
 "cells": [
  {
   "cell_type": "markdown",
   "id": "d83be12c",
   "metadata": {},
   "source": [
    "[Vídeo]()"
   ]
  },
  {
   "cell_type": "markdown",
   "id": "9ee88249",
   "metadata": {
    "slideshow": {
     "slide_type": "skip"
    }
   },
   "source": [
    "Material de referência:\n",
    "\n",
    "https://docs.python.org/pt-br/3.9/library/index.html"
   ]
  },
  {
   "cell_type": "markdown",
   "id": "9e39e6e7",
   "metadata": {
    "slideshow": {
     "slide_type": "slide"
    }
   },
   "source": [
    "# Conjuntos de dados\n",
    "\n",
    "No python, existem vários tipos de dados que permitem armazenar um conjunto de valores, tais como: \n",
    "\n",
    "* Listas (list)\n",
    "* Sequências (sequence)\n",
    "* Conjuntos (set)\n",
    "* Dicionários (dict)"
   ]
  },
  {
   "cell_type": "markdown",
   "id": "1592b95c",
   "metadata": {
    "slideshow": {
     "slide_type": "subslide"
    }
   },
   "source": [
    "## Listas"
   ]
  },
  {
   "cell_type": "code",
   "execution_count": 4,
   "id": "0b2bc244",
   "metadata": {
    "slideshow": {
     "slide_type": "-"
    }
   },
   "outputs": [
    {
     "name": "stdout",
     "output_type": "stream",
     "text": [
      "A variavel possui 5 elementos\n",
      "O valor do primeiro elemento é : 1\n",
      "O valor do segundo elemento é  : 4\n",
      "O valor do último elemento é   : 25\n",
      "O valor do penúltimo elemento é: 16\n"
     ]
    }
   ],
   "source": [
    "quadrados = [1, 4, 9, 16, 25]\n",
    "\n",
    "lista = ['ab', 'fda', 'asdf a']\n",
    "\n",
    "print('A variavel possui', len(quadrados), 'elementos')\n",
    "print('O valor do primeiro elemento é :', quadrados[0])\n",
    "print('O valor do segundo elemento é  :', quadrados[1])\n",
    "print('O valor do último elemento é   :', quadrados[-1])\n",
    "print('O valor do penúltimo elemento é:', quadrados[-2]) "
   ]
  },
  {
   "cell_type": "code",
   "execution_count": 19,
   "id": "e3fc9537",
   "metadata": {},
   "outputs": [
    {
     "name": "stdout",
     "output_type": "stream",
     "text": [
      "[-10, 2, 3, 4, 5, 6, 7]\n"
     ]
    }
   ],
   "source": [
    "uma_outra_lista = [1,2,3,4,5,6,7]\n",
    "\n",
    "uma_outra_lista[0] = -10\n",
    "print(uma_outra_lista)"
   ]
  },
  {
   "cell_type": "code",
   "execution_count": 3,
   "id": "535798f1",
   "metadata": {
    "slideshow": {
     "slide_type": "fragment"
    }
   },
   "outputs": [
    {
     "name": "stdout",
     "output_type": "stream",
     "text": [
      "[1, 4, 9, 16, 25]\n",
      "[4, 9]\n"
     ]
    }
   ],
   "source": [
    "print(squares)\n",
    "print(squares[1:3])"
   ]
  },
  {
   "cell_type": "code",
   "execution_count": 20,
   "id": "011ead2e",
   "metadata": {
    "slideshow": {
     "slide_type": "fragment"
    }
   },
   "outputs": [
    {
     "name": "stdout",
     "output_type": "stream",
     "text": [
      "[1, 4, 9, 16, 25, 36, 49, 64]\n"
     ]
    }
   ],
   "source": [
    "sq2 = squares + [36, 49, 64] \n",
    "print(sq2)"
   ]
  },
  {
   "cell_type": "code",
   "execution_count": 5,
   "id": "5f785564-768a-401d-9523-df8ee2fe73ea",
   "metadata": {},
   "outputs": [
    {
     "name": "stdout",
     "output_type": "stream",
     "text": [
      "[1, 'sim', True, 2, '3']\n"
     ]
    }
   ],
   "source": [
    "x = 2\n",
    "y = '3'\n",
    "outra_lista = [1, 'sim', True, x, y]\n",
    "print(outra_lista)"
   ]
  },
  {
   "cell_type": "markdown",
   "id": "716e32db",
   "metadata": {
    "slideshow": {
     "slide_type": "subslide"
    }
   },
   "source": [
    "## Dicionários\n",
    "\n",
    "Os dicionários permitem armazenar dados indexados por uma chave, similar a uma tabela:\n",
    "\n",
    "| Nome | \n",
    "| --- | \n",
    "| Joao |\n",
    "| Paulo |\n",
    "| Maria |"
   ]
  },
  {
   "cell_type": "code",
   "execution_count": 11,
   "id": "d6c68cde",
   "metadata": {
    "slideshow": {
     "slide_type": "fragment"
    }
   },
   "outputs": [
    {
     "name": "stdout",
     "output_type": "stream",
     "text": [
      "joao\n"
     ]
    }
   ],
   "source": [
    "p = {'nome': 'joao'}\n",
    "print(p['nome'])"
   ]
  },
  {
   "cell_type": "code",
   "execution_count": null,
   "id": "c34dbcac",
   "metadata": {},
   "outputs": [],
   "source": []
  },
  {
   "cell_type": "markdown",
   "id": "a78fbcc7",
   "metadata": {
    "slideshow": {
     "slide_type": "fragment"
    }
   },
   "source": [
    "Podemos ter mais de uma coluna:\n",
    "\n",
    "| Nome | Idade |\n",
    "| --- | --- |\n",
    "| Joao | 25 |\n",
    "| Paulo | 30 |\n",
    "| Maria | 32 |"
   ]
  },
  {
   "cell_type": "code",
   "execution_count": 6,
   "id": "43b04e08",
   "metadata": {
    "slideshow": {
     "slide_type": "fragment"
    }
   },
   "outputs": [
    {
     "name": "stdout",
     "output_type": "stream",
     "text": [
      "joao\n",
      "25\n",
      "1.7\n"
     ]
    }
   ],
   "source": [
    "pessoa1 = {'nome': 'joao', 'idade': 25, 'altura': 1.7}\n",
    "print(pessoa1['nome'])\n",
    "print(pessoa1['idade'])\n",
    "print(pessoa1['altura'])"
   ]
  },
  {
   "cell_type": "markdown",
   "id": "f1838cd1",
   "metadata": {
    "slideshow": {
     "slide_type": "-"
    }
   },
   "source": [
    "Também é possível ter uma **lista de dicionários**:"
   ]
  },
  {
   "cell_type": "code",
   "execution_count": 6,
   "id": "7d17f84b",
   "metadata": {
    "slideshow": {
     "slide_type": "-"
    }
   },
   "outputs": [],
   "source": [
    "pessoa2 = {'nome': 'paulo', 'idade':30}\n",
    "pessoa3 = {'nome': 'maria', 'idade':32}"
   ]
  },
  {
   "cell_type": "code",
   "execution_count": 8,
   "id": "eb48cbbc",
   "metadata": {
    "slideshow": {
     "slide_type": "-"
    }
   },
   "outputs": [
    {
     "name": "stdout",
     "output_type": "stream",
     "text": [
      "joao\n"
     ]
    }
   ],
   "source": [
    "lista_de_pessoas = [pessoa1, pessoa2, pessoa3]\n",
    "print(lista_de_pessoas[0]['nome'])"
   ]
  },
  {
   "cell_type": "markdown",
   "id": "e1663742",
   "metadata": {
    "slideshow": {
     "slide_type": "fragment"
    }
   },
   "source": [
    "É possível ter um **dicionário de listas**:\n",
    "\n",
    "| x | y | \n",
    "| --- | --- |\n",
    "| 0 | 1 |\n",
    "| 1 | 2.3 |\n",
    "| 2 | 3.2 |\n",
    "| 3 | 4.5 |"
   ]
  },
  {
   "cell_type": "code",
   "execution_count": 13,
   "id": "f8b88e7e",
   "metadata": {},
   "outputs": [
    {
     "name": "stdout",
     "output_type": "stream",
     "text": [
      "[0, 1, 2, 3]\n"
     ]
    }
   ],
   "source": [
    "x = [0, 1, 2, 3]\n",
    "y = [1, 2.3, 3.2, 4.5]\n",
    "dados = {'X': x, 'Y': y}\n",
    "\n",
    "print(dados['X'])"
   ]
  },
  {
   "cell_type": "markdown",
   "id": "5571a684",
   "metadata": {
    "slideshow": {
     "slide_type": "slide"
    }
   },
   "source": [
    "# Sequence e sets\n",
    "\n",
    "Apesar de serem úteis, os tipos de dados ```sequence``` e ```set``` não serão abordados neste curso."
   ]
  },
  {
   "cell_type": "markdown",
   "id": "cbc6780e-6167-4f94-ba1c-0953b9410c2d",
   "metadata": {},
   "source": [
    "# Exercício de fixação 1"
   ]
  },
  {
   "cell_type": "markdown",
   "id": "b7b8b576-239e-4319-a9d1-435d908cad5d",
   "metadata": {},
   "source": [
    "Crie um código que leia um número e imprima o seu quadrado.\n",
    "Observe que o comando `input` sempre salva o valor lido em uma variável do tipo `str`. "
   ]
  },
  {
   "cell_type": "code",
   "execution_count": 9,
   "id": "1460ad02-4f50-4ee5-8b33-f805a746aa35",
   "metadata": {},
   "outputs": [
    {
     "name": "stdin",
     "output_type": "stream",
     "text": [
      "Entre com um número: q\n"
     ]
    },
    {
     "ename": "ValueError",
     "evalue": "could not convert string to float: 'q'",
     "output_type": "error",
     "traceback": [
      "\u001b[1;31m---------------------------------------------------------------------------\u001b[0m",
      "\u001b[1;31mValueError\u001b[0m                                Traceback (most recent call last)",
      "Input \u001b[1;32mIn [9]\u001b[0m, in \u001b[0;36m<cell line: 1>\u001b[1;34m()\u001b[0m\n\u001b[1;32m----> 1\u001b[0m numero \u001b[38;5;241m=\u001b[39m \u001b[38;5;28;43mfloat\u001b[39;49m\u001b[43m(\u001b[49m\u001b[38;5;28;43minput\u001b[39;49m\u001b[43m(\u001b[49m\u001b[38;5;124;43m'\u001b[39;49m\u001b[38;5;124;43mEntre com um número:\u001b[39;49m\u001b[38;5;124;43m'\u001b[39;49m\u001b[43m)\u001b[49m\u001b[43m)\u001b[49m\n\u001b[0;32m      2\u001b[0m quadrado \u001b[38;5;241m=\u001b[39m numero\u001b[38;5;241m*\u001b[39m\u001b[38;5;241m*\u001b[39m\u001b[38;5;241m2\u001b[39m\n\u001b[0;32m      3\u001b[0m \u001b[38;5;28mprint\u001b[39m(quadrado)\n",
      "\u001b[1;31mValueError\u001b[0m: could not convert string to float: 'q'"
     ]
    }
   ],
   "source": [
    "numero = float(input('Entre com um número:'))\n",
    "quadrado = numero**2\n",
    "print(quadrado)"
   ]
  },
  {
   "cell_type": "code",
   "execution_count": null,
   "id": "f79f69bf-9836-4f4e-be04-f9606823125a",
   "metadata": {},
   "outputs": [],
   "source": []
  },
  {
   "cell_type": "markdown",
   "id": "f6665984-5aeb-4fb2-bb6b-d53bf6f067a4",
   "metadata": {},
   "source": [
    "# Exercício de fixação 2"
   ]
  },
  {
   "cell_type": "markdown",
   "id": "69842ea4-16ac-4c4a-9c08-55cf4d6e8ab8",
   "metadata": {},
   "source": [
    "Crie uma lista contendo os seguintes valores:\n",
    "\n",
    "* 1\n",
    "* 2\n",
    "* 3\n",
    "* 4\n",
    "* 5\n",
    "* \"um texto\"\n",
    "* \"outro texto\"\n",
    "\n",
    "Peça para o usuário entrar com uma posição na lista.\n",
    "Em seguida, peça para ele entrar com  um novo valor.\n",
    "Altere a lista na posição indicada.\n",
    "Imprima a lista.\n",
    "Observe que o primeiro índice de uma lista é o índice 0."
   ]
  },
  {
   "cell_type": "code",
   "execution_count": 15,
   "id": "be983028-f0f8-4cc8-8a53-20473ac2fcf1",
   "metadata": {},
   "outputs": [
    {
     "name": "stdout",
     "output_type": "stream",
     "text": [
      "[1, 2, 3, 4, 5, 'um texto', 'outro texto']\n"
     ]
    },
    {
     "name": "stdin",
     "output_type": "stream",
     "text": [
      "Entre com uma posicao: 3\n",
      "Entre com o valor ad\n"
     ]
    },
    {
     "name": "stdout",
     "output_type": "stream",
     "text": [
      "3 ad\n",
      "[1, 2, 'ad', 4, 5, 'um texto', 'outro texto']\n"
     ]
    }
   ],
   "source": [
    "lista = [1, 2, 3, 4, 5, 'um texto', 'outro texto']\n",
    "print(lista)\n",
    "posicao = int(input('Entre com uma posicao:'))\n",
    "novo_valor = input('Entre com o valor')\n",
    "print(posicao,novo_valor)\n",
    "lista[posicao - 1] = novo_valor\n",
    "print(lista)"
   ]
  }
 ],
 "metadata": {
  "celltoolbar": "Slideshow",
  "kernelspec": {
   "display_name": "Python 3 (ipykernel)",
   "language": "python",
   "name": "python3"
  },
  "language_info": {
   "codemirror_mode": {
    "name": "ipython",
    "version": 3
   },
   "file_extension": ".py",
   "mimetype": "text/x-python",
   "name": "python",
   "nbconvert_exporter": "python",
   "pygments_lexer": "ipython3",
   "version": "3.9.12"
  },
  "latex_envs": {
   "LaTeX_envs_menu_present": true,
   "autoclose": true,
   "autocomplete": true,
   "bibliofile": "biblio.bib",
   "cite_by": "apalike",
   "current_citInitial": 1,
   "eqLabelWithNumbers": true,
   "eqNumInitial": 1,
   "hotkeys": {
    "equation": "Ctrl-E",
    "itemize": "Ctrl-I"
   },
   "labels_anchors": false,
   "latex_user_defs": false,
   "report_style_numbering": false,
   "user_envs_cfg": false
  }
 },
 "nbformat": 4,
 "nbformat_minor": 5
}
