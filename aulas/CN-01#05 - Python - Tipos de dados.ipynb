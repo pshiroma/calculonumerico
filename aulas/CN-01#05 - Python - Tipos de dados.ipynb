{
 "cells": [
  {
   "cell_type": "markdown",
   "id": "d83be12c",
   "metadata": {},
   "source": [
    "[Vídeo]()"
   ]
  },
  {
   "cell_type": "markdown",
   "id": "9ee88249",
   "metadata": {
    "slideshow": {
     "slide_type": "skip"
    }
   },
   "source": [
    "Material de referência:\n",
    "\n",
    "https://docs.python.org/pt-br/3.9/library/index.html"
   ]
  },
  {
   "cell_type": "markdown",
   "id": "2539607d-77cc-44aa-9c69-01a6df234f4e",
   "metadata": {},
   "source": [
    "# Conjuntos de dados"
   ]
  },
  {
   "cell_type": "markdown",
   "id": "9e39e6e7",
   "metadata": {
    "jp-MarkdownHeadingCollapsed": true,
    "slideshow": {
     "slide_type": "slide"
    }
   },
   "source": [
    "No python, existem vários tipos de dados que permitem armazenar um conjunto de valores, tais como: \n",
    "\n",
    "* Listas (list)\n",
    "* Sequências (sequence)\n",
    "* Conjuntos (set)\n",
    "* Dicionários (dict)"
   ]
  },
  {
   "cell_type": "markdown",
   "id": "1592b95c",
   "metadata": {
    "slideshow": {
     "slide_type": "subslide"
    }
   },
   "source": [
    "# Listas"
   ]
  },
  {
   "cell_type": "markdown",
   "id": "981eb297-37cd-4399-bf5f-c366b22626ca",
   "metadata": {},
   "source": [
    "As listas no Python tem as seguintes características;\n",
    "\n",
    "* São ordenados (a partir do índice 0)\n",
    "* Permitem elementos duplicados\n",
    "* Tem tamanho dinâmico (inserção e remoção)\n",
    "* Podem conter tipos de dados heterogêneos"
   ]
  },
  {
   "cell_type": "markdown",
   "id": "78abc15e-b34e-4da2-8cdd-0719fd69d522",
   "metadata": {},
   "source": [
    "## Exemplos de listas"
   ]
  },
  {
   "cell_type": "code",
   "execution_count": 2,
   "id": "1f4f105c-8a88-4464-b787-82f1c0f88bd5",
   "metadata": {},
   "outputs": [
    {
     "name": "stdout",
     "output_type": "stream",
     "text": [
      "[1, 4, 9, 16]\n",
      "[1, 'João', True, 3.4, 1]\n"
     ]
    }
   ],
   "source": [
    "quadrados = [1, 4, 9, 16]\n",
    "print(quadrados)\n",
    "\n",
    "lista_heterogenea = [1, 'João', True, 3.4, 1]\n",
    "print(lista_heterogenea)"
   ]
  },
  {
   "cell_type": "markdown",
   "id": "5bf113a5-cc1b-4be9-9181-5499c497fbab",
   "metadata": {},
   "source": [
    "## Operações com listas"
   ]
  },
  {
   "cell_type": "code",
   "execution_count": 4,
   "id": "0b2bc244",
   "metadata": {
    "slideshow": {
     "slide_type": "-"
    }
   },
   "outputs": [
    {
     "name": "stdout",
     "output_type": "stream",
     "text": [
      "A variavel possui 5 elementos\n",
      "O valor do primeiro elemento é : 1\n",
      "O valor do segundo elemento é  : abc\n",
      "O valor do último elemento é   : 5\n",
      "O valor do penúltimo elemento é: True\n"
     ]
    }
   ],
   "source": [
    "lista = [1, 'abc', 3.1, True, 5]\n",
    "\n",
    "print('A variavel possui', len(lista), 'elementos')\n",
    "print('O valor do primeiro elemento é :', lista[0])\n",
    "print('O valor do segundo elemento é  :', lista[1])\n",
    "print('O valor do último elemento é   :', lista[-1])\n",
    "print('O valor do penúltimo elemento é:', lista[-2]) "
   ]
  },
  {
   "cell_type": "markdown",
   "id": "79740331-1f4c-4a2d-8403-ea6ee92d060b",
   "metadata": {},
   "source": [
    "## Modificando um elemento da lista"
   ]
  },
  {
   "cell_type": "code",
   "execution_count": 5,
   "id": "e3fc9537",
   "metadata": {},
   "outputs": [
    {
     "name": "stdout",
     "output_type": "stream",
     "text": [
      "[-10, 2, 3, 4, 5, 6, 7]\n"
     ]
    }
   ],
   "source": [
    "uma_outra_lista = [1,2,3,4,5,6,7]\n",
    "\n",
    "uma_outra_lista[0] = -10\n",
    "print(uma_outra_lista)"
   ]
  },
  {
   "cell_type": "markdown",
   "id": "2252556f-821b-4338-a67a-8948b757de03",
   "metadata": {},
   "source": [
    "## Adicionando elementos na lista"
   ]
  },
  {
   "cell_type": "code",
   "execution_count": 1,
   "id": "1ef1c364-ea04-4b93-9734-976720a4dcf6",
   "metadata": {},
   "outputs": [
    {
     "name": "stdout",
     "output_type": "stream",
     "text": [
      "Lista após inserção de novo elemento: ['a', 'b', 'c', 'd', 'e', 'f', 'g']\n",
      "Lista após inserção de novo elemento no índice 1: ['a', 'aa', 'b', 'c', 'd', 'e', 'f', 'g']\n"
     ]
    }
   ],
   "source": [
    "lista = ['a','b','c','d','e','f']\n",
    "\n",
    "lista.append('g')\n",
    "print(f'Lista após inserção de novo elemento: {lista}')\n",
    "\n",
    "lista.insert(1, 'aa')\n",
    "print(f'Lista após inserção de novo elemento no índice 1: {lista}')"
   ]
  },
  {
   "cell_type": "markdown",
   "id": "e19a7ccc-c14e-4823-b7af-0fa5fac85af1",
   "metadata": {},
   "source": [
    "## Removendo elementos da lista"
   ]
  },
  {
   "cell_type": "code",
   "execution_count": 3,
   "id": "a1177aa0-7366-4c7f-98d9-13519a71675f",
   "metadata": {},
   "outputs": [
    {
     "name": "stdout",
     "output_type": "stream",
     "text": [
      "O item removido foi: d\n",
      "Lista após a remoção do item: ['a', 'b', 'c', 'e', 'f']\n"
     ]
    }
   ],
   "source": [
    "lista = ['a','b','c','d','e','f']\n",
    "item = lista.pop(3)\n",
    "print(f'O item removido foi: {item}')\n",
    "print(f'Lista após a remoção do item: {lista}')"
   ]
  },
  {
   "cell_type": "markdown",
   "id": "21a98972-5d67-4f18-8f40-4ee0ae7eef89",
   "metadata": {},
   "source": [
    "## Selecionando uma sublista"
   ]
  },
  {
   "cell_type": "code",
   "execution_count": 7,
   "id": "535798f1",
   "metadata": {
    "slideshow": {
     "slide_type": "fragment"
    }
   },
   "outputs": [
    {
     "name": "stdout",
     "output_type": "stream",
     "text": [
      "[1, 'abc', 3.1, True, 5]\n",
      "['abc', 3.1]\n"
     ]
    }
   ],
   "source": [
    "print(lista)\n",
    "print(lista[1:3])"
   ]
  },
  {
   "cell_type": "markdown",
   "id": "33183f24-3475-427d-bc90-2f399ac0eacf",
   "metadata": {},
   "source": [
    "## Concatenando listas"
   ]
  },
  {
   "cell_type": "code",
   "execution_count": 8,
   "id": "011ead2e",
   "metadata": {
    "slideshow": {
     "slide_type": "fragment"
    }
   },
   "outputs": [
    {
     "name": "stdout",
     "output_type": "stream",
     "text": [
      "[1, 'abc', 3.1, True, 5, 36, 49, 64]\n"
     ]
    }
   ],
   "source": [
    "lista2 = lista + [36, 49, 64] \n",
    "print(lista2)"
   ]
  },
  {
   "cell_type": "markdown",
   "id": "41ee3bbc-ee3e-4d14-ad9f-ec09fe65f0b0",
   "metadata": {},
   "source": [
    "## Exercício"
   ]
  },
  {
   "cell_type": "markdown",
   "id": "ea3d8467-984e-41ee-946e-341bdd729ba5",
   "metadata": {},
   "source": [
    "Crie uma lista contendo os seguintes elementos:\n",
    "\n",
    "* 1\n",
    "* 5\n",
    "* 3\n",
    "* a\n",
    "\n",
    "Em seguida, acrescente os seguintes elementos:\n",
    "\n",
    "* True\n",
    "* b\n",
    "* a\n",
    "\n",
    "Remove os 2 primeiros elementos da lista"
   ]
  },
  {
   "cell_type": "code",
   "execution_count": 14,
   "id": "f33b0cf2-6db5-4268-b839-b3257db2e88b",
   "metadata": {},
   "outputs": [
    {
     "name": "stdout",
     "output_type": "stream",
     "text": [
      "[3, 'a', True, 'b']\n"
     ]
    }
   ],
   "source": [
    "lista = [1, 5.4, 3, 'a']\n",
    "lista.append(True)\n",
    "lista = lista + ['b', 'a']\n",
    "lista = lista[2:6]\n",
    "print(lista)"
   ]
  },
  {
   "cell_type": "markdown",
   "id": "7d0b730f-38d3-435e-bf85-5f3b4f7d36d1",
   "metadata": {},
   "source": [
    "Crie uma lista contendo os seguintes valores:\n",
    "\n",
    "* 1\n",
    "* 2\n",
    "* 3\n",
    "* 4\n",
    "* 5\n",
    "* \"um texto\"\n",
    "* \"outro texto\"\n",
    "\n",
    "Peça para o usuário entrar com uma posição na lista.\n",
    "Em seguida, peça para ele entrar com  um novo valor.\n",
    "Altere a lista na posição indicada.\n",
    "Imprima a lista.\n",
    "Observe que o primeiro índice de uma lista é o índice 0."
   ]
  },
  {
   "cell_type": "code",
   "execution_count": 17,
   "id": "be983028-f0f8-4cc8-8a53-20473ac2fcf1",
   "metadata": {},
   "outputs": [
    {
     "name": "stdin",
     "output_type": "stream",
     "text": [
      "Entre com uma posição:  2\n",
      "Entre com um novo valor:  4\n"
     ]
    },
    {
     "name": "stdout",
     "output_type": "stream",
     "text": [
      "[1, 2, '4', 4, 5, 'um texto', 'outro texto']\n"
     ]
    }
   ],
   "source": [
    "lista = [1, 2, 3, 4, 5, 'um texto', 'outro texto']\n",
    "posicao = int( input('Entre com uma posição: ') )\n",
    "valor = input('Entre com um novo valor: ')\n",
    "lista[posicao] = valor\n",
    "print(lista)"
   ]
  },
  {
   "cell_type": "markdown",
   "id": "716e32db",
   "metadata": {
    "slideshow": {
     "slide_type": "subslide"
    }
   },
   "source": [
    "# Dicionários\n",
    "\n",
    "Os dicionários permitem armazenar dados indexados por uma chave, similar a uma tabela:\n",
    "\n",
    "| Nome | \n",
    "| --- | \n",
    "| Joao |\n",
    "| Paulo |\n",
    "| Maria |"
   ]
  },
  {
   "cell_type": "code",
   "execution_count": 11,
   "id": "d6c68cde",
   "metadata": {
    "slideshow": {
     "slide_type": "fragment"
    }
   },
   "outputs": [
    {
     "name": "stdout",
     "output_type": "stream",
     "text": [
      "joao\n"
     ]
    }
   ],
   "source": [
    "p = {'nome': 'joao'}\n",
    "print(p['nome'])"
   ]
  },
  {
   "cell_type": "code",
   "execution_count": null,
   "id": "c34dbcac",
   "metadata": {},
   "outputs": [],
   "source": []
  },
  {
   "cell_type": "markdown",
   "id": "a78fbcc7",
   "metadata": {
    "slideshow": {
     "slide_type": "fragment"
    }
   },
   "source": [
    "Podemos ter mais de uma coluna:\n",
    "\n",
    "| Nome | Idade |\n",
    "| --- | --- |\n",
    "| Joao | 25 |\n",
    "| Paulo | 30 |\n",
    "| Maria | 32 |"
   ]
  },
  {
   "cell_type": "code",
   "execution_count": 6,
   "id": "43b04e08",
   "metadata": {
    "slideshow": {
     "slide_type": "fragment"
    }
   },
   "outputs": [
    {
     "name": "stdout",
     "output_type": "stream",
     "text": [
      "joao\n",
      "25\n",
      "1.7\n"
     ]
    }
   ],
   "source": [
    "pessoa1 = {'nome': 'joao', 'idade': 25, 'altura': 1.7}\n",
    "print(pessoa1['nome'])\n",
    "print(pessoa1['idade'])\n",
    "print(pessoa1['altura'])"
   ]
  },
  {
   "cell_type": "markdown",
   "id": "f1838cd1",
   "metadata": {
    "slideshow": {
     "slide_type": "-"
    }
   },
   "source": [
    "Também é possível ter uma **lista de dicionários**:"
   ]
  },
  {
   "cell_type": "code",
   "execution_count": 6,
   "id": "7d17f84b",
   "metadata": {
    "slideshow": {
     "slide_type": "-"
    }
   },
   "outputs": [],
   "source": [
    "pessoa2 = {'nome': 'paulo', 'idade':30}\n",
    "pessoa3 = {'nome': 'maria', 'idade':32}"
   ]
  },
  {
   "cell_type": "code",
   "execution_count": 8,
   "id": "eb48cbbc",
   "metadata": {
    "slideshow": {
     "slide_type": "-"
    }
   },
   "outputs": [
    {
     "name": "stdout",
     "output_type": "stream",
     "text": [
      "joao\n"
     ]
    }
   ],
   "source": [
    "lista_de_pessoas = [pessoa1, pessoa2, pessoa3]\n",
    "print(lista_de_pessoas[0]['nome'])"
   ]
  },
  {
   "cell_type": "markdown",
   "id": "e1663742",
   "metadata": {
    "slideshow": {
     "slide_type": "fragment"
    }
   },
   "source": [
    "É possível ter um **dicionário de listas**:\n",
    "\n",
    "| x | y | \n",
    "| --- | --- |\n",
    "| 0 | 1 |\n",
    "| 1 | 2.3 |\n",
    "| 2 | 3.2 |\n",
    "| 3 | 4.5 |"
   ]
  },
  {
   "cell_type": "code",
   "execution_count": 13,
   "id": "f8b88e7e",
   "metadata": {},
   "outputs": [
    {
     "name": "stdout",
     "output_type": "stream",
     "text": [
      "[0, 1, 2, 3]\n"
     ]
    }
   ],
   "source": [
    "x = [0, 1, 2, 3]\n",
    "y = [1, 2.3, 3.2, 4.5]\n",
    "dados = {'X': x, 'Y': y}\n",
    "\n",
    "print(dados['X'])"
   ]
  },
  {
   "cell_type": "markdown",
   "id": "9b18c54d-40c4-49e8-b129-ccbcc03d7fb6",
   "metadata": {},
   "source": [
    "## Exercício"
   ]
  },
  {
   "cell_type": "markdown",
   "id": "63a4af97-1dbb-49b7-adc9-d47e38343f89",
   "metadata": {},
   "source": [
    "Crie um código que leia os seguintes dados:\n",
    "\n",
    "* Nome\n",
    "* Idade\n",
    "* Peso\n",
    "* Altura\n",
    "\n",
    "Salve os dados em um dicionário.\n",
    "Em seguida, calcule o IMC da pessoa:\n",
    "\n",
    "$IMC = peso/altura^2$\n",
    "\n",
    "e imprima o valor obtido."
   ]
  },
  {
   "cell_type": "code",
   "execution_count": 21,
   "id": "d5659194-03b8-4e61-941d-fadd5c35883a",
   "metadata": {},
   "outputs": [
    {
     "name": "stdin",
     "output_type": "stream",
     "text": [
      "Entre com o nome: Joao\n",
      "Entre com a idade: 21\n",
      "Entre com o peso: 65\n",
      "Entre com a altura: 1.7\n"
     ]
    },
    {
     "name": "stdout",
     "output_type": "stream",
     "text": [
      "{'nome': 'Joao', 'idade': 21, 'peso': 65.0, 'altura': 1.7}\n"
     ]
    }
   ],
   "source": [
    "p = {}\n",
    "p['nome'] = input('Entre com o nome:')\n",
    "p['idade'] = int (input('Entre com a idade:'))\n",
    "p['peso'] = float (input('Entre com o peso:'))\n",
    "p['altura'] = float (input('Entre com a altura:'))\n",
    "print(p)"
   ]
  },
  {
   "cell_type": "markdown",
   "id": "5571a684",
   "metadata": {
    "jp-MarkdownHeadingCollapsed": true,
    "slideshow": {
     "slide_type": "slide"
    }
   },
   "source": [
    "# Sequence e sets\n",
    "\n",
    "Apesar de serem úteis, os tipos de dados ```sequence``` e ```set``` não serão abordados neste curso."
   ]
  }
 ],
 "metadata": {
  "celltoolbar": "Slideshow",
  "kernelspec": {
   "display_name": "Python 3 (ipykernel)",
   "language": "python",
   "name": "python3"
  },
  "language_info": {
   "codemirror_mode": {
    "name": "ipython",
    "version": 3
   },
   "file_extension": ".py",
   "mimetype": "text/x-python",
   "name": "python",
   "nbconvert_exporter": "python",
   "pygments_lexer": "ipython3",
   "version": "3.12.5"
  },
  "latex_envs": {
   "LaTeX_envs_menu_present": true,
   "autoclose": true,
   "autocomplete": true,
   "bibliofile": "biblio.bib",
   "cite_by": "apalike",
   "current_citInitial": 1,
   "eqLabelWithNumbers": true,
   "eqNumInitial": 1,
   "hotkeys": {
    "equation": "Ctrl-E",
    "itemize": "Ctrl-I"
   },
   "labels_anchors": false,
   "latex_user_defs": false,
   "report_style_numbering": false,
   "user_envs_cfg": false
  }
 },
 "nbformat": 4,
 "nbformat_minor": 5
}
