{
 "cells": [
  {
   "cell_type": "markdown",
   "id": "d83be12c",
   "metadata": {},
   "source": [
    "[Vídeo]()"
   ]
  },
  {
   "cell_type": "markdown",
   "id": "9ee88249",
   "metadata": {
    "slideshow": {
     "slide_type": "skip"
    }
   },
   "source": [
    "Material de referência:\n",
    "\n",
    "https://docs.python.org/pt-br/3.9/library/index.html"
   ]
  },
  {
   "cell_type": "markdown",
   "id": "9e39e6e7",
   "metadata": {
    "slideshow": {
     "slide_type": "slide"
    }
   },
   "source": [
    "# Conjuntos de dados\n",
    "\n",
    "No python, existem vários tipos de dados que permitem armazenar um conjunto de valores, tais como: \n",
    "\n",
    "* Listas (list)\n",
    "* Sequências (sequence)\n",
    "* Conjuntos (set)\n",
    "* Dicionários (dict)"
   ]
  },
  {
   "cell_type": "markdown",
   "id": "1592b95c",
   "metadata": {
    "slideshow": {
     "slide_type": "subslide"
    }
   },
   "source": [
    "## Listas"
   ]
  },
  {
   "cell_type": "code",
   "execution_count": 2,
   "id": "0b2bc244",
   "metadata": {
    "slideshow": {
     "slide_type": "-"
    }
   },
   "outputs": [
    {
     "name": "stdout",
     "output_type": "stream",
     "text": [
      "O valor do penúltimo elemento é: 16\n"
     ]
    }
   ],
   "source": [
    "squares = [1, 4, 9, 16, 25]\n",
    "\n",
    "lista = ['ab', 'fda', 'asdf a']\n",
    "\n",
    "#print('A variavel possui', len(squares), 'elementos')\n",
    "#print('O valor do primeiro elemento é :', squares[0])\n",
    "#print('O valor do segundo elemento é  :', squares[1])\n",
    "#print('O valor do último elemento é   :', squares[-1])\n",
    "print('O valor do penúltimo elemento é:', squares[-2]) "
   ]
  },
  {
   "cell_type": "code",
   "execution_count": 5,
   "id": "535798f1",
   "metadata": {
    "slideshow": {
     "slide_type": "fragment"
    }
   },
   "outputs": [
    {
     "data": {
      "text/plain": [
       "[4, 9]"
      ]
     },
     "execution_count": 5,
     "metadata": {},
     "output_type": "execute_result"
    }
   ],
   "source": [
    "squares[1:-2]"
   ]
  },
  {
   "cell_type": "code",
   "execution_count": 52,
   "id": "c9a6eac0",
   "metadata": {},
   "outputs": [],
   "source": [
    "teste = 'asf sad safe a vbsdfgas'"
   ]
  },
  {
   "cell_type": "code",
   "execution_count": 57,
   "id": "a1d8a200",
   "metadata": {},
   "outputs": [
    {
     "data": {
      "text/plain": [
       "'sad safe a vbs'"
      ]
     },
     "execution_count": 57,
     "metadata": {},
     "output_type": "execute_result"
    }
   ],
   "source": [
    "teste[4:-5]"
   ]
  },
  {
   "cell_type": "code",
   "execution_count": 1,
   "id": "011ead2e",
   "metadata": {
    "slideshow": {
     "slide_type": "fragment"
    }
   },
   "outputs": [
    {
     "ename": "NameError",
     "evalue": "name 'squares' is not defined",
     "output_type": "error",
     "traceback": [
      "\u001b[1;31m---------------------------------------------------------------------------\u001b[0m",
      "\u001b[1;31mNameError\u001b[0m                                 Traceback (most recent call last)",
      "Input \u001b[1;32mIn [1]\u001b[0m, in \u001b[0;36m<cell line: 1>\u001b[1;34m()\u001b[0m\n\u001b[1;32m----> 1\u001b[0m sq2 \u001b[38;5;241m=\u001b[39m \u001b[43msquares\u001b[49m \u001b[38;5;241m+\u001b[39m [\u001b[38;5;241m36\u001b[39m, \u001b[38;5;241m49\u001b[39m, \u001b[38;5;241m64\u001b[39m] \n\u001b[0;32m      2\u001b[0m \u001b[38;5;28mprint\u001b[39m(sq2)\n",
      "\u001b[1;31mNameError\u001b[0m: name 'squares' is not defined"
     ]
    }
   ],
   "source": [
    "sq2 = squares + [36, 49, 64] \n",
    "print(sq2)"
   ]
  },
  {
   "cell_type": "markdown",
   "id": "716e32db",
   "metadata": {
    "slideshow": {
     "slide_type": "subslide"
    }
   },
   "source": [
    "## Dicionários\n",
    "\n",
    "Os dicionários permitem armazenar dados indexados por uma chave, similar a uma tabela:\n",
    "\n",
    "| Nome | \n",
    "| --- | \n",
    "| Joao |\n",
    "| Paulo |\n",
    "| Maria |"
   ]
  },
  {
   "cell_type": "code",
   "execution_count": 11,
   "id": "d6c68cde",
   "metadata": {
    "slideshow": {
     "slide_type": "fragment"
    }
   },
   "outputs": [
    {
     "name": "stdout",
     "output_type": "stream",
     "text": [
      "joao\n"
     ]
    }
   ],
   "source": [
    "p = {'nome': 'joao'}\n",
    "print(p['nome'])"
   ]
  },
  {
   "cell_type": "markdown",
   "id": "a78fbcc7",
   "metadata": {
    "slideshow": {
     "slide_type": "fragment"
    }
   },
   "source": [
    "Podemos ter mais de uma coluna:\n",
    "\n",
    "| Nome | Idade |\n",
    "| --- | --- |\n",
    "| Joao | 25 |\n",
    "| Paulo | 30 |\n",
    "| Maria | 32 |"
   ]
  },
  {
   "cell_type": "code",
   "execution_count": 3,
   "id": "43b04e08",
   "metadata": {
    "slideshow": {
     "slide_type": "fragment"
    }
   },
   "outputs": [
    {
     "name": "stdout",
     "output_type": "stream",
     "text": [
      "joao\n",
      "25\n"
     ]
    }
   ],
   "source": [
    "pessoa1 = {'nome': 'joao', 'idade': 25}\n",
    "print(pessoa1['nome'])\n",
    "print(pessoa1['idade'])"
   ]
  },
  {
   "cell_type": "markdown",
   "id": "f1838cd1",
   "metadata": {
    "slideshow": {
     "slide_type": "-"
    }
   },
   "source": [
    "Também é possível ter uma **lista de dicionários**:"
   ]
  },
  {
   "cell_type": "code",
   "execution_count": 6,
   "id": "7d17f84b",
   "metadata": {
    "slideshow": {
     "slide_type": "-"
    }
   },
   "outputs": [],
   "source": [
    "pessoa2 = {'nome': 'paulo', 'idade':30}\n",
    "pessoa3 = {'nome': 'maria', 'idade':32}"
   ]
  },
  {
   "cell_type": "code",
   "execution_count": 8,
   "id": "eb48cbbc",
   "metadata": {
    "slideshow": {
     "slide_type": "-"
    }
   },
   "outputs": [
    {
     "name": "stdout",
     "output_type": "stream",
     "text": [
      "joao\n"
     ]
    }
   ],
   "source": [
    "lista_de_pessoas = [pessoa1, pessoa2, pessoa3]\n",
    "print(lista_de_pessoas[0]['nome'])"
   ]
  },
  {
   "cell_type": "markdown",
   "id": "e1663742",
   "metadata": {
    "slideshow": {
     "slide_type": "fragment"
    }
   },
   "source": [
    "É possível ter um **dicionário de listas**:\n",
    "\n",
    "| x | y | \n",
    "| --- | --- |\n",
    "| 0 | 1 |\n",
    "| 1 | 2.3 |\n",
    "| 2 | 3.2 |\n",
    "| 3 | 4.5 |"
   ]
  },
  {
   "cell_type": "code",
   "execution_count": 13,
   "id": "f8b88e7e",
   "metadata": {},
   "outputs": [
    {
     "name": "stdout",
     "output_type": "stream",
     "text": [
      "[0, 1, 2, 3]\n"
     ]
    }
   ],
   "source": [
    "x = [0, 1, 2, 3]\n",
    "y = [1, 2.3, 3.2, 4.5]\n",
    "dados = {'X': x, 'Y': y}\n",
    "\n",
    "print(dados['X'])"
   ]
  },
  {
   "cell_type": "markdown",
   "id": "5571a684",
   "metadata": {
    "slideshow": {
     "slide_type": "slide"
    }
   },
   "source": [
    "# Sequence e sets\n",
    "\n",
    "Apesar de serem úteis, os tipos de dados ```sequence``` e ```set``` não serão abordados neste curso."
   ]
  }
 ],
 "metadata": {
  "celltoolbar": "Slideshow",
  "kernelspec": {
   "display_name": "Python 3 (ipykernel)",
   "language": "python",
   "name": "python3"
  },
  "language_info": {
   "codemirror_mode": {
    "name": "ipython",
    "version": 3
   },
   "file_extension": ".py",
   "mimetype": "text/x-python",
   "name": "python",
   "nbconvert_exporter": "python",
   "pygments_lexer": "ipython3",
   "version": "3.9.12"
  },
  "latex_envs": {
   "LaTeX_envs_menu_present": true,
   "autoclose": true,
   "autocomplete": true,
   "bibliofile": "biblio.bib",
   "cite_by": "apalike",
   "current_citInitial": 1,
   "eqLabelWithNumbers": true,
   "eqNumInitial": 1,
   "hotkeys": {
    "equation": "Ctrl-E",
    "itemize": "Ctrl-I"
   },
   "labels_anchors": false,
   "latex_user_defs": false,
   "report_style_numbering": false,
   "user_envs_cfg": false
  }
 },
 "nbformat": 4,
 "nbformat_minor": 5
}
