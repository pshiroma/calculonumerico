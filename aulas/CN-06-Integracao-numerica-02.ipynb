{
 "cells": [
  {
   "cell_type": "markdown",
   "id": "42243c3e",
   "metadata": {
    "slideshow": {
     "slide_type": "slide"
    }
   },
   "source": [
    "# Integração numérica\n",
    "\n",
    "* Fórmulas baseadas em pontos (Newton-Cotes)\n",
    "* Fórmulas baseadas na **função analítica** (Gauss-Legendre)"
   ]
  },
  {
   "cell_type": "markdown",
   "id": "47a84e06",
   "metadata": {
    "slideshow": {
     "slide_type": "slide"
    }
   },
   "source": [
    "# Exemplo\n",
    "\n",
    "Calcule a integral de\n",
    "\n",
    "\\begin{equation}\n",
    "f(x) = x^2 + 71x - 20\n",
    "\\end{equation}\n",
    "\n",
    "no intervalo $[2, 9]$"
   ]
  },
  {
   "cell_type": "markdown",
   "id": "25586097",
   "metadata": {
    "slideshow": {
     "slide_type": "fragment"
    }
   },
   "source": [
    "Analiticamente, temos que a solução exata é dada por:\n",
    "\n",
    "\\begin{equation}\n",
    "\\int\\limits_a^b f(x) = F(b) - F(a)\n",
    "\\end{equation}\n",
    "\n",
    "onde $F(x)$ é a primitiva de $f(x)$.\n",
    "\n",
    "Neste caso, temos que $F(x) = x^3/3 + 71x^2/2 - 20x$, o que nos leva à:\n",
    "\n",
    "\\begin{equation}\n",
    "\\int\\limits_2^9 x^2 + 71x - 20 = 2938.5 - 104.6666 = 2833.8333\n",
    "\\end{equation}"
   ]
  },
  {
   "cell_type": "markdown",
   "id": "abe1033b-ea60-4a5b-87c1-7df4f3bd7c8c",
   "metadata": {},
   "source": [
    "Quando podemos calcular o valor da função em qualquer ponto $x$ desejado, as fórmulas baseada no método de Gauss-Legendre possui maior precisão comparado com o método de Newton-Cotes\n",
    "\n",
    "Um deles é conhecido como **quadratura de Gauss-Legendre** e encontra-se disponível na biblioteca *scipy*:\n",
    "\n",
    "```python\n",
    "scipy.integrate.quad\n",
    "```\n",
    "\n",
    "https://docs.scipy.org/doc/scipy/reference/generated/scipy.integrate.quad.html"
   ]
  },
  {
   "cell_type": "code",
   "execution_count": 2,
   "id": "0e202c35",
   "metadata": {
    "slideshow": {
     "slide_type": "fragment"
    }
   },
   "outputs": [
    {
     "name": "stdout",
     "output_type": "stream",
     "text": [
      "2833.8333333333335\n"
     ]
    }
   ],
   "source": [
    "import scipy.integrate as integrate\n",
    "import numpy as np\n",
    "\n",
    "def funcao(x):\n",
    "    return x**2 + 71*x - 20\n",
    "\n",
    "a = 2\n",
    "b = 9\n",
    "\n",
    "I = integrate.quad(funcao, a, b)\n",
    "print(I[0])"
   ]
  },
  {
   "cell_type": "markdown",
   "id": "dc0b6f2f",
   "metadata": {
    "slideshow": {
     "slide_type": "slide"
    }
   },
   "source": [
    "# Quadratura de Gauss-Legendre\n",
    "\n",
    "Suponha que, ao invés de termos os pontos $(x_i, y_i)$, temos a fórmula analítica para $f(x)$.\n",
    "\n",
    "Neste caso, é possível obter um erro menor do que aquele obtido pela regra do trapézio ou regra de Simpson utilizando a mesma quantidade de pontos.\n",
    "\n",
    "Esta melhoria é obtida ao escolhermos pontos mais adequados para estimar a integral.\n",
    "\n",
    "Lembre-se que na regra do trapézio temos:\n",
    "\n",
    "\\begin{equation} \n",
    "I \\approx (b - a) \\dfrac{f(a) + f(b)}{2} = \\dfrac{h}{2}f(a) + \\dfrac{h}{2}f(b)\n",
    "\\end{equation}\n",
    "\n",
    "Na quadratura de Gauss de 2 pontos, a fórmula é:\n",
    "\n",
    "\\begin{equation} %\\label{eq:quadratura}\n",
    "I \\approx c_0f(x_0) + c_1f(x_1)\n",
    "\\end{equation}\n",
    "\n",
    "onde $x_0$ e $x_1$ não são os pontos extremos.\n",
    "\n",
    "![integral5](figuras/integracao-fig05.png)\n",
    "\n",
    "Observe que na equação $I \\approx c_0f(x_0) + c_1f(x_1)$ temos 4 valores que precisam ser definidos.\n",
    "Sabemos então que são necessários 4 equações para definir estes valores de forma única. \n",
    "\n",
    "Para o caso de 2 pontos, podemos deduzir os valores de $c_0$, $c_1$, $x_0$ e $x_1$ considerando:\n",
    "\n",
    "1. A integração será feita no intervalo de $[-1, 1]$\n",
    "2. Caso o limite seja outro, será necessário realizar uma mudança de variável para ajustar os limites\n",
    "3. Para uma função constante $y = 1$ ele irá retornar o valor exato, ou seja:\n",
    "\\begin{equation}\n",
    "c_0 + c_1 = \\int\\limits_{-1}^1 1dx = 2\n",
    "\\end{equation}\n",
    "4. Para uma função linear $y = x$ ele irá retornar o valor exato, ou seja:\n",
    "\\begin{equation}\n",
    "c_0x_0 + c_1x_1 = \\int\\limits_{-1}^1 xdx = 0\n",
    "\\end{equation}\n",
    "4. Para uma função parabólica do tipo $y = x^2$ ele irá retornar o valor exato, ou seja:\n",
    "\\begin{equation}\n",
    "c_0x_0^2 + c_1x_1^2 = \\int\\limits_{-1}^1 x^2dx = 2/3\n",
    "\\end{equation}\n",
    "4. Para uma função cúbica $y = x^3$ ele irá retornar o valor exato, ou seja:\n",
    "\\begin{equation}\n",
    "c_0x_0^3 + c_1x_1^3 = \\int\\limits_{-1}^1 x^3dx = 0\n",
    "\\end{equation}\n",
    "\n",
    "Resolvendo o sistema acima, obtemos:\n",
    "\n",
    "* $c_0 = c_1 = 1$\n",
    "* $x_0 = - \\dfrac{1}{\\sqrt 3} = -0.5773503 \\ldots$\n",
    "* $x_1 = \\dfrac{1}{\\sqrt 3} = 0.5773503 \\ldots$"
   ]
  },
  {
   "cell_type": "markdown",
   "id": "f98ff700",
   "metadata": {
    "slideshow": {
     "slide_type": "fragment"
    }
   },
   "source": [
    "## Quadratura de Gauss para 2 pontos\n",
    "\n",
    "No caso de 2 pontos, temos então:\n",
    "\n",
    "\\begin{equation}\n",
    "\\int\\limits_{-1}^1 f(x)dx \\approx f\\left(-\\dfrac{1}{\\sqrt{3}}\\right) + f\\left(\\dfrac{1}{\\sqrt{3}}\\right)\n",
    "\\end{equation}"
   ]
  },
  {
   "cell_type": "markdown",
   "id": "f67414f3",
   "metadata": {
    "slideshow": {
     "slide_type": "fragment"
    }
   },
   "source": [
    "Por último, vamos generalizar o resultado para qualquer limite de integração, realizando uma mudança de variável.\n",
    "\n",
    "Vamos chamar de $t$ a variável utilizada no método acima e $x$ a variável original da função.\n",
    "\n",
    "A relação entre $x$ e $t$ é dada por:\n",
    "\n",
    "\\begin{equation} \n",
    "x(t) = a_1 + a_2t\n",
    "\\end{equation}\n",
    "\n",
    "Quando $x = a$ temos $t = -1$ e quando $x = b$ temos $t = 1$.\n",
    "\n",
    "Resolvendo o sistema acima obtemos:\n",
    "\n",
    "\\begin{equation}\n",
    "a_1 = \\dfrac{b+a}{2}\n",
    "\\end{equation}\n",
    "\n",
    "\\begin{equation}\n",
    "a_2 = \\dfrac{b-a}{2}\n",
    "\\end{equation}\n",
    "\n",
    "o que pode ser substituído gerando a equação: \n",
    "\n",
    "\\begin{equation}\n",
    "x(t) = \\dfrac{(b+a) + (b-a)t}{2}\n",
    "\\end{equation}\n",
    "\n",
    "cuja derivada é:\n",
    "\n",
    "\\begin{equation}\n",
    "\\dfrac{dx}{dt} = \\dfrac{b-a}{2}\n",
    "\\end{equation}\n",
    "\n",
    "Substituindo na equação anterior obtemos:\n",
    "\n",
    "\\begin{aligned} \n",
    "\\int\\limits_a^b f(x) dx & = \\int\\limits_{-1}^1 f(x(t)) \\dfrac{dx}{dt} dt  \\\\\n",
    " & = \\dfrac{b-a}{2} \\int\\limits_{-1}^1 f\\left(\\dfrac{(b+a) + (b-a)t}{2}\\right) dt \n",
    "\\end{aligned}\n",
    "\n",
    "que nos leva à fórmula:\n",
    "\n",
    "\\begin{equation} \n",
    "\\int\\limits_a^b f(x) dx \\approx \\dfrac{b-a}{2} \\left[ f\\left(\\dfrac{(b+a) + (b-a)t_0}{2}\\right) + f\\left(\\dfrac{(b+a) + (b-a)t_1}{2}\\right)  \\right ]\n",
    "\\end{equation}\n",
    "\n",
    "com \n",
    "\n",
    "* $t_0 = -\\dfrac{1}{\\sqrt{3}}$\n",
    "* $t_1 = \\dfrac{1}{\\sqrt{3}}$\n"
   ]
  },
  {
   "cell_type": "markdown",
   "id": "10e1a9ae",
   "metadata": {
    "slideshow": {
     "slide_type": "fragment"
    }
   },
   "source": [
    "# Exemplo\n",
    "\n",
    "Calcule a integral de\n",
    "\n",
    "\\begin{equation}\n",
    "f(x) = x^2 + 71x - 20\n",
    "\\end{equation}\n",
    "\n",
    "no intervalo $[2, 9]$"
   ]
  },
  {
   "cell_type": "code",
   "execution_count": 2,
   "id": "cf5441de",
   "metadata": {
    "slideshow": {
     "slide_type": "fragment"
    }
   },
   "outputs": [
    {
     "name": "stdout",
     "output_type": "stream",
     "text": [
      "(2833.8333333333335, 3.146187014616923e-11)\n"
     ]
    }
   ],
   "source": [
    "import scipy.integrate as integrate\n",
    "\n",
    "def funcao(x):\n",
    "    return x**2 + 71*x - 20\n",
    "\n",
    "a = 2\n",
    "b = 9\n",
    "\n",
    "I = integrate.quad(funcao, a, b)\n",
    "print(I)"
   ]
  },
  {
   "cell_type": "code",
   "execution_count": 3,
   "id": "5318a562",
   "metadata": {
    "slideshow": {
     "slide_type": "fragment"
    }
   },
   "outputs": [
    {
     "name": "stdout",
     "output_type": "stream",
     "text": [
      "2833.8333333333335\n",
      "(np.float64(2833.8333333333335), None)\n"
     ]
    }
   ],
   "source": [
    "import scipy.integrate as integrate\n",
    "\n",
    "def funcao(x):\n",
    "    return x**2 + 71*x - 20\n",
    "\n",
    "def quadratura_gauss(f, a, b):\n",
    "    c0 = 1\n",
    "    c1 = 1\n",
    "    x0 = (b+a)/2 + (b-a)/2 * (-1/np.sqrt(3))\n",
    "    x1 = (b+a)/2 + (b-a)/2 * 1/np.sqrt(3)\n",
    "    return (b-a)/2 * (c0*f(x0) + c1*f(x1) )\n",
    "\n",
    "a = 2\n",
    "b = 9\n",
    "\n",
    "I = quadratura_gauss(funcao, a, b)\n",
    "print(I)\n",
    "\n",
    "I = integrate.fixed_quad(funcao, a, b, n=2)\n",
    "print(I)"
   ]
  },
  {
   "cell_type": "code",
   "execution_count": 14,
   "id": "8606b40a-34b9-4d2a-899e-fc108df423e1",
   "metadata": {},
   "outputs": [
    {
     "data": {
      "text/plain": [
       "(np.float64(2.25), None)"
      ]
     },
     "execution_count": 14,
     "metadata": {},
     "output_type": "execute_result"
    }
   ],
   "source": [
    "def f(x):\n",
    "    return x**3 + 2\n",
    "\n",
    "integrate.fixed_quad(f, 0, 1, n=4)"
   ]
  },
  {
   "cell_type": "markdown",
   "id": "e8853751",
   "metadata": {
    "slideshow": {
     "slide_type": "fragment"
    }
   },
   "source": [
    "## Quadratura de Gauss para 3  e 4 pontos\n",
    "\n",
    "A forma geral da quadratura de Gauss é dada por:\n",
    "\n",
    "\\begin{equation}\n",
    "I \\cong c_0 f(x_0) + c_1 f(x_1) + \\ldots + c_n f(x_n)\n",
    "\\end{equation}\n",
    "\n",
    "A tabela abaixo mostra os valores de $c_i$ e $x_i$ para 3 e 4 pontos:\n",
    "\n",
    "\\begin{array}{|c|c|c|c|} \\hline\n",
    "Pontos & Peso & Coordenada & Erro \\\\ \\hline\n",
    " 3 & c_0 = 5/9 & x_0 = -\\sqrt{3/5} & f^{(6)}(\\xi) \\\\\n",
    "   & c_1 = 8/9 & x_1 = 0 \\\\\n",
    "   & c_2 = 5/9 & x_2 = \\sqrt{3/5} \\\\ \\hline\n",
    " 4 & c_0 = (18 - \\sqrt{30})/36 & x_0 = -\\dfrac{\\sqrt{525 + 70\\sqrt{30}}}{35} &  f^{(8)}(\\xi) \\\\\n",
    "   & c_1 = (18 + \\sqrt{30})/36 & x_1 = -\\dfrac{\\sqrt{525 - 70\\sqrt{30}}}{35} \\\\\n",
    "   & c_2 = (18 + \\sqrt{30})/36 & x_2 = \\dfrac{\\sqrt{525 - 70\\sqrt{30}}}{35} \\\\\n",
    "   & c_3 = (18 - \\sqrt{30})/36 & x_3 = \\dfrac{\\sqrt{525 + 70\\sqrt{30}}}{35} \\\\ \\hline\n",
    "\\end{array}"
   ]
  },
  {
   "cell_type": "markdown",
   "id": "9daa8e4f-9d1c-46d9-a8de-c0ab738404d2",
   "metadata": {},
   "source": [
    "# Comparação entre os métodos de integração"
   ]
  },
  {
   "cell_type": "markdown",
   "id": "7ebe12dd-8cd0-479d-a1e5-82c698eb57db",
   "metadata": {},
   "source": [
    "Considere a função\n",
    "\n",
    "$f(x) = \\dfrac{200e^{-x/10}x}{10+x}\n",
    "$\n",
    "\n",
    "cuja integral é dada por:\n",
    "\n",
    "$\\int f(x) =2000(-eEi(-\\dfrac{x}{10}-1)-e^{x/10}\n",
    "$\n",
    "\n",
    "onde $Ei$ corresponde à integral exponencial."
   ]
  },
  {
   "cell_type": "code",
   "execution_count": 15,
   "id": "2d174014",
   "metadata": {
    "slideshow": {
     "slide_type": "fragment"
    }
   },
   "outputs": [
    {
     "name": "stdout",
     "output_type": "stream",
     "text": [
      "Regra do trapézio:  513.75\n",
      "Regra de Simpson:  537.3333333333333\n",
      "Quadratura gaussiana (n = 2):  547.0492180453399\n",
      "Quadratura gaussiana (n = 3):  537.3029887087372\n",
      "Quadratura gaussiana (n = 3):  547.0492180453399\n",
      "Quadratura gaussiana (n = 4):  537.3251722142656\n",
      "Quadratura gaussiana:  537.3010493113126\n",
      "Valor analítico:  537.3010493113123\n"
     ]
    }
   ],
   "source": [
    "import numpy as np\n",
    "import scipy.integrate as integrate\n",
    "from scipy.special import expi\n",
    "import math as m\n",
    "\n",
    "def funcao(x):\n",
    "    return 200*np.exp(-x/10)*x/(10+x)\n",
    "\n",
    "a = 2\n",
    "b = 18\n",
    "\n",
    "#https://www.wolframalpha.com/input?i2d=true&i=Integrate%5B200*Divide%5Bx*exp%5C%2840%29-Divide%5Bx%2C10%5D%5C%2841%29%2C10%2Bx%5D+%2Cx%5D \n",
    "def integral_funcao(a, b):\n",
    "    Ib = 2000*(-m.e*(expi(-b/10-1) ) - np.exp(-b/10))\n",
    "    Ia = 2000*(-m.e*(expi(-a/10-1) ) - np.exp(-a/10))\n",
    "    return Ib - Ia\n",
    "\n",
    "x = [2, 3.75, 5.5, 7.25, 9, 11, 13, 14, 17]\n",
    "y = [27, 38, 41, 41, 39, 35, 31, 28, 23]\n",
    "I = integrate.trapezoid(y, x)\n",
    "print('Regra do trapézio: ',I)\n",
    "y2 = [27., 38., 41., 40., 37., 33., 29., 25., 21.]\n",
    "I = integrate.simpson(y2, dx=2)\n",
    "print('Regra de Simpson: ', I)\n",
    "I = integrate.fixed_quad(funcao, a, b, n=2)\n",
    "print('Quadratura gaussiana (n = 2): ', I[0])\n",
    "I1 = integrate.fixed_quad(funcao, 2, 2+16/3, n=3)\n",
    "I2 = integrate.fixed_quad(funcao, 2+16/3, 2+2*16/3, n=3)\n",
    "I3 = integrate.fixed_quad(funcao, 2+2*16/3, 18, n=3)\n",
    "print('Quadratura gaussiana (n = 3): ', I1[0] + I2[0] + I3[0])\n",
    "print('Quadratura gaussiana (n = 3): ', I[0])\n",
    "I = integrate.fixed_quad(funcao, a, b, n=4)\n",
    "print('Quadratura gaussiana (n = 4): ', I[0])\n",
    "I = integrate.quad(funcao, a, b)\n",
    "print('Quadratura gaussiana: ', I[0])\n",
    "I = integral_funcao(a, b)\n",
    "print('Valor analítico: ', I)"
   ]
  },
  {
   "cell_type": "code",
   "execution_count": null,
   "id": "61d29d08-18e9-4fbf-be83-6505839616b9",
   "metadata": {},
   "outputs": [],
   "source": []
  },
  {
   "cell_type": "markdown",
   "id": "0d02bd77-6b2e-4aca-b84a-87b28e982652",
   "metadata": {},
   "source": [
    "# Exercício\n",
    "\n",
    "Calcule a integral abaixo:\n",
    "\n",
    "\\begin{equation}\n",
    "\\int\\limits_0^4 (1-e^{-x})dx\n",
    "\\end{equation}"
   ]
  },
  {
   "cell_type": "code",
   "execution_count": 17,
   "id": "58c088b9-1449-49ee-9481-2505cc3e7803",
   "metadata": {},
   "outputs": [
    {
     "data": {
      "text/plain": [
       "(3.018315638888734, 3.351003517880462e-14)"
      ]
     },
     "execution_count": 17,
     "metadata": {},
     "output_type": "execute_result"
    }
   ],
   "source": [
    "import numpy as np\n",
    "import scipy.integrate as integrate\n",
    "\n",
    "def f(x):\n",
    "    return 1 - np.exp(-x)\n",
    "\n",
    "integrate.quad(f, 0, 4)"
   ]
  },
  {
   "cell_type": "markdown",
   "id": "f6292639-d04f-4267-8465-8cc62ee4c296",
   "metadata": {},
   "source": [
    "# Exercício\n",
    "\n",
    "A quantidade de massa transportada por um tubo durante um período de tempo pode ser calculada por:\n",
    "\n",
    "\\begin{equation}\n",
    "M = \\int\\limits_{t_1}^{t_2} Q(t)c(t)dt\n",
    "\\end{equation}\n",
    "\n",
    "onde $M$ é a massa, $t_1$ o instante inicial, $t_2$ o instante final,  $Q(t)$ é a vazão e $c(t)$ a concentração.\n",
    "\n",
    "Determine a massa transportante entre $t_1 = 2$ e $t_2 = 8$ se:\n",
    "\n",
    "\\begin{aligned}\n",
    "Q(t) & = 9 + 5 \\cos^2(0,4t) \\\\\n",
    "c(t) & = 5e^{-0,5t} + 2e^{0,15t}\n",
    "\\end{aligned}"
   ]
  },
  {
   "cell_type": "code",
   "execution_count": 18,
   "id": "99ff77d9-9796-4140-b05c-4cfaab15820c",
   "metadata": {},
   "outputs": [
    {
     "data": {
      "text/plain": [
       "(335.9625300616257, 3.729933362857382e-12)"
      ]
     },
     "execution_count": 18,
     "metadata": {},
     "output_type": "execute_result"
    }
   ],
   "source": [
    "import numpy as np\n",
    "import scipy.integrate as integrate\n",
    "\n",
    "def f(t):\n",
    "    Q = 9 + 5*np.cos(0.4*t)**2\n",
    "    c = 5*np.exp(-0.5*t) + 2*np.exp(0.15*t)\n",
    "    return Q*c\n",
    "\n",
    "integrate.quad(f, 2, 8)"
   ]
  },
  {
   "cell_type": "markdown",
   "id": "baa3c07a",
   "metadata": {
    "slideshow": {
     "slide_type": "fragment"
    }
   },
   "source": [
    "# Exemplo \n",
    "\n",
    "A equação fundamental de calorimetria relaciona o calor necessário, $\\Delta H$ para induzir uma variação de temperatura, $\\Delta T$, em um corpo de massa $m$ e pode ser descrito como:\n",
    "\n",
    "\\begin{equation}\n",
    "\\Delta H = m\\cdot c(T)\\cdot \\Delta T\n",
    "\\end{equation}\n",
    "\n",
    "onde $c(T)$ é o calor específico.\n",
    "\n",
    "Considerando que, para o aço temos $c(T) = 425 + 7,73 \\times 10^{-1} T - 1,69 \\times 10^{-3} T^2 +  2,22\\times 10^{-6}T^3  J/kgK$, determine o calor necessário para que uma massa de $1kg$ de aço seja levado da temperatura de 20ºC até 600ºC.\n",
    "\n",
    "(Eurocode No. 3: Design of steel structures, Part 1.2: Structural fire design, 2004. European Committee for Standardization.)"
   ]
  },
  {
   "cell_type": "code",
   "execution_count": 5,
   "id": "25b0dd02",
   "metadata": {
    "slideshow": {
     "slide_type": "-"
    }
   },
   "outputs": [
    {
     "name": "stdout",
     "output_type": "stream",
     "text": [
      "335737.8178666667\n"
     ]
    }
   ],
   "source": [
    "import scipy.integrate as integrate\n",
    "\n",
    "def calor_especifico(T):\n",
    "    return 425 + 7.73*1e-1*T - 1.69*1e-3*T**2 + 2.22*1e-6*T**3\n",
    "\n",
    "Ta = 20\n",
    "Tb = 600\n",
    "massa = 1\n",
    "\n",
    "I = integrate.quad(calor_especifico, Ta, Tb)\n",
    "DeltaH = massa*I[0]\n",
    "print(DeltaH)"
   ]
  },
  {
   "cell_type": "code",
   "execution_count": null,
   "id": "1f19f0e6",
   "metadata": {},
   "outputs": [],
   "source": []
  }
 ],
 "metadata": {
  "celltoolbar": "Slideshow",
  "kernelspec": {
   "display_name": "Python 3 (ipykernel)",
   "language": "python",
   "name": "python3"
  },
  "language_info": {
   "codemirror_mode": {
    "name": "ipython",
    "version": 3
   },
   "file_extension": ".py",
   "mimetype": "text/x-python",
   "name": "python",
   "nbconvert_exporter": "python",
   "pygments_lexer": "ipython3",
   "version": "3.12.5"
  },
  "latex_envs": {
   "LaTeX_envs_menu_present": true,
   "autoclose": true,
   "autocomplete": false,
   "bibliofile": "biblio.bib",
   "cite_by": "apalike",
   "current_citInitial": 1,
   "eqLabelWithNumbers": true,
   "eqNumInitial": 1,
   "hotkeys": {
    "equation": "Ctrl-E",
    "itemize": "Ctrl-I"
   },
   "labels_anchors": false,
   "latex_user_defs": false,
   "report_style_numbering": false,
   "user_envs_cfg": false
  }
 },
 "nbformat": 4,
 "nbformat_minor": 5
}
