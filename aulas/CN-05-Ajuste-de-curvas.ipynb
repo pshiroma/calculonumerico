{
 "cells": [
  {
   "cell_type": "markdown",
   "id": "8fb4c75a",
   "metadata": {},
   "source": [
    "# Ajuste de curvas\n",
    "\n",
    "* Regressão linear por mínimos quadrados\n",
    "* Linearização"
   ]
  },
  {
   "cell_type": "markdown",
   "id": "58e67c23",
   "metadata": {},
   "source": [
    "# Motivação\n",
    "\n",
    "A lei dos gases ideais relaciona pressão, volume e temperatura por meio da fórmula $pV = nRT$, onde $p$ é a pressão ($N/m^2$), $V$ o volume ($m^3$), $T$ a temperatura ($K$) e $R$ a constante universal dos gases.\n",
    "\n",
    "Foram realizados as seguintes medições experimentais de pressão e temperatura para uma massa de 1kg de gás nitrogênico em um volume de 10$m^3$:\n",
    "\n",
    "| Temperatura (K) | 230 | 273,15 | 313 | 350 | 390 | 430 |\n",
    "| --- | --- | --- | --- | --- | --- | --- |\n",
    "| Pressão (N/m2) | 6.900 | 8.100 | 9.350 | 10.500 | 11.700 | 12.800 |\n",
    "\n",
    "Segundo este experimento, qual a melhor estimativa para a constante $R$?\n",
    "\n",
    "(Massa molar do nitrogênico: 28g/mol)"
   ]
  },
  {
   "cell_type": "code",
   "execution_count": 21,
   "id": "b831a570",
   "metadata": {},
   "outputs": [
    {
     "data": {
      "text/plain": [
       "[<matplotlib.lines.Line2D at 0x16ed9714df0>]"
      ]
     },
     "execution_count": 21,
     "metadata": {},
     "output_type": "execute_result"
    },
    {
     "data": {
      "image/png": "[encoded data removed]",
      "text/plain": [
       "<Figure size 432x288 with 1 Axes>"
      ]
     },
     "metadata": {
      "needs_background": "light"
     },
     "output_type": "display_data"
    }
   ],
   "source": [
    "import matplotlib.pyplot as plt\n",
    "import numpy as np\n",
    "T = np.array([230, 273.15, 313, 350, 390, 430])\n",
    "P = np.array([6900, 8100, 9350, 10500, 11700, 12800])\n",
    "plt.plot(T, P)"
   ]
  },
  {
   "cell_type": "markdown",
   "id": "64c70871",
   "metadata": {},
   "source": [
    "Observe que, dependendo do par utilizado P x T, a constante calculada varia:"
   ]
  },
  {
   "cell_type": "code",
   "execution_count": 12,
   "id": "e0b2080a",
   "metadata": {},
   "outputs": [
    {
     "name": "stdout",
     "output_type": "stream",
     "text": [
      "8400.0\n"
     ]
    }
   ],
   "source": [
    "v = 10000\n",
    "n = 1000/28.0\n",
    "i = 0\n",
    "p = P[i]\n",
    "t = T[i]\n",
    "R = p*v/(n*t)\n",
    "print(R)"
   ]
  },
  {
   "cell_type": "markdown",
   "id": "01b55e19",
   "metadata": {},
   "source": [
    "Uma forma melhor seria estimar o valor utilizando **todos** os dados disponíveis, **minimizando** alguma métrica de **erro**:\n",
    "\n",
    "* Método dos mínimos quadrados."
   ]
  },
  {
   "cell_type": "code",
   "execution_count": 22,
   "id": "22200ef1",
   "metadata": {},
   "outputs": [
    {
     "name": "stdout",
     "output_type": "stream",
     "text": [
      "[8366.75355256]\n"
     ]
    }
   ],
   "source": [
    "import scipy.optimize as opt\n",
    "\n",
    "def funcao(T,R):\n",
    "    # pV = nRT \n",
    "    # y = p\n",
    "    # x = T\n",
    "    n = 1000/28\n",
    "    V = 10000.0\n",
    "    p = n*R*T/V\n",
    "    return p\n",
    "\n",
    "y, cov = opt.curve_fit(funcao, T, P)\n",
    "print(y)"
   ]
  }
 ],
 "metadata": {
  "kernelspec": {
   "display_name": "Python 3 (ipykernel)",
   "language": "python",
   "name": "python3"
  },
  "language_info": {
   "codemirror_mode": {
    "name": "ipython",
    "version": 3
   },
   "file_extension": ".py",
   "mimetype": "text/x-python",
   "name": "python",
   "nbconvert_exporter": "python",
   "pygments_lexer": "ipython3",
   "version": "3.10.4"
  },
  "latex_envs": {
   "LaTeX_envs_menu_present": true,
   "autoclose": true,
   "autocomplete": false,
   "bibliofile": "biblio.bib",
   "cite_by": "apalike",
   "current_citInitial": 1,
   "eqLabelWithNumbers": true,
   "eqNumInitial": 1,
   "hotkeys": {
    "equation": "Ctrl-E",
    "itemize": "Ctrl-I"
   },
   "labels_anchors": false,
   "latex_user_defs": false,
   "report_style_numbering": false,
   "user_envs_cfg": false
  }
 },
 "nbformat": 4,
 "nbformat_minor": 5
}
