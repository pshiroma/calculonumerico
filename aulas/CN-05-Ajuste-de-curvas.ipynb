{
 "cells": [
  {
   "cell_type": "markdown",
   "id": "8fb4c75a",
   "metadata": {},
   "source": [
    "# Ajuste de curvas\n",
    "\n",
    "* Regressão linear por mínimos quadrados\n",
    "* Linearização"
   ]
  },
  {
   "cell_type": "markdown",
   "id": "58e67c23",
   "metadata": {},
   "source": [
    "# Motivação\n",
    "\n",
    "A lei dos gases ideais relaciona pressão, volume e temperatura por meio da fórmula $pV = nRT$, onde $p$ é a pressão ($N/m^2$), $V$ o volume ($m^3$), $T$ a temperatura ($K$) e $R$ a constante universal dos gases.\n",
    "\n",
    "Foram realizados as seguintes medições experimentais de pressão e temperatura para uma massa de 1kg de gás nitrogênico em um volume de 10$m^3$:\n",
    "\n",
    "| Temperatura (K) | 230 | 273,15 | 313 | 350 | 390 | 430 |\n",
    "| --- | --- | --- | --- | --- | --- | --- |\n",
    "| Pressão (N/m2) | 6.900 | 8.100 | 9.350 | 10.500 | 11.700 | 12.800 |\n",
    "\n",
    "Segundo este experimento, qual a melhor estimativa para a constante $R$?\n",
    "\n",
    "(Massa molar do nitrogênico: 28g/mol)\n",
    "\n",
    "Observe que a equação $pV = nRT$ nos fornece a fórmula $R = pV/nT$"
   ]
  },
  {
   "cell_type": "code",
   "execution_count": 35,
   "id": "b831a570",
   "metadata": {},
   "outputs": [
    {
     "data": {
      "text/plain": [
       "[<matplotlib.lines.Line2D at 0x296826f9450>]"
      ]
     },
     "execution_count": 35,
     "metadata": {},
     "output_type": "execute_result"
    },
    {
     "data": {
      "image/png": "[encoded data removed]",
      "text/plain": [
       "<Figure size 432x288 with 1 Axes>"
      ]
     },
     "metadata": {
      "needs_background": "light"
     },
     "output_type": "display_data"
    }
   ],
   "source": [
    "import matplotlib.pyplot as plt\n",
    "import numpy as np\n",
    "T = np.array([230, 273.15, 313, 350, 390, 430])\n",
    "P = np.array([6900, 8100, 9350, 10500, 11700, 12800])\n",
    "plt.plot(T, P, 'o-')"
   ]
  },
  {
   "cell_type": "markdown",
   "id": "64c70871",
   "metadata": {},
   "source": [
    "Entretanto, dependendo do par utilizado P x T, a constante calculada varia:"
   ]
  },
  {
   "cell_type": "code",
   "execution_count": 12,
   "id": "e0b2080a",
   "metadata": {},
   "outputs": [
    {
     "name": "stdout",
     "output_type": "stream",
     "text": [
      "8400.0\n"
     ]
    }
   ],
   "source": [
    "v = 10000\n",
    "n = 1000/28.0\n",
    "i = 0\n",
    "p = P[i]\n",
    "t = T[i]\n",
    "R = p*v/(n*t)\n",
    "print(R)"
   ]
  },
  {
   "cell_type": "markdown",
   "id": "01b55e19",
   "metadata": {},
   "source": [
    "Uma forma melhor seria estimar o valor utilizando **todos** os dados disponíveis, **minimizando** alguma métrica de **erro**:\n",
    "\n",
    "* Método dos mínimos quadrados."
   ]
  },
  {
   "cell_type": "markdown",
   "id": "d435d68f",
   "metadata": {},
   "source": [
    "Vamos considerar o seguinte cenário:\n",
    "\n",
    "* Temos um conjunto de dados a respeito de um processo.\n",
    "* O modelo do processo é linear (equação de uma reta: $y = a_0 + a_1x$).\n",
    "* Queremos saber quais os melhores parâmetros para $a_0$ e $a_1$ que melhor se ajustam aos dados coletados.\n",
    "\n",
    "Ou seja, considere que para cada par de dados $(x_i,y_i)$ temos um *erro* ou *resíduo* dado por:\n",
    "\n",
    "$y_i = a_0 + a_1x_i + e_i$\n",
    "\n",
    "\\begin{equation}\n",
    "e_i = y_i - a_0 - a_1x_i\n",
    "\\end{equation}\n",
    "\n",
    "\n",
    "O método dos mínimos quadrados busca minimizar a soma dos quadrados dos resíduos:\n",
    "\n",
    "$\n",
    "min \\sum\\limits_{i=1}^n e_i^2 = \\sum\\limits_{i=1}^n (y_i - a_0 - a_1x_i)^2\n",
    "$\n",
    "\n",
    "Uma forma de determinar os valores que obedecem a este critério é:\n",
    "\n",
    "\\begin{equation} a_1 = \\dfrac{n\\sum x_iy_i -\\sum x_i\\sum y_i}{n\\sum x_i^2 - (\\sum x_i)^2} \\end{equation}\n",
    "\n",
    "\\begin{equation} a_0 = \\overline{y} - a_1 \\overline{x} \\end{equation}\n",
    "\n",
    "onde:\n",
    "\n",
    "* $\\overline{x}$ e $\\overline{y}$ são as médias dos vetores $x$ e $y$ respectivamente."
   ]
  },
  {
   "cell_type": "code",
   "execution_count": 33,
   "id": "4e35cfeb",
   "metadata": {},
   "outputs": [
    {
     "name": "stdout",
     "output_type": "stream",
     "text": [
      "a1:  29.86526026278305 a0:  5.518888178905399\n",
      "R:  8362.272873579255\n"
     ]
    }
   ],
   "source": [
    "n = 1000/28.0\n",
    "V = 10000\n",
    "\n",
    "N = len(T)\n",
    "a1 = (N*np.dot(T, P) - T.sum() * P.sum()) / ( N*np.square(T).sum() - T.sum()**2 )\n",
    "\n",
    "R = a1*V/n\n",
    "\n",
    "a0 = P.mean() - a1*T.mean()\n",
    "\n",
    "print('a1: ', a1, 'a0: ', a0)\n",
    "print('R: ', R)\n"
   ]
  },
  {
   "cell_type": "markdown",
   "id": "055a59cf",
   "metadata": {},
   "source": [
    "Também podemos organizar o conjunto de dados em forma matricial:\n",
    "\n",
    "\\begin{equation}\n",
    "\\begin{bmatrix} y_1 \\\\ y_2 \\\\ \\vdots \\\\ y_n \\end{bmatrix} = \n",
    "\\begin{bmatrix}\n",
    "x_1 & 1 \\\\\n",
    "x_2 & 1 \\\\\n",
    "\\vdots \\\\\n",
    "x_n & 1\n",
    "\\end{bmatrix}\n",
    "\\begin{bmatrix} a_1 \\\\ a_0 \\end{bmatrix}\n",
    "\\end{equation}\n",
    "\n",
    "para o caso genérico onde temos uma equação do tipo $y = a_1x + a_0$.\n",
    "\n",
    "No exemplo dado, podemos forçar o valor de $a_0 = 0$ usando a matriz:\n",
    "\n",
    "\\begin{equation}\n",
    "\\begin{bmatrix} y_1 \\\\ y_2 \\\\ \\vdots \\\\ y_n \\end{bmatrix} = \n",
    "\\begin{bmatrix}\n",
    "x_1 & 0 \\\\\n",
    "x_2 & 0 \\\\\n",
    "\\vdots \\\\\n",
    "x_n & 0\n",
    "\\end{bmatrix}\n",
    "\\begin{bmatrix} a_1 \\\\ a_0 \\end{bmatrix}\n",
    "\\end{equation}\n",
    "\n",
    "A função `lstsq` pode ser utilizada para determinar o valor de $a_1$ que minimiza o resíduo."
   ]
  },
  {
   "cell_type": "code",
   "execution_count": 34,
   "id": "d7d21f0a",
   "metadata": {},
   "outputs": [
    {
     "name": "stdout",
     "output_type": "stream",
     "text": [
      "8366.753552546645\n"
     ]
    },
    {
     "data": {
      "text/plain": [
       "[<matplotlib.lines.Line2D at 0x296826412d0>]"
      ]
     },
     "execution_count": 34,
     "metadata": {},
     "output_type": "execute_result"
    },
    {
     "data": {
      "image/png": "[encoded data removed]",
      "text/plain": [
       "<Figure size 432x288 with 1 Axes>"
      ]
     },
     "metadata": {
      "needs_background": "light"
     },
     "output_type": "display_data"
    }
   ],
   "source": [
    "# y = a0 + a1x \n",
    "# Ap (p = [a1, a0], A = [x, 0])\n",
    "# p = R*(n*T/V)\n",
    "# p = (Rn/V)*T => a1 = Rn/V => R = a1*V/n\n",
    "n = 1000/28.0\n",
    "V = 10000\n",
    "\n",
    "A = np.vstack([T, np.zeros(len(T))]).T\n",
    "a1, a0 = np.linalg.lstsq(A, P, rcond=None)[0]\n",
    "R = a1*V/n\n",
    "\n",
    "print(R)\n",
    "plt.scatter(T, P)\n",
    "plt.plot(T, m*T, 'r')"
   ]
  },
  {
   "cell_type": "code",
   "execution_count": 22,
   "id": "c9ffdcfa",
   "metadata": {},
   "outputs": [
    {
     "name": "stdout",
     "output_type": "stream",
     "text": [
      "[8366.75355256]\n"
     ]
    }
   ],
   "source": [
    "import scipy.optimize as opt\n",
    "\n",
    "def funcao(T,R):\n",
    "    # pV = nRT \n",
    "    # y = p\n",
    "    # x = T\n",
    "    n = 1000/28\n",
    "    V = 10000.0\n",
    "    p = n*R*T/V\n",
    "    return p\n",
    "\n",
    "y, cov = opt.curve_fit(funcao, T, P)\n",
    "print(y)"
   ]
  }
 ],
 "metadata": {
  "kernelspec": {
   "display_name": "Python 3 (ipykernel)",
   "language": "python",
   "name": "python3"
  },
  "language_info": {
   "codemirror_mode": {
    "name": "ipython",
    "version": 3
   },
   "file_extension": ".py",
   "mimetype": "text/x-python",
   "name": "python",
   "nbconvert_exporter": "python",
   "pygments_lexer": "ipython3",
   "version": "3.10.4"
  },
  "latex_envs": {
   "LaTeX_envs_menu_present": true,
   "autoclose": true,
   "autocomplete": false,
   "bibliofile": "biblio.bib",
   "cite_by": "apalike",
   "current_citInitial": 1,
   "eqLabelWithNumbers": true,
   "eqNumInitial": 1,
   "hotkeys": {
    "equation": "Ctrl-E",
    "itemize": "Ctrl-I"
   },
   "labels_anchors": false,
   "latex_user_defs": false,
   "report_style_numbering": false,
   "user_envs_cfg": false
  }
 },
 "nbformat": 4,
 "nbformat_minor": 5
}
