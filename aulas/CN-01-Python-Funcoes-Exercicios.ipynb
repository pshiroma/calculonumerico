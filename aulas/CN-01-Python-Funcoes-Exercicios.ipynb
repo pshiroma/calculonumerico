{
 "cells": [
  {
   "cell_type": "markdown",
   "id": "9293053e",
   "metadata": {},
   "source": [
    "**CN-01: Python - Funções (Exercícios)**"
   ]
  },
  {
   "cell_type": "markdown",
   "id": "f86ba7e6",
   "metadata": {},
   "source": [
    "# Exemplo"
   ]
  },
  {
   "cell_type": "markdown",
   "id": "9cf37c2f",
   "metadata": {},
   "source": [
    "Crie uma função que receba um número como entrada um número `n` e determine se ele é par.\n",
    "Ele deve retornar `True` se `n` for par e `False` se for ímpar."
   ]
  },
  {
   "cell_type": "markdown",
   "id": "223d0cc2",
   "metadata": {},
   "source": [
    "**Definição da função:**"
   ]
  },
  {
   "cell_type": "code",
   "execution_count": 2,
   "id": "ebf06596",
   "metadata": {
    "code_folding": []
   },
   "outputs": [],
   "source": [
    "def par(n):\n",
    "    if n%2 == 0:\n",
    "        return True\n",
    "    else:\n",
    "        return False"
   ]
  },
  {
   "cell_type": "markdown",
   "id": "bd653489",
   "metadata": {},
   "source": [
    "**Chamada da função:**"
   ]
  },
  {
   "cell_type": "code",
   "execution_count": 4,
   "id": "ae07fa27",
   "metadata": {},
   "outputs": [
    {
     "data": {
      "text/plain": [
       "False"
      ]
     },
     "execution_count": 4,
     "metadata": {},
     "output_type": "execute_result"
    }
   ],
   "source": [
    "par(5)"
   ]
  },
  {
   "cell_type": "markdown",
   "id": "71f426fb",
   "metadata": {},
   "source": [
    "# Exercício 1"
   ]
  },
  {
   "cell_type": "markdown",
   "id": "ac0655a6",
   "metadata": {},
   "source": [
    "Crie uma função que receba um número `n` como entrada e determine se ele está entre 0 e 10.\n",
    "Ele deve retornar `True` se $0 \\leq n \\leq 10$ e `False` caso contrário."
   ]
  },
  {
   "cell_type": "markdown",
   "id": "e5a50f9b",
   "metadata": {},
   "source": [
    "**Definição da função:**"
   ]
  },
  {
   "cell_type": "code",
   "execution_count": null,
   "id": "4425c916",
   "metadata": {},
   "outputs": [],
   "source": []
  },
  {
   "cell_type": "markdown",
   "id": "761d3fa5",
   "metadata": {},
   "source": [
    "**Chamada da função:**"
   ]
  },
  {
   "cell_type": "code",
   "execution_count": null,
   "id": "e48097cb",
   "metadata": {},
   "outputs": [],
   "source": []
  },
  {
   "cell_type": "markdown",
   "id": "f52d31d4",
   "metadata": {},
   "source": [
    "# Exercício 2"
   ]
  },
  {
   "cell_type": "markdown",
   "id": "c395a0e4",
   "metadata": {},
   "source": [
    "Considere a função definida pelo polinômio $f(x) = 5x^2 +5x - 8$.\n",
    "Crie uma função que receba dois números, $a$ e $b$ e determine se $f(a)\\cdot f(b) < 0$.\n",
    "\n",
    "Ela deve retornar `True` se o produto for negativo, e `False` caso contrário."
   ]
  },
  {
   "cell_type": "code",
   "execution_count": 24,
   "id": "0eb4a371",
   "metadata": {},
   "outputs": [
    {
     "data": {
      "image/png": "[encoded data removed]",
      "text/plain": [
       "<Figure size 432x288 with 1 Axes>"
      ]
     },
     "metadata": {
      "needs_background": "light"
     },
     "output_type": "display_data"
    }
   ],
   "source": [
    "import matplotlib.pyplot as plt\n",
    "import numpy as np\n",
    "x = np.linspace(-3,2)\n",
    "y = 5*x**2 + 5*x - 8\n",
    "plt.plot(x,y)\n",
    "plt.grid()"
   ]
  },
  {
   "cell_type": "markdown",
   "id": "b10223eb",
   "metadata": {},
   "source": [
    "**Definição da função:**"
   ]
  },
  {
   "cell_type": "code",
   "execution_count": null,
   "id": "d671dc82",
   "metadata": {},
   "outputs": [],
   "source": []
  },
  {
   "cell_type": "markdown",
   "id": "1414ddec",
   "metadata": {},
   "source": [
    "**Chamada da função:**"
   ]
  },
  {
   "cell_type": "code",
   "execution_count": null,
   "id": "849a881f",
   "metadata": {},
   "outputs": [],
   "source": []
  },
  {
   "cell_type": "markdown",
   "id": "bedc3169",
   "metadata": {},
   "source": [
    "# Exercício 3"
   ]
  },
  {
   "cell_type": "markdown",
   "id": "0b286508",
   "metadata": {},
   "source": [
    "Considere a função $f(x) = \\sin(x) + \\cos(0.3x)$ (veja gráfico abaixo)"
   ]
  },
  {
   "cell_type": "code",
   "execution_count": 32,
   "id": "62d0692e",
   "metadata": {},
   "outputs": [
    {
     "data": {
      "image/png": "[encoded data removed]",
      "text/plain": [
       "<Figure size 432x288 with 1 Axes>"
      ]
     },
     "metadata": {
      "needs_background": "light"
     },
     "output_type": "display_data"
    }
   ],
   "source": [
    "x = np.linspace(0,10,100)\n",
    "y = np.sin(x) + np.cos(0.3*x)\n",
    "plt.plot(x,y)\n",
    "plt.grid()"
   ]
  },
  {
   "cell_type": "markdown",
   "id": "6bf805d6",
   "metadata": {},
   "source": [
    "Crie uma função que determine o valor de $x$ que maximiza a função $f(x)$, para $x = \\left[0, 0.5, 1.0, 1.5, \\ldots , 9.5,  10\\right]$.\n",
    "\n",
    "A função deve retornar o valor de $x$ que maximiza $f(x)$ neste intervalo."
   ]
  },
  {
   "cell_type": "markdown",
   "id": "45e1a2a7",
   "metadata": {},
   "source": [
    "**Definição da função:**"
   ]
  },
  {
   "cell_type": "code",
   "execution_count": null,
   "id": "1a93ba67",
   "metadata": {},
   "outputs": [],
   "source": []
  },
  {
   "cell_type": "markdown",
   "id": "e0eb079b",
   "metadata": {},
   "source": [
    "**Chamada da função:**"
   ]
  },
  {
   "cell_type": "code",
   "execution_count": null,
   "id": "98da0f38",
   "metadata": {},
   "outputs": [],
   "source": []
  },
  {
   "cell_type": "markdown",
   "id": "1d96cf9a",
   "metadata": {},
   "source": [
    "# Exercício 4"
   ]
  },
  {
   "cell_type": "markdown",
   "id": "213075a9",
   "metadata": {},
   "source": [
    "A velocidade de um saltador de bumgee jumping pode ser descrita como uma função no tempo dado por:\n",
    "\n",
    "\\begin{equation}\n",
    "v(t) = \\sqrt{\\dfrac{gm}{c_d}} \\tanh \\left( \\sqrt{\\dfrac{gc_d}{m}t} \\right)\n",
    "\\end{equation}\n",
    "\n",
    "Crie uma função que receba o valor da massa $m$, do coeficiente de arraste $c_d$, e o tempo $t$ e calcule a velocidade no instante $t$ usando a equação acima.\n",
    "\n",
    "Suponha $g = 9.81m/s^2$. "
   ]
  },
  {
   "cell_type": "markdown",
   "id": "30e45fcc",
   "metadata": {},
   "source": [
    "**Definição da função:**"
   ]
  },
  {
   "cell_type": "code",
   "execution_count": null,
   "id": "4d77e5d9",
   "metadata": {},
   "outputs": [],
   "source": []
  },
  {
   "cell_type": "markdown",
   "id": "38f50e2a",
   "metadata": {},
   "source": [
    "**Chamada da função:**"
   ]
  },
  {
   "cell_type": "code",
   "execution_count": null,
   "id": "3e8bc6fb",
   "metadata": {},
   "outputs": [],
   "source": []
  },
  {
   "cell_type": "markdown",
   "id": "59cfc908",
   "metadata": {},
   "source": [
    "# Exercício 5"
   ]
  },
  {
   "cell_type": "code",
   "execution_count": 4,
   "id": "ab87d08d",
   "metadata": {},
   "outputs": [
    {
     "data": {
      "text/plain": [
       "4"
      ]
     },
     "execution_count": 4,
     "metadata": {},
     "output_type": "execute_result"
    }
   ],
   "source": [
    "# Criando uma matriz 2x2 usando uma lista de listas\n",
    "A = [[5,4], [6,9]]\n",
    "# Podemos acessar um elemento da lista usando a sintaxe abaixo\n",
    "# onde o primeiro índice refere-se à linha, e o segunda à coluna (começando do índice 0)\n",
    "# acessando a linha 0 (primeira linha), coluna 1 (segunda coluna):\n",
    "A[0][1]"
   ]
  },
  {
   "cell_type": "markdown",
   "id": "6a8b766b",
   "metadata": {},
   "source": [
    "Crie uma função que receba uma matriz 2x2, conforme exemplo acima, e calcule o seu determinante.\n",
    "\n",
    "Dada uma matriz 2x2:\n",
    "\n",
    "\\begin{equation}\n",
    "A = \\begin{bmatrix} \n",
    "a_{11} & a_{12} \\\\\n",
    "a_{21} & a_{22}\n",
    "\\end{bmatrix}\n",
    "\\end{equation}\n",
    "\n",
    "o seu determinante é calculado usando a expressão:\n",
    "\n",
    "\\begin{equation}\n",
    "det(A) = a_{11} \\cdot a_{22} - a_{12} \\cdot a_{21}\n",
    "\\end{equation}\n",
    "\n",
    "Escreva uma função que receba uma matriz 2x2 como entrada e calcule seu determinante."
   ]
  },
  {
   "cell_type": "markdown",
   "id": "a7539190",
   "metadata": {},
   "source": [
    "**Definição da função:**"
   ]
  },
  {
   "cell_type": "code",
   "execution_count": null,
   "id": "fd8b9257",
   "metadata": {},
   "outputs": [],
   "source": []
  },
  {
   "cell_type": "markdown",
   "id": "2ae4b713",
   "metadata": {},
   "source": [
    "**Chamada da função:**"
   ]
  },
  {
   "cell_type": "code",
   "execution_count": null,
   "id": "95e0e667",
   "metadata": {},
   "outputs": [],
   "source": []
  },
  {
   "cell_type": "markdown",
   "id": "7bda58f3",
   "metadata": {},
   "source": [
    "# Exercício 6"
   ]
  },
  {
   "cell_type": "markdown",
   "id": "7ea79940",
   "metadata": {},
   "source": [
    "![reta](data:image/svg+xml;base64,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)"
   ]
  },
  {
   "cell_type": "markdown",
   "id": "906eb728",
   "metadata": {},
   "source": [
    "Suponha que você tenha as coordenadas $(x_0, y_0)$ de um ponto no plano.\n",
    "Considere uma reta $r$ com inclinação (coeficiente angular) $f'$ que passa pelo ponto $x_0,y_0$.\n",
    "Determine as coordenadas do ponto $(x_1, 0)$ em que a reta $r$ cruza o eixo $x$.\n",
    "\n",
    "Crie uma função que receba as coordenadas $x_0$ e $y_0$ e o coeficiente angular da reta.\n",
    "A função deve determinar o ponto $x_1$ em que a reta cruza o eixo $x$.\n",
    "\n",
    "Obs.: O coeficiente angular de uma reta é dado por $f' = (y_1 - y_0)/(x_1-x_0)$."
   ]
  },
  {
   "cell_type": "markdown",
   "id": "54e7b910",
   "metadata": {},
   "source": [
    "**Definição da função:**"
   ]
  },
  {
   "cell_type": "code",
   "execution_count": null,
   "id": "435abf90",
   "metadata": {},
   "outputs": [],
   "source": []
  },
  {
   "cell_type": "markdown",
   "id": "8572a6c4",
   "metadata": {},
   "source": [
    "**Chamada da função:**"
   ]
  },
  {
   "cell_type": "code",
   "execution_count": null,
   "id": "e06983cb",
   "metadata": {},
   "outputs": [],
   "source": []
  },
  {
   "cell_type": "markdown",
   "id": "f3d3ad66",
   "metadata": {},
   "source": [
    "# Exercício 7"
   ]
  },
  {
   "cell_type": "code",
   "execution_count": 7,
   "id": "6be2e939",
   "metadata": {},
   "outputs": [
    {
     "name": "stdout",
     "output_type": "stream",
     "text": [
      "[ 9  1 15  8 18 11 13 14 15 10]\n"
     ]
    }
   ],
   "source": [
    "from numpy import random\n",
    "vetor = random.randint(20, size=(10))\n",
    "print(vetor)"
   ]
  },
  {
   "cell_type": "markdown",
   "id": "48f7dce4",
   "metadata": {},
   "source": [
    "Crie uma função que receba o vetor criado acima e calcule a soma dos elementos pares.\n",
    "Ela deve receber o vetor como parâmetro de entrada e retornar a soma como resposta. "
   ]
  },
  {
   "cell_type": "markdown",
   "id": "e2ff2eda",
   "metadata": {},
   "source": [
    "**Definição da função:**"
   ]
  },
  {
   "cell_type": "code",
   "execution_count": null,
   "id": "1f130b57",
   "metadata": {},
   "outputs": [],
   "source": []
  },
  {
   "cell_type": "markdown",
   "id": "a5ae3933",
   "metadata": {},
   "source": [
    "**Chamada da função:**"
   ]
  },
  {
   "cell_type": "code",
   "execution_count": null,
   "id": "db00be19",
   "metadata": {},
   "outputs": [],
   "source": []
  },
  {
   "cell_type": "markdown",
   "id": "211cd132",
   "metadata": {},
   "source": [
    "# Exercício 8"
   ]
  },
  {
   "cell_type": "code",
   "execution_count": 23,
   "id": "ed3b2a95",
   "metadata": {},
   "outputs": [
    {
     "name": "stdout",
     "output_type": "stream",
     "text": [
      "[1 4 5]\n",
      "[2 5 2]\n"
     ]
    }
   ],
   "source": [
    "from numpy import random\n",
    "a = random.randint(10, size=(3))\n",
    "b = random.randint(10, size=(3))\n",
    "print(a)\n",
    "print(b)"
   ]
  },
  {
   "cell_type": "markdown",
   "id": "d9b6f86f",
   "metadata": {},
   "source": [
    "Considere dois vetores, $a = \\left[a_1, a_2, a_3\\right]$ e $b = \\left[b_1, b_2, b_3\\right]$ quaisquer.\n",
    "Crie uma função que receba os vetores $a$ e $b$ e calcule o produto interno deles.\n",
    "\n",
    "Lembre-se que o produto interno de dois vetores $a$ e $b$ é definido como:\n",
    "\n",
    "$\n",
    "\\langle a,b\\rangle = \\sum\\limits_{i=1}^n a_i \\cdot b_i\n",
    "$\n",
    "\n",
    "Ela deve retornar como resposta o produto interno."
   ]
  },
  {
   "cell_type": "markdown",
   "id": "6cc85ea8",
   "metadata": {},
   "source": [
    "**Definição da função:**"
   ]
  },
  {
   "cell_type": "code",
   "execution_count": null,
   "id": "0a3e3d67",
   "metadata": {},
   "outputs": [],
   "source": []
  },
  {
   "cell_type": "markdown",
   "id": "45060958",
   "metadata": {},
   "source": [
    "**Chamada da função:**"
   ]
  },
  {
   "cell_type": "code",
   "execution_count": null,
   "id": "28b138c5",
   "metadata": {},
   "outputs": [],
   "source": []
  },
  {
   "cell_type": "markdown",
   "id": "919513d0",
   "metadata": {},
   "source": [
    "# Exercício 9 - Mínimos quadrados"
   ]
  },
  {
   "cell_type": "code",
   "execution_count": 1,
   "id": "aa3c2809",
   "metadata": {},
   "outputs": [
    {
     "data": {
      "text/plain": [
       "[<matplotlib.lines.Line2D at 0x27ac5a78cd0>]"
      ]
     },
     "execution_count": 1,
     "metadata": {},
     "output_type": "execute_result"
    },
    {
     "data": {
      "image/png": "[encoded data removed]",
      "text/plain": [
       "<Figure size 432x288 with 1 Axes>"
      ]
     },
     "metadata": {
      "needs_background": "light"
     },
     "output_type": "display_data"
    }
   ],
   "source": [
    "from numpy import linspace\n",
    "from numpy import array\n",
    "from matplotlib import pyplot as plt\n",
    "X = linspace(10, 80, 8)\n",
    "Y = array([25, 70, 380, 550, 610, 1220, 830, 1450])\n",
    "plt.plot(X,Y)"
   ]
  },
  {
   "cell_type": "markdown",
   "id": "a8627bec",
   "metadata": {},
   "source": [
    "Crie uma função que receba dois vetores ($X$ e $Y$) de tamanho $n$  e calcule os seguintes valores:\n",
    "\n",
    "\\begin{equation}\n",
    "a_1 = \\dfrac{n\\sum x_iy_i -\\sum x_i\\sum y_i}{n\\sum x_i^2 - (\\sum x_i)^2}\n",
    "\\end{equation}\n",
    "\n",
    "\\begin{equation}\n",
    "a_0 = \\overline{y} - a_1 \\overline{x}\n",
    "\\end{equation}\n",
    "\n",
    "onde:\n",
    "\n",
    "* $x_i$ e $y_i$ são os i-ésimos elementos dos vetores $X$ e $Y$ respectivamente, \n",
    "* $\\overline{x}$ e $\\overline{y}$ são as médias de $X$ e $Y$ respectivamente.\n",
    "\n",
    "Teste sua função para os vetores definidos acima.\n",
    "\n",
    "**Resposta:** \n",
    "* $a_1 = 19,47$\n",
    "* $a_0 = -234,28$"
   ]
  },
  {
   "cell_type": "code",
   "execution_count": 39,
   "id": "daad6eeb",
   "metadata": {},
   "outputs": [
    {
     "data": {
      "text/plain": [
       "array([  19.47023812, -234.28571562])"
      ]
     },
     "execution_count": 39,
     "metadata": {},
     "output_type": "execute_result"
    }
   ],
   "source": [
    "import scipy.optimize as opt\n",
    "def func(x, a, b):\n",
    "    y = a*x + b\n",
    "    return y\n",
    "\n",
    "opt.curve_fit(func, xdata = X, ydata = Y)[0]"
   ]
  },
  {
   "cell_type": "markdown",
   "id": "931af20c",
   "metadata": {},
   "source": [
    "**Definição da função:**"
   ]
  },
  {
   "cell_type": "code",
   "execution_count": null,
   "id": "64b05cdc",
   "metadata": {},
   "outputs": [],
   "source": []
  },
  {
   "cell_type": "markdown",
   "id": "21736a19",
   "metadata": {},
   "source": [
    "**Chamada da função:**"
   ]
  },
  {
   "cell_type": "code",
   "execution_count": null,
   "id": "7207c8f1",
   "metadata": {},
   "outputs": [],
   "source": []
  },
  {
   "cell_type": "markdown",
   "id": "0c0bc880",
   "metadata": {},
   "source": [
    "# Exercício 10 - Integração"
   ]
  },
  {
   "cell_type": "code",
   "execution_count": 25,
   "id": "71be630f",
   "metadata": {},
   "outputs": [],
   "source": [
    "def funcao_exemplo(x):\n",
    "    # f(x) = 0.2 +25x +200x^2 +675x^3 -900x^4 +400x^5\n",
    "    y = 0.2 + 25*x - 200*x**2 + 675*x**3 - 900*x**4 + 400*x**5\n",
    "    return y"
   ]
  },
  {
   "cell_type": "markdown",
   "id": "8b8cd025",
   "metadata": {},
   "source": [
    "Crie uma função que receba uma função do tipo $y = f(x)$ e calcule a seguinte fórmula:\n",
    "\n",
    "\\begin{equation}\n",
    "I = (b - a)\\dfrac{f(a) + f(b)}{2}\n",
    "\\end{equation}\n",
    "\n",
    "A sua função deve receber como parâmetros de entrada a função $f(x)$ e os valores de $a$ e $b$.\n",
    "Ela deve retornar como resposta o valor de $I$.\n",
    "\n",
    "Teste usando a função acima, usando os valores de $a = 0.0$ e $b = 0.8$.\n",
    "\n",
    "Saída esperada: \n",
    "$\n",
    "I = (0,8 - 0) \\dfrac{0,2 + 0,232}{2} = 0,1728\n",
    "$"
   ]
  },
  {
   "cell_type": "markdown",
   "id": "01b2bb4f",
   "metadata": {},
   "source": [
    "**Definição da função:**"
   ]
  },
  {
   "cell_type": "code",
   "execution_count": null,
   "id": "d74cbade",
   "metadata": {},
   "outputs": [],
   "source": []
  },
  {
   "cell_type": "markdown",
   "id": "0d278d97",
   "metadata": {},
   "source": [
    "**Chamada da função:**"
   ]
  },
  {
   "cell_type": "code",
   "execution_count": null,
   "id": "fe260562",
   "metadata": {},
   "outputs": [],
   "source": []
  },
  {
   "cell_type": "markdown",
   "id": "c01eda80",
   "metadata": {},
   "source": [
    "# Exercício 11 - Derivação"
   ]
  },
  {
   "cell_type": "code",
   "execution_count": 34,
   "id": "c2bb524a",
   "metadata": {},
   "outputs": [],
   "source": [
    "def funcao_exemplo2(x):\n",
    "    # f(x) = -0.1x^4 -0.15x^3 -0.5x^2 -0.25x + 1.2\n",
    "    y = -0.1*x**4 - 0.15*x**3 -0.5*x**2 -0.25*x + 1.2\n",
    "    return y"
   ]
  },
  {
   "cell_type": "markdown",
   "id": "55588703",
   "metadata": {},
   "source": [
    "Crie uma função que receba uma função do tipo $y = f(x)$ e calcule a seguinte fórmula:\n",
    "\n",
    "\\begin{equation}\n",
    "f' = \\dfrac{f(x + h) - f(x)}{h}\n",
    "\\end{equation}\n",
    "\n",
    "A sua função deve receber como parâmetros de entrada a função $f(x)$ e os valores de $x$ e $h$.\n",
    "Ela deve retornar como resposta o valor de $f'$.\n",
    "\n",
    "Teste usando a função acima, usando os valores de $x = 0.5$ e $h = 0.25$.\n",
    "\n",
    "**Resposta:** -1,1546"
   ]
  },
  {
   "cell_type": "markdown",
   "id": "8f5b864b",
   "metadata": {},
   "source": [
    "**Definição da função:**"
   ]
  },
  {
   "cell_type": "code",
   "execution_count": null,
   "id": "6077bf52",
   "metadata": {},
   "outputs": [],
   "source": []
  },
  {
   "cell_type": "markdown",
   "id": "159590dd",
   "metadata": {},
   "source": [
    "**Chamada da função:**"
   ]
  },
  {
   "cell_type": "code",
   "execution_count": null,
   "id": "062937d7",
   "metadata": {},
   "outputs": [],
   "source": []
  },
  {
   "cell_type": "markdown",
   "id": "c02b1628",
   "metadata": {},
   "source": [
    "# Exercício 12 - EDO"
   ]
  },
  {
   "cell_type": "code",
   "execution_count": 2,
   "id": "cd9e16dd",
   "metadata": {},
   "outputs": [],
   "source": [
    "from math import exp\n",
    "def funcao_exemplo3(ti, yi):\n",
    "    # f(ti,yi) = 4e^0.8ti - 0.5yi\n",
    "    dy = 4*exp(0.8*ti) - 0.5*yi\n",
    "    return dy"
   ]
  },
  {
   "cell_type": "markdown",
   "id": "6aebcf5a",
   "metadata": {},
   "source": [
    "Crie uma função que calcule o valor de $y_n$ usando as seguintes fórmulas:\n",
    "\n",
    "\\begin{equation} \\label{eq:euler}\n",
    "y_{i+1} = y_i + f(t_i,y_i)h\n",
    "\\end{equation}\n",
    "\n",
    "e\n",
    "\n",
    "\\begin{equation} \\label{eq:euler2}\n",
    "t_{i+1} = t_i + h \n",
    "\\end{equation}\n",
    "\n",
    "\n",
    "A sua função deve receber como parâmetros de entrada uma função do tipo $f(t_i, y_i)$, o passo $h$, o instante de tempo inicial $t_0$, o valor inicial $y_0$ e o número de iterações $n$.\n",
    "Ela deve retornar como resposta o valor de $y_n$.\n",
    "\n",
    "Você deve inicialmente calcular os valores de $y_1$ e $t_1$ usando os valores de $y_0$ e $t_0$ (parâmetros de entrada) usando as equações \\ref{eq:euler} e \\ref{eq:euler2}.\n",
    "Para calcular os valores de $y_2$ e $t_2$, você irá utilizar os valores obtidos anteriormente e as mesmas equações, prosseguindo até encontrar o valor de $y_n$.\n",
    "\n",
    "Teste usando a função abaixo:\n",
    "\n",
    "\\begin{equation}\n",
    "f(t,y) = 4e^{0.8t} - 0.5y\n",
    "\\end{equation}\n",
    "\n",
    "utilizando os valores de $t_0 = 0$, $y_0 = 2$, $h = 1$ e $n = 4$\n",
    "\n",
    "Sua função deve imprimir os valores de $t_i$ e $y_i$, conforme exemplo abaixo:\n",
    "\n",
    "```\n",
    "ti yi\n",
    "0 2\n",
    "1 5.00000\n",
    "2 11.40216\n",
    "3 25.51321\n",
    "4 56.84931\n",
    "```"
   ]
  },
  {
   "cell_type": "markdown",
   "id": "b808e147",
   "metadata": {},
   "source": [
    "**Definição da função:**"
   ]
  },
  {
   "cell_type": "code",
   "execution_count": null,
   "id": "4f68e886",
   "metadata": {},
   "outputs": [],
   "source": []
  },
  {
   "cell_type": "markdown",
   "id": "b9c28686",
   "metadata": {},
   "source": [
    "**Chamada da função:**"
   ]
  },
  {
   "cell_type": "code",
   "execution_count": null,
   "id": "c743354d",
   "metadata": {},
   "outputs": [],
   "source": []
  }
 ],
 "metadata": {
  "kernelspec": {
   "display_name": "Python 3 (ipykernel)",
   "language": "python",
   "name": "python3"
  },
  "language_info": {
   "codemirror_mode": {
    "name": "ipython",
    "version": 3
   },
   "file_extension": ".py",
   "mimetype": "text/x-python",
   "name": "python",
   "nbconvert_exporter": "python",
   "pygments_lexer": "ipython3",
   "version": "3.9.12"
  },
  "latex_envs": {
   "LaTeX_envs_menu_present": true,
   "autoclose": true,
   "autocomplete": false,
   "bibliofile": "biblio.bib",
   "cite_by": "apalike",
   "current_citInitial": 1,
   "eqLabelWithNumbers": true,
   "eqNumInitial": 1,
   "hotkeys": {
    "equation": "Ctrl-E",
    "itemize": "Ctrl-I"
   },
   "labels_anchors": false,
   "latex_user_defs": false,
   "report_style_numbering": false,
   "user_envs_cfg": false
  }
 },
 "nbformat": 4,
 "nbformat_minor": 5
}
