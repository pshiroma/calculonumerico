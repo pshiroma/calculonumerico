{
 "cells": [
  {
   "cell_type": "markdown",
   "id": "8d061d0d",
   "metadata": {
    "slideshow": {
     "slide_type": "slide"
    }
   },
   "source": [
    "# Otimização"
   ]
  },
  {
   "cell_type": "markdown",
   "id": "7eab2422",
   "metadata": {
    "slideshow": {
     "slide_type": "fragment"
    }
   },
   "source": [
    "Em um sentido mais amplo, a otimização consiste em buscar a melhor solução possível para um determinado problema.\n",
    "\n",
    "Em diversos problemas de engenharia a otimização inicia pelo estágio da criação de um modelo matemático do sistema que deseja-se otimizar e, em seguida, a aplicação de técnicas matemáticas para maximizar ou minimizar uma função que caracteriza o objetivo ou o custo.\n",
    "\n",
    "O problema de otimização pode ser mais formalmente definido como:\n",
    "\n",
    "\\begin{equation} \n",
    "minimizar f(x), x \\in \\Omega\n",
    "\\end{equation}\n",
    "\n",
    "Outra formulação comum é quando queremos achar o máximo de uma função, ou então:\n",
    "\n",
    "\\begin{equation} \n",
    "maximizar f(x), x \\in \\Omega\n",
    "\\end{equation}\n",
    "\n",
    "O caso mais simples consiste quando a função que deseja-se otimizar é unidimensional.\n",
    "Neste caso, temos que $x \\in \\mathbb{R}$"
   ]
  },
  {
   "cell_type": "markdown",
   "id": "d9d68c86",
   "metadata": {
    "slideshow": {
     "slide_type": "fragment"
    }
   },
   "source": [
    "## Exemplo\n",
    "\n",
    "\n",
    "Por exemplo, suponha que desejamos projetar um recipiente cilíndrico capaz de armazenar **1L** de volume.\n",
    "Desejamos otimizar o custo de produção do recipiente.\n",
    "\n",
    "Podemos simplificar o problema e associar o custo de produção à quantidade de material utilizado.\n",
    "Desta forma, o problema transforma-se em saber quais as dimensões do cilindro que minimizam a quantidade de material utilizada.\n",
    "\n",
    "Sabendo que o volume é dado por:\n",
    "\n",
    "\\begin{equation} \\label{eq:otimizacao1}\n",
    "V = h\\pi r^2\n",
    "\\end{equation}\n",
    "\n",
    "enquanto que a área é dado pela soma da área da base, do topo e da lateral:\n",
    "\n",
    "$\n",
    "A(r,h) = \\pi r^2 + \\pi r^2 + 2\\pi r h\n",
    "$\n",
    "\n",
    "Então, substituindo o volume desejado na equação \\ref{eq:otimizacao1} podemos isolar o valor de $h$ e encontrar a equação:\n",
    "\n",
    "$\n",
    "A(r) = 2\\pi r^2 + 2/r\n",
    "$\n",
    "\n",
    "Chegamos então a formulação do nosso problema:\n",
    "\n",
    "\n",
    "\\begin{matrix}\n",
    "\\min & A(r), r \\in \\mathbb{R}^+\n",
    "\\end{matrix}\n",
    "\n",
    "\n",
    "Podemos então utilizar a função `minimize` para determinar o menor raio:"
   ]
  },
  {
   "cell_type": "code",
   "execution_count": 2,
   "id": "38260f88",
   "metadata": {
    "scrolled": true,
    "slideshow": {
     "slide_type": "fragment"
    }
   },
   "outputs": [
    {
     "data": {
      "text/plain": [
       "[<matplotlib.lines.Line2D at 0x23d8ea971f0>]"
      ]
     },
     "execution_count": 2,
     "metadata": {},
     "output_type": "execute_result"
    },
    {
     "data": {
      "image/png": "[encoded data removed]",
      "text/plain": [
       "<Figure size 432x288 with 1 Axes>"
      ]
     },
     "metadata": {
      "needs_background": "light"
     },
     "output_type": "display_data"
    }
   ],
   "source": [
    "import matplotlib.pyplot as plt\n",
    "import numpy as np\n",
    "from math import pi\n",
    "\n",
    "# funcao que calcula a area, baseado no raio\n",
    "def A(r):\n",
    "    return 2*pi*r**2 +2/r\n",
    "\n",
    "X = np.linspace(0.1, 2.0, 200)\n",
    "Y = A(X)\n",
    "\n",
    "plt.plot(X,Y)"
   ]
  },
  {
   "cell_type": "code",
   "execution_count": 4,
   "id": "5d674e2b",
   "metadata": {
    "slideshow": {
     "slide_type": "fragment"
    }
   },
   "outputs": [
    {
     "data": {
      "text/plain": [
       "      fun: 5.535810445932086\n",
       " hess_inv: array([[0.02653506]])\n",
       "      jac: array([5.96046448e-08])\n",
       "  message: 'Optimization terminated successfully.'\n",
       "     nfev: 22\n",
       "      nit: 8\n",
       "     njev: 11\n",
       "   status: 0\n",
       "  success: True\n",
       "        x: array([0.54192606])"
      ]
     },
     "execution_count": 4,
     "metadata": {},
     "output_type": "execute_result"
    }
   ],
   "source": [
    "import scipy.optimize as opt\n",
    "from math import pi\n",
    "\n",
    "#opt.minimize_scalar(A, bracket=[0.1, 10])\n",
    "opt.minimize(A, 0.1)"
   ]
  },
  {
   "cell_type": "markdown",
   "id": "c277e5dc",
   "metadata": {
    "slideshow": {
     "slide_type": "slide"
    }
   },
   "source": [
    "## Otimização - derivada"
   ]
  },
  {
   "cell_type": "markdown",
   "id": "72bf3360",
   "metadata": {
    "slideshow": {
     "slide_type": "fragment"
    }
   },
   "source": [
    "Lembre-se do cálculo que os pontos de elevação máxima e mínima correspondem, matematicamente, aos pontos onde a derivada da função é igual a zero.\n",
    "\n",
    "Desta forma, uma primeira abordagem baseado no cálculo é  calcular analiticamente a derivada da função que desejamos minimizar (ou maximizar) e, em seguida, determinar os zeros da derivada."
   ]
  },
  {
   "cell_type": "markdown",
   "id": "74bdc2a3",
   "metadata": {
    "slideshow": {
     "slide_type": "fragment"
    }
   },
   "source": [
    "### Exemplo"
   ]
  },
  {
   "cell_type": "markdown",
   "id": "e35b2622",
   "metadata": {
    "slideshow": {
     "slide_type": "fragment"
    }
   },
   "source": [
    "Suponha que em uma solução aquosa encontram-se dissolvidos íons $H^+$ e $OH^-$, de forma que suas concentrações obedeçam à relação $\\left[ H^+ \\right] \\left[ OH^- \\right] = 10^{-14}$.\n",
    "\n",
    "Determine qual a concentração de $H^+$ que minimiza a soma de $H^+ + OH^-$."
   ]
  },
  {
   "cell_type": "markdown",
   "id": "b32c0e4b",
   "metadata": {
    "slideshow": {
     "slide_type": "fragment"
    }
   },
   "source": [
    "A função que queremos minimizar é:\n",
    "\n",
    "\\begin{equation}\n",
    "f(H^+,OH^-) = \\left[H^+\\right] + \\left[OH^-\\right]\n",
    "\\end{equation}\n",
    "\n",
    "A partir da restrição fornecida, podemos substituir uma das concentrações e simplificar o problema para:\n",
    "\n",
    "\\begin{equation}\n",
    "f(H^+) = \\left[H^+\\right] + \\dfrac{10^{-14}}{\\left[H^+\\right]}\n",
    "\\end{equation}\n",
    "\n",
    "cuja derivada pode ser facilmente obtida em:\n",
    "\n",
    "\\begin{equation}\n",
    "f'(H^+) = 1 - \\dfrac{10^{-14}}{\\left[H^+\\right]^2}\n",
    "\\end{equation}\n",
    "\n",
    "Neste ponto, podemos utilizar qualquer uma das técnicas para encontrar o zero desta função.\n",
    "\n",
    "Por exemplo, resolvendo analiticamente obtemos o valor:\n",
    "\n",
    "$\n",
    "\\left[H^+\\right] = 10^{-7}\n",
    "$"
   ]
  },
  {
   "cell_type": "markdown",
   "id": "0ad4cc1b",
   "metadata": {
    "slideshow": {
     "slide_type": "slide"
    }
   },
   "source": [
    "## Otimização - abordagem numérica"
   ]
  },
  {
   "cell_type": "markdown",
   "id": "7d504c92",
   "metadata": {
    "slideshow": {
     "slide_type": "fragment"
    }
   },
   "source": [
    "Da mesma forma que vimos no problema de determinação de raízes, podemos encontrar um problema onde não seja possível determinar analiticamente a derivada de uma função.\n",
    "\n",
    "Neste caso, podemos utilizar um método numérico para determinar o máximo ou mínimo de uma função.\n",
    "\n",
    "No **método da razão áurea**, vamos, similarmente ao que foi feito na bissecção, buscar um subintervalo no qual o ótimo da função deve se encontrar.\n",
    "Supomos também que só existe um único ótimo no intervalo $(x_l, x_u)$\n",
    "\n",
    "Entretanto, ao invés de utilizarmos apenas 1 ponto, vamos utilizar 2 pontos interiores, calculados conforme seguem:\n",
    "\n",
    "\\begin{equation}\n",
    "x_1 = x_l + d\n",
    "\\end{equation}\n",
    "\n",
    "\\begin{equation}\n",
    "x_2 = x_u - d\n",
    "\\end{equation}\n",
    "\n",
    "onde\n",
    "\n",
    "\\begin{equation}\n",
    "d = (\\phi - 1)(x_u - x_l)\n",
    "\\end{equation}\n",
    "\n",
    "e $\\phi = \\frac{1+\\sqrt{5}}{2}$ é a razão áurea, originalmente descrita por Euclides. \n",
    "\n",
    "Em seguida, compara-se o valor da função nestes dois pontos determinando-se assim em qual subinvervalo o mínimo deve estar localizado.\n",
    "\n",
    "O teste a ser realizado é:\n",
    "\n",
    "se $f(x_1) < f(x_2)$ então deve-se buscar no intervalo da direita, definido por $(x_2, x_u)$.\n",
    "\n",
    "se $f(x_2) < f(x_1)$ então deve-se buscar no intervalo da esquerda, definido por $(x_l, x_1)$.\n"
   ]
  },
  {
   "cell_type": "markdown",
   "id": "6b2b1697",
   "metadata": {
    "slideshow": {
     "slide_type": "fragment"
    }
   },
   "source": [
    "<div>\n",
    "<img src=\"figuras/otimizacao_razaoaurea.svg\" width=\"400\"/>\n",
    "</div>"
   ]
  },
  {
   "cell_type": "code",
   "execution_count": 137,
   "id": "d55f2efa",
   "metadata": {
    "slideshow": {
     "slide_type": "fragment"
    }
   },
   "outputs": [],
   "source": [
    "from numpy import sin\n",
    "import math as m\n",
    "\n",
    "def funcao(x):\n",
    "    return x**2/10 - 2*sin(x)\n",
    "\n",
    "def otimizacao_aurea_ingenua(f, xl, xu, eps):\n",
    "    erro = abs(xu - xl)/2\n",
    "    phi = (1+m.sqrt(5))/2\n",
    "    while erro > eps:\n",
    "        d = (phi - 1)*(xu - xl)\n",
    "        x1 = xl + d\n",
    "        x2 = xu - d\n",
    "        if f(x1) < f(x2):\n",
    "            xl = x2\n",
    "            xmin = x2\n",
    "        else:\n",
    "            xu = x1\n",
    "            xmin = x1\n",
    "        erro = abs(xu - xl)/2\n",
    "        print(erro)\n",
    "    return xmin"
   ]
  },
  {
   "cell_type": "code",
   "execution_count": 138,
   "id": "cf2fef6d",
   "metadata": {
    "slideshow": {
     "slide_type": "fragment"
    }
   },
   "outputs": [
    {
     "name": "stdout",
     "output_type": "stream",
     "text": [
      "1.2360679774997898\n",
      "0.7639320225002104\n",
      "0.4721359549995795\n",
      "0.29179606750063103\n",
      "0.18033988749894858\n",
      "0.11145618000168256\n",
      "0.06888370749726613\n",
      "0.042572472504416425\n",
      "0.026311234992849708\n",
      "0.016261237511566717\n",
      "0.01004999748128299\n",
      "0.006211240030283727\n",
      "0.003838757450999264\n",
      "0.002372482579284463\n",
      "0.001466274871714801\n",
      "0.0009062077075696617\n"
     ]
    },
    {
     "data": {
      "text/plain": [
       "1.4266717891007419"
      ]
     },
     "execution_count": 138,
     "metadata": {},
     "output_type": "execute_result"
    }
   ],
   "source": [
    "otimizacao_aurea_ingenua(funcao, 0, 4, 0.001)"
   ]
  },
  {
   "cell_type": "code",
   "execution_count": 5,
   "id": "656284fb",
   "metadata": {
    "slideshow": {
     "slide_type": "fragment"
    }
   },
   "outputs": [
    {
     "name": "stdout",
     "output_type": "stream",
     "text": [
      "Minimize scalar:\n",
      "      fun: -1.7757256531474153\n",
      "    nfev: 14\n",
      "     nit: 10\n",
      " success: True\n",
      "       x: 1.427551781310228\n",
      "\n",
      "Minimize:\n",
      "       fun: -1.775725653147415\n",
      " hess_inv: array([[0.45885959]])\n",
      "      jac: array([0.])\n",
      "  message: 'Optimization terminated successfully.'\n",
      "     nfev: 14\n",
      "      nit: 6\n",
      "     njev: 7\n",
      "   status: 0\n",
      "  success: True\n",
      "        x: array([1.42755177])\n"
     ]
    }
   ],
   "source": [
    "import scipy.optimize as opt\n",
    "\n",
    "sol = opt.minimize_scalar(funcao, bracket=[0,4])\n",
    "print('Minimize scalar:\\n',sol)\n",
    "\n",
    "sol = opt.minimize(funcao, 0)\n",
    "print('\\nMinimize:\\n', sol)"
   ]
  },
  {
   "cell_type": "code",
   "execution_count": null,
   "id": "13b175ea",
   "metadata": {
    "slideshow": {
     "slide_type": "-"
    }
   },
   "outputs": [],
   "source": []
  },
  {
   "cell_type": "code",
   "execution_count": null,
   "id": "02fbdcc4",
   "metadata": {
    "slideshow": {
     "slide_type": "-"
    }
   },
   "outputs": [],
   "source": []
  },
  {
   "cell_type": "markdown",
   "id": "dd0b5dfd",
   "metadata": {
    "slideshow": {
     "slide_type": "slide"
    }
   },
   "source": [
    "## Gradiente"
   ]
  },
  {
   "cell_type": "markdown",
   "id": "32d92d6b",
   "metadata": {
    "slideshow": {
     "slide_type": "fragment"
    }
   },
   "source": [
    "Existem diversas formas de resolver o problema de otimização no caso de funções multidimensionais.\n",
    "\n",
    "Uma família delas baseia-se na derivada da função e, de forma parecida com o método de Newton, utilizamos a derivada multidimensional (mais conhecido como **gradiente**) para indicar a direção que deverá ser percorrida.\n",
    "\n",
    "O algoritmo busca, em cada iteração, a direção com maior declividade, e caminha um passo nesta direção.\n",
    "Em seguida, realiza os mesmos cálculos para o próximo passo.\n",
    "O comportamento observado é o de uma esfera descendo por um vale.\n",
    "\n",
    "Matematicamente, podemos definir o algoritmo da seguinte forma:\n",
    "\n",
    "Dado uma função $f = f(x_1, x_2, \\ldots, x_n)$, o gradiente dela é definido como:\n",
    "\n",
    "\\begin{equation}\n",
    "\\nabla f = \\begin{bmatrix}\n",
    "\\dfrac{\\partial f}{\\partial x_1} \\ldots \\dfrac{\\partial f}{\\partial x_n} \n",
    "\\end{bmatrix}\n",
    "\\end{equation}\n",
    "\n",
    "O algoritmo baseado na descida do gradiente busca, em cada instante, caminhar um passo de tamanho $\\gamma$ na direção de maior declividade, atualizando sua posição conforme a equação:\n",
    "\n",
    "\\begin{equation}\n",
    "x_{i+1} = x_i - \\gamma \\nabla f(x_i)\n",
    "\\end{equation}"
   ]
  },
  {
   "cell_type": "markdown",
   "id": "9e3a437d",
   "metadata": {
    "slideshow": {
     "slide_type": "fragment"
    }
   },
   "source": [
    "Exemplo:\n",
    "\n",
    "Considere a função \n",
    "\n",
    "$\n",
    "f(x_1, x_2) = 2 + x_1 - x_2 + 2x_1^2 + 2x_1x_2 + x_2^2\n",
    "$\n",
    "\n",
    "cujo gradiente é dado por:\n",
    "\n",
    "$\n",
    "\\nabla(x_1, x_2) = \\begin{bmatrix}1 + 4x_1 + 2x_2 &,& -1 +2x_1 +2x_2 \\end{bmatrix}\n",
    "$\n"
   ]
  },
  {
   "cell_type": "code",
   "execution_count": 13,
   "id": "7f2805ba",
   "metadata": {
    "slideshow": {
     "slide_type": "fragment"
    }
   },
   "outputs": [
    {
     "data": {
      "text/plain": [
       "      fun: 0.75\n",
       " hess_inv: array([[ 0.5, -0.5],\n",
       "       [-0.5,  1. ]])\n",
       "      jac: array([0., 0.])\n",
       "  message: 'Optimization terminated successfully.'\n",
       "     nfev: 6\n",
       "      nit: 4\n",
       "     njev: 6\n",
       "   status: 0\n",
       "  success: True\n",
       "        x: array([-1. ,  1.5])"
      ]
     },
     "execution_count": 13,
     "metadata": {},
     "output_type": "execute_result"
    }
   ],
   "source": [
    "import scipy.optimize as opt\n",
    "\n",
    "def f(X):\n",
    "    # 2 + x1 - x2 +2x1^2 + 2x1x2 + x2^2\n",
    "    return 2 + X[0] - X[1] + 2*X[0]**2 +2*X[0]*X[1] + X[1]**2\n",
    "    \n",
    "def jacobiano(X):\n",
    "    # [1 + 4x1 +2x2 ; -1 + 2x1 + 2x2]\n",
    "    j11 = 1 + 4*X[0] + 2*X[1]\n",
    "    j12 = -1 +2*X[0] +2*X[1]\n",
    "    return [j11, j12]\n",
    "\n",
    "opt.minimize(f, x0=[0,0], jac=jacobiano)"
   ]
  },
  {
   "cell_type": "code",
   "execution_count": 14,
   "id": "f1f442e4",
   "metadata": {
    "slideshow": {
     "slide_type": "fragment"
    }
   },
   "outputs": [
    {
     "name": "stdout",
     "output_type": "stream",
     "text": [
      "[-1.   1.5]\n"
     ]
    }
   ],
   "source": [
    "def otimizacao_gradiente(f, j, x0, step, n):\n",
    "    xi = x0\n",
    "    X = []\n",
    "    Y = []\n",
    "    for i in range(n):\n",
    "        xi = xi - step*np.array(j(xi))\n",
    "        X.append(xi[0])\n",
    "        Y.append(xi[1])\n",
    "    return xi, X, Y\n",
    "\n",
    "x, Xgrad,Ygrad = otimizacao_gradiente(f,jacobiano, [1.5,2.5], 0.1, 500)\n",
    "print(x)"
   ]
  },
  {
   "cell_type": "code",
   "execution_count": 24,
   "id": "fc0f430e",
   "metadata": {
    "slideshow": {
     "slide_type": "fragment"
    }
   },
   "outputs": [
    {
     "data": {
      "text/plain": [
       "[<matplotlib.lines.Line2D at 0x1cbae965e20>]"
      ]
     },
     "execution_count": 24,
     "metadata": {},
     "output_type": "execute_result"
    },
    {
     "data": {
      "image/png": "[encoded data removed]",
      "text/plain": [
       "<Figure size 432x288 with 1 Axes>"
      ]
     },
     "metadata": {
      "needs_background": "light"
     },
     "output_type": "display_data"
    }
   ],
   "source": [
    "import matplotlib.pyplot as plt\n",
    "import numpy as np\n",
    "\n",
    "amostras = 20\n",
    "XL = np.linspace(-2.0, 0.0, amostras)\n",
    "YL = np.linspace(0.0, 3.0, amostras)\n",
    "\n",
    "Z = np.empty([amostras,amostras])\n",
    "for ix,x in enumerate(XL):\n",
    "    for iy,y in enumerate(YL):\n",
    "        Z[ix,iy] = f([x,y])\n",
    "\n",
    "plt.contour(XL, YL, Z)\n",
    "plt.plot(Xgrad,Ygrad)"
   ]
  },
  {
   "cell_type": "markdown",
   "id": "5261b2a9",
   "metadata": {
    "slideshow": {
     "slide_type": "slide"
    }
   },
   "source": [
    "## Exemplo 1"
   ]
  },
  {
   "cell_type": "markdown",
   "id": "b907a76e",
   "metadata": {
    "slideshow": {
     "slide_type": "fragment"
    }
   },
   "source": [
    "[CHAPRA, Ex. 7.26] A taxa de crescimento específico de uma cultura que produz um antibiótico é uma função da concentração de alimento $c$:\n",
    "\n",
    "\\begin{equation}\n",
    "g = \\dfrac{2c}{4 + 0,8c + c^2 +0,2c^3}\n",
    "\\end{equation}\n",
    "\n",
    "O crescimento tende a zero em concentrações muito baixas em decorrência da limitação de alimentos, e também tende a zero em concentrações muito altas por causa do efeito de toxidade.\n",
    "Encontre o valor no qual o crescimento é maximo."
   ]
  },
  {
   "cell_type": "markdown",
   "id": "024ba9f7",
   "metadata": {
    "slideshow": {
     "slide_type": "fragment"
    }
   },
   "source": [
    "<img src=\"figuras/otimizacao_ex7_26.svg\" width=\"500\"/>"
   ]
  },
  {
   "cell_type": "code",
   "execution_count": 27,
   "id": "1db0285f",
   "metadata": {
    "slideshow": {
     "slide_type": "-"
    }
   },
   "outputs": [
    {
     "data": {
      "text/plain": [
       "      fun: -0.36963485225217874\n",
       " hess_inv: array([[5.87061889]])\n",
       "      jac: array([-1.56462193e-07])\n",
       "  message: 'Optimization terminated successfully.'\n",
       "     nfev: 12\n",
       "      nit: 5\n",
       "     njev: 6\n",
       "   status: 0\n",
       "  success: True\n",
       "        x: array([1.56788847])"
      ]
     },
     "execution_count": 27,
     "metadata": {},
     "output_type": "execute_result"
    }
   ],
   "source": [
    "import scipy.optimize as opt\n",
    "def g(c):\n",
    "    return -2*c/(4 + 0.8*c + c**2 + 0.2*c**3)\n",
    "\n",
    "opt.minimize(g, 0)"
   ]
  },
  {
   "cell_type": "markdown",
   "id": "49f635cb",
   "metadata": {
    "slideshow": {
     "slide_type": "fragment"
    }
   },
   "source": [
    "## Exemplo 2"
   ]
  },
  {
   "cell_type": "markdown",
   "id": "4622b641",
   "metadata": {
    "slideshow": {
     "slide_type": "fragment"
    }
   },
   "source": [
    "Um fazendeiro deseja cercar uma área de sua região usando um formato retangular.\n",
    "Uma das laterais faz fronteira com um área previamente cercada, de forma que ele não precisará gastar material neste lado.\n",
    "Supondo que ele possui 100m de cerca, quais as dimensões que **maximizam** a área cercada?"
   ]
  },
  {
   "cell_type": "code",
   "execution_count": 26,
   "id": "09439dd3",
   "metadata": {
    "slideshow": {
     "slide_type": "-"
    }
   },
   "outputs": [
    {
     "name": "stdout",
     "output_type": "stream",
     "text": [
      "      fun: -1250.0\n",
      " hess_inv: array([[0.16666656]])\n",
      "      jac: array([0.])\n",
      "  message: 'Optimization terminated successfully.'\n",
      "     nfev: 16\n",
      "      nit: 5\n",
      "     njev: 8\n",
      "   status: 0\n",
      "  success: True\n",
      "        x: array([25.0000001])\n",
      "[25.0000001] [49.99999981]\n"
     ]
    }
   ],
   "source": [
    "def area(c):\n",
    "    return -c*(100-2*c)\n",
    "\n",
    "sol = opt.minimize(area,1)\n",
    "print(sol)\n",
    "c = sol.x\n",
    "l = 100 - 2*c\n",
    "print(c,l)"
   ]
  },
  {
   "cell_type": "markdown",
   "id": "f408658d",
   "metadata": {
    "slideshow": {
     "slide_type": "fragment"
    }
   },
   "source": [
    "## Exemplo 3"
   ]
  },
  {
   "cell_type": "markdown",
   "id": "0336a31d",
   "metadata": {
    "slideshow": {
     "slide_type": "fragment"
    }
   },
   "source": [
    "Observe o gráfico das curvas de nível para a função \n",
    "\\begin{equation}\n",
    "f(x_1, x_2) = (x_1 - 1)^2 + (x_2 - 3)^2 - 2\n",
    "\\end{equation}"
   ]
  },
  {
   "cell_type": "code",
   "execution_count": 29,
   "id": "f8b61a54",
   "metadata": {
    "slideshow": {
     "slide_type": "fragment"
    }
   },
   "outputs": [
    {
     "data": {
      "text/plain": [
       "<matplotlib.contour.QuadContourSet at 0x1cbaeb2c190>"
      ]
     },
     "execution_count": 29,
     "metadata": {},
     "output_type": "execute_result"
    },
    {
     "data": {
      "image/png": "[encoded data removed]",
      "text/plain": [
       "<Figure size 432x288 with 1 Axes>"
      ]
     },
     "metadata": {
      "needs_background": "light"
     },
     "output_type": "display_data"
    }
   ],
   "source": [
    "import numpy as np\n",
    "\n",
    "# definindo a funcao f(x,y)\n",
    "def f(X):\n",
    "    return (X[0] - 1)**2 + (X[1] - 3)**2 - 2\n",
    "\n",
    "amostras = 100\n",
    "XX = np.linspace(-8.0, 10.0, amostras) # definindo o intervalo em x\n",
    "YY = np.linspace(-3.0, 6.0, amostras) # definindo o intervalo em y\n",
    "ZZ = [ f([x,y]) for x in XX for y in YY ] # calculando o valor de f(x,y)\n",
    "ZZ = np.reshape(ZZ, (amostras, amostras)).T # redimensionando em forma de matriz\n",
    "\n",
    "plt.contour(XX, YY, ZZ)"
   ]
  },
  {
   "cell_type": "markdown",
   "id": "b989e4a7",
   "metadata": {
    "slideshow": {
     "slide_type": "fragment"
    }
   },
   "source": [
    "* Esta função apresenta um máximo ou mínimo na região destacada?\n",
    "* Qual o ponto onde isto ocorre?\n",
    "* Crie uma função que calcule o gradiente de f(x,y)\n",
    "* Determine o mínimo utilizando a função `minimize`"
   ]
  },
  {
   "cell_type": "code",
   "execution_count": 46,
   "id": "62982967",
   "metadata": {
    "slideshow": {
     "slide_type": "-"
    }
   },
   "outputs": [
    {
     "data": {
      "text/plain": [
       "      fun: -2.0\n",
       " hess_inv: array([[ 0.95, -0.15],\n",
       "       [-0.15,  0.55]])\n",
       "      jac: array([ 0.0000000e+00, -8.8817842e-16])\n",
       "  message: 'Optimization terminated successfully.'\n",
       "     nfev: 3\n",
       "      nit: 2\n",
       "     njev: 3\n",
       "   status: 0\n",
       "  success: True\n",
       "        x: array([1., 3.])"
      ]
     },
     "execution_count": 46,
     "metadata": {},
     "output_type": "execute_result"
    }
   ],
   "source": [
    "def f(X):\n",
    "    return (X[0] - 1)**2 + (X[1] - 3)**2 - 2\n",
    "\n",
    "def grad(X):\n",
    "    return [2*X[0]-2, 2*X[1]-6]\n",
    "\n",
    "opt.minimize(f, [0,0], jac=grad)"
   ]
  },
  {
   "cell_type": "code",
   "execution_count": null,
   "id": "466b3d62",
   "metadata": {
    "slideshow": {
     "slide_type": "-"
    }
   },
   "outputs": [],
   "source": []
  },
  {
   "cell_type": "markdown",
   "id": "0c496dd3",
   "metadata": {
    "slideshow": {
     "slide_type": "slide"
    }
   },
   "source": [
    "## Programação linear"
   ]
  },
  {
   "cell_type": "markdown",
   "id": "5e1354b7",
   "metadata": {
    "slideshow": {
     "slide_type": "fragment"
    }
   },
   "source": [
    "Uma formulação comum nos problemas de otimização é chamado de programação linear.\n",
    "\n",
    "Nestes casos, o problema é sujeito a restrições lineares, tal que ele pode ser descrito como:\n",
    "\n",
    "\\begin{array}{ll@{}}\n",
    "min & \\sum c_i x_i \\\\\n",
    "\\text{sujeito à:} & A_lx \\leq b_l \\\\\n",
    "& A_ex = b_e \\\\\n",
    "& l \\leq x \\leq u\n",
    "\\end{array}\n",
    "\n",
    "onde \n",
    "$\\sum c_i x_i$ é a chamada função objetivo que desejamos minimizar, $x_i$ é o vetor contendo as variáveis de decisão, $A_e$, $b_e$, $A_l$, $b_l$, $l$ e $u$ são matrizes ou vetores que modelam as restrições lineares do problema."
   ]
  },
  {
   "cell_type": "markdown",
   "id": "f5b0d1cd",
   "metadata": {
    "slideshow": {
     "slide_type": "fragment"
    }
   },
   "source": [
    "### Exemplo: \n",
    "\n",
    "Uma empresa possui 2 fábricas localizadas nas cidades $A$ e $B$.\n",
    "Ela possui 2 fornecedores para suas fábricas: $X$ e $Y$.\n",
    "\n",
    "A quantidade máxima de insumos que eles podem disponibilizar são dados na tabela abaixo:\n",
    "\n",
    "| X | Y | \n",
    "| --- | --- |\n",
    "| 70 | 120 |\n",
    "\n",
    "O custo de transporte de cada fornecedor é dado pela tabela a seguir:\n",
    "\n",
    "|  | X   | Y   |\n",
    "|------|------|------|\n",
    "|   A  | 70 | 150 |\n",
    "|   B  | 100 | 110 |\n",
    "\n",
    "Além disso, as fábricas necessitam das seguintes quantidades de insumo para funcionar:\n",
    "\n",
    "| $A$ | $B$ |\n",
    "| --- | --- |\n",
    "| 80 | 100 |"
   ]
  },
  {
   "cell_type": "markdown",
   "id": "cccd2dc5",
   "metadata": {
    "slideshow": {
     "slide_type": "fragment"
    }
   },
   "source": [
    "A variável de decisão que temos neste problema refere-se à quantidade de insumos que devem ser transportados de cada fornecedor para cada uma das fábricas.\n",
    "\n",
    "Ou seja, $x = \\begin{bmatrix} X_A \\\\ X_B \\\\ Y_A \\\\ Y_B  \\end{bmatrix}$,\n",
    "\n",
    "onde, por exemplo, $X_A$ refere-se à quantidade de insumos adquiridos no fornecedor $X$ e enviados para a fábrica $A$.\n",
    "\n",
    "O custo será dado por:\n",
    "\n",
    "\\begin{aligned}\n",
    "c &= 70 \\cdot X_A + 100 \\cdot X_B + 150\\cdot Y_A+110\\cdot Y_B \\\\\n",
    "  &= \\begin{bmatrix} 70 & 100 & 150 & 110 \\end{bmatrix} x\n",
    "\\end{aligned}\n",
    "\n",
    "A quantidade máxima de insumos que eles podem fornecer pode ser representado por meio de:\n",
    "\n",
    "$\n",
    "\\begin{bmatrix}\n",
    "1 & 1 & 0 & 0    \\\\\n",
    "0 & 0 & 1 & 1    \\\\\n",
    "0 & 0 & 0 & 0   \\\\\n",
    "0 & 0 & 0 & 0   \n",
    "\\end{bmatrix}\\begin{bmatrix} X_A \\\\ X_B \\\\ Y_A \\\\ Y_B  \\end{bmatrix}\n",
    "\\leq\n",
    "\\begin{bmatrix} 70 \\\\ 120 \\\\ 0 \\\\ 0  \\end{bmatrix}\n",
    "$\n",
    "\n",
    "e o requisito das fábricas pode ser modelado como:\n",
    "\n",
    "$\n",
    "\\begin{bmatrix}\n",
    "1 & 0 & 1 & 0   \\\\\n",
    "0 & 1 & 0 & 1   \\\\\n",
    "0 & 0 & 0 & 0   \\\\\n",
    "0 & 0 & 0 & 0   \\\\\n",
    "\\end{bmatrix}\\begin{bmatrix} X_A \\\\ X_B \\\\ Y_A \\\\ Y_B  \\end{bmatrix}\n",
    "=\n",
    "\\begin{bmatrix} 80 \\\\ 100 \\\\ 0 \\\\ 0  \\end{bmatrix}\n",
    "$"
   ]
  },
  {
   "cell_type": "code",
   "execution_count": 139,
   "id": "565ada53",
   "metadata": {
    "slideshow": {
     "slide_type": "fragment"
    }
   },
   "outputs": [
    {
     "data": {
      "text/plain": [
       "     con: array([6.80201566e-07, 8.54629334e-07, 0.00000000e+00, 0.00000000e+00])\n",
       "     fun: 17399.999850848995\n",
       " message: 'Optimization terminated successfully.'\n",
       "     nit: 5\n",
       "   slack: array([5.84546328e-07, 1.00000010e+01, 0.00000000e+00, 0.00000000e+00])\n",
       "  status: 0\n",
       " success: True\n",
       "       x: array([6.99999994e+01, 1.78216736e-09, 9.99999991e+00, 9.99999991e+01])"
      ]
     },
     "execution_count": 139,
     "metadata": {},
     "output_type": "execute_result"
    }
   ],
   "source": [
    "import scipy.optimize as opt\n",
    "c = np.array([70, 100, 150, 110])\n",
    "Aub = np.array([[1 , 1, 0, 0], [0, 0, 1, 1], [0, 0, 0, 0], [0, 0, 0, 0]])\n",
    "bub = np.array([70, 120, 0, 0])\n",
    "Aeq = np.array([[1 , 0, 1, 0], [0, 1, 0, 1], [0, 0, 0, 0], [0, 0, 0, 0]])\n",
    "beq = np.array([80, 100, 0, 0])\n",
    "opt.linprog(c, A_ub=Aub, b_ub=bub, A_eq=Aeq, b_eq=beq)"
   ]
  },
  {
   "cell_type": "markdown",
   "id": "935109ae",
   "metadata": {
    "slideshow": {
     "slide_type": "fragment"
    }
   },
   "source": [
    "## Exemplo 4"
   ]
  },
  {
   "cell_type": "markdown",
   "id": "c211da8e",
   "metadata": {
    "slideshow": {
     "slide_type": "fragment"
    }
   },
   "source": [
    "Suponha que um sítio precise alimentar suas galinhas.\n",
    "Ela pode utilizar 3 tipos de ração (A, B e C), e o custo de cada um é R\\\\$6,00 e R\\\\$9,00  e R\\\\$12,00 respectivamente.\n",
    "As galinhas necessitam de uma porção mínima de 3g de proteína e 5g de cálcio.\n",
    "A ração A provê 0,2g/un de proteína e 0,4g/un de cálcio, a ração B provê 0,6 de proteína e 0,6 de cálcio, enquanto que a ração C provê 0,7 de proteína e 0,8 de cálcio.\n",
    "\n",
    "Qual a melhor forma de misturar as rações para atingir o balanço nutricional desejado com menor custo possível?"
   ]
  },
  {
   "cell_type": "markdown",
   "id": "98e2b54f",
   "metadata": {
    "slideshow": {
     "slide_type": "fragment"
    }
   },
   "source": [
    "As variáveis de decisão serão: \n",
    "\n",
    "* $x_1$: quantidade de ração A\n",
    "* $x_2$: quantidade de ração B\n",
    "* $x_3$: quantidade de ração C\n",
    "\n",
    "E o problema pode ser formulado como:\n",
    "\n",
    "\\begin{array}{ll@{}}\n",
    "min &\n",
    "\\begin{bmatrix}\n",
    "6 & 9 & 12\n",
    "\\end{bmatrix} \n",
    "\\begin{bmatrix}\n",
    "x_1 \\\\ x_2 \\\\ x_3\n",
    "\\end{bmatrix} \n",
    "\\\\\n",
    "\\text{sujeito à:} & \n",
    "\\begin{bmatrix}\n",
    "0,2 & 0,6 & 0,7 \\\\\n",
    "0,4 & 0,6 & 0,8\n",
    "\\end{bmatrix}\n",
    "\\begin{bmatrix}\n",
    "x_1 \\\\ x_2 \\\\ x_3\n",
    "\\end{bmatrix}\n",
    "\\geq \n",
    "\\begin{bmatrix}\n",
    "3 \\\\ 5\n",
    "\\end{bmatrix}\n",
    "\\end{array}\n"
   ]
  },
  {
   "cell_type": "code",
   "execution_count": 48,
   "id": "f1d7d358",
   "metadata": {
    "slideshow": {
     "slide_type": "-"
    }
   },
   "outputs": [
    {
     "data": {
      "text/plain": [
       "     con: array([], dtype=float64)\n",
       "     fun: 74.99999998494948\n",
       " message: 'Optimization terminated successfully.'\n",
       "     nit: 4\n",
       "   slack: array([ 1.22926938e+00, -1.00336717e-09])\n",
       "  status: 0\n",
       " success: True\n",
       "       x: array([2.47516373, 3.00725248, 2.75697877])"
      ]
     },
     "execution_count": 48,
     "metadata": {},
     "output_type": "execute_result"
    }
   ],
   "source": [
    "c = np.array([6,9,12])\n",
    "A = -np.array([[0.2, 0.6, 0.7] , [0.4, 0.6, 0.8]])\n",
    "b = -np.array([3,5])\n",
    "opt.linprog(c, A, b)"
   ]
  },
  {
   "cell_type": "markdown",
   "id": "c45be87f",
   "metadata": {
    "slideshow": {
     "slide_type": "fragment"
    }
   },
   "source": [
    "## Exemplo 5"
   ]
  },
  {
   "cell_type": "markdown",
   "id": "5708def7",
   "metadata": {
    "slideshow": {
     "slide_type": "fragment"
    }
   },
   "source": [
    "Uma empresa fabrica dois produtos: A e B.\n",
    "O produto A é vendido por R\\\\$ 10,00 e o produto B por R\\\\$ 7,00\n",
    "\n",
    "Para fabricar uma unidade do produto A são utilizados 5 horas de máquina e 10 horas de mão de obra, enquanto o produto B requer 4 horas de máquina e 2 horas de mão de obra.\n",
    "\n",
    "A máquina pode ser utilizada por no máximo por 200 horas por mês, enquanto a quantidade de mão de obra disponível é de 250 horas.\n",
    "\n",
    "Determine a quantidade de produtos A e B que maximizam a receita da empresa"
   ]
  },
  {
   "cell_type": "markdown",
   "id": "d353af4b",
   "metadata": {
    "slideshow": {
     "slide_type": "fragment"
    }
   },
   "source": [
    "\\begin{array}{ll@{}}\n",
    "min & \\sum c_i x_i \\\\\n",
    "\\text{sujeito à:} & A_lx \\leq b_l \\\\\n",
    "& A_ex = b_e \\\\\n",
    "& l \\leq x \\leq u\n",
    "\\end{array}"
   ]
  },
  {
   "cell_type": "code",
   "execution_count": 50,
   "id": "6fb8a4d3",
   "metadata": {
    "scrolled": true,
    "slideshow": {
     "slide_type": "-"
    }
   },
   "outputs": [
    {
     "data": {
      "text/plain": [
       "     con: array([], dtype=float64)\n",
       "     fun: -374.9999667070197\n",
       " message: 'Optimization terminated successfully.'\n",
       "     nit: 4\n",
       "   slack: array([1.65141795e-05, 3.46160864e-05])\n",
       "  status: 0\n",
       " success: True\n",
       "       x: array([19.99999649, 25.00000026])"
      ]
     },
     "execution_count": 50,
     "metadata": {},
     "output_type": "execute_result"
    }
   ],
   "source": [
    "c = -np.array([10,7])\n",
    "A = np.array([[5, 4], [10, 2]])\n",
    "b = np.array([200,250])\n",
    "opt.linprog(c, A, b)"
   ]
  }
 ],
 "metadata": {
  "celltoolbar": "Slideshow",
  "kernelspec": {
   "display_name": "Python 3 (ipykernel)",
   "language": "python",
   "name": "python3"
  },
  "language_info": {
   "codemirror_mode": {
    "name": "ipython",
    "version": 3
   },
   "file_extension": ".py",
   "mimetype": "text/x-python",
   "name": "python",
   "nbconvert_exporter": "python",
   "pygments_lexer": "ipython3",
   "version": "3.9.12"
  },
  "latex_envs": {
   "LaTeX_envs_menu_present": true,
   "autoclose": true,
   "autocomplete": false,
   "bibliofile": "biblio.bib",
   "cite_by": "apalike",
   "current_citInitial": 1,
   "eqLabelWithNumbers": true,
   "eqNumInitial": 1,
   "hotkeys": {
    "equation": "Ctrl-E",
    "itemize": "Ctrl-I"
   },
   "labels_anchors": false,
   "latex_user_defs": false,
   "report_style_numbering": false,
   "user_envs_cfg": false
  },
  "widgets": {
   "application/vnd.jupyter.widget-state+json": {
    "state": {
     "0d6023942d074840b4cd32593a04d6a4": {
      "model_module": "@jupyter-widgets/base",
      "model_module_version": "1.2.0",
      "model_name": "LayoutModel",
      "state": {}
     },
     "16d2ae7dfd23496ab99bcb937322cc69": {
      "model_module": "jupyter-matplotlib",
      "model_module_version": "^0.11",
      "model_name": "ToolbarModel",
      "state": {
       "_model_module_version": "^0.11",
       "_view_module_version": "^0.11",
       "collapsed": true,
       "layout": "IPY_MODEL_50cb6758eb2f4408989e0f4bfb89e2fb",
       "orientation": "vertical",
       "toolitems": [
        [
         "Home",
         "Reset original view",
         "home",
         "home"
        ],
        [
         "Back",
         "Back to previous view",
         "arrow-left",
         "back"
        ],
        [
         "Forward",
         "Forward to next view",
         "arrow-right",
         "forward"
        ],
        [
         "Pan",
         "Left button pans, Right button zooms\nx/y fixes axis, CTRL fixes aspect",
         "arrows",
         "pan"
        ],
        [
         "Zoom",
         "Zoom to rectangle\nx/y fixes axis",
         "square-o",
         "zoom"
        ],
        [
         "Download",
         "Download plot",
         "floppy-o",
         "save_figure"
        ]
       ]
      }
     },
     "195b117966414b1cb899bb648dc38c9c": {
      "model_module": "jupyter-matplotlib",
      "model_module_version": "^0.11",
      "model_name": "ToolbarModel",
      "state": {
       "_model_module_version": "^0.11",
       "_view_module_version": "^0.11",
       "collapsed": true,
       "layout": "IPY_MODEL_ef11d7895cd142d2a8696f3f7e00eb3c",
       "orientation": "vertical",
       "toolitems": [
        [
         "Home",
         "Reset original view",
         "home",
         "home"
        ],
        [
         "Back",
         "Back to previous view",
         "arrow-left",
         "back"
        ],
        [
         "Forward",
         "Forward to next view",
         "arrow-right",
         "forward"
        ],
        [
         "Pan",
         "Left button pans, Right button zooms\nx/y fixes axis, CTRL fixes aspect",
         "arrows",
         "pan"
        ],
        [
         "Zoom",
         "Zoom to rectangle\nx/y fixes axis",
         "square-o",
         "zoom"
        ],
        [
         "Download",
         "Download plot",
         "floppy-o",
         "save_figure"
        ]
       ]
      }
     },
     "50cb6758eb2f4408989e0f4bfb89e2fb": {
      "model_module": "@jupyter-widgets/base",
      "model_module_version": "1.2.0",
      "model_name": "LayoutModel",
      "state": {}
     },
     "ef11d7895cd142d2a8696f3f7e00eb3c": {
      "model_module": "@jupyter-widgets/base",
      "model_module_version": "1.2.0",
      "model_name": "LayoutModel",
      "state": {}
     }
    },
    "version_major": 2,
    "version_minor": 0
   }
  }
 },
 "nbformat": 4,
 "nbformat_minor": 5
}
