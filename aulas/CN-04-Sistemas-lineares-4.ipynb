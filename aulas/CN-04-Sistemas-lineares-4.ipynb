{
 "cells": [
  {
   "cell_type": "markdown",
   "id": "ea47d4d1",
   "metadata": {
    "slideshow": {
     "slide_type": "slide"
    }
   },
   "source": [
    "# Sistemas lineares e não-lineares\n",
    "\n",
    "* Sistema não-linear x zero de função\n",
    "* Métodos iterativos (Gauss-Seidel)\n",
    "* Newton (Jacobiano)"
   ]
  },
  {
   "cell_type": "markdown",
   "id": "f0e5b64a",
   "metadata": {
    "slideshow": {
     "slide_type": "slide"
    }
   },
   "source": [
    "# Sistema não-linear e zeros de  funções\n",
    "\n",
    "Um sistema não-linear é aquela que não pode ser escrita como $ax_1 + bx_2 + cx_3 + \\ldots = d$.\n",
    "\n",
    "Ou seja, qualquer sistema que possua uma expressão do tipo $x^2$,$x\\cdot y$, $\\sin{(x)}$, $e^x$, etc é chamado de não-linear.\n",
    "\n",
    "Uma forma de resolver um sistema não-linear é transformá-lo no problema de determinar o zero de um sistema de funções:"
   ]
  },
  {
   "cell_type": "markdown",
   "id": "266b2849",
   "metadata": {
    "slideshow": {
     "slide_type": "fragment"
    }
   },
   "source": [
    "## Exemplo\n",
    "\n",
    "Vamos resolver o sistema de equações **não-lineares**:\n",
    "\n",
    "$\n",
    "\\left{\n",
    "\\begin{aligned}\n",
    "x^2 + xy &= 10 \\\\\n",
    "y + 3xy^2 &= 57\n",
    "\\end{aligned}\n",
    "\\right.\n",
    "$\n",
    "\n",
    "Uma forma já conhecida é tratar o sistema como uma função bidimensional e transformar o problema em encontrar o zero da função, ou seja:\n",
    "\n",
    "$\n",
    "\\begin{aligned}\n",
    "f_1(x,y)& = x^2 + xy - 10 \\\\\n",
    "f_2(x,y)& = y + 3xy^2 - 57\n",
    "\\end{aligned}\n",
    "$\n",
    "\n",
    "Em seguida, podemos utilizar o comando `root` da biblioteca `scipy.optimize`:"
   ]
  },
  {
   "cell_type": "code",
   "execution_count": 1,
   "id": "5db84c76",
   "metadata": {
    "slideshow": {
     "slide_type": "fragment"
    }
   },
   "outputs": [
    {
     "data": {
      "text/plain": [
       "    fjac: array([[-0.26296933, -0.96480419],\n",
       "       [-0.96480419,  0.26296933]])\n",
       "     fun: array([-3.55271368e-15,  7.10542736e-15])\n",
       " message: 'The solution converged.'\n",
       "    nfev: 35\n",
       "     qtf: array([ 3.31735729e-10, -1.22388545e-10])\n",
       "       r: array([-26.94594667, -35.69446849,   7.60609155])\n",
       "  status: 1\n",
       " success: True\n",
       "       x: array([2., 3.])"
      ]
     },
     "execution_count": 1,
     "metadata": {},
     "output_type": "execute_result"
    }
   ],
   "source": [
    "import scipy.optimize as opt\n",
    "\n",
    "def A(X):\n",
    "    x = X[0]\n",
    "    y = X[1]\n",
    "    f0 = x**2 +x*y - 10\n",
    "    f1 = y + 3*x*y**2 - 57\n",
    "    return [f0, f1]\n",
    "\n",
    "opt.root(A, [0,0])"
   ]
  },
  {
   "cell_type": "code",
   "execution_count": 3,
   "id": "d45c3710",
   "metadata": {},
   "outputs": [
    {
     "data": {
      "text/plain": [
       "[0, 0]"
      ]
     },
     "execution_count": 3,
     "metadata": {},
     "output_type": "execute_result"
    }
   ],
   "source": [
    "A([2,3])"
   ]
  },
  {
   "cell_type": "code",
   "execution_count": null,
   "id": "010d64aa",
   "metadata": {
    "slideshow": {
     "slide_type": "fragment"
    }
   },
   "outputs": [],
   "source": [
    "import numpy as np\n",
    "N = 20000\n",
    "A = np.random.randint(0, 100, (N,N))\n",
    "b = np.random.randint(0, 100, (N,1))\n",
    "x = np.linalg.solve(A,b)\n",
    "#print(A)\n",
    "#print(b)\n",
    "#print(x)\n",
    "print('Fim')"
   ]
  },
  {
   "cell_type": "markdown",
   "id": "769f6c85",
   "metadata": {
    "slideshow": {
     "slide_type": "slide"
    }
   },
   "source": [
    "# Métodos iterativos"
   ]
  },
  {
   "cell_type": "markdown",
   "id": "1892e196",
   "metadata": {
    "slideshow": {
     "slide_type": "fragment"
    }
   },
   "source": [
    "Caso o sistema seja muito grande, a eliminação de Gauss ou a decomposição LU podem ser **muito lentos**.\n",
    "Nestas situações podemos utilizar os métodos iterativos.\n",
    "\n",
    "Nos métodos iterativos partimos de uma estimativa inicial $x_0$ para os valores das incógnitas e estimamos um melhor valor $x_1$.\n",
    "Em seguida, utilizamos o valor de $x_1$ para estimar $x_2$ e assim sucessivamente até a solução convergir."
   ]
  },
  {
   "cell_type": "markdown",
   "id": "9b8f6127",
   "metadata": {
    "slideshow": {
     "slide_type": "fragment"
    }
   },
   "source": [
    "# Gauss-Seidel\n",
    "\n",
    "Considere um sistema linear de 3 equações:\n",
    "\n",
    "$\n",
    "\\begin{bmatrix}\n",
    "a_{11} & a_{12} & a_{13} \\\\\n",
    "a_{21} & a_{22} & a_{23} \\\\\n",
    "a_{31} & a_{32} & a_{33} \\\\\n",
    "\\end{bmatrix}\n",
    "\\begin{bmatrix} x_1 \\\\ x_2 \\\\ x_3\n",
    "\\end{bmatrix}\n",
    "\\begin{bmatrix} b_1 \\\\ b_2 \\\\ b_3\n",
    "\\end{bmatrix}\n",
    "$\n",
    "\n",
    "O método iterativo de Gauss-Seidel estima o valor de $x$ isolando o valor de $x_i$ em cada equação, e substituindo sucessivamente os valores mais atualizados:\n",
    "\n",
    "$\n",
    "\\begin{aligned}\n",
    "x'_1 &= \\dfrac{b_1 - a_{12}x_{2} - a_{13}x_3}{a_{11}} \\\\\n",
    "x'_2 &= \\dfrac{b_2 - a_{21}x'_{1} - a_{23}x_3}{a_{22}} \\\\\n",
    "x'_3 &= \\dfrac{b_3 - a_{31}x'_{1} - a_{32}x'_2}{a_{33}} \\\\\n",
    "\\end{aligned}\n",
    "$\n",
    "\n",
    "Observe que em cada equação são utilizados sempre os valores mais atuais."
   ]
  },
  {
   "cell_type": "markdown",
   "id": "76f5b21c",
   "metadata": {
    "slideshow": {
     "slide_type": "fragment"
    }
   },
   "source": [
    "## Exemplo:\n",
    "\n",
    "Seja o sistema abaixo:\n",
    "\n",
    "\\begin{aligned}\n",
    "3x_1 - 0,1x_2 - 0,2x_3 &= 7,85 \\\\\n",
    "0,1x_1 + 7x_2 - 0,3x_3 &= -19,3 \\\\\n",
    "0,3x_1 - 0,2x_2 + 10x_3 &= 71,4 \\\\\n",
    "\\end{aligned}"
   ]
  },
  {
   "cell_type": "code",
   "execution_count": 4,
   "id": "49042518",
   "metadata": {
    "slideshow": {
     "slide_type": "fragment"
    }
   },
   "outputs": [
    {
     "name": "stdout",
     "output_type": "stream",
     "text": [
      "2.6166666667 -2.7945238095 7.0056095238\n",
      "2.9905565079 -2.4996246848 7.0002908111\n",
      "3.0000318979 -2.4999879924 6.9999992832\n",
      "3.0000003525 -2.5000000358 6.9999999887\n",
      "2.9999999981 -2.5000000005 7.0000000000\n",
      "3.0000000000 -2.5000000000 7.0000000000\n",
      "3.0000000000 -2.5000000000 7.0000000000\n",
      "3.0000000000 -2.5000000000 7.0000000000\n",
      "3.0000000000 -2.5000000000 7.0000000000\n",
      "3.0000000000 -2.5000000000 7.0000000000\n"
     ]
    }
   ],
   "source": [
    "x1 = 0\n",
    "x2 = 0\n",
    "x3 = 0\n",
    "\n",
    "for i in range(10):\n",
    "    x1 = (7.85 + 0.1*x2 + 0.2*x3)/3\n",
    "    x2 = (-19.3 - 0.1*x1 + 0.3*x3)/7\n",
    "    x3 = (71.4 - 0.3*x1 + 0.2*x2)/10\n",
    "    print(f'{x1:.10f} {x2:.10f} {x3:.10f}')"
   ]
  },
  {
   "cell_type": "markdown",
   "id": "bc7cd8b0",
   "metadata": {
    "slideshow": {
     "slide_type": "fragment"
    }
   },
   "source": [
    "Podemos generalizar a fórmula anterior na seguinte forma matricial:\n",
    "\n",
    "$\n",
    "x = d - Cx\n",
    "$\n",
    "\n",
    "onde\n",
    "\n",
    "$\n",
    "d = \\begin{bmatrix} b_1 / a_{11} \\\\ b_2  / a_{22} \\\\ \\vdots \\\\ b_n /a_{nn}\n",
    "\\end{bmatrix}\n",
    "$\n",
    "\n",
    "e\n",
    "\n",
    "$\n",
    "C = \\begin{bmatrix} \n",
    "0 & a_{12}/a_{11} & a_{13}/a_{11} & \\ldots & a_{1n}/a_{11} \\\\ \n",
    "a_{21}/a_{22} & 0 & a_{23}/a_{22} & \\ldots & a_{2n}/a_{22} \\\\ \n",
    "\\vdots \\\\\n",
    "a_{n1}/a_{nn} & a_{n2}/a_{nn} & a_{n3}/a_{nn}  & \\ldots & 0 \\\\ \n",
    "\\end{bmatrix}\n",
    "$\n"
   ]
  },
  {
   "cell_type": "code",
   "execution_count": 5,
   "id": "1ddc8680",
   "metadata": {
    "slideshow": {
     "slide_type": "fragment"
    }
   },
   "outputs": [
    {
     "name": "stdout",
     "output_type": "stream",
     "text": [
      "1.0\n",
      "0.854705484642023\n",
      "0.3245305062236452\n",
      "0.1717043563010756\n",
      "0.12893502075823352\n",
      "0.1488399008288139\n",
      "0.5057207884983923\n",
      "0.1058602073893099\n",
      "0.16928805423249477\n",
      "0.15608157476113457\n",
      "0.08596214239218421\n",
      "0.10585502934969714\n",
      "0.1356969967346986\n",
      "0.09162217962680771\n",
      "0.07123506549497075\n",
      "0.09524030605431215\n",
      "0.12580162289889818\n",
      "0.12966396233497876\n",
      "0.10384929888906294\n",
      "0.07999098093729906\n",
      "0.09286282706441512\n",
      "0.0690056408952533\n",
      "0.09083327883184811\n",
      "0.06842312000089733\n",
      "0.05786216876450662\n",
      "0.05292769058094821\n",
      "1.2335077320681158\n",
      "0.04263046590355854\n",
      "0.08864490826708657\n",
      "0.20071950437106428\n"
     ]
    }
   ],
   "source": [
    "import numpy as np\n",
    "N = 1000\n",
    "A = np.random.randint(1, 100, (N,N))\n",
    "A = A + np.identity(N)*np.random.randint(2000,3000, (N,1))\n",
    "b = np.random.randint(1, 100, (N,1))\n",
    "x = np.linalg.solve(A,b)\n",
    "\n",
    "X = np.zeros((N,1))\n",
    "d = np.zeros((N,1))\n",
    "C = A.copy()\n",
    "\n",
    "for i in range(N):\n",
    "    d[i] = b[i]/A[i,i]\n",
    "    C[i,:] = A[i,:]/A[i,i]\n",
    "    C[i,i] = 0\n",
    "\n",
    "for _ in range(30):\n",
    "    Xold = X.copy()\n",
    "    for i in range(N):\n",
    "        X[i] = d[i] - np.dot(C[i,:], X)\n",
    "    print(np.mean( abs((Xold - X)/X) ))"
   ]
  },
  {
   "cell_type": "markdown",
   "id": "dd6f48dd",
   "metadata": {
    "slideshow": {
     "slide_type": "slide"
    }
   },
   "source": [
    "# Sistemas não-lineares"
   ]
  },
  {
   "cell_type": "markdown",
   "id": "5499ec63",
   "metadata": {
    "slideshow": {
     "slide_type": "fragment"
    }
   },
   "source": [
    "Considere o sistema não-linear:\n",
    "\n",
    "\\begin{aligned}\n",
    "x_1^2 + x_1x_2 &= 10 \\\\\n",
    "x_2 + 3x_1x_2^2 &= 57\n",
    "\\end{aligned}\n",
    "\n",
    "Observe que o método de eliminação de Gauss ou decomposição LU não funcionam neste caso."
   ]
  },
  {
   "cell_type": "code",
   "execution_count": 131,
   "id": "7a015606",
   "metadata": {
    "slideshow": {
     "slide_type": "fragment"
    }
   },
   "outputs": [
    {
     "data": {
      "text/plain": [
       "<matplotlib.legend.Legend at 0x2640361ceb0>"
      ]
     },
     "execution_count": 131,
     "metadata": {},
     "output_type": "execute_result"
    },
    {
     "data": {
      "image/png": "[encoded data removed]",
      "text/plain": [
       "<Figure size 432x288 with 1 Axes>"
      ]
     },
     "metadata": {
      "needs_background": "light"
     },
     "output_type": "display_data"
    }
   ],
   "source": [
    "import matplotlib.pyplot as plt\n",
    "import numpy as np\n",
    "\n",
    "X1 = np.linspace(1,3,100)\n",
    "Y2 = np.linspace(2,7,100)\n",
    "Y1 = (10 - X1**2)/X1\n",
    "X2 = (57 - Y2)/(3*Y2**2)\n",
    "\n",
    "# A solução do sistema é a interseção das 2 curvas.\n",
    "plt.plot(X1, Y1, X2, Y2)\n",
    "plt.legend(['$x_1^2+x_1x_2=10$', '$x_2+3x_1x_2^2=57$'])"
   ]
  },
  {
   "cell_type": "markdown",
   "id": "37152454",
   "metadata": {
    "slideshow": {
     "slide_type": "fragment"
    }
   },
   "source": [
    "Uma das formas de resolver um sistema não-linear seria utilizando a substituição sucessiva de Gauss-Seidel, conforme visto anteriormente.\n",
    "Porém a convergência depende da escolha adequada das equações e do ponto inicial:"
   ]
  },
  {
   "cell_type": "code",
   "execution_count": 1,
   "id": "6b753e86",
   "metadata": {
    "slideshow": {
     "slide_type": "fragment"
    }
   },
   "outputs": [
    {
     "name": "stdout",
     "output_type": "stream",
     "text": [
      "[  2.21428571 -24.375     ]\n",
      "[-2.09105181e-01  4.29713648e+02]\n",
      "[ 2.31695574e-02 -1.27780418e+04]\n",
      "[-7.82550515e-04  3.83377675e+05]\n",
      "[ 2.60839377e-05 -1.15012725e+07]\n",
      "[-8.69469006e-07  3.45038233e+08]\n",
      "[ 2.89822954e-08 -1.03511469e+10]\n",
      "[-9.66076519e-10  3.10534408e+11]\n",
      "[ 3.22025506e-11 -9.31603224e+12]\n",
      "[-1.07341835e-12  2.79480967e+14]\n",
      "[ 3.57806118e-14 -8.38442902e+15]\n",
      "[-1.19268706e-15  2.51532871e+17]\n",
      "[ 3.97562354e-17 -7.54598612e+18]\n",
      "[-1.32520785e-18  2.26379583e+20]\n",
      "[ 4.41735948e-20 -6.79138750e+21]\n",
      "[-1.47245316e-21  2.03741625e+23]\n",
      "[ 4.90817720e-23 -6.11224875e+24]\n",
      "[-1.63605907e-24  1.83367463e+26]\n",
      "[ 5.45353023e-26 -5.50102388e+27]\n",
      "[-1.81784341e-27  1.65030716e+29]\n"
     ]
    }
   ],
   "source": [
    "import numpy as np\n",
    "\n",
    "# Exemplo de escolha de funções onde a solução não converge\n",
    "X = np.array([1.5, 3.5])\n",
    "for _ in range(20):\n",
    "    X[0] = (10 - X[0]**2)/X[1]\n",
    "    X[1] = 57 - 3*X[0]*X[1]**2\n",
    "    print(X)"
   ]
  },
  {
   "cell_type": "code",
   "execution_count": 8,
   "id": "4c983cbd",
   "metadata": {
    "slideshow": {
     "slide_type": "fragment"
    }
   },
   "outputs": [
    {
     "name": "stdout",
     "output_type": "stream",
     "text": [
      "[2.17944947 2.86050599]\n",
      "[1.94053388 3.04955067]\n",
      "[2.02045629 2.98340475]\n",
      "[1.99302813 3.00570436]\n",
      "[2.00238524 2.9980543 ]\n",
      "[1.99918491 3.00066556]\n",
      "[2.00027865 2.99977255]\n",
      "[1.99990475 3.00007776]\n",
      "[2.00003256 2.99997342]\n",
      "[1.99998887 3.00000909]\n",
      "[2.0000038  2.99999689]\n",
      "[1.9999987  3.00000106]\n",
      "[2.00000044 2.99999964]\n",
      "[1.99999985 3.00000012]\n",
      "[2.00000005 2.99999996]\n",
      "[1.99999998 3.00000001]\n",
      "[2.00000001 3.        ]\n",
      "[2. 3.]\n",
      "[2. 3.]\n",
      "[2. 3.]\n",
      "[2. 3.]\n",
      "[2. 3.]\n",
      "[2. 3.]\n",
      "[2. 3.]\n",
      "[2. 3.]\n"
     ]
    }
   ],
   "source": [
    "import numpy as np\n",
    "\n",
    "# Exemplo de escolha de funções onde a solução converge:\n",
    "X = np.array([1.5, 3.5])\n",
    "for _ in range(25):\n",
    "    X[0] = np.sqrt(10 - X[0]*X[1])\n",
    "    X[1] = np.sqrt((57 - X[1])/(3*X[0]))\n",
    "    print(X)"
   ]
  },
  {
   "cell_type": "markdown",
   "id": "9adb547f",
   "metadata": {
    "slideshow": {
     "slide_type": "fragment"
    }
   },
   "source": [
    "## Newton-Raphson"
   ]
  },
  {
   "cell_type": "markdown",
   "id": "94863831",
   "metadata": {
    "slideshow": {
     "slide_type": "fragment"
    }
   },
   "source": [
    "Uma outra abordagem para resolver sistemas não-lineares é adaptar o método de Newton-Raphson.\n",
    "\n",
    "É possível mostrar que, dado um sistema de equações não-lineares $f$:\n",
    "\n",
    "\\begin{aligned}\n",
    "f_1(x_1, x_2, \\ldots, x_n) &= 0\\\\\n",
    "f_2(x_1, x_2, \\ldots, x_n) &= 0\\\\\n",
    "\\vdots & \\\\\n",
    "f_n(x_1, x_2, \\ldots, x_n) &= 0\\\\\n",
    "\\end{aligned}\n",
    "\n",
    "a série de Taylor para o sistema pode ser escrito como:\n",
    "\n",
    "\\begin{aligned}\n",
    "f_{1,i+1} &= f_{1,i} + (x_{1,i+1}-x_{1,i}) \\dfrac{\\partial f_{1,i}}{\\partial x_1} + \\ldots + \n",
    "(x_{n,i+1}-x_{n,i}) \\dfrac{\\partial f_{1,i}}{\\partial x_n} \\\\\n",
    "f_{2,i+1} &= f_{2,i} + (x_{2,i+1}-x_{2,i}) \\dfrac{\\partial f_{2,i}}{\\partial x_1} + \\ldots + \n",
    "(x_{n,i+1}-x_{n,i}) \\dfrac{\\partial f_{2,i}}{\\partial x_n} \\\\\n",
    "\\vdots & \\\\\n",
    "f_{n,i+1} &= f_{n,i} + (x_{n,i+1}-x_{n,i}) \\dfrac{\\partial f_{n,i}}{\\partial x_1} + \\ldots + \n",
    "(x_{n,i+1}-x_{n,i}) \\dfrac{\\partial f_{n,i}}{\\partial x_n} \\\\\n",
    "\\end{aligned}\n",
    "\n",
    "onde os termos com índice $i$ representam o valor atual e os termos com índice $i+1$ representam o valor seguinte.\n",
    "\n",
    "Da mesma forma que o método de Newton-Raphson para uma equação, fazemos o lado esquerdo interceptar o eixo $x$, ou seja, $f_{k,i+1} = 0$:\n",
    "\n",
    "\\begin{equation} \\label{eq:newton1}\n",
    "\\begin{aligned}\n",
    "0 &= f_{1,i} + (x_{1,i+1}-x_{i,1}) \\dfrac{\\partial f_{1,i}}{\\partial x_1} + \\ldots + \n",
    "(x_{n,i+1}-x_{n,1}) \\dfrac{\\partial f_{1,i}}{\\partial x_n} \\\\\n",
    "0 &= f_{2,i} + (x_{2,i+1}-x_{2,1}) \\dfrac{\\partial f_{2,i}}{\\partial x_1} + \\ldots + \n",
    "(x_{n,i+1}-x_{n,1}) \\dfrac{\\partial f_{2,i}}{\\partial x_n} \\\\\n",
    "\\vdots & \\\\\n",
    "0 &= f_{n,i} + (x_{n,i+1}-x_{n,1}) \\dfrac{\\partial f_{n,i}}{\\partial x_1} + \\ldots + \n",
    "(x_{n,i+1}-x_{n,1}) \\dfrac{\\partial f_{n,i}}{\\partial x_n} \\\\\n",
    "\\end{aligned}\n",
    "\\end{equation}"
   ]
  },
  {
   "cell_type": "markdown",
   "id": "295343d2",
   "metadata": {
    "slideshow": {
     "slide_type": "fragment"
    }
   },
   "source": [
    "Vamos organizar melhor a fórmula acima.\n",
    "Primeiro, vamos definir uma matriz especial conhecida como Jacobiano:\n",
    "\n",
    "\\begin{equation}\n",
    "J = \n",
    "\\begin{bmatrix}\n",
    "\\dfrac{\\partial f_{1,i}}{\\partial x_1} & \\dfrac{\\partial f_{1,i}}{\\partial x_2} & \\ldots &\n",
    "\\dfrac{\\partial f_{1,i}}{\\partial x_n} \\\\\n",
    "\\dfrac{\\partial f_{2,i}}{\\partial x_1} & \\dfrac{\\partial f_{2,i}}{\\partial x_2} & \\ldots &\n",
    " \\dfrac{\\partial f_{2,i}}{\\partial x_n} \\\\\n",
    "\\vdots & \\\\\n",
    "\\dfrac{\\partial f_{n,i}}{\\partial x_1} & \\dfrac{\\partial f_{n,i}}{\\partial x_2} & \\ldots &\n",
    " \\dfrac{\\partial f_{n,i}}{\\partial x_n} \\\\\n",
    "\\end{bmatrix}\n",
    "\\end{equation}"
   ]
  },
  {
   "cell_type": "markdown",
   "id": "0e2d6c42",
   "metadata": {
    "slideshow": {
     "slide_type": "fragment"
    }
   },
   "source": [
    "A equação \\ref{eq:newton1} pode ser reescrita como:\n",
    "\n",
    "\\begin{equation} \\label{eq:newton2}\n",
    "0 = f + J x_{i+1} - J x_i\n",
    "\\end{equation}\n",
    "\n",
    "o que nos leva à fórmula de Newton-Rapshon para resolução de sistemas não-lineares:\n",
    "\n",
    "\\begin{equation} \\label{eq:newton3}\n",
    "x_{i+1} = x_i -J^{-1}f\n",
    "\\end{equation}\n"
   ]
  },
  {
   "cell_type": "markdown",
   "id": "d2d90ff5",
   "metadata": {
    "slideshow": {
     "slide_type": "fragment"
    }
   },
   "source": [
    "## Exemplo:"
   ]
  },
  {
   "cell_type": "markdown",
   "id": "959926cb",
   "metadata": {
    "slideshow": {
     "slide_type": "fragment"
    }
   },
   "source": [
    "Considere o sistema não-linear:\n",
    "\n",
    "\\begin{aligned}\n",
    "f_1(x_1,x_2) = x_1^2 + x_1x_2 - 10 \\\\\n",
    "f_2(x_1,x_2) = x_2 + 3x_1x_2^2 - 57\n",
    "\\end{aligned}\n",
    "\n",
    "que possui o Jacobiano:\n",
    "\n",
    "\\begin{equation}\n",
    "J = \n",
    "\\begin{bmatrix}\n",
    "\\dfrac{\\partial f_{1,i}}{\\partial x_1} & \\dfrac{\\partial f_{1,i}}{\\partial x_2} \\\\\n",
    "\\dfrac{\\partial f_{2,i}}{\\partial x_1} & \\dfrac{\\partial f_{2,i}}{\\partial x_2} \n",
    "\\end{bmatrix} =\n",
    "\\begin{bmatrix}\n",
    "2x_1 + x_2 & x_1 \\\\\n",
    "3x_2^2 & 1 + 6x_1x_2\n",
    "\\end{bmatrix}\n",
    "\\end{equation}\n"
   ]
  },
  {
   "cell_type": "code",
   "execution_count": 11,
   "id": "dfeaaaa1",
   "metadata": {
    "slideshow": {
     "slide_type": "fragment"
    }
   },
   "outputs": [
    {
     "name": "stdout",
     "output_type": "stream",
     "text": [
      "[2.03602882 2.8438751 ]\n",
      "[1.99870061 3.00228856]\n",
      "[1.99999998 2.99999941]\n",
      "[2. 3.]\n",
      "[2. 3.]\n",
      "[2. 3.]\n",
      "[2. 3.]\n",
      "[2. 3.]\n",
      "[2. 3.]\n",
      "[2. 3.]\n",
      "[-1.2210783495447686e-09, -3.0272643414264166e-07]\n"
     ]
    }
   ],
   "source": [
    "import numpy as np\n",
    "def f(X):\n",
    "    x1, x2 = X\n",
    "    f1 = x1**2 +x1*x2 - 10\n",
    "    f2 = x2 + 3*x1*x2**2 - 57\n",
    "    return [f1, f2]\n",
    "\n",
    "def jac(X):\n",
    "    x1, x2 = X\n",
    "    return [ [2*x1+x2, x1], [3*x2**2, 1+6*x1*x2] ] \n",
    "\n",
    "# escolhendo um valor para X(0)\n",
    "X = np.array([1.5, 3.5])\n",
    "#X = np.array([1, 0])\n",
    "\n",
    "# Fórmula de Newton-Raphson:\n",
    "for _ in range(10):\n",
    "    X = X - np.linalg.inv(jac(X)) @ f(X)\n",
    "    print(X)\n",
    "    \n",
    "#print(f([4.39374419, -2.11778101]))"
   ]
  },
  {
   "cell_type": "code",
   "execution_count": 12,
   "id": "a13a22d4",
   "metadata": {},
   "outputs": [
    {
     "data": {
      "text/plain": [
       "    fjac: array([[-0.34264952, -0.93946331],\n",
       "       [ 0.93946331, -0.34264952]])\n",
       "     fun: array([-1.63424829e-13,  4.61852778e-13])\n",
       " message: 'The solution converged.'\n",
       "    nfev: 22\n",
       "     qtf: array([-2.59495803e-08, -2.17394449e-08])\n",
       "       r: array([-24.56958758, -32.5131829 ,  -8.34340485])\n",
       "  status: 1\n",
       " success: True\n",
       "       x: array([2., 3.])"
      ]
     },
     "execution_count": 12,
     "metadata": {},
     "output_type": "execute_result"
    }
   ],
   "source": [
    "import scipy.optimize as opt\n",
    "\n",
    "opt.root(f, [1,0])"
   ]
  },
  {
   "cell_type": "markdown",
   "id": "88a05c9a-2508-44d8-9e97-1ffeb8541943",
   "metadata": {},
   "source": [
    "# Exercício\n",
    "\n"
   ]
  },
  {
   "cell_type": "markdown",
   "id": "cf61e87a-458c-46d0-aff9-ce55ddc26907",
   "metadata": {},
   "source": [
    "Resolva o sistema não-linear a seguir:\n",
    "\n",
    "\\begin{aligned}\n",
    "x^2 = 5 - y^2 \\\\\n",
    "y + 5xy = x^2\n",
    "\\end{aligned}"
   ]
  },
  {
   "cell_type": "code",
   "execution_count": null,
   "id": "34a5d0bd-ce31-409c-8aa4-c6b2aa857d76",
   "metadata": {},
   "outputs": [],
   "source": []
  },
  {
   "cell_type": "markdown",
   "id": "13046891-ace9-4901-adbf-eba40685c8f3",
   "metadata": {},
   "source": [
    "# Exercício\n",
    "\n",
    "Resolva o sistema não-linear a seguir:\n",
    "\n",
    "\\begin{aligned}\n",
    "x_1^3 +  2x_2 +x_3 = 4 \\\\\n",
    "2x_1^2 + x_2^2 - 4x_3 = -1 \\\\\n",
    "3x_1^2 - 4x_2 + x_3 = 0\n",
    "\\end{aligned}\n",
    "\n",
    "utilizando a solução inicial $x_0 = \\begin{bmatrix} 1 \\\\ 1 \\\\ 2 \\end{bmatrix}$"
   ]
  },
  {
   "cell_type": "code",
   "execution_count": null,
   "id": "f2eb0ec3-92e9-4436-8895-4115620ed1d7",
   "metadata": {},
   "outputs": [],
   "source": []
  }
 ],
 "metadata": {
  "celltoolbar": "Slideshow",
  "kernelspec": {
   "display_name": "Python 3 (ipykernel)",
   "language": "python",
   "name": "python3"
  },
  "language_info": {
   "codemirror_mode": {
    "name": "ipython",
    "version": 3
   },
   "file_extension": ".py",
   "mimetype": "text/x-python",
   "name": "python",
   "nbconvert_exporter": "python",
   "pygments_lexer": "ipython3",
   "version": "3.9.12"
  },
  "latex_envs": {
   "LaTeX_envs_menu_present": true,
   "autoclose": true,
   "autocomplete": false,
   "bibliofile": "biblio.bib",
   "cite_by": "apalike",
   "current_citInitial": 1,
   "eqLabelWithNumbers": true,
   "eqNumInitial": 1,
   "hotkeys": {
    "equation": "Ctrl-E",
    "itemize": "Ctrl-I"
   },
   "labels_anchors": false,
   "latex_user_defs": false,
   "report_style_numbering": false,
   "user_envs_cfg": false
  }
 },
 "nbformat": 4,
 "nbformat_minor": 5
}
