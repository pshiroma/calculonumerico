{
 "cells": [
  {
   "cell_type": "markdown",
   "id": "765a5bef-e43a-45f0-9c4a-813ba3d8953f",
   "metadata": {},
   "source": [
    "# Exercício 1"
   ]
  },
  {
   "cell_type": "markdown",
   "id": "004f37e2-a708-4a15-906c-68d56bd1aa5b",
   "metadata": {},
   "source": [
    "Escreva o texto abaixo na célula de texto abaixo:\n",
    "\n",
    "Alguns problemas estudados em cálculo numérico são:\n",
    "\n",
    "* Resolução de sistemas de equações lineares;\n",
    "* Interpolação e cálculo aproximado de funções;\n",
    "* Solução numérica de um sistema de equações não lineares;\n",
    "* Solução numérica de equações diferenciais parciais (equações da física matemática);\n",
    "* Resolver problemas de otimização."
   ]
  },
  {
   "cell_type": "markdown",
   "id": "51bb4651-5fe9-4355-b65d-a54ff7a80e39",
   "metadata": {},
   "source": []
  },
  {
   "cell_type": "markdown",
   "id": "47219a12-b666-4032-91c7-82ee7f2e5d9d",
   "metadata": {},
   "source": [
    "# Exercício 2"
   ]
  },
  {
   "cell_type": "markdown",
   "id": "5414430e-3c26-4d5d-a597-b08636f9fe03",
   "metadata": {},
   "source": [
    "Crie uma **célula de texto** a seguir.\n",
    "Em seguida, escreva o texto abaixo dentro dela, juntamente com as formatações de itálico e negrito:\n",
    "\n",
    "O cálculo numérico corresponde a um conjunto de **ferramentas** ou **métodos** usados para se obter à solução de problemas matemáticos de **forma aproximada**. Esses métodos se aplicam principalmente a problemas que não apresentam uma *solução exata*, portanto precisam ser resolvidos *numericamente*."
   ]
  },
  {
   "cell_type": "markdown",
   "id": "fa91590e-db98-497e-93db-6f58a569f52a",
   "metadata": {},
   "source": [
    "# Exercício 3\n",
    "\n",
    "Crie uma célula de texto logo abaixo.\n",
    "\n",
    "Em seguida, baixe uma imagem qualquer da Internet.\n",
    "Faça o upload dela no Jupyter e, em seguida na célula criada.\n",
    "\n",
    "Utilize uma das sintaxes abaixo:\n",
    "\n",
    "`![Título da imagem](nome_do_arquivo)`\n",
    "\n",
    "`<img src=\"nome_do_arquivo\" width=\"100\">` \n",
    "\n",
    "Não se esqueça de colocar a extensão do arquivo."
   ]
  },
  {
   "cell_type": "markdown",
   "id": "5a71bd66-2226-41ab-a8eb-39e563f2668f",
   "metadata": {},
   "source": [
    "# Exercício 4\n",
    "\n",
    "Crie uma célula de texto logo a seguir.\n",
    "Em seguida, escreva o texto abaixo, colocando os títulos adequadamente:\n",
    "\n",
    "Utilize o símbolo \\$ para encapsular fórmula matemáticas.\n",
    "Por exemplo:\n",
    "\n",
    "`$f(x) = 0$`\n",
    "\n",
    "# Zero de função\n",
    "\n",
    "O zero de uma função $f(x)$ consiste nos valores de $x$ onde $f(x) = 0$.\n",
    "\n",
    "## Existência\n",
    "\n",
    "Seja $f(x)$ uma função contínua.\n",
    "Dados dois pontos, $a$ e $b$, temos que, se $f(a) \\cdot f(b) < 0$, então existe um zero entre $a$ e $b$."
   ]
  }
 ],
 "metadata": {
  "celltoolbar": "Slideshow",
  "kernelspec": {
   "display_name": "Python 3 (ipykernel)",
   "language": "python",
   "name": "python3"
  },
  "language_info": {
   "codemirror_mode": {
    "name": "ipython",
    "version": 3
   },
   "file_extension": ".py",
   "mimetype": "text/x-python",
   "name": "python",
   "nbconvert_exporter": "python",
   "pygments_lexer": "ipython3",
   "version": "3.9.12"
  },
  "latex_envs": {
   "LaTeX_envs_menu_present": true,
   "autoclose": true,
   "autocomplete": true,
   "bibliofile": "biblio.bib",
   "cite_by": "apalike",
   "current_citInitial": 1,
   "eqLabelWithNumbers": true,
   "eqNumInitial": 1,
   "hotkeys": {
    "equation": "Ctrl-E",
    "itemize": "Ctrl-I"
   },
   "labels_anchors": false,
   "latex_user_defs": false,
   "report_style_numbering": false,
   "user_envs_cfg": false
  }
 },
 "nbformat": 4,
 "nbformat_minor": 5
}
