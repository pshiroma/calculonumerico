{
 "cells": [
  {
   "cell_type": "code",
   "execution_count": 129,
   "id": "ed7bc9e1-87db-43e7-8b94-9d3290365dfb",
   "metadata": {},
   "outputs": [],
   "source": [
    "import random\n",
    "import math\n",
    "import numpy\n",
    "import matplotlib"
   ]
  },
  {
   "cell_type": "markdown",
   "id": "45fbc2ed",
   "metadata": {},
   "source": [
    "[Vídeo]()"
   ]
  },
  {
   "cell_type": "markdown",
   "id": "287bf349",
   "metadata": {
    "slideshow": {
     "slide_type": "slide"
    }
   },
   "source": [
    "# Inclusão de bibliotecas\n",
    "\n",
    "Assim como em outras linguagens de programação, é possível incluir bibliotecas e funções desenvolvidas por outras pessoas e executá-las no seu código.\n",
    "\n",
    "Para incluir uma biblioteca ou pacote podemos utilizar os seguintes comandos:\n",
    "\n",
    "```import ???```\n",
    "\n",
    "```import ??? as ???```\n",
    "\n",
    "```from ??? import ???```\n",
    "\n",
    "<div class=\"alert alert-info\">Observe que só precisamos importar uma biblioteca uma única vez em cada notebook.</div>"
   ]
  },
  {
   "cell_type": "code",
   "execution_count": 3,
   "id": "fb5d876c",
   "metadata": {
    "slideshow": {
     "slide_type": "-"
    }
   },
   "outputs": [
    {
     "name": "stdout",
     "output_type": "stream",
     "text": [
      "1.0\n"
     ]
    }
   ],
   "source": [
    "# Vamos utilizar a função cosseno da biblioteca math\n",
    "import math\n",
    "\n",
    "x = math.cos(0)\n",
    "print(x)\n",
    "\n",
    "m.cos()"
   ]
  },
  {
   "cell_type": "code",
   "execution_count": 4,
   "id": "1a3b7443",
   "metadata": {
    "slideshow": {
     "slide_type": "fragment"
    }
   },
   "outputs": [
    {
     "name": "stdout",
     "output_type": "stream",
     "text": [
      "0.9999999999999999\n"
     ]
    }
   ],
   "source": [
    "# vamos renomear a biblioteca math para um nome mais curto (m)\n",
    "import math as m\n",
    "\n",
    "x = m.tan(m.pi/4)\n",
    "\n",
    "print(x)\n",
    "\n",
    "m.acos()"
   ]
  },
  {
   "cell_type": "code",
   "execution_count": 9,
   "id": "880f1f5d",
   "metadata": {
    "slideshow": {
     "slide_type": "fragment"
    }
   },
   "outputs": [
    {
     "data": {
      "text/plain": [
       "0.0"
      ]
     },
     "execution_count": 9,
     "metadata": {},
     "output_type": "execute_result"
    }
   ],
   "source": [
    "# vamos importar apenas a funcao sin da biblioteca math\n",
    "from math import sin\n",
    "\n",
    "sin(0)"
   ]
  },
  {
   "cell_type": "markdown",
   "id": "9ee88249",
   "metadata": {
    "slideshow": {
     "slide_type": "skip"
    }
   },
   "source": [
    "Material de referência:\n",
    "\n",
    "https://docs.python.org/pt-br/3.9/library/index.html"
   ]
  },
  {
   "cell_type": "markdown",
   "id": "a8c121eb",
   "metadata": {
    "slideshow": {
     "slide_type": "fragment"
    }
   },
   "source": [
    "## Exemplo 1"
   ]
  },
  {
   "cell_type": "markdown",
   "id": "4fbb7183",
   "metadata": {},
   "source": [
    "Vamos criar um programa que sorteia um número inteiro aleatório entre 1 e 10 e imprime-o na tela."
   ]
  },
  {
   "cell_type": "code",
   "execution_count": 57,
   "id": "ef1d0e2e",
   "metadata": {},
   "outputs": [],
   "source": [
    "import random"
   ]
  },
  {
   "cell_type": "code",
   "execution_count": 128,
   "id": "cdab2750",
   "metadata": {},
   "outputs": [
    {
     "name": "stdout",
     "output_type": "stream",
     "text": [
      "O valor sorteado foi: 4\n"
     ]
    }
   ],
   "source": [
    "x = random.randint(1,10)\n",
    "print('O valor sorteado foi:', x)"
   ]
  },
  {
   "cell_type": "markdown",
   "id": "b927f6de",
   "metadata": {
    "slideshow": {
     "slide_type": "fragment"
    }
   },
   "source": [
    "## Exemplo 2\n",
    "\n",
    "Vamos criar um algoritmo para calcular a área de um círculo."
   ]
  },
  {
   "cell_type": "code",
   "execution_count": 131,
   "id": "953177a5",
   "metadata": {},
   "outputs": [],
   "source": [
    "from math import pi"
   ]
  },
  {
   "cell_type": "code",
   "execution_count": 132,
   "id": "32321e6c",
   "metadata": {
    "slideshow": {
     "slide_type": "-"
    }
   },
   "outputs": [
    {
     "name": "stdin",
     "output_type": "stream",
     "text": [
      "Entre com o raio:  32\n"
     ]
    },
    {
     "name": "stdout",
     "output_type": "stream",
     "text": [
      "A área é de 3216.99\n"
     ]
    }
   ],
   "source": [
    "raio = float(input(\"Entre com o raio: \")) \n",
    "area = pi * raio ** 2\n",
    "print(f\"A área é de {area:.2f}\")"
   ]
  },
  {
   "cell_type": "markdown",
   "id": "9c1b563a",
   "metadata": {
    "slideshow": {
     "slide_type": "subslide"
    }
   },
   "source": [
    "Caso você queira formatar a saída para apresentar apenas 2 algarismos após a vírgula, uma das formas possíveis é utilizar as `f-strings` (https://pythonacademy.com.br/blog/f-strings-no-python)"
   ]
  },
  {
   "cell_type": "code",
   "execution_count": 30,
   "id": "bf82f086",
   "metadata": {
    "slideshow": {
     "slide_type": "-"
    }
   },
   "outputs": [
    {
     "name": "stdout",
     "output_type": "stream",
     "text": [
      "A área é de 12.57\n"
     ]
    }
   ],
   "source": [
    "print(f'A área é de {area:.2f}')"
   ]
  },
  {
   "cell_type": "markdown",
   "id": "dab5e14e-1752-429b-8823-6b06439279cc",
   "metadata": {},
   "source": [
    "# Exercício 1"
   ]
  },
  {
   "cell_type": "markdown",
   "id": "479ffc1c-c1d5-43d4-bbda-c60f6c778c8b",
   "metadata": {},
   "source": [
    "https://docs.python.org/3/library/math.html\n",
    "\n",
    "Leia a documentação do módulo math do Python.\n",
    "Em seguida, crie um código que leia um número $x$ do usuário e calcule o valor de $e^x$"
   ]
  },
  {
   "cell_type": "code",
   "execution_count": 135,
   "id": "908735b2-5bcd-49b8-a197-d9e7c6fda640",
   "metadata": {},
   "outputs": [
    {
     "name": "stdin",
     "output_type": "stream",
     "text": [
      "Entre com o valor de x: 1\n"
     ]
    },
    {
     "name": "stdout",
     "output_type": "stream",
     "text": [
      "2.718281828459045\n"
     ]
    }
   ],
   "source": [
    "import math as m\n",
    "x = float(input('Entre com o valor de x:'))\n",
    "print(m.exp(x))"
   ]
  },
  {
   "cell_type": "markdown",
   "id": "e96aa7de-3c23-4a84-af5f-6f38f4a9c4f7",
   "metadata": {},
   "source": [
    "# Exercício 2"
   ]
  },
  {
   "cell_type": "markdown",
   "id": "995f21ec-606a-455a-bf9b-6501d9019415",
   "metadata": {},
   "source": [
    "https://docs.python.org/3/library/math.html\n",
    "\n",
    "Leia a documentação do módulo math do Python.\n",
    "Em seguida, crie um código que leia um ângulo $\\theta$ fornecido pelo usuário e converta o valor de $\\theta$ de radianos para graus."
   ]
  },
  {
   "cell_type": "code",
   "execution_count": 136,
   "id": "3aee9b6c-b46f-478e-a9e7-92ad87bcebbc",
   "metadata": {},
   "outputs": [
    {
     "name": "stdin",
     "output_type": "stream",
     "text": [
      "Entre com o angulo em radianos: 3.14\n"
     ]
    },
    {
     "name": "stdout",
     "output_type": "stream",
     "text": [
      "179.9087476710785\n"
     ]
    }
   ],
   "source": [
    "import math as m\n",
    "x = float(input('Entre com o angulo em radianos:'))\n",
    "print(m.degrees(x))"
   ]
  },
  {
   "cell_type": "markdown",
   "id": "b61e0ac4-6b83-4979-adc0-87513c84f9b0",
   "metadata": {},
   "source": [
    "# Exercício 3"
   ]
  },
  {
   "cell_type": "markdown",
   "id": "649741b6-f299-495d-bd85-d40b5925ad62",
   "metadata": {},
   "source": [
    "https://docs.python.org/3/library/random.html\n",
    "\n",
    "Leia a documentação do módulo random do Python.\n",
    "Em seguida, crie um código que gere um número aleatório no intervalo $[a, b]$, fornecido pelo usuário.\n",
    "O número gerado deve ter 3 casas decimais."
   ]
  },
  {
   "cell_type": "code",
   "execution_count": 287,
   "id": "08fb6be1-dae3-4e0f-9f5a-df6333f48ba0",
   "metadata": {},
   "outputs": [],
   "source": [
    "from random import randint\n",
    "import random"
   ]
  },
  {
   "cell_type": "code",
   "execution_count": 285,
   "id": "ca962ac3-74c2-4acf-ae33-bdb294a0c5b4",
   "metadata": {},
   "outputs": [
    {
     "data": {
      "text/plain": [
       "3.956"
      ]
     },
     "execution_count": 285,
     "metadata": {},
     "output_type": "execute_result"
    }
   ],
   "source": [
    "a = 0\n",
    "b = 10\n",
    "randint(a*1000, b*1000)/1000"
   ]
  },
  {
   "cell_type": "code",
   "execution_count": 323,
   "id": "590b6f2b-359f-4b98-8b61-d267eba4b76f",
   "metadata": {},
   "outputs": [
    {
     "data": {
      "text/plain": [
       "5.967"
      ]
     },
     "execution_count": 323,
     "metadata": {},
     "output_type": "execute_result"
    }
   ],
   "source": [
    "round(random.uniform(a, b) , 3)"
   ]
  },
  {
   "cell_type": "markdown",
   "id": "0bdd718f-2257-497a-bc17-117cfed90e33",
   "metadata": {},
   "source": [
    "# Exercício 4"
   ]
  },
  {
   "cell_type": "markdown",
   "id": "e58c26f2-d0da-4520-91ca-0c2b359b5eb5",
   "metadata": {},
   "source": [
    "https://numpy.org/doc/stable/reference/random/index.html#module-numpy.random\n",
    "\n",
    "Leia a documentação do módulo random da biblioteca Numpy.\n",
    "\n",
    "Em seguida, crie um código que gere um número aleatório no intervalo $[a, b]$, fornecido pelo usuário.\n",
    "\n",
    "Para converter do intervalo $[0,1)$ para o intervalo $[a,b)$ utilize a fórmula $(b - a) * random() + a$"
   ]
  },
  {
   "cell_type": "code",
   "execution_count": null,
   "id": "7506d7d9-ba85-4c85-b645-2e9664c68eb9",
   "metadata": {},
   "outputs": [],
   "source": []
  }
 ],
 "metadata": {
  "celltoolbar": "Slideshow",
  "kernelspec": {
   "display_name": "Python 3 (ipykernel)",
   "language": "python",
   "name": "python3"
  },
  "language_info": {
   "codemirror_mode": {
    "name": "ipython",
    "version": 3
   },
   "file_extension": ".py",
   "mimetype": "text/x-python",
   "name": "python",
   "nbconvert_exporter": "python",
   "pygments_lexer": "ipython3",
   "version": "3.9.12"
  },
  "latex_envs": {
   "LaTeX_envs_menu_present": true,
   "autoclose": true,
   "autocomplete": true,
   "bibliofile": "biblio.bib",
   "cite_by": "apalike",
   "current_citInitial": 1,
   "eqLabelWithNumbers": true,
   "eqNumInitial": 1,
   "hotkeys": {
    "equation": "Ctrl-E",
    "itemize": "Ctrl-I"
   },
   "labels_anchors": false,
   "latex_user_defs": false,
   "report_style_numbering": false,
   "user_envs_cfg": false
  }
 },
 "nbformat": 4,
 "nbformat_minor": 5
}
