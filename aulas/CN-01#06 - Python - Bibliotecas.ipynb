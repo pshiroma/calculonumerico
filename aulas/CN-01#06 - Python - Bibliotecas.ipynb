{
 "cells": [
  {
   "cell_type": "markdown",
   "id": "45fbc2ed",
   "metadata": {},
   "source": [
    "[Vídeo]()"
   ]
  },
  {
   "cell_type": "markdown",
   "id": "287bf349",
   "metadata": {
    "slideshow": {
     "slide_type": "subslide"
    }
   },
   "source": [
    "# Inclusão de bibliotecas\n",
    "\n",
    "Assim como em outras linguagens de programação, é possível incluir bibliotecas e funções desenvolvidas por outras pessoas e executá-las no seu código.\n",
    "\n",
    "Para incluir uma biblioteca ou pacote podemos utilizar os seguintes comandos:\n",
    "\n",
    "```import ???```\n",
    "\n",
    "```import ??? as ???```\n",
    "\n",
    "```from ??? import ???```\n",
    "\n",
    "<div class=\"alert alert-info\">Observe que só precisamos importar uma biblioteca uma única vez em cada notebook.</div>"
   ]
  },
  {
   "cell_type": "code",
   "execution_count": 2,
   "id": "fb5d876c",
   "metadata": {
    "slideshow": {
     "slide_type": "-"
    }
   },
   "outputs": [
    {
     "name": "stdout",
     "output_type": "stream",
     "text": [
      "1.0\n"
     ]
    }
   ],
   "source": [
    "# Vamos utilizar a função cosseno da biblioteca math\n",
    "import math\n",
    "\n",
    "x = math.cos(0)\n",
    "print(x)"
   ]
  },
  {
   "cell_type": "code",
   "execution_count": 12,
   "id": "1a3b7443",
   "metadata": {},
   "outputs": [
    {
     "name": "stdout",
     "output_type": "stream",
     "text": [
      "0.9999999999999999\n"
     ]
    }
   ],
   "source": [
    "# vamos renomear a biblioteca math para um nome mais curto (m)\n",
    "import math as m\n",
    "\n",
    "x = m.tan(m.pi/4)\n",
    "\n",
    "print(x)"
   ]
  },
  {
   "cell_type": "code",
   "execution_count": 9,
   "id": "880f1f5d",
   "metadata": {},
   "outputs": [
    {
     "data": {
      "text/plain": [
       "0.0"
      ]
     },
     "execution_count": 9,
     "metadata": {},
     "output_type": "execute_result"
    }
   ],
   "source": [
    "# vamos importar apenas a funcao sin da biblioteca math\n",
    "from math import sin\n",
    "\n",
    "sin(0)"
   ]
  },
  {
   "cell_type": "markdown",
   "id": "9ee88249",
   "metadata": {
    "slideshow": {
     "slide_type": "skip"
    }
   },
   "source": [
    "Material de referência:\n",
    "\n",
    "https://docs.python.org/pt-br/3.9/library/index.html"
   ]
  },
  {
   "cell_type": "markdown",
   "id": "0833454e",
   "metadata": {
    "slideshow": {
     "slide_type": "slide"
    }
   },
   "source": [
    "## Exemplo\n",
    "\n",
    "Vamos criar um código para calcular o IMC (índice de massa corporal) de uma pessoa.\n",
    "O IMC é dado pela fórmula:\n",
    "\n",
    "$\n",
    "IMC = \\frac{\\text{massa}}{\\text{altura} \\cdot \\text{altura}}\n",
    "$\n",
    "\n",
    "onde:\n",
    "\n",
    "* massa: Dado em quilogramas;\n",
    "* altura: Dado em metros.\n",
    "\n",
    "Obs.: O IMC ideal encontra-se na faixa entre 18,50 e 24,99.\n",
    "\n",
    "Fonte: https://pt.wikipedia.org/wiki/%C3%8Dndice_de_massa_corporal"
   ]
  },
  {
   "cell_type": "markdown",
   "id": "a5cfa55e",
   "metadata": {
    "slideshow": {
     "slide_type": "subslide"
    }
   },
   "source": [
    "### Desenvolvimento do algoritmo"
   ]
  },
  {
   "cell_type": "code",
   "execution_count": 60,
   "id": "1232496c",
   "metadata": {
    "slideshow": {
     "slide_type": "-"
    }
   },
   "outputs": [
    {
     "name": "stdout",
     "output_type": "stream",
     "text": [
      "Entre com a massa: 70\n",
      "Entre com a altura: 1.65\n",
      "Seu imc é de 25.71\n"
     ]
    }
   ],
   "source": [
    "# Vamos usar o comando float() para converter a entrada em um número real\n",
    "massa = float(input(\"Entre com a massa: \"))\n",
    "altura = float(input(\"Entre com a altura: \"))\n",
    "imc = massa / (altura*altura)\n",
    "print(f\"Seu imc é de {imc:.2f}\")"
   ]
  },
  {
   "cell_type": "markdown",
   "id": "a8c121eb",
   "metadata": {},
   "source": [
    "## Exemplo 2"
   ]
  },
  {
   "cell_type": "markdown",
   "id": "4fbb7183",
   "metadata": {},
   "source": [
    "Vamos criar um programa que sorteia um número inteiro aleatório entre 1 e 10 e imprime-o na tela."
   ]
  },
  {
   "cell_type": "code",
   "execution_count": 3,
   "id": "ef1d0e2e",
   "metadata": {},
   "outputs": [],
   "source": [
    "import random"
   ]
  },
  {
   "cell_type": "code",
   "execution_count": 51,
   "id": "cdab2750",
   "metadata": {},
   "outputs": [
    {
     "name": "stdout",
     "output_type": "stream",
     "text": [
      "O valor sorteado foi: 5\n"
     ]
    }
   ],
   "source": [
    "x = random.randint(1,10)\n",
    "print('O valor sorteado foi:', x)"
   ]
  },
  {
   "cell_type": "markdown",
   "id": "b927f6de",
   "metadata": {
    "slideshow": {
     "slide_type": "slide"
    }
   },
   "source": [
    "## Exemplo 3\n",
    "\n",
    "Vamos criar um algoritmo para calcular a área de um círculo."
   ]
  },
  {
   "cell_type": "code",
   "execution_count": 1,
   "id": "953177a5",
   "metadata": {},
   "outputs": [],
   "source": [
    "from math import pi"
   ]
  },
  {
   "cell_type": "code",
   "execution_count": 2,
   "id": "32321e6c",
   "metadata": {
    "slideshow": {
     "slide_type": "-"
    }
   },
   "outputs": [
    {
     "name": "stdout",
     "output_type": "stream",
     "text": [
      "Entre com o raio: 32\n",
      "A área é de 3216.990877275948\n"
     ]
    }
   ],
   "source": [
    "raio = float(input(\"Entre com o raio: \")) \n",
    "area = pi * raio ** 2\n",
    "print(\"A área é de\", area)"
   ]
  },
  {
   "cell_type": "markdown",
   "id": "9c1b563a",
   "metadata": {
    "slideshow": {
     "slide_type": "subslide"
    }
   },
   "source": [
    "Caso você queira formatar a saída para apresentar apenas 2 algarismos após a vírgula, uma das formas possíveis é utilizar as `f-strings` (https://pythonacademy.com.br/blog/f-strings-no-python)"
   ]
  },
  {
   "cell_type": "code",
   "execution_count": 30,
   "id": "bf82f086",
   "metadata": {
    "slideshow": {
     "slide_type": "-"
    }
   },
   "outputs": [
    {
     "name": "stdout",
     "output_type": "stream",
     "text": [
      "A área é de 12.57\n"
     ]
    }
   ],
   "source": [
    "print(f'A área é de {area:.2f}')"
   ]
  }
 ],
 "metadata": {
  "celltoolbar": "Slideshow",
  "kernelspec": {
   "display_name": "Python 3 (ipykernel)",
   "language": "python",
   "name": "python3"
  },
  "language_info": {
   "codemirror_mode": {
    "name": "ipython",
    "version": 3
   },
   "file_extension": ".py",
   "mimetype": "text/x-python",
   "name": "python",
   "nbconvert_exporter": "python",
   "pygments_lexer": "ipython3",
   "version": "3.9.12"
  },
  "latex_envs": {
   "LaTeX_envs_menu_present": true,
   "autoclose": true,
   "autocomplete": true,
   "bibliofile": "biblio.bib",
   "cite_by": "apalike",
   "current_citInitial": 1,
   "eqLabelWithNumbers": true,
   "eqNumInitial": 1,
   "hotkeys": {
    "equation": "Ctrl-E",
    "itemize": "Ctrl-I"
   },
   "labels_anchors": false,
   "latex_user_defs": false,
   "report_style_numbering": false,
   "user_envs_cfg": false
  }
 },
 "nbformat": 4,
 "nbformat_minor": 5
}
