{
 "cells": [
  {
   "cell_type": "markdown",
   "id": "45fbc2ed",
   "metadata": {},
   "source": [
    "[Vídeo]()"
   ]
  },
  {
   "cell_type": "markdown",
   "id": "287bf349",
   "metadata": {
    "slideshow": {
     "slide_type": "subslide"
    }
   },
   "source": [
    "# Inclusão de bibliotecas\n",
    "\n",
    "Para incluir uma biblioteca ou pacote podemos utilizar os seguintes comandos:\n",
    "\n",
    "```import ???```\n",
    "\n",
    "```import ??? as ???```\n",
    "\n",
    "```from ??? import ???```\n",
    "\n",
    "<div class=\"alert alert-info\">Observe que só precisamos importar uma biblioteca uma única vez em cada notebook.</div>"
   ]
  },
  {
   "cell_type": "code",
   "execution_count": 2,
   "id": "fb5d876c",
   "metadata": {
    "slideshow": {
     "slide_type": "-"
    }
   },
   "outputs": [
    {
     "name": "stdout",
     "output_type": "stream",
     "text": [
      "1.0\n"
     ]
    }
   ],
   "source": [
    "# Vamos utilizar a função cosseno da biblioteca math\n",
    "import math\n",
    "\n",
    "x = math.cos(0)\n",
    "print(x)"
   ]
  },
  {
   "cell_type": "code",
   "execution_count": 12,
   "id": "1a3b7443",
   "metadata": {},
   "outputs": [
    {
     "name": "stdout",
     "output_type": "stream",
     "text": [
      "0.9999999999999999\n"
     ]
    }
   ],
   "source": [
    "# vamos renomear a biblioteca math para um nome mais curto (m)\n",
    "import math as m\n",
    "\n",
    "x = m.tan(m.pi/4)\n",
    "\n",
    "print(x)"
   ]
  },
  {
   "cell_type": "code",
   "execution_count": 9,
   "id": "880f1f5d",
   "metadata": {},
   "outputs": [
    {
     "data": {
      "text/plain": [
       "0.0"
      ]
     },
     "execution_count": 9,
     "metadata": {},
     "output_type": "execute_result"
    }
   ],
   "source": [
    "# vamos importar apenas a funcao sin da biblioteca math\n",
    "from math import sin\n",
    "\n",
    "sin(0)"
   ]
  },
  {
   "cell_type": "markdown",
   "id": "9ee88249",
   "metadata": {
    "slideshow": {
     "slide_type": "skip"
    }
   },
   "source": [
    "Material de referência:\n",
    "\n",
    "https://docs.python.org/pt-br/3.9/library/index.html"
   ]
  },
  {
   "cell_type": "markdown",
   "id": "b7d03d78",
   "metadata": {
    "slideshow": {
     "slide_type": "slide"
    }
   },
   "source": [
    "# Organização do código"
   ]
  },
  {
   "cell_type": "markdown",
   "id": "990f50fa",
   "metadata": {
    "slideshow": {
     "slide_type": "subslide"
    }
   },
   "source": [
    "É recomendável organizar o código-fonte de forma que ele fique bem estruturado.\n",
    "\n",
    "A forma como organizamos um código no Jupyter é um pouco diferente daquela encontrada em um compilador tradicional.\n",
    "Por exemplo, em um compilador C normalmente temos uma função principal:\n",
    "```\n",
    "int main()\n",
    "{\n",
    "}\n",
    "```\n",
    "e o seu código seria escrito dentro desta função.\n",
    "\n",
    "No ambiente jupyter não temos uma função principal, sendo os comandos organizados dentro das células."
   ]
  },
  {
   "cell_type": "markdown",
   "id": "655006d2",
   "metadata": {
    "slideshow": {
     "slide_type": "subslide"
    }
   },
   "source": [
    "Vamos, por questão meramente didática, dividir o código-fonte em células segundo o critério a seguir:\n",
    "\n",
    "1. Inclusão das bibliotecas: Nesta célula vamos realizar os comandos do tipo `import biblioteca`. \n",
    "2. Definição de constantes e variáveis: Nesta(s) célula(s) vamos definir as constantes e variáveis (que possuem valor inicial) que serão usadas durante o código.\n",
    "3. Desenvolvimento do algoritmo: Nesta(s) célula(s) vamos desenvolver o(s) algoritmo(s)."
   ]
  },
  {
   "cell_type": "markdown",
   "id": "0833454e",
   "metadata": {
    "slideshow": {
     "slide_type": "slide"
    }
   },
   "source": [
    "## Exemplo\n",
    "\n",
    "Vamos criar um código para calcular o IMC (índice de massa corporal) de uma pessoa.\n",
    "O IMC é dado pela fórmula:\n",
    "\n",
    "$\n",
    "IMC = \\frac{\\text{massa}}{\\text{altura} \\cdot \\text{altura}}\n",
    "$\n",
    "\n",
    "onde:\n",
    "\n",
    "* massa: Dado em quilogramas;\n",
    "* altura: Dado em metros.\n",
    "\n",
    "Obs.: O IMC ideal encontra-se na faixa entre 18,50 e 24,99.\n",
    "\n",
    "Fonte: https://pt.wikipedia.org/wiki/%C3%8Dndice_de_massa_corporal"
   ]
  },
  {
   "cell_type": "markdown",
   "id": "a5cfa55e",
   "metadata": {
    "slideshow": {
     "slide_type": "subslide"
    }
   },
   "source": [
    "### Desenvolvimento do algoritmo"
   ]
  },
  {
   "cell_type": "code",
   "execution_count": 60,
   "id": "1232496c",
   "metadata": {
    "slideshow": {
     "slide_type": "-"
    }
   },
   "outputs": [
    {
     "name": "stdout",
     "output_type": "stream",
     "text": [
      "Entre com a massa: 70\n",
      "Entre com a altura: 1.65\n",
      "Seu imc é de 25.71\n"
     ]
    }
   ],
   "source": [
    "# Vamos usar o comando float() para converter a entrada em um número real\n",
    "massa = float(input(\"Entre com a massa: \"))\n",
    "altura = float(input(\"Entre com a altura: \"))\n",
    "imc = massa / (altura*altura)\n",
    "print(f\"Seu imc é de {imc:.2f}\")"
   ]
  },
  {
   "cell_type": "markdown",
   "id": "a8c121eb",
   "metadata": {},
   "source": [
    "## Exemplo 2"
   ]
  },
  {
   "cell_type": "markdown",
   "id": "4fbb7183",
   "metadata": {},
   "source": [
    "Vamos criar um programa que sorteia um número inteiro aleatório entre 1 e 10 e imprime-o na tela."
   ]
  },
  {
   "cell_type": "code",
   "execution_count": 3,
   "id": "ef1d0e2e",
   "metadata": {},
   "outputs": [],
   "source": [
    "import random"
   ]
  },
  {
   "cell_type": "code",
   "execution_count": 51,
   "id": "cdab2750",
   "metadata": {},
   "outputs": [
    {
     "name": "stdout",
     "output_type": "stream",
     "text": [
      "O valor sorteado foi: 5\n"
     ]
    }
   ],
   "source": [
    "x = random.randint(1,10)\n",
    "print('O valor sorteado foi:', x)"
   ]
  },
  {
   "cell_type": "markdown",
   "id": "b927f6de",
   "metadata": {
    "slideshow": {
     "slide_type": "slide"
    }
   },
   "source": [
    "## Exemplo 3\n",
    "\n",
    "Vamos criar um algoritmo para calcular a área de um círculo."
   ]
  },
  {
   "cell_type": "code",
   "execution_count": 62,
   "id": "32321e6c",
   "metadata": {
    "slideshow": {
     "slide_type": "-"
    }
   },
   "outputs": [
    {
     "name": "stdout",
     "output_type": "stream",
     "text": [
      "Entre com o raio: 4\n",
      "A área é de 50.26548245743669\n"
     ]
    }
   ],
   "source": [
    "raio = float(input(\"Entre com o raio: \")) \n",
    "area = m.pi * raio ** 2\n",
    "print(\"A área é de\", area)"
   ]
  },
  {
   "cell_type": "markdown",
   "id": "9c1b563a",
   "metadata": {
    "slideshow": {
     "slide_type": "subslide"
    }
   },
   "source": [
    "Caso você queira formatar a saída para apresentar apenas 2 algarismos após a vírgula, uma das formas possíveis é utilizar as `f-strings` (https://pythonacademy.com.br/blog/f-strings-no-python)"
   ]
  },
  {
   "cell_type": "code",
   "execution_count": 30,
   "id": "bf82f086",
   "metadata": {
    "slideshow": {
     "slide_type": "-"
    }
   },
   "outputs": [
    {
     "name": "stdout",
     "output_type": "stream",
     "text": [
      "A área é de 12.57\n"
     ]
    }
   ],
   "source": [
    "print(f'A área é de {area:.2f}')"
   ]
  },
  {
   "cell_type": "markdown",
   "id": "aef710c6",
   "metadata": {
    "slideshow": {
     "slide_type": "slide"
    }
   },
   "source": [
    "## Exemplo 5: Booleanos"
   ]
  },
  {
   "cell_type": "markdown",
   "id": "da1b9b6a",
   "metadata": {
    "slideshow": {
     "slide_type": "skip"
    }
   },
   "source": [
    "O tipo de dados `bool` armazena valores do tipo *verdadeiro* e *falso*.\n",
    "Seu nome tem origem no matemático <a href=https://www.tecmundo.com.br/programacao/1527-logica-booleana-saiba-um-pouco-mais-sobre-esta-logica-e-como-ela-funciona.htm>George Boole</a>, criador da álgebra booleana.\n",
    "\n",
    "A álgebra de Boole baseia-se em três operadores: E, OU e NÃO (AND, OR, NOT), e foi fundamental para o desenvolvimento dos circuitos lógicos, base dos computadores modernos.\n",
    "Ou seja, embora um microprocessador pareça ser algo extremamente complicado, caso pudéssemos visualizá-lo no seu nível mais fundamental, veríamos milhões de portas lógicas conectadas entre si.\n",
    "\n",
    "Um aspecto interessante é que tais portas lógicas foram inicialmente implementadas com relés, depois válvulas e por último transistores e os circuitos integrados.\n",
    "<a href=https://tecdicas.com/criando-portas-logicas-com-transistores/>[saiba mais]</a>\n",
    "\n",
    "Outra aplicação que tem mostrado crescimento expressivo é na área de biologia sintética, onde circuitos lógicos *biológicos* são inseridos dentro de células, ajustando o fluxo metabólico com o intuito de gerar células que produzam um produto de interesse. \n",
    "Por exemplo, uma bactéria pode ser alterada de forma a apresentar bioluminescência na presença de metais pesados ou toxinas, tornando-se um <a href=https://bv.fapesp.br/pt/bolsas/166316/construcao-de-biossensores-de-arsenio-ultrassensiveis-atraves-da-abordagem-da-biologia-sintetica/>biossensor</a>.\n",
    "Outros exemplos são a produção de <a href=https://www.perfectdayfoods.com/>leite sintético</a> ou um assento feito de <a href=https://forbes.com.br/negocios/2019/09/conheca-cinco-empresas-de-biologia-sintetica-que-vao-mudar-a-industria-automotiva/>teias de aranha</a>.\n",
    "<a href=https://www.blogs.unicamp.br/synbiobrasil/tag/logica-booleana/>[saiba mais]</a>\n",
    "<a href=https://repositorio.unb.br/handle/10482/35547>[Duarte 2019, UnB]</a>\n",
    "\n",
    "Veremos mais a frente, quando estivermos falando de comandos condicionais (`if`), laços (`while`) e operações lógicas a utilização de variáveis do tipo booleano."
   ]
  },
  {
   "cell_type": "code",
   "execution_count": 84,
   "id": "898c7eea",
   "metadata": {
    "slideshow": {
     "slide_type": "subslide"
    }
   },
   "outputs": [
    {
     "name": "stdout",
     "output_type": "stream",
     "text": [
      "Operador not:\n",
      "False\n",
      "False\n",
      "True\n",
      "True\n",
      "\n",
      "Operador and:\n",
      "\n",
      "V and V:  True\n",
      "True\n",
      "1 > 0 and 3 < 4:  True\n",
      "V and F:  False\n",
      "1 > 0 and 5 == 2:  False\n",
      "F and F:  False\n",
      "3 > 5 and 3 > 6:  False\n",
      "\n",
      "Operador or:\n",
      "\n",
      "V or V:  True\n",
      "4 > 4 or 3 < 4:  True\n",
      "V or F:  True\n",
      "4 >= 4 or 5 == 2:  True\n",
      "F or F:  False\n",
      "3 >= 5 or 3 != 3:  True\n"
     ]
    }
   ],
   "source": [
    "# Vamos criar algumas variaveis e armazenar valores booleanos nelas:\n",
    "V1 = True \n",
    "V2 = True\n",
    "F1 = False\n",
    "F2 = False\n",
    "\n",
    "# Em seguida, vamos imprimir o resultado de algumas operacoes boolenas:\n",
    "# Operador not:\n",
    "print('Operador not:')\n",
    "print(not True)\n",
    "print(not V1)\n",
    "\n",
    "print(not False)\n",
    "print(not F1)\n",
    "\n",
    "# Operador and:\n",
    "print('\\nOperador and:\\n')\n",
    "print('V and V: ', True and True)\n",
    "\n",
    "print(V1 and V2)\n",
    "\n",
    "res = 1 > 0 and 3 < 4\n",
    "\n",
    "print('1 > 0 and 3 < 4: ', res)\n",
    "\n",
    "print('V and F: ', True and False)\n",
    "\n",
    "res = 1 > 0 and 5 == 2\n",
    "\n",
    "print('1 > 0 and 5 == 2: ', res)\n",
    "\n",
    "print('F and F: ',False and False)\n",
    "\n",
    "res = 3 > 5 and 3 > 6\n",
    "\n",
    "print('3 > 5 and 3 > 6: ', res)\n",
    "\n",
    "# Operador or:\n",
    "print('\\nOperador or:\\n')\n",
    "print('V or V: ', True or True)\n",
    "print('4 > 4 or 3 < 4: ', 4 > 4 or 3 < 4)\n",
    "\n",
    "print('V or F: ', True or False)\n",
    "print('4 >= 4 or 5 == 2: ', 4 >= 4 or 5 == 2)\n",
    "\n",
    "print('F or F: ', False or False)\n",
    "print('3 >= 5 or 3 != 3: ', 3 >= 5 or 3 != 6)\n"
   ]
  },
  {
   "cell_type": "markdown",
   "id": "6902a3f3",
   "metadata": {
    "heading_collapsed": true
   },
   "source": [
    "# Exercício 1: Média"
   ]
  },
  {
   "cell_type": "markdown",
   "id": "e73a3b0b",
   "metadata": {
    "hidden": true
   },
   "source": [
    "Crie um algoritmo que leia 3 números reais ($a$, $b$ e $c$) e calcule:\n",
    "\n",
    "* A média aritmética deles: \n",
    "$MA = \\dfrac{(a + b + c)}{3}$\n",
    "* A média harmônica deles: \n",
    "$MH = \\dfrac{3}{\\dfrac{1}{a} + \\dfrac{1}{b} + \\dfrac{1}{c}}$\n",
    "\n",
    "<div class=\"alert alert-info\">\n",
    "Obs.: Use os parênteses \"()\" para organizar a precedência das operações.\n",
    "</div>"
   ]
  },
  {
   "cell_type": "markdown",
   "id": "008442fb",
   "metadata": {
    "hidden": true
   },
   "source": [
    "## Escreva sua resposta abaixo:\n",
    "\n",
    "Crie novas células se quiser"
   ]
  },
  {
   "cell_type": "code",
   "execution_count": null,
   "id": "5ba3106b",
   "metadata": {
    "hidden": true
   },
   "outputs": [],
   "source": []
  }
 ],
 "metadata": {
  "celltoolbar": "Slideshow",
  "kernelspec": {
   "display_name": "Python 3 (ipykernel)",
   "language": "python",
   "name": "python3"
  },
  "language_info": {
   "codemirror_mode": {
    "name": "ipython",
    "version": 3
   },
   "file_extension": ".py",
   "mimetype": "text/x-python",
   "name": "python",
   "nbconvert_exporter": "python",
   "pygments_lexer": "ipython3",
   "version": "3.9.12"
  },
  "latex_envs": {
   "LaTeX_envs_menu_present": true,
   "autoclose": true,
   "autocomplete": true,
   "bibliofile": "biblio.bib",
   "cite_by": "apalike",
   "current_citInitial": 1,
   "eqLabelWithNumbers": true,
   "eqNumInitial": 1,
   "hotkeys": {
    "equation": "Ctrl-E",
    "itemize": "Ctrl-I"
   },
   "labels_anchors": false,
   "latex_user_defs": false,
   "report_style_numbering": false,
   "user_envs_cfg": false
  }
 },
 "nbformat": 4,
 "nbformat_minor": 5
}
