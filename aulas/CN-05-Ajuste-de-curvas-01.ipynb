{
 "cells": [
  {
   "cell_type": "markdown",
   "id": "8fb4c75a",
   "metadata": {
    "slideshow": {
     "slide_type": "slide"
    }
   },
   "source": [
    "# Ajuste de curvas\n",
    "\n",
    "* Regressão linear por mínimos quadrados"
   ]
  },
  {
   "cell_type": "markdown",
   "id": "465de2a9",
   "metadata": {
    "slideshow": {
     "slide_type": "slide"
    }
   },
   "source": [
    "# Motivação\n",
    "\n",
    "Nesta seção veremos problemas onde queremos **prever** um valor numérico a partir de observações feitas previamente.\n",
    "Este problema é conhecido como **estimação** ou também **regressão**.\n",
    "\n",
    "Neste tipo de problema uma *variável independente ou preditora* é utilizada para prever o valor de uma *variável alvo ou dependente*.\n",
    "\n",
    "Por exemplo, suponha que você ache que exista uma relação entre a temperatura e a quantidade de sorvetes vendidos.\n",
    "\n",
    "A temperatura poderia ser utilizada como variável preditora para estimar o valor de vendas de sorvete (variável alvo), como no exemplo abaixo:\n",
    "\n",
    "Dados de venda de sorvete (valores fictícios):\n",
    "\n",
    "| Dia | Temperatura (ºC) | Vendas |\n",
    "| --- | --- | --- |\n",
    "| 1 | 20 | 50 |\n",
    "| 2 | 22 | 53 |\n",
    "| 3 | 21 | 51 |\n",
    "| 4 | 18 | 42 |\n",
    "| 5 | 17 | 38 |\n",
    "| 6 | 20 | 51 |\n",
    "| 7 | 22 | 55 |\n",
    "| 8 | 24 | 63 |\n",
    "| 9 | 26 | 67 |\n",
    "| 10 | 27 | 72 |\n",
    "| 11 | 28 | 80 |\n",
    "| 12 | 29 | 85 |\n",
    "\n",
    "Observando o gráfico dos dados da tabela anterior, podemos ver que existe uma relação *linear* entre a variável independente e a variável dependente.\n",
    "\n",
    "![grafico](figuras/sorvete.png)\n",
    "\n",
    "Ou seja, o nosso modelo poderia ser bem descrito pela função:\n",
    "\n",
    "$\n",
    "y = \\theta_1 x + \\theta_0 \n",
    "$\n",
    "\n",
    "onde $\\theta_1$ e $\\theta_0$ são os parâmetros do modelo, $y$ a variável alvo (vendas de sorvete) e $x$ a variável preditora (temperatura).\n",
    "\n",
    "Este tipo de problema é chamado de **regressão linear**.\n",
    "\n",
    "No gráfico abaixo vemos como uma reta com valores $\\theta_1 = 3.66$ e $\\theta_0 = -24,72$ explica bem os pontos observados:"
   ]
  },
  {
   "cell_type": "code",
   "execution_count": 5,
   "id": "9ed0ddf9",
   "metadata": {
    "slideshow": {
     "slide_type": "fragment"
    }
   },
   "outputs": [
    {
     "data": {
      "text/plain": [
       "[<matplotlib.lines.Line2D at 0x1f4fcf7a370>]"
      ]
     },
     "execution_count": 5,
     "metadata": {},
     "output_type": "execute_result"
    },
    {
     "data": {
      "image/png": "[encoded data removed]",
      "text/plain": [
       "<Figure size 432x288 with 1 Axes>"
      ]
     },
     "metadata": {
      "needs_background": "light"
     },
     "output_type": "display_data"
    }
   ],
   "source": [
    "import matplotlib.pyplot as plt\n",
    "import numpy as np\n",
    "import pandas as pd\n",
    "\n",
    "dias = [1,2,3,4,5,6,7,8,9,10,11,12]\n",
    "temperaturas = np.array([20,22,21,18,17,20,22,24,26,27,28,29])\n",
    "vendas = np.array([50,53,51,42,38,51,55,63,67,72,80,85])\n",
    "\n",
    "theta1,theta0 = 3.66, -24.72\n",
    "\n",
    "plt.scatter(temperaturas, vendas)\n",
    "plt.xlabel('Temperatura')\n",
    "plt.ylabel('Vendas de sorvete')\n",
    "plt.plot(temperaturas, theta1*temperaturas + theta0, 'r')"
   ]
  },
  {
   "cell_type": "markdown",
   "id": "2abee8e1-7951-4216-9b48-c0f155871c49",
   "metadata": {},
   "source": [
    "## Prevendo novos valores"
   ]
  },
  {
   "cell_type": "markdown",
   "id": "ab89a451-9e4f-44c5-ba67-bde491968c21",
   "metadata": {},
   "source": [
    "Com base no modelo acima ($y = \\theta_1 x + \\theta_0$) que relaciona a temperatura (variável $x$) com a quantidade de vendas (variável $y$), podemos estimar o valor de vendas para uma nova temperatura, para o qual não temos o valor."
   ]
  },
  {
   "cell_type": "code",
   "execution_count": 6,
   "id": "d62bf0f4",
   "metadata": {
    "slideshow": {
     "slide_type": "fragment"
    }
   },
   "outputs": [
    {
     "name": "stdout",
     "output_type": "stream",
     "text": [
      "As vendas estimadas para uma temperatura de 30ºC é de 85 sorvetes\n"
     ]
    }
   ],
   "source": [
    "# Podemos usar nosso modelo para prever as vendas em um ponto não tabelado:\n",
    "T = 30\n",
    "V = theta1*T + theta0\n",
    "print(f'As vendas estimadas para uma temperatura de {T}ºC é de {V:.0f} sorvetes')"
   ]
  },
  {
   "cell_type": "markdown",
   "id": "0027fd6e-1568-4d23-907f-368d58b70218",
   "metadata": {},
   "source": [
    "Assim, a regressão linear para o problema acima é dado por:\n",
    "\n",
    "$\n",
    "y = 3,66x -24,72\n",
    "$\n",
    "\n",
    "onde $x$ corresponde à temperatura e $y$ a estimativa de vendas de sorvete.\n",
    "\n",
    "Veremos a seguir como calcular os valores de $\\theta_0$ e $\\theta_1$ que melhor explicam os dados."
   ]
  },
  {
   "cell_type": "markdown",
   "id": "4058b2ff",
   "metadata": {
    "slideshow": {
     "slide_type": "slide"
    }
   },
   "source": [
    "# Exemplo\n",
    "\n",
    "Suponha que tenha sido feito uma pesquisa fictícia relacionando o consumo metabólico de um animal com a sua massa.\n",
    "Os dados obtidos estão representados na tabela abaixo:\n",
    "\n",
    "| Animal | Massa (kg) | Consumo metabólico (W) |\n",
    "| --- | --- | --- |\n",
    "| Vaca | 400 | 470 |\n",
    "| Cavalo | 300 | 400 |\n",
    "| Javali | 100 | 120 |\n",
    "| Humano | 70 | 72 |\n",
    "| Ovelha | 45 | 50 |\n",
    "| Galinha | 2 | 4,8 |\n",
    "| Rato | 0,3 | 1,45 |\n",
    "| Pombo | 0,16 | 0,97 |\n",
    "\n",
    "Os dados acima podem ser melhor visualizados no gráfico abaixo:\n",
    "\n",
    "![consumo](./figuras/ajuste-curvas-consumometabolico.png)\n",
    "\n",
    "Com base nos dados acima, qual seria uma **estimativa** para o consumo de um tigre de 200kg?"
   ]
  },
  {
   "cell_type": "markdown",
   "id": "457e7509-bccf-4003-9c70-8d103373c822",
   "metadata": {},
   "source": [
    "Inicialmente, observamos pelo gráfico que o consumo varia **linearmente** com a massa.\n",
    "Assim, podemos **aproximar** o modelo por uma reta:\n",
    "\n",
    "$\n",
    "y = \\theta_1x + \\theta_0\n",
    "$\n",
    "\n",
    "onde $y$ é o consumo metabólico e $x$ a massa.\n",
    "Dadas as características do problema, podemos supor também que $\\theta_0 = 0$."
   ]
  },
  {
   "cell_type": "markdown",
   "id": "92d05609-affa-4fc7-b38a-33daa0d49e4c",
   "metadata": {},
   "source": [
    "## Estimando os parâmetros do modelo usando apenas 1 dado"
   ]
  },
  {
   "cell_type": "markdown",
   "id": "08cad187-ea1c-45ad-95f7-60e5f608c305",
   "metadata": {},
   "source": [
    "Nosso modelo simplificado se torna então:\n",
    "\n",
    "$y  = \\theta_1 x$.\n",
    "\n",
    "A princípio, basta utilizar os dados de uma única observação para obtermos o valor de $\\theta_1$.\n",
    "Se utilizarmos os dados para vaca, teremos:\n",
    "\n",
    "$\\theta_1 = \\dfrac{\\Delta y}{\\Delta x} = \\dfrac{470}{400} = 1,175$\n",
    "\n",
    "Assim, para uma massa $m = 200$, teremos:\n",
    "\n",
    "$y = 1,175\\cdot 200 = 235,0$.\n",
    "\n",
    "Porém, se utilizamos os dados para cavalo, o valor obtido será:\n",
    "\n",
    "$\\theta_1 = \\dfrac{\\Delta y}{\\Delta x} = \\dfrac{400}{300} = 1,333$\n",
    "\n",
    "$y = 1,333\\cdot 200 = 266,667\n",
    "$\n",
    "\n",
    "<div class=\"alert alert-block alert-warning\">\n",
    "Qual seria um bom critério para definir os parâmetros do nosso modelo?</div>\n",
    "\n",
    "Uma forma melhor seria estimar o valor de $\\theta_1$ utilizando **todos** os dados disponíveis, **minimizando** alguma métrica de **erro**:\n",
    "\n",
    "* Método dos mínimos quadrados."
   ]
  },
  {
   "cell_type": "markdown",
   "id": "708aea99",
   "metadata": {
    "slideshow": {
     "slide_type": "fragment"
    }
   },
   "source": [
    "## Resíduo\n",
    "\n",
    "Considere um modelo $y(x) = \\theta_1x$ que estima o valor de consumo metabólico.\n",
    "\n",
    "Vamos chamar a diferença entre o valor estimado e o valor medido de **erro** ou **resíduo**:\n",
    "\n",
    "$\n",
    "e_i = y_i - y(x_i)\n",
    "$\n",
    "\n",
    "Para o exemplo anterior, teremos que o resíduo utilizando os dados da vaca será igual a:"
   ]
  },
  {
   "cell_type": "code",
   "execution_count": 1,
   "id": "693554db",
   "metadata": {},
   "outputs": [
    {
     "name": "stdout",
     "output_type": "stream",
     "text": [
      "a 2\n",
      "b 4\n",
      "c 6\n"
     ]
    }
   ],
   "source": [
    "lista1 = ['a', 'b', 'c']\n",
    "lista2 = [2, 4, 6]\n",
    "z = zip(lista1, lista2)\n",
    "for a,b in z:\n",
    "    print(a,b)"
   ]
  },
  {
   "cell_type": "code",
   "execution_count": 13,
   "id": "593686eb",
   "metadata": {
    "slideshow": {
     "slide_type": "fragment"
    }
   },
   "outputs": [
    {
     "name": "stdout",
     "output_type": "stream",
     "text": [
      "Resíduo para Vaca = 0.00\n",
      "Resíduo para Cavalo = 47.50\n",
      "Resíduo para Javali = 2.50\n",
      "Resíduo para Homem = -10.25\n",
      "Resíduo para Ovelha = -2.88\n",
      "Resíduo para Galinha = 2.45\n",
      "Resíduo para Rato = 1.10\n",
      "Resíduo para Pombo = 0.78\n"
     ]
    }
   ],
   "source": [
    "consumo = np.array([470, 400, 120, 72, 50, 4.8, 1.45, 0.97])\n",
    "massa = np.array([400, 300, 100, 70, 45, 2, 0.3, 0.16])\n",
    "animal = ['Vaca', 'Cavalo', 'Javali', 'Homem', 'Ovelha', 'Galinha', 'Rato', 'Pombo']\n",
    "\n",
    "theta1 = 470/400\n",
    "\n",
    "for an,c,m in zip(animal, consumo, massa):\n",
    "    e = c - theta1*m\n",
    "    print(f'Resíduo para {an} = {e:.2f}')"
   ]
  },
  {
   "cell_type": "markdown",
   "id": "b3abfc23",
   "metadata": {
    "slideshow": {
     "slide_type": "fragment"
    }
   },
   "source": [
    "Um critério muito utilizado para determinar o valor do parâmetro $\\theta_1$ é encontrar o valor de $\\theta_1$ que minimiza a soma do **quadrado do resíduo**:\n",
    "\n",
    "(Pare e pense: Por que minimizar a soma do **quadrado** do resíduo é melhor que minimizar a soma do resíduo?)"
   ]
  },
  {
   "cell_type": "code",
   "execution_count": 4,
   "id": "0441648e",
   "metadata": {
    "slideshow": {
     "slide_type": "fragment"
    }
   },
   "outputs": [
    {
     "name": "stdout",
     "output_type": "stream",
     "text": [
      "[  0.      47.5      2.5    -10.25    -2.875    2.45     1.0975   0.782 ]\n",
      "2383.64665525\n"
     ]
    }
   ],
   "source": [
    "consumo = np.array([470, 400, 120, 72, 50, 4.8, 1.45, 0.97])\n",
    "massa = np.array([400, 300, 100, 70, 45, 2, 0.3, 0.16])\n",
    "animal = ['Vaca', 'Cavalo', 'Javali', 'Homem', 'Ovelha', 'Galinha', 'Rato', 'Pombo']\n",
    "\n",
    "theta1 = 470/400\n",
    "\n",
    "residuo = consumo - theta1*massa\n",
    "print(residuo)\n",
    "\n",
    "soma = np.sum((residuo**2))\n",
    "print(soma)"
   ]
  },
  {
   "cell_type": "markdown",
   "id": "1780c462",
   "metadata": {
    "slideshow": {
     "slide_type": "fragment"
    }
   },
   "source": [
    "## Gráfico do resíduo vs $\\theta_1$\n",
    "\n",
    "Vamos variar o valor de $\\theta_1$ e determinar a soma do quadrado do resíduo para cada valor de $\\theta_1$:"
   ]
  },
  {
   "cell_type": "code",
   "execution_count": 5,
   "id": "5fb567dc",
   "metadata": {
    "slideshow": {
     "slide_type": "fragment"
    }
   },
   "outputs": [
    {
     "data": {
      "text/plain": [
       "[<matplotlib.lines.Line2D at 0x276d89ec820>]"
      ]
     },
     "execution_count": 5,
     "metadata": {},
     "output_type": "execute_result"
    },
    {
     "data": {
      "image/png": "[encoded data removed]",
      "text/plain": [
       "<Figure size 432x288 with 1 Axes>"
      ]
     },
     "metadata": {
      "needs_background": "light"
     },
     "output_type": "display_data"
    }
   ],
   "source": [
    "consumo = np.array([470, 400, 120, 72, 50, 4.8, 1.45, 0.97])\n",
    "massa = np.array([400, 300, 100, 70, 45, 2, 0.3, 0.16])\n",
    "animal = ['Vaca', 'Cavalo', 'Javali', 'Homem', 'Ovelha', 'Galinha', 'Rato', 'Pombo']\n",
    "\n",
    "THETA = np.linspace(0.5,2)\n",
    "S = []\n",
    "for th1 in THETA:\n",
    "    residuo = consumo - th1*massa\n",
    "    soma = np.sum((residuo**2))\n",
    "    S.append(soma)\n",
    "    \n",
    "plt.plot(THETA, S)"
   ]
  },
  {
   "cell_type": "markdown",
   "id": "a8f30ded",
   "metadata": {
    "slideshow": {
     "slide_type": "fragment"
    }
   },
   "source": [
    "Observe que o valor que minimiza a soma dos resíduos encontra-se próximo de 1,2.\n",
    "Existem várias formas de determinar este valor:"
   ]
  },
  {
   "cell_type": "markdown",
   "id": "b55b7e84-e8eb-4fa4-a608-bbbde9ff475b",
   "metadata": {
    "slideshow": {
     "slide_type": "fragment"
    }
   },
   "source": [
    "## Método 1: Utilizando uma função pronta\n",
    "\n",
    "É possível determinar os parâmetros utilizando funções de bibliotecas tradicionais.\n",
    "\n",
    "Uma delas é a função `lstsq` da biblioteca `numpy`.\n",
    "Nesta função, ela determina a solução que melhor se aproxima da solução do sistema:\n",
    "\n",
    "$y = Ax$\n",
    "\n",
    "minimizando o erro dado por $\\lVert y - Ax  \\rVert $"
   ]
  },
  {
   "cell_type": "code",
   "execution_count": 33,
   "id": "1365647d",
   "metadata": {
    "slideshow": {
     "slide_type": "fragment"
    }
   },
   "outputs": [
    {
     "name": "stdout",
     "output_type": "stream",
     "text": [
      "(array([1.22616894]), array([1684.75677101]), 1, array([516.65183209])) \n",
      "theta1 = [1.22616894]\n",
      "\n",
      "A equação do modelo é a reta: y = 1.226x\n"
     ]
    }
   ],
   "source": [
    "import numpy as np\n",
    "\n",
    "# y = consumo\n",
    "consumo = np.array([470, 400, 120, 72, 50, 4.8, 1.45, 0.97])\n",
    "# A = massa\n",
    "# neste caso, A deve ser um vetor coluna\n",
    "massa = np.array([400, 300, 100, 70, 45, 2, 0.3, 0.16]).reshape(-1,1)\n",
    "# x = theta1\n",
    "\n",
    "resposta = np.linalg.lstsq(massa, consumo, rcond=None)\n",
    "th1 = resposta[0]\n",
    "print(resposta, '\\ntheta1 =', th1)\n",
    "print(f'\\nA equação do modelo é a reta: y = {th1[0]:.3f}x')"
   ]
  },
  {
   "cell_type": "markdown",
   "id": "0044fe1e-bf10-4a59-b8ab-ede45d6f7190",
   "metadata": {
    "slideshow": {
     "slide_type": "fragment"
    }
   },
   "source": [
    "### Método 3b:\n",
    "\n",
    "Outra opção é a função `linregress` do pacote `scipy`.\n",
    "Neste caso o ajuste é feito usando a função $y = \\theta_1x + \\theta_0$"
   ]
  },
  {
   "cell_type": "code",
   "execution_count": 32,
   "id": "82cffabd",
   "metadata": {
    "slideshow": {
     "slide_type": "fragment"
    }
   },
   "outputs": [
    {
     "name": "stdout",
     "output_type": "stream",
     "text": [
      "LinregressResult(slope=1.2302402800853454, intercept=-1.1845309208876245, rvalue=0.9965896331464744, pvalue=9.890808956322722e-08, stderr=0.041585593811254734, intercept_stderr=7.596191198662999)\n",
      "\n",
      "A equação do modelo é a reta: y = 1.230x + -1.185\n"
     ]
    }
   ],
   "source": [
    "from scipy import stats\n",
    "\n",
    "consumo = np.array([470, 400, 120, 72, 50, 4.8, 1.45, 0.97])\n",
    "massa = np.array([400, 300, 100, 70, 45, 2, 0.3, 0.16])\n",
    "\n",
    "X = massa\n",
    "Y = consumo\n",
    "\n",
    "res = stats.linregress(X, Y)\n",
    "print(res)\n",
    "th1,th0 = res.slope, res.intercept\n",
    "print(f'\\nA equação do modelo é a reta: y = {th1:.3f}x + {th0:.3f}')"
   ]
  },
  {
   "cell_type": "markdown",
   "id": "caffa19c",
   "metadata": {
    "slideshow": {
     "slide_type": "fragment"
    }
   },
   "source": [
    "## Método 2: Otimização\n",
    "\n",
    "Podemos usar os métodos de minimização visto em aula para achar o melhor valor de $\\theta_1$:"
   ]
  },
  {
   "cell_type": "code",
   "execution_count": 28,
   "id": "75ce2361",
   "metadata": {
    "slideshow": {
     "slide_type": "fragment"
    }
   },
   "outputs": [
    {
     "name": "stdout",
     "output_type": "stream",
     "text": [
      "     fun: 1684.7567710146986\n",
      "    nfev: 9\n",
      "     nit: 5\n",
      " success: True\n",
      "       x: 1.226168938012995\n",
      "A equação do modelo é a reta: y = 1.226x\n",
      "O consumo metabólico estimado para o tigre é de 245.234\n"
     ]
    }
   ],
   "source": [
    "import scipy.optimize as opt\n",
    "\n",
    "consumo = np.array([470, 400, 120, 72, 50, 4.8, 1.45, 0.97])\n",
    "massa = np.array([400, 300, 100, 70, 45, 2, 0.3, 0.16])\n",
    "\n",
    "def f(theta1):\n",
    "    residuo = consumo - theta1*massa\n",
    "    soma = np.sum((residuo**2))\n",
    "    return soma\n",
    "    \n",
    "res = opt.minimize_scalar(f, bracket=(1,1.4))\n",
    "print(res)\n",
    "th1 = res.x\n",
    "\n",
    "print(f'A equação do modelo é a reta: y = {th1:.3f}x')\n",
    "\n",
    "massa_tigre = 200\n",
    "consumo_tigre = th1 * massa_tigre\n",
    "print(f'O consumo metabólico estimado para o tigre é de {consumo_tigre:.3f}')\n"
   ]
  },
  {
   "cell_type": "markdown",
   "id": "464b4ea4",
   "metadata": {
    "slideshow": {
     "slide_type": "fragment"
    }
   },
   "source": [
    "## Método 3: Solução analítica\n",
    "\n",
    "Entretanto, neste caso podemos resolver analiticamente o problema:\n",
    "\n",
    "$f(x) = \\sum\\limits_{i=1}^N e_i^2$\n",
    "\n",
    "$f(x) = \\sum\\limits_{i=1}^N (y_i - \\theta_1x_i)^2$\n",
    "\n",
    "Derivando em relação à variável $\\theta_1$ obtemos:\n",
    "\n",
    "$f'(x) = \\sum\\limits_{i=1}^N 2(y_i - \\theta_1x_i)(-x_i)$\n",
    "\n",
    "Igualando a zero e simplificando temos:\n",
    "\n",
    "$\\sum\\limits_{i=1}^N (y_i - \\theta_1x_i)(x_i) = 0$\n",
    "\n",
    "Expandindo as somatórias temos:\n",
    "\n",
    "$\\sum\\limits_{i=1}^N y_i x_i - \\sum\\limits_{i=1}^N \\theta_1 x_i^2 = 0$\n",
    "\n",
    "O que nos leva à fórmula:\n",
    "\n",
    "$\\theta_1 = \\dfrac{\\sum\\limits_{i=1}^N y_i  x_i}{\\sum\\limits_{i=1}^N x_i^2}$"
   ]
  },
  {
   "cell_type": "code",
   "execution_count": 29,
   "id": "2fa3eb50",
   "metadata": {
    "slideshow": {
     "slide_type": "fragment"
    }
   },
   "outputs": [
    {
     "name": "stdout",
     "output_type": "stream",
     "text": [
      "A equação do modelo é a reta: y = 1.226x\n"
     ]
    }
   ],
   "source": [
    "consumo = np.array([470, 400, 120, 72, 50, 4.8, 1.45, 0.97])\n",
    "massa = np.array([400, 300, 100, 70, 45, 2, 0.3, 0.16])\n",
    "\n",
    "X = massa\n",
    "Y = consumo\n",
    "\n",
    "theta1 = np.sum(X*Y) / np.sum(X**2)\n",
    "print(f'A equação do modelo é a reta: y = {theta1:.3f}x')"
   ]
  },
  {
   "cell_type": "markdown",
   "id": "74c6e4bb",
   "metadata": {},
   "source": [
    "### Biblioteca statsmodels:\n",
    "\n",
    "Também é possível utilizar a biblioteca `statsmodels.api`.\n",
    "Neste caso é possível ajustar os pontos tanto para uma reta do tipo $y = \\theta_1x$ quanto para uma reta do tipo $y = \\theta_1x + \\theta_0$"
   ]
  },
  {
   "cell_type": "code",
   "execution_count": 35,
   "id": "b688bea3",
   "metadata": {},
   "outputs": [
    {
     "name": "stdout",
     "output_type": "stream",
     "text": [
      "                                 OLS Regression Results                                \n",
      "=======================================================================================\n",
      "Dep. Variable:                      y   R-squared (uncentered):                   0.996\n",
      "Model:                            OLS   Adj. R-squared (uncentered):              0.995\n",
      "Method:                 Least Squares   F-statistic:                              1667.\n",
      "Date:                Tue, 28 Jun 2022   Prob (F-statistic):                    1.38e-09\n",
      "Time:                        20:46:46   Log-Likelihood:                         -32.751\n",
      "No. Observations:                   8   AIC:                                      67.50\n",
      "Df Residuals:                       7   BIC:                                      67.58\n",
      "Df Model:                           1                                                  \n",
      "Covariance Type:            nonrobust                                                  \n",
      "==============================================================================\n",
      "                 coef    std err          t      P>|t|      [0.025      0.975]\n",
      "------------------------------------------------------------------------------\n",
      "x1             1.2262      0.030     40.835      0.000       1.155       1.297\n",
      "==============================================================================\n",
      "Omnibus:                        6.244   Durbin-Watson:                   2.514\n",
      "Prob(Omnibus):                  0.044   Jarque-Bera (JB):                1.684\n",
      "Skew:                           1.046   Prob(JB):                        0.431\n",
      "Kurtosis:                       3.821   Cond. No.                         1.00\n",
      "==============================================================================\n",
      "\n",
      "Notes:\n",
      "[1] R² is computed without centering (uncentered) since the model does not contain a constant.\n",
      "[2] Standard Errors assume that the covariance matrix of the errors is correctly specified.\n",
      "\n",
      "A equação do modelo é a reta: y = 1.226x\n"
     ]
    },
    {
     "name": "stderr",
     "output_type": "stream",
     "text": [
      "d:\\system\\conda_envs\\cn\\lib\\site-packages\\scipy\\stats\\stats.py:1541: UserWarning: kurtosistest only valid for n>=20 ... continuing anyway, n=8\n",
      "  warnings.warn(\"kurtosistest only valid for n>=20 ... continuing \"\n"
     ]
    }
   ],
   "source": [
    "import statsmodels.api as sm\n",
    "\n",
    "modelo = sm.OLS(Y, X).fit()\n",
    "print(modelo.summary())\n",
    "th1 = modelo.params[0]\n",
    "print(f'\\nA equação do modelo é a reta: y = {th1:.3f}x')"
   ]
  },
  {
   "cell_type": "markdown",
   "id": "58e67c23",
   "metadata": {
    "slideshow": {
     "slide_type": "slide"
    }
   },
   "source": [
    "# Exemplo 2\n",
    "\n",
    "Considere os dados sobre o tabagismo no Brasil entre adultos no período de 2006 à 2021:\n",
    "\n",
    "![tabagismo](./figuras/ajuste-curvas-tabagismo.png)\n",
    "\n",
    "Fonte: Vigitel Brasil 2006 a 2021: Vigilância de Fatores de Risco e Proteção para Doenças Crônicas por Inquérito Telefônico. (https://www.inca.gov.br/observatorio-da-politica-nacional-de-controle-do-tabaco/dados-e-numeros-prevalencia-tabagismo)"
   ]
  },
  {
   "cell_type": "markdown",
   "id": "99141bcf",
   "metadata": {
    "slideshow": {
     "slide_type": "fragment"
    }
   },
   "source": [
    "Com base nos dados acima, faça uma estimativa da percentagem de fumantes na população brasileira em 2025.\n",
    "\n",
    "Neste caso a variável independente é o ano e a variável alvo a porcentagem de fumantes."
   ]
  },
  {
   "cell_type": "code",
   "execution_count": 24,
   "id": "1190cb4a",
   "metadata": {
    "slideshow": {
     "slide_type": "fragment"
    }
   },
   "outputs": [
    {
     "data": {
      "text/plain": [
       "Text(0, 0.5, 'Fumantes (%)')"
      ]
     },
     "execution_count": 24,
     "metadata": {},
     "output_type": "execute_result"
    },
    {
     "data": {
      "image/png": "[encoded data removed]",
      "text/plain": [
       "<Figure size 432x288 with 1 Axes>"
      ]
     },
     "metadata": {
      "needs_background": "light"
     },
     "output_type": "display_data"
    }
   ],
   "source": [
    "import numpy as np\n",
    "import matplotlib.pyplot as plt\n",
    "import pandas as pd\n",
    "\n",
    "ano = np.array([2006,2007,2008,2009,2010,2011,2012,2013,2014,2015,2016,\n",
    "        2017,2018,2019,2020,2021])\n",
    "fumantes = np.array([15.7,15.6,14.8,14.3,14.1,13.4,12.1, \n",
    "                     11.3,10.8,10.4,10.2,10.1,9.3,9.8,9.5,9.1])\n",
    "\n",
    "plt.scatter(ano, fumantes)\n",
    "plt.xlabel('Ano')\n",
    "plt.ylabel('Fumantes (%)')"
   ]
  },
  {
   "cell_type": "markdown",
   "id": "779a2300-31e9-43ea-97ae-2c8545a74eac",
   "metadata": {
    "slideshow": {
     "slide_type": "fragment"
    }
   },
   "source": [
    "## Método 1: Utilizando funções do python\n",
    "\n",
    "A função `lstsq` do pacote `numpy` pode ser utilizada para determinar o valores de $\\theta_1$ e $\\theta_0$ que minimizam o resíduo.\n",
    "\n",
    "Para utilizar esta função, devemos transformá-lo no formato $Y = A\\pmb{\\theta}$, onde:\n",
    "\n",
    "* $Y$ é um vetor contendo os dados da variável alvo, neste caso o percentual de fumantes\n",
    "* $\\pmb\\theta$ é um vetor contendo os parâmetros a serem estimados ($\\pmb\\theta = [ \\theta_1, \\theta_0]$)\n",
    "* $A$ é a matriz que contem o modelo e os valores da variável $x$ (ano)\n",
    "\n",
    "Para o modelo de uma reta do tipo $y = \\theta_1 x + \\theta_0$ o modelo para a matriz $A$ é:\n",
    "\n",
    "$A =\n",
    "\\begin{bmatrix}\n",
    "x_1 & 1 \\\\\n",
    "x_2 & 1 \\\\\n",
    "\\vdots \\\\\n",
    "x_n & 1\n",
    "\\end{bmatrix}\n",
    "$\n",
    "\n",
    "Assim, teremos o seguinte sistema:\n",
    "\n",
    "\\begin{equation}\n",
    "\\begin{bmatrix} y_1 \\\\ y_2 \\\\ \\vdots \\\\ y_n \\end{bmatrix} = \n",
    "\\begin{bmatrix}\n",
    "x_1 & 1 \\\\\n",
    "x_2 & 1 \\\\\n",
    "\\vdots \\\\\n",
    "x_n & 1\n",
    "\\end{bmatrix}\n",
    "\\begin{bmatrix} \\theta_1 \\\\ \\theta_0 \\end{bmatrix}\n",
    "\\end{equation}\n",
    "\n",
    "onde $x_i$ e $y_i$ correspondem à i-ésima amostra."
   ]
  },
  {
   "cell_type": "code",
   "execution_count": 21,
   "id": "d7d21f0a",
   "metadata": {
    "slideshow": {
     "slide_type": "fragment"
    }
   },
   "outputs": [
    {
     "name": "stdout",
     "output_type": "stream",
     "text": [
      "\n",
      "A equação do modelo é a reta: y = -0.482x + 982.828\n",
      "A percentagem estimada de fumantes em 2025 é de 6.360882352941189\n"
     ]
    },
    {
     "data": {
      "image/png": "[encoded data removed]",
      "text/plain": [
       "<Figure size 432x288 with 1 Axes>"
      ]
     },
     "metadata": {
      "needs_background": "light"
     },
     "output_type": "display_data"
    }
   ],
   "source": [
    "X = np.array([2006,2007,2008,2009,2010,2011,2012,2013,2014,2015,2016,\n",
    "        2017,2018,2019,2020,2021])\n",
    "Y = np.array([15.7,15.6,14.8,14.3,14.1,13.4,12.1, \n",
    "                     11.3,10.8,10.4,10.2,10.1,9.3,9.8,9.5,9.1])\n",
    "\n",
    "A = np.vstack([X, np.ones(len(X))]).T\n",
    "th1, th0 = np.linalg.lstsq(A, Y, rcond=None)[0]\n",
    "\n",
    "plt.scatter(X, Y)\n",
    "plt.plot(X, X*th1 + th0, 'r')\n",
    "\n",
    "print(f'\\nA equação do modelo é a reta: y = {th1:.3f}x + {th0:.3f}')\n",
    "\n",
    "fumantes_em_2025 = th1*2025 + th0\n",
    "print('A percentagem estimada de fumantes em 2025 é de', fumantes_em_2025)"
   ]
  },
  {
   "cell_type": "markdown",
   "id": "fa2ccbbd-8414-4068-8ac4-c912c7845f30",
   "metadata": {},
   "source": [
    "## Método 1b: Utilizando funções do python (scipy.stats.linregress)"
   ]
  },
  {
   "cell_type": "code",
   "execution_count": 22,
   "id": "c0f508ad",
   "metadata": {},
   "outputs": [
    {
     "name": "stdout",
     "output_type": "stream",
     "text": [
      "A equação do modelo é a reta: y = -0.482x + 982.828\n",
      "A percentagem estimada de fumantes em 2025 é de 6.360882352941189\n"
     ]
    }
   ],
   "source": [
    "from scipy import stats\n",
    "\n",
    "X = np.array([2006,2007,2008,2009,2010,2011,2012,2013,2014,2015,2016,\n",
    "        2017,2018,2019,2020,2021])\n",
    "Y = np.array([15.7,15.6,14.8,14.3,14.1,13.4,12.1, \n",
    "                     11.3,10.8,10.4,10.2,10.1,9.3,9.8,9.5,9.1])\n",
    "\n",
    "r = stats.linregress(X, Y)\n",
    "th1,th0 = r.slope, r.intercept\n",
    "\n",
    "print(f'A equação do modelo é a reta: y = {th1:.3f}x + {th0:.3f}')\n",
    "\n",
    "fumantes_em_2025 = th1*2025 + th0\n",
    "print('A percentagem estimada de fumantes em 2025 é de', fumantes_em_2025)"
   ]
  },
  {
   "cell_type": "markdown",
   "id": "83244a83",
   "metadata": {
    "slideshow": {
     "slide_type": "fragment"
    }
   },
   "source": [
    "## Método 2: Otimização\n",
    "\n",
    "O modelo que vamos ajustar é uma função do tipo $y = \\theta_1x + \\theta_0$, onde $y$ é o número de fumantes e $x$ o ano.\n",
    "Observando o gráfico podemos partir de uma estimativa inicial de uma reta constante $y = 20$, que nos leva aos valores $x_0 = [0, 20]$.\n",
    "\n",
    "O resíduo é dado pela equação:\n",
    "\n",
    "\\begin{aligned}\n",
    "e(x_i) &= y_i - y(x_i)  \\\\\n",
    "& = y_i - \\theta_1 x_i - \\theta_0\n",
    "\\end{aligned}\n",
    "\n",
    "e a função que desejamos minimizar é a soma dos quadrados de todos os resíduos:\n",
    "\n",
    "\\begin{aligned}\n",
    "f &= \\sum\\limits_{i=1}^N e(x_i)^2 \\\\\n",
    "&= \\sum\\limits_{i=1}^N (y_i - \\theta_1 x_i - \\theta_0)^2\n",
    "\\end{aligned}\n"
   ]
  },
  {
   "cell_type": "code",
   "execution_count": 25,
   "id": "7102daef",
   "metadata": {
    "slideshow": {
     "slide_type": "fragment"
    }
   },
   "outputs": [
    {
     "name": "stdout",
     "output_type": "stream",
     "text": [
      "      fun: 5.092407063915747\n",
      " hess_inv: array([[ 1.47059185e-03, -2.96103668e+00],\n",
      "       [-2.96103668e+00,  5.96207861e+03]])\n",
      "      jac: array([1.78813934e-07, 0.00000000e+00])\n",
      "  message: 'Optimization terminated successfully.'\n",
      "     nfev: 33\n",
      "      nit: 4\n",
      "     njev: 11\n",
      "   status: 0\n",
      "  success: True\n",
      "        x: array([-4.83626814e-01,  9.85688840e+02])\n",
      "\n",
      "A equação do modelo é a reta: y = -0.484x + 985.689\n",
      "A percentagem estimada de fumantes em 2025 é de 6.3445416358908915\n"
     ]
    }
   ],
   "source": [
    "import scipy.optimize as opt\n",
    "import matplotlib.pyplot as plt\n",
    "\n",
    "# calculo da somatoria do quadrado dos residuos:\n",
    "def somatorio_quadrado_dos_residuos(theta):\n",
    "    residuo = fumantes - theta[0]*ano - theta[1]\n",
    "    soma = np.sum((residuo**2))\n",
    "    return soma\n",
    "\n",
    "# estimativa inicial para [theta1 , theta0]:\n",
    "x0 = [0, 20]\n",
    "\n",
    "# executando a otimizacao:\n",
    "res = opt.minimize(somatorio_quadrado_dos_residuos, x0)\n",
    "print(res)\n",
    "\n",
    "# salvando os parametros calculados:\n",
    "theta1, theta0 = res.x\n",
    "\n",
    "print(f'\\nA equação do modelo é a reta: y = {theta1:.3f}x + {theta0:.3f}')\n",
    "\n",
    "# estimando o numero de fumantes em 2025:\n",
    "fumantes_em_2025 = 2025*theta1 + theta0\n",
    "print('A percentagem estimada de fumantes em 2025 é de', fumantes_em_2025)"
   ]
  },
  {
   "cell_type": "code",
   "execution_count": 26,
   "id": "a9d75eaf",
   "metadata": {},
   "outputs": [
    {
     "data": {
      "text/plain": [
       "[<matplotlib.lines.Line2D at 0x1f48228c400>]"
      ]
     },
     "execution_count": 26,
     "metadata": {},
     "output_type": "execute_result"
    },
    {
     "data": {
      "image/png": "[encoded data removed]",
      "text/plain": [
       "<Figure size 432x288 with 1 Axes>"
      ]
     },
     "metadata": {
      "needs_background": "light"
     },
     "output_type": "display_data"
    }
   ],
   "source": [
    "plt.scatter(ano, fumantes)\n",
    "plt.xlabel('Ano')\n",
    "plt.ylabel('Fumantes (%)')\n",
    "\n",
    "plt.plot(ano, ano*theta1 + theta0, 'r')"
   ]
  },
  {
   "cell_type": "markdown",
   "id": "d435d68f",
   "metadata": {
    "slideshow": {
     "slide_type": "fragment"
    }
   },
   "source": [
    "## Método 3: Solução analítica\n",
    "\n",
    "Considere a soma dos quadrados de todos os resíduos:\n",
    "\n",
    "\\begin{equation}\n",
    "f = \\sum\\limits_{i=1}^N (y_i - \\theta_0 - \\theta_1 x_i)^2\n",
    "\\end{equation}\n",
    "\n",
    "O método dos mínimos quadrados busca minimizar a soma dos quadrados dos resíduos:\n",
    "\n",
    "\\begin{equation}\n",
    "min f(\\theta_1, \\theta_0)\n",
    "\\end{equation}\n",
    "\n",
    "Uma forma de determinar analiticamente os valores que obedecem a este critério é derivar a função $f$ em relação à $\\theta_0$ e $\\theta_1$:\n",
    "\n",
    "\\begin{cases}\n",
    "\\dfrac{\\partial f}{\\partial \\theta_0} =  \\sum 2(y_i - \\theta_0 - \\theta_1 x_i )(-1) \\\\ \\\\\n",
    "\\dfrac{\\partial f}{\\partial \\theta_1} =  \\sum 2(y_i - \\theta_0 - \\theta_1 x_i )(-x_i) \n",
    "\\end{cases}\n",
    "\n",
    "Omitimos os limites da somatória para simplificar a notação.\n",
    "Como queremos determinar o mínimo, a derivada deve ser igual a zero, ou seja:\n",
    "\n",
    "\\begin{cases}\n",
    "0 =  \\sum (y_i - \\theta_0 - \\theta_1 x_i) \\\\ \\\\\n",
    "0 =  \\sum (y_i - \\theta_0 - \\theta_1 x_i)(x_i) \n",
    "\\end{cases}\n",
    "\n",
    "Reorganizando os termos, chegamos à expressão:\n",
    "\n",
    "\\begin{cases}\n",
    "\\sum \\theta_0 + \\sum \\theta_1 x_i =  \\sum y_i  \\\\ \\\\\n",
    "\\sum \\theta_0x_i + \\sum \\theta_1 x_i^2 =  \\sum y_i x_i\n",
    "\\end{cases}\n",
    "\n",
    "o qual pode ser simplificado em:\n",
    "\n",
    "\\begin{cases}\n",
    "n \\theta_0 + \\theta_1\\sum x_i =  \\sum y_i  \\\\ \\\\\n",
    "\\theta_0 \\sum x_i + \\theta_1\\sum x_i^2 =  \\sum y_i x_i\n",
    "\\end{cases}\n",
    "\n",
    "Neste ponto, observe que podemos resolver o sistema linear 2x2:\n",
    "\n",
    "$\\begin{bmatrix}\n",
    "n & \\sum x_i \\\\\n",
    "\\sum x_i & \\sum x_i^2 \n",
    "\\end{bmatrix}\n",
    "\\begin{bmatrix} \\theta_0 \\\\ \\theta_1 \\end{bmatrix}\n",
    "=\n",
    "\\begin{bmatrix} \\sum y_i \\\\ \\sum x_i y_i \\end{bmatrix}\n",
    "$"
   ]
  },
  {
   "cell_type": "code",
   "execution_count": 27,
   "id": "8c555a09",
   "metadata": {
    "slideshow": {
     "slide_type": "fragment"
    }
   },
   "outputs": [
    {
     "name": "stdout",
     "output_type": "stream",
     "text": [
      "[ 9.82827794e+02 -4.82205882e-01]\n",
      "\n",
      "A equação do modelo é a reta: y = -0.482x + 982.828\n",
      "A percentagem estimada de fumantes em 2025 é de 6.360882353014858\n"
     ]
    }
   ],
   "source": [
    "n = len(ano)\n",
    "A = np.array([ [n, ano.sum() ], [ano.sum(), (ano**2).sum()] ])\n",
    "b = np.array([ fumantes.sum(), (ano*fumantes).sum() ] )\n",
    "res = np.linalg.solve(A,b)\n",
    "\n",
    "print(res)\n",
    "th0,th1 = res[0], res[1]\n",
    "print(f'\\nA equação do modelo é a reta: y = {th1:.3f}x + {th0:.3f}')\n",
    "fumantes_em_2025 = res[1]*2025 + res[0]\n",
    "print('A percentagem estimada de fumantes em 2025 é de', fumantes_em_2025)"
   ]
  },
  {
   "cell_type": "markdown",
   "id": "e901067b",
   "metadata": {
    "slideshow": {
     "slide_type": "fragment"
    }
   },
   "source": [
    "## Método analítico 2b:\n",
    "\n",
    "No caso de uma matriz $2\\times 2$ podemos determinar diretamente os valores das incógnitas\n",
    "\n",
    "\\begin{equation} \\theta_1 = \\dfrac{n\\sum x_iy_i -\\sum x_i\\sum y_i}{n\\sum x_i^2 - (\\sum x_i)^2} \\end{equation}\n",
    "\n",
    "\\begin{equation} \\theta_0 = \\overline{y} - \\theta_1 \\overline{x} \\end{equation}\n",
    "\n",
    "onde:\n",
    "\n",
    "* $\\overline{x}$ e $\\overline{y}$ são as médias dos vetores $x$ e $y$ respectivamente."
   ]
  },
  {
   "cell_type": "code",
   "execution_count": 28,
   "id": "67597c24",
   "metadata": {
    "slideshow": {
     "slide_type": "fragment"
    }
   },
   "outputs": [
    {
     "name": "stdout",
     "output_type": "stream",
     "text": [
      "theta1:  -0.4822058823529754 theta0:  982.8277941177159\n",
      "\n",
      "A equação do modelo é a reta: y = -0.482x + 982.828\n",
      "A percentagem estimada de fumantes em 2025 é de 6.360882352940735\n"
     ]
    }
   ],
   "source": [
    "n = len(ano)\n",
    "X = ano\n",
    "Y = fumantes\n",
    "theta1 = (n*np.dot(X, Y) - X.sum() * Y.sum()) / ( n*np.square(X).sum() - X.sum()**2 )\n",
    "theta0 = Y.mean() - theta1*X.mean()\n",
    "\n",
    "print('theta1: ', theta1, 'theta0: ', theta0)\n",
    "print(f'\\nA equação do modelo é a reta: y = {theta1:.3f}x + {theta0:.3f}')\n",
    "\n",
    "fumantes_em_2025 = theta1*2025 + theta0\n",
    "print('A percentagem estimada de fumantes em 2025 é de', fumantes_em_2025)"
   ]
  },
  {
   "cell_type": "markdown",
   "id": "08d21d5d",
   "metadata": {},
   "source": [
    "## Método alternativo: Utilizando funções do python (statsmodels.api)"
   ]
  },
  {
   "cell_type": "code",
   "execution_count": 41,
   "id": "45eaa826",
   "metadata": {},
   "outputs": [
    {
     "name": "stdout",
     "output_type": "stream",
     "text": [
      "                            OLS Regression Results                            \n",
      "==============================================================================\n",
      "Dep. Variable:               fumantes   R-squared:                       0.939\n",
      "Model:                            OLS   Adj. R-squared:                  0.935\n",
      "Method:                 Least Squares   F-statistic:                     217.4\n",
      "Date:                Tue, 28 Jun 2022   Prob (F-statistic):           6.39e-10\n",
      "Time:                        20:50:01   Log-Likelihood:                -13.543\n",
      "No. Observations:                  16   AIC:                             31.09\n",
      "Df Residuals:                      14   BIC:                             32.63\n",
      "Df Model:                           1                                         \n",
      "Covariance Type:            nonrobust                                         \n",
      "==============================================================================\n",
      "                 coef    std err          t      P>|t|      [0.025      0.975]\n",
      "------------------------------------------------------------------------------\n",
      "const        982.8278     65.854     14.924      0.000     841.585    1124.070\n",
      "ano           -0.4822      0.033    -14.744      0.000      -0.552      -0.412\n",
      "==============================================================================\n",
      "Omnibus:                        4.179   Durbin-Watson:                   0.488\n",
      "Prob(Omnibus):                  0.124   Jarque-Bera (JB):                1.428\n",
      "Skew:                          -0.228   Prob(JB):                        0.490\n",
      "Kurtosis:                       1.609   Cond. No.                     8.79e+05\n",
      "==============================================================================\n",
      "\n",
      "Notes:\n",
      "[1] Standard Errors assume that the covariance matrix of the errors is correctly specified.\n",
      "[2] The condition number is large, 8.79e+05. This might indicate that there are\n",
      "strong multicollinearity or other numerical problems.\n",
      "\n",
      "A equação do modelo é a reta: y = -0.482x + 982.828\n",
      "A percentagem estimada de fumantes em 2025 é de [6.36088235]\n"
     ]
    },
    {
     "name": "stderr",
     "output_type": "stream",
     "text": [
      "d:\\system\\conda_envs\\cn\\lib\\site-packages\\scipy\\stats\\stats.py:1541: UserWarning: kurtosistest only valid for n>=20 ... continuing anyway, n=16\n",
      "  warnings.warn(\"kurtosistest only valid for n>=20 ... continuing \"\n"
     ]
    }
   ],
   "source": [
    "import statsmodels.api as sm\n",
    "\n",
    "XX = sm.add_constant(X)\n",
    "modelo = sm.OLS(Y, XX).fit()\n",
    "print(modelo.summary())\n",
    "th0, th1 = modelo.params\n",
    "print(f'\\nA equação do modelo é a reta: y = {th1:.3f}x + {th0:.3f}')\n",
    "\n",
    "fumantes_em_2025 = modelo.predict([1, 2025])\n",
    "print('A percentagem estimada de fumantes em 2025 é de', fumantes_em_2025)"
   ]
  },
  {
   "cell_type": "markdown",
   "id": "5bbd1529-b09a-4fb2-aee1-893d07c98ee8",
   "metadata": {},
   "source": [
    "# Exercício 1\n",
    "\n",
    "Considerando os pontos abaixo:\n",
    "\n",
    "\\begin{array}{|c|cccccccccc|} \\hline\n",
    "x & 0 & 2 & 4 & 6 & 9 & 11 & 12 & 15 & 17 & 19 \\\\ \\hline\n",
    "y & 5 & 6 & 7 & 6 & 9 & 8 & 8 & 10 & 12 & 12 \\\\ \\hline\n",
    "\\end{array}\n",
    "\n",
    "1. Plote o gráfico de dispersão dos pontos acima.\n",
    "2. Use o método dos mínimos quadrados linear para realizar o ajuste de uma reta.\n",
    "3. Plote o gráfico da reta estimada."
   ]
  },
  {
   "cell_type": "code",
   "execution_count": null,
   "id": "767e5296-8f79-4a50-9d3f-4d8ff17ace3f",
   "metadata": {},
   "outputs": [],
   "source": []
  },
  {
   "cell_type": "markdown",
   "id": "c3525881-1589-4128-8db1-7c93bb54b218",
   "metadata": {},
   "source": [
    "# Exercício 2\n",
    "\n",
    "Um resistor foi submetido à uma tensão elétrica $U$ e mediu-se a corrente $I$ que passou pelo circuito.\n",
    "O valor de $U$ variou de 10V até 40V, conforme tabela abaixo.\n",
    "\n",
    "\\begin{array}{|c|c|} \\hline\n",
    "U (V)) & I (mA) \\\\ \\hline\n",
    "10,3 & 20,5 \\\\\n",
    "15,8 & 31,8 \\\\\n",
    "19,5 & 40,0 \\\\\n",
    "22,6 & 44,6 \\\\\n",
    "29,0 & 59,0 \\\\\n",
    "37,4 & 75,1 \\\\\n",
    "40,0 & 80,2 \\\\ \\hline\n",
    "\\end{array}\n",
    "\n",
    "1. Plote o gráfico de $U$ por $I$\n",
    "2. Sabendo que o resistor obedece a lei de Ohm ($U = R\\cdot I$), utilize o método dos mínimos quadrados para estimar um valor de $R$."
   ]
  },
  {
   "cell_type": "code",
   "execution_count": null,
   "id": "a9b76af0-15d9-45c6-a591-528c09dbde33",
   "metadata": {},
   "outputs": [],
   "source": []
  }
 ],
 "metadata": {
  "celltoolbar": "Slideshow",
  "kernelspec": {
   "display_name": "Python 3 (ipykernel)",
   "language": "python",
   "name": "python3"
  },
  "language_info": {
   "codemirror_mode": {
    "name": "ipython",
    "version": 3
   },
   "file_extension": ".py",
   "mimetype": "text/x-python",
   "name": "python",
   "nbconvert_exporter": "python",
   "pygments_lexer": "ipython3",
   "version": "3.9.12"
  },
  "latex_envs": {
   "LaTeX_envs_menu_present": true,
   "autoclose": true,
   "autocomplete": false,
   "bibliofile": "biblio.bib",
   "cite_by": "apalike",
   "current_citInitial": 1,
   "eqLabelWithNumbers": true,
   "eqNumInitial": 1,
   "hotkeys": {
    "equation": "Ctrl-E",
    "itemize": "Ctrl-I"
   },
   "labels_anchors": false,
   "latex_user_defs": false,
   "report_style_numbering": false,
   "user_envs_cfg": false
  }
 },
 "nbformat": 4,
 "nbformat_minor": 5
}
