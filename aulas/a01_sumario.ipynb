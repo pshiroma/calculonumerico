# Sumário

1. Raízes
