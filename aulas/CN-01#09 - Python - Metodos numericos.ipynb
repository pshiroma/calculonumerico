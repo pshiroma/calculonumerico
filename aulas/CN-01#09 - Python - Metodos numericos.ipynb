{
 "cells": [
  {
   "cell_type": "markdown",
   "id": "2326d118",
   "metadata": {},
   "source": [
    "# root_scalar\n",
    "\n",
    "https://docs.scipy.org/doc/scipy/reference/generated/scipy.optimize.root_scalar.html"
   ]
  },
  {
   "cell_type": "code",
   "execution_count": null,
   "id": "41f7279a",
   "metadata": {},
   "outputs": [],
   "source": [
    "from scipy.optimize import root_scalar\n",
    "#scipy.optimize.root_scalar(f, args=(), method=None, bracket=None, \n",
    "#fprime=None, fprime2=None, x0=None, x1=None, xtol=None, rtol=None, \n",
    "# maxiter=None, options=None)"
   ]
  },
  {
   "cell_type": "markdown",
   "id": "0e646688",
   "metadata": {},
   "source": [
    "# root\n",
    "\n",
    "https://docs.scipy.org/doc/scipy/reference/generated/scipy.optimize.root.html#scipy.optimize.root"
   ]
  },
  {
   "cell_type": "code",
   "execution_count": null,
   "id": "ca4366c2",
   "metadata": {},
   "outputs": [],
   "source": [
    "from scipy.optimize import root\n",
    "# scipy.optimize.root(fun, x0, args=(), method='hybr', jac=None, tol=None,\n",
    "# callback=None, options=None)"
   ]
  },
  {
   "cell_type": "markdown",
   "id": "2252603c",
   "metadata": {},
   "source": [
    "# minimize_scalar\n",
    "\n"
   ]
  },
  {
   "cell_type": "code",
   "execution_count": null,
   "id": "d451d40b",
   "metadata": {},
   "outputs": [],
   "source": [
    "from scipy.optimize import minimize_scalar\n",
    "# scipy.optimize.minimize_scalar(fun, bracket=None, bounds=None, args=(), \n",
    "# method='brent', tol=None, options=None)"
   ]
  },
  {
   "cell_type": "markdown",
   "id": "a74a2084",
   "metadata": {},
   "source": [
    "# minimize"
   ]
  },
  {
   "cell_type": "code",
   "execution_count": null,
   "id": "97600c9e",
   "metadata": {},
   "outputs": [],
   "source": [
    "from scipy.optimize import minimize\n",
    "# scipy.optimize.minimize(fun, x0, args=(), method=None, jac=None, hess=None,\n",
    "# hessp=None, bounds=None, constraints=(), tol=None, callback=None, options=None)"
   ]
  },
  {
   "cell_type": "markdown",
   "id": "cefe8ac7",
   "metadata": {},
   "source": [
    "# inv"
   ]
  },
  {
   "cell_type": "code",
   "execution_count": null,
   "id": "d4fb1b1a",
   "metadata": {},
   "outputs": [],
   "source": [
    "from scipy.linalg import inv\n",
    "#scipy.linalg.inv(a, overwrite_a=False, check_finite=True)\n"
   ]
  },
  {
   "cell_type": "markdown",
   "id": "e0091778",
   "metadata": {},
   "source": [
    "# solve"
   ]
  },
  {
   "cell_type": "code",
   "execution_count": null,
   "id": "43eaf383",
   "metadata": {},
   "outputs": [],
   "source": [
    "from scipy.linalg import solve\n",
    "#scipy.linalg.solve(a, b, sym_pos=False, lower=False, overwrite_a=False, \n",
    "# overwrite_b=False, debug=None, check_finite=True, assume_a='gen', transposed=False)"
   ]
  },
  {
   "cell_type": "markdown",
   "id": "e8e291df",
   "metadata": {},
   "source": [
    "# linregress"
   ]
  },
  {
   "cell_type": "code",
   "execution_count": null,
   "id": "9b1b2a74",
   "metadata": {},
   "outputs": [],
   "source": [
    "from scipy.stats import linregress\n",
    "# scipy.stats.linregress(x, y=None, alternative='two-sided')\n"
   ]
  },
  {
   "cell_type": "markdown",
   "id": "0056fcfd",
   "metadata": {},
   "source": [
    "# r2_score"
   ]
  },
  {
   "cell_type": "code",
   "execution_count": null,
   "id": "b6c17c3a",
   "metadata": {},
   "outputs": [],
   "source": [
    "from sklearn.metrics import r2_score\n",
    "# sklearn.metrics.r2_score(y_true, y_pred, *, sample_weight=None, \n",
    "# multioutput='uniform_average', force_finite=True)\n"
   ]
  },
  {
   "cell_type": "markdown",
   "id": "b352c518",
   "metadata": {},
   "source": [
    "# curve_fit"
   ]
  },
  {
   "cell_type": "code",
   "execution_count": null,
   "id": "6dee0ca6",
   "metadata": {},
   "outputs": [],
   "source": [
    "from scipy.optimize import curve_fit\n",
    "# scipy.optimize.curve_fit(f, xdata, ydata, p0=None, sigma=None, absolute_sigma=False, \n",
    "# check_finite=True, bounds=(- inf, inf), method=None, jac=None, **kwargs)"
   ]
  },
  {
   "cell_type": "markdown",
   "id": "927fcd94",
   "metadata": {},
   "source": [
    "# quad"
   ]
  },
  {
   "cell_type": "code",
   "execution_count": null,
   "id": "7880ca8f",
   "metadata": {},
   "outputs": [],
   "source": [
    "from scipy.integrate import quad\n",
    "# scipy.integrate.quad(func, a, b, args=(), full_output=0, epsabs=1.49e-08, \n",
    "# epsrel=1.49e-08, limit=50, points=None, weight=None, wvar=None, wopts=None, \n",
    "# maxp1=50, limlst=50)"
   ]
  },
  {
   "cell_type": "markdown",
   "id": "fdd7b534",
   "metadata": {},
   "source": [
    "# dblquad"
   ]
  },
  {
   "cell_type": "code",
   "execution_count": null,
   "id": "1fe34d46",
   "metadata": {},
   "outputs": [],
   "source": [
    "from scipy.integrate import dblquad\n",
    "# scipy.integrate.dblquad(func, a, b, gfun, hfun, args=(), \n",
    "# epsabs=1.49e-08, epsrel=1.49e-08)\n"
   ]
  },
  {
   "cell_type": "markdown",
   "id": "61d8f895",
   "metadata": {},
   "source": [
    "# trapezoid"
   ]
  },
  {
   "cell_type": "code",
   "execution_count": null,
   "id": "9f20f1a1",
   "metadata": {},
   "outputs": [],
   "source": [
    "from scipy.integrate import trapezoid\n",
    "# scipy.integrate.trapezoid(y, x=None, dx=1.0, axis=- 1)"
   ]
  },
  {
   "cell_type": "markdown",
   "id": "cb81fe9c",
   "metadata": {},
   "source": [
    "# derivative"
   ]
  },
  {
   "cell_type": "code",
   "execution_count": null,
   "id": "fd4868ac",
   "metadata": {},
   "outputs": [],
   "source": [
    "from scipy.misc import derivative\n",
    "# scipy.misc.derivative(func, x0, dx=1.0, n=1, args=(), order=3)"
   ]
  },
  {
   "cell_type": "markdown",
   "id": "88140d69",
   "metadata": {},
   "source": [
    "# solve_ivp"
   ]
  },
  {
   "cell_type": "code",
   "execution_count": null,
   "id": "e4f4a703",
   "metadata": {},
   "outputs": [],
   "source": [
    "from scipy.integrate import solve_ivp\n",
    "# scipy.integrate.solve_ivp(fun, t_span, y0, method='RK45', t_eval=None, \n",
    "# dense_output=False, events=None, vectorized=False, args=None, **options)"
   ]
  },
  {
   "cell_type": "markdown",
   "id": "03601a2f",
   "metadata": {},
   "source": [
    "# solve_bvp"
   ]
  },
  {
   "cell_type": "code",
   "execution_count": null,
   "id": "a98c4b65",
   "metadata": {},
   "outputs": [],
   "source": [
    "from scipy.integrate import solve_bvp\n",
    "# scipy.integrate.solve_bvp(fun, bc, x, y, p=None, S=None, fun_jac=None, \n",
    "# bc_jac=None, tol=0.001, max_nodes=1000, verbose=0, bc_tol=None)"
   ]
  }
 ],
 "metadata": {
  "kernelspec": {
   "display_name": "Python 3 (ipykernel)",
   "language": "python",
   "name": "python3"
  },
  "language_info": {
   "codemirror_mode": {
    "name": "ipython",
    "version": 3
   },
   "file_extension": ".py",
   "mimetype": "text/x-python",
   "name": "python",
   "nbconvert_exporter": "python",
   "pygments_lexer": "ipython3",
   "version": "3.9.12"
  },
  "latex_envs": {
   "LaTeX_envs_menu_present": true,
   "autoclose": true,
   "autocomplete": false,
   "bibliofile": "biblio.bib",
   "cite_by": "apalike",
   "current_citInitial": 1,
   "eqLabelWithNumbers": true,
   "eqNumInitial": 1,
   "hotkeys": {
    "equation": "Ctrl-E",
    "itemize": "Ctrl-I"
   },
   "labels_anchors": false,
   "latex_user_defs": false,
   "report_style_numbering": false,
   "user_envs_cfg": false
  }
 },
 "nbformat": 4,
 "nbformat_minor": 5
}
