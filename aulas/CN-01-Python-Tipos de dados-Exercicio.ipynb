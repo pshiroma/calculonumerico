{
 "cells": [
  {
   "cell_type": "markdown",
   "id": "431d1f7b",
   "metadata": {},
   "source": [
    "# Exercício 1"
   ]
  },
  {
   "cell_type": "markdown",
   "id": "211f7cb4",
   "metadata": {},
   "source": [
    "Crie um algoritmo que leia 1 número e imprima seu quadrado.\n",
    "\n",
    "Não se esqueça de converter o valor lido do teclado (string) para número (int ou float)."
   ]
  },
  {
   "cell_type": "markdown",
   "id": "5cd16132",
   "metadata": {},
   "source": [
    "## Escreva sua resposta abaixo:\n",
    "\n",
    "Crie novas células se quiser"
   ]
  },
  {
   "cell_type": "code",
   "execution_count": null,
   "id": "2cef2c68",
   "metadata": {},
   "outputs": [],
   "source": []
  },
  {
   "cell_type": "markdown",
   "id": "86e0e0a1",
   "metadata": {},
   "source": [
    "# Exercício 2"
   ]
  },
  {
   "cell_type": "markdown",
   "id": "e73a3b0b",
   "metadata": {},
   "source": [
    "Crie um algoritmo que leia 3 números reais ($a$, $b$ e $c$) e calcule:\n",
    "\n",
    "* A média aritmética deles: \n",
    "$MA = \\dfrac{(a + b + c)}{3}$\n",
    "\n",
    "<div class=\"alert alert-info\">\n",
    "Obs.: Use os parênteses \"()\" para organizar a precedência das operações.\n",
    "</div>"
   ]
  },
  {
   "cell_type": "markdown",
   "id": "008442fb",
   "metadata": {},
   "source": [
    "## Escreva sua resposta abaixo:\n",
    "\n",
    "Crie novas células se quiser"
   ]
  },
  {
   "cell_type": "code",
   "execution_count": null,
   "id": "2d9648ef",
   "metadata": {},
   "outputs": [],
   "source": []
  },
  {
   "cell_type": "markdown",
   "id": "eb9b5625",
   "metadata": {},
   "source": [
    "# Exercício 3"
   ]
  },
  {
   "cell_type": "markdown",
   "id": "30c0c2da",
   "metadata": {},
   "source": [
    "Crie um algoritmo que leia 3 números reais ($a$, $b$ e $c$) e calcule:\n",
    "\n",
    "* A média harmônica deles: \n",
    "$MH = \\dfrac{3}{\\dfrac{1}{a} + \\dfrac{1}{b} + \\dfrac{1}{c}}$\n",
    "\n",
    "<div class=\"alert alert-info\">\n",
    "Obs.: Use os parênteses \"()\" para organizar a precedência das operações.\n",
    "</div>"
   ]
  },
  {
   "cell_type": "markdown",
   "id": "0466ea3d",
   "metadata": {},
   "source": [
    "## Escreva sua resposta abaixo:\n",
    "\n",
    "Crie novas células se quiser"
   ]
  },
  {
   "cell_type": "code",
   "execution_count": null,
   "id": "ce6e1a0e",
   "metadata": {},
   "outputs": [],
   "source": []
  },
  {
   "cell_type": "markdown",
   "id": "b5c320b4",
   "metadata": {},
   "source": [
    "# Exercício 4"
   ]
  },
  {
   "cell_type": "markdown",
   "id": "7e0723e0",
   "metadata": {},
   "source": [
    "Crie um algoritmo que determine as raízes de uma equação de 2 grau:\n",
    "\n",
    "$ax^2 + bx + c = 0$\n",
    "\n",
    "O algoritmo deve ler os valores de $a$, $b$ e $c$ e determinar as raízes conforme a fórmula de Bhaskara:\n",
    "\n",
    "$\n",
    "x' = \\dfrac{-b + \\sqrt{b^2 - 4ac}}{2a}\n",
    "$\n",
    "\n",
    "e\n",
    "\n",
    "$\n",
    "x'' = \\dfrac{-b - \\sqrt{b^2 - 4ac}}{2a}\n",
    "$\n",
    "\n",
    "Assuma que as raízes existem e são distintas."
   ]
  },
  {
   "cell_type": "markdown",
   "id": "2bef8c0d",
   "metadata": {},
   "source": [
    "## Escreva sua resposta abaixo:\n",
    "\n",
    "Crie novas células se quiser"
   ]
  },
  {
   "cell_type": "code",
   "execution_count": null,
   "id": "8685e897",
   "metadata": {},
   "outputs": [],
   "source": []
  },
  {
   "cell_type": "markdown",
   "id": "e01af5e6",
   "metadata": {},
   "source": [
    "# Exercício 5"
   ]
  },
  {
   "attachments": {},
   "cell_type": "markdown",
   "id": "fd987596",
   "metadata": {},
   "source": [
    "Crie uma lista contendo os números abaixo.\n",
    "\n",
    "![primos.drawio.svg](figuras/pares.svg)\n",
    "\n",
    "Em seguida, troque o segundo elemento da lista com o último.\n",
    "Imprima a lista."
   ]
  },
  {
   "cell_type": "markdown",
   "id": "3e658918",
   "metadata": {},
   "source": [
    "## Escreva sua resposta abaixo:\n",
    "\n",
    "Crie novas células se quiser"
   ]
  },
  {
   "cell_type": "code",
   "execution_count": null,
   "id": "52e47ddb",
   "metadata": {},
   "outputs": [],
   "source": []
  },
  {
   "cell_type": "markdown",
   "id": "e65aaec3",
   "metadata": {},
   "source": [
    "# Exercício 6"
   ]
  },
  {
   "attachments": {},
   "cell_type": "markdown",
   "id": "8cba9673",
   "metadata": {},
   "source": [
    "Crie uma lista contendo 5 números aleatórios gerados no intervalo entre 0 e 100.\n",
    "Em seguida, imprima o valor do 3 elemento da lista.\n",
    "\n",
    "![primos.drawio.svg](figuras/vetor5aleatorio.drawio.svg)\n",
    "\n",
    "Obs.: Use a função `randint` disponível no módulo `random`"
   ]
  },
  {
   "cell_type": "markdown",
   "id": "c6780ac0",
   "metadata": {},
   "source": [
    "## Escreva sua resposta abaixo:\n",
    "\n",
    "Crie novas células se quiser"
   ]
  },
  {
   "cell_type": "code",
   "execution_count": null,
   "id": "5c0adb6d",
   "metadata": {},
   "outputs": [],
   "source": []
  },
  {
   "cell_type": "markdown",
   "id": "654d3874",
   "metadata": {},
   "source": [
    "# Exercício 7"
   ]
  },
  {
   "cell_type": "markdown",
   "id": "02f29c13",
   "metadata": {},
   "source": [
    "Crie uma lista contendo o número 0.\n",
    "Em seguida, peça para o usuário entrar com um novo número e insira-o no final da lista.\n",
    "Imprima a nova lista.\n",
    "\n",
    "Veja o método `append`."
   ]
  },
  {
   "cell_type": "markdown",
   "id": "a196dcd8",
   "metadata": {},
   "source": [
    "## Escreva sua resposta abaixo:\n",
    "\n",
    "Crie novas células se quiser"
   ]
  },
  {
   "cell_type": "code",
   "execution_count": null,
   "id": "1a10f643",
   "metadata": {},
   "outputs": [],
   "source": []
  },
  {
   "cell_type": "markdown",
   "id": "8c0151b8",
   "metadata": {},
   "source": [
    "# Exercício 8"
   ]
  },
  {
   "cell_type": "markdown",
   "id": "706e8794",
   "metadata": {},
   "source": [
    "Crie uma lista contendo os números abaixo:\n",
    "\n",
    "![primos.drawio.svg](figuras/pares.svg)\n",
    "\n",
    "Em seguida, peça para o usuário escolher uma posição da lista e remova o elemento contido nesta posição.\n",
    "Imprima a lista resultante.\n",
    "\n",
    "Veja o método `pop`."
   ]
  },
  {
   "cell_type": "markdown",
   "id": "83090579",
   "metadata": {},
   "source": [
    "## Escreva sua resposta abaixo:\n",
    "\n",
    "Crie novas células se quiser"
   ]
  },
  {
   "cell_type": "code",
   "execution_count": null,
   "id": "e775fc8e",
   "metadata": {},
   "outputs": [],
   "source": []
  }
 ],
 "metadata": {
  "kernelspec": {
   "display_name": "Python 3 (ipykernel)",
   "language": "python",
   "name": "python3"
  },
  "language_info": {
   "codemirror_mode": {
    "name": "ipython",
    "version": 3
   },
   "file_extension": ".py",
   "mimetype": "text/x-python",
   "name": "python",
   "nbconvert_exporter": "python",
   "pygments_lexer": "ipython3",
   "version": "3.10.4"
  },
  "latex_envs": {
   "LaTeX_envs_menu_present": true,
   "autoclose": true,
   "autocomplete": true,
   "bibliofile": "biblio.bib",
   "cite_by": "apalike",
   "current_citInitial": 1,
   "eqLabelWithNumbers": true,
   "eqNumInitial": 1,
   "hotkeys": {
    "equation": "Ctrl-E",
    "itemize": "Ctrl-I"
   },
   "labels_anchors": false,
   "latex_user_defs": false,
   "report_style_numbering": false,
   "user_envs_cfg": false
  }
 },
 "nbformat": 4,
 "nbformat_minor": 5
}
