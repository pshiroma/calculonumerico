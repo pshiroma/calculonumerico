{
 "cells": [
  {
   "cell_type": "markdown",
   "id": "23851040",
   "metadata": {},
   "source": [
    "# Matrizes"
   ]
  },
  {
   "cell_type": "markdown",
   "id": "f643a1a2",
   "metadata": {},
   "source": [
    "Nas próximas etapas iremos trabalhar com os problemas de resolução de sistemas lineares e não lineares.\n",
    "\n",
    "Para melhor compreender as idéias por trás dos algoritmos usados na solução destes sistemas, precisamos fazer uma breve recapitulação sobre o conceito de matrizes e suas operações básicas."
   ]
  },
  {
   "cell_type": "markdown",
   "id": "c0dab48b",
   "metadata": {},
   "source": [
    "Uma matriz é uma tabela que armazena números organizada em linhas e colunas.\n",
    "Representamos por\n",
    "\n",
    "<div class=\"alert alert-warning\" role=\"alert\">\n",
    "$A_{m\\times n}$ uma matriz contendo $m$ linhas e $n$ colunas.\n",
    "</div>\n",
    "\n",
    "Por exemplo,\n",
    "\n",
    "$\n",
    "A_{3\\times 2} = \n",
    "\\begin{bmatrix}\n",
    "5 & -1 \\\\\n",
    "3 & 0 \\\\\n",
    "0 & 10\n",
    "\\end{bmatrix}\n",
    "$\n",
    "\n",
    "Vamos representar por:\n",
    "\n",
    "<div class=\"alert alert-warning\" role=\"alert\">\n",
    "$a_{i,j}$ o elemento na linha $i$ e coluna $j$.\n",
    "</div>\n",
    "\n",
    "Por exemplo,\n",
    "\n",
    "$ a_{2,1} $ é o valor 3 no exemplo acima.\n",
    "\n",
    "Quando queremos apenas representar uma matriz genérica, podemos usar a notação:\n",
    "\n",
    "$\n",
    "A_{m\\times n} = \n",
    "\\begin{bmatrix}\n",
    "a_{11} & a_{12} & \\ldots & a_{1n} \\\\\n",
    "a_{21} & a_{22} & \\ldots & a_{2n} \\\\\n",
    "\\vdots \\\\\n",
    "a_{m1} & a_{m2} & \\ldots & a_{mn} \n",
    "\\end{bmatrix}\n",
    "$\n",
    "\n",
    "Algumas definições importantes:\n",
    "\n",
    "<div class=\"alert alert-warning\" role=\"alert\">\n",
    "Uma matriz é dita quadrada se o \\textbf{número de linhas é igual ao número de colunas}.\n",
    "</div>\n",
    "\n",
    "<div class=\"alert alert-warning\" role=\"alert\">\n",
    "A diagonal principal de uma matriz quadrada são os elementos $a_{ii}$.\n",
    "</div>\n",
    "\n",
    "<div class=\"alert alert-warning\" role=\"alert\">\n",
    "A matriz identidade ($I$) é uma matriz quadrada onde todos os elementos da diagonal principal são iguais a 1 e todos os outros são 0.\n",
    "</div>\n",
    "\n",
    "<div class=\"alert alert-warning\" role=\"alert\">\n",
    "A inversa de uma matriz A, denotada por $A^{-1}$, é aquela onde $A \\cdot A^{-1} = I$ .\n",
    "</div>\n",
    "\n",
    "<div class=\"alert alert-warning\" role=\"alert\">\n",
    "A transporta de uma matriz A, denotada por $A^{T}$, é aquela onde $a^{T}_{ij} = a_{ji}$.\n",
    "</div>"
   ]
  },
  {
   "cell_type": "markdown",
   "id": "17781f49",
   "metadata": {},
   "source": [
    "Vamos ver agora como operar com matriz em python:"
   ]
  },
  {
   "cell_type": "code",
   "execution_count": 33,
   "id": "57b2709d",
   "metadata": {},
   "outputs": [
    {
     "name": "stdout",
     "output_type": "stream",
     "text": [
      "[2 3]\n",
      "[[ 2  3  5]\n",
      " [-3 -1  0]]\n"
     ]
    }
   ],
   "source": [
    "import numpy as np\n",
    "# a biblioteca mais adequada para trabalharmos com matrizes é a numpy\n",
    "# podemos converter listas em vetores ou matrizes:\n",
    "lista1 = [2, 3]\n",
    "lista2 = [[2, 3, 5], [-3, -1, 0]]\n",
    "vetor = np.array(lista1)\n",
    "M = np.array(lista2)\n",
    "print(vetor)\n",
    "print(M)"
   ]
  },
  {
   "cell_type": "code",
   "execution_count": 35,
   "id": "df2454d1",
   "metadata": {},
   "outputs": [
    {
     "name": "stdout",
     "output_type": "stream",
     "text": [
      "[[ 2  3  5]\n",
      " [-3 -1  0]]\n"
     ]
    }
   ],
   "source": [
    "import numpy as np\n",
    "# podemos criar vetores e matrizes diretamente:\n",
    "M = np.array([[2,3,5], [-3,-1,0]])\n",
    "print(M)"
   ]
  },
  {
   "cell_type": "code",
   "execution_count": 36,
   "id": "514119c7",
   "metadata": {},
   "outputs": [
    {
     "data": {
      "text/plain": [
       "array([[ 10,  15,  25],\n",
       "       [-15,  -5,   0]])"
      ]
     },
     "execution_count": 36,
     "metadata": {},
     "output_type": "execute_result"
    }
   ],
   "source": [
    "# Multiplicacao por escalar:\n",
    "5*M"
   ]
  },
  {
   "cell_type": "code",
   "execution_count": 32,
   "id": "605a2efd",
   "metadata": {},
   "outputs": [
    {
     "data": {
      "text/plain": [
       "array([[3, 3],\n",
       "       [3, 3]])"
      ]
     },
     "execution_count": 32,
     "metadata": {},
     "output_type": "execute_result"
    }
   ],
   "source": [
    "import numpy as np\n",
    "A = np.array([[2,3], [1,-1]])\n",
    "B = np.array([[1,0], [2,4]])\n",
    "\n",
    "# soma de matrizes\n",
    "A + B"
   ]
  },
  {
   "cell_type": "code",
   "execution_count": 67,
   "id": "964ed0b6",
   "metadata": {},
   "outputs": [
    {
     "name": "stdout",
     "output_type": "stream",
     "text": [
      "[[ 8 12]\n",
      " [-1 -4]]\n"
     ]
    }
   ],
   "source": [
    "# Multiplicacao de matrizes:\n",
    "print(A @ B)"
   ]
  },
  {
   "cell_type": "code",
   "execution_count": 72,
   "id": "9c293675",
   "metadata": {},
   "outputs": [
    {
     "name": "stdout",
     "output_type": "stream",
     "text": [
      "[[ 8 12]\n",
      " [-1 -4]]\n",
      "[[ 8 12]\n",
      " [-1 -4]]\n"
     ]
    }
   ],
   "source": [
    "# outras formas de multiplicar 2 matrize: \n",
    "print(np.matmul(A, B))\n",
    "# ou: \n",
    "print(np.dot(A, B))"
   ]
  },
  {
   "cell_type": "code",
   "execution_count": 45,
   "id": "ca35996d",
   "metadata": {},
   "outputs": [
    {
     "name": "stdout",
     "output_type": "stream",
     "text": [
      "[[ 2  3  5]\n",
      " [-3 -1  0]]\n",
      "(2, 3)\n",
      "2\n",
      "3\n"
     ]
    }
   ],
   "source": [
    "print(M)\n",
    "# dimensao de uma matriz:\n",
    "print(M.shape)\n",
    "# numero de linhas de uma matriz:\n",
    "print(M.shape[0])\n",
    "# numero de colunas de uma matriz:\n",
    "print(M.shape[1])"
   ]
  },
  {
   "cell_type": "code",
   "execution_count": 59,
   "id": "6350dbe8",
   "metadata": {},
   "outputs": [
    {
     "name": "stdout",
     "output_type": "stream",
     "text": [
      "3\n",
      "[[ 2 10  5]\n",
      " [-3 -1  0]]\n"
     ]
    }
   ],
   "source": [
    "# acessando 1 elemento da matriz. A primeira linha ou coluna recebe o índice 0.\n",
    "# Os índices vão de 0 até n-1\n",
    "M = np.array([[2, 3, 5], [-3, -1, 0]])\n",
    "\n",
    "print(M[0,1])\n",
    "\n",
    "M[0,1] = 10\n",
    "\n",
    "print(M)"
   ]
  },
  {
   "cell_type": "code",
   "execution_count": 66,
   "id": "4b00530c",
   "metadata": {},
   "outputs": [
    {
     "name": "stdout",
     "output_type": "stream",
     "text": [
      "[ 2 10  5]\n",
      "[10 -1]\n",
      "[[10]\n",
      " [-1]]\n"
     ]
    }
   ],
   "source": [
    "# acessando a primeira linha inteira:\n",
    "print(M[0,:])\n",
    "\n",
    "# acessando a segunda coluna inteira:\n",
    "print(M[:,1])\n",
    "\n",
    "# acessando a segunda coluna, e retornando como um vetor coluna:\n",
    "print(M[:,[1]])"
   ]
  },
  {
   "cell_type": "code",
   "execution_count": 81,
   "id": "7dddba53",
   "metadata": {},
   "outputs": [
    {
     "name": "stdout",
     "output_type": "stream",
     "text": [
      "[[2 3 5]\n",
      " [0 0 0]]\n"
     ]
    }
   ],
   "source": [
    "M = np.array([[2, 3, 5], [-3, -1, 0]])\n",
    "\n",
    "# substituindo a segunda linha inteira:\n",
    "M[1,:] = [0,0,0]\n",
    "\n",
    "print(M)"
   ]
  },
  {
   "cell_type": "code",
   "execution_count": 85,
   "id": "3e7ea8a4",
   "metadata": {},
   "outputs": [
    {
     "name": "stdout",
     "output_type": "stream",
     "text": [
      "[[0 2 3]\n",
      " [0 5 6]\n",
      " [0 8 9]]\n"
     ]
    }
   ],
   "source": [
    "M = np.array([[1,2,3], [4,5,6], [7,8,9]])\n",
    "# trocando a primeira coluna inteira\n",
    "M[:,0] = [0,0,0]\n",
    "print(M)"
   ]
  },
  {
   "cell_type": "code",
   "execution_count": 92,
   "id": "acdbf144",
   "metadata": {},
   "outputs": [
    {
     "data": {
      "text/plain": [
       "array([[1, 2, 3],\n",
       "       [4, 5, 6]])"
      ]
     },
     "execution_count": 92,
     "metadata": {},
     "output_type": "execute_result"
    }
   ],
   "source": [
    "M = np.array([[1,2,3], [4,5,6], [7,8,9]])\n",
    "\n",
    "# acessando 2 linhas simultaneamente:\n",
    "M[np.array([0,2])]"
   ]
  },
  {
   "cell_type": "code",
   "execution_count": 94,
   "id": "fd911328",
   "metadata": {},
   "outputs": [
    {
     "name": "stdout",
     "output_type": "stream",
     "text": [
      "[[7 8 9]\n",
      " [4 5 6]\n",
      " [1 2 3]]\n"
     ]
    }
   ],
   "source": [
    "M = np.array([[1,2,3], [4,5,6], [7,8,9]])\n",
    "\n",
    "# trocando 2 linha de posicao:\n",
    "M[np.array([0,2])] = M[np.array([2,0])]\n",
    "print(M)"
   ]
  },
  {
   "cell_type": "code",
   "execution_count": 99,
   "id": "1b0ff97e",
   "metadata": {},
   "outputs": [
    {
     "name": "stdout",
     "output_type": "stream",
     "text": [
      "8\n"
     ]
    }
   ],
   "source": [
    "M = np.array([[1,2,3], [4,5,6], [7,8,9]])\n",
    "\n",
    "# achando o maior valor da segunda coluna:\n",
    "print(np.amax(M[:,1]))"
   ]
  },
  {
   "cell_type": "code",
   "execution_count": 100,
   "id": "1b091236",
   "metadata": {},
   "outputs": [
    {
     "name": "stdout",
     "output_type": "stream",
     "text": [
      "2\n"
     ]
    }
   ],
   "source": [
    "M = np.array([[1,2,3], [4,5,6], [7,8,9]])\n",
    "\n",
    "# achando a posicao onde se encontra o máximo da segunda coluna:\n",
    "print(np.argmax(M[:,1]))"
   ]
  },
  {
   "cell_type": "code",
   "execution_count": 107,
   "id": "4d991bbe",
   "metadata": {},
   "outputs": [
    {
     "name": "stdout",
     "output_type": "stream",
     "text": [
      "[2 2 2]\n",
      "2\n"
     ]
    }
   ],
   "source": [
    "# achando a posicao dos maximos em cada coluna\n",
    "print(np.argmax(M,axis=1))\n",
    "# achando a posicao do maximo da segunda coluna\n",
    "print(np.argmax(M,axis=1)[1])"
   ]
  },
  {
   "cell_type": "code",
   "execution_count": 108,
   "id": "591cd604",
   "metadata": {},
   "outputs": [
    {
     "name": "stdout",
     "output_type": "stream",
     "text": [
      "[[1 4 7]\n",
      " [2 5 8]\n",
      " [3 6 9]]\n"
     ]
    }
   ],
   "source": [
    "# transposta de uma matriz:\n",
    "M = np.array([[1,2,3], [4,5,6], [7,8,9]])\n",
    "print(M.T)"
   ]
  },
  {
   "cell_type": "code",
   "execution_count": 156,
   "id": "aedde235",
   "metadata": {},
   "outputs": [
    {
     "name": "stdout",
     "output_type": "stream",
     "text": [
      "[[ 0.  -2.   1. ]\n",
      " [-1.5 -2.   1.5]\n",
      " [ 0.5  1.  -0.5]]\n"
     ]
    }
   ],
   "source": [
    "# inversa de uma matriz:\n",
    "M = np.array([[1,0,2], [0,1,3], [1,2,6]])\n",
    "print(np.linalg.inv(M))"
   ]
  },
  {
   "cell_type": "code",
   "execution_count": 162,
   "id": "dd6523c8",
   "metadata": {},
   "outputs": [
    {
     "name": "stdout",
     "output_type": "stream",
     "text": [
      "[[1. 0. 0.]\n",
      " [0. 1. 0.]\n",
      " [0. 0. 1.]]\n",
      "[[1.]\n",
      " [1.]\n",
      " [1.]]\n",
      "[[0. 0. 0.]]\n",
      "[[ 0.  1.  2.  3.  4.  5.  6.  7.  8.  9. 10.]\n",
      " [ 0.  1.  2.  3.  4.  5.  6.  7.  8.  9. 10.]\n",
      " [ 0.  1.  2.  3.  4.  5.  6.  7.  8.  9. 10.]\n",
      " [ 0.  1.  2.  3.  4.  5.  6.  7.  8.  9. 10.]\n",
      " [ 0.  1.  2.  3.  4.  5.  6.  7.  8.  9. 10.]\n",
      " [ 0.  1.  2.  3.  4.  5.  6.  7.  8.  9. 10.]\n",
      " [ 0.  1.  2.  3.  4.  5.  6.  7.  8.  9. 10.]\n",
      " [ 0.  1.  2.  3.  4.  5.  6.  7.  8.  9. 10.]\n",
      " [ 0.  1.  2.  3.  4.  5.  6.  7.  8.  9. 10.]\n",
      " [ 0.  1.  2.  3.  4.  5.  6.  7.  8.  9. 10.]\n",
      " [ 0.  1.  2.  3.  4.  5.  6.  7.  8.  9. 10.]]\n",
      "[[ 0.  0.  0.  0.  0.  0.  0.  0.  0.  0.  0.]\n",
      " [ 2.  2.  2.  2.  2.  2.  2.  2.  2.  2.  2.]\n",
      " [ 4.  4.  4.  4.  4.  4.  4.  4.  4.  4.  4.]\n",
      " [ 6.  6.  6.  6.  6.  6.  6.  6.  6.  6.  6.]\n",
      " [ 8.  8.  8.  8.  8.  8.  8.  8.  8.  8.  8.]\n",
      " [10. 10. 10. 10. 10. 10. 10. 10. 10. 10. 10.]\n",
      " [12. 12. 12. 12. 12. 12. 12. 12. 12. 12. 12.]\n",
      " [14. 14. 14. 14. 14. 14. 14. 14. 14. 14. 14.]\n",
      " [16. 16. 16. 16. 16. 16. 16. 16. 16. 16. 16.]\n",
      " [18. 18. 18. 18. 18. 18. 18. 18. 18. 18. 18.]\n",
      " [20. 20. 20. 20. 20. 20. 20. 20. 20. 20. 20.]]\n"
     ]
    }
   ],
   "source": [
    "# matrizes especais:\n",
    "M = np.identity(3)\n",
    "O = np.ones((3,1))\n",
    "Z = np.zeros((1,3))\n",
    "\n",
    "x = np.linspace(0,10,11)\n",
    "y = np.linspace(0,20,11)\n",
    "XMESH,YMESH = np.meshgrid(x,y)\n",
    "\n",
    "print(M)\n",
    "print(O)\n",
    "print(Z)\n",
    "print(XMESH)\n",
    "print(YMESH)\n"
   ]
  },
  {
   "cell_type": "code",
   "execution_count": 166,
   "id": "779524cf",
   "metadata": {},
   "outputs": [
    {
     "name": "stdout",
     "output_type": "stream",
     "text": [
      "[[1. 0. 0.]\n",
      " [0. 1. 0.]\n",
      " [0. 0. 1.]\n",
      " [0. 0. 0.]]\n",
      "[[1. 0. 0. 1.]\n",
      " [0. 1. 0. 1.]\n",
      " [0. 0. 1. 1.]]\n"
     ]
    }
   ],
   "source": [
    "# concatenando matrizes:\n",
    "print(np.concatenate((M, Z)))\n",
    "print(np.concatenate((M, O), axis=1))"
   ]
  },
  {
   "cell_type": "code",
   "execution_count": 167,
   "id": "2b55c95b",
   "metadata": {},
   "outputs": [
    {
     "data": {
      "text/plain": [
       "12"
      ]
     },
     "execution_count": 167,
     "metadata": {},
     "output_type": "execute_result"
    }
   ],
   "source": [
    "# Produto escalar:\n",
    "v = np.array([1,2,3])\n",
    "w = np.array([-1,5,1])\n",
    "np.dot(v,w)"
   ]
  },
  {
   "cell_type": "code",
   "execution_count": 175,
   "id": "6b839653",
   "metadata": {},
   "outputs": [
    {
     "data": {
      "text/plain": [
       "10"
      ]
     },
     "execution_count": 175,
     "metadata": {},
     "output_type": "execute_result"
    }
   ],
   "source": [
    "# Somatorio:\n",
    "v = np.array([1,2,3,-1,5])\n",
    "np.sum(v)"
   ]
  },
  {
   "cell_type": "code",
   "execution_count": 174,
   "id": "0a681dda",
   "metadata": {},
   "outputs": [
    {
     "data": {
      "text/plain": [
       "-30"
      ]
     },
     "execution_count": 174,
     "metadata": {},
     "output_type": "execute_result"
    }
   ],
   "source": [
    "# Produtorio:\n",
    "v = np.array([1,2,3,-1,5])\n",
    "np.prod(v)"
   ]
  },
  {
   "cell_type": "code",
   "execution_count": 188,
   "id": "b9ee565b",
   "metadata": {},
   "outputs": [
    {
     "name": "stdout",
     "output_type": "stream",
     "text": [
      "Vetor de entrada:\n",
      " [[1 1 1 1]\n",
      " [0 1 2 3]] \n",
      "\n",
      "[1 2 3 4]\n",
      "[4 6]\n"
     ]
    }
   ],
   "source": [
    "# Somatorio em apena 1 eixo:\n",
    "v = np.array([[1,1,1,1], [0,1,2,3]] )\n",
    "print('Vetor de entrada:\\n', v, '\\n')\n",
    "print(np.sum(v, axis=0))\n",
    "print(np.sum(v, axis=1))"
   ]
  },
  {
   "cell_type": "code",
   "execution_count": 190,
   "id": "8184284c",
   "metadata": {},
   "outputs": [
    {
     "name": "stdout",
     "output_type": "stream",
     "text": [
      "Vetor de entrada\n",
      " [[1 1 1 1]\n",
      " [0 1 2 3]] \n",
      "\n",
      "[0 1 2 3]\n",
      "[1 0]\n"
     ]
    }
   ],
   "source": [
    "# Produtorio em apena 1 eixo:\n",
    "v = np.array([[1,1,1,1], [0,1,2,3]] )\n",
    "print('Vetor de entrada\\n', v, '\\n')\n",
    "print(np.prod(v, axis=0))\n",
    "print(np.prod(v, axis=1))"
   ]
  },
  {
   "cell_type": "code",
   "execution_count": 176,
   "id": "3e068406",
   "metadata": {},
   "outputs": [
    {
     "data": {
      "text/plain": [
       "2.0"
      ]
     },
     "execution_count": 176,
     "metadata": {},
     "output_type": "execute_result"
    }
   ],
   "source": [
    "# Média\n",
    "v = np.array([1,2,3,-1,5])\n",
    "np.mean(v)"
   ]
  },
  {
   "cell_type": "code",
   "execution_count": 201,
   "id": "bcf40a45",
   "metadata": {},
   "outputs": [
    {
     "data": {
      "text/plain": [
       "2.0"
      ]
     },
     "execution_count": 201,
     "metadata": {},
     "output_type": "execute_result"
    }
   ],
   "source": [
    "# Desvio padrão:\n",
    "v = np.array([1,2,3,-1,5])\n",
    "np.std(v)"
   ]
  },
  {
   "cell_type": "code",
   "execution_count": 178,
   "id": "1f4f60f1",
   "metadata": {},
   "outputs": [
    {
     "data": {
      "text/plain": [
       "4.0"
      ]
     },
     "execution_count": 178,
     "metadata": {},
     "output_type": "execute_result"
    }
   ],
   "source": [
    "# Variancia\n",
    "v = np.array([1,2,3,-1,5])\n",
    "np.var(v)"
   ]
  },
  {
   "cell_type": "code",
   "execution_count": 202,
   "id": "dbe9d443",
   "metadata": {},
   "outputs": [
    {
     "data": {
      "text/plain": [
       "2.0"
      ]
     },
     "execution_count": 202,
     "metadata": {},
     "output_type": "execute_result"
    }
   ],
   "source": []
  },
  {
   "cell_type": "markdown",
   "id": "669a754e",
   "metadata": {},
   "source": [
    "# Exercícios"
   ]
  },
  {
   "cell_type": "markdown",
   "id": "52296202",
   "metadata": {},
   "source": [
    "Crie a matriz abaixo:\n",
    "\n",
    "$\n",
    "A = \\begin{bmatrix}\n",
    "1 & 3 & 5 \\\\\n",
    "2 & 4 & 8 \\\\\n",
    "-1 & -2 & -3\n",
    "\\end{bmatrix}\n",
    "$"
   ]
  },
  {
   "cell_type": "code",
   "execution_count": null,
   "id": "22906012",
   "metadata": {},
   "outputs": [],
   "source": []
  },
  {
   "cell_type": "markdown",
   "id": "ff34e661",
   "metadata": {},
   "source": [
    "Dado o vetor:\n",
    "\n",
    "$\n",
    "v = \\begin{bmatrix} 10 & 20 & 30\\end{bmatrix}\n",
    "$\n",
    "\n",
    "Calcule o valor de $w$ onde:\n",
    "\n",
    "$\n",
    "w_i = v_i^2\n",
    "$"
   ]
  },
  {
   "cell_type": "code",
   "execution_count": null,
   "id": "55b67231",
   "metadata": {},
   "outputs": [],
   "source": []
  },
  {
   "cell_type": "markdown",
   "id": "db55bcc9",
   "metadata": {},
   "source": [
    "Dados dois vetores:\n",
    "\n",
    "$\n",
    "v = \\begin{bmatrix} 10 & 20 & 30\\end{bmatrix}\n",
    "$\n",
    "\n",
    "e \n",
    "\n",
    "$\n",
    "w = \\begin{bmatrix} 2 & 5 & 1\\end{bmatrix}\n",
    "$\n",
    "\n",
    "Calcule o valor de:\n",
    "\n",
    "$\n",
    "\\sum v_i \\cdot w_i\n",
    "$"
   ]
  },
  {
   "cell_type": "code",
   "execution_count": null,
   "id": "04d8259c",
   "metadata": {},
   "outputs": [],
   "source": []
  },
  {
   "cell_type": "markdown",
   "id": "d20da3de",
   "metadata": {},
   "source": [
    "A fórmula do desvio padrão é dada por:\n",
    "\n",
    "$\n",
    "d = \\sqrt{\\dfrac{\\sum\\limits_{i=1}^n (x_i - \\bar{x})^2}{n}}\n",
    "$\n",
    "\n",
    "Considere o vetor $v = \\begin{bmatrix} 1 & 2 & 3 & -1 & 5 \\end{bmatrix}$ e calcule manualmente o desvio padrão.\n",
    "\n",
    "Verifique a resposta utilizando a função `np.std()`"
   ]
  },
  {
   "cell_type": "code",
   "execution_count": null,
   "id": "e8409b67",
   "metadata": {},
   "outputs": [],
   "source": []
  }
 ],
 "metadata": {
  "kernelspec": {
   "display_name": "Python 3 (ipykernel)",
   "language": "python",
   "name": "python3"
  },
  "language_info": {
   "codemirror_mode": {
    "name": "ipython",
    "version": 3
   },
   "file_extension": ".py",
   "mimetype": "text/x-python",
   "name": "python",
   "nbconvert_exporter": "python",
   "pygments_lexer": "ipython3",
   "version": "3.10.4"
  },
  "latex_envs": {
   "LaTeX_envs_menu_present": true,
   "autoclose": true,
   "autocomplete": false,
   "bibliofile": "biblio.bib",
   "cite_by": "apalike",
   "current_citInitial": 1,
   "eqLabelWithNumbers": true,
   "eqNumInitial": 1,
   "hotkeys": {
    "equation": "Ctrl-E",
    "itemize": "Ctrl-I"
   },
   "labels_anchors": false,
   "latex_user_defs": false,
   "report_style_numbering": false,
   "user_envs_cfg": false
  }
 },
 "nbformat": 4,
 "nbformat_minor": 5
}
