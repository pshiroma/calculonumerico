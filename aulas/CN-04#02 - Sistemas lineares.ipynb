{
 "cells": [
  {
   "cell_type": "markdown",
   "id": "3944a8bc",
   "metadata": {
    "slideshow": {
     "slide_type": "slide"
    }
   },
   "source": [
    "# Sistemas lineares"
   ]
  },
  {
   "cell_type": "markdown",
   "id": "26a0ead7",
   "metadata": {
    "slideshow": {
     "slide_type": "-"
    }
   },
   "source": [
    "https://sites.google.com/view/projetoclculonumricoparatodos/m3?authuser=0"
   ]
  },
  {
   "cell_type": "markdown",
   "id": "f005b30e",
   "metadata": {
    "slideshow": {
     "slide_type": "fragment"
    }
   },
   "source": [
    "Veremos nesta parte a resolução de problemas que podem ser formulados da seguinte forma:\n",
    "\n",
    "\\begin{equation}\n",
    "\\begin{aligned}\n",
    "f_1(x_1, x_2, \\ldots, x_n) &= 0 \\\\\n",
    "f_2(x_1, x_2, \\ldots, x_n) &= 0 \\\\\n",
    "\\vdots \\\\\n",
    "f_n(x_1, x_2, \\ldots, x_n) &= 0 \\\\\n",
    "\\end{aligned}\n",
    "\\end{equation}\n",
    "\n",
    "chamadas de sistemas de equações."
   ]
  },
  {
   "cell_type": "markdown",
   "id": "56350de6",
   "metadata": {
    "slideshow": {
     "slide_type": "fragment"
    }
   },
   "source": [
    "Inicialmente vamos nos concentrar na solução de equações algébricas lineares, ou seja, sistemas que tenham a forma geral:\n",
    "\n",
    "\\begin{equation}\n",
    "\\begin{aligned}\n",
    " a_{11}x_1 + a_{12}x_2 + \\ldots + a_{1n}x_n &= b_1 \\\\\n",
    " a_{21}x_1 + a_{22}x_2 + \\ldots + a_{2n}x_n &= b_2 \\\\\n",
    " \\vdots \\\\\n",
    " a_{n1}x_1 + a_{n2}x_2 + \\ldots + a_{nn}x_n &= b_n \\\\\n",
    "\\end{aligned}\n",
    "\\end{equation}\n",
    "\n",
    "Para simplificar a notação, utilizaremos matrizes e vetores para representar sistemas de equações.\n",
    "Assim, definindo:\n",
    "\n",
    "$\n",
    "A = \\begin{bmatrix}\n",
    "a_{11} & a_{12} & \\ldots & a_{1n} \\\\\n",
    "a_{21} & a_{22} & \\ldots & a_{2n} \\\\\n",
    "\\vdots \\\\\n",
    "a_{n1} & a_{n2} & \\ldots & a_{nn} \n",
    "\\end{bmatrix}\n",
    "$ como sendo a matriz de coeficientes,\n",
    "\n",
    "$\n",
    "x = \\begin{bmatrix}\n",
    "x_1 \\\\\n",
    "x_2 \\\\\n",
    "\\vdots \\\\\n",
    "x_n\n",
    "\\end{bmatrix}\n",
    "$ o vetor de incognitas\n",
    "\n",
    "e\n",
    "\n",
    "$\n",
    "b = \\begin{bmatrix}\n",
    "b_1 \\\\\n",
    "b_2 \\\\\n",
    "\\vdots \\\\\n",
    "b_n\n",
    "\\end{bmatrix}\n",
    "$ o vetor de constantes.\n",
    "\n",
    "Podemos escrever nosso sistema como:\n",
    "\n",
    "\\begin{equation}\n",
    "Ax = b\n",
    "\\end{equation}\n",
    "\n"
   ]
  },
  {
   "cell_type": "markdown",
   "id": "a514cc9b",
   "metadata": {
    "slideshow": {
     "slide_type": "fragment"
    }
   },
   "source": [
    "Podemos determinar o vetor de incognitas fazendo:\n",
    "\n",
    "\\begin{equation}\n",
    "x = A^{-1}b\n",
    "\\end{equation},\n",
    "\n",
    "onde $A^{-1}$ é a matriz inversa de $A$"
   ]
  },
  {
   "cell_type": "markdown",
   "id": "dc070db4",
   "metadata": {
    "slideshow": {
     "slide_type": "fragment"
    }
   },
   "source": [
    "## Exemplo\n",
    "\n",
    "Vamos resolver o seguinte sistema de equações:\n",
    "\n",
    "$\n",
    "A = \\begin{bmatrix} 2 & 4 \\\\\n",
    "3 & -1\n",
    "\\end{bmatrix}\n",
    "$\n",
    "\n",
    "e\n",
    "\n",
    "$\n",
    "b = \\begin{bmatrix} 0 \\\\ 2 \\end{bmatrix}\n",
    "$"
   ]
  },
  {
   "cell_type": "code",
   "execution_count": 3,
   "id": "2b80801e",
   "metadata": {
    "slideshow": {
     "slide_type": "fragment"
    }
   },
   "outputs": [
    {
     "data": {
      "text/plain": [
       "array([ 1.5, -0.5])"
      ]
     },
     "execution_count": 3,
     "metadata": {},
     "output_type": "execute_result"
    }
   ],
   "source": [
    "import numpy as np\n",
    "A = np.array([[2, 4], [3, 1]])\n",
    "b = np.array([1, 4])\n",
    "np.linalg.solve(A,b)\n",
    "#np.linalg.inv(A) @ b"
   ]
  },
  {
   "cell_type": "markdown",
   "id": "32f9e429",
   "metadata": {
    "slideshow": {
     "slide_type": "fragment"
    }
   },
   "source": [
    "## Exemplo 2"
   ]
  },
  {
   "cell_type": "markdown",
   "id": "7b81e55f",
   "metadata": {
    "slideshow": {
     "slide_type": "fragment"
    }
   },
   "source": [
    "<img src=\"figuras/sistemas_lineares_exemplo1.svg\" width=\"500\"/>"
   ]
  },
  {
   "cell_type": "markdown",
   "id": "3593a2ed",
   "metadata": {
    "slideshow": {
     "slide_type": "fragment"
    }
   },
   "source": [
    "Fonte: https://www.engquimicasantossp.com.br/2015/06/balanco-de-massa-balanco-material.html\n",
    "\n",
    "Em uma coluna trabalhando em regime permanente destilam-se 1000 kg/h de uma mistura composta por 50% em peso de benzeno e 50% de tolueno. O destilado que sai da coluna é composto por 90% em peso de benzeno, e o resíduo que sai da coluna é composto por 8% em peso de benzeno. \n",
    "Determine a massa do destilado ($M_D$) e do resíduo ($M_R$)"
   ]
  },
  {
   "cell_type": "markdown",
   "id": "284de236",
   "metadata": {
    "slideshow": {
     "slide_type": "fragment"
    }
   },
   "source": [
    "## Resolução:\n",
    "\n",
    "O balanço de massa consiste em uma descrição dos fluxos de massa de entrada e saída de um processo, baseado na lei de conservação de massa, e pode ser expresso como:\n",
    "\n",
    "\\begin{equation}\n",
    "\\sum \\text{Entrada} = \\sum \\text{Acúmulo} + \\sum \\text{Saída}\n",
    "\\end{equation}\n",
    "\n",
    "Considerando um processo operando em regime permanente, temos que o acúmulo é zero e o balanço se torna:\n",
    "\n",
    "\\begin{equation}\n",
    "\\sum \\text{Entrada} = \\sum \\text{Saída}\n",
    "\\end{equation}\n",
    "\n",
    "Aplicando o balanço de massa para o benzeno, temos que:\n",
    "\n",
    "\\begin{equation}\n",
    "0,5M_A = 0,9M_D + 0,08M_R\n",
    "\\end{equation}\n",
    "\n",
    "Aplicando o balanço de massa para o tolueno, temos que:\n",
    "\n",
    "\\begin{equation}\n",
    "0,5M_A = 0,1M_D + 0,92M_R\n",
    "\\end{equation}\n",
    "\n",
    "Transformando o problema em um sistema de equações, ele se torna:\n",
    "\n",
    "$\n",
    "A = \\begin{bmatrix} 0,9 & 0,08 \\\\\n",
    "0,1 & 0,92\n",
    "\\end{bmatrix}\n",
    "$\n",
    "\n",
    "$\n",
    "x = \\begin{bmatrix} M_D \\\\\n",
    "M_R\n",
    "\\end{bmatrix}\n",
    "$\n",
    "e\n",
    "\n",
    "$\n",
    "b = \\begin{bmatrix} 0,5M_A \\\\ 0,5M_A \\end{bmatrix}\n",
    "$"
   ]
  },
  {
   "cell_type": "code",
   "execution_count": 7,
   "id": "60d75418",
   "metadata": {
    "slideshow": {
     "slide_type": "fragment"
    }
   },
   "outputs": [
    {
     "data": {
      "text/plain": [
       "array([512.19512195, 487.80487805])"
      ]
     },
     "execution_count": 7,
     "metadata": {},
     "output_type": "execute_result"
    }
   ],
   "source": [
    "import numpy as np\n",
    "MA = 1000\n",
    "A = np.array([[0.9, 0.08], [0.1, 0.92] ])\n",
    "b = np.array([0.5*MA,0.5*MA])\n",
    "np.linalg.solve(A,b)"
   ]
  },
  {
   "cell_type": "markdown",
   "id": "2a5640f1",
   "metadata": {
    "slideshow": {
     "slide_type": "fragment"
    }
   },
   "source": [
    "## Exemplo 3"
   ]
  },
  {
   "cell_type": "markdown",
   "id": "94c2fe39",
   "metadata": {
    "slideshow": {
     "slide_type": "fragment"
    }
   },
   "source": [
    "Uma equação química balanceada é aquela onde o número de cada átomo nos reagentes é igual nos produtos.\n",
    "Por exemplo, a reação $2H_2 + O_2 \\rightarrow 2H_2O$ encontra-se na forma balanceada.\n",
    "\n",
    "Encontre o balanceamento mínimo para a seguinte equação:\n",
    "\n",
    "$\n",
    "C_5H_{11}OH + O_2 \\rightarrow H_2O + CO_2\n",
    "$"
   ]
  },
  {
   "cell_type": "markdown",
   "id": "2c5ff940",
   "metadata": {
    "slideshow": {
     "slide_type": "fragment"
    }
   },
   "source": [
    "## Solução:\n",
    "\n",
    "O vetor de incógnitas será descrito usando a equação $a\\cdot C_5H_{11}OH + b\\cdot O_2 - c\\cdot H_2O - d\\cdot CO_2 = 0$.\n",
    "\n",
    "Assim teremos para o carbono:\n",
    "\n",
    "$\n",
    "5a - d = 0\n",
    "$\n",
    "\n",
    "Para o hidrogênio:\n",
    "\n",
    "$\n",
    "12a - 2c  = 0\n",
    "$\n",
    "\n",
    "e para o oxigênio:\n",
    "\n",
    "$\n",
    "a + 2b - c -2d = 0\n",
    "$\n",
    "\n",
    "e o vetor de incógnitas será:\n",
    "\n",
    "$\n",
    "x = \\begin{bmatrix} a \\\\ b \\\\ c \\\\ d \\end{bmatrix}\n",
    "$\n",
    "\n",
    "Observe que temos 3 equações e 4 incógnitas.\n",
    "Isto ocorre porque qualquer múltiplo da solução encontrada também satisfaz o sistema.\n",
    "Podemos então arbitrar um valor para uma das variáveis e depois ajustar o resultado de forma a obter valores inteiros.\n",
    "\n",
    "Neste exemplo, vamos fazer $d = 1$ e o nosso sistema ficará como:\n",
    "\n",
    "\\begin{aligned}\n",
    "5a = 1 \\\\\n",
    "12a - 2c = 0 \\\\\n",
    "a + 2b - c = 2\n",
    "\\end{aligned}\n",
    "\n",
    "e as matrizes correspondentes serão:\n",
    "\n",
    "$\n",
    "A = \\begin{bmatrix}\n",
    "5 &  0 & 0 \\\\\n",
    "12 & 0 & -2 \\\\\n",
    "1 & 2 & -1\n",
    "\\end{bmatrix}\n",
    "$\n",
    "\n",
    "$\n",
    "b = \\begin{bmatrix} 1 \\\\ 0 \\\\ 2 \\end{bmatrix}\n",
    "$"
   ]
  },
  {
   "cell_type": "code",
   "execution_count": 5,
   "id": "e229eed9",
   "metadata": {
    "slideshow": {
     "slide_type": "fragment"
    }
   },
   "outputs": [
    {
     "data": {
      "text/plain": [
       "array([ 2., 15., 12.])"
      ]
     },
     "execution_count": 5,
     "metadata": {},
     "output_type": "execute_result"
    }
   ],
   "source": [
    "import numpy as np\n",
    "A = np.array([[5, 0, 0], [12, 0, -2], [1, 2, -1]])\n",
    "b = np.array([1,0,2])\n",
    "10*np.linalg.solve(A,b)"
   ]
  },
  {
   "cell_type": "markdown",
   "id": "e16e1103",
   "metadata": {
    "slideshow": {
     "slide_type": "fragment"
    }
   },
   "source": [
    "## Exemplo 4"
   ]
  },
  {
   "cell_type": "markdown",
   "id": "f0f678f7",
   "metadata": {
    "slideshow": {
     "slide_type": "fragment"
    }
   },
   "source": [
    "<img src=\"figuras/sistemas_lineares_exemplo2.svg\" width=\"300\"/>"
   ]
  },
  {
   "cell_type": "markdown",
   "id": "06d49ecd",
   "metadata": {
    "slideshow": {
     "slide_type": "fragment"
    }
   },
   "source": [
    "Considere uma rede composta por 3 nós, $A$, $B$ e $C$.\n",
    "Em cada um dos nós temos fluxos entrando e/ou saindo, conforme figura acima.\n",
    "Determine os fluxos desconhecidos ($f_1$, $f_2$ e $f_3$) para o problema acima."
   ]
  },
  {
   "cell_type": "markdown",
   "id": "7b1d1e5d",
   "metadata": {
    "slideshow": {
     "slide_type": "fragment"
    }
   },
   "source": [
    "## Solução\n",
    "\n",
    "Podemos escrever para cada nó uma equação contendo os fluxos que entram e os fluxos que saem:\n",
    "\n",
    "Para o nó A:\n",
    "\n",
    "$\n",
    "10 + 5 = f_1 + f_2\n",
    "$\n",
    "\n",
    "Para o nó B:\n",
    "\n",
    "$\n",
    "f_1 = 10 + 3\n",
    "$\n",
    "\n",
    "e para o nó C:\n",
    "\n",
    "$\n",
    "f_2 + 3 + 5 = f_3\n",
    "$\n",
    "\n",
    "De forma mais compacta, podemos representar o problema como:\n",
    "\n",
    "\\begin{aligned}\n",
    "f_1 + f_2 = 15 \\\\\n",
    "f_1 = 13 \\\\\n",
    "f_2 - f_3 = -8 \\\\\n",
    "\\end{aligned}\n",
    "\n",
    "o que nos leva às matrizes:\n",
    "\n",
    "$\n",
    "A = \n",
    "\\begin{bmatrix}\n",
    "1 & 1 & 0 \\\\\n",
    "1 & 0 & 0 \\\\\n",
    "0 & 1 & -1 \n",
    "\\end{bmatrix}\n",
    "$\n",
    "\n",
    "e\n",
    "\n",
    "$\n",
    "b = \n",
    "\\begin{bmatrix}\n",
    "15 \\\\ 13 \\\\ -8\n",
    "\\end{bmatrix}\n",
    "$\n"
   ]
  },
  {
   "cell_type": "code",
   "execution_count": 14,
   "id": "eb85eef3",
   "metadata": {
    "slideshow": {
     "slide_type": "fragment"
    }
   },
   "outputs": [
    {
     "data": {
      "text/plain": [
       "array([13.,  2., 10.])"
      ]
     },
     "execution_count": 14,
     "metadata": {},
     "output_type": "execute_result"
    }
   ],
   "source": [
    "import numpy as np\n",
    "A = np.array([[1, 1, 0], [1, 0, 0], [0, 1, -1]])\n",
    "b = np.array([15,13,-8])\n",
    "np.linalg.solve(A,b)"
   ]
  },
  {
   "cell_type": "markdown",
   "id": "6b3e5aef",
   "metadata": {
    "slideshow": {
     "slide_type": "slide"
    }
   },
   "source": [
    "## Gauss"
   ]
  },
  {
   "cell_type": "markdown",
   "id": "c81018c2",
   "metadata": {
    "slideshow": {
     "slide_type": "fragment"
    }
   },
   "source": [
    "Vamos considerar a matriz aumentada, concatenando a matriz A com o vetor b:\n",
    "\n",
    "$\n",
    "Ab = \\begin{bmatrix}\n",
    "a_{11} & a_{12} & \\ldots & a_{1n} & b_1 \\\\\n",
    "a_{21} & a_{22} & \\ldots & a_{2n} & b_2 \\\\\n",
    "\\vdots \\\\\n",
    "a_{n1} & a_{n2} & \\ldots & a_{nn} & b_n \n",
    "\\end{bmatrix}\n",
    "$\n",
    "\n",
    "e vamos considerar uma linha qualquer:\n",
    "\n",
    "$[a_i] = \\begin{bmatrix}\n",
    "a_{i1} & a_{i2} & \\ldots & a_{in} & b_i \\end{bmatrix}$\n",
    "\n",
    "O método de Eliminação de Gauss se baseia na propriedade de que, se trocarmos a linha $i$ por:\n",
    "\n",
    "$[a'_i] = [a_i] + c[a_j]$\n",
    "\n",
    "a nova matriz continua tendo a mesma resposta que a matriz anterior."
   ]
  },
  {
   "cell_type": "markdown",
   "id": "acf07fd1",
   "metadata": {
    "slideshow": {
     "slide_type": "fragment"
    }
   },
   "source": [
    "Com base nesta propriedade, é possível achar uma matriz equivalente contendo zeros em todos os elementos da primeira coluna abaixo do elemento $a_{11}$:\n",
    "\n",
    "$\n",
    "Ab' = \\begin{bmatrix}\n",
    "a_{11} & a_{12} & a'_{13} & \\ldots & a_{1n} & b_1 \\\\\n",
    "0 & a'_{22} & a'_{23} & \\ldots & a'_{2n} & b'_2 \\\\\n",
    "0 & a'_{32} & a'_{33} & \\ldots & a'_{3n} & b'_3 \\\\\n",
    "\\vdots \\\\\n",
    "0 & a'_{n2} & a'_{n3} &\\ldots & a'_{nn} & b'_n \n",
    "\\end{bmatrix}\n",
    "$\n",
    "\n",
    "Para isso, basta escolhermos o valor $c_i = -a_{i1}/a_{11}$ e realizarmos a operação:\n",
    "\n",
    "$[a'_i] = [a_i] + c_i[a_1]$ para todas as linhas a partir da segunda.\n",
    "\n",
    "Para zerarmos a segunda coluna, escolhemos o elemento $a'_{22}$ como pivô e o valor de $c_i$ é dado por $c_i = -a'_{i2}/a'_{22}$.\n",
    "\n",
    "$\n",
    "Ab' = \\begin{bmatrix}\n",
    "a_{11} & a_{12} & a'_{13} & \\ldots & a_{1n} & b_1 \\\\\n",
    "0 & a'_{22} & a'_{23} & \\ldots & a'_{2n} & b'_2 \\\\\n",
    "0 & 0 & a''_{33} & \\ldots & a''_{3n} & b''_3 \\\\\n",
    "\\vdots \\\\\n",
    "0 & 0 & a''_{n3} &\\ldots & a''_{nn} & b''_n \n",
    "\\end{bmatrix}\n",
    "$\n",
    "\n",
    "Realizando esta operação, obtemos uma matriz triangular superior conforme abaixo (omitimos o índice superior, por simplicidade):\n",
    "\n",
    "$\n",
    "Ab' = \\begin{bmatrix}\n",
    "a_{11} & a_{12} & a'_{13} & \\ldots & a_{1n} & b_1 \\\\\n",
    "0 & a'_{22} & a'_{23} & \\ldots & a'_{2n} & b'_2 \\\\\n",
    "0 & 0 & a'_{33} & \\ldots & a'_{3n} & b'_3 \\\\\n",
    "\\vdots \\\\\n",
    "0 & 0 & 0 &\\ldots & a'_{nn} & b'_n \n",
    "\\end{bmatrix}\n",
    "$\n"
   ]
  },
  {
   "cell_type": "markdown",
   "id": "b68d1b4c",
   "metadata": {
    "slideshow": {
     "slide_type": "fragment"
    }
   },
   "source": [
    "Em seguida, podemos avançar a partir da última linha para determinar os valores de $x$ usando a fórmula:\n",
    "\n",
    "$\n",
    "x_n = b'_n/a'_{nn}\n",
    "$ para o último elemento\n",
    "\n",
    "$\n",
    "x_i = \\dfrac{b'_i - \\sum\\limits_{j=i+1}^n a'_{ij}x_j}{a'_{ii}}\n",
    "$\n",
    "\n",
    "para os demais.\n"
   ]
  },
  {
   "cell_type": "markdown",
   "id": "603f950a",
   "metadata": {
    "slideshow": {
     "slide_type": "fragment"
    }
   },
   "source": [
    "## Exemplo:\n",
    "\n",
    "Segue o sistema linear:\n",
    "\n",
    "$\n",
    "\\begin{bmatrix}\n",
    "1 & 3 & 4 \\\\\n",
    "2 & 5 & 1 \\\\\n",
    "3 & 6 & 9\n",
    "\\end{bmatrix}\n",
    "\\begin{bmatrix}\n",
    "x_1 \\\\  x_2 \\\\ x_3\n",
    "\\end{bmatrix}\n",
    "=\n",
    "\\begin{bmatrix}\n",
    "-4 \\\\ 6 \\\\ 12\n",
    "\\end{bmatrix}\n",
    "$"
   ]
  },
  {
   "cell_type": "markdown",
   "id": "92e2ed42",
   "metadata": {
    "slideshow": {
     "slide_type": "fragment"
    }
   },
   "source": [
    "Vamos criar a matriz aumentada:\n",
    "\n",
    "$\n",
    "Ab = \n",
    "\\begin{bmatrix}\n",
    "1 & 3 & 4 & -4\\\\\n",
    "2 & 5 & 1 & 6\\\\\n",
    "3 & 6 & 9 & 12\n",
    "\\end{bmatrix}\n",
    "$"
   ]
  },
  {
   "cell_type": "code",
   "execution_count": 66,
   "id": "9da52328",
   "metadata": {},
   "outputs": [
    {
     "name": "stdout",
     "output_type": "stream",
     "text": [
      "[[ 1.  3.  4. -4.]\n",
      " [ 2.  5.  1.  6.]\n",
      " [ 3.  6.  9. 12.]] \n",
      "\n",
      "[[ 1.  3.  4. -4.]\n",
      " [ 0. -1. -7. 14.]\n",
      " [ 0. -3. -3. 24.]]\n",
      "[[  1.   3.   4.  -4.]\n",
      " [  0.  -1.  -7.  14.]\n",
      " [  0.   0.  18. -18.]]\n"
     ]
    }
   ],
   "source": [
    "import numpy as np\n",
    "A = np.array([ [2.,3.,5.] , [1.,2.,-1.] , [-1.,-2.,3.] ])\n",
    "b = np.array([[0., 1., 5.]])\n",
    "\n",
    "A = np.array([ [1.,3.,4.] , [2.,5.,1.] , [3.,6.,9.] ])\n",
    "b = np.array([[-4., 6., 12.]])\n",
    "\n",
    "Ab = np.concatenate( (A, b.T), axis=1)\n",
    "print(Ab, '\\n')\n",
    "\n",
    "pivo = 0\n",
    "linha = pivo + 1\n",
    "c = -Ab[linha,pivo]/Ab[pivo,pivo]\n",
    "Ab[linha,:] = Ab[linha,:] + c*Ab[pivo,:]\n",
    "\n",
    "linha += 1\n",
    "c = -Ab[linha,pivo]/Ab[pivo,pivo]\n",
    "Ab[linha,:] = Ab[linha,:] + c*Ab[pivo,:]\n",
    "\n",
    "print(Ab)\n",
    "\n",
    "pivo = 1\n",
    "linha = pivo + 1\n",
    "c = -Ab[linha,pivo]/Ab[pivo,pivo]\n",
    "Ab[linha,:] = Ab[linha,:] + c*Ab[pivo,:]\n",
    "\n",
    "print(Ab)"
   ]
  },
  {
   "cell_type": "code",
   "execution_count": 64,
   "id": "f4b0bc5c",
   "metadata": {},
   "outputs": [
    {
     "name": "stdout",
     "output_type": "stream",
     "text": [
      "-1.0 -7.0 21.0\n"
     ]
    }
   ],
   "source": [
    "x3 = Ab[2,3]/Ab[2,2]\n",
    "x2 = (Ab[1,3] - x3*Ab[1,2])/Ab[1,1]\n",
    "x1 = (Ab[0,3] - x2*Ab[0,1] - x3*Ab[0,2])/Ab[0,0]\n",
    "print(x3,x2,x1)"
   ]
  },
  {
   "cell_type": "markdown",
   "id": "6a2921c6",
   "metadata": {
    "slideshow": {
     "slide_type": "fragment"
    }
   },
   "source": [
    "No primeiro passo da eliminação de Gauss, vamos escolher o elemento $a_{11} = 1$ como pivo.\n",
    "\n",
    "Vamos realizar a operação $[a_2] = [a_2] -a_{21}/a_{11}[a_1]$:\n",
    "\n",
    "$\n",
    "Ab = \n",
    "\\begin{bmatrix}\n",
    "1 & 3 & 4 & -4\\\\\n",
    "0 & -1 & -7 & 14\\\\\n",
    "3 & 6 & 9 & 12\n",
    "\\end{bmatrix}\n",
    "$"
   ]
  },
  {
   "cell_type": "markdown",
   "id": "3829a098",
   "metadata": {
    "slideshow": {
     "slide_type": "fragment"
    }
   },
   "source": [
    "Vamos realizar a operação $[a_3] = [a_3] -a_{31}/a_{11}[a_1]$:\n",
    "\n",
    "$\n",
    "Ab = \n",
    "\\begin{bmatrix}\n",
    "1 & 3 & 4 & -4\\\\\n",
    "0 & -1 & -7 & 14\\\\\n",
    "0 & -3 & -3 & 24\n",
    "\\end{bmatrix}\n",
    "$"
   ]
  },
  {
   "cell_type": "markdown",
   "id": "4c8bcb60",
   "metadata": {
    "slideshow": {
     "slide_type": "fragment"
    }
   },
   "source": [
    "Avançamos para a segunda coluna.\n",
    "Vamos escolher o elemento $a_{22} = -1$ como pivô.\n",
    "\n",
    "Vamos realizar a operação $[a_3] = [a_3] -a_{31}/a_{22}[a_3]$:\n",
    "\n",
    "$\n",
    "Ab = \n",
    "\\begin{bmatrix}\n",
    "1 & 3 & 4 & -4\\\\\n",
    "0 & -1 & -7 & 14\\\\\n",
    "0 & 0 & 18 & -18\n",
    "\\end{bmatrix}\n",
    "$"
   ]
  },
  {
   "cell_type": "markdown",
   "id": "f5af85dc",
   "metadata": {
    "slideshow": {
     "slide_type": "fragment"
    }
   },
   "source": [
    "Agora, vamos realizar a operação, começando pela última linha:\n",
    "\n",
    "$\n",
    "x_i = \\dfrac{b'_i - \\sum\\limits_{j=i+1}^n a'_{ij}x_j}{a'_{ii}}\n",
    "$"
   ]
  },
  {
   "cell_type": "markdown",
   "id": "88c0ae3d",
   "metadata": {
    "slideshow": {
     "slide_type": "fragment"
    }
   },
   "source": [
    "$x_3 = \\dfrac{-18 - 0}{18} = -1$"
   ]
  },
  {
   "cell_type": "markdown",
   "id": "386d339a",
   "metadata": {
    "slideshow": {
     "slide_type": "fragment"
    }
   },
   "source": [
    "$x_2 = \\dfrac{14 -(-7)(-1)}{-1} = -7$"
   ]
  },
  {
   "cell_type": "markdown",
   "id": "da2ffd64",
   "metadata": {
    "slideshow": {
     "slide_type": "fragment"
    }
   },
   "source": [
    "$x_1 = \\dfrac{-4 -(3\\cdot (-7) + 4\\cdot (-1))}{1} = 21$"
   ]
  },
  {
   "cell_type": "code",
   "execution_count": 67,
   "id": "9dd8bff4",
   "metadata": {
    "slideshow": {
     "slide_type": "fragment"
    }
   },
   "outputs": [
    {
     "name": "stdout",
     "output_type": "stream",
     "text": [
      "\n",
      " [[ 1.  3.  4. -4.]\n",
      " [ 2.  5.  1.  6.]\n",
      " [ 3.  6.  9. 12.]]\n",
      "\n",
      " [[ 1.  3.  4. -4.]\n",
      " [ 0. -1. -7. 14.]\n",
      " [ 3.  6.  9. 12.]]\n",
      "\n",
      " [[ 1.  3.  4. -4.]\n",
      " [ 0. -1. -7. 14.]\n",
      " [ 0. -3. -3. 24.]]\n",
      "\n",
      " [[  1.   3.   4.  -4.]\n",
      " [  0.  -1.  -7.  14.]\n",
      " [  0.   0.  18. -18.]]\n"
     ]
    }
   ],
   "source": [
    "import numpy as np\n",
    "np.set_printoptions(suppress=True)\n",
    "A = np.array([[1.0, 3, 4] , [2, 5, 1], [3, 6, 9]])\n",
    "b = np.array([[-4, 6, 12]]).T\n",
    "\n",
    "Ab = np.concatenate((A, b), axis=1)\n",
    "print('\\n',Ab)\n",
    "\n",
    "PIVO = 0\n",
    "LIN = 1\n",
    "\n",
    "C = -Ab[LIN,PIVO]/Ab[PIVO,PIVO]\n",
    "Ab[LIN,:] = Ab[LIN,:] + C*Ab[PIVO,:] \n",
    "print('\\n',Ab)\n",
    "\n",
    "LIN = 2\n",
    "\n",
    "C = -Ab[LIN,PIVO]/Ab[PIVO,PIVO]\n",
    "Ab[LIN,:] = Ab[LIN,:] + C*Ab[PIVO,:] \n",
    "print('\\n',Ab)\n",
    "\n",
    "PIVO = 1\n",
    "LIN = 2\n",
    "\n",
    "C = -Ab[LIN,PIVO]/Ab[PIVO,PIVO]\n",
    "Ab[LIN,:] = Ab[LIN,:] + C*Ab[PIVO,:] \n",
    "print('\\n',Ab)"
   ]
  },
  {
   "cell_type": "markdown",
   "id": "abb8a8e2",
   "metadata": {
    "slideshow": {
     "slide_type": "fragment"
    }
   },
   "source": [
    "Em seguida, podemos calcular os valores de $x_i$ usando a fórmula:\n",
    "\n",
    "$\n",
    "x_i = \\dfrac{b'_i - \\sum\\limits_{j=i+1}^n a'_{ij}x_j}{a'_{ii}}\n",
    "$"
   ]
  },
  {
   "cell_type": "code",
   "execution_count": 68,
   "id": "b7e4a05a",
   "metadata": {
    "slideshow": {
     "slide_type": "fragment"
    }
   },
   "outputs": [
    {
     "name": "stdout",
     "output_type": "stream",
     "text": [
      "[21. -7. -1.]\n",
      "[[21.]\n",
      " [-7.]\n",
      " [-1.]]\n"
     ]
    }
   ],
   "source": [
    "n = np.shape(A)[0]\n",
    "x = np.zeros(n)\n",
    "for i in reversed(range(n)):\n",
    "    b_i = Ab[i,n]\n",
    "    a_ii = Ab[i,i]\n",
    "    soma = np.dot(Ab[i,i+1:n], x[i+1:n])\n",
    "    #s = 0\n",
    "    #for j in range(i+1,n):\n",
    "    #    s += Ab[i,j]*x[j]\n",
    "    x[i] = (b_i - soma)/a_ii\n",
    "print(x)\n",
    "\n",
    "# Comparando com o resultado obtido pela função existente no python:\n",
    "r = np.linalg.solve(A,b)\n",
    "print(r)"
   ]
  },
  {
   "cell_type": "markdown",
   "id": "0bce0fb8",
   "metadata": {
    "slideshow": {
     "slide_type": "fragment"
    }
   },
   "source": [
    "Vamos agora juntar o código em uma única função:"
   ]
  },
  {
   "cell_type": "code",
   "execution_count": 75,
   "id": "992e4ba9",
   "metadata": {
    "slideshow": {
     "slide_type": "fragment"
    }
   },
   "outputs": [
    {
     "data": {
      "text/plain": [
       "array([21.0000, -7.0000, -1.0000])"
      ]
     },
     "execution_count": 75,
     "metadata": {},
     "output_type": "execute_result"
    }
   ],
   "source": [
    "np.set_printoptions(precision=4, suppress=True)\n",
    "def gauss(A, b):\n",
    "    n = np.shape(A)[0]\n",
    "    Ab = np.concatenate((A, b), axis=1)\n",
    "\n",
    "    for PIVO in range(n):\n",
    "        for LIN in range(PIVO+1, n):\n",
    "            C = -Ab[LIN,PIVO]/Ab[PIVO,PIVO]\n",
    "            Ab[LIN,:] = Ab[LIN,:] + C*Ab[PIVO,:]\n",
    "    #print(Ab)\n",
    "    x = np.zeros(n)\n",
    "    for i in reversed(range(n)):\n",
    "        b_i = Ab[i,n]\n",
    "        a_ii = Ab[i,i]\n",
    "        soma = np.dot(Ab[i,i+1:n], x[i+1:n])\n",
    "        x[i] = (b_i - soma)/a_ii\n",
    "    return x\n",
    "\n",
    "gauss(A,b)"
   ]
  },
  {
   "cell_type": "markdown",
   "id": "96874a42",
   "metadata": {
    "slideshow": {
     "slide_type": "slide"
    }
   },
   "source": [
    "## Eliminação de Gaus com pivoteamento parcial"
   ]
  },
  {
   "cell_type": "markdown",
   "id": "5ed096c2",
   "metadata": {
    "slideshow": {
     "slide_type": "fragment"
    }
   },
   "source": [
    "Resolva o seguinte sistema linear:\n",
    "\n",
    "$\n",
    "\\begin{bmatrix}\n",
    "10^{-16} & 1 \\\\ 1 & 1\n",
    "\\end{bmatrix}\n",
    "\\begin{bmatrix}\n",
    "x_1 \\\\ x_2\n",
    "\\end{bmatrix}\n",
    "=\n",
    "\\begin{bmatrix} 1 \\\\ 2 \\end{bmatrix}\n",
    "$"
   ]
  },
  {
   "cell_type": "markdown",
   "id": "6f7b2ae3",
   "metadata": {
    "slideshow": {
     "slide_type": "fragment"
    }
   },
   "source": [
    "Resposta analítica:\n",
    "\n",
    "\\begin{aligned}\n",
    "x_1 = 1 + \\dfrac{1}{10^{16}-1}  \\\\ \n",
    "x_2 = 1 - \\dfrac{1}{10^{16}-1}  \n",
    "\\end{aligned}\n"
   ]
  },
  {
   "cell_type": "code",
   "execution_count": 80,
   "id": "e0cb1662",
   "metadata": {
    "slideshow": {
     "slide_type": "fragment"
    }
   },
   "outputs": [
    {
     "name": "stdout",
     "output_type": "stream",
     "text": [
      "[1.0000000000000000000 1.0000000000000000000]\n",
      "[[1.0000000000000000000 1.0000000000000000000]]\n"
     ]
    }
   ],
   "source": [
    "import numpy as np\n",
    "np.set_printoptions(precision=19,floatmode='fixed')\n",
    "A1 = np.array([[10**(-17), 1], [1,1]])\n",
    "b1 = np.array([[1,2]]).T\n",
    "#gauss(A1,b1)\n",
    "print(gauss_pivoteamento(A1,b1))\n",
    "print(np.linalg.solve(A1, b1).T)"
   ]
  },
  {
   "cell_type": "markdown",
   "id": "c10d2850",
   "metadata": {
    "slideshow": {
     "slide_type": "fragment"
    }
   },
   "source": [
    "Como visto anteriormente, o método de eliminação de Gauss sofre com problemas quando o elemento pivo é igual a zero ou próximo dele. \n",
    "Neste caso, podemos trocar a linha do pivoteamento por outra qualquer.\n",
    "Geralmente escolhe-se trocar pela linha que tem o maior elemento."
   ]
  },
  {
   "cell_type": "code",
   "execution_count": 79,
   "id": "8a596e78",
   "metadata": {
    "slideshow": {
     "slide_type": "fragment"
    }
   },
   "outputs": [
    {
     "data": {
      "text/plain": [
       "array([ 4.0000000000000000000,  8.0000000000000000000,\n",
       "       -2.0000000000000000000])"
      ]
     },
     "execution_count": 79,
     "metadata": {},
     "output_type": "execute_result"
    }
   ],
   "source": [
    "def gauss_pivoteamento(A, b):\n",
    "    n = np.shape(A)[0]\n",
    "    Ab = np.concatenate((A, b), axis=1)\n",
    "\n",
    "    for PIVO in range(n):\n",
    "        amax = np.argmax(abs(Ab[PIVO:,PIVO]))\n",
    "        \n",
    "        if amax != 0:\n",
    "            # trocando 2 linha de posicao:\n",
    "            Ab[np.array([PIVO,amax+PIVO])] = Ab[np.array([amax+PIVO,PIVO])]\n",
    "        \n",
    "        for LIN in range(PIVO+1, n):            \n",
    "            C = -Ab[LIN,PIVO]/Ab[PIVO,PIVO]\n",
    "            Ab[LIN,:] = Ab[LIN,:] + C*Ab[PIVO,:]\n",
    "\n",
    "    x = np.zeros(n)\n",
    "    for i in reversed(range(n)):\n",
    "        b_i = Ab[i,n]\n",
    "        a_ii = Ab[i,i]\n",
    "        soma = np.dot(Ab[i,i+1:n], x[i+1:n])\n",
    "        x[i] = (b_i - soma)/a_ii\n",
    "    return x\n",
    "\n",
    "A = np.array([[2.0, -6.0, -1.0] , [-3.0, -1.0, 7.0], [-8.0, 1.0, -2.0]])\n",
    "b = np.array([[-38, -34, -20]]).T\n",
    "\n",
    "gauss_pivoteamento(A,b)\n",
    "#np.linalg.solve(A,b)"
   ]
  },
  {
   "cell_type": "code",
   "execution_count": 27,
   "id": "c6a7cbb5",
   "metadata": {
    "slideshow": {
     "slide_type": "fragment"
    }
   },
   "outputs": [
    {
     "name": "stdout",
     "output_type": "stream",
     "text": [
      "[1.00000000000000000000 0.99999999999999988898]\n",
      "[[1.00000000000000000000 0.99999999999999988898]]\n"
     ]
    }
   ],
   "source": [
    "np.set_printoptions(precision=20,floatmode='fixed')\n",
    "A1 = np.array([[10**(-16), 1], [1,1]])\n",
    "b1 = np.array([[1,2]]).T\n",
    "print(gauss_pivoteamento(A1,b1))\n",
    "print(np.linalg.solve(A1, b1).T)"
   ]
  },
  {
   "cell_type": "markdown",
   "id": "a5d3b388",
   "metadata": {
    "slideshow": {
     "slide_type": "slide"
    }
   },
   "source": [
    "## Sistema tridiagonal"
   ]
  },
  {
   "cell_type": "markdown",
   "id": "df631b01",
   "metadata": {
    "slideshow": {
     "slide_type": "fragment"
    }
   },
   "source": [
    "Um sistema é chamado de tridiagonal quando tem o seguinte formato:\n",
    "\n",
    "$\n",
    "\\begin{bmatrix}\n",
    "f_1 & g_1 & 0 & \\ldots & 0 \\\\\n",
    "e_2 & f_2 & g_2 & \\ldots & 0 \\\\\n",
    "0 & e_3 & f_3 & g_3 & 0 \\\\\n",
    "0 &  \\ldots & e_{n-1} & f_{n-1} & g_{n-1}  \\\\\n",
    "0 &  \\ldots & 0 & e_{n} & f_{n}\\\\\n",
    "\\end{bmatrix}\n",
    "\\begin{bmatrix} x_1 \\\\ x_2 \\\\ \\\\ \\vdots \\\\ x_n \\end{bmatrix} \n",
    "=\n",
    "\\begin{bmatrix} b_1 \\\\ b_2 \\\\ \\\\ \\vdots \\\\ b_n\\end{bmatrix} \n",
    "$"
   ]
  },
  {
   "cell_type": "markdown",
   "id": "b9c46d13",
   "metadata": {
    "slideshow": {
     "slide_type": "fragment"
    }
   },
   "source": [
    "A aplicação do método de eliminação de Gauss neste caso é mais simples.\n",
    "Por exemplo, para a segunda linha teremos:\n",
    "\n",
    "$\n",
    "e_2 = 0\n",
    "$\n",
    "\n",
    "$\n",
    "f'_2 = f_2 -\\dfrac{e2}{f1}g_1\n",
    "$\n",
    "\n",
    "$g_2 $ não sofre alteração.\n",
    "\n",
    "$\n",
    "b'_2 = b_2 -\\dfrac{e2}{f1}b_1\n",
    "$\n"
   ]
  },
  {
   "cell_type": "markdown",
   "id": "ef29a25a",
   "metadata": {
    "slideshow": {
     "slide_type": "fragment"
    }
   },
   "source": [
    "Em cada linha, teremos os mesmos cálculos, ajustando apenas os índices."
   ]
  },
  {
   "cell_type": "markdown",
   "id": "5e3480c1",
   "metadata": {
    "slideshow": {
     "slide_type": "fragment"
    }
   },
   "source": [
    "Ao final da eliminação de Gauss, teremos a matriz:\n",
    "\n",
    "$\n",
    "\\begin{bmatrix}\n",
    "f_1 & g_1 & 0 & \\ldots & 0 \\\\\n",
    "0 & f'_2 & g_2 & \\ldots & 0 \\\\\n",
    "0 & 0 & f'_3 & g_3 & 0 \\\\\n",
    "0 &  \\ldots & 0 & f'_{n-1} & g_{n-1}  \\\\\n",
    "0 &  \\ldots & 0 & 0 & f'_{n}\\\\\n",
    "\\end{bmatrix}\n",
    "\\begin{bmatrix} x_1 \\\\ x_2 \\\\ \\\\ \\vdots \\\\ x_n \\end{bmatrix} \n",
    "=\n",
    "\\begin{bmatrix} b_1 \\\\ b'_2 \\\\ \\\\ \\vdots \\\\ b'_n\\end{bmatrix} \n",
    "$"
   ]
  },
  {
   "cell_type": "markdown",
   "id": "495b0946",
   "metadata": {
    "slideshow": {
     "slide_type": "fragment"
    }
   },
   "source": [
    "Finalmente, o cálculo dos valores de $x_i$ será igual a:\n",
    "\n",
    "$\n",
    "x_n = \\dfrac{b'_n}{f'_n}\n",
    "$\n",
    "\n",
    "e\n",
    "\n",
    "$\n",
    "x_i = \\dfrac{b'_i - g_i x_{i+1}}{f'_i}\n",
    "$"
   ]
  },
  {
   "cell_type": "markdown",
   "id": "65224daa",
   "metadata": {
    "slideshow": {
     "slide_type": "fragment"
    }
   },
   "source": [
    "## Exemplo:\n",
    "\n",
    "$\n",
    "\\begin{bmatrix}\n",
    "2,04 & -1 \\\\\n",
    "-1 & 2,04 & -1 \\\\\n",
    "& -1 & 2,04 & -1 \\\\\n",
    "& & -1 & 2,04 \\\\\n",
    "\\end{bmatrix}\n",
    "\\begin{bmatrix} x_1 \\\\ x_2 \\\\ x_3 \\\\ x_4 \\end{bmatrix}\n",
    "=\n",
    "\\begin{bmatrix} 40,8 \\\\ 0,8 \\\\ 0,8 \\\\ 200,8 \\end{bmatrix}\n",
    "$"
   ]
  },
  {
   "cell_type": "markdown",
   "id": "b0067cef",
   "metadata": {
    "slideshow": {
     "slide_type": "fragment"
    }
   },
   "source": [
    "Após a transformação em matriz triangular superior, teremos:\n",
    "\n",
    "$\n",
    "\\begin{bmatrix}\n",
    "2,04 & -1 \\\\\n",
    " & 1,550 & -1 \\\\\n",
    "&  & 1,395 & -1 \\\\\n",
    "& &  & 1,323 \\\\\n",
    "\\end{bmatrix}\n",
    "\\begin{bmatrix} x_1 \\\\ x_2 \\\\ x_3 \\\\ x_4 \\end{bmatrix}\n",
    "=\n",
    "\\begin{bmatrix} 40,8 \\\\ 20,8 \\\\ 14,221 \\\\ 210,996 \\end{bmatrix}\n",
    "$"
   ]
  },
  {
   "cell_type": "markdown",
   "id": "65ae09cd",
   "metadata": {
    "slideshow": {
     "slide_type": "fragment"
    }
   },
   "source": [
    "A partir do qual achamos:\n",
    "\n",
    "$x_4 = 159,480$\n",
    "\n",
    "$x_3 = \\dfrac{14,221 - (-1)159,480}{1,395} = 124,538$\n",
    "\n",
    "$x_2 = \\dfrac{20,800 - (-1)124,538}{1,550} = 93,778$\n",
    "\n",
    "$x_1 = \\dfrac{40,800 - (-1)93,778}{2,04} = 65,970$"
   ]
  },
  {
   "cell_type": "markdown",
   "id": "31a493c3",
   "metadata": {
    "slideshow": {
     "slide_type": "fragment"
    }
   },
   "source": [
    "O sistema tridiagonal aparece naturalmente na resolução de equações diferenciais com condições de contorno.\n",
    "\n",
    "Por exemplo, a equação que relaciona a temperatura de uma haste com a distância:\n",
    "\n",
    "$\n",
    "\\dfrac{d^2T}{dx^2} + h'(T_a - T) = 0\n",
    "$, \n",
    "\n",
    "onde $T$ representa a temperatura da haste, $x$ a distância ao longo de uma haste, $T_a$ a temperatura ambiente, $h$ o coeficiente de transferência de calor pode ser numericamente aproximada por:\n",
    "\n",
    "$\n",
    "\\dfrac{d^2T}{dx^2} = \\dfrac{T_{i+1} - 2T_i + T_{i-1}}{\\Delta x^2}\n",
    "$.\n",
    "\n",
    "Utilizando um passo $\\Delta x = 2$ e supondo que as condições de contorno são $T(0) = 40$, $T(10) = 200$ e $h' = 0,01$ o sistema pode ser reescrito como:\n",
    "\n",
    "$\n",
    "\\begin{aligned}\n",
    "-T_0 + 2,04T_1 + T_2 = 0.8 \\\\\n",
    "-T_1 + 2,04T_2 + T_3 = 0.8 \\\\\n",
    "-T_2 + 2,04T_3 + T_4 = 0.8 \\\\\n",
    "-T_3 + 2,04T_4 + T_5 = 0.8 \n",
    "\\end{aligned}\n",
    "$\n",
    "\n",
    "o qual, após substituirmos o valor de $T(0)$ e $T(10)$ resulta no sistema linear tridiagonal do exemplo anterior."
   ]
  }
 ],
 "metadata": {
  "celltoolbar": "Slideshow",
  "kernelspec": {
   "display_name": "Python 3 (ipykernel)",
   "language": "python",
   "name": "python3"
  },
  "language_info": {
   "codemirror_mode": {
    "name": "ipython",
    "version": 3
   },
   "file_extension": ".py",
   "mimetype": "text/x-python",
   "name": "python",
   "nbconvert_exporter": "python",
   "pygments_lexer": "ipython3",
   "version": "3.9.12"
  },
  "latex_envs": {
   "LaTeX_envs_menu_present": true,
   "autoclose": true,
   "autocomplete": false,
   "bibliofile": "biblio.bib",
   "cite_by": "apalike",
   "current_citInitial": 1,
   "eqLabelWithNumbers": true,
   "eqNumInitial": 1,
   "hotkeys": {
    "equation": "Ctrl-E",
    "itemize": "Ctrl-I"
   },
   "labels_anchors": false,
   "latex_user_defs": false,
   "report_style_numbering": false,
   "user_envs_cfg": false
  }
 },
 "nbformat": 4,
 "nbformat_minor": 5
}
