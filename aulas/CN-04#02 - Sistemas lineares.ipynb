{
 "cells": [
  {
   "cell_type": "markdown",
   "id": "3944a8bc",
   "metadata": {
    "slideshow": {
     "slide_type": "slide"
    }
   },
   "source": [
    "# Sistemas lineares"
   ]
  },
  {
   "cell_type": "markdown",
   "id": "26a0ead7",
   "metadata": {
    "slideshow": {
     "slide_type": "-"
    }
   },
   "source": [
    "https://sites.google.com/view/projetoclculonumricoparatodos/m3?authuser=0"
   ]
  },
  {
   "cell_type": "markdown",
   "id": "f005b30e",
   "metadata": {
    "slideshow": {
     "slide_type": "fragment"
    }
   },
   "source": [
    "Veremos nesta parte a resolução de problemas que podem ser formulados da seguinte forma:\n",
    "\n",
    "\\begin{equation}\n",
    "\\begin{aligned}\n",
    "f_1(x_1, x_2, \\ldots, x_n) &= 0 \\\\\n",
    "f_2(x_1, x_2, \\ldots, x_n) &= 0 \\\\\n",
    "\\vdots \\\\\n",
    "f_n(x_1, x_2, \\ldots, x_n) &= 0 \\\\\n",
    "\\end{aligned}\n",
    "\\end{equation}\n",
    "\n",
    "chamadas de sistemas de equações."
   ]
  },
  {
   "cell_type": "markdown",
   "id": "56350de6",
   "metadata": {
    "slideshow": {
     "slide_type": "fragment"
    }
   },
   "source": [
    "Inicialmente vamos nos concentrar na solução de equações algébricas lineares, ou seja, sistemas que tenham a forma geral:\n",
    "\n",
    "\\begin{equation}\n",
    "\\begin{aligned}\n",
    " a_{11}x_1 + a_{12}x_2 + \\ldots + a_{1n}x_n &= b_1 \\\\\n",
    " a_{21}x_1 + a_{22}x_2 + \\ldots + a_{2n}x_n &= b_2 \\\\\n",
    " \\vdots \\\\\n",
    " a_{n1}x_1 + a_{n2}x_2 + \\ldots + a_{nn}x_n &= b_n \\\\\n",
    "\\end{aligned}\n",
    "\\end{equation}\n",
    "\n",
    "Para simplificar a notação, utilizaremos matrizes e vetores para representar sistemas de equações.\n",
    "Assim, definindo:\n",
    "\n",
    "$\n",
    "A = \\begin{bmatrix}\n",
    "a_{11} & a_{12} & \\ldots & a_{1n} \\\\\n",
    "a_{21} & a_{22} & \\ldots & a_{2n} \\\\\n",
    "\\vdots \\\\\n",
    "a_{n1} & a_{n2} & \\ldots & a_{nn} \n",
    "\\end{bmatrix}\n",
    "$ como sendo a matriz de coeficientes,\n",
    "\n",
    "$\n",
    "x = \\begin{bmatrix}\n",
    "x_1 \\\\\n",
    "x_2 \\\\\n",
    "\\vdots \\\\\n",
    "x_n\n",
    "\\end{bmatrix}\n",
    "$ o vetor de incognitas\n",
    "\n",
    "e\n",
    "\n",
    "$\n",
    "b = \\begin{bmatrix}\n",
    "b_1 \\\\\n",
    "b_2 \\\\\n",
    "\\vdots \\\\\n",
    "b_n\n",
    "\\end{bmatrix}\n",
    "$ o vetor de constantes.\n",
    "\n",
    "Desta forma, podemos escrever nosso sistema de uma forma mais sucinta:\n",
    "\n",
    "\\begin{equation}\n",
    "Ax = b\n",
    "\\end{equation}\n",
    "\n"
   ]
  },
  {
   "cell_type": "markdown",
   "id": "a514cc9b",
   "metadata": {
    "slideshow": {
     "slide_type": "fragment"
    }
   },
   "source": [
    "A **solução do sistema linear** é obtida descobrindo-se o valor do vetor de incognitas que satisfaz a equação.\n",
    "Matematicamente ela pode ser obtida por meio da equação:\n",
    "\n",
    "\\begin{equation}\n",
    "x = A^{-1}b\n",
    "\\end{equation},\n",
    "\n",
    "onde $A^{-1}$ é a matriz inversa de $A$"
   ]
  },
  {
   "cell_type": "markdown",
   "id": "dc070db4",
   "metadata": {
    "slideshow": {
     "slide_type": "fragment"
    }
   },
   "source": [
    "## Exemplo\n",
    "\n",
    "Vamos resolver o seguinte sistema de equações:\n",
    "\n",
    "$\n",
    "A = \\begin{bmatrix} 2 & 4 \\\\\n",
    "3 & -1\n",
    "\\end{bmatrix}\n",
    "$\n",
    "\n",
    "e\n",
    "\n",
    "$\n",
    "b = \\begin{bmatrix} 0 \\\\ 2 \\end{bmatrix}\n",
    "$"
   ]
  },
  {
   "cell_type": "code",
   "execution_count": 2,
   "id": "2b80801e",
   "metadata": {
    "slideshow": {
     "slide_type": "fragment"
    }
   },
   "outputs": [
    {
     "data": {
      "text/plain": [
       "array([ 1.5, -0.5])"
      ]
     },
     "execution_count": 2,
     "metadata": {},
     "output_type": "execute_result"
    }
   ],
   "source": [
    "import numpy as np\n",
    "A = np.array([[2, 4], [3, 1]])\n",
    "b = np.array([1, 4])\n",
    "np.linalg.solve(A,b)\n",
    "#np.linalg.inv(A) @ b"
   ]
  },
  {
   "cell_type": "markdown",
   "id": "3639f5c5-3858-4273-a577-f24a31e0e633",
   "metadata": {},
   "source": [
    "# Exercício 1\n",
    "\n",
    "Crie a matriz abaixo utilizando o tipo de dados `array` da biblioteca `numpy`:\n",
    "\n",
    "\\begin{bmatrix}\n",
    "1 & 2 & 3 \\\\\n",
    "0 & -1 & -2 \\\\\n",
    "2 & 2 & 1\n",
    "\\end{bmatrix}"
   ]
  },
  {
   "cell_type": "code",
   "execution_count": null,
   "id": "e67a8cfa-e525-4fda-9434-dca8a2dbd7e9",
   "metadata": {},
   "outputs": [],
   "source": []
  },
  {
   "cell_type": "markdown",
   "id": "75c78722-7634-49e5-a8f9-de7e2c0d55bd",
   "metadata": {},
   "source": [
    "# Exercício 2\n",
    "\n",
    "Realize a concatenação das matrizes abaixo:\n",
    "\n",
    "$\n",
    "A =\n",
    "\\begin{bmatrix}\n",
    "1 & 2 \\\\\n",
    "4 & 5\n",
    "\\end{bmatrix}\n",
    "$\n",
    "\n",
    "e\n",
    "\n",
    "$b = \\begin{bmatrix}\n",
    "3 \\\\\n",
    "6\n",
    "\\end{bmatrix}\n",
    "$\n",
    "\n",
    "a fim de produzir a matriz aumentada:\n",
    "\n",
    "$\n",
    "Ab =\n",
    "\\begin{bmatrix}\n",
    "1 & 2 & 3\\\\\n",
    "4 & 5 & 6\n",
    "\\end{bmatrix}\n",
    "$\n",
    "\n",
    "utilizando os comandos da biblioteca `numpy`."
   ]
  },
  {
   "cell_type": "code",
   "execution_count": null,
   "id": "b92850bd-226d-4320-b48e-77f211add4b6",
   "metadata": {},
   "outputs": [],
   "source": []
  },
  {
   "cell_type": "markdown",
   "id": "242a150c-d4c5-4306-b550-a39659dcfca7",
   "metadata": {},
   "source": [
    "# Exercício 3\n",
    "\n",
    "Execute o código abaixo e explique o que acontece em cada caso:"
   ]
  },
  {
   "cell_type": "code",
   "execution_count": 1,
   "id": "09e7cd58-173e-4a80-92a0-eef1f8e7ba4e",
   "metadata": {},
   "outputs": [
    {
     "name": "stdout",
     "output_type": "stream",
     "text": [
      "[ 0 -1  4] \n",
      " [ 0 -1  4] \n",
      " [0 2 4]\n"
     ]
    }
   ],
   "source": [
    "import numpy as np\n",
    "v = np.array([0, 2, 4])\n",
    "w = v\n",
    "u = v.copy()\n",
    "w[1] = -1\n",
    "print(v, '\\n', w, '\\n', u)"
   ]
  },
  {
   "cell_type": "markdown",
   "id": "540f8d1e-6c36-459a-84ba-6e91089079f0",
   "metadata": {},
   "source": [
    "# Exercício 4"
   ]
  },
  {
   "cell_type": "markdown",
   "id": "37677fc8-c24a-4a5a-92f6-e50895d367a4",
   "metadata": {},
   "source": [
    "Determine a solução do sistema linear $Ax = b$, onde\n",
    "\n",
    "$\n",
    "A =\n",
    "\\begin{bmatrix}\n",
    "1 & 2 & 2 \\\\\n",
    "-2 & 0 & 2 \\\\\n",
    "5 & -1 & 0\n",
    "\\end{bmatrix}\n",
    "$\n",
    "\n",
    "e \n",
    "\n",
    "$b = \\begin{bmatrix}\n",
    "11 \\\\\n",
    "4 \\\\\n",
    "3\n",
    "\\end{bmatrix}\n",
    "$"
   ]
  },
  {
   "cell_type": "code",
   "execution_count": 6,
   "id": "cb19bb6c-5419-48f8-ad08-31d69b113b44",
   "metadata": {},
   "outputs": [
    {
     "name": "stdout",
     "output_type": "stream",
     "text": [
      "[1. 2. 3.]\n"
     ]
    }
   ],
   "source": [
    "import numpy as np\n",
    "A = np.array( [ [1,2,2], [-2,0,2], [5,-1,0] ] )\n",
    "b = np.array( [11, 4, 3] )\n",
    "x = np.linalg.solve(A,b)\n",
    "print(x)"
   ]
  },
  {
   "cell_type": "markdown",
   "id": "638c4d26-ed0e-4eb3-8935-163af861dc06",
   "metadata": {},
   "source": [
    "Determine a solução do sistema linear $Ax = b$, onde\n",
    "\n",
    "$\n",
    "A =\n",
    "\\begin{bmatrix}\n",
    "1 & 0 & 1 \\\\\n",
    "0 & 2 & 1 \\\\\n",
    "1 & 1 & 1\n",
    "\\end{bmatrix}\n",
    "$\n",
    "\n",
    "e \n",
    "\n",
    "$b = \\begin{bmatrix}\n",
    "2 \\\\\n",
    "4 \\\\\n",
    "3\n",
    "\\end{bmatrix}\n",
    "$"
   ]
  },
  {
   "cell_type": "code",
   "execution_count": 7,
   "id": "82c3bb76-ae7b-4ff9-9c38-77bebbdb4544",
   "metadata": {},
   "outputs": [
    {
     "name": "stdout",
     "output_type": "stream",
     "text": [
      "[0. 1. 2.]\n"
     ]
    }
   ],
   "source": [
    "import numpy as np\n",
    "A = np.array( [ [1,0,1], [0,2,1], [1,1,1] ] )\n",
    "b = np.array( [2, 4, 3] )\n",
    "x = np.linalg.solve(A,b)\n",
    "print(x)"
   ]
  },
  {
   "cell_type": "markdown",
   "id": "32f9e429",
   "metadata": {
    "slideshow": {
     "slide_type": "fragment"
    }
   },
   "source": [
    "## Exemplo 2"
   ]
  },
  {
   "cell_type": "markdown",
   "id": "7b81e55f",
   "metadata": {
    "slideshow": {
     "slide_type": "fragment"
    }
   },
   "source": [
    "<img src=\"data:image/png;base64,iVBORw0KGgoAAAANSUhEUgAAAxUAAAGmCAYAAAAK3Kn4AAAAAXNSR0IArs4c6QAAAARnQU1BAACxjwv8YQUAAAAJcEhZcwAADsMAAA7DAcdvqGQAAPYcSURBVHhe7N0FgJR1/sfx9+R2F7uwsHR3gyACoihigqhg9+np+ffOzrO7W0yQlO7u7txdYHfZ7pyu//PMDrDAosCCh/p9eXPC88zME7N79/3MrzQeBUIIIYQQQghxlrS+fwshhBBCCCHEWZFQIYQQQgghhKgTCRVCCCGEEEKIOpFQIYQQQgghhKgTCRVCCCGEEEKIOpFQIYQQQgghhKgTCRVCCCGEEEKIOpFQIYQQQgghhKgTWfxOCCGEEOIPZjabvQ8pw8SfhcFgIDQ0FK229jYJCRVCCCGEEH8gp9PJL7/8wqRJk1BShW+rEBcu9We2abNmvPLKK4SHh/u2Hk9ChRBCCCHEH8hut/P222+zZuVSHnvoXjTKP0JcqNweN1u27mTJ6o38MmEC0dHRvj3Hk1AhhBBCCPEHUkPF+++/T+bBZD586yU0GgkV4sLldrtZtnIt7342lp/HjT9lqJCB2kIIIYQQ/wNarcbbP10e8vgzPH6PhAohhBBCCCFEnUioEEIIIYQQQtSJhAohhBBCCCFEnUioEEIIIYQQQtSJhAohhBBCCFGDG4fNWr1An9WO6zQnCnU57djsTmRa0b8nCRVCCCGEEKKax0lp5l6mj/+Bt979jPe+msSCTQcptbl+Myy4bSVsXTiJj35cSHqlxIq/IwkVQgghhBB/Kh7Oapkx5TW//So3ptw9fPPuJ8zLCWX4rbcyqlcE22aP55upK0nNq8RVyxvYK/JYPWs8b3w4hYO2AAKNvh2ny2Mn71Ay27bvZMu233hs38W2XftJTsuh1OSQxcgvMLL4nRBCCCHEH+jI4nfZaSl8+NbLp7n4nRtzaQ7b1m9gW1oxdqW61/mH07JLD/q2b0SIsfbviT2OKg7u3sb6XYexKhWfy6UhvH4L+vbuQEKIEW2NQ3tsxSz98V2emlzJE+8+yzXt4tBpHKSv+pHHP9hC875daNkwkcZJ9YkNC8BtrSQ38zDJ+7cyY/JCypoO54M3H6F3/YAzWiPcZS9m5ZTJLNydSc7hdJLT87F49ETVb0qbJnEEGXXe9/N43NgtVRSVmAhKaM4lgwYxuE8bovzkO/Lz6cjid29/8s1vLn6ne1Hh+7MQQgghhDjPXC4X69evp7KsmKGXXvL7ocLtID95LV9++CVTd1bRvGMn2jaORVuSyvSJ09heGUqbFoknBAsPtvI8lk/9ga/mJhPWpDXtmicSHehm/6o5TFl5iLBGzWgYqQQA3+HNeSn88s1X7AobwP3X9CIu2KBs1REYEUbZvhRCuvagWZCbwuxMUg+kkZFXil2jpfzADrYVRXHLow9ydfsYJYhUv9/p0mgMRNRLpE3bdrQMtbBiyRJ25DroOeKf/N/NA+nVrSPduiiPzh3p3L41jcKsrJ4xiZ/mbiDLFkrbNo0Jl2Bx3qjtD+kZmazduJXrrr+ewMBA357jyScghBBCCHHB8lB+eBOfvvEev2yzctnoO7l1+CUMvLg/1990Izf0iGT52E/5dmkyVc5jnU88jkq2LfyZV77bTFL/YdykvOaiHl3pd/FgRt90OWFpi3nnsynsKrH7XuGmvCSf5AN5hMXFEuTn59uuxAr/WFo2NOAJb0d/5bhXXHE5119zFSOuHkK/xnoOZpjoeu0t3NizIYYzDBQqjdZAeGwCTZo2pWPLJGJC/dAZ/KjXuBWtmjSicaOG1Y+kRrRs3ZZBV93MEw9cQXjRLn78/HO+XbCLcod0vPlfk1AhhBBCCHGhchSzbMJPjFudQUynSxnWK5FAg1q+adAH1WPAoH408c9h0g8z2VtirX6NEkQq8vYw9efZlNXrwICebYn013n3aHQGYpr25PoBiexfPoupy1Ixe+txF3Z7FZXKX/z8jWhrVIgajY7gQC0mkwud3o/gkFAiI8MJ9JSyaPocsqN6c/vwbsQG1L2sVFtt1H98f6n+9wl0/iG06H0Zg1oGY87dya9z15NTavPtFf8rEiqEEEIIIS5Q1qzdzF21gwK7nsSWrYjT1yy0NQQ1aECTmGAKdy5j/vYi3MpWj9tB7valzN9pokGTJiTE+B8p0720eiMNO7UhuiKTFSvXk1GhvkqLwRBIoJ+SY9RpYdVNR3g8mC1u/NQuRr43cjtM7F4xm+m7NQy/8UraxYccd4zzS4PRP4qG9YKVPznJzc6lymL7nUHo4nyTUCGEEEIIcUHyUJabS2ZBKS6tnpBQpXA/oXLXBAQRFuyHw5TP5k3JKLU/bqeFvRt2kOUyEBkVSYg6NKImjRZjZCyxRgupyfvIyq1SNmoJi4ijaVIUpQWFWOyO6ucqXPZC0osCaFjfN62Tx0VRymrG/bqRBgNHMqxrIgHVDSF/EA82cz4ZuZV4NH40SmpAcIDfSaFGHditrrdhMpmpUh5mJXg4XDXTkvIctwuHw4HNZsNqtWF3+qbOVa7RrmyzKNtsyr1wuWuJLErYcjmdOH7j4VTfr5aXup12LBaz99xMZgvWE9f3UM7d6T0vu3Je1mP71WuyK+dlUbbZHDhrO6/jKOfoUI5l/o1jnSMSKoQQQgghLkgeX0FZXeBra/ZJOkJrwN9PDw4reQcPkuPy4HYUknyoELtGR0BAAMYTq23l7zpDEMGBUKyEloriMu/GoLgG9OnXA33mPpILK/AO0fA4Kdi3hfTAFnSMrW7xsJWlMf3naRwM6cGdI3ufk25PZ8JtKWXXstks2m8msklPbr66Lw0ij40BUXmUYJWdso1p477j7fc+5vV3P+aNj8Yyft5G0kosVNfiHkwFaSyeMZFPP/mM/776AZ9PW09uRTlp+7Yzf+avfPv9T3z942RmrNpNXvnxrSG2ikI2Lp3NL5NnMm32QuYtXMaiJStYtHQFCxctZMqU6Uycs1oJhWpo81HuZ2XhYVbNn8YnH33Kq+98yOvvfcYnP85kfUoe5uqbjt2cy+rZ0/jyiy949Y13eeOH5WSXVZB3aC9L5s3ihx/HKec1iV8Xbya9xOq7nuN5XA7K89NYuXCW8j5f8ub7n/DmB1/yxbjZrNyVQZnV5XvmuSGhQgghhBDigqQU+sFK8R+gFMwej/cb9ZO+Yna7cSpBwuN0UFGYS4FZ/Ra8lPwipdBUyjy9Xs/JjQgaNBo9Rr0GV2UFLoupeqtfDP2vvIFhTSuZO3cVO1IzSNmxmqnLsmjZpzOJQQZwVrFt7kRmpAYyfPQIuviCxjmnXK9TbWVQv2H3PSrLS8lKS2bB1B/5YPxG/NtfylPPP86tA1oRXKNbmMdZyc5FE3jhubeZdtCPQSNu5fGH7+DqDv4s/f49nv9oBvuKq4OFrbKEw+kH2bZmAd+MncCsFZtZuXwxM5btxRXbgn7KdYcVb+KtZ5/njQnrKLIf+QA8lOfsZ+y7b/DhL4vZmpJJXkkFlWYLpqoydi2dxPNPvcjzX8zmQKHyoXhf4qTs8Ha+euNlXp+0k9COQ3jk0Yd58Ia+GA7N57nnP2L6liysyonZLeVkHjzAtvUr+PGHn/l5/hZ2bV7GhDnrKfVrQK/enYl3HeLLl5/l6S8XcbjCftyPhsftJHfvKj547W2+X5VHs/7X8K9H/8Ejtw0lyZXMt+++xxczN5Fb5fS9ou4kVAghhBBCXJA0RDRMomWDWAweF1VVJu+YiZrcSlGcV1yBTQkXDptJKb7deFxmqszVXVy03oHPtdDo0Gk1eOxWdeGMIxsJa9abBx65i+6B+axasYJ5qw8Q3W0gl3VMwKh1kr93Bd9M30dLJXxc370e3lpeKZZLslLZtGk7+zJLsJ94kmfBZTexf8NCfpk8vfoxaRrjJkziq88/4bWvF2Jq0IeHH/8X91/dlbig6nUsqrnJ3jKHN979ju26jjzy0M30axVPREQsXQZfz13DWrF7xtd8tWA/JoeHqOY9uO+xp3ntP9fQ2OgiZ+82thcHMuSG67jm4q507NCVG8ZcTTtDPrMnTmXN4WOzZdntFvT1OvPwE0/z0v/dx72jr+fGa69kcNtwclLTKQtI5LqbR9CxeYzyfA+W4nQmf/4+n62o4rJbb+eOIR2ICwsmoWV3brljFA0Ll/Ph17+yJ99BcHQbxjz+FO8+fgtd6vtRlruX9TtK6DV8JCMv70WnDl246trrGNzcwYJfprI6o6S6ZUmlBLKqzE189d4nzC9I4LZ7RzO0W2MilIAaVb8lV42+m9t7+zHx/ff5esEeys9RrpBQIYQQQghxgdLHtGLYpT1JDHJxODmFwhrTxqrFfG7qYdILilFLXXUMgZIt1IUwcCmFZfUza29H8K6Noe5yKSHkuE7/euJb9ebWO25WitcBXDviBq7r347IAB2WgoPMnDCD4sT+jL68M+EGDS5zISunjOX1L2awZsd25k78mZ8X7qT06Df6Z0erMxLXqCXdu3aiexfl0bUzvftcxLU33ckrzz3IgKhCJn75MR9NWkt25bGq2F2VzsyJ01mV7qDzoCvoXM/ft0e5XEMIHTp3o2V4JYtnrSLT7AsIGi1+EWGEauzkm7S0atmO5rFBR++cPiyeRtFGqsqyyMiurL6v6pgLh5N6zbvSrV0Cft7mIA+2ohQmjP2O6bvM9LrmVh4Y3pkoP+WdXFYObVvED1M3Eti+P4PaJSohzXcEJeCF12vD5b3qkbp+DWv3ZWHzHkRDcGAQgf56HCVF0LwfXRuFHm15MgYGE58Qi67oMKl5VTh9Yc7tLGfNrz/z04YiOvQfRPeksONaq3R+EXS69Ao66lMZ99NkNqZV+H5W6kZChRBCCCHEhUoXQverb+bOS1tTvnsR01YdotziwOW0U5adwprkbPwD1cHYGvR6P/zUAlanRedroXArQaO2gtGjpA+32v9HKWxPWnxP+bsxMIyExIY0jAvHX6/BbS9n69IZTE8J5PqRQ2kbFwBOE7sWT+SDyXtpPvAKbhl5HTdd2ZmK7StZuT+/Ti0WGr2RGCVUdGzXho7tjzza0rlzZ/oPGMxNo66gQdkm3nn+OZ79cj7p5Q7lOj1UHtrLyq0pmLSRJCkFuLm8nLKyI48K3AFBRIUEUpG6lxQljBy9N9775SE0LoFGcbHHr7ehMeJn1OJ2Ob2Duatf40FrDKB+wySigqvLaZeliFXTx/H1jJ1E97yOR+++gqSw6lHyTksl+1YvZ3uRnsSGMejd1hrnVU6l8pmGJyjhpDCb5OwCTEfunfe8tBiNcbRq72sZOkL5nA0GA1qPDZPl2IBwR8ke5izcRpkulCZNkgg6sdpXQlRAeBIdGgeQsX0Tq3anUXUOWpckVAghhBBCXLDUAdRtufPx/+Oei6LYPHsS42cuZsGiJUxbsBF7TGNaNIpUsoGe4IhYYoOVIlQXQKC/Fo1SZbqV8FBbqFBKYLWRAgxGlDRSvelUPC7y967iF6VYbnnFDQzpXB91dllz3gFmTJlNcXxnLu7QlJjQUBJa9eaqrv5s2ZhKpe3c9devSaP3J7F1T0Zd34fgkhSmjB3L1M1Z2Fwu8nJyyC4s886clLNvDbPnLWLW/GOPOetS8UQk0rZ5PYwnlcFa72rR/v4n3A9fIV/dEuSrvpWg0bBtX0ZddxGxOvUW2Tiwfj4ffzOTguiePPjgKC5KCjt6BJu1itTkQ1g8Wiz5KSxfuvi485q9eBW7S/1p3bYJMUF+aI4r8pXA6B9CeNAJ4U89MXWT+jnXmNXKmp7CzpwKNAY/QkLVaXdPptP5ERkRjLs8m90H8qi01v5TciYkVAghhBBCXMjU7jENO3PPE8/w9G2X0MDPToVNR/Meg7j24hboHXbcSqFdr1kLEo1qqAgnOsJPKfKqp0s9ubRXw4Ydm92NNkgpOv0DfNtr5yg7wK8/TSU98iJuG96TWDVReBzkZe9j7eZiElskEh7sm25WCTf1O7bFmJFKju3YtLTnmsYYRGK7rrSM0mDO38P81alY7C6cTuV6nW70xnAat2pB+3atad+2xqNLP+59/Cne++89XBQfcELBrRbpvkL9d2nQKoV5cLA/OqWor8jYyPdfjmVlcSyj7rmTa7omKsHLjc1swmGzK3W/C4tVuR8aP6ITk2h74nm178jAq+/g/Y9f4J5LWhF6Ys7ztlic1onhMlswO13e1+i0Srj0ba9J3abTqmnIjslkQ316XUmoEEIIIYS4kHnXLHCiMQTTrGMvrrrmakZdM4SL2iuFa1khmUXlaILj6dqjLWpPHK0hhhZNojG4nZiqTL7++TUof3dZyyk3eQiPjSMoPNy342QeRzlrZ05mbmY0I++4lnbRvkUv3A4qijPIKjESERGIoUZ/IW1wHDGeUrKtp2olOQc0WrRaf4zKcdWC3VRlxu3REBYWRmiQvxKsNITXb+ntMtXppEcbWjWpR8hxfYnOlgdb+UGmfP014zZW0fvaMdx1VRei1IU73FXsXLOMlB1p6JXQFxcbrhTeSuAJqUer1m1qOa+2dGjdhHrhASinf9YMEeFE+ulxKwHrWHet47mVe2ZW9qENJEr9/H6nsep0SKgQQgghhLhgeajK2c+8GTOZt/EAlTUHauMi/9AhDuSUE9dhAEO7x3kLO50uiDZd2hGjc1JSXELlkQmLjlBCijU3j3y7H0nNWhAfH+rbcQIlOOTtWMpP8w7Q/uqRXNUh9tiAX7UrkN2O06NVjqf1fsF/hAY9eo0Tu+u8RQo8LitFWSmkF7nRGSNo3bIB/gYDsU2a0b5pPBpbPgcOlJ5i/QYTB3fsI9tS95YUt62cdVN/5PMZO4joMpR/3jOcFhHVC/F57FVkpGdQUOHCLyCY9t07E2+sIj0tl0pTLU0DHifFmenK51l0chA8A8ZGbejZNBqP1UR+Xn6tLVUOWwmHs0vRxzSmi3LvwtSxOHUkoUIIIYQQ4oJlZ/P0b/j3U8/z5Bs/sKnwWN95pymftatXk+5oyA03D6NjVPUCcBqdngbdBzG4uZGs9DRyC63HfVvtcdnJ2J1MUWA9+vTtQePI2r6m9mAuSmHS+FlUNBnI6EvbEV5zFT3lGAFhUYT7qd1n7OqEU0d5HGWUu4KUQrXmVK+nRx1sfPRcT1lYuylL38mcXxeSajXQqNulXNcvyTug3Bjflquv6EejgCo2LV9DRtWJxbuHsoPrmDR3K3nmmietDvP2HfDE43rPqXrjcbuUYJOxcTYffj+X3NBO3PnA7VzSNMzXyqBOIVtASloe5cYANP6htO5/JVd2jebwxrVsySjCcdy4CfXzzGPl/PlsSC7GceRANc/r+KN791VvOvYMlSGkJcOvH0iSoYodO3aQeeI9UMJLwf61rDvkoePFAxnQoRHnYv1CCRVCCCGEEBcwvTqbU3A92rZtTr3A6jLd7TCzd+VcflqUTreRd3HbwBYEHunOo9ERltCJW8YMIThrE/PX7afi6FRMHirSNzBp6QHqdxvIiEs7ElZzvlEfl62CzQtnMv9wBCNuGEKLmMDjA4LGSGx8a9o1heysUizWY+9vykwlPzyRpIDT7VPj8XbVsVSVkZGVTUml1fv34vwciqus2B0O79gQu81GRVEOW5bN4O033uOLJdkk9hjKfx67jf6NI6uLeW0IPYaP5qHru1KydjJfzthEwZHwoC4+l7mTKWqrQvdutAn3UwKWE1N5CVkHsihWjlFZUkBWthIElKCkDsp2WKsozE4nq9iKzWKmIDeHogqLEgiclGRs45vPv2dVThjX3XMPY/oneQewK29KZcEhFsz8lTk7CnH7q9Pa6ohu0ov7H7qdrrp9fPvdr2zNLD8aBpyWYjYuWc5uSxQd2zQiUOPCUllKelau937YTYWkZxRQqtwPl9ujfD5mivLyyMovxeq2kJ+VR1FZFXanG63en3aX3cL/jehE4bpZ/Dx/J6W2I8HCRXHqer7/bh5lSlh8+K5raX/S2JKzo/EcPzmxEEIIIYQ4j+x2O++//z7ZaSl8+NbLnDSl63E8lB1ax8cfjCMjshPDLm5LmLuKg7s3s2LjIcK7DefB0YNpGR2ozg5bgwdr2WHm/TyWcRsr6TH0aq7q0wxNwT5+/WUSG81Nuf2+W7miUzw1GyC8PA6yt87i5benEXrFIzwzquvxrRQ+LlMuv376Ch9siuHl1/7JgGbhyrY8Fvw8mfTGQ7h7cGvUoQW/x2XPZ85XXzF5Yxq5OZkkp+Vgcum9U8q2ahCOn973Hbg6tsRupapCKZ6NkXTsczHXDhtE9+b1CDLU+J5ceV5l/gEWzZzOjNWpGBJa0lHtHmUvIT2nkoSOA7hmSBfqB+sp2LOSz78Zz4bkwyQfKsQTHEnjRok0aT+Ih2/rTtq8n/hh2X7SDmZSbNdSr0ESSYktufbukdQ/MImHXp5EYUBDLurTiYZKSMHtwlRZTlFhPmkHDlCRcAkfv/kMl7etHrfispSxZ/0Sfpm2lDRHOG3ataZhiIs8JTzYghoy5KqhdGschrVoO1+/9QNL96dx6HAeZk8gic2bkNSyB/fedhX2NT/y3eI9HEhLJ7fcSXj9xjRv0oSB14zmzstb46+EB3NJBsvmzGHOugNoY5vQpkks2so8du4+gC2yLdfecBUDOyYS+DufkRqulq1cy9uffMPP48YTHR3t23M8CRVCCCGEEH+gMwsVao1spzjrIJs2bmHngVwq7BrC4hrSqWsXurZqSESQ8YRA4aOUeDZzCQd2bWfDjhRyyyx4DMFKcdqWnl3a0jQh/Pj1GHyclsP89MrrzHf04IWnRtM6wlD7N9lK8V6evpHPP51AQf1+3Di4BSU71rClKp7rrx9C65jfnlXqCI8SYsry8yk2ncYYB+VeabU6DP4BhISEEBroV/u1K6HKaTVRmJ9LWkY2RRV2AsKjaJCYSP24SEL89d5rclgqKSgqwepU31rd4vH2KtIq9yk+PgxLcT4lJmf19av7lZ0ejYGI2GgC7aVkl5iV7Tpva5L3Scpr3UqwcKlTzyp/1vkHExsTRZDxWOjxOG2UlxSTlXmYjLwy3PpA4hok0iA+jtiIQO9aFG6nmfysAiVMaGqcl0c5r0ClqA/HU1lEQaXDe0re/d7z0hISEU10WICvK5IHh3IPSooKOJyRRb76+fuFkFA/gfrxscSEBZ7WgHAJFUIIIYQQF6AzDRXV1C5CThwut3fwsVarRa/Xo6u9oj6OutCdU3mtt9BVKl+t8jqDTuctSGvjMGexbPZGdJ0Gcknz8FMU7T5KsKjKO8CqdVtJyS7HP741A/t3oUlMcJ1mMDqXPN4iX7lpStHtnWL1Ajkv9d651BXN1c9ECSXa83hix+6BGsrO7FinGypqtBUJIYQQQogLkxoGDPj5+RHg74ef0XBagUKlUYpIg9GIv7+/8vDDqD91oFAZAhswZOR1DGrxO4FCpRTqwfEtGHrdKB55+D7uu6E/zWMvnECh0mh13gCmtiZcMIFCpYYc9byUz+N8BgrVsXtw/o4loUIIIYQQQghRJxIqhBBCCCGEEHUiYyqEEH8L6v/UpaWlUV5e7v2zEOea2i9e7WucmJjo2yJE7c5uTIUQ/xsyUFsIIWqwWq089dRTrFq1ClfNVZqEOEfUvu7XX389//73v31bhKidhArxZyKhQgghajCZTNx8883MmTPHW/wZDAbfHiHqrrKyEqPRyL333suHH37o2ypE7SRUiD8TCRVCCFHDkVCxcOFC7rvvPkaPHu3bI0Tdvfjiiyxfvpy77rpLQoX4XRIqxJ+JhAohhKjhSKhYunQpL7zwAg899JBvjxB19+CDDzJlyhTuuOMOCRXid0moEH8msk6FEEKcgvp/4PKQx7l+CCHE35mECiGEEEIIUYMbh9XibeE1Wey4TqtTiweXw47V7kT6wPw9SagQQgghhBDVPE5KDu/m13E/8NZ7n/H+1xOZt/EAJVaXEhtOzW0tZfP8CXz4/ULSqyRV/B1JqBBCCCGE+NM5i8Ld4/mdV7mpytnF1+9+yoL8cK65/XZu7hPNrjm/8PWU5aTkVuCq5Q3sFbmsnPkzb3z8K+nOQAKNvh1nwGkp5XBaOqkH087qcTA9l3LbGU4X7rRSkL6fNWvWsnjJMuYtW8++HNPZ3FmhkIHaQoi/hZoDtdWZemSgtjiX1IHakydPloHa4rTUdaC2y5TP2qXLyQrswLUDW+P/Gy/32Cs5sGsr63ZmYFEqPpdLQ1j9lvTr25EGoX5oa7zWYytiyQ/v8PQUM0++9yxXt41Fp3GQsfpn/v3+Jpr26UyzxAY0SapPbHgAbksluYcz2L9/GzOnLqay+dV88OYj9Erw54yuyO0kb+MEnvxgPllmN0EhYUSEhxIS5I9BY6cwO4f8CiturZGImDgSooLRuuxUVVVRVlZGuclOQGRL7njq/7i6ZehpH9tjKWbd/Kn8NGsFqzfspsCvEf98+UOeGtZYvnWvQQZqCyGEEEL8FXgcVJQUknFgH6sWTuPVZ5/moec/5NuF+7xBoXYebOU5LPrlS978cTlVoYl06NiBTi3iKNgwhRdf/4rlqSW4j77eg7kgi1XL12JNaEWrmFAlUKjbDcR36M/AllEktmlNsxgjRen7Wbt6HWu3pVJk1+IsLcAU2o5b7xlFt/gzDBQqj5uyQ3tYvTuL4Jb9uOOu27j/zlu4c8yN3Db6Ri5r4UfytvWs25tLvS5DuX30SG4fcxP33nUrD95xPX3qe9i3bSP7cu3qZZw2jV8Y7foP59F/Pciw1qE4HQ5cbt9OccYkVAghhBBCXMCspXv57q03+PfLnzB+ZSo5OdlkFVfgdLtPWUN77BVsnf8jr/6wjWYDhnPjlf3p3bUTvftdwi03DyUyYxnvfjqZHcVKIV79CspL80k5mE9YXCyBfsf6MOn8Y2mZaMAd1oa+F/XjiiuGMuK64Yy8Zgh9G2lISTPR7bpbGNEjEcMZJwrlyB4X5ZUOmvW7gef+fRtXXdKLXl070Ll9Gzq2b0+HpvUIMOgwBATTtJUSjNop2zu0p3u3bgwYfCUPP/4Aw9uHY66wnUmmUKpgPaFR9Wjaoh2t6of4QpQ4WxIqhBBCCCEuYH7hrbnjief5+rO3effZexnasQGBv1kBe6jI38PUcXMpj+9A/+6tifTXefdotAaim/Tg+ksakrxyNr8uS8HsrcRd2O1VVCp/8VMChbZGhajR6AgK1GIyudDpjQQFhxAeHkaAu5iF0+eQF9uH267qQoz/2ZWVaqiosGlo3as/7WMCTyruj+sdduI+JRiEN+jM4G71sZoqOZuGBrX7mU4SRZ1JqBBCCCGEuIBptEZCI8IICw4k0N8Pg14p336jBva4HeRsW8r8XWYSGzcmIfb4LklanZHEjm2Irshk5ar1ZFSopbgWg0F9f3XMh1PtkXSMx4PZ4lbCxrHjuu0mdi2bzfQ9eq4eeSXt6oWcebcnHzVUmCw6kpomYPBtOxNanT+NmyTgqKo6s5YKcU5JqBBCCCGE+AtxOy3s3biTbJeBiKhIQvS+HUdotBgjY4g1Wkndv5+s3Cplo5bwiDiaNYqmNL8As91R/VyFy15IWlEgDev7ukR5nBSmrGLctE00HDyCK7s2wNcQclY8bit2TRQJccr7n0Uy0Wi1BNWLJ9hhQYlD3m0upx2L2UxVlYkqkxmLzVFj/Mjp8bhdOOx2bDYbFosVmxq2fPuUvcoxHN59VqtV2W/DeYpmErfL8Tvn4vGO5zjyXmaro/o4SphzOpTrsFiwWO04lAP89iV4lM++tmOd4YWfJQkVQgghhBB/IW5HISkHC5RCXUdAQADGEwt15e86QxAhgVCcl0NFcal3Y2BcIn369cSYtY/kgnKcai3qcZC/dzMZQS3o5GvxsJWmMe2naRwK68VdN/Q6625PR+j8Ihly++0MaXyWrR1aPfEdr+DBGzrjpwSesvw0Vs2fyZdffMlbH3zGWx9+xRc/T2fp9jRKzL6C/Xe5KC9IZd6kX/jo40946bV3ef+n5eR4bwo4bZXsWD6Lr7/6mtffeIeX3v6OlRkntJR43FgrCti6Yh5fff4Fr7/7sfL4hHe/nMD8zQcotVZPget2lrJt6Vy+Vd7rtdff5vlPprMvr4yirFRWL5nHzz+N55sfxzNuxgp2Z5Vjry28KMcyl2SzedUCxn79Ne98qF73F3w0dgrzNuwjr9J+xqHqTEmoEEIIIYT4C3E7S8gvtuFWyjy9Xs/JjQgaNBoDBr0GV2UFLou5eqtfNP2GXc9VzU3MnbOCbclp7N+6iinLc2jVpxMNggxKNV3JljkTmHkomGvG3HA0aNSFei7hsTGEKedzdjRKMAkjIcpAYfJaPnr9HcauzKXJRVfzr389zGN3DKOlMY+fPlCCwaTVZFXYfz9YKEW63VxOVnoaW5bP5euxvzBl6R5KvQW9B6fdQlF2Osm7NjJp/HjGTlrEXnXQ+9E3dmMqOsivn73JM58twJLQnXsf+geP3301Ldy7ef/lN/lm4R7KlZDidlgozM0mec9Wpk/8mW9nrGHbhmVMm7WUg5YIuvXtRdtYF/O+eJVHXhvHtuyqE8aOeCg/vJUfPn6ftyduI6zjpTz40AM8ft9I+sRVMuurj3jjm7mkFFp+/7rrQEKFEEIIIcRfiMdlocpc3VVHq1ECRPXm42m06LQaPHabOojiyEbCmvbi/n/eTZ/wUtatWsXCDenE9xjEZR3rY9Q6yduzgm9nJtNm2Aiu6xqHmgM8HgfFh1NYv2ErezKKsZ2iG9D55aYsezdfv/Mec/LjufXu0Qzr3oSIIH/C45tx2cgx3D04msVfvMvHs3ZQ+nsnqQSd2CY9efDZZ3nlzkHEB2txOo+sKq7BPySOIbc9xrvP3cugVtFK2HId1xKgLua3aspXvDJuJ62vuIl7ru1Do6gQIhJaMnzMbVwSmcW3n33H0pRKdAH1ueL2B3j9mYcZ3iESe9khlq/Lol7fa7j1mv50btuW/oOv4qZ+0WybN5O5Ww5hrnH6ztIUxn38Ed+sqmLYPfdw48VtiA0LJjSqAf2uGcMjI9qwWzmXd8avItd6/j4cCRVCCCGEEH8lLheuo6tn1/7tv3fBPXWXy62EgpqFpp56LXty862jGHHFQK674Xqu6deGCH8t5vwDzJgwndKGF3PLZZ0IN2hwmgtYMelbXvtyBut37WLepJ/5cd52Su3n8zvxk7ltFexYPIXvlhTQ4ZL+dEwKP25hP51fKB37XkbvmEImfDeJteml1d27fpee8LAQ/AwnDkypZggMJCTA7/jWII+LkgMr+eHHBZTHtWVQz/bK/Tv2DGNYYy7t1xJz+nYWrd5Dpfc8NBiN/t7B+K7ifFyNu9GvddzRKXp1Rj/iGjUgqLKQtJwiTA7fyXus7F48jR8W7yO84yCGdjj2Gi9tAE17D+HiRnYWTvyJ6ZuV9/btOtckVAghhBBC/JXodOh8LRRuJTDUVjt73G7c6lfrSuWt0ZxQDiqvNQaEEl+/AQ1iw/DTaXDby9m6dAYzU0O4YeTltIkNwOM0sWvhBD6cup9Wlw5j9I3XcctVXTHvWs2K/fm19/0/LzyYy7NZPn85WfoYWjWKIfikBTO0BIfH0LRxLBV7VzN/Sw7W00sVyi36jXJZOcyJK6J7XA7S169gVbqNmLg4gv1clJeVUep7lFeY8IuJI8RSSdqhdI4sFaJ+YupbaTXRtGwbT0CNa1CPofczKhFHHbjtVD676u0ecyZLl20goxwatmpFRC1dyHSB9WnXLJKq7P2sWLWVQqdvxzkmoUIIIYQQ4i9Eo/Mn0F+LxuNRis9TzRjkql492mAEfe3fwh/lcXm7PY2fsZNWV47g0k718dMqhXzeAWZMnUNJQhf6t2tKdEgI8S17cVU3f7ZuTKXSdp6q15O4sVQeZMfeElz+gYQF+Ne6CJ/GaCQ4NASdvYiduzOwOU/3O/ta3uw3uN02DiQfosLhxlGex+Y1S5g9b/Gxx/ylrEmz06RVc5JiQ9CeMIJaYwwiLEhf+1GPfKa+l7jys9mfkYfZoyMsPLzWwl5dyyMiPASNrYJDBw6SV35+0p6ECiGEEEKIvxCNLoKYSD+lyFOnRHVwcmmvFqY2bHY3umClqPUP8G2vnaM0hak/TiMzpj+3X9WdGHW9Co+DvKx9rN1SQmLzBoQH+1aY0OhJ6NgWY0YK2bZj09KeV2qh7TBRZXF7v9HXqq0vvl3HUTZq1H3quhhVpvM21aranax6+lk9oTH1adOhLR3b13h0aE/fwSN59b2XeOKWfsT7n3C26nnWegHVap62y27DrNxnl/IirU4Jkr7tJ9Jp1H0urFaLcm7n57olVAghhBBC/IVoDdG0aBKDwe3EZDJhO7GGVP7uspZTbvIQFhtHUES4b8fJPI4y1syYzPycGG684xraRPvCg9tORXEG2SVGIiICMdRoGtAG1SPWU0aO9VStJOeY2jXIP4qoMD0eux2zUtDX1gbhcbqwW204leATFROBvuay4b9BLfBPVax71EBzQjhRVy2vVy8Kg075s38ojZq2pkO7kx/t2zSnYUzoyVP+ngF9cDCRQf7o3EpgMJ9idicl5JgsVtwaI2EhYQQGnJ/yX0KFEEIIIcRfiE4XRJsu7YjVOSkpLqbyyORORyhFpiU3j3y7H42btSC+XqhvxwncDnK3L+HH+YfoeM1IhrWPPTYg2ds6YMfp0SrH0x73zbpGeZZO48Tu+kMihUJLYEhTenRJwFhVwuHicnxLQBzHbqoiN7cQV3ASvbskEaBW/adBo9crAaS69ePEK3Ipoa3cbD0uxOi0Rlp070aTEA/5OdkUFFlrKfY9mIpz2ZecTmUdeiPpYhvRpXUSwVrls8rMxlpL64vHVUF6ZhGegEhaK2GmfkgdUsxvkFAhhBBCCPEn4lH74Ku1o+9fJ1KL4AbdBzG4hR+ZaWnkFBxf1HpcNjJ2JVMUVI8+fXuSFFnbmAoP5sJkJo6fjanZYEYPbkdYzYEKOj2BYdGE+9kxmezqhFNHqa0bZa4gwv11p/yG/0zUUiefQENAWD0uveYquoSVsWnDPnJPXItCCUg5aXvYsK+U5gOuYFinePxqZIqjx6jlYLrQEOXa9XiczupxKEd4lEL+8GEy88uUcKW2WPi26wzU63QpNw5oQuWBnazffQjzCYPC3Y5K9qxbwLwNWRyZ5VVt9VAf3j97//t4R/Ydx5jAoGFD6NbAn7TtG9hVdFKCpCJtE6v2llKvTS+uGtSZiNPLUmdMQoUQQgghxAXNg8tpx2quoij7IPsyirHY7JRkp7HvcCEVZis2R/W6FNV0hMZ35JZbLyM0ezPz1+2l/OhUTB7K0zYwadlBGnQbzIhL2xNeS5HpspWzaeEMFmZFMWLEYJpFBxwfEDRGYuJb0b6ZhqzMEixH1z/wYMpIoSC8IY38f2cA+Kl41LEgdiwm5Xpz0tmZnI3J5sJWVcqB/fs4XFBGldmGXbnmo4W8PpAW/Ufw2D2XYN40ix9nb6FAXavDW6i7KU3fwuSJ08mJHcCj915D27hgNMp2h9VEYc4h0vJNWJXj5WQdJqekEnuN9GBs0IaeTcOwludwONeivJ+yUTnH8pxkVu4+gFMbhNZewsGUDAqrrN7gERTZlFv+8QDXNbMy/adxzN+Vh807fa8SPpwm9q9eyPLdZjpd1JEovRubqZzsnByyiipx20rIOJRDQWmVt7XH7bBSUpDP4cwCqtx2ivJyySss83bzUkv5hG5XKNc9jMi8VXwzfjkZZUqg8l13Vf5+Jnw3lf3Gdtx+7x0MbBl6ToJebXQvKnx/FkKIvyyHw8HUqVNJS0tjwIAB9OjRw7dHiLqbM2cOe/fupXPnzgwdOtS3VYjauVwu1q9fT2VZMUMvvcQ7uPi3OK05zPjsI94ZO5Vf5y5lw/48HDoDHlM+u7ZsZMH8xSzfUUajTi2IC6ge86DV+xGb1JR4TT7Llm0k1x5AZLCeotSN/PjdJJIDu/PQw7cxoFk4uhMP73GQs20en/6wloZX3c1tA5sTdNKTtPgF+OMsP8jKrWW079mRhpHK36tyWTp3A7TqQb8WcRjO4utr8/6lvPrO53w7aTYz5y1m5c50TB4/gowaijNTWLtmJbPnLGTZ9kzCmncmKUxNReqq2sE0atmWFlFOdq5ZzrLN+0k/nMHWNUuYOH0FeUHteeCRe7iycyJByomp92/Z5K945bOpbDxUikujBK7sVNat24erQUta1gtFr5y/ulp3/Tg/svduY/2ONArLikjdsYkVmw4Q0LQFwcUZ7DqQRVrqXtbuyCCkQROaJEQQFtOIju0aoy3cz8JFK9muPOfwwf0sX7SYjVlaOl86jEvaxKCxpjHxg0/4aOIitmdVoDN4KDy0n43bD+CJaYJ713Te/ORH5m9W7oNGr9zzXHZs2UpqVShdOzQkwBhIQtOWtE7wJ33LCuav2cmBw5ns2rSaqb/OZZ+rGbfddyc3D2xN6FmsWq4GlPSMTNZu3Mp1119PYGCgb8/xNMoTa2thEUKIvxR1sOLNN9/M0qVLUb9Leeihh3x7hKi7Bx98kMmTJ3PHHXfw4Ycf+rYKUTu73c77779PdloKH7718u+GCo/bQXlhIaVWl2/sQvV6BmrThHeJO+U/Gn0QcQmRHD+RkAe7uYyDu7ezfnsyOaVmPMYQklq2o0fnNjSpF+ZdEftETsthfvzv6yx09+KFJ2+mVbjhFN9uu6nI2Mznn/xCXnxfRg5qTvGOtWy31GfEdZfSMua3Z5U6Fbe1ktyicu+39Mddr6rmNeuMRMXGEnzcSGcPLpuFkuJCMpXCOqfEhMYYTL0GDZRgEE1UWKASdHzP97ioLC2ipNKORzlA9T1V312dtSmGyIBjLS1up5WSvBwlpGSRX27DEBRBg4aJJMYZSN+uFPGFdoLCw4mKiSWpYQKRQcbqe6YOlq8sJz8nk0OZRVjceqLiG9AwIY646BDv1Lcet53SgiIqbC7loo6M3fBeIGGRMfi7KigqM3tneDp2jhr0gRHERwcdHefidtooV64nWznH7MJyJXgGEhsfT4P4WKLDgzGeFAxPjzqF7bKVa3n7k2/4edx4oqOjfXuOJ6FCCPG3IKFCnE8SKsSZONNQUVdqNxiXdzyAWvKpU4/q0etPPf2ow5zFinmb0Xe4hP7Nwo5bmfokShlZVXCQteu2kpxdjn98Kwb260Jjpdj9zdf9AbwL/HkLcNBqdefkfGq+p055T/WjO7JN/RyPPE6i7FeLc/Uj0Gq13mlvzxf181YXNqy+buVYdfz5Ot1QIWMqhBBCCCHOAfV72iOP33c6zzk31BWz9QYjfn5+ysOI4TcChcoQ2IDB11/DgOa/EyhUSsEaHNeMIdeM5OF/3MM91/Wjacz/PlCoNEpBrdPp0CuPc3U+Nd/zSK1+ZJtawJ8yICrbterr9Orzzu/NUT/vY9f9x30QEiqEEEIIIepIbQ394Ycf+Pe//80XX3zhHcM1d+5cFi9ezKpVq9iwYQPbtm1j69atbNy4kfLyij8wVghx/kmoEEIIIYSoI71ej9Pp5Ouvv+bpp5/mgQce8HaHGz16NDfeeCPXXXcdI0aM4LXXXqOsrMzbavDHfYcsxPknoUIIIYQQoo7UkNCxY0diY2O9oaGwsJCCggLy8/PJzc2lqqqKfv36ecd0DRw4EH/l+UL8lUioEEIIIYQ4S+r4CXUga2ZmJjt37vT2ZT9RQkIC//nPf3j99ddp166dt1XjaId8If4iJFQIIYQQQpwBdZ0Js9nsbYGYN28eTz75pLe708yZM0lMTMTf39/7PDU8dOjQgTfffJN//vOf1KtXz7tdiL8iCRVCCCGEEL9DbZGorKwkPT2dRYsW8eqrr3Lffffx6aefelsn/vGPf/Dxxx97B2o3btzYGyguueQS7zZ1LEVISIjvnYT4a5J1KoQQfwuyToU4n2Sdir8ui8VCRkYGycnJbNmyhT179nhbKlq0aEGfPn28q/NHRUV5Q4QaLtTxFPfcc493DMVLL71E165dT+oSpa5T8e6777Jp3WoeffAu6QolLmjqOhxrN2xm0Yr1TFL+d04WvxNC/K1JqBDnk4SKvw61LFLHSKhBQp36VX2kpaVhMBi8QUINCeqA7IYNG1aPjajFggULiIuL83Z9UtcuOJHD4eDHH3/kl1/GEx0Z6dsqxIVJXUavtLSMBomJvPfe+4SHh/v2HE9ChRDib0FChTifJFT8ualTwdpsNqVwKmXz5s2sWLHC2zIREBDgDRC9evWiadOm3gHX6rbfo4YGNXCcaiE0tfRSZ4cqKirybRHiwqeOFWrUqFGtkxGoJFQIIf4WJFSI80lCxZ+PWv5UVFR4C3u1S9Pq1avZu3evt2Whc+fO9O/fn1atWhEWFkZgYGCtLQ5CiGPkN0QIIYQQfxvqFwxqiFBXvH7jjTe8A6u///57b/cmNRweWbxOHWRdv359goODJVAIcRrkt0QIIYQQf1lqi4TavSklJYWffvrJO/3rM8884w0VaneOO++8kw8++ICXX36ZK664wjsWQl3IToKEEGdGfmOEEEII8Zeihgh19iV1sLXaLe3RRx/1rhMxa9Ysb+vDI4884l2I7oknnmDYsGHeQden6icuhDg9EiqEEEII8aenztikDrROTU1lxowZPP/8894F6X755RfvonNqlya1ReLhhx/m4osvJikp6egidUKIupNQIYQQQog/LXVBuh07djBx4kTvgnTqGIkJEyYQGhrKv/71L+8Yif/85z9cdNFF3tmbgoKCpGuTEOeB/FYJIYQQ4k9DHSOhTtmqDrYeO3asN0S88MILzJ49m8jISG/rhDoDl9pScemll3oX6jIajRIkhDjP5DdMCCGEEBc0NUSoLRKHDh1i3Lhx3imhH3vsMRYvXuxdkO7//u//vDM5Pf7441x22WXeFgkJEb/Hg9Nu9c6G9bsPsxmL1YbT9edZhcDjcSsP31+81Ou1UFVZQUV5OWVl5ZjtLt++8+HE45Vhtp3P4/3vyToVQoi/BfX/GGWdCnG+yDoV5546RkItxAoKCti+fTtr1qzxjpdQp3jt0aMH/fr1o3Hjxt5uTuqCdKdaaE6cgtNM2pa5TJi1lTKrSbnXldiV0KAzBBAaptxTo857T9UyUaMzEBgcQcNWnejSoQWNEmIJVPf73upC46jMJyUlDYtfLM2aJRHurwRMh4nUtVP5esJSUtIyKLDouej213n19m4YzseFKPf34PrpfDN+EfuV4+WbtPQc/V/euqeXcry/5s+qxHghhBBCXBDUAra8vJytW7d6WyTUaV7VGZqmTZvmHWytTgerjpFQZ3Pq2bOnd5u6MJ0EirOg1RMe35yuPbvTrmk4h9fPY8L4SSzbU0hMy6706t2H3r1709u7Px5PSTJTPnqW+//xBJ8ohXlGqRX3/+BrabetiuKyKhynajXxWNk+7T3uHHkNN9z1JNO3FeB9ptZAZGJr+l7UjRh3Ecl79nG42Op9yXmh3N+IBi3pfVF34igmea9yvCJL9bn8RUmoEEIIIcT/jBokbDabd7D1V1995e3C9NJLL7Fo0SJvNyZ1KtiPPvqIp556igEDBhARESFjJM4FrZGIhh0ZctW1jLr1Nga2jkLjMZDQ5iKuHnkDVw27kiuvvJJhw69h1G338dR/3+Gjt/7DoNgcvnn5cZ57fxLJ57Mor5WHyoMbmLlkE4VVp+pK5KSyqICi0jLKinMpLLNWF/I6I1FNunP1LXczYmB7wgPOcxBV7m9kUleG33w3N17aiQjleH/lQKGS30ghhBBC/GHUEGG326moqPAuSKeuZq12H1MHXK9evZoOHTp4WyTUdSTU2ZsGDRrkXZBOQsR5pNGh11UX2WqrT20NP1pDIA07D+XhZ5/jlm4BLPnuLd75fikFdrfvGX8EN0WZyezcl4bpVMfVBNF1xMO8+fa7vPXq84zqW/+EYlevhFI92j+scUuL0WBA98cd8H9GfkOFEEIIcd65XC6KiorYu3evd8pXtVuTumbEggULaN++Pa+99hrvvvsud999N7169fIuUmdQijFxAdHoiWzShzG3X0tTQy6zf/iMyasO4/iDvoL3OMpIO7CX7EKbb0ttNIQlduLq0Xcy5tpLaBBa28/QX7/A/1+QUCGEEEKI80JtlVAXpNu4cSM//vijd5IEtRvT/PnzvYOs1algv/zyS/7xj3/QtWtXYmNjZdD1hU5joEHvoQxqG0uV2hVp1kLSK/+AWY08bioO72bJwhVkVv1e64gWg18AAUa9xIc/kIQKIYQQQpwzapCwWCxs3ryZTz/91Dv1q7oo3cqVK2natKl3+ld1jITa3alPnz6EhYV5WyQkSPx56AOS6N6xEUZPOVvXrmZvWinHlflqFzdTATtWzuHHb77gs8+/4IdJc9l2qBCHsq8mj8tC9r6NzJs2mQnjx/HzuAnMXbWTlF1rWL4hBYvyfLfDRNaeFXz/6YeMX5ZMWWkeqfv3snv3bnbv2U9mURVO9QTcdspyDrJ13SqWLJjLrHlL2JNZeWZjGZTj2coyWb9wGj98+zVfj/2BqXNXkJJXqRzjt97Jg8tuJvfANpbOnc6UX2eybONeikxO3/5T8yjnXXBwG/Om/MRXX3zBl9/8wIylm8kqs6mn86choUIIIYQQZ+3IGAl11ia1a5M62Pq+++7j6aefZsuWLd5Zmp555hnvGAl10PXFF1/sXZBOQsSfl1ZrpGHjBvjrNZQeSmZvRpZS/Pt2uh0U7FvGR88/ydvjVuGMaUXXzq3Q567mnaef4uMZ26lwVj/ZUZHNiolf8PWvG3BGN6Zdx850atcUMhbx2lNP8f6E9VS4nRxYM4OvvvyWmSt3UmpxUZy8ip+//cQbTj/66CvmbDxApVq7OytJ3TiLz954kcf/+RD/98K7LNhVdPqhQinu8/csUwr7H9maBw1bdaRjsxhy1ozjyUf+j28X7sZc26xTyusKD27g+7ef55k3f2BbjhU/g5PDWxbxzedjWXOghFrbcjxuJcBksPDHd3nx7R/ZWxFE22496NQ8hrwNE3n5udf5dWMGtv/FNFtnQUKFEEIIIc6Y0+n0riGxa9cufvrpJ++sTepUr6tWrfIGibfeesv7UNfu6N69u3f6V51O53u1+DPTaLQERkQQpNPgKs8nI78Uq1rUe1yUH1rF+y+9wKR9QVx774PcOLQfPXr2Y/iIW7i4XibfvPU2MzdlYnfbyNg+l6+n7qR5vysZ3LsL7dq2oV2HrgwYei2D2sfhdjlxo6NR9yt46JlXePGp22kdqiO2w+X84/HnvbOEvfTSE9zYvxVh6tAJQwTtB9/GC2+/wOVNDRQXFmKynn7XLHvRQaZ+/TGzt5dRv2Mv+vTqTve+l3Lz3WNoa9/Gx6+/xZRNeRzX9uBxUrh3EW8rIeinrS6G3fMId426miFDruD6m29iaHt/knftobCWLluOykzmff0qb/y8i7bDb+O2kcPo3bULPS4azMjRY+gRtJf3X/wvU9b/OYKFhAohhBBCnBZ1QTp1sPXatWsZO3Yszz//vLcVYvny5bRt25ZXXnmFzz//nHvvvZeOHTsSExODn5+ftEr8BWkNBvTqH9x2TGY7LqXodZlyWPTLV0xenk37q29kcPtEgryL6OkIiW/KgOHDqJe5hF/mrie/pIL8lE3szbGh9w/EoPOVpGpgCW9AvyEX0SBQ+dlR/vELCic2rh5x0WH4KU/T+4d4/x4fH098vTgigv2rZ3NSXusfHEF8o/a0bBjGkbc8PR5MZYXs27GWFbPHM2tjNk4lj6gL/0U26MrVQ9pRsm8t8xatp7hGqnCUpjDu4/eZssXCRbfcy7CuSYQHByg/9/4Eh8XSYeDlXNypiRLAjg8Farev1LXT+OirBYT2Hc6VfdsRHWz0XodGZyQisQ1X3jiSpPz5fPDZRPbkm4/vYnYBklAhhBBCiFqpXZvUIFFVVcW6deu8q4Wr07yqLRCbNm2iXbt23ulf1W4ojzzyiHel65CQEBkj8TfgttmqZ33SGAkMMKDVeig5vI9F85aQp29Gry6JBCipQ/0Z8j4wEpXQlhaJLrZv2EZBhU0JC8FYD6zkiw/f4+fZq0jNKcHucuNWwkFUuyGMvLwLoWc1FavmLKZw1RAU14TLRt7BLbeM4bJO9fA7cv5KKIpskECo00xedjalNl9A8NhI27CQmUu34IjvyeUXNcLom5r3CI0+jMjwEIz647fbK/NZM+MXNhRH0rlDM6JDvBGtBj3RCa3o3C6G5IVTmLc9G9vvD8/4n5JQIYQQQoij1CJKXYyurKzM27VJHWyttjyoMzWpYyYuueQSbwuFOvhaXV+ib9++3gXpJET8fag/I5byCixK4NSFx9AwLoIAnY3i/L3s3l+K2+ihYOd6lixc4J0yuPqxkNWb9mI2hIK5nAqnnia9ruXGQfHsnv01T//zHkbdcD0jxzzAyx9PYHdJOL36tiLwD/yxMoYlcOmtT/DKC49ySWMjWSnbWDZvOhPH/ciEhdsos9pwOh24jvSocpSyf/dmDmRbCU1qTuPAE4NBtZN/NdzKLdjH2jWp2IPDiQsN8bbAnEgfEEhkTDT6ylTWbDiA1fEHzLJVBxIqhBBCCIHD4SAvL49t27Z5uzap4yPUcRLqYGs1SLz33nu88cYbjB49mi5duninf5UF6f6ePG4r6YcysTggoklr2jWqTwBOrKYiys1uUBd7U4pvq9V63MMdFM/Qu5/nrafG0Do+gohGvXnwpXd5/oHhNI/SU5qdwrqFU/jw5f/jnvufYNyqVCy1DYw+X5Sw5HRUkrxqIi//+xGefGMsGzJMRDRsTZf2TQjzO37NC4/NTElhIVUuDQHBIRhPN1h73DjM+eQWKjdQp8eo19VekOu0GIwGtC4b+bkFOJUQdyGT/zUQQggh/qbUBenUwdbq4Gp11qZnn33W2wqxYcMGunXrxptvvultqVAHW6tjJqKiojAajb5Xi78rZ9UhNu7IwKYLp0uffrROikKr0WH0DyHQT4M+KI4uFw/mymHDGFbjcdXwqxlx02huvLwncUF6TBXFeKK7cf/LXzDl18l8/8UHvPif+7m2f0sqd8/n4/e/ZmPOby10pxb2RezclUKVye7bcrbcVOXvZcIbj/Hwiz9RmXQZT/z3FR6760YGX9SNlg2jMJxYNSuBQB0zpLZPuNQBGKdLCR8avT9+RuUN3S5vWKg1LijbXU4nbuX5fv7quJELuzVQQoUQQgjxN6F2W1HHSFRUVHjXjVBbH9QxEupK1uqc/2qQeO6557xjJNQF6Tp37kxQUBB6vV66N4lqHjuHVs1i8a5Cwpv14vrrLqdxuE4plI1ExrSgeaMgXEW55FicaJSiW/3ZOe6hc1JWUo7NXEbyyqlMXLQHuyGAmIat6T90BA/857988MmnvHhHL0yHNrBxZ77vwMc70n7hqUhh5syl5BZW+bacHY+9kl0Lv+fdbxbh130kD98zgk6J4Urhb1DOWYvGrY4N8T3Z7SRv5zI2Z2tJaNSU6CAPlUX5VJx2sNDgH9yM1k1DUZIVhVUm7LU0yLisVspLSrHro2jdNgk/w4U9e5qECiGEEOIvTA0SateTkpIStm7dyvvvv8/dd9/tHRNx6NAhLr/8cu/UnOrMTer6Eup0sKGhod5+4C6HDVNVlXegdvXDhMXuPP15/xXe9zDVfI8qzBf6iNO/ndP7RN0uGwX7V/Dtd9PI0DTkmrsf5oaeDajuFKQnulEHBl/Wh9Cq/azemI7ppErZg/nwVibPWExaXjnladtZsmwtGRU1v6fXEprQiiHXD6KJvw6n3eHbrkFvDFCKfA1Oh937c63yKPvdWh2e0w696utOvl67qZy9q5dxsDKczn270ig2SDliNY/HTVVhMSYlkKuHdbvsZG9dwoqDGtp060fPtvUwH9jGtnzLSe/scZmpstiVMF/zuOoMV0lces0lJDhy2bkng3Lria90U1qQyZ79WYS2HciVvZIINEhLhRBCCCH+YOpg69zcXO/K1mrXJnXhuaeeeop9+/Zx5ZVXemdyUoPFjTfe6J3+Ve3adFxrhMtK9u7FfPn26/z3haf51yP/5OGHH+W1r2eTXnp638h6nCYOrZ/Gm8/8S3ntP/nP0y/wymtv8MWvayiorGt3FVFnasuVy4nNVEGFWQmLyt+ddisWqzpFrNvbquVyObCaKynJz2Db0km88syLzE0LZcRjL/OfMRcT6XfsZ0Yf1ojLb7yTYd1C2Th1IqtTcrAd/VHxYKvIYtWStVgDoogIV4p2VznbVy1g8Zp9VHmXxPZxOyjLLyUgtgktW9Sr3qYxEBLegKTEUEqzMiisMuP2uCjLzYfAEHQBAd6nea/Hol6Pw9t1yGyqxKKEWDUMeNwu7FYTlSabcl1urMp1m6zKn9WCX/nZNwYEYtA4qSyrqDEo2o25+CAbUqoIDlTCh83ifZSUWtH7GYlqM4Bbb76axpp9TJu6mmzl5/pIPPAoISxv9xpWbkmhzOLCXF5KpVUJQcrJ6AIi6Tbsbm4bmsi+xXNYuSMds29RQJWjPJP1i39lfVEDRt19K32bxVzwRbvuRYXvz0II8ZelDkKdOnUqaWlpDBgwwDv1pRDnypw5c7wzI6ndhYYOHerb+sdTx0iog63VIDF79mzGjx/PvHnzMJlM9OnTx9tCccstt9CpUyfvGhKBgYG/uSCd+g0tukD8rcnMnLWSbRtXsaMkmP4DLqZJjP/Rb3JrpRZ8GdsY99HbfDlhDjtz9HQceCl9O7elRfNmNKoXgfHMFhIQ55LbTl7KembNnM+ShTOYvWgTh8vMOJXC22WtJOvAXnbu2M62LRtYsXQxc6ZPZvLsNVRGdeHWR//Nvdf0ISHUePzPgEZLcL0mtGoUTsHetazYnIFdeYLDVEb2gd2sXb6MnZWxXD50II3DPGRsXcT8jVlo9dX/G22zmCgrzGHPxhUsWHGQ2P43cuOgFgR6p2nV4K8EB48ph23rd1IRFE2Iq5D163YT1KIbXdsk4u8sZ/+6eUye+isLlmzkUGEVDiUkVZo9tEyKpfzgGiZNmsKcBSvZl1mK2WLDWlWOIyiWxPgowoM15B7Yya6UQgzBYfh5LOSn72fjui1YErrTwS+NtbtylN8zK6W2SLoP7EFSRCj1W7QkTlvKxhUrOVQO/no3VSW5JO/YyJK1e8g7nEpyRg6lpZVYlUDiCowhITqc4MgEWrVsiDVtI6u2HERtrLAp9yrn0B6WzpzI9FVZdL35Ef4x8hLqhxp++/ftAqBRUumxWCSEEH9RalF18803s3TpUtTvUh566CHfHiHqTp1adfLkyd4BzWoLwB9F/b9w9VFeXu7t2qQOsN65c6e3laJ+/frekKMGiJYtWxIcHOx71ZnykLv0Ax794QCmDT+xRDOI777/iBE9E/mtHt6Oqnw2LBjPL78uUkLXcoIufZlpY/9JixAZ6H1BUArj3H0rmb10H0rN/Zu0ej+CQsKp17A57dq1on500G9+9h63g+L0XaxZvZ7UvCp0/kH4G42ExCbRo28fmsUFoXFUkbZpPmsK4mgb7+ZgahrlNjd6deYo9EQ27UDf7q0JVwczH+XBXHiIdcsWsj65jJDoWGIbtaRvn+40CPdTKvIydq1ZxNp9BXi0OtTJydxK0NYFNeKay3viyt3ErNVpOJUgra5jobZcuFx+NOsziH4dkvD3mDm8dyNr128hvQwioyIJUoJMZGJbenVugqZglxKul5LjjqLLgKEM6pSIwbsehgenpZTULatZsyMdq8ZPCezqAnhBNGrTDg4sZsYKdexICKFhcXS9dDiDuzUj2NtvzE1l3gE2rdvArvQi7+BvdcyGxj+K5h170LtLC8Jrm2/2AiShQgjxtyChQpxPf2SoULuk2O127890amqqdzVrdSE69e8tWrTwtkioi9IlJCSco/UjLKz85Hmm2dphWPAs7+1oxNs/fsUDQ9rgf6q3Vqcc3TyXBeuzKNg9lfd/3sPAlybz3SMDCDFe6N+3inPFoxTH5qoKzDYXeqXADg0J5OjacEr56XJacWn8MSp1tNNmpqLSjEenFORBagjRnfKbeY/LTlVlJTa3QSnSQ05acK6uPE6bd+yP1eHBGBhCcKCf77zV7mF2nErs8TOokxd4n16Dsl+5jkrlOlxaA0HBoQQoP+825R6Y7Eq4MRjxM/phVC74pJmcPG5s5goq1VmslBAXHBqCv/7P1ZIn7Y5CCCHEn4A62Do7O9vbGqFO86oGYzUgZ2RkcP311/Pxxx/z8ssve/+shorIyMhzECiUWseWye7Detq2TaJJUhyaiiKySsqxnnLKfA9VeXtYu6OKxFaNKDp4AFtAE7p2ScTvhFWFxV+bRqsnKDTS29UuIrRGoFApP5s6Q4BvpWmNN3RERscQFaEW4qcOFCqNzkhIeBTRkaHnPFCoNEpRr75/TEw0YUFHAoVKHSzupwSe2gKFqvo6IpTriI4MV65DLbM1+AWHeX8fw0KC8fcz1D41rEaLX1A40bGxymvD/nSBQiWhQgghhLhAOZ1OMjMzWbRokTc0PPnkk7z22mscOHCAIUOGeFtF1NmcRo4cSfPmzQkPD8dgOH6BrrqyZx0kQxtLmwaxJDZMwN9RQk5OObba5sBUeGzFbF6xHX2rriQaCtibXIBfUge6NgzjT1gnCSFOk/x6CyGEEBcItUey2r2psLCQBQsWeGdneuyxx/j888+VQj6HSy+91LtNXVdC7WqljpXw9/f3zv9/fjjJOZAOMfHUi44kIrEBkVSQnVWM1VZLU4XHRubO9RzSNqRXqyjK07ehZAoaduhEUniIFB1C/IXJ77cQQgjxP6SGCIvF4g0S6srW6noR99xzj7cVQh2AfdNNN3mDhNrV6dZbb6VDhw7eWZv+EK5yDmSUEF2vHqHhwYTEJRIb5CQ/Owez7cQpYT2Y8g6xZW8ejdt3IkZv49DW7eR7omnfsRnhIX6+5wkh/ookVAghhBD/A2az2du1ac2aNXzwwQfewd6vv/46RUVFjBkzhk8++YQXXniB4cOH07p1a8LCwnyv/OO4ygtIK7QTnxBPiJ+RkLAGxEVpKM7NptxqVWLEMW5bKft2bMcU1ZnOzSOxVWaybdtB3JGN6dyigfL6c9/3XQhx4ZBQIYQQQvxB1Ln409PTmT9/vrcl4oknnuCtt97ydm26+uqrvUHi7bff5pprrqFJkybeIHH+ujb9Hg+VhQUU2bTE16uHUaMnODSOejFB2POyyDbbOLaumYuiA1vYnamla9+OhKnz9OdsY+sBE+GNW9CyQb3aZ4pymMjcs455s2Yyc+bJj1mz57Bg8Qq27DtMpc11XIgRQlxYJFQIIYQQ58mRMRLqgnSzZs3ipZde4vHHH+ebb76htLSUq666ijfffNMbJEaPHk3Tpk3x8/P7zQXp/jAeOwUFOVg1UcTHh6BR/gkODiM+Lhp3SS6Hy6y4fMMqHBWHWLv2IJHdBtAyQglBLgc5WzeTWqWncfPWNIiPUF5dGw82SxX5e+bzxn/+xdNv/sCWrCJvt6/yshJyD6ewcclUPnj5aV7+eCJ78ky+1wkhLjQSKoQQQohzSF3VWu3aVFBQ4F0X5fnnn/eOkfjyyy+9sznddttt3hmcnnvuOe94iTZt2ngHW19oPHYTBTmHIaoF9UKrywVjcAix9WIwOPLIzDIrgUltpKhiz6p1lNbrwkXtYr2FhctewrbNe6nUh9O8VSvqRZwiJBmCadZtMJd1aYjH7SG63RDuvft2b/evMWNu48677uXBf/6LB0Z0IX3OZ7z20RQOmU45l60Q4n9IQoUQQghxDqitEmVlZaxYsYJ33nmH+++/3ztLkzoI+9577/WuLfH0009zxRVXeBepCwkJ8b3ywuQwV5BzuICo5i0J81ULmuBgouvFEeguJfNwqRKgHJQd2MDmolB6dmtDhKG6PcJRtpfNewrQhsXRunUrIn+rB5fHTsqeZEpdRlp27UbckRWUNdVz/kfFN6bH5aMZc3EU6+eMZ8aqdBzVzxBCXEAkVAghhBDngNoKcWTQtRouRo0a5Z0KVm2VUINEo0aNCA0NvTC6Nv0uD+aqXDLzoFmrBI6cscYQTExcPYIMDnIyM6kqyWDthjTqt+tI49hgXxcnD+X7trM730RYbBKtWjfkN1fOsGWyfVcaDn0DOnZuTG35Q+8XRpuubfHLP8SmzTspOTqYQwhxoZBQIYQQQpwDaljo1KmTt5XijTfe8C5IpwaJC2aMxJnwOKnM2Ueupxkt69eIBNogoqPrERLkoShtPzt2bCZH15iOSnAIOHKJHhv7t+8hr8pNbKP2tGr021277LkH2Z2ej7Z+Z7o2OdVUuRq0Wi1au5mS4iJMTt9mIcQFQ0KFEEIIcQ6oRW/9+vW9XZuMRqNv65+Tx2khc/c+HEltSTzuUgxERccSHmSgcO9aFm8vpN3FvakXVCM02bLYvieNKncADdt1pnHAb00l6yL3QCppeWUkdOpGk8Da2zQ8SsgpOZxJiUdHQEAABqlehLjgyK+lEEIIIbw8bhc2cwWZ+1Yze/Eu3P6B2G1O3EfnctUqoSKGyNBAJURpiO94KV0SlD+ruzxuXA4bpanb2ZKcidMYRtNWzTG63aeeClZdXC9lD7llwXTq3ppgQ+0tOm5HObt2pmIPjqJ5y5ZE/a9m2RVCnJKECiGEEELgslexd+VUPnvvNZ7+zwv8sHQbyyZ+zPufj2P1/jxsvkmX/GJjadSwDZfddBcj+jfDT6kk3JYsVs2cyHdffcZb73/PhoMlSsawk7puGt9+N4GVe3Ox1jIOwlVRSOq+fZQGtKZ7myhOkSkwZa1n6ZZ8opt25eLebfjNxg8hxP+EhAohhBBCeFsp3A4HfpGNuOjae3jxlf/y8IheRBs9OJ2Oo60Vuqg2jH7sRZ6593LqB1Y3GbiU/VaLDYfGn0Y9r+Lf/32Ht175N5e3ClHCihW73V5La4W6uF4e+/am4t+6M22jQtHVEhY8jmLWTZ/B9rIwBt4whouaBp5izQshxP+SxqPOgSeEEH9xJpOJm2++2btuwIsvvshDDz3k2yNE3T344INMnjyZO+64w7tStjgNHhupK3/ggdFPYbjtc776z/Ukhh7fVOGyV3JwzSRefPlLLN3u4ZX/3EbbmD/3eBUh/qqkpUIIIYQQfziPw0ROirrqdj06tWtIaI3B3m6nldLcg6yb/SNvfzKdoIsf4PlHRtJaAoUQFywJFUIIIYT443jMpG1bybTx45g8bSV5BgNlKVtZNGs606dPZ9qvU5jw8/d88fmX/LL0EB1u+g8vPDKKjvXDpGgR4gImv59CCCGE+AO5sdusWNxGWl/xEO++eD/dGwZjNZkwVVVRqTyc+nA6XHI9jz37Ag/e0I8GEQFoZSCFEBc0GVMhhPhbkDEV4nySMRVCiL87aakQQgghhBBC1ImECiGEEEIIIUSdSKgQQgghhBBC1ImECiGEEEIIIUSdSKgQQgghhBBC1ImECiGEEEIIIUSdSKgQQgghhBBC1ImECiGEEEIIIUSdSKgQQgghhBBC1ImECiGEEEIIIUSdSKgQQgghhBBC1ImECiGEEEIIIUSdSKgQQgghhBBC1ImECiGEEEIIIUSdSKgQQgghhBBC1ImECiGEEEIIIUSdSKgQQgghhBBC1ImECiGEEEIIIUSdSKgQQgghhBBC1ImECiGEEEIIIUSdSKgQQgghhBBC1ImECiGEEEIIIUSdSKgQQgghhBBC1ImECiGEEEIIIUSdSKgQQgghhBBC1ImECiGEEEIIIUSdSKgQQgghhBBC1ImECiGEEEIIIUSdSKgQQgghhBBC1InGo/D9GYvFwtq1a73/1vi2CXEhMxiNtGnThgYNGvi2CFE7k8nEzTffzNKlS3nxxRd56KGHfHuEqLsHH3yQyZMnc8cdd/Dhhx/6tgohxN/HcaHi0KFDjB59C6FBgcTGRPm2CnFhcrlcHEg7zP89/m9Gjhzp2ypE7SRUiPNJQoUQ4u/uuFCRkpLCXXfczhOP3k/b1i19W4W4MKlF4rOvvMP1I29izJgxvq1C1E5ChTifJFQIIf7uTgoVD9x3Dx+9+aKECnHBq6yq4v5Hn+byYVdLqBC/S0KFOJ8kVAgh/u5koLYQQgghhBCiTiRUCCGEEEIIIepEQoUQQgghhBCiTiRUCCGEEEIIIepEQoUQQgghhBCiTv5UocLjduNyOnE6XbiPTVr125TnuVxu9V9CCCGEEEKI8+BPEio8OK0V7Fu/iC8//YRX3/uK8Yt2kFvl9O0/FRfFh3cw4adfWJFSpryLEEIIIYQQ4ly7AEKF53dbETyOSrbPGcsrY1fh13Ygo6/qimnbHD7/YTbb0oqwOmt5A5ed/ANb+PHD9/l26SE8RiMa367T5agsJiMjg4Npv/04lJ7J4ewCiiutuKRJRAghhBBC/M3oXlRXgfIpLi5mzuxZDL10ALEx0b6tp2bP28PC1XvIr3SgMxgwGnS4bCZKCvM5mLyXTXuLCYuLJMioO6Ggd1FZmMW2TZvZtu8gKSkHOJBZhDsgjPAgI1pNzWe7KNy/kjff+gXDJbfy4LBuJCY0oFUjA6vG/cSSjCrsFhOVZis2m52qihKyMw6xfcs6JnzzJT9tsnHlXQ8wslcDjGeUKtzk7VjKj78uYNHixUye/CsTps9j3rKN7ExOYc/uPWzdtoMtymPT5i2sXLWGNdtTKbFqCImIJDzQcMYhRpwZu93O7PlLaNaiFR07dvRtFaJ2DoeDqVOnkpaWxoABA+jRo4dvjxB1N2fOHPbu3Uvnzp0ZOnSob6sQQvx9nH1LhcdD2a4FPPfUM9z3yBPc/+iT3K/+W3nc98iTPPTsh8zZlYPVzfHFtctGzu5VfPLBl0zfmE6F3Y3HZSVz2yLefftTpqxPx1Kj5cFjr2Df5lWszgykW/tEwgJ0ylYNQQ06c83FzQgKCcNoK+XQ3h0sX7qUeYtWsnZ7CumHUtiSXE6by27itiFtCDrjK9UQ2awb1153LaOv7UcChWzesI00ZwJXXXcdY0bdwJiblMeo67llxFUMv7gtrr3zeP6p53jyvfFsyKhUYokQQgghhBB/fXXq/uR2OrCYK8hI2cXiBfOYMHkak+euYHumnU5X3sLDN19Mw2Cj79kqNyUZW/nq3c9ZY2rANaNGMmr4ZQy/ahijb72RviHpfPn+Z8zYVXS0IHebq8jYt5fcgBgSQ4Mw+BKKBj8atWmEvzGewZdfxtVXXMqVlw/iyqGXcsUlnQi1F6NtMoD7Rg8iKUQNImdKQ0BkPG3atqNn7660bxyLv05HaP0W9O3egY7tWtO+rfJo14ZOnbty6VUj+PfT/+DiyBLm/vAFr30zh0NlvzfmQwghhBBCiD+/OoUKjc5A/c5DeeL/7uehO27i7jvv4NmXXuHnsR/yyt2X0So2iJo9mTz2KrbNm8CEPU76DRpIxwYh6NT9Gh3Bsc244voBBB7exPjJS8gwV7dWOB12ykorwN8ff73+WKuH8gdDaDCYTLiV8wgJjyQ+Pp76ceGU71/HpNVlDL7xWvo2jaj7wBHlIrRaje/Yyr9rXNNRWiPxzXtz/eDW6K35LJ45n3UH87HLEAshhBBCCPEXV7d6W6snskk37nzwYV5/7WU+ePUpHr9jOL1b1yc0QB0b4Xuej7UsmXnzNmILrUeLpon4H3d0LSGJHekUZ2PH+pVsPlDuna1Jq9Xh72fE43Ti8hzfochtseHRG2qMwfBQkbmDyVOXEdh9ONf2aU6IvrYEcH7oDP4kNmlAqJKUrLlZHCqpkFAhhBBCCCH+8ur8Jb76zb1Op0Ov11c/lD+fGCaqeag6sIW1B0wEhEQRGeF/rNXBR2eMpH6cHyWZB9mVnIFFKcj1gYEkJCUSUlVGgRIijnYoUgJG8eEC/OvFYdBWX4bTUsCKaVNYX9WEMTdeQqPwml2vzj+320lJXhEmlwdjZDQJwf5Hu2vV5FHO3eVy4fSuuaGEpZPW0fB41+Rwq+tyKM+rud+7Vodv26nW6vAo29XXnvpxihm3lI01z8tZ2/oevveuPgd1vZAjm2tsU9+/evOpnc6xhBBCCCHEn8I5CBXgctipqqygtKyMktIyKkxWnEeqzSOUojM39RC5ZidGv0AC/E+utjUaA6EhQbgrSjiUlUeFkiA0/uG07NqXjgH5bD1YgNk7iNuDw5TJ+hQNbdrEYlT7ULntHFwxjfGriul74yj6NQnjbEZSnDWPi9LMrcxcshuLEo76Xn4pvZsl4HfCZarrbWTs3cTE777itTfe5cXXP+DdsdNZm5yP1XfPPLYKkreuZvKECXz+xVd89ONMdmSbqCzJZee6ZYz7eRxffT+RqYu3klFixuV9lY/TSl7qdhYuXMqCpatYunItK1avZ+Ua9bGOxYuXMm/xarYeKsB69IVKgW83k5O6jWnjv+f1N9/jhVff4+3Pf2Hh9gyqbL4nKp9hRfYe5s2cztjvvuf9j79kyvosqkyVZKfuZN70KXw1djw/TVvM5gMF2E78GfBSPjtrFZkp25nxyw+89c4HvPTGh7zzxQTmbz5IsfLzIdlCCCGEEOLPpc6hwmEuYufapfz8w498/OlXvPnOh7z20Q9MX72PYsuxAlEpWynIL8bmdKPTG9DrfTtqUHsxGY3KDpeZwuJyzDbl1RojTTr3Z9QVzZTQsJIt+7PIz89k7Zx5ZES0pm+TSPQaN1WZG/nml9X49biWMZc0I+CcxKWTedwu7DY7NpvN+7BaLVSUFZO+dz1jP/mOxbnBDLnlfl5+6FpaRvn5XlXNVZXL0gmf89jzX7DF3pCrb7mVe0cNJKpgLS8/+xrfLkmh0uHGYy1n/46NzJ83k08/+pSPxs1l884dTJs0nZXpNhq1bENj/zx+efcFHn1jPNvzLb4jqAPbS1g76WMeevpdxk5fyrrt+0lJyyTjcBYp21fyyavPce//vc641QepdFV/Ok5rGVvnfc9jz3zE0pxABo8YzT/vHE5L3UE+feUVPpy5jWJ1Gi+XQwlO+1m6eBHjvv+Wtz4ey4wN+9iwYAY/z9+BI6Ix7ZUwd2jpj/zjkf/y07oMzL5jHOGozGX55K/4zyvfk+JpxDW33MbDd97ARfXNzP36PV79eg778qtk5iwhhBBCiD+RupXebidFB3ayOrmKDkNG8H//9wjP/WsM3fwO8eHL/+XtKZspUoKF78lUVpm8LRga78Bn3+bjKNt1OjQeByaTFYejuiDVhTbihnsfZGQbD6uUgnb6jHmsK47lsku7Uz/UiLMyhznjJrLHrxO3j+pPg6DqxOI0l5KWmsL+tDyq7OegTPW4Kc/ez6KFi5k9T30sYtacufzy8/c8/9ybTN7n4bLb/8nrT95B76aRGGpeo6uSDdO+4eXP5uPX9Xr+ddvldEiKp2Hzzoy6bRS9glL4/L3vWZtRgSc0keG3P8qH7zzF8BZBWIrTWbZiF2EdL+X2G4bQr0dXhowczQ2dgtk6fyITV2Qc7RamzshVadXTc8T9vPnfJ3nyoTu4e/QN3HLNxdRz5JGcbaZ+l0u44ZL2RBk1eJxmUlb9yvOv/0x5s8v4593X0LN5AnGJLbniplu5qmEZP332DbN35OHQ+9Go17W88e4r/GdET8I9lRzavZGd5bGMHHMjwwd0o+8ll3HzDYMIO7yQz8evJK/C7jsz9dzKWPvrN7z23VqaXnk7d48YQOvEGGITGtF3+K08MqYn6bO+5NWxi0lXm6mEEEIIIcSfwtmHCg34N+zEjSOv544x19GnRRxB/n4ERzfmCmXbRdH5jP/oE6ZtU4pRbz3v8vabV/94ZB6lkymhwjvo2o3TqfbNr96qbg+s15ZR99zHfdddTJ9+l3LnmGF0bRSBzmVi/5q5TNho5YoRw+nZIFS5KCeFKev44uOvGT9vFYvmTOe7X1eQUWavW9cajwe9MYCw8Agio9RHJNGx8TRv152Rd9zFHYMbk7dlMT9NXsz+AnONb9s9VB5azzfj5pPhaciQYRdRP0gJT97boCEooSUDeneAtGVMWZOOzelRwpUev+A46kUaMBWVQ0xDunRoTIif3jsTlVYfQfPG9dDYyklNTqPKd2Hq+ARPaAKDL+5DUkQABr1OuR9WUlbP4NNfVmKr35v7H7iJ7g2Dle0eqgoPMv3n8awujeeqy3p4X1M9JkaDX0g9+l/Rm4DM7cxdsY1Cq3IQjQ6DXygxyvX7ax2U5FbRvH8fmkT4o1OSokZrJDqmAQnRBg7vTyHfbDt6H0r3LOXzsfMpi+nElYPaE+1/bFFE9XWNugzh2o7+LJv8M5NXH/SOqRFCCCGEEBe+OrRUaAhp2ocxIy6hWUTNAdFKAIhrSIc2jXHnbOWXaesosKnfOmuPTsuqDiSufVBu9SBg9T28zz1ScfrojIHUa9iU9q2bEBvip7yjm+KM7UycsorwPsO5qncTAvXqDFA7GfvJ12x1JXH5sKu4Xini65XtYtrS3ZSpXarOllZHcFwTLurXm0v69Tn6GDigP8OGDWPUqBH0iSrg5/df5eEXv2Z1ekV1Qe2xsm/DOjYfKMQvtgnN45Qy32LFcuRh01GvXj1C/C3s3p6KSQlfKvVuqffAHagGiAbEKkHkGKXo9zOiUW6kzWzmyGW5PBoCQqNIiAuv/nA9Tgr2b+DLL35im7k+N953N9d1rY/Bt68obQPzlSBjrJ9Eo4gg3LZj52W1OzHGNKJRYAX7leBSWH5kEIZ6Xho86sxc9ZrRKcHft72aXm/wdmNzK+dV5bsWPGY2L1rE2kwLsY1a0Djy5P5vemMo7To2QZOfwsLlm8iqOBJHhBBCCCHEhawOoUIpLXVGggNqGRyhDyI6Igw/jYVDWzax11uMagnwr55m1u2u2QpRkzojkFv5b51SMBvQeRexODV1jMKyKZPYRntuGzHA2+3J46hgx/KZTNwGAwb29C5al5DUlisv70DV3h0cKj5P/fU1OiLqt+DKUdfRObCYlVO/56PJ68k3KYHKXcaBgxkUVTiw20rZsWQxM+bMr/FYyLqDpQTHJBDl7zk2w5WPzj+AsOCg6iBwlC90KaHCXWMWpkAlBFw58ib6Nqx+tqUwlanff8PkLWb633w39w3tQLhvSiqP00FZ6j5SK5zonWVsW7+Kmced1yKWbszEEBdHZJASYJTj1KTRagmMiCC4umnjKPVv3lNTZ4k6cmLOHLbtzKDCoSUoPJyQWn7yvO8XFUmIu4r9+w6QX2xWfhaEEEIIIcSF7ixDhYuS9F38OnESU5bspPDYNEI+eu+36DqtG2t5LrnFTqXI1BIVGY5Rr1GCgzqN6Mnlotp6Ybc78Gj8CAsLVt7Dt6M26rf/yybzyzozg0ZeR+9G1Qvp2cqK2LpmLWWRSTSNi/JN6aohILEjHQNy2ZlbpRS63nc49zQGouu3p1fbaNzWQlYvWMmhMrNS9DuwWq04XBr8wqJITIinQf2E4x4tel/Jcy+9zMt3X0K03/HzVqktFsfW4jhZzTup0eoIiYwmWMkUbnsJa2b8xBfTdxHb70b+edPF3ml21XEXZosVp0udRcuE2qvJPySChIT6J5xXfVq278PDL77OO/+4kibRJ0/Rq619cMzJnCYqKq3ee6/V66oXPTyJcqXKPr3Gg6mqCqvt2HgMIYQQQghx4Tq7UOEuZe30sTz5n+f496vfsjbL5ttxhNqNSalUlf9otHp03gXodCQ0bki4UjDbrSYsaiV7Ao/HTlmFCQLCaFAvmpDaFnnwclN+YD3f/rKR8P43MKpfE/y8V+LBbCrjYFqu9xv0IP9ja2FotCE0qgc5udbqcztP1K4/oSGByp88WEtLKXG48OgCCA8Lwd+oxS8omnY9unFR7x7HP/r0pH+fbnRuEq0Eodqu+1T34hSUe3lg5RQ++GY+ZfV68tCDo+iujkFRCvbyjH0sXL6RPLNyqyMjCVXHQvhH0qZD55PPS3n079uTLi3qE2w8w3OoSR9EeKif9/hOJSzUviigB5fV5t0XFByEn/H4thkhhBBCCHFhOrtQ4XFhrqrCZQgmLi6WiOP6+ivcFsoqq7C5dIQlNKVZrF6piTWEtWxPuxij8tpSysodvicf43YUkVtgJSAmnlaNEwmpdaEJD47yDGZPmsqBsJ7ceUNf6h2dP1btCmTHYnF5p609vvuURilS1UBzPtdBUL9hL+LQ4SI8aneoxknUV1cW14bTunVL6kfoMeUcJqPqxJadak5zPskHC3GcMA3rGfM4KU1dzWdfTGBzVSzX3Xk3I3okEuC9ny5Kcg+z/1AuVq2BiJadaB9npDg3h/yK2ruGOatKSM/MpbIu41H08XTq2JgwvZOygnyKa5ncSZ2utzQ7jzKCadWqGbFRgWcapYQQQgghxP/A2YUKpUhu0bINl455mPf+ez89447vp+SsyCf1QCZV2hh6DLqYVsHquAuNEhY6ccXFzXCVF5ChFKm+GWN9PFjzktmX66Zxmy50axNPLaM1vFOg7lo+h4mbXQy/aRhd6wfVKDw1GIxBhIcZsdusOJw1S2SlYK1wEBjs95tdiWqlnGftA8uP57GVsHPVHBbsKsMYmsRVw/qRFB6g5CkDzXpfzNBuTXDm72bVpuyjA6uP8thJXT6biasOYD6pf5a6QvXJJ3Cqwe620oNM+Ppbft1aSfdrbueBa7sQdnQchYnsw2mUOQLwCzAQm9Sday7vRED2HpbtTKP8xKl33Q4O71rD5AWbyDfX3Fd9cHXQ/YnULSdt1QTS9bLLuahxCPkH97I34+QAY6/MZPXGFDQJbRg2uCeJobWmSiGEEEIIcYE5u1Ch8aN1n4topcllX1o+luo5Y73cjir2rlnBgq05NB00gruv6USIb8EGQ2Akl1w3gj5h5SxbtYHDFcemeFUL8nVzl3NA34ihVw+lQ2wtXV88bkoObmbi9PUkDLyOK7okEXBCa0RgSARt2jbBWphPuenYQF+PvVAJLAEkNfDndIcBeJTjOe1WKoqKKCypRB0GYq8qpbDcjN2pjgupftgsleSl72P2+G95/ZMZZBoTGXbng9xzeXvCq/tlYYjpwJh7b6V/oo354yeyPLmII/W7x2Uha/cqZu6w07l7c4L1Gpw2M2VFWeSX2nFYzRQVFFJSafGu86GO0TBVFJNVUI7dYcdcXkJhmcm7sKDTUsramb/w5fRtRPS8jkfvGkozJWSpXLYqDm5dw/Q56yk1BOGvHMcY3oArb72Lm7rrWTZpCgu3ZR5bsM7jovDgFhZvyiCheVviw3TKJuXY5UXkFpZhtXswlRSSV1qBVe3mpdwvu6WKQuV+lVXZcVvKyC8up8qi/NmjIbzZxTx071UkmPcyecoSDpVajwYLl6WYtbMmMCvVjytH3cy1fZoSeHY/nUIIIYQQ4g+me1Hh+zPFxcXMmT2LoZcOIDYm2re1dvqQGBJCrayav4T1ybmYlOK2sjCL9Ytm8M2EpdibXc4Tj45hQDN1xWtf4a/RERTdgCaRdjYtX82+Yg2xccp+cx6rZv3C14ty6XH97TxwfU+ifcV4TQ5zFjPHfs2yilY8/MB1tIr2O6l7jM5gwOiuYMPy7QS060anxlEYcJCzfSmL8yK59KJ2xATqT3rdydxkr/uVt78Yx4TpC1myKcW7kJ+toogDyXtYsXwl8xYtZe6CJcydv4jps+czf90BjI17cts99/DPmwfRIjboWGrTaAmLT6J9kyjKlEJ90YptpOUXk5eVxobVK1m6LZ+m/S7lsk4NMJqymPPLWD76cSZr9yr31manJC+dHTsPoklohCdtOR++/z3T1+0hr8KKtaKQlL27ybBHU48DfPPuVyzL9JCormNReJB169axdOlSps2YxYQpM5i/x0y3Sy9nsHIsP+UzCYmqT7vWSZC3mwUrtpCarYSo3Ey2rFnO0k3pBDXvzbCL2xKud5K9aQZvfPQTs1fvJKfMXn3sfckctgbRKLqcyR9/zXezVrAjowiH00J2xiH2HSomsmErEqOCqNe0Na1iNaRuXsPyLankKmEpLXkn82fOYN72KrpdM5oHbx5M0/DfH09ht9uZrfz8NWvRio4dO/q2ClE7h8PB1KlTSUtLY8CAAfTo0cO3R4i6mzNnDnv37qVz584MHTrUt1UIIf4+NJ4a/VdSUlJ44L57+OjNF2nbuqVv66m5nVbyDu1n4+Zt7DqYTZnFjTEwjCZtunBx3040jgnGcMJ0o+DBaa0kfd9ONmzbR0ZRJeoyFn4h0bTr1oM+nZoTXd35/3geF6kLPueZb/fS/6Enubd/Q2ofN+zBXp7JjG+/YFpGJLfcdi3NyWDW/G3ED7iO63ol4X/SOdXGQ1V+BslZpTh/t++Txjvrkp9/IGERkcTFRBDgHZx+MvWb/rLCbA6lHSYzrwSL20BYZAyNmjahcXwkgQYtHruJzIzD5FfYlPfVegOQ2gqA1p/4JkmE2gs4mFGCQwlralcub+cot4fg2IYkRTg5lJJNlUeL0VC9UJ6yW9nvVIoqlxKVlL/oAqjfqBEJkYHHQo/HSUVRHmnpGWRkFVGlfCZBEbE0atiQJknxhBqVZ6pjaYoy2Xe4DPdxx9YQEltfCQ0aslKzqHBVr5qu7nUr907nH0rjpEZEBFZ/ri6HhcKcLNIPZ5FbVIHFqSE4QrkHSUk0Towl9ITZr06lsqqK+x99msuHXc2YMWN8W4Wonclk4uabb/YGbPW7lIceesi3R4i6e/DBB5k8eTJ33HEHH374oW+rEEL8fdQpVFRTQoLdhsVq93bN0eoMSnHth5/h2GrJtVK7ytisWG0O74JteoMRf+V1hlOtTeFxsHfxFJZXNGHkld2J9v+tvjFKsKjKY+OK1Wzcn4VZG0HX/hfTp11Dwk6zYD3fvF2rHE7vOg5avd678vVv3q8/jPJ5Ohze6WbVVb0Nv/c51oE6MNuh3AN1Mi51YL1eXx2gTpeECnEmJFSI80lChRDi7+63KvPTpAQCoz8hoaFEhIcRFhKI/+kUohotRv9AQsPClNeFEhLkf+pAodIYaD3oRu69psfvBAqVBmNwPH2HXs8jjz7Mkw+P4bLOSRdMoFBplOs3GKuDlPGCCRSqYwHPeB4DhUpt3TH6+VWHyTMMFEIcYbFYvF2a1NAghBBCiP+NcxAq/jhqVyD9bwWPE6jP1+n06JWi3dsNSAjxl6OOBfv000955plnvOOH1IUm3bUv2S+EEEKI8+RPFSqEEOJELpeL5ORkvvrqK+666y7uu+8+fv31VzIzMzGbzdQ27bEQQgghzq1zMKZCiP8NdUzFfY88xUUXD2TYVVf5toq/m6ysLJ577jnvWAmVXq8nMDCQli1bemfhGThwII0aNcLPz497772X5cuXy5gKcc7JmAohxN+dhArxp6WGijsffByt0Z+AgEDfVvF3o46lWL9+vTdc1KTOQKbVaomOjmbIkCFccskl/Pjjj2zatImXXnpJQoU4pyRUCCH+7iRUiD8tNVTc8/ATNG/djq5du/q2ir+bgoICvvnmG29YUB0JE2rLRLt27bxhQl2TIjY2lpdfftk77kJaKsS5JqFCCPF3J6FC/GnJlLJClZGR4Q0Is2fPJjg42BseLrroIoYNG+ZdFDE+Pt67XR1fIVPKivNFQoUQ4u9OBmoLIf701DEUamuVOgPUzJkz+fjjj7nmmmto0aIFISEh3tYLIYQQQpw/EiqEEH9qami45ZZb+P7773nsscdo06YNoaGhGAwG3zOEEEIIcb79aUKFx20nN3kTk37+kU/HTmbh1nQq7L83VaQHU3E6S+YtZGtGpfI3IcRfTWRkJMOHD/eOnzAajdIqIYQQQvwP/ClChcdlIXX1r7z28TQydPXp2iqSlMWT+HLySjJKLLhqSwtuJ5UFh5gz9mPeHb+CXItv+xlxY7OYMZnO/mFznOkiXB6cdgvlpaUUFRdTUFhMWZVVORMhhBBCCCEuTHUaqO2pzGNfZgV+IeFERYQSFGBE43JgUQrxyooyiqv0NGqaQIhRx/HfHSrFuqmC3Jx8Kh3K4d0eNAZ/ouslEBvqx/GLX7spP7SW/z79Dnnd7uOVuwfRKFRL8b5F/Pf1iXi6XsH1AzqSGBNOSKA/eo3LGwRK89NYMOE7vltWwMX3PMmLt/cl0nBm32A6rVnM/Wk6G3Mq8Wj13tlk/IwG9MoJqoV/lcmKUzl9vcGPoKBADEpEczkd2O12bDY7bq0fLftfx40XNcLvdFcC99jI2LWKn3+cw6aUNDKK3XS48i7eePJq4qWz2nFkoLY4E+rUszJQW5wvMlBbCPF3d/ZlqpJFCjdO4r57/8ndj7/MS+9+xgefj+XDTz7jv6++zqP/fpH3p64nz+zwvcDH46Qscw+Txn7DF+NmMmfpGpYtX8qUn7/n3S8msjq5EIcSMo5yVrF38yoW79PQrVsz4kKV4KIU+FGt+3Fd7wSsphJ2rF3JvAWLmT1vITPnLKh+zJ7PrJWpRHcfzp3X9jjjQKGyVaQy/Yef+H7GGtJKLGj0RoKCQwgPD8XffJhZv/zAu5/8wLS16WhCwggPC/EGK63LSk7yRsb98CPjl6dgc51BO4NGT0R8My4eMpDeDXRkZx4mp6jKG16EEEIIIYS4ENXpu2+33UJRbhqrF87go/ff58lnX+LJVz7im5mbcCX15fYbB9Ik1L9GK4WHyvxkxn/0MeN3Ouh/w6089uCd/PPBe3no9iuIyVrCm+9/x4q0Y+MfXOZK0nfv4LAxlsaRIRh9Z6zRBNGqU1PCottz222jGHHZRfTs1IYOHTrR/+LetI3Rok/sw113Dqd9lLH6RWfEg6uqHHtgEqMeeYYPXnmKZx+7n4fuHs1dt97Mg7cOpV18KBqdP427DubuO27irttu4R8P3MfTTz/BO288zz8ua4nbXI7jWGPQadARGpPERUOGMXpoVyICjTIW5G/IVpjKwmnj+e7bb/nm66/46quv+X7iYg6VW067K5yjIoOVM35h7Ndf8/U33zJ27HeMmzKP/QU23zOEEEIIIc6NunWo0eqp17Y/d98+khFXDuLKK67k7oce47PPPuCjJ0bTt2kU+hpH8Dgt7F0yia9X5NJ18FD6t45VQoISObQGopt0ZdRN/bBvX8i3k1aR72vgcNpsFBUU4QoIJMhgOHbCysv8IsOgogK3IYDYBo1o07Ytnds1JaA8lWmLD9Fl+LVc3j6W0+15dCJneRXGxj25/oouxAYZjuvCpQ4G9Q4IVf+t1R7fZUttbUhsz/VX9SXabaOq1kEfv09v0HvP/SxPX/xpeXA77ViqyshJ283sH97npRdf4IXn32X+/mKcp5EqPM4KNs/6nleff4qnX3yDH2asIjW7iEqzHbcMZBZCCCHEOVanUKHRGYhtcwn/fvZ5vvr8I378/G3eeuJurru4A/UjAtGd8O62ijQWzFxOaVACHVo1Iahmta8U4tEtu9EhsorNq5axJc3k/YZerX/0Oh0ej1t5HF+cexxO5QlqQX/sfSyFKUyfOJPSpkO4eXAHIo40bZwFV4UZQ6OWNA/V+7acAY2O6FYtaOCyUFGzO9cZkeLv70mDf1wrho64g3tuH0W/9vHExYRRmbef1Iwq3L/38+RxUrx/FetSMijIK8Me0oQb//EMT/3rQW4dcRktzqrlTgghhBDi1OoUKlTq+IbAoCDvvPDqmIKQoACMtTYNeDCnbWL5njICQqOJjgo6qWTW+cXRKN5Iftp+tu8/jDpjrD4gkLj68fibKim12XH5nquO6ajIKUIfHY3eFyrcjnI2zv+VhRnhjBp1Oa3iAs++LFfe31JpIqheHAHHjxw/TRr0oXHE6pVQcfSkhTg9Gq0Oo79RyQelWAyN6dm9CQGeCrIOF+H6zVDhwVqcxsrN+YS4LVQqv+JxiS1p16ExocFBBAb4H9d6KIQQQghxLpyT8sLjduN0OnE4HNiVh9Oltir4dh7hcZOfnMrhKid+/sEEBZ5cqGu1RiWYBOEqK+JARg7lSjGuDQijeefutCKP3dmlWH0FuttRxJa9Vpq2rqeEGOUyPC7yts7jp1nJtB52I0Pax3EWY7OPUYJKaNtBjOzfjICzrMIMgUlcfm1/kgL03uu3VRWyc+0SfvjuOz787Bs+/eFXFm0+QKnVedrjJlx2M4f3bWPZ0qVMnzGLSTOXsCffXr1TOUZl3iHWr1nN3LlzmThlGou252A/ofuV2upjK89ny4r5fPvNt7z/6Td8/tNMVu/LxVxjClxXZR47Nq1nwYIFTJ78K7M3ZlBpdVBVksPmlYuZNHUWs5asZ8/hklOOG/G4XZhKc9m8fK5yrLF8+Pm3fPnzLFbuzqLSJhPl/iaXg/LD+ykN706flkq4NTjJzczEpvy+nYrHXsGB3TuoDInHVVFOlcNAQvOONI89i9Y2IYQQQojTVOdQ4bJXkbFvM1N++o633nmf519+i1c/m8SqfXlYa3yj6sFNXm6ht2jV6Q0Yaqn41TEKfn5GcFSRX1SK2aa8XutP866XcMMlsWxbuo7UnFJMVaXsW72U3frG9GkWhUHrwVq4h59+nk9J4yHceVUnwutcQ2kIT2pPz6bhJ0xxe/oM/hG07dWReJ2TvP1r+fjNd/h8fjJBSR25dNBFdErQsG7yFzz73gS2ZFapM+v+LruplE0LJ/PRB+/zn6de4vl3f2DN4eqBtx6lCM3fs9I7sPfFF//L4y+8w9hlh7DVCBXqIoJ5yWv58NX/8u7UregatGdgvy4kOFL47L8v8vbkjRRZqpObKXsPUyeM46033uTxZ17hszlb2LtlFeN+ns6mXCchgZCybByPPvYSXy1NxXRireuykL5tEe++/h7frcihXptuDOrfixah5cz68h2e/3QmewtMsgbHKbgcFg7vTyO4dU9ax9cj2N9NSVYmJaccVOGmOHMvOw9a6dgxhIw0JVDqQ2nWviNxkimEEEIIcR7VLVS4lWJ533qmLNxLWIeB3H3fPTx822XEFKzi+adf49slyVTYjxRALioqK72tGOrAZk2tR9agU/d57FRWmrGra1go2/xjWjHm/ru5KOAQEyfPYNLECfyywUyfwX1pFumH21bCqikTWF6SyC23DqVFRHWfcbfDTHFhAXlF5VjPZk5WJeTUGK5xVjRKoVeSupq3Xn6HZVXNuO3OGxnWrxNtWrai9yWXc8fNg9HvnMoL709gW66p9oX8agiISGDY3U/w6cu30zlKQ2lJORbftWn0fjTpN1IJAU9x54CmuMpKKLfUnNLXQ3n6Zj59/S1+Tg7jxjtvZeTgbnTs0JkrRt3M8OZOpn31OePWZqLe+pDm/Xj82ad57t7LiXYUk3VgC4vW59Hy0msZM3wggwcP5obrhxCTvZxPvpvFnhxzjRYXJ1lb5/Laq1+y29iJB+6/iSE929GubVsuvuJ6HhzVg+Ll3/Hfz2eTWiKzEdXGac0mOR2at0siPjaG0EA/zLmZ5JyihcdVmc22dbvwb9ufRuXp7M0sQBeSSPtOTTH4niOEEEIIcT7UKVQYopLo3/9ibrx1FJd1aUJcZAT1m3Xh5ltvoJ17K++/8TmLk4/MVuNWQoLLW3QqpbryT200aJVQoT7XqTzXdWQsgpJAIpr15V9PPc4dg9uR1LInd941kgGt4jBi5/CWxfywOJPe117H4JbqGAs3VXkpzPhlAj9NmcPUabOZtWo3xRan7w3/OPaKbOZP+J5JuwxccfUAOjaMwt/XnUqrDyCxTW9GDOtA+uzv+HTmVkqP9O86JQ1+QWHEN0+iYUQwJ34BrTUGEhlXnyaN4gj2O/4uu22lrJn2Az+sKqHHpYPo3bo+gd5z0WAIjGfQ1RcTWa7ctxlLSbd40OiMhEbE0qhRY2JDIH9/OgGd+tC7RT2CA4wYDAFEx7egXeNA0nbvIa2g7OiYF2dJCj9+9RPLc4O59LqhtIkLwuAbua9ed+PeVzKqdyybp//ANwv2Y/qdMPV3ZMvdzUF7Eu0aqp9pLJEh/thLs8guqeXn2GPjwIblHDK0pX/naA6n7CezoJLg+h3p1DzY9yQhhBBCiPPj7EOFRkNY28E8et/1dKsfXGMGJi3hDZvTvUMTLMnL+G76ZkqVgKA68hR1Fqfau+B7js1soz63Zk2svNgYHEnLDt245KIuNIlVCmrl7Cvzkpk6eQG21pcx4pLWhBo1WAsPMOnLT5m6z0HLbn3o3ymBwi1LmLHuUPUK3n8Uj4uiw1uZMXsTjgZK8V0/Fv8T77ghmIbNO9A0JJ+Fvy5kb/FpdgfS6dBpfyOcKUHsxFYWS9FO5Vw2Ux4cQxsllITp3UpwU8Ob+nDj36A5rSPcZKbsIjX3SAuH2lqjU8KeB2dYEr1aRh43EF+n0xMY6I/bbKJCHUjvvb1OMjYtZ97Gg2jj2tK1mfLz4X12DdpQOnZtRaAlh8WzFyjXfVpX/TfiJnf3PuxJrWnkr8cvNo740EBcllxysk9s2fFQlb6FNRl+dO/bgUhK2L9/PwUVGup37EaL4DPr+6SOuXGfYoyMEEIIIURtzj5UKLR+IUSH11zczscYQlxMFH5UsXfNWvZVqt+s6vA3Gr3jE7xFyylqSLdbbc3QYTQaTpqS9kRuaykb505lWV4so266guaRyrmoK3CvncN3i4voM2QQA7u2pH23foy8rAVZm7eQUVKzi8555nJQvH8LW7IshEVGEhRQy71SPoLgoDAiwgIoO7CNzYerTmsdAtXJ7/XbLAf3sC27ytu9LDt1FwsXLmVejceiValY/IzoNQ7MVb7B3zUEREUT7ac/4bhqgFG2qIP1j6wc7i5jz+69ZBZZMEbGEGuo7YPUEBgdTaTOQfahvexLK/vjPpc/A/Ue7isnsXUSgXol1EXEkRAVgsdWroSKouOCp7Mqm3Ubk4lq1ZHW8cE4i/NI3pdCuRIv2ndrR4jy+tOmjrlJ3czSldsotsonIoQQQojTc5ahwo25NJftmzaxZV9WLd/+GwjwV4tTF1VFmUpxqbZUaImICMWg0+ByOY91barJ48HuXXvCj9DQIPyMv1E2e5xkbp7F9/Mz6HrNjQxpFaEcD+zlRWxavpys0Ca0S4ypXoFbo1cKrm608mSwM//0i/a6Umc+MhcWUapckt6ghKRTpCSdTode2eeylpBbZD9FK05debCVl1OpXLxer8egPKq3HnsYAusx7N5/88bjt9EryV/dXYPGe56n/ER8J+39b5eFkpJyLEou0SlB8lQfo0YJjup4fbOpgrLy6nVJRDVPRSp7i8Jp0zRS+dlQNhhjSawXisZtJi8nmyPtSB63lYwdWzlMAzq1a0KAzkNx7mH2phyGiDZ07xCr/M75nnwaLAX7mPjukzz96SwOysrbQgghhDhNZxcq3BWsn/Ipt4+5kzH//ox1uScWH0qlqH57rVHLRDcupeBUSlLiGyYQrFT5dpsFay3fgrqVoFBZZcZjDCY+NoKgE8YE1GTJ28UP3y/C1vpyRg9Vv41Vn+tRCtQykpPTCYiKISTw2DoVGn0kzeJdHM62/P7iYeeMBkOAP37KXXY6HKc87pHuRxqtP4EBSuF+6ss+A8qxjjucBmNoiHcMhS4gknbdLuKKywZx5XGPwVxz9TCuuqQb9cPqMF2Q1oC/v5+3pcntsJ96ull1+mFln95gxM9PhhIf46EyNZmC8Po0DQ+q/iXVRlC/fhQGj52inBzKvcHYgyk/lW0phbTo3J3EMOUeKqEjN3MPKRlVhP1/e/cBH1WV9nH8Ny2T3ntCCb33DiIKgiB2xV5wV13Lru6uuqvuu666u9a1rWvvXQFF6b33TiCBJKT3nsxkennvnQwQICAaC+X57mc+hjvl3pnA+z7/Oec5p8dA+sWHnPSO8uou3LsWf8FXC7eSlZ9PbaPpyL9CQgghhBDH8eNChddKuVLYVDfY8aijDkdXHl4b5iYLTpeO0Jh2tI9Vih2lUo7u0ZtukQasSuHf4JsSdSSPq46KKisBMQl075hK+HG+YfVYKlg56wvWO7pz8/UT6Rx2sCD1KsW7hUaTE0NAgO/b/8M0hAQblNDh/MUKJY1eR1SXHsr16WmorcVstbVybo/yWZmoa7RgTOxOn3bBJ1cEanS+kY9WA4jXidXmwHXULyYwrRd9lCLTZm6gurZO+e1rfY3xLW8ajxLs6qqpt7bhU9JG0LlTB2LDtNhqqqhqtY/Fi7WymlqnhriEVDqkRv3YYbMzj/LvJyermPDUVKJDD06Z05OamkyQxkNDeQnVTuVvjqOezE0baUocxuAukb7Pz2M1UZy5k3yTke6D+pMYdrIbQHqozljOsl1OunSLV3435VQ0mmmlJVwIIYQQ4hg/ro5Tisa0tK6cd/3dPP/P3zM29cipMu6mGvILyzATTq/RY+jj+9ZbQ1DSICYNT8VeX0lx2ZHzwtUi01F3gKxSN6ldejOwVzuaF4Y9kjrdI2fbMj5ZXsG5V17KuV2VYvRQ1aRBpw8iNFiH0+k4audhtXh3Ygw0KIX4yZVZbaYNIL7rKKaO6YitMIf04mrUrTda8jrNFOXtJbcqkGGTzmdIcniLUNH84FbLe62RkCC98l7U/pQjH+E211JUUo5JHUBqcVdQbD8um9SfUFM529L3UaVuWX4EL6aKbObPnkt6Zcty0tv6Nfgdc58mkF4jRzO2VxL2kkx25h87tcnrNrFjx37qlb9Lg8acx6BUo/8egaOarEIbKSmJShA+mKy1xKSmEBHgpbFGCfR1TsrTV7G9LolzRvYg2P8v2WqqZd+OPTQaUhnYrwNhwScz4uTFWZ/NomXZpI6bwsTBaehrKyiqa+TQitBCCCGEECfw40KFJph+o4bRNdTjm76iaTG9Rd1crWjXFpZtzSNm4GSmXzWUKH+jrjEkgQlXTKW3rpZN23ZRZmleYtbHZSFjxVoyXHGcN/lCBiW3XmSaS/Yy84tFMPhirjqnB6G+aU8HaQgOjaRbt3bYamswWa2HXt/raiC7zEBqcuD3NoAfj6/B3O3CabdSX1uH2e709U1YTXVUN1iwO9VeEXU38YNn1RAS35XLb76B8XHlzJmzkozixhYjOx6qcnYyb946vH0v4XfTxpASZvCdx2m3UVffhNPlxmEx02C24VRf2/9MjS6Obl0SMGod1NU2Kr+H5uNet52CvfvZV1SH2wBNvr0q7L6ApQ+KZuy0m7huaChbly5iydYCmlo0mDgbS9mybh2F3nZ0TVSKUd91WDGZG7EqAcTluw6r8j6bf28elxNLk4nGJrtyXgemJgs2hwuPV3nfHUcx/ZZL6BZczoLZy8mptR4KkepjK9KX8cWqfFKHXsRvpp2DOpglmjmqysiz6GiXGHcoLKgCU1JICtRgbij3Ndqv3FpH91FDaa9Oe/JxY6rNYseecnQp3RmQlsChTHICXpeJ9KULqYwdwPgRPUlun0qkvYrCchP2H7O/ixBCCCHOOrp/KPw/U1NTw7y5c5h8wTji42L9R1tniEwixl3IvEWbKTE5lSrXg91UQ8bm5bz34Uz2afrw+z/fyeUDUjEe/OpdqycyoQOJumKWLN9JvT5KKZwiMTjq2LP2O175YjuJo6/gD7dOpEPosdWQx1HNyi/eZUZ2FLffdT1D2h27VKk+QCmGrRWsWrWflGEj6dsu0tcwXp+9lrn7jYwb25ek0ICTnBLSgrua9XMXMHf5OtYohffc+UtZs7cYi1JEWxprqayqIGvvXnZk5GI2xNIxIbT5HGqTeGoneqQGkb99I5tzqrApgaGhupy9W9fw9exF7PP04O77fsOFymcVpHVRcWA7Mz+dycwl69iVX0WTUszX11RR7YmmS0o0RjVIaYxEhmvJ3ZvB/lITIcp7staWsXfnNjbl1BGic7A/M4PCslrqG0w4jBFKoIolKiaZ3t2SsRzYyvLN+6mzuZRQVE9hTiYrlFC3rzGaiZdeQNcoA46S7Xz6xTd8u3gVWzLLaFJCmsmkvFeTlwQlnO2YN5sv5y5h6YZ0KhqtWG0Waipr0Ed1pH1MCPFp3egS4SR94wZ25tf53nddRTG7Nq3i0xnLsaSO4q57b2FCt2jld/SDfyM4HA7mLlxGl2496N+/v//o6c5N+f5tbMhpYsg540ht0dvi9tay8evv2FnrIMBjJG3oGMYO6ETwwWDtdlK8+XNe/XA9gYOmKmHtQjpEfc/fda+Lqv0b+G5TLcMvuICeKUHUl6Sz5LsV0PsiLhrelbATLZhwGnE6ncyaNYu8vDzGjRvHsGHD/PcI0Xbz5s0jIyODgQMHMnnyZP9RIYQ4e/zoUKHRGIht15F2wXYO7N3Dlu07fKMPe3OrCO92DrffeSOTBrYnWF3epwV1c7Z23frQLU5Dae5+0vdmsn3XHvYUWeg57mJuu3Yi3WOMrRRCHorWz+Clz/fQ/7o7uW5Ue1rt49YGEBWrXHvJTlbsa6J9lw4Y6/Yx69vNRA46h7E9kw6HnB/A67VRXV6NyaUlNCKKlK59GD/hAi6dcgETRvalQ1wkocGBBAWHEJfcgfaxLZrEdYEkdurJoN5phGOhqrKacuVWZ9GS0mcU1157CWN6JhLkuy4vdksDNY0uEnsOZvKF6uv3ITU6nPikVDonKSHM9zgNIXHtGdAzjSi9nZrqWqprG3DoI+kzeAT9O4RiDE+gT88uJERFkNwxjQ5KgDPq9IQndGTQ4H6kRRuoV66jqraWhiY3Me17MWHSWHolBPmu3WGup6zORXyn3lxw4SSmnDuQtIRoomPi6Jgahb2hEUITGDJ2ApdNHsvAzklERSjnap9GUoQBrSGYVOV3PaRXO4xOs/K+K6moqsHkNNB16Hiuu+pChnZUAsXh+Ws/yJkWKtQRKre1lh3L57K1LoFxEwYT06KgV0fJMpZ8xYr99cQOmMzNV52nhA5/aPB6cdkb2PT5q3y4rpr+k69l2pRhxJxgsQOVvb6I1YuX4kgbz/ghHXz7qJgrclm5cB7lMWO48vx+RJ3UFKpTn4QK8XOSUCGEONtpvIfn6pCVlcVdd97OK8/8g949u/uPnphv2dTGWmrqm7C7ISAwhKjoSMKCDK0Eg8O8LjsN9fW+BmUXOoJCw4lRCucg/27Tx/A62T3nXWYWt+e3N0+k/Yk29PK6qC/NYuXKzewvrcXiMpA28Bwmj+1NfPCJr+vn5vW4sDY1YXN50QcEERJsPOnVeVrnxe2002Sx4fJqCVRCTXCATikwLVjsLiXQGAgwGDAYdC02KGzm9bqVAGPB6nArWSyQ0CB1xaaf59PxuBxYLFaUU2EIVN53YPOeJW1hMpv53f2PcOHUS7npppv8R09HHqz1leQdyGL3hsV8/N7nFMSex/33/5bzBvWiQ0K4b7lkp6WaGX+9kie2xvPQcy9x48gUAnBjrqukslYJgFlreOOJJ/kq3c342//CX347mc4JiSTGNT//GO4m9iz5mPcX1zD+mql08P2b8lKTuYJn/u9hdrS7jwUf/JV+yWG/6r+Zn0qT8u/u+uuvZ/ny5ajfpdx7773+e4Rou7vvvpsZM2Ywffp0Xn75Zf9RIYQ4e7Q5VPyS3A4rFrdeKX5PJhh4cTkc2Hy7PGuUsBNEoFJsnwnFkWh2xoQKbyNbv36Pd2etodLmxmG34/JoMASH03XMDTx412QSA/V4HGb2zP+AJaY+3HLNWGIDtLgaSln++Su8syQHr8aL3ab23riVMBmAMSiUjkOv5M+/v5TUoKNDuJeG3BW88eoM8pxBRIUHHZpK6DGXs3bRbPbqL+LT715gYqdYJfaf/iRUiJ+ThAohxNnutAoVQrR05oxUqKNG6iIAhxvxD9Fom5cO9v8Rrxu3Rz12OB6ro4VHrnTWwtHP9/NaS/ju3Y8pSbuImy/o6Z9618xdtYvnH7idF5ZG8K8FH3PbgBTfJoWnOwkV4uckoUIIcbY7zlwjIcQvSaMW/3q9b7fzI25HBwLf/iRHVvgare7Y5x28tRYoXCYyVy4gQ9uNC0Z1JSRAr7ym+rrNt4DIKJKSEgh0lFFQrG4W6X+iEEIIIcRxSKgQ4mzhddBQUcj2JV/wzKtzsYXFEh1y5OpQHpeV2ppG3BoDBk0d2elZlFXVy9KyQgghhDghCRVCnCVsplzmvf8q//t0KfUaJ9nrVrOzuL7Fviku6kq28dGLr7EsV0Pv4YNw7PyS1z78mswKh/8xQgghhBDHklAhxFkiMLw71z74FG998CmzZn/LR68+zHlp0S1WH9MT02E0f3jmf3z8xUxmf/cdsz57l6ceuIV+x9mMUgghhBBCJaFCiLOGBq2uZf+Fusyw/65D1Me06MlQbmqfxc+00rAQQgghzhDHhAqPx4PNZpeb3E6Lm9Pl8v/NFUIIIYQQv5ZjlpSddvVVjB87kvapKf6jQpyamiwWPp81hwcefIhbbrnFf1SI1smSsuLnJEvKCiHOdkeEirKyMl555RUaGxvRHLX7shCnouDgYK644gpGjBjhPyJE6yRUiJ+ThAohxNnuiFCh/qhOfxLidKLVaiUEi+8loUL8nCRUCCHOdkf0VKiFWctNsOQmt9PhJoFCCCGEEOLXJas/CSGEEEIIIdpEQoUQQgghhBCiTSRUCCGEEEIIIdpEQoUQQgghhBCiTSRUCCGEEEIIIdpEQoUQQgghhBCiTU7LUOGsL2bt3E955+23efON13n99dd5853PWZ9TheMkt9nw2ivYNP8r3nlTef4bb/DmW2/zznsfsnhbMU5389YdHpcdU30tDRYHh3fzEEIIIYQQQrR0eo5UKBW+w2ahvqqYrYs+5fmn/s3j//cQ/3htAaWNDv+DTsRD9a7VfPD6U/zf3x/jqZc/YNXuAmpNFmwuD75tD7xO9s3/L7+ddjk33v8cGwottClXeN3Y7U48Ek6EEEIIIcQZ5rQMFYbIVMZechP3/OE+7rnzUvondiA2pIFtC75lU1Edru8r3J01bN9TQbDBhd1iI6LzGG5/6C/ce8etTBqUgl6rwetpYM/aZaxct44Vq1aTkV/TplDhbSpg5YptVJhtbQsnQgghhBBCnGJOz5EKjQZ9QCBBISFExMTQuedARgztgbd0E3OWZ2F1nWgOlJem4lwK3SGkxidjVAKEwRBMWEQowUFBGA0636M02ggGTrqSqy6/guuuuphBXWJpy77Nrso9zFu0gTKT3X9ECCGEEEKIM8MZ0aitj+3MuWNHkRRoYsuCeWTUn2AKlMdCXmEJurAUkhJCDgUF35SnljQGOo+7kX/+5yX+/dBvGJAS1IZQ4aE6L5+SuobvH0URQgghhBDiNHNGhAq0ofQfey6D0yKpzlzB4k0luP13Hc3ZUE1xcTnRXfoQHXDimKDVBRKVkExcRFCbPii3tYwN6zeSV9YoU5+EEEIIIcQZ58wIFWgI7jySC0d1R28qZN3SVRRbWyvfPdRW5lPSEE7vHtHojpcpvG5s5noqy0ooKsgnr6CYuian/04/rwtzdSl5OVns37ePzH37yS+ro76mlOLyen+o8WAzVbJz8Qzen7Wc0kYrjfV11NTUUltbS73ZjkddVsrjwtJYS4X/fLn5RdSaD462eHHZzdRUlFFSVEheXh7FFQ24Dt6rPNdcV0VZSTEFebnkF1VhdXtwWhspL8wlt6CEeuvBRzfzup00VBWTlbGH9PR09mXnUV5r5oSzxoQQQgghhDgO3T8U/p9PQ27qS9PZtheGTBxDmrGcpfNXc6BBR7/R59Mz4cgpS16nhQObFpIfMZbz+0RTsHYW36zLJTRtBJdcfh7JRv+jHTVsXvAl77z1Pp999RVz1mcT03Uw3ZNDfa/nsdezb+MS5i7fRmFFlS98FBfmk5W+mUWzv2JdSTgjhnfBW7iFmZ9/zLvvfsyKXUXY0KOzV5OxcxubN20mzxpF9w4JBNjKWDn7I95572O+nDGD2av3EZk2kF7twtF4rBTsWsK7r77FJ8p9M2cvIdcWx9BhXQnWeLHWFrDwo//y1sdf8NWM2azNctK5RwiZq1eyeeNSPv10Lnn2CLp260ioQYPLWkfmhiUsWrWF7LxCJYgcYNemVSxbswtTYCLtEyMx6s6QrClEC06nk1mzZvmC+bhx4xg2bJj/HiHabt68eWRkZDBw4EAmT57sPyqEEGePM6d61GiJ6TeJC/vHU5ezg9Ubd9Nw1BwouymX3fs19B3SAYP/WKt0QSR16c+Ysf1w529n/dY9lDc4mqcuee0U7VrIq2/PQ9thGJdNu5YbbryJm268jokju2HK309uZQNO5cHegHDa9R7NFVdfxcB2QWiD4uk5YDDDhw/33fp3jiNQKfQ1AWG07zWMc8f0xJqzlXWbd1FW518lSmMgIrEzI887l44Us2XDBvbkVfleX2UIiqTroDGc2yeOkoytbNywhbUrl5PvaUePGBe7Vs3m/Q++YGeJU0lDDvLWfcGLr8/GlDiUq2/5Lb/73Z3ces0FRJSv5NmH/8rHa3Kx+ffpEEIIIYQQ4mScUV9JB4alccFFo4l1lLBq5TryKu2Hexi8HqrTN1MZN4g+MQH+g8ehDyWt/2gmX34tY3tE0fKLe6+9gazNS9leE0b3Ht2ICtT7jmv0QUqAGMM1l48mLkDva/wOTurBuAmTGD96MIlhBgKiOzLq/At832JNnnwho/q0w6jXogmMpMeQcUy94lrGdIs84nxqqIhO7cuEy67hivP6Ex6kvLb/LnXalyE4mn5jL+aaqybRJzkcU+UB8qqiuWDKGPqNOI+LL5rKpPNG0SlW75tGtWvxDL5bvJgla3dTb9ehMwSS1OMcbrpyAoFVm/nwg3kUWo6a6iWEEEIIIcQJnFGhQmsMpvOYixiTZmDfupVsyirB7u8T8Dor2bzTTNchnQkznNzb1miMBBmPeqzHg9NuoWzPBhYsXcnevDIaLQ7U02j1RlIHjGZol0S+J7a0SqMPISTwONem0REUGKBc0+FI0ZLOaMSoUy7PbSGq63Dah+qJ6Dqevz73X/79x2voHKGEF+V/USmd6dQ+iajwUPQHm0qU4JLSpRPJYXoq9uwkx3S8NnchhBBCCCGOdUaFCtATnTqQCeP7EVi2jbkr0qm3qE3KXppyt5Ib1IX+yRHHb9BuzVGP1QRG0HXwOfQJzua1/7uPu//wEE88+xLvfjKL5VsOENBpPDdOG0HYDzmHn1r0a37sb8R3Pi3BwYmkdU3Et9uGRk9QaBhhIYG+96wLiuSc257kvffe5p93TiHF2Ehxbibbt2xg7Y591FmduB1mmqzSsS2EEEIIIU7eGRYqwBAez+DzJtErtontCxawp8qE291I+s4ykru1JybM6H/kj6QNIm3YVTz8+MNc3CeIzFWz+O/Tj/HA/b/n7rt+x1/+/T47yyyHp139orToAyKIjGzewO9YGgwhMaQkBbN/yXv8/eG/88qHs9mYnkuNya58Ts1XLR0VQgghhBDihzjjQoVa9HfqM5LRgzrQlLOC+RsKMZflsd9koHNKCiH6HzGE0JLXg1cfxqDJv+HZd75kxufv8cyjv+ey0d3R1e7j67de4NnXvyG/6fu+7Xdjqq7F8hM3RWs0WnTHyxQeG/mbv+GJ++7liQ83EDlwCjfdfBPTrriESWMHkhQZePTAjBBCCCGEEN/rzAsVSlkc0q4n544eRrS3gtVzF7AuPRdXaCIpyZFtLpq9jgb2rl/MusxG4jv15tzJV3H3g4/zv09m8sU7z3JVPwNbl89jy756/zNa53VXsuD1d1heUHXELtvH65lQxw+cThdedV+LH8lcuJZXn/gnX+xwcNGdD3HnNRPo0zmV2MgwgtTm8hafjtNUTVGlCae0VwghhBBCiO9x+ocKpcY+ps7WxzL8vHPplRRIwZrP+WRtFhHJPUgI+QnerqOJvPUL+GbVLmocSgjQ6gkIDCI0LIY+507j/nsvIdbRSH2dyf8E5UPWqqMHyrk9HtSBiebLdWExW3B4Wly8RocxIMBX2nuPnoTktVJaVoVdqfKPfrsnx03B6u+Yt7WE2O7DOX/cAKIDD68k5bHasDqdvoZz9ex1O+fy1bI91Et/hRBCCCGE+B6nbajwepUC3emgsayUktpq6k0upWY/WG5riOkzlolD0vDUF1NUrKFLn3aH96ZQUohHXcXJ5fEFEo/Hjdut/Oy/28f3GBcuJQV41TCg3u9/gNdWxtply0nPr/XvnN1Mo9NgCA0jISaemLjIg0cJDosgNjoCb10lVTan7zxeSzU1mjCiDXq0/speqzWQmBSPVrkem+Ngga9Q3qutfC87D1Rhsavv24mrRZJSRy88LuU9KP/1etX3ov7Xf+chXprMZmwuLwZjCEHBh3/1Xo+VvNwiTE1W5VHNn4XV1ECTTd3x2/8gIYQQQgghjuO0DBUeeyMFGVuY/9U7vPzq5yxZ/hWvvvgO81ZtoaDW4SuotSEduWDyOXTq0JG+I86hR3Rzo4HLVk9hzn52b17Omt2F2Jx2qgvTWb1sPekZ+ymtVQprp4Xygkw2r13CjjwT9oYKdmxYyYbdeTiUIKJ+61+VvpzPv5jDrtwy6hoaaKivoyR7JytX5NJu7BSGdwv3nU8VlNSZ0WNGkeTIZMXaTMorK8neuA1zUkc6hIce+iXoAgLpdd6FDAhpIn3nDrLL6mhoqKeqeD9L5m8mIDqaEKOLwvR1LF25lQOVTTjsTRRn7WD1is3k1TTSWJ/L+iVr2am8l5L6lqFAR8fh4xnVI46anE0sW7KTivpG5bqrKUjfyJqiAEaOHEykp4SdG7aSXuQkMSGMwMDjTccSQgghhBCime4fCv/Ppw1bSTpfvP8W363LwqKLICk+DGtlHpmZWZA8jH7tw9BptQRHR2AghtGXTKFbdAB4HZRnL+W1f7+mPHcHVe4QUtPSSArXULJvGxs2baXG2JXB8SbmfvI2ny/YhiUwnvZJkVgrsskpcjFqYBqNNVWE9p/EsOh6NikF+P4DB9i3Zytr1uxG13Myt1w3kQ4RzdOYVBpDGGmd2xNgr2D3ll3kFmSzpyyIcydPoE+7qENL3Gq0BiKSOtE+3KI8bhvZ+YUUHMhg06a9aNJGMrq9l70HKnBYa8jasZWqgDS6RijX+s6LzNxcSkBUEqkJwdTnpbN+zQbqw7rTp1M8gb7mdA3BcZ3p0z0RT20BO3btpaikjLyMHezMs9L/vKlMGt0FW2k2WzbvxNZ+NJdNGE5yhPHQ+xDidOZ0Opk1axZ5eXmMGzeOYcOG+e8Rou3mzZtHRkYGAwcO9G1wKoQQZxuNty2dv78idUqSp5VL12h1h6YTqVN+vOpX9UrAOFwYe/EcPdWpBXX1JK3yAur0qsPTqfw0GnR4sJgbcenCCQ0ES10ZRWW1eAIiSExOJCLEiP7wBRzB7bJSXVxAZZOOxHbtiAkLbHGth6lTmKwNVZSUVmB26IlOSiU5LhxvQwnZJY3og0KIiIggIjyUwAA9yhtqdZrSwfdyJOX9O23UVJRQXm1GFxpDSkoy4YE65fFenLYmGk12AiMiCQ5QjvmfJcTprqmpieuvv57ly5ejfpdy7733+u8Rou3uvvtuZsyYwfTp03n55Zf9R4UQ4uxx2vZUaHzNz7pjbkfW0Opmci0DhUqDtpXnHbwdLMKbl2Y96n7ltdDqCQ6PJjxEr7yOntDYdvTs25/e3Tv6QsLxAoVKpw8ioWMP+vbuSlx464FCpdHoCI5MpGuv/gwc0JsOCREYlAcHRKXSu08vunfuQGJspH/FJvWzOOo6/bdjA4VKef+GIOJSu9B3wAB6dWlHRJAaKJrvMwSGEhMXQ4gECiGEEEIIcZJO21AhhBBCCCGEODVIqBBCCCGEEEK0iYQKIYQQQgghRJtIqBBCCCGEEEK0iYQKIYQQQgghRJtIqBBCCCGEEEK0iYQKIYQQQgghRJtIqBBCCCGEEEK0iYQKIYQQQgghRJtIqBBCCCF+Al6vF5vNhtVq9R8RQoizh4QKIYQQ4ifgcrnYsGEDzz33HHPnzqWwsBC32+2/VwghzmwSKoQQQoifgE6nIz4+Hrvdzocffsj999/P3/72N+bMmUN5eTkOhwOPx+N/tBBCnFkkVAghhBA/Aa1WS8+ePXnooYd46qmnuO2223xTot58801uv/12nnzySZYvX05ZWRlNTU2++4QQ4kwhoUIIIYT4iajBIiIigi5dujBlyhQee+wx3njjDW655Rbq6+v5z3/+w3333cfLL7/M0qVLycnJ8QUMIYQ43UmoEEIIIX4GasAICgoiNTWVK6+8khdffJHXXnuNyy+/nOrqat/P6vSop59+mtmzZ5Obm+vryxBCiNORhAohhBDiZ6bRaNDr9aSlpXHdddfxz3/+k3//+99cc801vvDxxRdf8Kc//YmHH36Yr7/+mtLSUunBEEKcViRUCCGEEL+w4OBgX//FZZddxp///GdfwPjd735HYGCgr8lb7cH4+9//zsKFCykuLsZsNkvAEEKc0iRUCCGEEL8SdQQjPDycTp06MXHiRB599FFfD8add97pG6l49dVXfT0Yai/GokWL2L9/vy9gSJO3EOJUI6FCCCGEOAWo06DUkYqkpCQuvvhi334Xb731lm+6lMVi4e233+b//u//+Ne//sXMmTPJysrC6XT6ny2EEL8uCRVCCCHEKUYdwVD3vVCbvK+66ioef/xxX0P3TTfdREhIiK+x+8EHH/Td1H4MdaM9dX8MmSIlhPi1SKgQQgghTnHqCEa3bt2YOnWqb1M9dbTiD3/4A9HR0Xz55Ze+6VKPPPKIb6M9NWA0NjZKwBBC/KIkVAghhBCnCXUEIzQ0lI4dO3L++ef7NtpTN9dTA4a6upQ6XUrtwXj22WeZN28emZmZNDQ0SA+GEOJnJ6FCCCGEOA2pAUMdwYiPj2fy5Mm+FaTeffddpk+f7rtfXUVK7cFQd/L+/PPPycjI8E2REkKIn4OECiGEEOIMoPZgJCYmcskll/iWo1VHK377298SFxfnW5r2r3/9q2/52o8++ogDBw5gtVpxu93+ZwshRNtIqBBCCCHOMAEBAb5laidNmsS9997r22zvgQceICUlxdd3cffdd/OXv/zFt9FeXl6eb4qUBAwhRFtIqBBCCCHOUOoUKXW1qPbt23POOef4du1W98FQezEiIiL4+OOPfY3f6tSpb7/9lj179lBfXy89GEKIH0xChRBCCHEWUAOG0WgkJiaG8ePH+5apfe+993w7eQcFBfmWpn3sscf4xz/+4Qsbu3fv9k2REkKIkyGhQgghhDgLqZvtxcbG+pq81Z281c321IDRrl07VqxYwd/+9jf++Mc/+pq/1Y32pAdDCHEiEiqEEEKIs5zBYKBDhw5MmDDB12+hrhilNnZ37dqVJUuW8Pvf/97X5K3uiZGTk+ObIuVyufzPFkIICRVCCCGE8FOnSKlTodSdvEeOHOkLE6+//rpvJENdWeqrr77yjV6ooUNt8t61axc1NTWy0Z4QQkKFEEIIIY6lBgx1FamoqCjGjh3rmw71/vvv+zbXU3fyVkOF2n+h9mGox7dv305TU5P/2UKIs42ECiGEEEJ8L7UHQw0Y6hQpdTna559/3hcwunXrxoYNG3zhQv2zOrKhriKlBgzpwRDi7CGhQgghhBA/iF6v902RGjduHHfccQdPPPGEb/fufv36sW7dOt/StepStZ988gn79u2jrq5OejCEOMNJqBBCCCHEjxYYGEhycjLDhg3zrR71v//9zxcyOnfu7NtoT23wVkcx1CZvdYpUVVWVjGAIcQaSUCGEEEKIn4Tag6FuqjdixAjfFCl1Hwx1oz11mdr58+cfGtF455132Lx5MyaTyf9MIcTpTkKFEEIIIX5yaqN3eHg45557rm86lNqDoY5a9O/fnx07dvDPf/7Tt7rUK6+8ws6dOzGbzb4pUrKbtxCnJwkVQgghhPhZ6XQ6kpKSOOecc7jtttt8q0apN3VEQ50SpY5mqAFDXUVq7969vmVqHQ6H/9lCiNOBhAohhBBC/GKMRqNvz4tBgwbxm9/8hv/+97/8+9//pk+fPixdutQXMNQpUp999hlbt26loqJCejCEOA1IqBBCCCHEr0LdyTssLIwhQ4b4pkipPRjqfhjqTt4rVqzwbbKnbrynLlO7fv16307eQohTk4QKIYQQQvzq1B6MkJAQRo0a5dvv4rnnnuOvf/2rb4pUZmYmzzzzjG+KlNqboTZ5NzY2Sg+GEKcQCRVCCCGEOKWoG+3Fx8czcuRIbr75Zt+StOrKUeedd55v3wt1etQ999zDm2++ya5du6iursZut/ufLYT4NUioEEIIIcQpS12mVg0Y6qpRasB46aWXfKMY6r4Y6pSohx9+mEceeYQPP/yQjRs3UlpaKhvtCfErkFAhhBBCiNOCupN3aGiob+dudSqUut+FOoKh/lkNFGrDt9qDoTZ/r1q1yreKlBDil6HxymREIcRZoKmpieuvv57ly5f7lrK89957/fcI0XZ33303M2bMYPr06bz88sv+o2cKL6b8bSxas5PKRhsulxuvRktYYl8mTh1NarDB/7gT8WAq28uKxevJq7eh1enRKbfwxK6MPn8caRFt+45TLWXUAJGbm+vrv1CXqS0oKCA4OJi+ffsyduxY3+pS6p/VYKL2bwghfloyUiGEEEKIE/J4PLhdDuoK9zDno5d5+l//5unn3mZDidX/iBNzmUtY9umrPP6Pv/Pks2+waEsWdRYnKOFEr217ga+GhNjYWN+UKPXLA7XnQt1cb/Lkyb5woa4i9bvf/Y5XX32Vbdu2UVlZic1m8z9bCPFTkFAhhBBCiBPQEN5xMJdfP51brr6Iof07EB8aQF15FrklJ9Ec7bWTu3kF24vrMFWb0HccxR33/YU/3vNbrp48mpTQn3bUQF2mVg0Y6sjEddddx3/+8x9eeOEFxo0b52vqVgOH2oehLl+r9mQUFRXhdCoBRwjRJhIqhBBCCHFCGq2OgAAwmerRJ/RhYI94tI46SotqOfEcai/mwp2sy/aQoGuk1htIl5596ZyWSHBgIEajgZ9goOK41KlO6jK1vXr14s477/StFvX000/7RjTUgKH+rPZgvPjiiyxbtsw3giGE+HEkVAghhBDie3ntTVSWFqFJHcWgTlFovTZKS4o50Xf8bnMp27ZmEtYhkcaicmwB0XTt2YOk8F+n/FB381ZXkbrjjjt8gULtr5o0aZJv1+7//e9/vl6rxx9/3LfxXl1dnW8EQ1pPhTg50qgthDgrSKO2+Dmd2Y3azWw1B/j6rVepH/YHOm95hDteXE6nac/y1cu3ENdKRvB6bORtX8XqTCfDBth56pb7mdvQgYdf+YQ/X9QRnf9xvzZ1+dmGhgbfKIU6erFu3TpycnJ8q0wNHTrU1+SdlpZGeHg4gYGBP3mTt9vt9vV3SDkmTlVqGFenFX4fCRVCiLOChArxczrzQ4WH2rw1vP3fhQz68+OkLH+IKx76jJDR9/Php4/Qx+h/WAuWsnQWLtpC9KgrSMt+hSvvepma1Km88vHbXNw5wP+oU4ta4Kub6JWUlLBmzRpfwFD3vVD3yRg4cCCDBg2iQ4cOJCUl+fbPOBlqmXWiIFJYWMi3337r28DvZ5wJJsQPpgYE9e+vuuCBOmVQpzvxVwESKoQQZwUJFeLndMaHCo+TwvXv8uK3AfzpqekErn6Oi277Dw0dr+L1r/7L+fFHDlV4nPVsm/sV6YaRXDcljVVP384dLywmedLDfPz+A3Q9NTPFMRwOB9nZ2WzatImtW7f6woY6gqH2aAwZMsS3P0ZiYuJxQ0NZWZmvEXzAgAHHDSFqeHnk4b/St2cXoiIj/UeF+PWpAXv1+k3ccNOt3HXXXd8bpCVUCCHOChIqxM/pTA8VHqeJje8/zjeaa/j37UOx7/uUGy5/kO1BI3j2w8+5rm+LoQqvm7Id8/lut5YJl0+ikz6LZ+74Dc8vLGHCQx/wwUPnE3iafSWvlkqNjY3k5+ezf/9+3z4Y6hQp9XjPnj19U6TUUQx1ipQ6TUQNGeqox/z58/nXv/7FX//6V6ZMmdJqUaaGipdeeJ6nH3uIrp3T/EeF+PWZzGYef+oF2nXueVKhQhq1hRBCCHFCbnslmTk2OvftiDqzWh+bQkqEEZu5lsqKuhYrQHlx1O5n9c46ug8fTMcIPbaiHDLyy/AEJdJvUA+MxwkU9oZKiouKfNOBjrgpx0pKy6isqcfqcPsf/ctSQ0JERISvyfvKK6/kL3/5i2/37htuuAGLxeILkmrz93PPPecLCeqUKbVHY+XKlb4RDvWLjLlz52JWijQhzlQSKoQQQghxQs7qDLLMKfTtFOr7szYwhfZJQdgtaoNzBS7fUfA4Gti9dgue1D70S4tHh5PinCzySusISuzLoF6RrfYNeJxWDmycw6vPPMbvbryMi6f9lv/793O8+NJLvPjiS7z8yn955eVXeH/WEvYW1eH8FedYqPPKo6Ki6NatG5dddplvJELdVO+KK67wTXV66qmneOihh3x7Y6gjFeqIxe7du33HPvzwQ1m2VpyxJFQIIYQQ4gS8VGdk0JjcnS6hzSvAaPUxtEtVAoLNTEVFJU2+jk4nVbnp7K420q9vD6IClRLDVUd2dgaltS7i+wyhd2TrK8hoDUH0mngrf7z9ShKs+ZhiR3DPI//ybVz33FNP8uC9t3Bu90AWv/wg9/3rfXaXmPD4n/tr0mq1BAUF+VaHuvHGG33h4pVXXmHixIns2LGDAwcO+B6nTpNSf/7b3/7mCx25ubm+Y0KcSSRUCCGEEOL4vCYyMypJ6pFGWEDz6i9abQDt2yWjd1ipqqzA5FKnL5WSviOTqH7n0DUx2Dci4aqvIlsJJNWucHoP6U9UgN73/NY5qa/LJ69ESx/lsSlRIWg1GvTGYOJSu3PulGlc3M/I2hlfsGDHASynYE2ubrbXtWtXpk2b5lsl6ujgUF9fz9tvv80f//hH327eaiO4EGcKCRVCCCGEOC5vUyEZ5UF07xSLQdc8eUmj1RPXPpUwjU0JFZU0NJjI3bGOXHpwbv9kAnwP89JQWaoEkgM4Q7swRD2uP05DhcLraKIscxvZ9hT692lPWMiRy1e6HGZq65vQGgwYddpTevlVddUntZlb7cVQd/RWG7jVnozIyEjfmv9btmzhiSeeYPbs2b5FJIQ4E0ioEEIIIcRxWQtzKDHG0yU2jIOZQKPVEtKuHYkGB9WVFRTu3sT6/TBk3GCimhOFkhLsVJZlsjennpDO/RmYEn7o+a1xNDWQtX0XluQu9GmfREiLCsVjq2XP2m9ZkgHjrrmeiQM6E3wKpwq1t0JddladEvXnP/+ZRx991NesrTZ3P/vsszzzzDPcdNNNvh27CwoKZCqUOCNIqBBCCCHEcTgoyC7AEJdMbHjo4dEBJVQY49qRHKahpmgn8+ftIGrQaPomNE97UnntTZRnbSe7Rken/v1JjQg9QdHhwWLKZ/vOEqLiY9HazRQcOMC+vTvZsGI+H771Op/Oz6HXDX/lXw/cTN/kkFN6pELdw+Ldd9/lvffe4/HHH/c1ad9///2+ZTl/85vf+AKFGjjU1aPU8HGizfF+Kh6XlcK9m/n2m2/5etFGcqqtuL83y7ipL97Hyi37abAebMcXonUSKoQQQghxFC8ejxtbbSFbt2TiCQ4nSG28PkRLQFA7UhMNNJUW4UzpyYheyRi0zcWx1+vB2lhD5uad1Ghi6dO3E+H+Ju9WKedqzN3KzlItsWEGSrM3s3bNKpbNm8UbLzzF2/Oy6XHFvfzt/psY2C7slC9egoODCQwM9P/p1+dx1LP5uw954YOllHuD0Zuy+er9T1iSXorD3XrLu9fjpDZ/Fx++9BxvLdhNrfWHtsZ7cTkd2Oz2773Z7Q4cThceGbE5rUmoEEIIIUQLLhpKcti8Yi5vv/g0L386h1VLl7J09WYOlDfSvFOEEioCY+nQMZWuwy7kqimjSAgx4HXZqCnJZc/OLSyZ+wWz1+ThNQbiqitkX2YmhRUHn38kr9tOwfZtFBsTGTNlGtMuvYiLpl7C1TffyZ9+dw3J1t3MXbidBpfT/4yznRe7uZ7ysjIKi4opKCyhpKKWJntrn66bks1z+O/HqzH0v5DrLjqPSZMuZEw7Ex+98DJvKZ9rTkk1dY1mzBYrTWYTtVUV7N++kleefpa3trgZPWoAiREnCIWtcNtM7F46g2f/8wpP/usZ/vK3J3nwb//kkSef51/Pv8ozLxy8/Y/nXnmLV9+fyYL1GRTXmHB+/xCKOAVJqBBCCCHEYZ5Gti36ig8+msGmXAudh44i1ZvPnE8/YMayPYdWXTIGRzListv58+9vY2TXKNQebjU8LPnsVaWQfJWZK7KIHjSRyy8cgDV9MW+89AqfLNyBqZV60eWsZPvWbPSRKfQb1J/EmBhiYmOJT0ylz6C+JBntZKxeT7ZMwVF3IqQ0ewdzZn3FG+98yGtvvc/Lr7/DS6+9z0ffrSGztBFXy8/YXs6i7xaz15zM+eO6E27UYwyLZeDYiQyLaWD31vXM+HImX323iHkLlzFn3nw++/xL3v3oK+Zvq2bopddyyYhOBPmb9E+W2swfrfz+unfpQKymgqWzZ/HOZ3PZXOgkuVNnevXsQW/11qMz7aINlO5cwhMP3M9vHn2Nb7fkYXaeCosGix9C45XuICHEWUBdYeX6669n+fLlvobJe++913+PEG139913M2PGDKZPn+7bXVn8MJb82dxx5YPsSbicNz97huGRBwtYL6adM7jt9j+zyTuF9xe+yPjYYP99ZwZ1B+6XXniepx97iK6d0/xHj8PrpHzPaj74bhdRfUYxedxg2kcY8DhN5GxTjn84i7zocTx639X0jg/y9Z0481dxz+8fY03YVcx78w46hQX4XsrTVM2qbz5kT+yV3DYiiMLCUirrzHj0wcREeNn0xZvMKOrM3/91H6NTm1/rx7IULeQ3Vz/C1+Vh/O6xF3h2+mCM/vuaebHV5jPrf0/x6GtL0fSawuNPPcI1g5Mw/sAwI346JrNZ+T28QLvOPX39QAEBzX93jkdGKoQQQgjxK/JQlb6L/SY3iT0G0jWiZRHpprS4kNLqenRRscTotXjtVezJyKWh6ezb48HVUMKSeSuxdRjGFRcO8wUKldYQRtdhF3DPbRcTtG8xX2/IweybCeXFUldLVaMZQ1gEof6eF5XGYCA4KhxXXSMBkQn07DeQc889h3EjeuLcv5q5e/VMvfVahqW0LVCoNAYdel8zugaNcg3Hvp6GwKj2TJ52HVP6RVC8cylvfLyUUotMdzudSKgQQgghxC/P68HWUEVhXiYr1+6gzqEhJj4Sc2Ud9hbzd7Q6A4FKAazTa/A0NVKwbTXLt2RSbz/bJlo07/uxaWcugdFRhAQcWcJptAEkpvWkb6KbrJwyzC0+H7WM9yr/O5rviFLhHyryvS5q96/lo292kDLhKqaNaO/fc+QXoNEREZdKr+6pBLgs5G3dTpYSKs623/LpTEKFEEIIIX5xXoeJvC1zeO2l/7G6Iowhw4egy13k6wsorj84CqGn4/CJ3Hj9VfQJqWTFwrnM215HrwF9SYg48VSMM48Xh8NKfcl+Vq/dTnalBc9RFbfL6cRq8xAYFKCu+qvQEBwVTVx4CG5TI02ew30KXuWxtvomDFFR/mLQi72+gG8//5r8qBHceslQEoJ+2TLRq1yf0+nyBQmNIQC98iZ+qUwj2k5ChRBCCCF+cRpjBD0n3MbTL7/Gux98zBdffslHb73E326/hM6xh2fcG6J7csvDz/Pyk3cxus9ALrrmWsb1a0/gWTfXXkNYeBTtEvSs+exNnnjhY1buLeXggITXbSM3Yzs7G2IYPaATkcbmz8eQ2JlhPVPRV+SSZTrY6O7FYq6ioNRJx67xvmLQ47SwZ9V8vtkNU6ddRN/k8F+2oPe6qCjKYWt6AY6AKAZPGEtvf//HETwOqgoyWbZgHp9/9Q1fzF7M2j1FmB2HV77y2BrIz9nPtm3bWL16Dev2lNDkUAKLtZ6c9K0sW76GNVv3kl9pOnY1MpeVqtJiDuTmkXOgtVs+B/JLqbMq4adlqPO4aSg7wJqlC/niq6/5fNYCVmzLpsZy+Axuu4Wy/Cx2bN/O2rXrWbcti2qHVwl4ZvIzd7Fq1RpWbtxFdlnDiVfA8rqpK8li9RLlXDO+4fOvF7Bsy34qzb/udDHdP9SORSGEOMOpO9fOmjWLvLw8xo0bx7Bhw/z3CNF28+bNIyMjg4EDBzJ58mT/UfFT0eiNRMYlkZqaRGRIAC1aA057hYWFbNywngnjRhMTHeU/2hoNhsBAtLYqNq1dx/rN29m8J486bxgdkqOoy1zNJzPXETn2Wm46vxcRB6dH6UOIC7Gze/NWaiN6M7JbDF5bPTtXLGSXqxeXjetKsNZDddYq3nhnHsbRN3Hnxf2IOmp6VVu4zLnM+XIpe80BDBk3iQv6JaFVamZ1rSB1TxO38n+f60v28MXbb/H5NhNDLrmFR+68hF5xwRzeF9CLo7GS9XM/46WPl1Ghi6Vzh3j05gLmz/ialXluOnXvSHSQHnvRdt597xM+/GwGn82aT7otgX4JDtYtXs6uCjtat5l9a+fx3jebMEe0p3v76EPTvNxl6fz3hRf431cr2Z1bRHFJuXIrIT8/n91b1vLZBx/yxfIcwrv3oVti8y7zbrvyeS6dyX/fm0NmUwhdOqUS6qpk5dxv+G5nLSmdO5MYbsBSXci8T97g9Y+/4dMZC9mc66Br33j2LFnM1vx63F47+VtX8MEXiyjWJtE7LZ7AI7ah9+I0V7Ju3pe8NWM99QHRdGyfRKimicyNy5i9cj/EptIxPtS3GltbORwOVq3dQER0HEOHDkWn0/nvaZ2ECiHEWUFChfg5SagQP9bJhwo1XAWS2K4d0VoTuTkH2JeZwZbN29iyfTOrd9XQfcLV3HHpEOJD9C1GGbSExrUjNcTMhpWbyG9oInfHWrZVRHHB5ePpFmXE2ZDHV2+8yzpXP+675wq6RwUoz/fislsxNVlxKa9hUArKH7vx96FQ0QBpPXrTJRqqq6qprKyipDiPzSsX8ObrH7OiJIipt93DQ3dcxsDUcHQt0qPbWsPamW/y6Gur6Tjxeu68diLDenWmc+dOxNr38/FHs8mhA6MGtic0JIq07j3oHGVj7fwlVIQkEmx1Ed9vOBeeM5g+PTrTPg7WfPIu32Z7GDRkEO0j1fesFNLFO/ng643EjZvGvddPZvTgPvTt1Z1uySEUbJzD+3P2EjNsMjdNHkaqEhS8riZ2zHufx17+DluPi3ngzksZ3ruLEizaE2+oY74SQtab4hk2oDOxERFKwOjNgPZu1i3aQKFJQ0h0IFFJfZXf/zAG9u5BjxQd2+bPZtbqIjqNGU2PmMBDv0tXUwXLP3+DZ7/cz4DLruPGqWPo27UjnTq2p1NqDBWbv+Wt7/YQ0aUXXZXA09Zg8UNDhUx/EkIIIYQ4LWgIiu3Clb+5i3uuGEFafBRaUxGrl61iY0YB1SYzDU12jt7hQRcYxYhLbuXJB65nYHwgcd3GctutlzAsNRSNUhTvnP8ls/cHcvGNVzMoQS1i3dQW7GXRnO/4bOYcvpm/iu35tTiObuL4oZwWirL3sGb9Jlartw2b2bBtL3lVVsJSuzGwTxphGgcmkxJkWp7L66Z8z1L+98a31CUN4dJJo0iLCUKrpBxDUCT9LpjMqOgmls/+htV5VrSBYaR27Eyfvv3pEKOlSglftrTBjB/Wk8SoUEJCwkjq0JchXYLISU9nf1GVEpx8J8JisRHeexy3XjKWfp1TSUmMJ0Ep/Mt2LeWzubsIHjCZ+26bSq+EIOXxHhpy1vPGO7PYY+/EtOsuoFtcqG9neZ0xgt7DxjJ+cCTrZ33DmgPVuHQBxKV0oM/Q3nQMD6C2ohKTJplzzumvhJwIQoKCiO3ck/6dYjAXbWfdnvrDfTMeB7lbFvHSmwvQD7qAy8/tR1K40RcctErYjE/rzaVXTSGhcDEvvjuPzGrrMX8Pfm4SKoQQQgghTgte7HVFLJk9l3RnZ6Y/8BB/vW0KvZWgULV/LS889igPvDiT3aXmYwpKjT6IhLSenD9pElPOVYrYmBClIHVRuW8V73ybQZfJV3H1sGQMGi+NuRt5/cX/MXO3la59ehDjKuC7r75jd5lFuYI2UMLNwHFTueuO6dx78Hbnb/jzn/7IU4/fzzX9A1n+7jPc+5dn+HBlNib/BngeZyNb589hRaGXLr160Tkl5IgC1hCaxuDeMdSV7mP7nhJ/QFDes0aPXufFakhmWJ8Ewo2Hn6WuKhYZEYLHYqZOHY3xvzGL1UVcu/YkRCiBy3fETdnupbz8+kz2abtw2523Mr5vEgHqKIqrgR3rVrF2TykRvYYwPPXI69KFxdC9Z1dCa9JZvacax8GT6LTotR60oUbad+hNcrDu0GgEmkDClOMar52a2sZDn7fDXMWG+d+wtiKcQf07E3/MDucGEtr1YEivSNIXfsvCPRW0aDP5RUioEEIIIYQ45akbxBXw7Xuv8uFWO2Ovuon7f3Mtf3jo77zxn0f4zQW9CbGXs/Dj13n20zWUmb9v93Gl2K7K47svvqUq+RxunDKISIO6D0gFCz//jHl50Vx729WMHz6YSZdczuQuVhavzKSpraMVrdJgCI5j5KU38NtL+1K5YTbPPP0q8zJqfEW1y1HM5u0FWLxeXKYqdm1Yx4pVh28r126lxKpT0oeL+tpaHEddYmBcPIlBh6cRqdRldrVKMFBXnHIpt4NPiewyhCvGDyIhVHk9r4emknQ+fPMDluZpGX/tbdw2sSfh/llAHnMd2ZkZlJg96D2N7Niw8YjrWrF2OzkVdgKCnNRUNuA5ovlaS1BwGPHqaJP/iI9GuTLfPDPlvfpWwlKf48HSmMPaddnYQsJJjAjD34d/BH1gMLFxMegbDrBmSz425y+bKiRUCCGEEEKc6txWsjbN4+0FpYy55FImDkjFqFUK06gkhk+6isee+ieP/3Y8qdpqln2zgK0l9Ye+fW+Nx9HIrpXfMTvTyOVXT6ZvQrBSZntpytvNgnV70HUZxID45kJcZ4yk2+BBBORuJaPxBC/aRvqQBIYPG06XeA1Fe9fx1fydNCiFuNdeR2WdHY9SbHvdDkxKcKhucattaCJm4FT+9sCdXDUq7Zi9NXR6PbrjNYQob+fwKk4aQhM70rtTIsEGcJpLWfLVh3y4NI+086/n/pvPIylYCV5uFy7lutw2Ow219diU5+s1burq6o+4ruraJsI7D+fuBx7it+M7E3zM3iI63/4rrVPjhP/ClAt0WioornQoJzJgNKjvp/muI+i0GAIMaD02ykoqcbp/2QlQEiqEEEIIIU5xrqYG9q5dR0NiP0b270xIi6pSqw8iqctgfnPfgzxw7QgCK7JILzWdIFR4qNy3lk+/3kHXKVdz4SA1oDQfLy3IJ7+8jrjUVIIONuZqtASHJ9MuuIb80p9z2VIdsTExRIYH4bY3UZSdS7VaF+sDCQnUoTUE0a7HQCZPmcSlFx15u2raNO684VJGdYtD3/xiP45/pMDrtrB31bf894Ol2DuN5767LmdgUogveNXk7GZHQT1uJRQYgwIxaPXEdOzHhZMuOPa6rryS226+hol9E9G3perWBWBQX0BdLavFyMoRlPDh9riV36JGCRcB/hGPX46ECiGEEEKIU5zTaaeirI6Q6Bgiwlvb+E9DYHwXJkwYS9c4vVJcHjdR4KrLYfYnMzkQNYpbLh1BfKC/HPS6MJsbabJ6CApWG6GbD6t0Oj2hIRpMpoMbE/4cPDSaTFisDjRKoAkOCyNEuTRtQCq9u8RgcNmor2/Erg8gQCmaj7wZlHrbgaXJ3nrB/UN43VRlruSt1z5mh7sT0++6hUm9kzD4Pg8H+9YsY3VWJe7gCFI7diBKrzy+ohqvcs3HXlcAeo+VBovrmM0KT5oSDowhHejaIQSazNQ0WY6Z4qXy2Ow0Kp+PUxtO124pBBpOvFrTT01ChRBCCCHEKU5vMJKQEE5jdSV1jccZLfDt+6AhOLULvRNDMLRS5XldDWyYM4M5edFcM/0K+sa2aPjV6DAGBGLQNy/D3ZLH48bp8mJQ7/yhTrKYVpdM3bZ1M1mlViU8dWT0uCHEKclGHxDDmCnj6BpiJysjg/yqY4ONx97InrULmLOl9MgN7U5w7sPTnlpSe0328vHr7/DNfi0TrruNm8ar+340Jyyvo5rcYiuBwXp0QdEMGjGGgR1CqUjfxt4627Gn89jZt2oec7YVYnWe5AdxDC0h4e2ZOHkYCY4K9mSX0nhw18NDPNTXlrNPuS+o6wguGtaOoONOrfp5SKgQQgghhDjFGYIj6Df2HGLKdrJk3W6qbO4jC1ilQrbW5LNpew4pQ8cyKCWaY76n9jgp37WSjxdk0fuSq7m4f8JRj9GRkJREYnQwtZVVOA7NyfditzVQ2RhAUmJroyStUze387hd2MwW7OrX9F4lmDjsOFweJaQoAch38+By2jHVlLBp8Te89tlKagNTmXDNzdwyLs23uZxGF0DHEZdx52X9aNiznnkrd1FtbzEFyG2jeP8O1m8vI7ZDvPIuvLhdTmw25bxKNnLbbTTZ7LiU96M+x6sEJLtyzKLe6XEpP6vX5MajTh+yVrLksw94b2ku7cdczn23XkD7cDV4Kfc5rJTs3sLqjCr06iaMWgPtBp3HLVeNI6Z+K5/P2U6lxXnourxuJ3UFO1i6u56Y6BCMysuon4fdbMWmXIt6jVaLTQlrh6/Labdisbl8n4/TZlOuv/m6dEGRDLvoBm44N4bdy1ewYV9Z82fq5zJXsn3tYtaXxXDFjVdxTpe4Nu9T8UPJ5ndCiLOCbH4nfk6y+Z34sU568zulgI1OSCTYcoAlK3dQYdMRbNQpNbGTpoY6CrPTWTR3IZsbk7n2min0TQ49audxJXRU7+eTNz4gK3ocv7/xfDpENG/4dpiGwBAtpXt2sK3EwLgJg0lQO5Y9DvJ3LGNjZTsuPL87YSdRrXpdDooyNrNs3RZWLFzM/I2ZVDe50OmNaNxmivLzyMo+wP6sLHZs28i3M7/kvZmrqQpM47Jb7+LB2ybRPTbIf33q6lCRdO7WEUN1Jis2ZNLgMRCgcWGqq2Lfrk0sXref0EGTmDowCV1DPsuXLmfR8uWs2JRNnU0dYVHevxJEIuPCKNm5gQVLlrNw2QZyqqzoAo14lQCiDYnCmj6XJ1/4jExbPOMvmUS3IAslRUXkZGexdf1S3n77I5YUBDP1qgn0SQhDHxBKWrc0QqylrFmzlWKbnkC9B0tDDbmZO5i3eCuBvccycUgnAmy17FizlHnzl7N40z4qLA50Wi12i4uohEia8rYxZ8FSFizbSKbaE6NR3qPXiUd573GRoYRGJ9M9LZa6/VvZkFmJ1hiAx95EdWk+6xZ9x+eLs+l2yXTuu3Zc8+/2+39NJ/RDN7/TKCnycMwRQogzVFNTE9dffz3Llf8no36Xcu+99/rvEaLt7r77bmbMmMH06dN5+eWX/UeF+H5r1qzhpRee5+nHHqJr5zT/0eNzmavYvn4F81ftwWwIIdSo9wULp9NNYEJPLr5kAv3bhR8zSqFOD9rw9Rv8a1YZtzz8EJcPSjpmlSQfr4u8dTN4/KUFtLv2Pu6b0htb9lq+mLuH5Mk3ct2g2KOCSOvc1gZ2L5vF19ur+L41iDQaLQFBIcQmtqffwAEM6JZCaHMDw1G82OpL2bR6FWt3FynFdrjv/WuVz6Hr4NGcN7A9QUqSshZt57Pv1lNsciqFsFYtdnG7vQTHduKiS0dQtW4Ja/dV4NYpz1VO43G70SjhoN/5U+lu28Hc5Xtp0AYSERbk/xw9SuHfhNnm9E2ZMsb15KqrzqdH3MG9LLw4m6rZtX4Vy7bkYtUFEx4aoLx2AO36DOe8Yd2JDtRgqS1h8exZ7Kxw+wp0rUa9Ljfa0DSmXjKSoAOr+GJDia+fRN1NXB25cLmD6DdhEhMHd0Jd5Va9loaS/axatYGdBY0EBivBy2XFrgml68CRTBjZk5iDPTJtZDKbefypF2jXuSd33XWXrz/kRCRUCCHOChIqxM9JQoX4sX5oqFB5vW6a6qoorailwWzFozMSGRtPalIcIa0W42BvKGXu+2+wJ/4S/nDVYKJaTRTNPPYGMjatZMGmAlxq4UsgXYadx0Wju57UKMXPTildHZZGahstuLXKe48MJ1gJF7/+lalTlpqorzfjQE9oRCThQT/Pdal/B2ymBurMdt/qWL7PIODEIwk/1A8NFdJTIYQQQghxGtFodIRGJ9KtZy+GDh3M8EF96N4+/riBQhUQFs8FN97DHy7rT+QJAoVKa4yg9+jJ3HHbtdx0zZVMv3kal43qcmoECpVGQ0BIBIlJSaQkRBNySgQKlQZDYChxiYmkJMYS8TMFCpX6dyAoPJrk5CSS46N+8kDxY0ioEEIIIYQ4w2m0esJjE4gKNpxUoas2R0fExJPaLpUUpWgNbNMmC+JsIH9DhBBCCCGEEG0iPRVCiLPCwZ6KZcuW8cgjj/jmhwrxU/nTn/7kW11MeirED/VjeiqE+CVIo7YQQrTiYKiYP38+Xbt2pXPnzv57hGi7nTt3UlNTw+233y6hQvwgEirEqUpChRBCtEINFeq3yAsXLsTj8aDVyuxP8dNR/04ZjUZuu+02nnvuOf9RIb6fhApxqpJQIYQQrVB3TF20aBG5ubm+XV6F+Knp9Xr69OnDeeed5z8ixPeTUCFOVRIqhBBCCCFOExIqxKlK9qkQQgghhBBC/KIkVAghhBBCCCHaREKFEEIIIYQ4ltdFfUkWi+d8x+dfL2JDZhn2k5g077aUs2nlWjIrbf4j4mwgoUIIIYQQQhzJY6do13Jeeuk9NpV5iQhysnXhV7w9eysVTS5azRZeDw5TGYs/fpOn3pxHZoOz9cediPIaLqcTh+PH39yeH94u7HU7sVqtNFksmM1NWBxu/z3iZEmjthBCCCHEr+RHNWp73Vga66ltbMLu9CgHtBhDwoiOjiDYcJzvi5Vi3WJSnlNvosnqAJ0eY1AIERHhRIQEotX4H+fjpaksnf/983k2hp7P4w9dS89wD0U7l/Hft+ag6TOZay8cTLvYcIKNBuXsXiUI2GmoKmLNt5/w6ozd9LrhQf59x3gSg37Y99decwnLlqwmvagBj0aHIUCPQblWdRVwj8uBzaaEBuVxGp2B4MAA33V73G5cLidOpxsPQXQfcx7n92tPiL75Nb+X8nnW7lvF21+uYG9uEaU1ZtpNuIv//O5cooNO9kXOPD+0UVv3D4X/ZyGEEEII8QsqLCxk44b1TBg3mpjoKP/R4/O6rBTuWc9nH37GjCUb2Z6ewZZNG1m1YScV7lBSkuMJCziqkPfaKd6zkdnffMes+ctZunINCxctYfYCpXgvbiIwKo7E6BAMB5OFx0nuqo946qtsRlx5K5cPTiJAKeIj46KwlxeSU1RGeUkx2XnFlKj/zc5ix/ZtrF69hgXLNuPsPpWH75pKj9ggjsgqJ8Fdsp3nnnqe95ZmYVHSg065JvXrb6/bTlXBXmZ/9ilfLVpHZl0QHZMj0HkcNNTXUKZcx64t6/huznKqYvpz/qBOyudw8md3O22Yrco5ctNZvm4Xzg7ncN153Y8f0s4CDoeDVWs3EBEdx9ChQ9HpdP57WiehQgghhBDiV/KDQoXbSv7WBfzziZdZ5+7Nnb+/izuvncIFo3oTWLWd117/mvKwTgzonkyw7mBB7aZ812Je/2Ql5uSh3HjT9dx89UWMH9oFQ/VePnv/Y+bvrCKue1+6JYaiV4p4t9PM6k/e5JuCAKZMu4Fh7Yy+cKDRKf+tLaYivBc3TJtMz4Rg9Do9gaGRtE/rQoK2ii3Zbq7+3W+Z2EcJIj+iHrcW72Hm8mz6X/t7nn74Dq6dci7njh7GqBFDGdQpmpz189lY5GLg1Q/w0p+u5vzRwzn3nDFMvOA8JgzviKVgDyUBPblwRA8iA08yVGg0BITF0b13b1K01axZswm6XMD150uo+CGh4uz9pIQQQgghThse6grTef+/rzKnIJprbrmC83vGYVDqZkNYImMumsZlXcx8+s7HLMuoxHXwWQ25zJ65GmfPC7jzhkn0bRdFUGAQiZ37c90dd/DbC7tSvmkuL742k8w6e/Nz3CaKy+qUEBFIaGhgi9EGHVERATjsLjyaYNp16cmIkSMYN2owHQNLWbxgEwnjruaSYR2UUON/yg/ixdxkIaTbaG6cMoIOyrla0ijFv1an9V2PTq+e4PCVabQGYjsN5apLzycxwIbDdfAT+CG0GPQG5XaSYUQcQUKFEEIIIcQpzus0k7V5ITNWHMDYZQAj0poDRTMNgRHxDBreDdfeDcxbl0mtTW2Z9VKbk86KHXvYt2s7u3JrONzDrCUopjNjxoykQ5iNrI1LWLq3/lBjtVrA+2r2ozpv1alIzac9XHg7GguZ++ksMoyDuO2aMST8uESh8NLU5CCuYxopkSEtznCStEbSlOdGBHpxOH9MqFD94LMKPwkVQgghhBCnOJfFTM72beQ2eYiKiyPUeNS3+IYAwpMTiXRVsH7dLirqrUqJ7qWuuoaywn0smPUJr3+9jaaWIUEbQFJSCrGRRmzmCvZlV/pChFYbRruUKOWkdkzmlsvCuqhrcGAMNhBwsF/B3cTuhV8xa6+Bi26cxtDEoDYUl27MFi9R0WEEBv6YYKIhNCaKYI0Ht+s4K1SJn42ECiGEEEKIU5zL5aCyogaXUikbDAa06khCS8qfDYEhBBo8VORkU9BowaMU2THtuzBsQG+6d+1Oz7R4jp3Z423+bt6rFuLNy6hq9YH0HjmUaFcThUXFOPzVuddaS06FmbiYOMJ8/Qouqvat5Z2vd5M26SqmjUihbS0IGqLT+jCmXyfCf0CTdUvamE6MH9WX2FCD8mpe7KYqdm1YwVdfzeKjz79m5sL1ZJY24ls06yR5PTbK83PYuX27b7WuRSu2KZ+vTfl8fffSVFNK5p7dbNiwkaXL1rD1QBW2VlakddkayNm5nq9nzOLDz2bw1bw1pBfW4jh0LW6a6srJTFdfawNLV21kd776O/diqS5k6/q1LFRef+OuA1Q1OVuMOh3Lbatn37Z1fD1Ted+fzeTLuavYmVuF/Qe87x9KQoUQQgghxClOo9EqYULnCwBut9s3DelIGjRaHWovrbOymNwGq1KMKkV61+Hc/9gzvP/KE/zxsn4EtazVPVZKykqorLNhDE2gS9dE9WV8y7WmDp7MNYPDSN+wnn3VNpz2JvIzdrG3SkvXbh0J0XqxVecz98tvKEsYzU0XDSb6x3RmH0FPSu8BjOitvP6PnEGlCUlh7OgBJIVBwc5lvPD0i3y68gC6qEQ6psZCxU7efP55Xp65kQqlMD8ZbkcFq77+nKf+/S9+/6dHlM/zPdYV1+H2/Q5cFGxfzhv/fYEHH3qEu//8T95ZmkHDwSSm8rqpL9rFR6/8h8ffWkSJRx0JisOWv57/PP4vXpu3izr18V4bBelrePulF3joL49y9yPP88nyPezZuIj3v1rK7sIaTFU5zHj9GeUa3mJNbuMxozFej5PK/et5/T8v8PqcXdiC40hLSybQnMtXb7zEvz9YSl7dyb3vH0pChRBCCCHEKc5gDKJjpw5KMQ92ux2P56ivnD1ubKZ6THblR7uJ6nqHOvig1OnBpHbpyeC+XYg/qlJ31pWwdeMm8k1Gug6fyIX9o32hRS0Pg+O6c8NdtzJYk8GnH33FFzNm8vnS/XQcPYH+KSHKk03sWjWHr/fquXzaFPolBfueq+4lYWpooK7RgvNHbEKn9nL4+jnaQIOTwm3zeOqpd9ij78N1N13N1PNHMXbMGKZecTXXjIpm7cev8PyXm6g6ia/udQGJTLhuOn+9+1r6hTZQUFKN2eHxF/R60oZdyP33/4GbR8VRUVBCVaPVHzhUXprK03n3ued4c2UV51xzC7dcej7nnXMOV119KWNSGvjoxVeZubUYuyeItIHjue/hB7ltZBw15aVkblnP2hwbA8+fxBVTJ3LRxZdx1YgE9i77klc/X0OVOnR1kNdF9f41PP/UKyytSeGqG6/i8gvGMGbECCZffAnTJnQj99vXefKdBUro/BEbE34PCRVCCCGEEKc4XVAoXYeNZmCikfqycupsSrDw36dy262U7MuhQqlmvUpR7bAdLHpb5/XYObBrHd+u2E94r/O56/bL6BNt9N+rFOZaA8n9JvDQ3x7g2lEdiIrvzNRrruPSoe0I0nmo3LeOz2ZtJW3S1Vw4uD2BSkVpbShl49L5fDnrO76es5iV23Ko+znn2xyHrXIvH7z2AaurI7n46qn0S4nAqC6xq9ESGBbH4AuvYHIHC1+//w4zNpYcmt51PBqtkZikVPr07En31Eh/8DpIQ1BELGldutCvTwfCj66sXY2sn/Ux7y3LImH4JVwxsiPhgXrfqFJwfFcmjj+HeMt2Pp61kWqrm6CwaNp37MqwnqkYXPXsL2sird9whnRLJjI0iOCQKPoM7EWi1krG5m3kmA9fvKO+gNkfvsOsPQFMnXYhwzvHE2TQ+ka5AkJi6D92IpeMjGfdJ2/z0apsLD9kDthJkFAhhBBCCHGq0wbSceBEbrx8OMaiLSxJL8V28Ftqr4f6kgy27GsiQh3KUMo7nV5zVPHbgteLuWQXMz6eSVbgIO576F6uVsKC8ZiqUEtwdDIDR57L1Ilj6NcxlkC9FlfDAb79ZAZZYcO55bKRvl2zHeZylnz6Dq9+m05Qh+50S9Szc+lc5m3Mx/pTfyV+Qi5y1ixg9pZiQlL7MrBrGIe27PAzBCYwekR3HIW7+Hb+aoqO6F4/Pt8UNL0SCPx/PprWoOPoWVv20j18t3QLFfZwBo4YQPQRTSc6kjum0Sk+hIJNm9jf5PAFQXWgRq/T4XVqiU1KUUJGAgEttjzXhYYQovx+7eZa6pv8wcDroCR7q/J+tuDq2JfB7WJarA7WTBMYS59+/Yhz72fmV8uV9+3w3/PTkFAhhBBCCHHK02CMascVd9zPfZOTWff5h3y+dAeF5VVk71jNrMUZBPftT7JBLW7DiY0MQNtqlefFVneAWe99wMKSOH73yINMH9+TiGMTRau8rkY2z53JdwfCuWr6lfSPC0Ddgbtowze8pQSKLhdM44rzhjFm3ESum9iTyp2rySj/aYvXE3LXsG1rBmUmF8FxCcTp/cdb0CgfTHhSApFeM/v2pJNb1nRSU4HUmPbDpmZ5qMzPY39hOQ6vnqby3SxftYZlKw/fVqbnYfEY0NvqKTcf2d2t7hMSHRNLuC8oHubbr0O5DK/HjdsfLL0OK2UZm9leYic6Po4QY/OGhUfSExkVrQRPPeXpm9labj+p932yJFQIIYQQQpwONHqiOw7ktof+xqPXDaJhzwreevtDZm+rpfvYCZzXKwy7zYsxqQNdo4OO+YZeDRQOcykLP/2Ib3OCuf6Bh7hrYm+iTnb5Vq+TivRVfDh3Hz3UzfYGJvtWk3I7alg9fwX57jgG9OtIkFJdanQBJHXrSWKwjfy8Mn6e1uBWuBqoqGrA5tSgVwrr4/WOa40BGDUe6mpraWi0+I/+1Dw0mhoxNdmVz075jF0m6usbqWtxq3dGMO7q6Tz64A0Mi2/uSzlECQ/qLtbH/h4PUiKBPxV4XS4a1WlxSi4JCAhA13qi9I20GHRaHE2VFFU6W2n4//EkVAghhBBCnC6UYBEe244xF17OPffewyN/vod7b5rK6O4JUF9JjV1Hau9edIoMPWYqjtNSzfpvPue7rACuuedebj2vJ+FG9VFe7LXF5Fc2NT+wVV6sNQeY9fm31KSey00X9ifa2Fztuqz57NhbhS4onoR4g++YShcSSVKwkdqGGiy/VGuFVqcU1Xq0Gi8et7tFw/SRvP779EqRrU41+kkcrvH9tBgDjMpNKeSDo+g96jwuvmgil7a8Tb2IG66/hpuuOIdOYccOqxw3TxxFHUBRlxpWX0FdGth7nLSgNvi7lTeu0RgIaNv6v8eQUCGEEEIIcTrwOKkvLyK7qAq7VylYAwMJDg4iKDAAHFZKMrOoDEhm3Jh+JEQG+p/UzO0wsWvlXL7Z7eGS6dO5bGhHQvyT7r0uB9mrv2HW1urjfnPtcZjZsXQO8w6EcMW0SfRIOLzjtcfaSK3Zhc4QSJA/aPhoAghWCmqH047rlwoV+li6dEwgJMCLpa6W+tbOq7xJa3UtDW49iSkpxMWGnlzxrjxI26K3oSW1iHfZ7UeNyGiIT0kiNT4Sr6OGyhoPAXqDr/g/4qbX4TA1Ym3Dh6QxGInu1IkU5ddeX1uLzdHa2JAHk9lEk9VBUFwnuqUYfWHkpyKhQgghhBDilOelvmgPbz75ALfd+ySfby9rscGah8aqLFZtKCBh4FimjOpJZIvi3uu0kLVuDt9sqGXstGsY1yMGlELfZlNvNsymStL3lhMQGeIrnI/hdVGRsYLP5uyi25RrmdQv6Yimbk2AEm4CtHjcLpwt2wKU5zncbt9IwHFq8R9GDTzHCT2HaMIZct4YBiQFU5+/j/0VLv8dh7mdJtJ3ZWEOTmDEqFF0Tzi86tXBE7R2Go1eT4AxAL3Xo3ziRz5CXX2rPL+EhiNygYawtH5cMKovYe4qtm3ej7mVZXYdDdnM/mIJe+tsx5y3tetolSGIDn3HMmFAHHUH9pNVa+Lod+51NpCfl025KYiBF4xnSFzgyYWpkyShQgghhBDilOehqb6CHdt2kpGdT2m9zX9cyQfmKtZ/9zVrGlO59uZrGN056tDUJ6/bRu6mb3nu5S9Zsz+PFTPf58l/Ps2jTzzFI48/xV///gR/+PPfeHONmYSk1pp7wVabxcyPv6M0biy3XTaY6KOaunVB7eiZFobLXketOqnfz+swUWVxEB4c4Vty9sdQRwDUKTsup5Ompiaa7C5foW03N2K22nEpocWjFOqHR1g0xPa5gDuuOYfghgzmLdhMpa35OSqv20Fp+jJmbaiky8gLufnSYUSrM7aUoOBSgpbFalOCkRentQmL3YGrRQjQBIeSmJpMhNdCbb398I7WXgcVhelszK7HqJTyZlMTVuU6PcpFaYKSmTxtGlP6RrNv6Tcs2FOlBK1DT1TOU8/OlWs4YIghOUQJN8p1OB12Gi025X25cShhxWp34lZPprye2+XEYrZid6vTmJxYlWDoUn5WV5KK6jhQ+f1fSR9vJl8v2EpJXYtGbCXgVWbvZuHSrRj6XsSdVw0nPugnmvblp/uHwv+zEEIIIYT4BRUWFrJxw3omjBtNTHSU/2hrtOjVZUMLCvG2H8bUMT2I1DmpKStgzZzP+WBFGQMum85900YQp1TwzeHAizl/E888+R8+W7WX3LwcdmzfyWYlmKi3Lcpt6450du8vwp06ituvH0tK0JHz+r3ORtZ/+TYf7DRy7d3TOa9T+DGjDhptIAbLAZZsLiS57xiGKAFDqy5zW5DJ6vRyug0dSeeY1gPLiXhtjRzYvZkVG3exY8d2li9dwuIN+6l3eHEoxb/LZaGsqJDsnEIsQXHEhxt9Tc1aQwjtunYhxl7E2vW7qbBplJLbRWNNBVk71vDR54upTRzBvfdO5/yuUeg1XqxlGcxfuIT5S1axKaMUkwMMGgcWj5H4hBjUXnaNPpBgrZ28fTs50BhMamwQDnM9Bft3s3ZLFtYII/kbdlJs9aDzKkFAH05qYiThMe3o3j6UkvTNbNhbgtsQoOQQC5Ul+Wxds4w1BcFMuOhcesbpqcxVCv95S5izZDXbcqtQF3fyOGxYtJHEBTSxbcUi5ixYwbLtOdRaXb5GbotyvvikWEKDQkjt1JlEo4ntG7aQa/ISoHFjbqgmJ30T38z8jp22rvzuvt8wuX+K8p5O/BtxOBysWruBiOg4hg4d6jvXiWiUBHgoxAghhBBCiF/OmjVreOmF53n6sYfo2jnNf/Q4lFBRmrGZuUs2U2L1+gp3q9mETRfJgDHjuWRc36NGEbzU5GxXCtS1FDa4D39rfRSNVk90l5HcfPFgwo9o3nVSum0ODz/9HalX/p6HrxpEqLrc09GU6zBX7OH1f73IlsAxPPrnaXSklCVzF1MUPpSbLhtObMAPjRTKy1pq2LhsPssza9VmBt+KRmpPg9oH4PU0j2D4dhbXBdP3/EuY3C8B/aHL9+KyNpCxeS2rd+Zh9how6rzYHG6i2/Xm3HOH0i0+tDkgeVzU5mzg03k7lcc1nwevG7dbS1Kv4UwZP4j4g9PJnCYytqxl6fpMzMZwIoMC0BuCaN9nAF10e3nj1WXUBoYQFhVL9+EXcutFfQj2Xa+L+uJ9LFu+jowyC8bgEEKMOvQRqYwcM4JeqREYsHFACT0LV2bSqMQgnXpxymfrVq4psd84LukbxKq5c9lXr64KpXwWynt0u93oYrpzxcXn0CnGv6u5w0T2TjWM7aXWpbxvgzrbzYUxrhPnjhtF3/ZRx+xh0RqT2czjT71Au849ueuuu3yrSp2IhAohhBBCiF/JDwoVPh4sdVUUl1fTaHGgNYaRkJREQlSwUlCfRKX4Q3hMbJv7BTP3R3Dz9EvoGXtk83dLXo+T2rxdLFi2RQkwDlxuDbEdezHlwrF0jDxxMfpzc9mbaGg0Y3NpCQkLJyykeUTjx1MCi62JuoYmnErBHxIeQViQAbfDTH29XfmdGAlUbkalmj/md6KEC3NjIyarE50xmMiIUALadjHHoYQul52GOrUBHIwhYUSGBx2zItiJSKgQQgghhDhN/PBQ8UvyYFVXJfIaiQhrbd+Lo3g92JpM1JssuLx6QqOiiAg6/g7U4tT2Q0PFj2ybEUIIIYQQZzYtQWGRRKvfcJ9MMtBoCQyNIDEpidTkOCIlUJxVJFQIIYQQQggh2kRChRBCCCGEEKJNJFQIIYQQQggh2kRChRBCCCGEEKJNJFQIIYQQQggh2kSWlBVCCCGE+JWoS8q+8Pyz/N8D99K1y6m2pKw4m5nNTTz9wv/o1KOv7FMhhBBCCHEq27RpE//3t7+h03oJCjz+5nJC/NIcDge5+YXc/8c/ceutt0qoEEIIIYQ4VVVXV7N9+3ZMJpP/iBCnDjUm9O/fn86dO6PVnrhrQkKFEEIIIYQQok2kUVsIIYQQQgjRJhIqhBBCCCGEEG0ioUIIIYQQQgjRJhIqhBBCCCGEEG0ioUIIIYQQQgjRJhIqhBBCCCGEEG0ioUIIIYQQQpxhvHg8Hv/P4pcg+1QIIYQQQoijeDBV5bF90y6qbK0X5xqNBq0+gJDwaJLap9GpfSIhhl//+2qv28K+lV+zaJ+HUVMuY1hauP+eI3kdjeTu3sym9HzqzWZsuggGnTuVc3vHofE/Rpw8CRVCCCGEEOIobuqK01kwaz77SkvZuXYlu4saIDSFYaNH0qNdDAEaD057EzVlxZRUNxGS0psLLrmSKWP7Exes87/OL8zjpHDD5zz6lydZUtuBh198l/smdfDfeSSvvZYdy2czc85iFi9YzgE6ct+zH/L3q3vKVJ4fQUKFEEIIIYQ4hsftwGJuwmZpYNUrd3H7y8sw9L2aV/7zTyb0ikSr8SqPceOwmSnNXMuH/3uNuRlOzrvljzxw+xV0jwtSHuN/sV+C101D7hqeefhRvkr3Mv7WP/KXOy+lU2SA/wFH8XqwW5toqC3ko4eu5+n1eu5+9hP+MU1CxY8hn5kQQgghhDiGVhdAaEQUMbHxJMdF+KYE6YwhRMbEEh0dRVRUtHJfHEmpaQw+/0r+cN9t9NZm8cWLT/L8Z2uosbmaX+gX4cVam8Wst99gXU0Sv/n7czxxz6WkHS9QqDRajMFhxMSnkhIXhkbmPLWJhAohhBBCCHFCLQvuVmtvXTDtew5j9OCOuOpyWfDx52yrtCql/i/D62wia8Ni1lelcudj/+b3V44kITTgJHsjNL/siMoZSkKFEEIIIYRoM31gEFHRUQR43ViqDpBd4fDf8wvQGkjtez5/fPQvXDm6G6EBUuL+0uQTF0IIIYQQbeax2zE3mnCiITimAykxx5965HFYqK0opbAgn/z8Qkora7E4jl1lyutxYq6vpqy0lJLiYopLyqg1WTDXVlJndjY/xqWc12xFE5JIbLCHJosNz3GGSLweF5bGOirLyygrV17DZMV9nAd7XA7MDfXU1lRTWVFBVa3y3g4+VO3HaGqkrraG6qpKKiqqMLdy/Sqv205DTQXFhQXKey2gqLSCBovjuNd4upJGbSGEEEIIcVxep4VNr97GRY9+jXHIrXzw5n+4oGfYkVOLvC6KN8/igTvv5ruSOKY9+DzP/mEy8YFHrwLlwVyWxZqli9iYWYE3MBij1o3DAUn9zuXC80bQISbQ99ouaz0Hdq5n495i7Eq97vW4cXk0GAO1lGemE3LuH7nvojTMOWv47NtlZGQVUlXvpPfl93DX5SOICWx5hR6s9WXs2bKR7ZkFNLmUIlgXQHh0Iu27dKLgo3t4eKGDu5452Kjtojp/G999PoddhWVU19uJ63MR9//lWjrqNTgt1ayf/RELt+VSrgQil6EdVz/0KBf3CG/xuSjnrCtl++plbNpXgkU5p16rwas8IjCyHcPOOYeBPdvzay2U9VOTkQohhBBCCPGjeZ1mDmyexztvvsUuV29u/8sT/HX6ecS1EihMRdt55+mHeeqz3cQNv4x7//xXHrzvTi7oHcB3/3mUpz5YTInJDW4reRu/4aW3F+BpP5prbr6NO393F3dOv5qBsQ1sWr2O7HKzr2dDYwglLi4Gb80e5n8zj83Z5RzZI+7FUr6bz196gn/89xtqQrtx/tQrueaKSfRJ0rF/2UwWp5dhV07bkiEwhJjERAw1+1g0dy4rN2djOjgYodESGhFDQpCN3asXMHfJOvIbmkdOminhqWIfM1/+B899uZXw3uP57X0P8peH/sRtV55HROUqnn78Wb5cnUXTUec9XUmoEEIIIYQQJ8VSuodZ773Es888wzNPP8UTf/8rd//mFu7+xwdUJk7mmTff5P/uuozucSFHjmQoXA1FLPnoBV6bnc/Q637LzVOHEh+iJyAsgWGTruO6kcHMf/9tFmzPp6mpnh2LviXb24Ghw3sSEaj3vYY+KIZ+46/nuvE9CfL1TWgI6ziIK2+czvQbzydZf/RZwWnKZdbL/+LlWbvoc+V93HPDFAZ060Byu64MH38x064cRbRWo07f8T9DpScisQ+XTr+Le69TXjcq0H+8mSEomsEX3cI9d93E2F7JHD3Ry9VUzbovXub5b3IZevmtXDtpKImhBjQ6Iwldh3L1bXcw0rCV/zz1Ekv3VHIm5AoJFUIIIYQQ4qQYozswcsIlXHHllVxxxeVcMmU8Q3ok4a7KISO3EpchiBCjUjz7H3+I10lZ1ga++GIhtQlDuHB4F0J1Bx+lUYJFLP3OHUFUyTZWbNlPtclBY00JBzK3sWHzHspqTdidzcME+oBoBgwfRvvY0MPn0WoxhIRgPObELvJXfsU7X6/HnXoOl13Unwhji/JXoye6Q396poajO3Q9LekIU17XoGt9jpI+0KiEG8ORBbXXTd2B5Xz4/jxsyQMYPbjXkTuNq6MciV04/8LB2Dd9x6dz11NxBgxXSKgQQgghhBAnRRcYRlK7NLp07kyXrt3pP2w8N93/JP964HJsGz7kkUeeYeGechxHd+y6mijJWMeW7EbC42NREgNFBQUUHLwVl9HoCSUisI4DB8pwEkTPoUMJyp3HY3+4iwcee5Z3Pp3FopUb2FtYT/sJt3Hb+PZHLQWrOXavCWc5a5etJqvKQUL3gfSIMvjvaEEJFgb98UtizQk3sFDvO/J+r9tJ3pqFrM61EZecSlxsc49ISxp9IDEdu5MUUMm6ZWspqDLRepv36UNChRBCCCGEOGm+Ilu5qf/VaLUEBEfS5/xpTO0XQs7qGbw3aw2V5iM3vvPYHdTl5VCupg1LOds3rGHZsmUtbqtJL3DRd8IljOuXSmhYJAOvuI+//eFq2jmymPnav/jD7Tdxw423cOfvH+DlGZtpdH7/t/seUwlZeWU0uQxExCcQ8mMq3xOGimN5PFayM7NodEBQcAjGY4dPlNfUojeGExIE9blZ5DU2nfZToCRUCCGEEEKINtAQEBBJh/ZxaFx17Niyk8p6y1Eb36l/Um8awpJ6MHrcBVwwcSITD90mcclVt/DIUy/w4PXnEBdqwBjRkUvv+SfvfPIZ7/3vGf70mysZkKznwPrZvPjP/+PVr7fR5D56SOQoLjdutxuvUtfrdM19GT83dWFVl8t11Ps/iu9OdSUodWTDhdOjLm+lHjt9SagQQgghhBBtotFoMRrVqUUeGgryKDJbj/jmXWMIICKlPbHKQ2xODdHxCbRLTSX16FtyAuHBRjzWBnavWsgeUxR9R4xn2vR7+Nu/X+bjr2by7jO/p4+hiAUzZrOr7sSThrShUSTGhGNQrsZiauT7Mkhr1HGG4w1WNC9ze+Q1aDQBJKUkYtR5sFos2O2tndSD027CYvNijE8iMchIqy0dpxEJFUIIIYQQok3UqVABhuYGbWdlAQdqLbj9tbarqZ4GdwDJ/cYwJC2E6uxMCurNrRT4XszFe1m3I5vquho2LfiChRtzsCuBxWAMJiI6lqSOvZh405/581UDcdcVUlb7PZ0IQe0ZOrwP8cFeqgsOUHpMs4dKHc1Qjh8ncGgDAjBotb7VoY5+iLOhkTpzEy0Xk9XpA+g2ehzdoqGyrJiaGrv/nsO8bgf1xTmUmoPoM3I4nWIiTvuiXEKFEEIIIYQ4oUN7JauF9RFLrzbTKoEiIiGOUK0Gj62Y7AMNuHypwUPBurksSa8hpus4pl09noiK9XyzKhOT48guAq+tmq0rl7LrQLlv52pLxQHWrlpFft2R/Rn6gFCSEuMJj4wnJqJFKev1+K7tiMvThDBg8jVcNCCByr1rWLu35pjeBXWZ3D2FDThcHjwe5TX8xw/SRUcTE6DH63TgX4CqmddK/oEsCkvr8Cjn9qhbZKtP1hpIGDiVW6b2w5K1lU17DmA54qRebEog2rBwHU0dx3DdpeeSEmX033f60v1D4f9ZCCGEEEIIhReXw0pDTTVlRftY9u0Mlu4qwamPoEv37iRFKkWwUjwbjfrm6UE6pbh3m8hYu5rsWgv6xMFcPLYHwd5KVsxZhTW1F/27tKNDWgf0NXtZvmInrthOdEmNQudxYTXVsHvVHBZleBl30YV0DLGyfe77fL2xCENMR7p1iCNAq1yTUtjXFW5l5tdrCRx2LTee1xltUw1FuVlsWzWf75bvwRPfhR4dk4iMDCfEqCMgPJ60lBAKt65iQ46VDj26ER+qx+1y0FiWybdfzmLFus0U1DmJSOxEt06JhIWGYjw4H0kJFFW717K1yEbXoWPpFm3A7bRSeWA7y9evJzu7nJKqekLb96Nn+yjCgoMICoqgY5f2OAs3s2xTnnJfV1Kjg30rQ1nrCljyyWt8tKaRC+95mN9OGUBUy2VuT1MSKoQQQgghxJHUfSUyl/PfJ//Np/NXs6/CTkRcEglhGsqyd7Bq5Rr214XQf0gXQtR1XTV6wuNTSYnSUlFSSnlZLQEJcTgObGZXUwLjzhlMUlggQZFJ9Bo4gARvGWuWLGH9zixys3azZvlKsswxTLryCoakRaNxmMjL3E/kwPNp785h3cYd5OQeIGPbahasSCd88GVMn3YuSSE6cpd/xH9e+4i1e6sxRscQYK8kc88ezKE9GN49Do02gKjUbgzs0x5rzgaWrdtJYXEJ2embWbk+k5Aew0l2FJBXZaa+LJutmzPQqHtXpESirjSrVZvQO8Zhyt/Npi17KK4oJXPbejZmVNFx+HDCavI4UFJNeV4663cVEdOpB52SowiN6cCAQX0JazrAysXL2LYvm6zdm1jw7RzSG2KYevv93HbREOJCWtnX4zSk8bY2hiWEEEIIIc5uXjc2ixWXUikevVeDWj6qxXpQcMARc+k9bivl2bvYuHk3RbUWAmK6MGbcKHqkRmE49Bpe3E475rpKCvOLaHDpiU5sT7vEaIIDjaiDHh6Xg4bKctwRiYTr7FQVF1CiFP368DhSkuOICA3BaND5inH1sTa707fPw6EzKNenDQgiOKDlpnUenLYmqkoKlWDQgCYkhnbtUogK0VJ5YC+FjV7CwiOJjIwmOkYJBcYWz/V6sJvrKVOuo7SmCb3y3NSO7YgN9VKanU15o4eQiEiiopXnRkW0OG/zezXVlpNfUIrJoSEysR3tEmIICQ7EcLp3Z7cgoUIIIYQQQgjRJqf/BC4hhBBCCCHEr0pChRBCCCGEEKJNJFQIIYQQQggh2kRChRBCCCGEEKJNJFQIIYQQQggh2kRChRBCCCGEEKJNJFQIIYQQQggh2kRChRBCCCGEEKJNJFQIIYQQQggh2gD+H+GIEUcHdFURAAAAAElFTkSuQmCC\" width=\"400\"/>"
   ]
  },
  {
   "cell_type": "markdown",
   "id": "3593a2ed",
   "metadata": {
    "slideshow": {
     "slide_type": "fragment"
    }
   },
   "source": [
    "Fonte: https://www.engquimicasantossp.com.br/2015/06/balanco-de-massa-balanco-material.html\n",
    "\n",
    "Em uma coluna trabalhando em regime permanente destilam-se 1000 kg/h de uma mistura composta por 50% em peso de benzeno e 50% de tolueno. O destilado que sai da coluna é composto por 90% em peso de benzeno, e o resíduo que sai da coluna é composto por 8% em peso de benzeno. \n",
    "Determine a massa do destilado ($M_D$) e do resíduo ($M_R$)"
   ]
  },
  {
   "cell_type": "markdown",
   "id": "284de236",
   "metadata": {
    "slideshow": {
     "slide_type": "fragment"
    }
   },
   "source": [
    "## Resolução:\n",
    "\n",
    "O balanço de massa consiste em uma descrição dos fluxos de massa de entrada e saída de um processo, baseado na lei de conservação de massa, e pode ser expresso como:\n",
    "\n",
    "\\begin{equation}\n",
    "\\sum \\text{Entrada} = \\sum \\text{Acúmulo} + \\sum \\text{Saída}\n",
    "\\end{equation}\n",
    "\n",
    "Considerando um processo operando em regime permanente, temos que o acúmulo é zero e o balanço se torna:\n",
    "\n",
    "\\begin{equation}\n",
    "\\sum \\text{Entrada} = \\sum \\text{Saída}\n",
    "\\end{equation}\n",
    "\n",
    "Aplicando o balanço de massa para o benzeno, temos que:\n",
    "\n",
    "\\begin{equation}\n",
    "0,5M_A = 0,9M_D + 0,08M_R\n",
    "\\end{equation}\n",
    "\n",
    "Aplicando o balanço de massa para o tolueno, temos que:\n",
    "\n",
    "\\begin{equation}\n",
    "0,5M_A = 0,1M_D + 0,92M_R\n",
    "\\end{equation}\n",
    "\n",
    "Transformando o problema em um sistema de equações, ele se torna:\n",
    "\n",
    "$\n",
    "A = \\begin{bmatrix} 0,9 & 0,08 \\\\\n",
    "0,1 & 0,92\n",
    "\\end{bmatrix}\n",
    "$\n",
    "\n",
    "$\n",
    "x = \\begin{bmatrix} M_D \\\\\n",
    "M_R\n",
    "\\end{bmatrix}\n",
    "$\n",
    "e\n",
    "\n",
    "$\n",
    "b = \\begin{bmatrix} 0,5M_A \\\\ 0,5M_A \\end{bmatrix}\n",
    "$"
   ]
  },
  {
   "cell_type": "code",
   "execution_count": 7,
   "id": "60d75418",
   "metadata": {
    "slideshow": {
     "slide_type": "fragment"
    }
   },
   "outputs": [
    {
     "data": {
      "text/plain": [
       "array([512.19512195, 487.80487805])"
      ]
     },
     "execution_count": 7,
     "metadata": {},
     "output_type": "execute_result"
    }
   ],
   "source": [
    "import numpy as np\n",
    "MA = 1000\n",
    "A = np.array([[0.9, 0.08], [0.1, 0.92] ])\n",
    "b = np.array([0.5*MA,0.5*MA])\n",
    "np.linalg.solve(A,b)"
   ]
  },
  {
   "cell_type": "markdown",
   "id": "2a5640f1",
   "metadata": {
    "slideshow": {
     "slide_type": "fragment"
    }
   },
   "source": [
    "## Exemplo 3"
   ]
  },
  {
   "cell_type": "markdown",
   "id": "94c2fe39",
   "metadata": {
    "slideshow": {
     "slide_type": "fragment"
    }
   },
   "source": [
    "Uma equação química balanceada é aquela onde o número de cada átomo nos reagentes é igual nos produtos.\n",
    "Por exemplo, a reação $2H_2 + O_2 \\rightarrow 2H_2O$ encontra-se na forma balanceada.\n",
    "\n",
    "Encontre o balanceamento mínimo para a seguinte equação:\n",
    "\n",
    "$\n",
    "C_5H_{11}OH + O_2 \\rightarrow H_2O + CO_2\n",
    "$"
   ]
  },
  {
   "cell_type": "markdown",
   "id": "2c5ff940",
   "metadata": {
    "slideshow": {
     "slide_type": "fragment"
    }
   },
   "source": [
    "## Solução:\n",
    "\n",
    "O vetor de incógnitas será descrito usando a equação $a\\cdot C_5H_{11}OH + b\\cdot O_2 - c\\cdot H_2O - d\\cdot CO_2 = 0$.\n",
    "\n",
    "Assim teremos para o carbono:\n",
    "\n",
    "$\n",
    "5a - d = 0\n",
    "$\n",
    "\n",
    "Para o hidrogênio:\n",
    "\n",
    "$\n",
    "12a - 2c  = 0\n",
    "$\n",
    "\n",
    "e para o oxigênio:\n",
    "\n",
    "$\n",
    "a + 2b - c -2d = 0\n",
    "$\n",
    "\n",
    "e o vetor de incógnitas será:\n",
    "\n",
    "$\n",
    "x = \\begin{bmatrix} a \\\\ b \\\\ c \\\\ d \\end{bmatrix}\n",
    "$\n",
    "\n",
    "Observe que temos 3 equações e 4 incógnitas.\n",
    "Isto ocorre porque qualquer múltiplo da solução encontrada também satisfaz o sistema.\n",
    "Podemos então arbitrar um valor para uma das variáveis e depois ajustar o resultado de forma a obter valores inteiros.\n",
    "\n",
    "Neste exemplo, vamos fazer $d = 1$ e o nosso sistema ficará como:\n",
    "\n",
    "\\begin{aligned}\n",
    "5a = 1 \\\\\n",
    "12a - 2c = 0 \\\\\n",
    "a + 2b - c = 2\n",
    "\\end{aligned}\n",
    "\n",
    "e as matrizes correspondentes serão:\n",
    "\n",
    "$\n",
    "A = \\begin{bmatrix}\n",
    "5 &  0 & 0 \\\\\n",
    "12 & 0 & -2 \\\\\n",
    "1 & 2 & -1\n",
    "\\end{bmatrix}\n",
    "$\n",
    "\n",
    "$\n",
    "b = \\begin{bmatrix} 1 \\\\ 0 \\\\ 2 \\end{bmatrix}\n",
    "$"
   ]
  },
  {
   "cell_type": "code",
   "execution_count": 5,
   "id": "e229eed9",
   "metadata": {
    "slideshow": {
     "slide_type": "fragment"
    }
   },
   "outputs": [
    {
     "data": {
      "text/plain": [
       "array([ 2., 15., 12.])"
      ]
     },
     "execution_count": 5,
     "metadata": {},
     "output_type": "execute_result"
    }
   ],
   "source": [
    "import numpy as np\n",
    "A = np.array([[5, 0, 0], [12, 0, -2], [1, 2, -1]])\n",
    "b = np.array([1,0,2])\n",
    "10*np.linalg.solve(A,b)"
   ]
  },
  {
   "cell_type": "markdown",
   "id": "e16e1103",
   "metadata": {
    "slideshow": {
     "slide_type": "fragment"
    }
   },
   "source": [
    "## Exemplo 4"
   ]
  },
  {
   "cell_type": "markdown",
   "id": "f0f678f7",
   "metadata": {
    "slideshow": {
     "slide_type": "fragment"
    }
   },
   "source": [
    "<img src=\"figuras/sistemas_lineares_exemplo2.svg\" width=\"300\"/>"
   ]
  },
  {
   "cell_type": "markdown",
   "id": "06d49ecd",
   "metadata": {
    "slideshow": {
     "slide_type": "fragment"
    }
   },
   "source": [
    "Considere uma rede composta por 3 nós, $A$, $B$ e $C$.\n",
    "Em cada um dos nós temos fluxos entrando e/ou saindo, conforme figura acima.\n",
    "Determine os fluxos desconhecidos ($f_1$, $f_2$ e $f_3$) para o problema acima."
   ]
  },
  {
   "cell_type": "markdown",
   "id": "7b1d1e5d",
   "metadata": {
    "slideshow": {
     "slide_type": "fragment"
    }
   },
   "source": [
    "## Solução\n",
    "\n",
    "Podemos escrever para cada nó uma equação contendo os fluxos que entram e os fluxos que saem:\n",
    "\n",
    "Para o nó A:\n",
    "\n",
    "$\n",
    "10 + 5 = f_1 + f_2\n",
    "$\n",
    "\n",
    "Para o nó B:\n",
    "\n",
    "$\n",
    "f_1 = 10 + 3\n",
    "$\n",
    "\n",
    "e para o nó C:\n",
    "\n",
    "$\n",
    "f_2 + 3 + 5 = f_3\n",
    "$\n",
    "\n",
    "De forma mais compacta, podemos representar o problema como:\n",
    "\n",
    "\\begin{aligned}\n",
    "f_1 + f_2 = 15 \\\\\n",
    "f_1 = 13 \\\\\n",
    "f_2 - f_3 = -8 \\\\\n",
    "\\end{aligned}\n",
    "\n",
    "o que nos leva às matrizes:\n",
    "\n",
    "$\n",
    "A = \n",
    "\\begin{bmatrix}\n",
    "1 & 1 & 0 \\\\\n",
    "1 & 0 & 0 \\\\\n",
    "0 & 1 & -1 \n",
    "\\end{bmatrix}\n",
    "$\n",
    "\n",
    "e\n",
    "\n",
    "$\n",
    "b = \n",
    "\\begin{bmatrix}\n",
    "15 \\\\ 13 \\\\ -8\n",
    "\\end{bmatrix}\n",
    "$\n"
   ]
  },
  {
   "cell_type": "code",
   "execution_count": 14,
   "id": "eb85eef3",
   "metadata": {
    "slideshow": {
     "slide_type": "fragment"
    }
   },
   "outputs": [
    {
     "data": {
      "text/plain": [
       "array([13.,  2., 10.])"
      ]
     },
     "execution_count": 14,
     "metadata": {},
     "output_type": "execute_result"
    }
   ],
   "source": [
    "import numpy as np\n",
    "A = np.array([[1, 1, 0], [1, 0, 0], [0, 1, -1]])\n",
    "b = np.array([15,13,-8])\n",
    "np.linalg.solve(A,b)"
   ]
  },
  {
   "cell_type": "markdown",
   "id": "dd87ea56-a46a-491f-b3f3-199ef03b0943",
   "metadata": {},
   "source": [
    "# Exercício"
   ]
  },
  {
   "cell_type": "markdown",
   "id": "cda118fc-6344-4ae5-a4ce-733f2b8fc5f0",
   "metadata": {},
   "source": [
    "https://repositorio.ufrn.br/bitstream/123456789/25982/1/MatrizesSistemasFatoracao_Vicente_2017.pdf\n",
    "\n",
    "Cláudio usou apenas notas de R\\\\$ 20,00 e de R\\\\$ 5,00 para fazer um pagamento de R\\\\$ 140,00. \n",
    "Quantas notas de cada tipo ele usou, sabendo que no total foram utilizadas 10 notas?\n",
    "\n",
    "Modele o problema como um sistema linear.\n",
    "Em seguida, resolva-o utilizando as funções da bibilioteca `numpy.linalg`"
   ]
  },
  {
   "cell_type": "code",
   "execution_count": null,
   "id": "b73b63d1-e95e-4639-8267-d3b3dc91aa4a",
   "metadata": {},
   "outputs": [],
   "source": []
  },
  {
   "cell_type": "markdown",
   "id": "dedf9df2-e72d-4e75-afa6-d62f829d8934",
   "metadata": {},
   "source": [
    "# Exercício"
   ]
  },
  {
   "cell_type": "markdown",
   "id": "cf450c66-b43c-4226-9dd9-e4e1c6017b45",
   "metadata": {},
   "source": [
    "Determine a resolução do sistema linear $Ax = b$ onde:\n",
    "\n",
    "$\n",
    "A = \n",
    "\\begin{bmatrix}\n",
    "0 & 1 & 2 & 3 \\\\\n",
    "0 & -1 & 2 & 2 \\\\\n",
    "1 & 0 & 0 & 2 \\\\\n",
    "2 & -1 & 0 & 1\n",
    "\\end{bmatrix}\n",
    "$\n",
    "\n",
    "e\n",
    "\n",
    "$\n",
    "b = \n",
    "\\begin{bmatrix}\n",
    "5 \\\\ 1 \\\\ 4 \\\\ 1\n",
    "\\end{bmatrix}\n",
    "$"
   ]
  },
  {
   "cell_type": "code",
   "execution_count": null,
   "id": "2f3059fa-f09d-4b3a-aa77-985cd3917dd6",
   "metadata": {},
   "outputs": [],
   "source": []
  },
  {
   "cell_type": "markdown",
   "id": "7331949f-ac52-43b6-9133-6a66cac30b39",
   "metadata": {},
   "source": [
    "Determine a resolução do sistema linear $Ax = b$ onde:\n",
    "\n",
    "$\n",
    "A = \n",
    "\\begin{bmatrix}\n",
    "0 & 1 & 2 & 3 \\\\\n",
    "0 & -1 & 2 & 2 \\\\\n",
    "0 & 0 & 4 & 5 \\\\\n",
    "2 & -1 & 0 & 1\n",
    "\\end{bmatrix}\n",
    "$\n",
    "\n",
    "e\n",
    "\n",
    "$\n",
    "b = \n",
    "\\begin{bmatrix}\n",
    "5 \\\\ 1 \\\\ 0 \\\\ 1\n",
    "\\end{bmatrix}\n",
    "$"
   ]
  },
  {
   "cell_type": "code",
   "execution_count": null,
   "id": "bf2bdbd2-7c57-4abf-84c8-f0b49e5d9940",
   "metadata": {},
   "outputs": [],
   "source": []
  },
  {
   "cell_type": "markdown",
   "id": "b6fd6f1c-8de1-4e70-aa71-58a62a55635e",
   "metadata": {},
   "source": [
    "Determine a resolução do sistema linear $Ax = b$ onde:\n",
    "\n",
    "$\n",
    "A = \n",
    "\\begin{bmatrix}\n",
    "0 & 1 & 2 & 3 \\\\\n",
    "0 & -1.5 & 2 & 2 \\\\\n",
    "0 & -0.5 & 4 & 5 \\\\\n",
    "2 & -1 & 0 & 1\n",
    "\\end{bmatrix}\n",
    "$\n",
    "\n",
    "e\n",
    "\n",
    "$\n",
    "b = \n",
    "\\begin{bmatrix}\n",
    "5 \\\\ 1 \\\\ 0 \\\\ 1\n",
    "\\end{bmatrix}\n",
    "$"
   ]
  },
  {
   "cell_type": "code",
   "execution_count": null,
   "id": "f27fa1c0-0bf9-4746-9e35-7bc2c7eaf211",
   "metadata": {},
   "outputs": [],
   "source": []
  },
  {
   "cell_type": "markdown",
   "id": "168b92e8-a4f0-4258-8c5b-6ff344db75a4",
   "metadata": {},
   "source": [
    "# Exercício"
   ]
  },
  {
   "cell_type": "markdown",
   "id": "61b2350c-28c5-4d32-81eb-931a3d8b1679",
   "metadata": {},
   "source": [
    "<img src=\"data:image/png;base64,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\" width=\"400\"/>"
   ]
  },
  {
   "cell_type": "markdown",
   "id": "9e3de1ad-adc1-4380-9555-6c543a3c4794",
   "metadata": {},
   "source": [
    "CHAPRA - Exercício 9.9\n",
    "\n",
    "Considere 3 reatores interligados por tubos. Como indicado, a taxa de transferência de produtos químicos através de cada tubo é igual a uma vazão ($Q$, com unidade de metros cúbicos por segundo) multiplicada pela concentração do reator do qual o fluxo se origina ($c$, com unidades em miligramas por metro cúbico). Se o sistema estiver em um estado estacionário, a transferência para dentro de cada reator vai balancear a transferência para fora. Deduza equações de balanço de massa para os reatores e resolva as três equações lineares algébricas simultâneas para suas concentrações."
   ]
  },
  {
   "cell_type": "markdown",
   "id": "3d040d9b-0ad3-416c-a424-80154e5beddb",
   "metadata": {},
   "source": [
    "## Resolução"
   ]
  },
  {
   "cell_type": "markdown",
   "id": "5e83ddc3-7213-4923-9faf-f0fcb372f72f",
   "metadata": {},
   "source": [
    "No estado estacionário sabemos que $\\sum entradas = \\sum saídas$.\n",
    "\n",
    "Em cada reator temos uma vazão de volume entrando e saindo ($Q$) no qual encontra-se dissolvido uma substância com concentração $c$.\n",
    "A massa de substância que entra ou sai é dado pelo produto $Q\\cdot c$.\n",
    "\n",
    "O valor $Q_{ij}$ representa a vazão entre os reatores $i$ e $j$.\n",
    "\n",
    "Por exemplo, a taxa de massa que entra no reator $1$ é igual à $Q_{21}c_{2} + 200$.\n",
    "\n",
    "Da mesma forma, a taxa de massa que sai do reator $1$ é igual à $Q_{13}c_{1} + Q_{12}c_{1}$.\n",
    "\n",
    "Assim, aplicando o conceito de balanço de massa, temos que:\n",
    "\n",
    "$Q_{21}c_{2} + 200 = Q_{13}c_{1} + Q_{12}c_{1}$.\n"
   ]
  },
  {
   "cell_type": "code",
   "execution_count": null,
   "id": "7525e218-e6f1-4791-bcc6-9071326cdc00",
   "metadata": {},
   "outputs": [],
   "source": []
  },
  {
   "cell_type": "markdown",
   "id": "6b3e5aef",
   "metadata": {
    "slideshow": {
     "slide_type": "slide"
    }
   },
   "source": [
    "# Método de Eliminação de Gauss"
   ]
  },
  {
   "cell_type": "markdown",
   "id": "7c12e0e6-59df-49b9-a465-8315704e6cef",
   "metadata": {},
   "source": [
    "Considere um sistema linear $Ax = b$."
   ]
  },
  {
   "cell_type": "markdown",
   "id": "c81018c2",
   "metadata": {
    "slideshow": {
     "slide_type": "fragment"
    }
   },
   "source": [
    "Vamos considerar a matriz aumentada, concatenando a matriz A com o vetor b:\n",
    "\n",
    "$\n",
    "Ab = \\begin{bmatrix}\n",
    "a_{11} & a_{12} & \\ldots & a_{1n} & b_1 \\\\\n",
    "a_{21} & a_{22} & \\ldots & a_{2n} & b_2 \\\\\n",
    "\\vdots \\\\\n",
    "a_{n1} & a_{n2} & \\ldots & a_{nn} & b_n \n",
    "\\end{bmatrix}\n",
    "$\n",
    "\n",
    "e vamos considerar uma linha qualquer:\n",
    "\n",
    "$[a_i] = \\begin{bmatrix}\n",
    "a_{i1} & a_{i2} & \\ldots & a_{in} & b_i \\end{bmatrix}$\n",
    "\n",
    "O método de Eliminação de Gauss se baseia na propriedade de que, se trocarmos a linha $i$ por:\n",
    "\n",
    "$[a'_i] = [a_i] + c[a_j]$\n",
    "\n",
    "a nova matriz continua tendo a **mesma resposta** que a matriz anterior."
   ]
  },
  {
   "cell_type": "markdown",
   "id": "1f1d2742-cbe2-4374-b740-d68b6b71302f",
   "metadata": {},
   "source": [
    "## Zerando a primeira coluna"
   ]
  },
  {
   "cell_type": "markdown",
   "id": "acf07fd1",
   "metadata": {
    "slideshow": {
     "slide_type": "fragment"
    }
   },
   "source": [
    "Com base nesta propriedade, é possível achar uma matriz equivalente contendo zeros em todos os elementos da primeira coluna abaixo do elemento $a_{11}$:\n",
    "\n",
    "$\n",
    "Ab' = \\begin{bmatrix}\n",
    "a_{11} & a_{12} & a'_{13} & \\ldots & a_{1n} & b_1 \\\\\n",
    "0 & a'_{22} & a'_{23} & \\ldots & a'_{2n} & b'_2 \\\\\n",
    "0 & a'_{32} & a'_{33} & \\ldots & a'_{3n} & b'_3 \\\\\n",
    "\\vdots \\\\\n",
    "0 & a'_{n2} & a'_{n3} &\\ldots & a'_{nn} & b'_n \n",
    "\\end{bmatrix}\n",
    "$\n",
    "\n",
    "Para isso, basta escolhermos o valor $c_i = -a_{i1}/a_{11}$ e realizarmos a operação:\n",
    "\n",
    "$[a'_i] = [a_i] + c_i[a_1]$ para todas as linhas a partir da segunda.\n"
   ]
  },
  {
   "cell_type": "markdown",
   "id": "ed33ad03-d64b-41ce-ab05-1245ac99ad74",
   "metadata": {},
   "source": [
    "## Zerando a segunda coluna\n",
    "\n",
    "Da mesma forma, para zerarmos a segunda coluna, escolhemos o elemento $a'_{22}$ como pivô e o valor de $c_i$ é dado por $c_i = -a'_{i2}/a'_{22}$.\n",
    "\n",
    "$\n",
    "Ab' = \\begin{bmatrix}\n",
    "a_{11} & a_{12} & a'_{13} & \\ldots & a_{1n} & b_1 \\\\\n",
    "0 & a'_{22} & a'_{23} & \\ldots & a'_{2n} & b'_2 \\\\\n",
    "0 & 0 & a''_{33} & \\ldots & a''_{3n} & b''_3 \\\\\n",
    "\\vdots \\\\\n",
    "0 & 0 & a''_{n3} &\\ldots & a''_{nn} & b''_n \n",
    "\\end{bmatrix}\n",
    "$\n"
   ]
  },
  {
   "cell_type": "markdown",
   "id": "dc76f46f-e2f3-48cd-8a13-03abdd30684a",
   "metadata": {},
   "source": [
    "## Zerando as demais colunas\n",
    "\n",
    "Realizando esta mesma operação para as outras colunas, obtemos uma matriz triangular superior conforme abaixo (omitimos o índice superior, por simplicidade):\n",
    "\n",
    "$\n",
    "Ab' = \\begin{bmatrix}\n",
    "a_{11} & a_{12} & a'_{13} & \\ldots & a_{1n} & b_1 \\\\\n",
    "0 & a'_{22} & a'_{23} & \\ldots & a'_{2n} & b'_2 \\\\\n",
    "0 & 0 & a'_{33} & \\ldots & a'_{3n} & b'_3 \\\\\n",
    "\\vdots \\\\\n",
    "0 & 0 & 0 &\\ldots & a'_{nn} & b'_n \n",
    "\\end{bmatrix}\n",
    "$"
   ]
  },
  {
   "cell_type": "markdown",
   "id": "63bc6df2-638c-46be-b48f-9217c1e24ad9",
   "metadata": {},
   "source": [
    "## Determinando o X"
   ]
  },
  {
   "cell_type": "markdown",
   "id": "b68d1b4c",
   "metadata": {
    "slideshow": {
     "slide_type": "fragment"
    }
   },
   "source": [
    "Em seguida, podemos avançar **em ordem reversa**, da última linha até a primeira, para determinar os valores de $x$ usando a fórmula:\n",
    "\n",
    "$\n",
    "x_n = b'_n/a'_{nn}\n",
    "$ para o último elemento\n",
    "\n",
    "e\n",
    "\n",
    "$\n",
    "x_i = \\dfrac{b'_i - \\sum\\limits_{j=i+1}^n a'_{ij}x_j}{a'_{ii}}\n",
    "$\n",
    "\n",
    "para os demais.\n"
   ]
  },
  {
   "cell_type": "markdown",
   "id": "603f950a",
   "metadata": {
    "slideshow": {
     "slide_type": "fragment"
    }
   },
   "source": [
    "## Exemplo:\n",
    "\n",
    "Segue o sistema linear:\n",
    "\n",
    "$\n",
    "\\begin{bmatrix}\n",
    "1 & 3 & 4 \\\\\n",
    "2 & 5 & 1 \\\\\n",
    "3 & 6 & 9\n",
    "\\end{bmatrix}\n",
    "\\begin{bmatrix}\n",
    "x_1 \\\\  x_2 \\\\ x_3\n",
    "\\end{bmatrix}\n",
    "=\n",
    "\\begin{bmatrix}\n",
    "-4 \\\\ 6 \\\\ 12\n",
    "\\end{bmatrix}\n",
    "$"
   ]
  },
  {
   "cell_type": "markdown",
   "id": "92e2ed42",
   "metadata": {
    "slideshow": {
     "slide_type": "fragment"
    }
   },
   "source": [
    "Vamos criar a matriz aumentada:\n",
    "\n",
    "$\n",
    "Ab = \n",
    "\\begin{bmatrix}\n",
    "1 & 3 & 4 & -4\\\\\n",
    "2 & 5 & 1 & 6\\\\\n",
    "3 & 6 & 9 & 12\n",
    "\\end{bmatrix}\n",
    "$"
   ]
  },
  {
   "cell_type": "code",
   "execution_count": 66,
   "id": "9da52328",
   "metadata": {},
   "outputs": [
    {
     "name": "stdout",
     "output_type": "stream",
     "text": [
      "[[ 1.  3.  4. -4.]\n",
      " [ 2.  5.  1.  6.]\n",
      " [ 3.  6.  9. 12.]] \n",
      "\n",
      "[[ 1.  3.  4. -4.]\n",
      " [ 0. -1. -7. 14.]\n",
      " [ 0. -3. -3. 24.]]\n",
      "[[  1.   3.   4.  -4.]\n",
      " [  0.  -1.  -7.  14.]\n",
      " [  0.   0.  18. -18.]]\n"
     ]
    }
   ],
   "source": [
    "import numpy as np\n",
    "A = np.array([ [2.,3.,5.] , [1.,2.,-1.] , [-1.,-2.,3.] ])\n",
    "b = np.array([[0., 1., 5.]])\n",
    "\n",
    "A = np.array([ [1.,3.,4.] , [2.,5.,1.] , [3.,6.,9.] ])\n",
    "b = np.array([[-4., 6., 12.]])\n",
    "\n",
    "Ab = np.concatenate( (A, b.T), axis=1)\n",
    "print(Ab, '\\n')\n",
    "\n",
    "pivo = 0\n",
    "linha = pivo + 1\n",
    "c = -Ab[linha,pivo]/Ab[pivo,pivo]\n",
    "Ab[linha,:] = Ab[linha,:] + c*Ab[pivo,:]\n",
    "\n",
    "linha += 1\n",
    "c = -Ab[linha,pivo]/Ab[pivo,pivo]\n",
    "Ab[linha,:] = Ab[linha,:] + c*Ab[pivo,:]\n",
    "\n",
    "print(Ab)\n",
    "\n",
    "pivo = 1\n",
    "linha = pivo + 1\n",
    "c = -Ab[linha,pivo]/Ab[pivo,pivo]\n",
    "Ab[linha,:] = Ab[linha,:] + c*Ab[pivo,:]\n",
    "\n",
    "print(Ab)"
   ]
  },
  {
   "cell_type": "code",
   "execution_count": 64,
   "id": "f4b0bc5c",
   "metadata": {},
   "outputs": [
    {
     "name": "stdout",
     "output_type": "stream",
     "text": [
      "-1.0 -7.0 21.0\n"
     ]
    }
   ],
   "source": [
    "x3 = Ab[2,3]/Ab[2,2]\n",
    "x2 = (Ab[1,3] - x3*Ab[1,2])/Ab[1,1]\n",
    "x1 = (Ab[0,3] - x2*Ab[0,1] - x3*Ab[0,2])/Ab[0,0]\n",
    "print(x3,x2,x1)"
   ]
  },
  {
   "cell_type": "markdown",
   "id": "6a2921c6",
   "metadata": {
    "slideshow": {
     "slide_type": "fragment"
    }
   },
   "source": [
    "No primeiro passo da eliminação de Gauss, vamos escolher o elemento $a_{11} = 1$ como pivo.\n",
    "\n",
    "Vamos realizar a operação $[a_2] = [a_2] -a_{21}/a_{11}[a_1]$:\n",
    "\n",
    "$\n",
    "Ab = \n",
    "\\begin{bmatrix}\n",
    "1 & 3 & 4 & -4\\\\\n",
    "0 & -1 & -7 & 14\\\\\n",
    "3 & 6 & 9 & 12\n",
    "\\end{bmatrix}\n",
    "$"
   ]
  },
  {
   "cell_type": "markdown",
   "id": "3829a098",
   "metadata": {
    "slideshow": {
     "slide_type": "fragment"
    }
   },
   "source": [
    "Vamos realizar a operação $[a_3] = [a_3] -a_{31}/a_{11}[a_1]$:\n",
    "\n",
    "$\n",
    "Ab = \n",
    "\\begin{bmatrix}\n",
    "1 & 3 & 4 & -4\\\\\n",
    "0 & -1 & -7 & 14\\\\\n",
    "0 & -3 & -3 & 24\n",
    "\\end{bmatrix}\n",
    "$"
   ]
  },
  {
   "cell_type": "markdown",
   "id": "4c8bcb60",
   "metadata": {
    "slideshow": {
     "slide_type": "fragment"
    }
   },
   "source": [
    "Avançamos para a segunda coluna.\n",
    "Vamos escolher o elemento $a_{22} = -1$ como pivô.\n",
    "\n",
    "Vamos realizar a operação $[a_3] = [a_3] -a_{31}/a_{22}[a_3]$:\n",
    "\n",
    "$\n",
    "Ab = \n",
    "\\begin{bmatrix}\n",
    "1 & 3 & 4 & -4\\\\\n",
    "0 & -1 & -7 & 14\\\\\n",
    "0 & 0 & 18 & -18\n",
    "\\end{bmatrix}\n",
    "$"
   ]
  },
  {
   "cell_type": "markdown",
   "id": "f5af85dc",
   "metadata": {
    "slideshow": {
     "slide_type": "fragment"
    }
   },
   "source": [
    "Agora, vamos realizar a operação, começando pela última linha:\n",
    "\n",
    "$\n",
    "x_i = \\dfrac{b'_i - \\sum\\limits_{j=i+1}^n a'_{ij}x_j}{a'_{ii}}\n",
    "$"
   ]
  },
  {
   "cell_type": "markdown",
   "id": "88c0ae3d",
   "metadata": {
    "slideshow": {
     "slide_type": "fragment"
    }
   },
   "source": [
    "$x_3 = \\dfrac{-18 - 0}{18} = -1$"
   ]
  },
  {
   "cell_type": "markdown",
   "id": "386d339a",
   "metadata": {
    "slideshow": {
     "slide_type": "fragment"
    }
   },
   "source": [
    "$x_2 = \\dfrac{14 -(-7)(-1)}{-1} = -7$"
   ]
  },
  {
   "cell_type": "markdown",
   "id": "da2ffd64",
   "metadata": {
    "slideshow": {
     "slide_type": "fragment"
    }
   },
   "source": [
    "$x_1 = \\dfrac{-4 -(3\\cdot (-7) + 4\\cdot (-1))}{1} = 21$"
   ]
  },
  {
   "cell_type": "code",
   "execution_count": 67,
   "id": "9dd8bff4",
   "metadata": {
    "slideshow": {
     "slide_type": "fragment"
    }
   },
   "outputs": [
    {
     "name": "stdout",
     "output_type": "stream",
     "text": [
      "\n",
      " [[ 1.  3.  4. -4.]\n",
      " [ 2.  5.  1.  6.]\n",
      " [ 3.  6.  9. 12.]]\n",
      "\n",
      " [[ 1.  3.  4. -4.]\n",
      " [ 0. -1. -7. 14.]\n",
      " [ 3.  6.  9. 12.]]\n",
      "\n",
      " [[ 1.  3.  4. -4.]\n",
      " [ 0. -1. -7. 14.]\n",
      " [ 0. -3. -3. 24.]]\n",
      "\n",
      " [[  1.   3.   4.  -4.]\n",
      " [  0.  -1.  -7.  14.]\n",
      " [  0.   0.  18. -18.]]\n"
     ]
    }
   ],
   "source": [
    "import numpy as np\n",
    "np.set_printoptions(suppress=True)\n",
    "A = np.array([[1.0, 3, 4] , [2, 5, 1], [3, 6, 9]])\n",
    "b = np.array([[-4, 6, 12]]).T\n",
    "\n",
    "Ab = np.concatenate((A, b), axis=1)\n",
    "print('\\n',Ab)\n",
    "\n",
    "PIVO = 0\n",
    "LIN = 1\n",
    "\n",
    "C = -Ab[LIN,PIVO]/Ab[PIVO,PIVO]\n",
    "Ab[LIN,:] = Ab[LIN,:] + C*Ab[PIVO,:] \n",
    "print('\\n',Ab)\n",
    "\n",
    "LIN = 2\n",
    "\n",
    "C = -Ab[LIN,PIVO]/Ab[PIVO,PIVO]\n",
    "Ab[LIN,:] = Ab[LIN,:] + C*Ab[PIVO,:] \n",
    "print('\\n',Ab)\n",
    "\n",
    "PIVO = 1\n",
    "LIN = 2\n",
    "\n",
    "C = -Ab[LIN,PIVO]/Ab[PIVO,PIVO]\n",
    "Ab[LIN,:] = Ab[LIN,:] + C*Ab[PIVO,:] \n",
    "print('\\n',Ab)"
   ]
  },
  {
   "cell_type": "markdown",
   "id": "abb8a8e2",
   "metadata": {
    "slideshow": {
     "slide_type": "fragment"
    }
   },
   "source": [
    "Em seguida, podemos calcular os valores de $x_i$ usando a fórmula:\n",
    "\n",
    "$\n",
    "x_i = \\dfrac{b'_i - \\sum\\limits_{j=i+1}^n a'_{ij}x_j}{a'_{ii}}\n",
    "$"
   ]
  },
  {
   "cell_type": "code",
   "execution_count": 68,
   "id": "b7e4a05a",
   "metadata": {
    "slideshow": {
     "slide_type": "fragment"
    }
   },
   "outputs": [
    {
     "name": "stdout",
     "output_type": "stream",
     "text": [
      "[21. -7. -1.]\n",
      "[[21.]\n",
      " [-7.]\n",
      " [-1.]]\n"
     ]
    }
   ],
   "source": [
    "n = np.shape(A)[0]\n",
    "x = np.zeros(n)\n",
    "for i in reversed(range(n)):\n",
    "    b_i = Ab[i,n]\n",
    "    a_ii = Ab[i,i]\n",
    "    soma = np.dot(Ab[i,i+1:n], x[i+1:n])\n",
    "    #s = 0\n",
    "    #for j in range(i+1,n):\n",
    "    #    s += Ab[i,j]*x[j]\n",
    "    x[i] = (b_i - soma)/a_ii\n",
    "print(x)\n",
    "\n",
    "# Comparando com o resultado obtido pela função existente no python:\n",
    "r = np.linalg.solve(A,b)\n",
    "print(r)"
   ]
  },
  {
   "cell_type": "markdown",
   "id": "0bce0fb8",
   "metadata": {
    "slideshow": {
     "slide_type": "fragment"
    }
   },
   "source": [
    "Vamos agora juntar o código em uma única função:"
   ]
  },
  {
   "cell_type": "code",
   "execution_count": 75,
   "id": "992e4ba9",
   "metadata": {
    "slideshow": {
     "slide_type": "fragment"
    }
   },
   "outputs": [
    {
     "data": {
      "text/plain": [
       "array([21.0000, -7.0000, -1.0000])"
      ]
     },
     "execution_count": 75,
     "metadata": {},
     "output_type": "execute_result"
    }
   ],
   "source": [
    "np.set_printoptions(precision=4, suppress=True)\n",
    "def gauss(A, b):\n",
    "    n = np.shape(A)[0]\n",
    "    Ab = np.concatenate((A, b), axis=1)\n",
    "\n",
    "    for PIVO in range(n):\n",
    "        for LIN in range(PIVO+1, n):\n",
    "            C = -Ab[LIN,PIVO]/Ab[PIVO,PIVO]\n",
    "            Ab[LIN,:] = Ab[LIN,:] + C*Ab[PIVO,:]\n",
    "    #print(Ab)\n",
    "    x = np.zeros(n)\n",
    "    for i in reversed(range(n)):\n",
    "        b_i = Ab[i,n]\n",
    "        a_ii = Ab[i,i]\n",
    "        soma = np.dot(Ab[i,i+1:n], x[i+1:n])\n",
    "        x[i] = (b_i - soma)/a_ii\n",
    "    return x\n",
    "\n",
    "gauss(A,b)"
   ]
  },
  {
   "cell_type": "markdown",
   "id": "96874a42",
   "metadata": {
    "slideshow": {
     "slide_type": "slide"
    }
   },
   "source": [
    "## Eliminação de Gaus com pivoteamento parcial"
   ]
  },
  {
   "cell_type": "markdown",
   "id": "5ed096c2",
   "metadata": {
    "slideshow": {
     "slide_type": "fragment"
    }
   },
   "source": [
    "Resolva o seguinte sistema linear:\n",
    "\n",
    "$\n",
    "\\begin{bmatrix}\n",
    "10^{-16} & 1 \\\\ 1 & 1\n",
    "\\end{bmatrix}\n",
    "\\begin{bmatrix}\n",
    "x_1 \\\\ x_2\n",
    "\\end{bmatrix}\n",
    "=\n",
    "\\begin{bmatrix} 1 \\\\ 2 \\end{bmatrix}\n",
    "$"
   ]
  },
  {
   "cell_type": "markdown",
   "id": "6f7b2ae3",
   "metadata": {
    "slideshow": {
     "slide_type": "fragment"
    }
   },
   "source": [
    "Resposta analítica:\n",
    "\n",
    "\\begin{aligned}\n",
    "x_1 = 1 + \\dfrac{1}{10^{16}-1}  \\\\ \n",
    "x_2 = 1 - \\dfrac{1}{10^{16}-1}  \n",
    "\\end{aligned}\n"
   ]
  },
  {
   "cell_type": "code",
   "execution_count": 80,
   "id": "e0cb1662",
   "metadata": {
    "slideshow": {
     "slide_type": "fragment"
    }
   },
   "outputs": [
    {
     "name": "stdout",
     "output_type": "stream",
     "text": [
      "[1.0000000000000000000 1.0000000000000000000]\n",
      "[[1.0000000000000000000 1.0000000000000000000]]\n"
     ]
    }
   ],
   "source": [
    "import numpy as np\n",
    "np.set_printoptions(precision=19,floatmode='fixed')\n",
    "A1 = np.array([[10**(-17), 1], [1,1]])\n",
    "b1 = np.array([[1,2]]).T\n",
    "#gauss(A1,b1)\n",
    "print(gauss_pivoteamento(A1,b1))\n",
    "print(np.linalg.solve(A1, b1).T)"
   ]
  },
  {
   "cell_type": "markdown",
   "id": "c10d2850",
   "metadata": {
    "slideshow": {
     "slide_type": "fragment"
    }
   },
   "source": [
    "Como visto anteriormente, o método de eliminação de Gauss sofre com problemas quando o elemento pivo é igual a zero ou próximo dele. \n",
    "Neste caso, podemos trocar a linha do pivoteamento por outra qualquer.\n",
    "Geralmente escolhe-se trocar pela linha que tem o maior elemento."
   ]
  },
  {
   "cell_type": "code",
   "execution_count": 79,
   "id": "8a596e78",
   "metadata": {
    "slideshow": {
     "slide_type": "fragment"
    }
   },
   "outputs": [
    {
     "data": {
      "text/plain": [
       "array([ 4.0000000000000000000,  8.0000000000000000000,\n",
       "       -2.0000000000000000000])"
      ]
     },
     "execution_count": 79,
     "metadata": {},
     "output_type": "execute_result"
    }
   ],
   "source": [
    "def gauss_pivoteamento(A, b):\n",
    "    n = np.shape(A)[0]\n",
    "    Ab = np.concatenate((A, b), axis=1)\n",
    "\n",
    "    for PIVO in range(n):\n",
    "        amax = np.argmax(abs(Ab[PIVO:,PIVO]))\n",
    "        \n",
    "        if amax != 0:\n",
    "            # trocando 2 linha de posicao:\n",
    "            Ab[np.array([PIVO,amax+PIVO])] = Ab[np.array([amax+PIVO,PIVO])]\n",
    "        \n",
    "        for LIN in range(PIVO+1, n):            \n",
    "            C = -Ab[LIN,PIVO]/Ab[PIVO,PIVO]\n",
    "            Ab[LIN,:] = Ab[LIN,:] + C*Ab[PIVO,:]\n",
    "\n",
    "    x = np.zeros(n)\n",
    "    for i in reversed(range(n)):\n",
    "        b_i = Ab[i,n]\n",
    "        a_ii = Ab[i,i]\n",
    "        soma = np.dot(Ab[i,i+1:n], x[i+1:n])\n",
    "        x[i] = (b_i - soma)/a_ii\n",
    "    return x\n",
    "\n",
    "A = np.array([[2.0, -6.0, -1.0] , [-3.0, -1.0, 7.0], [-8.0, 1.0, -2.0]])\n",
    "b = np.array([[-38, -34, -20]]).T\n",
    "\n",
    "gauss_pivoteamento(A,b)\n",
    "#np.linalg.solve(A,b)"
   ]
  },
  {
   "cell_type": "code",
   "execution_count": 27,
   "id": "c6a7cbb5",
   "metadata": {
    "slideshow": {
     "slide_type": "fragment"
    }
   },
   "outputs": [
    {
     "name": "stdout",
     "output_type": "stream",
     "text": [
      "[1.00000000000000000000 0.99999999999999988898]\n",
      "[[1.00000000000000000000 0.99999999999999988898]]\n"
     ]
    }
   ],
   "source": [
    "np.set_printoptions(precision=20,floatmode='fixed')\n",
    "A1 = np.array([[10**(-16), 1], [1,1]])\n",
    "b1 = np.array([[1,2]]).T\n",
    "print(gauss_pivoteamento(A1,b1))\n",
    "print(np.linalg.solve(A1, b1).T)"
   ]
  },
  {
   "cell_type": "markdown",
   "id": "a5d3b388",
   "metadata": {
    "slideshow": {
     "slide_type": "slide"
    }
   },
   "source": [
    "## Sistema tridiagonal"
   ]
  },
  {
   "cell_type": "markdown",
   "id": "df631b01",
   "metadata": {
    "slideshow": {
     "slide_type": "fragment"
    }
   },
   "source": [
    "Um sistema é chamado de tridiagonal quando tem o seguinte formato:\n",
    "\n",
    "$\n",
    "\\begin{bmatrix}\n",
    "f_1 & g_1 & 0 & \\ldots & 0 \\\\\n",
    "e_2 & f_2 & g_2 & \\ldots & 0 \\\\\n",
    "0 & e_3 & f_3 & g_3 & 0 \\\\\n",
    "0 &  \\ldots & e_{n-1} & f_{n-1} & g_{n-1}  \\\\\n",
    "0 &  \\ldots & 0 & e_{n} & f_{n}\\\\\n",
    "\\end{bmatrix}\n",
    "\\begin{bmatrix} x_1 \\\\ x_2 \\\\ \\\\ \\vdots \\\\ x_n \\end{bmatrix} \n",
    "=\n",
    "\\begin{bmatrix} b_1 \\\\ b_2 \\\\ \\\\ \\vdots \\\\ b_n\\end{bmatrix} \n",
    "$"
   ]
  },
  {
   "cell_type": "markdown",
   "id": "b9c46d13",
   "metadata": {
    "slideshow": {
     "slide_type": "fragment"
    }
   },
   "source": [
    "A aplicação do método de eliminação de Gauss neste caso é mais simples.\n",
    "Por exemplo, para a segunda linha teremos:\n",
    "\n",
    "$\n",
    "e_2 = 0\n",
    "$\n",
    "\n",
    "$\n",
    "f'_2 = f_2 -\\dfrac{e2}{f1}g_1\n",
    "$\n",
    "\n",
    "$g_2 $ não sofre alteração.\n",
    "\n",
    "$\n",
    "b'_2 = b_2 -\\dfrac{e2}{f1}b_1\n",
    "$\n"
   ]
  },
  {
   "cell_type": "markdown",
   "id": "ef29a25a",
   "metadata": {
    "slideshow": {
     "slide_type": "fragment"
    }
   },
   "source": [
    "Em cada linha, teremos os mesmos cálculos, ajustando apenas os índices."
   ]
  },
  {
   "cell_type": "markdown",
   "id": "5e3480c1",
   "metadata": {
    "slideshow": {
     "slide_type": "fragment"
    }
   },
   "source": [
    "Ao final da eliminação de Gauss, teremos a matriz:\n",
    "\n",
    "$\n",
    "\\begin{bmatrix}\n",
    "f_1 & g_1 & 0 & \\ldots & 0 \\\\\n",
    "0 & f'_2 & g_2 & \\ldots & 0 \\\\\n",
    "0 & 0 & f'_3 & g_3 & 0 \\\\\n",
    "0 &  \\ldots & 0 & f'_{n-1} & g_{n-1}  \\\\\n",
    "0 &  \\ldots & 0 & 0 & f'_{n}\\\\\n",
    "\\end{bmatrix}\n",
    "\\begin{bmatrix} x_1 \\\\ x_2 \\\\ \\\\ \\vdots \\\\ x_n \\end{bmatrix} \n",
    "=\n",
    "\\begin{bmatrix} b_1 \\\\ b'_2 \\\\ \\\\ \\vdots \\\\ b'_n\\end{bmatrix} \n",
    "$"
   ]
  },
  {
   "cell_type": "markdown",
   "id": "495b0946",
   "metadata": {
    "slideshow": {
     "slide_type": "fragment"
    }
   },
   "source": [
    "Finalmente, o cálculo dos valores de $x_i$ será igual a:\n",
    "\n",
    "$\n",
    "x_n = \\dfrac{b'_n}{f'_n}\n",
    "$\n",
    "\n",
    "e\n",
    "\n",
    "$\n",
    "x_i = \\dfrac{b'_i - g_i x_{i+1}}{f'_i}\n",
    "$"
   ]
  },
  {
   "cell_type": "markdown",
   "id": "65224daa",
   "metadata": {
    "slideshow": {
     "slide_type": "fragment"
    }
   },
   "source": [
    "## Exemplo:\n",
    "\n",
    "$\n",
    "\\begin{bmatrix}\n",
    "2,04 & -1 \\\\\n",
    "-1 & 2,04 & -1 \\\\\n",
    "& -1 & 2,04 & -1 \\\\\n",
    "& & -1 & 2,04 \\\\\n",
    "\\end{bmatrix}\n",
    "\\begin{bmatrix} x_1 \\\\ x_2 \\\\ x_3 \\\\ x_4 \\end{bmatrix}\n",
    "=\n",
    "\\begin{bmatrix} 40,8 \\\\ 0,8 \\\\ 0,8 \\\\ 200,8 \\end{bmatrix}\n",
    "$"
   ]
  },
  {
   "cell_type": "markdown",
   "id": "b0067cef",
   "metadata": {
    "slideshow": {
     "slide_type": "fragment"
    }
   },
   "source": [
    "Após a transformação em matriz triangular superior, teremos:\n",
    "\n",
    "$\n",
    "\\begin{bmatrix}\n",
    "2,04 & -1 \\\\\n",
    " & 1,550 & -1 \\\\\n",
    "&  & 1,395 & -1 \\\\\n",
    "& &  & 1,323 \\\\\n",
    "\\end{bmatrix}\n",
    "\\begin{bmatrix} x_1 \\\\ x_2 \\\\ x_3 \\\\ x_4 \\end{bmatrix}\n",
    "=\n",
    "\\begin{bmatrix} 40,8 \\\\ 20,8 \\\\ 14,221 \\\\ 210,996 \\end{bmatrix}\n",
    "$"
   ]
  },
  {
   "cell_type": "markdown",
   "id": "65ae09cd",
   "metadata": {
    "slideshow": {
     "slide_type": "fragment"
    }
   },
   "source": [
    "A partir do qual achamos:\n",
    "\n",
    "$x_4 = 159,480$\n",
    "\n",
    "$x_3 = \\dfrac{14,221 - (-1)159,480}{1,395} = 124,538$\n",
    "\n",
    "$x_2 = \\dfrac{20,800 - (-1)124,538}{1,550} = 93,778$\n",
    "\n",
    "$x_1 = \\dfrac{40,800 - (-1)93,778}{2,04} = 65,970$"
   ]
  },
  {
   "cell_type": "markdown",
   "id": "31a493c3",
   "metadata": {
    "slideshow": {
     "slide_type": "fragment"
    }
   },
   "source": [
    "O sistema tridiagonal aparece naturalmente na resolução de equações diferenciais com condições de contorno.\n",
    "\n",
    "Por exemplo, a equação que relaciona a temperatura de uma haste com a distância:\n",
    "\n",
    "$\n",
    "\\dfrac{d^2T}{dx^2} + h'(T_a - T) = 0\n",
    "$, \n",
    "\n",
    "onde $T$ representa a temperatura da haste, $x$ a distância ao longo de uma haste, $T_a$ a temperatura ambiente, $h$ o coeficiente de transferência de calor pode ser numericamente aproximada por:\n",
    "\n",
    "$\n",
    "\\dfrac{d^2T}{dx^2} = \\dfrac{T_{i+1} - 2T_i + T_{i-1}}{\\Delta x^2}\n",
    "$.\n",
    "\n",
    "Utilizando um passo $\\Delta x = 2$ e supondo que as condições de contorno são $T(0) = 40$, $T(10) = 200$ e $h' = 0,01$ o sistema pode ser reescrito como:\n",
    "\n",
    "$\n",
    "\\begin{aligned}\n",
    "-T_0 + 2,04T_1 + T_2 = 0.8 \\\\\n",
    "-T_1 + 2,04T_2 + T_3 = 0.8 \\\\\n",
    "-T_2 + 2,04T_3 + T_4 = 0.8 \\\\\n",
    "-T_3 + 2,04T_4 + T_5 = 0.8 \n",
    "\\end{aligned}\n",
    "$\n",
    "\n",
    "o qual, após substituirmos o valor de $T(0)$ e $T(10)$ resulta no sistema linear tridiagonal do exemplo anterior."
   ]
  }
 ],
 "metadata": {
  "celltoolbar": "Slideshow",
  "kernelspec": {
   "display_name": "Python 3 (ipykernel)",
   "language": "python",
   "name": "python3"
  },
  "language_info": {
   "codemirror_mode": {
    "name": "ipython",
    "version": 3
   },
   "file_extension": ".py",
   "mimetype": "text/x-python",
   "name": "python",
   "nbconvert_exporter": "python",
   "pygments_lexer": "ipython3",
   "version": "3.9.12"
  },
  "latex_envs": {
   "LaTeX_envs_menu_present": true,
   "autoclose": true,
   "autocomplete": false,
   "bibliofile": "biblio.bib",
   "cite_by": "apalike",
   "current_citInitial": 1,
   "eqLabelWithNumbers": true,
   "eqNumInitial": 1,
   "hotkeys": {
    "equation": "Ctrl-E",
    "itemize": "Ctrl-I"
   },
   "labels_anchors": false,
   "latex_user_defs": false,
   "report_style_numbering": false,
   "user_envs_cfg": false
  }
 },
 "nbformat": 4,
 "nbformat_minor": 5
}
