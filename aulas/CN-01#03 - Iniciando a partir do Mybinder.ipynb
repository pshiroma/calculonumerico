{
 "cells": [
  {
   "cell_type": "markdown",
   "id": "1af15be5",
   "metadata": {},
   "source": [
    "[Vídeo](https://youtu.be/2rFMJSBwTZc)"
   ]
  },
  {
   "cell_type": "markdown",
   "id": "386ef7b0",
   "metadata": {
    "slideshow": {
     "slide_type": "slide"
    }
   },
   "source": [
    "# Executando o Jupyter a partir do Mybinder.org"
   ]
  },
  {
   "cell_type": "markdown",
   "id": "f5e64dd3",
   "metadata": {
    "slideshow": {
     "slide_type": "subslide"
    }
   },
   "source": [
    "Outra opção para rodar os notebooks é utilizar o site https://mybinder.org/ para acessar os notebooks presentes no repositório https://github.com/pshiroma/calculonumerico.\n",
    "\n",
    "Pode-se utilizar o link direto, disponível em:\n",
    "\n",
    "https://mybinder.org/v2/gh/pshiroma/calculonumerico/main [![Binder](https://mybinder.org/badge_logo.svg)](https://mybinder.org/v2/gh/pshiroma/calculonumerico/main)\n",
    "\n",
    "<img src=\"figuras/mybinder.png\" width=\"1000\">\n",
    "\n",
    "<div class=\"alert alert-danger\"><b>Importante:</b> O binder não salva os arquivos criados ou modificados dentro dele. Ou seja, qualquer arquivo que você queira preservar deve ser realizado o <b>download</b> do mesmo.</div>"
   ]
  }
 ],
 "metadata": {
  "celltoolbar": "Slideshow",
  "kernelspec": {
   "display_name": "Python 3 (ipykernel)",
   "language": "python",
   "name": "python3"
  },
  "language_info": {
   "codemirror_mode": {
    "name": "ipython",
    "version": 3
   },
   "file_extension": ".py",
   "mimetype": "text/x-python",
   "name": "python",
   "nbconvert_exporter": "python",
   "pygments_lexer": "ipython3",
   "version": "3.9.12"
  },
  "latex_envs": {
   "LaTeX_envs_menu_present": true,
   "autoclose": true,
   "autocomplete": true,
   "bibliofile": "biblio.bib",
   "cite_by": "apalike",
   "current_citInitial": 1,
   "eqLabelWithNumbers": true,
   "eqNumInitial": 1,
   "hotkeys": {
    "equation": "Ctrl-E",
    "itemize": "Ctrl-I"
   },
   "labels_anchors": false,
   "latex_user_defs": false,
   "report_style_numbering": false,
   "user_envs_cfg": false
  }
 },
 "nbformat": 4,
 "nbformat_minor": 5
}
