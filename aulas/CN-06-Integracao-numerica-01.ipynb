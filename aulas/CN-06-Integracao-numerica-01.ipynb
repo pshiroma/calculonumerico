{
 "cells": [
  {
   "cell_type": "markdown",
   "id": "f085578c",
   "metadata": {
    "slideshow": {
     "slide_type": "slide"
    }
   },
   "source": [
    "# Integração numérica\n",
    "\n",
    "* Fórmulas baseadas em **pontos** espaçados (Newton-Cotes)\n",
    "* Fórmulas baseadas na **função** analítica (Gauss-Legendre)"
   ]
  },
  {
   "cell_type": "markdown",
   "id": "85605780",
   "metadata": {
    "slideshow": {
     "slide_type": "slide"
    }
   },
   "source": [
    "O cálculo da área sob a curva de uma função tem diversas aplicações na física e engenharia, tais como:\n",
    "\n",
    "* Cálculo do trabalho realizado por uma força\n",
    "* Cálculo da força hidrostática\n",
    "* Cálculo do centro de massa de um objeto\n",
    "* Cálculo do momento de inércia\n",
    "* Cálculo da posição a partir da velocidade\n",
    "\n",
    "O conceito de integral foi criada originalmente para determinar a **área sob uma curva**.\n",
    "\n",
    "![integral](figuras/integracao-fig01.png)\n",
    "\n",
    "Uma definição para a integral é:\n",
    "\n",
    "\\begin{equation} \\label{eq:definicaointegral}\n",
    "I = \\int_a^b f(x)dx = \\lim\\limits_{n \\rightarrow \\infty}\\sum\\limits_{i=0}^n f(x_i)\\Delta x\n",
    "\\end{equation}"
   ]
  },
  {
   "cell_type": "markdown",
   "id": "cb582f40",
   "metadata": {
    "slideshow": {
     "slide_type": "fragment"
    }
   },
   "source": [
    "### Exemplo\n",
    "\n",
    "1. Calcule a integral de uma função cujos pontos $(x_i,y_i)$ foram coletados conforme tabela abaixo:\n",
    "* x = [2, 4, 6, 8, 10, 12, 14, 16, 18]\n",
    "* y = [27, 38, 41, 40, 37, 33, 29, 25, 21]\n",
    "![integracao](figuras/integracao-fig07.png)"
   ]
  },
  {
   "cell_type": "markdown",
   "id": "c3d9ee82-56bc-4b23-80d6-d6e47d64ff6b",
   "metadata": {},
   "source": [
    "Em casos onde temos apenas **amostras** da função, uma estratégia para estimar a integral é considerar pequenos trapézios e realizar a soma de suas áreas:\n",
    "\n",
    "$I = trap((2, 27) , (4,38)) + trap((4,38), (8,41)) + \\ldots + trap( (16,25), (18,21))$\n",
    "\n",
    "onde $trap( (x_1,y_1), (x_2,y_2))$ calcula a área do trapézio dado pelos pontos $(x_1,0), (x_1,y_1), (x_2,y_2), (x_2,0)$."
   ]
  },
  {
   "cell_type": "code",
   "execution_count": 2,
   "id": "cbd65e76",
   "metadata": {},
   "outputs": [
    {
     "name": "stdout",
     "output_type": "stream",
     "text": [
      "534.0\n"
     ]
    }
   ],
   "source": [
    "import scipy.integrate as integrate\n",
    "\n",
    "#x = [2, 4, 6, 8, 10, 12, 14, 16, 18]\n",
    "y = [27., 38., 41., 40., 37., 33., 29., 25., 21.]\n",
    "\n",
    "I = integrate.trapezoid(y, dx=2)\n",
    "print(I)"
   ]
  },
  {
   "cell_type": "code",
   "execution_count": 3,
   "id": "6a7e11cb-4507-482d-a707-ae2a9ac6d90e",
   "metadata": {},
   "outputs": [
    {
     "name": "stdout",
     "output_type": "stream",
     "text": [
      "534.0\n"
     ]
    }
   ],
   "source": [
    "# Implementação ingênua da função trapezoid:\n",
    "x = [2, 4, 6, 8, 10, 12, 14, 16, 18]\n",
    "y = [27., 38., 41., 40., 37., 33., 29., 25., 21.]\n",
    "\n",
    "def trap(x1,y1,x2,y2):\n",
    "    return (x2-x1)*(y1+y2)/2\n",
    "\n",
    "I = 0\n",
    "for i in range(len(x)-1):\n",
    "    I += trap(x[i],y[i], x[i+1], y[i+1])\n",
    "print(I)"
   ]
  },
  {
   "cell_type": "markdown",
   "id": "d03a71d9-1c59-400d-a1fb-790537a32bbf",
   "metadata": {},
   "source": [
    "2. Calcule a integral de uma função cujos pontos $(x_i,y_i)$ foram coletados conforme tabela abaixo:\n",
    "* x = [2, 3.8, 5.5, 7.2, 9, 11, 13, 14, 17]\n",
    "* y = [27, 38, 41, 41, 39, 35, 31, 28, 23]\n",
    "![integracao](figuras/integracao-fig06.png)"
   ]
  },
  {
   "cell_type": "code",
   "execution_count": 4,
   "id": "59fd96e1",
   "metadata": {
    "slideshow": {
     "slide_type": "fragment"
    }
   },
   "outputs": [
    {
     "name": "stdout",
     "output_type": "stream",
     "text": [
      "513.35\n"
     ]
    }
   ],
   "source": [
    "import scipy.integrate as integrate\n",
    "\n",
    "x = [2, 3.8, 5.5, 7.2, 9, 11, 13, 14, 17]\n",
    "y = [27, 38, 41, 41, 39, 35, 31, 28, 23]\n",
    "\n",
    "I = integrate.trapezoid(y, x)\n",
    "print(I)"
   ]
  },
  {
   "cell_type": "code",
   "execution_count": null,
   "id": "66f057a9",
   "metadata": {
    "slideshow": {
     "slide_type": "-"
    }
   },
   "outputs": [],
   "source": []
  },
  {
   "cell_type": "markdown",
   "id": "ee961314",
   "metadata": {
    "slideshow": {
     "slide_type": "slide"
    }
   },
   "source": [
    "# Newton-Cotes\n",
    "\n",
    "* 2 pontos: Regra do trapézio\n",
    "* 3 pontos: Regra de 1/3 de Simpson\n",
    "* 4 pontos: Regra de 5/8 de Simpson"
   ]
  },
  {
   "cell_type": "markdown",
   "id": "01345d44",
   "metadata": {
    "slideshow": {
     "slide_type": "slide"
    }
   },
   "source": [
    "## Regra do trapézio\n",
    "\n",
    "A regra do trapézio é uma das formas mais simples de aproximar a integral de uma função, e aproxima a integral pela **área do trapézio** formado pelos pontos $f(a)$ e $f(b)$:\n",
    "\n",
    "\\begin{equation} \\label{eq:regradotrapezio}\n",
    "I \\approx (b - a) \\dfrac{f(a) + f(b)}{2}\n",
    "\\end{equation}\n",
    "\n",
    "![integral2](figuras/integracao-fig02.png)\n",
    "\n",
    "que possui um erro de truncamento estimado de:\n",
    "\n",
    "\\begin{equation}\n",
    "E_t = - \\dfrac{1}{12}f''(\\xi)(b-a)^3\n",
    "\\end{equation}\n",
    "\n",
    "Observe nesta fórmula que:\n",
    "\n",
    "* O termo $f''(\\xi)$ indica que o erro é zero para um polinômio de primeiro grau (reta)\n",
    "* O termo $(b-a)^3$ indica que o erro diminui proporcionalmente com cubo do passo $h$"
   ]
  },
  {
   "cell_type": "markdown",
   "id": "238766cf",
   "metadata": {
    "slideshow": {
     "slide_type": "fragment"
    }
   },
   "source": [
    "### Regra do trapézio para múltiplos segmentos\n",
    "\n",
    "Uma forma comum de melhorar a estimativa da integral é dividir o intervalo em diversos segmentos, ou seja, diminuindo o valor de $h$:\n",
    "\n",
    "![integral3](figuras/integracao-fig03.png)\n",
    "\n",
    "neste caso, temos que:\n",
    "\n",
    "\\begin{equation}\n",
    "I = \\int\\limits_{x_0}^{x_1} f(x) + \\int\\limits_{x_1}^{x_2} f(x) + \\ldots + \\int\\limits_{x_{n-1}}^{x_n} f(x)\n",
    "\\end{equation}\n",
    "\n",
    "Substituindo o valor de cada integral pela equação da área do trapézio obtemos:\n",
    "\n",
    "\\begin{equation}\n",
    "I \\approx h\\dfrac{f(x_0) + f(x_1)}{2} + h\\dfrac{f(x_1) + f(x_2)}{2} + \\ldots + h\\dfrac{f(x_{n-1}) + f(x_n)}{2}\n",
    "\\end{equation}\n",
    "\n",
    "o que, após agruparmos os elementos, nos leva a:\n",
    "\n",
    "$\n",
    "I \\approx \\dfrac{h}{2}\\left[ f(x_0) + 2 \\sum_{i=1}^{n-1} f(x_i) + f(x_n) \\right]\n",
    "$\n",
    "\n",
    "onde $h = \\dfrac{b-a}{n}$.\n",
    "\n",
    "Veja que esta soma é muito parecida com aquela dada pela própria definição de integral.\n",
    "Vamos ver uma implementação da equação acima:"
   ]
  },
  {
   "cell_type": "code",
   "execution_count": 5,
   "id": "93495314",
   "metadata": {
    "slideshow": {
     "slide_type": "fragment"
    }
   },
   "outputs": [
    {
     "name": "stdout",
     "output_type": "stream",
     "text": [
      "534.0\n"
     ]
    }
   ],
   "source": [
    "import numpy as np\n",
    "def integraltrapezio(y, h):\n",
    "    y = np.array(y)\n",
    "    soma = h/2*(y[0] + 2*y[1:-1].sum() + y[-1])\n",
    "    return soma\n",
    "\n",
    "y = [27., 38., 41., 40., 37., 33., 29., 25., 21.]\n",
    "\n",
    "I = integraltrapezio(y, h=2)\n",
    "print(I)"
   ]
  },
  {
   "cell_type": "code",
   "execution_count": null,
   "id": "cebae2a7",
   "metadata": {
    "slideshow": {
     "slide_type": "-"
    }
   },
   "outputs": [],
   "source": []
  },
  {
   "cell_type": "markdown",
   "id": "5373012f",
   "metadata": {
    "slideshow": {
     "slide_type": "slide"
    }
   },
   "source": [
    "## Regras de Simpson\n",
    "\n",
    "Ao invés de utilizarmos uma reta para ligar os pontos $a$ e $b$ também podemos utilizar polinômios de graus mais elevados, como parábolas (utilizando 3 pontos) ou equações de 3º grau (utilizando 4 pontos).\n",
    "As regras de Simpson utilizam polinômios obtidos desta forma.\n",
    "\n",
    "Quando são utilizados 3 pontos: um ponto $a$, um ponto $b$ e um ponto intermediário temos um polinômio de segundo grau que é conhecido como regra de 1/3 de Simpson.\n",
    "\n",
    "Quando são utilizados 4 pontos: um ponto $a$, um ponto $b$ e 2 pontos igualmente espaçados entre $a$ e $b$ temos um polinômio de terceiro grau que é conhecido como regra de 3/8 de Simpson."
   ]
  },
  {
   "cell_type": "markdown",
   "id": "2f87bfe9",
   "metadata": {
    "slideshow": {
     "slide_type": "fragment"
    }
   },
   "source": [
    "### A regra de 1/3 de Simpson\n",
    "\n",
    "Considere 3 pontos $x_0$, $x_1$ e $x_2$ igualmente espaçados, onde $x_0 = a$, $x_2 = b$ e $x_1 = (b+a)/2$.\n",
    "\n",
    "Um polinômio que passa pelos pontos $(x_0, f(x_0))$, $(x_1, f(x_1))$ e $(x_2, f(x_2))$ tem a forma dada por:\n",
    "\n",
    "\\begin{equation}\n",
    "p(x) = \\dfrac{(x - x_1)(x - x_2)}{(x_0 - x_1) (x_0 - x_2)}f(x_0) + \n",
    "\\dfrac{(x - x_0)(x - x_2)}{(x_1 - x_0) (x_1 - x_2)}f(x_1) + \n",
    "\\dfrac{(x - x_0)(x - x_1)}{(x_2 - x_0) (x_2 - x_1)}f(x_2)\n",
    "\\end{equation}\n",
    "\n",
    "e podemos aproximar a integral de $f(x)$ pela integral de $p(x)$:\n",
    "\n",
    "\\begin{equation}\n",
    "I = \\int\\limits_a^b f(x) \\approx \\int\\limits_{x_0}^{x_2} p(x)\n",
    "\\end{equation}\n",
    "\n",
    "Resolvendo a integral obtemos:\n",
    "\n",
    "\\begin{equation}\n",
    "I \\approx \\dfrac{h}{3}[ f(x_0) + 4f(x_1) + f(x_2)] \n",
    "\\end{equation}\n",
    "\n",
    "onde $h = (b-a)/2$, que também pode ser reescrita como\n",
    "\n",
    "\\begin{equation}\n",
    "I \\approx (b-a)\\dfrac{f(x_0) + 4f(x_1) + f(x_2)}{6}\n",
    "\\end{equation}\n",
    "\n",
    "![simpson1](figuras/integracao-fig04.png)\n",
    "\n",
    "Esta equação possui um erro de truncamento da ordem de:\n",
    "\n",
    "\\begin{equation}\n",
    "E_t = - \\dfrac{1}{90}h^5f^{(4)}(\\xi)\n",
    "\\end{equation}\n",
    "\n",
    "Observe que, comparado à regra do trapézio, o erro diminui mais rapidamente ($h^5$) com o tamanho do passo.\n",
    "\n",
    "A aplicação múltipla da regra de 1/3 de Simpson leva à equação:\n",
    "\n",
    "\\begin{equation}\n",
    "I = \\int\\limits_{x_0}^{x_2} f(x) + \\int\\limits_{x_2}^{x_4} f(x) + \\ldots + \\int\\limits_{x_{n-2}}^{x_n} f(x)\n",
    "\\end{equation}\n",
    "\n",
    "\\begin{equation}\n",
    "I = \\dfrac{2h}{6}[ f(x_0) + 4f(x_1) + f(x_2)] + \\dfrac{2h}{6}[ f(x_2) + 4f(x_3) + f(x_4)] + \\ldots + \\dfrac{2h}{6}[ f(x_{n-2}) + 4f(x_{n-1}) + f(x_n)] \n",
    "\\end{equation}\n",
    "\n",
    "o que, após agruparmos os termos, nos leva à:\n",
    "\n",
    "\n",
    "\\begin{equation}\n",
    "I = (b-a) \\dfrac{f(x_0) + 4 \\sum\\limits_{i=1,3,5}^{n-1}f(x_i) + 2\\sum\\limits_{j=2,4,6}^{n-2}f(x_j) + f(x_n) }{3n}\n",
    "\\end{equation}\n",
    "\n",
    "Observe que o número $n$ deve ser par."
   ]
  },
  {
   "cell_type": "markdown",
   "id": "0c0deb2d",
   "metadata": {
    "slideshow": {
     "slide_type": "fragment"
    }
   },
   "source": [
    "### A regra de 3/8 de Simpson\n",
    "\n",
    "Considere 4 pontos $x_0$, $x_1$, $x_2$ e $x_3$ igualmente espaçados.\n",
    "De forma análoga temos que a integral de $f(x)$ pode ser aproximada por:\n",
    "\n",
    "\\begin{equation}\n",
    "I \\approx \\dfrac{3h}{8}[ f(x_0) + 3f(x_1) + 3f(x_2) + f(x_3)] \n",
    "\\end{equation}\n",
    "\n",
    "onde $h = (b-a)/3$, que também pode ser reescrita como\n",
    "\n",
    "\\begin{equation}\n",
    "I \\approx (b-a)\\dfrac{f(x_0) + 3f(x_1) + 3f(x_2) + f(x_3)}{8}\n",
    "\\end{equation}\n",
    "\n",
    "Esta equação possui um erro de truncamento da ordem de:\n",
    "\n",
    "\\begin{equation}\n",
    "E_t = - \\dfrac{3}{80}h^5f^{(4)}(\\xi)\n",
    "\\end{equation}\n",
    "\n",
    "Observe que, combinando as regras de 1/3 e 3/8 de Simpson, é possível estimar a integral tanto para um número par de pontos como para um número ímpar."
   ]
  },
  {
   "cell_type": "code",
   "execution_count": 6,
   "id": "cd6e465c",
   "metadata": {
    "slideshow": {
     "slide_type": "fragment"
    }
   },
   "outputs": [
    {
     "name": "stdout",
     "output_type": "stream",
     "text": [
      "537.3333333333333\n"
     ]
    }
   ],
   "source": [
    "import numpy as np\n",
    "\n",
    "y = [27., 38., 41., 40., 37., 33., 29., 25., 21.]\n",
    "\n",
    "I = integrate.simpson(y, dx=2)\n",
    "print(I)"
   ]
  },
  {
   "cell_type": "markdown",
   "id": "2553e376-1c11-43c7-9941-003fe504f695",
   "metadata": {
    "slideshow": {
     "slide_type": "-"
    }
   },
   "source": [
    "# Exercício"
   ]
  },
  {
   "cell_type": "markdown",
   "id": "9e98d248-a868-464a-9b5a-43164676fd1e",
   "metadata": {},
   "source": [
    "Considere a função \n",
    "\n",
    "$f(x) = x^3 -6x^2 - 5x + 50$.\n",
    "\n",
    "Observe os valores obtidos em alguns pontos.\n",
    "Em seguida, estime a integral $\\int\\limits_a^b f(x)dx$"
   ]
  },
  {
   "cell_type": "markdown",
   "id": "cbb0b0bd-96f6-403e-937a-c63123294973",
   "metadata": {},
   "source": [
    "$I = x^4/4 - 2x^3 - 5x^2/2 +  50x$"
   ]
  },
  {
   "cell_type": "code",
   "execution_count": 13,
   "id": "cb778b42-8581-4544-8295-61e8814f6e75",
   "metadata": {},
   "outputs": [
    {
     "name": "stdout",
     "output_type": "stream",
     "text": [
      "50 24 8 -2 20 64 248 400 "
     ]
    }
   ],
   "source": [
    "def f(x):\n",
    "    return x**3 - 6*x**2 - 5*x + 50\n",
    "\n",
    "def integral(x):\n",
    "    return x**4/4 - 2*x**3 - 5*x**2/2 + 50*x\n",
    "\n",
    "for x in [0,2,3,4,6,7,9,10]:\n",
    "    print(f(x), end=' ')"
   ]
  },
  {
   "cell_type": "markdown",
   "id": "e359c51a-1380-4db7-85bd-9669c39b3e53",
   "metadata": {},
   "source": [
    "Compare os resultados obtidos pela fórmula de Simpson, trapézio e o valor real."
   ]
  },
  {
   "cell_type": "code",
   "execution_count": 18,
   "id": "3c5aab22-cf05-430d-96be-151370b9c167",
   "metadata": {},
   "outputs": [
    {
     "name": "stdout",
     "output_type": "stream",
     "text": [
      "789.0\n",
      "752.6666666666667\n",
      "750.0\n"
     ]
    }
   ],
   "source": [
    "import scipy.integrate as integrate\n",
    "import numpy as np\n",
    "\n",
    "x = np.array([0, 2, 3, 4, 6, 7, 9, 10])\n",
    "y = np.array([50, 24 ,8 , -2, 20, 64, 248, 400])\n",
    "I = integrate.trapezoid(y, x)\n",
    "print(I)\n",
    "I = integrate.simpson(y, x=x)\n",
    "print(I)\n",
    "I = integral(10) - integral(0)\n",
    "print(I)"
   ]
  },
  {
   "cell_type": "code",
   "execution_count": 19,
   "id": "d75ef9b2-cc21-42f6-883a-ad85dfd9c6ab",
   "metadata": {},
   "outputs": [
    {
     "name": "stdout",
     "output_type": "stream",
     "text": [
      "(750.0, 8.373736928052657e-12)\n"
     ]
    }
   ],
   "source": [
    "def funcao(x):\n",
    "    return x**3 - 6*x**2 - 5*x + 50\n",
    "\n",
    "a = 0\n",
    "b = 10\n",
    "\n",
    "I = integrate.quad(funcao, a, b)\n",
    "print(I)"
   ]
  }
 ],
 "metadata": {
  "celltoolbar": "Slideshow",
  "kernelspec": {
   "display_name": "Python 3 (ipykernel)",
   "language": "python",
   "name": "python3"
  },
  "language_info": {
   "codemirror_mode": {
    "name": "ipython",
    "version": 3
   },
   "file_extension": ".py",
   "mimetype": "text/x-python",
   "name": "python",
   "nbconvert_exporter": "python",
   "pygments_lexer": "ipython3",
   "version": "3.12.5"
  },
  "latex_envs": {
   "LaTeX_envs_menu_present": true,
   "autoclose": true,
   "autocomplete": false,
   "bibliofile": "biblio.bib",
   "cite_by": "apalike",
   "current_citInitial": 1,
   "eqLabelWithNumbers": true,
   "eqNumInitial": 1,
   "hotkeys": {
    "equation": "Ctrl-E",
    "itemize": "Ctrl-I"
   },
   "labels_anchors": false,
   "latex_user_defs": false,
   "report_style_numbering": false,
   "user_envs_cfg": false
  }
 },
 "nbformat": 4,
 "nbformat_minor": 5
}
