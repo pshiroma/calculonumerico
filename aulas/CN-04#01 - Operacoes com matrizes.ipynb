{
 "cells": [
  {
   "cell_type": "markdown",
   "id": "336595c1",
   "metadata": {
    "collapsed": true,
    "slideshow": {
     "slide_type": "slide"
    }
   },
   "source": [
    "# Matrizes"
   ]
  },
  {
   "cell_type": "markdown",
   "id": "c54e1104",
   "metadata": {
    "slideshow": {
     "slide_type": "fragment"
    }
   },
   "source": [
    "Nas próximas etapas iremos trabalhar com os problemas de resolução de sistemas lineares e não lineares.\n",
    "\n",
    "Para melhor compreender as idéias por trás dos algoritmos usados na solução destes sistemas, precisamos fazer uma breve recapitulação sobre o conceito de matrizes e suas operações básicas."
   ]
  },
  {
   "cell_type": "markdown",
   "id": "47525fb7",
   "metadata": {
    "slideshow": {
     "slide_type": "fragment"
    }
   },
   "source": [
    "Uma matriz é uma tabela que armazena números organizada em linhas e colunas.\n",
    "Representamos por\n",
    "\n",
    "<div class=\"alert alert-warning\" role=\"alert\">\n",
    "$A_{m\\times n}$ uma matriz contendo $m$ linhas e $n$ colunas.\n",
    "</div>\n",
    "\n",
    "Por exemplo,\n",
    "\n",
    "$\n",
    "A_{3\\times 2} = \n",
    "\\begin{bmatrix}\n",
    "5 & -1 \\\\\n",
    "3 & 0 \\\\\n",
    "0 & 10\n",
    "\\end{bmatrix}\n",
    "$\n",
    "\n",
    "Vamos representar por:\n",
    "\n",
    "<div class=\"alert alert-warning\" role=\"alert\">\n",
    "$a_{i,j}$ o elemento na linha $i$ e coluna $j$.\n",
    "</div>\n",
    "\n",
    "Por exemplo,\n",
    "\n",
    "$ a_{2,1} $ é o valor 3 no exemplo acima.\n",
    "\n",
    "Quando queremos apenas representar uma matriz genérica, podemos usar a notação:\n",
    "\n",
    "$\n",
    "A_{m\\times n} = \n",
    "\\begin{bmatrix}\n",
    "a_{11} & a_{12} & \\ldots & a_{1n} \\\\\n",
    "a_{21} & a_{22} & \\ldots & a_{2n} \\\\\n",
    "\\vdots \\\\\n",
    "a_{m1} & a_{m2} & \\ldots & a_{mn} \n",
    "\\end{bmatrix}\n",
    "$\n",
    "\n",
    "Algumas definições importantes:\n",
    "\n",
    "<div class=\"alert alert-warning\" role=\"alert\">\n",
    "Uma matriz é dita quadrada se o \\textbf{número de linhas é igual ao número de colunas}.\n",
    "</div>\n",
    "\n",
    "<div class=\"alert alert-warning\" role=\"alert\">\n",
    "A diagonal principal de uma matriz quadrada são os elementos $a_{ii}$.\n",
    "</div>\n",
    "\n",
    "<div class=\"alert alert-warning\" role=\"alert\">\n",
    "A matriz identidade ($I$) é uma matriz quadrada onde todos os elementos da diagonal principal são iguais a 1 e todos os outros são 0.\n",
    "</div>\n",
    "\n",
    "<div class=\"alert alert-warning\" role=\"alert\">\n",
    "A inversa de uma matriz A, denotada por $A^{-1}$, é aquela onde $A \\cdot A^{-1} = I$ .\n",
    "</div>\n",
    "\n",
    "<div class=\"alert alert-warning\" role=\"alert\">\n",
    "A transporta de uma matriz A, denotada por $A^{T}$, é aquela onde $a^{T}_{ij} = a_{ji}$.\n",
    "</div>"
   ]
  },
  {
   "cell_type": "markdown",
   "id": "99b940ac",
   "metadata": {
    "slideshow": {
     "slide_type": "fragment"
    }
   },
   "source": [
    "Vamos ver agora como operar com matriz em python:"
   ]
  },
  {
   "cell_type": "code",
   "execution_count": 33,
   "id": "1393d9d8",
   "metadata": {
    "slideshow": {
     "slide_type": "fragment"
    }
   },
   "outputs": [
    {
     "name": "stdout",
     "output_type": "stream",
     "text": [
      "[2 3]\n",
      "[[ 2  3  5]\n",
      " [-3 -1  0]]\n"
     ]
    }
   ],
   "source": [
    "import numpy as np\n",
    "# a biblioteca mais adequada para trabalharmos com matrizes é a numpy\n",
    "# podemos converter listas em vetores ou matrizes:\n",
    "lista1 = [2, 3]\n",
    "lista2 = [[2, 3, 5], [-3, -1, 0]]\n",
    "vetor = np.array(lista1)\n",
    "M = np.array(lista2)\n",
    "print(vetor)\n",
    "print(M)"
   ]
  },
  {
   "cell_type": "code",
   "execution_count": 3,
   "id": "772cfe68",
   "metadata": {
    "slideshow": {
     "slide_type": "fragment"
    }
   },
   "outputs": [
    {
     "name": "stdout",
     "output_type": "stream",
     "text": [
      "[[1 2 3]\n",
      " [4 5 6]]\n"
     ]
    }
   ],
   "source": [
    "import numpy as np\n",
    "# podemos criar vetores e matrizes diretamente:\n",
    "#M = np.array([[2,3,5], [-3,-1,0]])\n",
    "M = np.array([ [1,2,3], [4,5,6] ])\n",
    "print(M)"
   ]
  },
  {
   "cell_type": "code",
   "execution_count": 4,
   "id": "9fdb6d81",
   "metadata": {
    "slideshow": {
     "slide_type": "fragment"
    }
   },
   "outputs": [
    {
     "data": {
      "text/plain": [
       "array([[ 4,  6, 10],\n",
       "       [-6, -2,  0]])"
      ]
     },
     "execution_count": 4,
     "metadata": {},
     "output_type": "execute_result"
    }
   ],
   "source": [
    "# Multiplicacao por escalar:\n",
    "M*2"
   ]
  },
  {
   "cell_type": "code",
   "execution_count": 1,
   "id": "fbce86db",
   "metadata": {
    "slideshow": {
     "slide_type": "fragment"
    }
   },
   "outputs": [
    {
     "data": {
      "text/plain": [
       "array([[3, 3],\n",
       "       [3, 3]])"
      ]
     },
     "execution_count": 1,
     "metadata": {},
     "output_type": "execute_result"
    }
   ],
   "source": [
    "import numpy as np\n",
    "A = np.array([[2,3], [1,-1]])\n",
    "B = np.array([[1,0], [2,4]])\n",
    "\n",
    "# soma de matrizes\n",
    "A + B"
   ]
  },
  {
   "cell_type": "code",
   "execution_count": 6,
   "id": "0286ec6f",
   "metadata": {},
   "outputs": [
    {
     "name": "stdout",
     "output_type": "stream",
     "text": [
      "[[ 2  3]\n",
      " [ 1 -1]]\n",
      "[[1 0]\n",
      " [2 4]]\n",
      "[[ 2  0]\n",
      " [ 2 -4]]\n"
     ]
    }
   ],
   "source": [
    "print(A)\n",
    "print(B)\n",
    "print(A * B)"
   ]
  },
  {
   "cell_type": "code",
   "execution_count": 9,
   "id": "f1d56a37",
   "metadata": {
    "slideshow": {
     "slide_type": "fragment"
    }
   },
   "outputs": [
    {
     "name": "stdout",
     "output_type": "stream",
     "text": [
      "[[ 8 12]\n",
      " [-1 -4]]\n"
     ]
    }
   ],
   "source": [
    "# Multiplicacao de matrizes:\n",
    "print(A @ B)"
   ]
  },
  {
   "cell_type": "code",
   "execution_count": 72,
   "id": "4a38e3f4",
   "metadata": {
    "slideshow": {
     "slide_type": "fragment"
    }
   },
   "outputs": [
    {
     "name": "stdout",
     "output_type": "stream",
     "text": [
      "[[ 8 12]\n",
      " [-1 -4]]\n",
      "[[ 8 12]\n",
      " [-1 -4]]\n"
     ]
    }
   ],
   "source": [
    "# outras formas de multiplicar 2 matrize: \n",
    "print(np.matmul(A, B))\n",
    "# ou: \n",
    "print(np.dot(A, B))"
   ]
  },
  {
   "cell_type": "code",
   "execution_count": 45,
   "id": "365b69fb",
   "metadata": {
    "slideshow": {
     "slide_type": "fragment"
    }
   },
   "outputs": [
    {
     "name": "stdout",
     "output_type": "stream",
     "text": [
      "[[ 2  3  5]\n",
      " [-3 -1  0]]\n",
      "(2, 3)\n",
      "2\n",
      "3\n"
     ]
    }
   ],
   "source": [
    "print(M)\n",
    "# dimensao de uma matriz:\n",
    "print(M.shape)\n",
    "# numero de linhas de uma matriz:\n",
    "print(M.shape[0])\n",
    "# numero de colunas de uma matriz:\n",
    "print(M.shape[1])"
   ]
  },
  {
   "cell_type": "code",
   "execution_count": 59,
   "id": "5329f7e2",
   "metadata": {
    "slideshow": {
     "slide_type": "fragment"
    }
   },
   "outputs": [
    {
     "name": "stdout",
     "output_type": "stream",
     "text": [
      "3\n",
      "[[ 2 10  5]\n",
      " [-3 -1  0]]\n"
     ]
    }
   ],
   "source": [
    "# acessando 1 elemento da matriz. A primeira linha ou coluna recebe o índice 0.\n",
    "# Os índices vão de 0 até n-1\n",
    "M = np.array([[2, 3, 5], [-3, -1, 0]])\n",
    "\n",
    "print(M[0,1])\n",
    "\n",
    "M[0,1] = 10\n",
    "\n",
    "print(M)"
   ]
  },
  {
   "cell_type": "code",
   "execution_count": 66,
   "id": "5c4eaa30",
   "metadata": {
    "slideshow": {
     "slide_type": "fragment"
    }
   },
   "outputs": [
    {
     "name": "stdout",
     "output_type": "stream",
     "text": [
      "[ 2 10  5]\n",
      "[10 -1]\n",
      "[[10]\n",
      " [-1]]\n"
     ]
    }
   ],
   "source": [
    "# acessando a primeira linha inteira:\n",
    "print(M[0,:])\n",
    "\n",
    "# acessando a segunda coluna inteira:\n",
    "print(M[:,1])\n",
    "\n",
    "# acessando a segunda coluna, e retornando como um vetor coluna:\n",
    "print(M[:,[1]])"
   ]
  },
  {
   "cell_type": "code",
   "execution_count": 81,
   "id": "33f10375",
   "metadata": {
    "slideshow": {
     "slide_type": "fragment"
    }
   },
   "outputs": [
    {
     "name": "stdout",
     "output_type": "stream",
     "text": [
      "[[2 3 5]\n",
      " [0 0 0]]\n"
     ]
    }
   ],
   "source": [
    "M = np.array([[2, 3, 5], [-3, -1, 0]])\n",
    "\n",
    "# substituindo a segunda linha inteira:\n",
    "M[1,:] = [0,0,0]\n",
    "\n",
    "print(M)"
   ]
  },
  {
   "cell_type": "code",
   "execution_count": 85,
   "id": "f9531ac0",
   "metadata": {
    "slideshow": {
     "slide_type": "fragment"
    }
   },
   "outputs": [
    {
     "name": "stdout",
     "output_type": "stream",
     "text": [
      "[[0 2 3]\n",
      " [0 5 6]\n",
      " [0 8 9]]\n"
     ]
    }
   ],
   "source": [
    "M = np.array([[1,2,3], [4,5,6], [7,8,9]])\n",
    "# trocando a primeira coluna inteira\n",
    "M[:,0] = [0,0,0]\n",
    "print(M)"
   ]
  },
  {
   "cell_type": "code",
   "execution_count": 92,
   "id": "d8e93d8f",
   "metadata": {
    "slideshow": {
     "slide_type": "fragment"
    }
   },
   "outputs": [
    {
     "data": {
      "text/plain": [
       "array([[1, 2, 3],\n",
       "       [4, 5, 6]])"
      ]
     },
     "execution_count": 92,
     "metadata": {},
     "output_type": "execute_result"
    }
   ],
   "source": [
    "M = np.array([[1,2,3], [4,5,6], [7,8,9]])\n",
    "\n",
    "# acessando 2 linhas simultaneamente:\n",
    "M[np.array([0,2])]"
   ]
  },
  {
   "cell_type": "code",
   "execution_count": 10,
   "id": "d6330878",
   "metadata": {
    "slideshow": {
     "slide_type": "fragment"
    }
   },
   "outputs": [
    {
     "name": "stdout",
     "output_type": "stream",
     "text": [
      "Antes:\n",
      " [[1 2 3]\n",
      " [4 5 6]\n",
      " [7 8 9]]\n",
      "Depois:\n",
      " [[7 8 9]\n",
      " [4 5 6]\n",
      " [1 2 3]]\n"
     ]
    }
   ],
   "source": [
    "M = np.array([[1,2,3], [4,5,6], [7,8,9]])\n",
    "\n",
    "print('Antes:\\n', M)\n",
    "# trocando 2 linha de posicao:\n",
    "M[np.array([0,2])] = M[np.array([2,0])]\n",
    "print('Depois:\\n',M)"
   ]
  },
  {
   "cell_type": "code",
   "execution_count": 99,
   "id": "00b78e94",
   "metadata": {
    "slideshow": {
     "slide_type": "fragment"
    }
   },
   "outputs": [
    {
     "name": "stdout",
     "output_type": "stream",
     "text": [
      "8\n"
     ]
    }
   ],
   "source": [
    "M = np.array([[1,2,3], [4,5,6], [7,8,9]])\n",
    "\n",
    "# achando o maior valor da segunda coluna:\n",
    "print(np.amax(M[:,1]))"
   ]
  },
  {
   "cell_type": "code",
   "execution_count": 100,
   "id": "34f47946",
   "metadata": {
    "slideshow": {
     "slide_type": "fragment"
    }
   },
   "outputs": [
    {
     "name": "stdout",
     "output_type": "stream",
     "text": [
      "2\n"
     ]
    }
   ],
   "source": [
    "M = np.array([[1,2,3], [4,5,6], [7,8,9]])\n",
    "\n",
    "# achando a posicao onde se encontra o máximo da segunda coluna:\n",
    "print(np.argmax(M[:,1]))"
   ]
  },
  {
   "cell_type": "code",
   "execution_count": 107,
   "id": "e11f9cdc",
   "metadata": {
    "slideshow": {
     "slide_type": "fragment"
    }
   },
   "outputs": [
    {
     "name": "stdout",
     "output_type": "stream",
     "text": [
      "[2 2 2]\n",
      "2\n"
     ]
    }
   ],
   "source": [
    "# achando a posicao dos maximos em cada coluna\n",
    "print(np.argmax(M,axis=1))\n",
    "# achando a posicao do maximo da segunda coluna\n",
    "print(np.argmax(M,axis=1)[1])"
   ]
  },
  {
   "cell_type": "code",
   "execution_count": 108,
   "id": "207ddb36",
   "metadata": {
    "slideshow": {
     "slide_type": "fragment"
    }
   },
   "outputs": [
    {
     "name": "stdout",
     "output_type": "stream",
     "text": [
      "[[1 4 7]\n",
      " [2 5 8]\n",
      " [3 6 9]]\n"
     ]
    }
   ],
   "source": [
    "# transposta de uma matriz:\n",
    "M = np.array([[1,2,3], [4,5,6], [7,8,9]])\n",
    "print(M.T)"
   ]
  },
  {
   "cell_type": "code",
   "execution_count": 156,
   "id": "62018531",
   "metadata": {
    "slideshow": {
     "slide_type": "fragment"
    }
   },
   "outputs": [
    {
     "name": "stdout",
     "output_type": "stream",
     "text": [
      "[[ 0.  -2.   1. ]\n",
      " [-1.5 -2.   1.5]\n",
      " [ 0.5  1.  -0.5]]\n"
     ]
    }
   ],
   "source": [
    "# inversa de uma matriz:\n",
    "M = np.array([[1,0,2], [0,1,3], [1,2,6]])\n",
    "print(np.linalg.inv(M))"
   ]
  },
  {
   "cell_type": "code",
   "execution_count": 162,
   "id": "1c303a6b",
   "metadata": {
    "slideshow": {
     "slide_type": "fragment"
    }
   },
   "outputs": [
    {
     "name": "stdout",
     "output_type": "stream",
     "text": [
      "[[1. 0. 0.]\n",
      " [0. 1. 0.]\n",
      " [0. 0. 1.]]\n",
      "[[1.]\n",
      " [1.]\n",
      " [1.]]\n",
      "[[0. 0. 0.]]\n",
      "[[ 0.  1.  2.  3.  4.  5.  6.  7.  8.  9. 10.]\n",
      " [ 0.  1.  2.  3.  4.  5.  6.  7.  8.  9. 10.]\n",
      " [ 0.  1.  2.  3.  4.  5.  6.  7.  8.  9. 10.]\n",
      " [ 0.  1.  2.  3.  4.  5.  6.  7.  8.  9. 10.]\n",
      " [ 0.  1.  2.  3.  4.  5.  6.  7.  8.  9. 10.]\n",
      " [ 0.  1.  2.  3.  4.  5.  6.  7.  8.  9. 10.]\n",
      " [ 0.  1.  2.  3.  4.  5.  6.  7.  8.  9. 10.]\n",
      " [ 0.  1.  2.  3.  4.  5.  6.  7.  8.  9. 10.]\n",
      " [ 0.  1.  2.  3.  4.  5.  6.  7.  8.  9. 10.]\n",
      " [ 0.  1.  2.  3.  4.  5.  6.  7.  8.  9. 10.]\n",
      " [ 0.  1.  2.  3.  4.  5.  6.  7.  8.  9. 10.]]\n",
      "[[ 0.  0.  0.  0.  0.  0.  0.  0.  0.  0.  0.]\n",
      " [ 2.  2.  2.  2.  2.  2.  2.  2.  2.  2.  2.]\n",
      " [ 4.  4.  4.  4.  4.  4.  4.  4.  4.  4.  4.]\n",
      " [ 6.  6.  6.  6.  6.  6.  6.  6.  6.  6.  6.]\n",
      " [ 8.  8.  8.  8.  8.  8.  8.  8.  8.  8.  8.]\n",
      " [10. 10. 10. 10. 10. 10. 10. 10. 10. 10. 10.]\n",
      " [12. 12. 12. 12. 12. 12. 12. 12. 12. 12. 12.]\n",
      " [14. 14. 14. 14. 14. 14. 14. 14. 14. 14. 14.]\n",
      " [16. 16. 16. 16. 16. 16. 16. 16. 16. 16. 16.]\n",
      " [18. 18. 18. 18. 18. 18. 18. 18. 18. 18. 18.]\n",
      " [20. 20. 20. 20. 20. 20. 20. 20. 20. 20. 20.]]\n"
     ]
    }
   ],
   "source": [
    "# matrizes especais:\n",
    "M = np.identity(3)\n",
    "O = np.ones((3,1))\n",
    "Z = np.zeros((1,3))\n",
    "\n",
    "x = np.linspace(0,10,11)\n",
    "y = np.linspace(0,20,11)\n",
    "XMESH,YMESH = np.meshgrid(x,y)\n",
    "\n",
    "print(M)\n",
    "print(O)\n",
    "print(Z)\n",
    "print(XMESH)\n",
    "print(YMESH)\n"
   ]
  },
  {
   "cell_type": "code",
   "execution_count": 166,
   "id": "b1dba57f",
   "metadata": {
    "slideshow": {
     "slide_type": "fragment"
    }
   },
   "outputs": [
    {
     "name": "stdout",
     "output_type": "stream",
     "text": [
      "[[1. 0. 0.]\n",
      " [0. 1. 0.]\n",
      " [0. 0. 1.]\n",
      " [0. 0. 0.]]\n",
      "[[1. 0. 0. 1.]\n",
      " [0. 1. 0. 1.]\n",
      " [0. 0. 1. 1.]]\n"
     ]
    }
   ],
   "source": [
    "# concatenando matrizes:\n",
    "print(np.concatenate((M, Z)))\n",
    "print(np.concatenate((M, O), axis=1))"
   ]
  },
  {
   "cell_type": "code",
   "execution_count": 167,
   "id": "9fed04cd",
   "metadata": {
    "slideshow": {
     "slide_type": "fragment"
    }
   },
   "outputs": [
    {
     "data": {
      "text/plain": [
       "12"
      ]
     },
     "execution_count": 167,
     "metadata": {},
     "output_type": "execute_result"
    }
   ],
   "source": [
    "# Produto escalar:\n",
    "v = np.array([1,2,3])\n",
    "w = np.array([-1,5,1])\n",
    "np.dot(v,w)"
   ]
  },
  {
   "cell_type": "code",
   "execution_count": 175,
   "id": "acd39a52",
   "metadata": {
    "slideshow": {
     "slide_type": "fragment"
    }
   },
   "outputs": [
    {
     "data": {
      "text/plain": [
       "10"
      ]
     },
     "execution_count": 175,
     "metadata": {},
     "output_type": "execute_result"
    }
   ],
   "source": [
    "# Somatorio:\n",
    "v = np.array([1,2,3,-1,5])\n",
    "np.sum(v)"
   ]
  },
  {
   "cell_type": "code",
   "execution_count": 174,
   "id": "a3ac94f7",
   "metadata": {
    "slideshow": {
     "slide_type": "fragment"
    }
   },
   "outputs": [
    {
     "data": {
      "text/plain": [
       "-30"
      ]
     },
     "execution_count": 174,
     "metadata": {},
     "output_type": "execute_result"
    }
   ],
   "source": [
    "# Produtorio:\n",
    "v = np.array([1,2,3,-1,5])\n",
    "np.prod(v)"
   ]
  },
  {
   "cell_type": "code",
   "execution_count": 188,
   "id": "b13d1a6e",
   "metadata": {
    "slideshow": {
     "slide_type": "fragment"
    }
   },
   "outputs": [
    {
     "name": "stdout",
     "output_type": "stream",
     "text": [
      "Vetor de entrada:\n",
      " [[1 1 1 1]\n",
      " [0 1 2 3]] \n",
      "\n",
      "[1 2 3 4]\n",
      "[4 6]\n"
     ]
    }
   ],
   "source": [
    "# Somatorio em apena 1 eixo:\n",
    "v = np.array([[1,1,1,1], [0,1,2,3]] )\n",
    "print('Vetor de entrada:\\n', v, '\\n')\n",
    "print(np.sum(v, axis=0))\n",
    "print(np.sum(v, axis=1))"
   ]
  },
  {
   "cell_type": "code",
   "execution_count": 190,
   "id": "a7770a12",
   "metadata": {
    "slideshow": {
     "slide_type": "fragment"
    }
   },
   "outputs": [
    {
     "name": "stdout",
     "output_type": "stream",
     "text": [
      "Vetor de entrada\n",
      " [[1 1 1 1]\n",
      " [0 1 2 3]] \n",
      "\n",
      "[0 1 2 3]\n",
      "[1 0]\n"
     ]
    }
   ],
   "source": [
    "# Produtorio em apena 1 eixo:\n",
    "v = np.array([[1,1,1,1], [0,1,2,3]] )\n",
    "print('Vetor de entrada\\n', v, '\\n')\n",
    "print(np.prod(v, axis=0))\n",
    "print(np.prod(v, axis=1))"
   ]
  },
  {
   "cell_type": "code",
   "execution_count": 176,
   "id": "2d30074b",
   "metadata": {
    "slideshow": {
     "slide_type": "fragment"
    }
   },
   "outputs": [
    {
     "data": {
      "text/plain": [
       "2.0"
      ]
     },
     "execution_count": 176,
     "metadata": {},
     "output_type": "execute_result"
    }
   ],
   "source": [
    "# Média\n",
    "v = np.array([1,2,3,-1,5])\n",
    "np.mean(v)"
   ]
  },
  {
   "cell_type": "code",
   "execution_count": 201,
   "id": "c63fac22",
   "metadata": {
    "slideshow": {
     "slide_type": "fragment"
    }
   },
   "outputs": [
    {
     "data": {
      "text/plain": [
       "2.0"
      ]
     },
     "execution_count": 201,
     "metadata": {},
     "output_type": "execute_result"
    }
   ],
   "source": [
    "# Desvio padrão:\n",
    "v = np.array([1,2,3,-1,5])\n",
    "np.std(v)"
   ]
  },
  {
   "cell_type": "code",
   "execution_count": 178,
   "id": "b92ceae1",
   "metadata": {
    "slideshow": {
     "slide_type": "fragment"
    }
   },
   "outputs": [
    {
     "data": {
      "text/plain": [
       "4.0"
      ]
     },
     "execution_count": 178,
     "metadata": {},
     "output_type": "execute_result"
    }
   ],
   "source": [
    "# Variancia\n",
    "v = np.array([1,2,3,-1,5])\n",
    "np.var(v)"
   ]
  },
  {
   "cell_type": "code",
   "execution_count": 12,
   "id": "f5d021b6",
   "metadata": {
    "slideshow": {
     "slide_type": "fragment"
    }
   },
   "outputs": [
    {
     "name": "stdout",
     "output_type": "stream",
     "text": [
      "[1 2 3]\n"
     ]
    }
   ],
   "source": [
    "M = np.array([1,2,3])\n",
    "#A = M\n",
    "A = M.copy()\n",
    "\n",
    "A[0] = -10\n",
    "print(M)\n",
    "#M[0] = 10\n",
    "#print(A)"
   ]
  },
  {
   "cell_type": "markdown",
   "id": "272e64ef",
   "metadata": {
    "slideshow": {
     "slide_type": "slide"
    }
   },
   "source": [
    "# Exercícios"
   ]
  },
  {
   "cell_type": "markdown",
   "id": "348c614c",
   "metadata": {
    "slideshow": {
     "slide_type": "fragment"
    }
   },
   "source": [
    "Crie a matriz abaixo:\n",
    "\n",
    "$\n",
    "A = \\begin{bmatrix}\n",
    "1 & 3 & 5 \\\\\n",
    "2 & 4 & 8 \\\\\n",
    "-1 & -2 & -3\n",
    "\\end{bmatrix}\n",
    "$"
   ]
  },
  {
   "cell_type": "code",
   "execution_count": 14,
   "id": "0c5871a8",
   "metadata": {
    "slideshow": {
     "slide_type": "-"
    }
   },
   "outputs": [
    {
     "name": "stdout",
     "output_type": "stream",
     "text": [
      "[[ 1  3  5]\n",
      " [ 2  4  8]\n",
      " [-1 -2 -3]]\n"
     ]
    }
   ],
   "source": [
    "import numpy as np\n",
    "A = np.array([ [1, 3, 5], [2, 4, 8], [-1,-2,-3] ])\n",
    "print(A)"
   ]
  },
  {
   "cell_type": "markdown",
   "id": "79358471",
   "metadata": {
    "slideshow": {
     "slide_type": "fragment"
    }
   },
   "source": [
    "Dado o vetor:\n",
    "\n",
    "$\n",
    "v = \\begin{bmatrix} 10 & 20 & 30\\end{bmatrix}\n",
    "$\n",
    "\n",
    "Calcule o valor de $w$ onde:\n",
    "\n",
    "$\n",
    "w_i = v_i^2\n",
    "$"
   ]
  },
  {
   "cell_type": "code",
   "execution_count": 15,
   "id": "77a981b0",
   "metadata": {
    "slideshow": {
     "slide_type": "-"
    }
   },
   "outputs": [
    {
     "name": "stdout",
     "output_type": "stream",
     "text": [
      "[100 400 900]\n"
     ]
    }
   ],
   "source": [
    "import numpy as np\n",
    "v = np.array([10, 20, 30])\n",
    "w = v * v\n",
    "print(w)"
   ]
  },
  {
   "cell_type": "markdown",
   "id": "42495b2d",
   "metadata": {
    "slideshow": {
     "slide_type": "fragment"
    }
   },
   "source": [
    "Dados dois vetores:\n",
    "\n",
    "$\n",
    "v = \\begin{bmatrix} 10 & 20 & 30\\end{bmatrix}\n",
    "$\n",
    "\n",
    "e \n",
    "\n",
    "$\n",
    "w = \\begin{bmatrix} 2 & 5 & 1\\end{bmatrix}\n",
    "$\n",
    "\n",
    "Calcule o valor de:\n",
    "\n",
    "$\n",
    "\\sum v_i \\cdot w_i\n",
    "$"
   ]
  },
  {
   "cell_type": "code",
   "execution_count": null,
   "id": "75a1a40c",
   "metadata": {
    "slideshow": {
     "slide_type": "-"
    }
   },
   "outputs": [],
   "source": []
  },
  {
   "cell_type": "markdown",
   "id": "542adcd5",
   "metadata": {
    "slideshow": {
     "slide_type": "fragment"
    }
   },
   "source": [
    "A fórmula do desvio padrão é dada por:\n",
    "\n",
    "$\n",
    "d = \\sqrt{\\dfrac{\\sum\\limits_{i=1}^n (x_i - \\bar{x})^2}{n}}\n",
    "$\n",
    "\n",
    "Considere o vetor $v = \\begin{bmatrix} 1 & 2 & 3 & -1 & 5 \\end{bmatrix}$ e calcule manualmente o desvio padrão.\n",
    "\n",
    "Verifique a resposta utilizando a função `np.std()`"
   ]
  },
  {
   "cell_type": "code",
   "execution_count": null,
   "id": "829a7b10",
   "metadata": {
    "slideshow": {
     "slide_type": "-"
    }
   },
   "outputs": [],
   "source": []
  }
 ],
 "metadata": {
  "celltoolbar": "Slideshow",
  "kernelspec": {
   "display_name": "Python 3 (ipykernel)",
   "language": "python",
   "name": "python3"
  },
  "language_info": {
   "codemirror_mode": {
    "name": "ipython",
    "version": 3
   },
   "file_extension": ".py",
   "mimetype": "text/x-python",
   "name": "python",
   "nbconvert_exporter": "python",
   "pygments_lexer": "ipython3",
   "version": "3.9.12"
  },
  "latex_envs": {
   "LaTeX_envs_menu_present": true,
   "autoclose": true,
   "autocomplete": false,
   "bibliofile": "biblio.bib",
   "cite_by": "apalike",
   "current_citInitial": 1,
   "eqLabelWithNumbers": true,
   "eqNumInitial": 1,
   "hotkeys": {
    "equation": "Ctrl-E",
    "itemize": "Ctrl-I"
   },
   "labels_anchors": false,
   "latex_user_defs": false,
   "report_style_numbering": false,
   "user_envs_cfg": false
  }
 },
 "nbformat": 4,
 "nbformat_minor": 5
}
