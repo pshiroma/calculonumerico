{
 "cells": [
  {
   "cell_type": "markdown",
   "id": "da5f2b1f-8266-47d2-964d-d0da997f6fbe",
   "metadata": {},
   "source": [
    "# Raízes (zero) de função"
   ]
  },
  {
   "cell_type": "markdown",
   "id": "30646848-72c8-4390-be82-a5bea51d3814",
   "metadata": {
    "slideshow": {
     "slide_type": "slide"
    },
    "tags": []
   },
   "source": [
    "## Exercício 1"
   ]
  },
  {
   "cell_type": "markdown",
   "id": "95f44b7f-2ef3-4981-af99-9c471fac2b27",
   "metadata": {
    "slideshow": {
     "slide_type": "subslide"
    }
   },
   "source": [
    "Considere uma função $f(x)$ onde $f(x) = x^2 - 10x + 10$.\n",
    "Sabendo que a função acima assume os seguintes valores:\n",
    "\n",
    "| x  | 0.00 | 0.05 | 0.10 | 0.15 | 0.20 | 0.25 | 0.30 | 0.35 | 0.40 | 0.45 | 0.50 | 0.55 | 0.60 | 0.65 | 0.70 | 0.75 | 0.80 |\n",
    "|--- |---|---|---|---|---|---|---|---|---|---|---|---|---|---|---|---|---|\n",
    "| f(x) | 10.00 | 9.50 | 9.01 | 8.52 | 8.04 | 7.56 | 7.09 | 6.62 | 6.16 | 5.70 | 5.25 | 4.80 | 4.36 | 3.92 | 3.49 | 3.06 | 2.64 |\n",
    "\n",
    "| x  | 0.85 | 0.90 | 0.95 | 1.00 | 1.05 | 1.10 | 1.15 | 1.20 | 1.25 | 1.30 | 1.35 | 1.40 | 1.45 | 1.50 | 1.55 | 1.60 |\n",
    "|--- |---|---|---|---|---|---|---|---|---|---|---|---|---|---|---|---|\n",
    "| f(x) | 2.22 | 1.81 | 1.40 | 1.00 | 0.60 | 0.21 | -0.18 | -0.56 | -0.94 | -1.31 | -1.68 | -2.04 | -2.40 | -2.75 | -3.10 | -3.44 |\n",
    "\n",
    "Mostre os valores de $x_l$, $x_u$, e $x_r$ das 4 primeiras iterações do método da bissecção.\n",
    "\n",
    "Considere que, inicialmente, temos $x_l = 0$ e $x_u = 1,6$. "
   ]
  },
  {
   "cell_type": "markdown",
   "id": "2f687d08-92df-4f0b-bd53-700ecf58ec3e",
   "metadata": {},
   "source": [
    "| Iteração | xl | xr | xu |\n",
    "| --- | --- | --- | --- |\n",
    "| 0 | 0,0 | ___ | 1,6 |\n",
    "| 1 | ___ | ___ | ___ |\n",
    "| 2 | ___ | ___ | ___ |\n",
    "| 3 | ___ | ___ | ___ |\n",
    "| 4 | ___ | ___ | ___ |\n",
    "\n",
    "Sabendo que a raiz verdadeira é igual a 1,12701665, qual o erro relativo verdadeiro após 4 iterações?\n",
    "\n",
    "Qual o erro relativo aproximado após 4 iterações?\n",
    "\n",
    "Lembre-se que no método da bissecção, a estimativa da raiz é atualizada segundo a equação:\n",
    "\n",
    "$x_r = \\dfrac{x_l + x_r}{2}$.\n",
    "\n",
    "O erro relativo aproximado pode ser obtido a partir da fórmula:\n",
    "\n",
    "\\begin{equation} \n",
    "|\\epsilon_a| = \\bigg | \\dfrac{x_r^{novo} - x_r^{velho}}{x_r^{novo}} \\bigg |\n",
    "\\end{equation}\n",
    "\n",
    "O erro relativo verdadeiro pode ser obtido a partir da fórmula:\n",
    "\n",
    "\\begin{equation} \n",
    "|\\epsilon_t| = \\bigg | \\dfrac{x_r^{verd} - x_r^{est}}{x_r^{verd}} \\bigg |\n",
    "\\end{equation}"
   ]
  },
  {
   "cell_type": "code",
   "execution_count": 11,
   "id": "4b646f62-886e-479e-8a1a-11ea45295722",
   "metadata": {},
   "outputs": [
    {
     "name": "stdout",
     "output_type": "stream",
     "text": [
      "2.04%\n",
      "4.35%\n"
     ]
    }
   ],
   "source": [
    "from math import fabs\n",
    "\n",
    "x_verd = 1.12701665\n",
    "x_est = 1.15\n",
    "x_est_anterior = 1.1\n",
    "\n",
    "e_verd = fabs(x_verd - x_est)/x_verd\n",
    "\n",
    "print(f'{e_verd:.2%}')\n",
    "\n",
    "e_aproximado = fabs(x_est - x_est_anterior)/x_est\n",
    "\n",
    "print(f'{e_aproximado:.2%}')"
   ]
  },
  {
   "cell_type": "code",
   "execution_count": 1,
   "id": "32c55573-26be-4c78-a6ca-847c50b483fe",
   "metadata": {},
   "outputs": [
    {
     "data": {
      "text/plain": [
       "-0.1775000000000002"
      ]
     },
     "execution_count": 1,
     "metadata": {},
     "output_type": "execute_result"
    }
   ],
   "source": [
    "def f(x):\n",
    "    return x**2 - 10*x + 10\n",
    "\n",
    "f(1.15)"
   ]
  },
  {
   "cell_type": "markdown",
   "id": "6bcf88da-1e40-4309-84e4-7d27cb89543c",
   "metadata": {},
   "source": [
    "## Exercício 2"
   ]
  },
  {
   "cell_type": "markdown",
   "id": "9b22d766-d318-4214-afb6-b772633ef5e4",
   "metadata": {},
   "source": [
    "Considere uma função $f(x)$ onde $f(x) = x^2 - 10x + 10$.\n",
    "\n",
    "Mostre os valores de $x_l$, $x_u$, e $x_r$ das 4 primeiras iterações do método da falsa posição, considerando que, inicialmente, temos $x_l = 0$ e $x_u = 1,6$. \n",
    "\n",
    "Sabendo que a raiz verdadeira é igual a 1,12701665, determine o erro verdadeiro relativo após 4 iterações.\n",
    "\n",
    "Determine o erro aproximado relativo após 4 iterações.\n",
    "\n",
    "Lembre-se que, no método da falsa posição, a estimativa da raiz é atualizada utilizando-se a equação:\n",
    "\n",
    "\\begin{equation} \n",
    "x_r = x_u - \\dfrac{f(x_u)(x_l - x_u)}{f(x_l) - f(x_u)}\n",
    "\\end{equation}"
   ]
  },
  {
   "cell_type": "code",
   "execution_count": 28,
   "id": "2723b977-bdcb-4909-9a8f-e53db6036fcd",
   "metadata": {},
   "outputs": [
    {
     "name": "stdout",
     "output_type": "stream",
     "text": [
      "xr = 1.19, f(xl) = 10.00, f(xr) = -0.49\n"
     ]
    }
   ],
   "source": [
    "def xr(f, xl, xu):\n",
    "    return xu - f(xu)*(xl-xu)/(f(xl) - f(xu))\n",
    "\n",
    "xl = 0\n",
    "xu = 1.6\n",
    "_xr = xr(f, xl, xu)\n",
    "y = f(_xr)\n",
    "print(f'xr = {_xr:.2f}, f(xl) = {f(xl):.2f}, f(xr) = {y:.2f}')"
   ]
  },
  {
   "cell_type": "code",
   "execution_count": 29,
   "id": "8b1104a5-ea05-418d-9a73-53ca822dbe0a",
   "metadata": {},
   "outputs": [
    {
     "name": "stdout",
     "output_type": "stream",
     "text": [
      "xr = 1.14, f(xl) = 10.00, f(xr) = -0.06\n"
     ]
    }
   ],
   "source": [
    "xl = 0\n",
    "xu = _xr\n",
    "_xr = xr(f, xl, xu)\n",
    "y = f(_xr)\n",
    "print(f'xr = {_xr:.2f}, f(xl) = {f(xl):.2f}, f(xr) = {y:.2f}')"
   ]
  },
  {
   "cell_type": "code",
   "execution_count": 30,
   "id": "7fe8c671-2d3b-4a01-b42e-2d41c5f472b4",
   "metadata": {},
   "outputs": [
    {
     "name": "stdout",
     "output_type": "stream",
     "text": [
      "xr = 1.13, f(xl) = 10.00, f(xr) = -0.01\n"
     ]
    }
   ],
   "source": [
    "xl = 0\n",
    "xu = _xr\n",
    "_xr = xr(f, xl, xu)\n",
    "y = f(_xr)\n",
    "print(f'xr = {_xr:.2f}, f(xl) = {f(xl):.2f}, f(xr) = {y:.2f}')"
   ]
  },
  {
   "cell_type": "code",
   "execution_count": 31,
   "id": "8c853702-eeb9-44a9-8f95-f41644e255a7",
   "metadata": {},
   "outputs": [
    {
     "name": "stdout",
     "output_type": "stream",
     "text": [
      "xr = 1.12715, f(xl) = 10.00, f(xr) = -0.00102\n"
     ]
    }
   ],
   "source": [
    "xl = 0\n",
    "xu = _xr\n",
    "_xr = xr(f, xl, xu)\n",
    "y = f(_xr)\n",
    "print(f'xr = {_xr:.5f}, f(xl) = {f(xl):.2f}, f(xr) = {y:.5f}')"
   ]
  },
  {
   "cell_type": "code",
   "execution_count": 32,
   "id": "286065d1-9807-4061-972f-4fccd6e5e116",
   "metadata": {},
   "outputs": [
    {
     "name": "stdout",
     "output_type": "stream",
     "text": [
      "xr = 1.1270333, f(xl) = 10.00, f(xr) = -0.0001290\n"
     ]
    }
   ],
   "source": [
    "xl = 0\n",
    "xu = _xr\n",
    "_xr = xr(f, xl, xu)\n",
    "y = f(_xr)\n",
    "print(f'xr = {_xr:.7f}, f(xl) = {f(xl):.2f}, f(xr) = {y:.7f}')"
   ]
  },
  {
   "cell_type": "code",
   "execution_count": 34,
   "id": "608b8c1f-67e3-4bcb-ae17-1a532344054c",
   "metadata": {},
   "outputs": [
    {
     "name": "stdout",
     "output_type": "stream",
     "text": [
      "0.0015%\n",
      "0.0104%\n"
     ]
    }
   ],
   "source": [
    "x_verd = 1.12701665\n",
    "x_est = 1.1270333\n",
    "x_est_anterior = 1.12715\n",
    "\n",
    "e_verd = fabs(x_verd - x_est)/x_verd\n",
    "\n",
    "print(f'{e_verd:.4%}')\n",
    "\n",
    "e_aproximado = fabs(x_est - x_est_anterior)/x_est\n",
    "\n",
    "print(f'{e_aproximado:.4%}')"
   ]
  },
  {
   "cell_type": "markdown",
   "id": "911022ea-5072-4ad9-b517-7c6de16de308",
   "metadata": {},
   "source": [
    "| Iteração | xl | xr | xu |\n",
    "| --- | --- | --- | --- |\n",
    "| 0 | 0,0 | ___ | 1,6 |\n",
    "| 1 | ___ | ___ | ___ |\n",
    "| 2 | ___ | ___ | ___ |\n",
    "| 3 | ___ | ___ | ___ |\n",
    "| 4 | ___ | ___ | ___ |"
   ]
  },
  {
   "cell_type": "markdown",
   "id": "c08ab176-842a-498d-85f1-218ea56e2c02",
   "metadata": {},
   "source": [
    "## Exercício 3"
   ]
  },
  {
   "cell_type": "markdown",
   "id": "40b1b4ab-b607-425a-a1cd-c253331635f4",
   "metadata": {},
   "source": [
    "Considere uma função $f(x)$ onde $f(x) = x^2 - 10x + 10$.\n",
    "\n",
    "Mostre os valores de $x_i$ das 4 primeiras iterações do método do ponto-fixo, considerando que, inicialmente, temos $x_0 = 0$.\n",
    "\n",
    "No método do ponto fixo, a função de iteração tem o formato $g(x) = x + A(x)f(x)$.\n",
    "Para encontrar a função de iteração $g(x)$, podemos isolar o $x$ na equação:\n",
    "\n",
    "$x^2 - 10x + 10 = 0$ de diversas formas.\n",
    "\n",
    "Utilize as funções $g(x) = (x^2 + 10)/10$ e $g(x) = \\sqrt{10x-10}$\n",
    "\n",
    "Sabendo que a raiz verdadeira é igual a 1,12701665, determine o erro verdadeiro relativo após 4 iterações.\n",
    "\n",
    "Determine o erro aproximado relativo após 4 iterações.\n",
    "\n",
    "Lembre-se que, no método do ponto fixo, a estimativa da raiz é dada pela equação:\n",
    "\\begin{equation}\n",
    "x_{i+1} = g(x_i)\n",
    "\\end{equation}"
   ]
  },
  {
   "cell_type": "code",
   "execution_count": 40,
   "id": "e36dc346-71c3-4221-a892-b7f8fcf35953",
   "metadata": {},
   "outputs": [
    {
     "name": "stdout",
     "output_type": "stream",
     "text": [
      "3.1622776601683795\n",
      "4.65002974202142\n",
      "6.041547601419209\n",
      "7.100385624329998\n",
      "7.810496542685361\n",
      "8.252573260920112\n",
      "8.516204119747314\n",
      "8.669604442964692\n",
      "8.757627785516288\n",
      "8.807739656413721\n",
      "8.836141497516731\n",
      "8.852198313140489\n",
      "8.86126306636954\n",
      "8.866376411121704\n"
     ]
    }
   ],
   "source": [
    "import math as m\n",
    "def g(x):\n",
    "    return m.sqrt(10*x-10)\n",
    "    #return (x**2 + 10)/10\n",
    "\n",
    "xi = 2\n",
    "for _ in range(14):\n",
    "    xi = g(xi)\n",
    "    print(xi)"
   ]
  },
  {
   "cell_type": "markdown",
   "id": "99ccbf74-8fd4-48ec-b964-1a318b6500de",
   "metadata": {},
   "source": [
    "| Iteração | xi | g(xi) |\n",
    "| --- | --- | --- | \n",
    "| 0 | 0,0 | ___ | \n",
    "| 1 | ___ | ___ | \n",
    "| 2 | ___ | ___ | \n",
    "| 3 | ___ | ___ | \n",
    "| 4 | ___ | ___ | "
   ]
  },
  {
   "cell_type": "markdown",
   "id": "12a811b4-e041-40bd-96b2-7e05ff0c0847",
   "metadata": {},
   "source": [
    "## Exercício 4"
   ]
  },
  {
   "cell_type": "markdown",
   "id": "5e8522b3-6cb4-4dd1-bf33-9d1c6a85bec4",
   "metadata": {},
   "source": [
    "Considere uma função $f(x)$ onde $f(x) = x^2 - 10x + 10$.\n",
    "\n",
    "Mostre os valores de $x_i$ das 4 primeiras iterações do método de Newton-Raphson, considerando que, inicialmente, temos $x_0 = 0$. \n",
    "\n",
    "Sabendo que a raiz verdadeira é igual a 1,12701665, determine o erro verdadeiro relativo após 4 iterações.\n",
    "\n",
    "Determine o erro aproximado relativo após 4 iterações.\n",
    "\n",
    "Lembre-se que, no método de Newton-Raphson, a estimativa da raiz é dada pela equação:\n",
    "\n",
    "\\begin{equation} \\label{eq:newtonraphson}\n",
    "x_{i+1} = x_i - \\dfrac{f(x_i)}{f'(x_i)}\n",
    "\\end{equation}\n"
   ]
  },
  {
   "cell_type": "code",
   "execution_count": 42,
   "id": "a916fb67-f59e-477b-9a0c-71de6dc81a9d",
   "metadata": {},
   "outputs": [
    {
     "name": "stdout",
     "output_type": "stream",
     "text": [
      "1.0\n",
      "1.125\n",
      "1.127016129032258\n",
      "1.1270166537925477\n"
     ]
    }
   ],
   "source": [
    "def df(x):\n",
    "    return 2*x - 10\n",
    "\n",
    "def xi_1(f, df, xi):\n",
    "    return xi - f(xi)/df(xi)\n",
    "\n",
    "xi = 0\n",
    "for _ in range(4):\n",
    "    xi = xi_1(f, df, xi)\n",
    "    print(xi)"
   ]
  },
  {
   "cell_type": "markdown",
   "id": "b62b3cfb-e040-4bb1-b8ab-751558191040",
   "metadata": {},
   "source": [
    "| Iteração | xi | f(xi) | f'(xi) |\n",
    "| --- | --- | --- | --- |\n",
    "| 0 | 0,0 | ___ | ___ |\n",
    "| 1 | ___ | ___ | ___ |\n",
    "| 2 | ___ | ___ | ___ |\n",
    "| 3 | ___ | ___ | ___ |\n",
    "| 4 | ___ | ___ | ___ |"
   ]
  }
 ],
 "metadata": {
  "kernelspec": {
   "display_name": "Python 3 (ipykernel)",
   "language": "python",
   "name": "python3"
  },
  "language_info": {
   "codemirror_mode": {
    "name": "ipython",
    "version": 3
   },
   "file_extension": ".py",
   "mimetype": "text/x-python",
   "name": "python",
   "nbconvert_exporter": "python",
   "pygments_lexer": "ipython3",
   "version": "3.9.12"
  }
 },
 "nbformat": 4,
 "nbformat_minor": 5
}
