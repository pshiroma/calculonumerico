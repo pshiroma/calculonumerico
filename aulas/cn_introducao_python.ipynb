{
 "cells": [
  {
   "cell_type": "markdown",
   "id": "32453550",
   "metadata": {
    "slideshow": {
     "slide_type": "slide"
    }
   },
   "source": [
    "# Introdução ao Python"
   ]
  },
  {
   "cell_type": "markdown",
   "id": "9ee88249",
   "metadata": {
    "slideshow": {
     "slide_type": "skip"
    }
   },
   "source": [
    "Material de referência:\n",
    "\n",
    "https://docs.python.org/pt-br/3.9/library/index.html"
   ]
  },
  {
   "cell_type": "markdown",
   "id": "81ab43e4",
   "metadata": {
    "slideshow": {
     "slide_type": "slide"
    }
   },
   "source": [
    "## Imprimindo na tela"
   ]
  },
  {
   "cell_type": "code",
   "execution_count": 2,
   "id": "c7f61356",
   "metadata": {
    "scrolled": true,
    "slideshow": {
     "slide_type": "subslide"
    }
   },
   "outputs": [
    {
     "name": "stdout",
     "output_type": "stream",
     "text": [
      "Entre com um dado: 123\n"
     ]
    }
   ],
   "source": [
    "x = input('Entre com um dado: ')"
   ]
  },
  {
   "cell_type": "code",
   "execution_count": 2,
   "id": "cbc7ea41",
   "metadata": {
    "slideshow": {
     "slide_type": "-"
    }
   },
   "outputs": [
    {
     "name": "stdout",
     "output_type": "stream",
     "text": [
      "32\n"
     ]
    }
   ],
   "source": [
    "print(x)"
   ]
  },
  {
   "cell_type": "code",
   "execution_count": 3,
   "id": "b71535d8",
   "metadata": {
    "slideshow": {
     "slide_type": "fragment"
    }
   },
   "outputs": [
    {
     "name": "stdout",
     "output_type": "stream",
     "text": [
      "O valor que você entrou foi: 123\n"
     ]
    }
   ],
   "source": [
    "print('O valor que você entrou foi:', x)"
   ]
  },
  {
   "cell_type": "code",
   "execution_count": 5,
   "id": "967d013f",
   "metadata": {
    "slideshow": {
     "slide_type": "fragment"
    }
   },
   "outputs": [
    {
     "name": "stdout",
     "output_type": "stream",
     "text": [
      "1.6666666666666667\n"
     ]
    }
   ],
   "source": [
    "y = 5/3\n",
    "print(y)"
   ]
  },
  {
   "cell_type": "code",
   "execution_count": 6,
   "id": "1598bc45",
   "metadata": {
    "slideshow": {
     "slide_type": "fragment"
    }
   },
   "outputs": [
    {
     "name": "stdout",
     "output_type": "stream",
     "text": [
      "O valor de y é 1.6666666666666667\n"
     ]
    }
   ],
   "source": [
    "print('O valor de y é',  y)"
   ]
  },
  {
   "cell_type": "markdown",
   "id": "331be617",
   "metadata": {
    "slideshow": {
     "slide_type": "fragment"
    }
   },
   "source": [
    "### F-string\n",
    "\n",
    "Existem várias formas de controlar a formatação da saída.\n",
    "Uma delas é utilizando as chamadas \"f-strings\"."
   ]
  },
  {
   "cell_type": "markdown",
   "id": "b43d3206",
   "metadata": {
    "slideshow": {
     "slide_type": "-"
    }
   },
   "source": [
    "**Controlando quantas casas decimais serão impressas:**"
   ]
  },
  {
   "cell_type": "code",
   "execution_count": 8,
   "id": "da2a5248",
   "metadata": {
    "slideshow": {
     "slide_type": "-"
    }
   },
   "outputs": [
    {
     "name": "stdout",
     "output_type": "stream",
     "text": [
      "O valor de y com 2 casas decimais é 1.67. Agora com 4 casas: 1.6667\n"
     ]
    }
   ],
   "source": [
    "print(f'O valor de y com 2 casas decimais é {y:.2f}. Agora com 4 casas: {y:.4f}')"
   ]
  },
  {
   "cell_type": "markdown",
   "id": "f9b95232",
   "metadata": {
    "slideshow": {
     "slide_type": "fragment"
    }
   },
   "source": [
    "**Executando código dentro da string:**"
   ]
  },
  {
   "cell_type": "code",
   "execution_count": 13,
   "id": "0d63724b",
   "metadata": {
    "slideshow": {
     "slide_type": "-"
    }
   },
   "outputs": [
    {
     "name": "stdout",
     "output_type": "stream",
     "text": [
      "O valor de 10*y é 2.666666666666667\n"
     ]
    }
   ],
   "source": [
    "print(f'O valor de 10*y é {y+1}')"
   ]
  },
  {
   "cell_type": "code",
   "execution_count": 14,
   "id": "ac3db26c",
   "metadata": {
    "slideshow": {
     "slide_type": "-"
    }
   },
   "outputs": [
    {
     "name": "stdout",
     "output_type": "stream",
     "text": [
      "Aviso! AVISO!\n"
     ]
    }
   ],
   "source": [
    "texto = \"Aviso!\"\n",
    "print(f'{texto} {texto.upper()}')"
   ]
  },
  {
   "cell_type": "markdown",
   "id": "c1b35449",
   "metadata": {
    "slideshow": {
     "slide_type": "fragment"
    }
   },
   "source": [
    "**Outras formatações de números:**"
   ]
  },
  {
   "cell_type": "code",
   "execution_count": 21,
   "id": "af08a6b9",
   "metadata": {
    "slideshow": {
     "slide_type": "-"
    }
   },
   "outputs": [
    {
     "name": "stdout",
     "output_type": "stream",
     "text": [
      "Imprimindo y com 6 caracteres no total, sendo 2 casas decimais:   1.67\n",
      "Imprimindo y com 6 caracteres no total, preenchendo de zeros à esquerda e 2 casas decimais: 001.67\n",
      "Convertendo para porcentagem com 2 casas decimais: 166.67%\n"
     ]
    }
   ],
   "source": [
    "print(f'Imprimindo y com 6 caracteres no total, sendo 2 casas decimais: {y:6.2f}')\n",
    "print(f'Imprimindo y com 6 caracteres no total, preenchendo de zeros à esquerda e 2 casas decimais: {y:06.2f}')\n",
    "print(f'Convertendo para porcentagem com 2 casas decimais: {y:.2%}')"
   ]
  },
  {
   "cell_type": "markdown",
   "id": "074e5f64",
   "metadata": {
    "slideshow": {
     "slide_type": "slide"
    }
   },
   "source": [
    "## Entrada de dados\n",
    "\n",
    "Vamos ver agora como ler uma entrada do usuário e armazená-la em uma variável:"
   ]
  },
  {
   "cell_type": "code",
   "execution_count": 10,
   "id": "71050907",
   "metadata": {
    "slideshow": {
     "slide_type": "subslide"
    }
   },
   "outputs": [
    {
     "name": "stdout",
     "output_type": "stream",
     "text": [
      "23\n",
      "O valor que você entrou foi de 23 e o valor de x é 54\n"
     ]
    }
   ],
   "source": [
    "y = input()\n",
    "print(\"O valor que você entrou foi de\", y , \"e o valor de x é\", x)"
   ]
  },
  {
   "cell_type": "markdown",
   "id": "86b2a8a9",
   "metadata": {
    "slideshow": {
     "slide_type": "slide"
    }
   },
   "source": [
    "## Tipos básicos de dados"
   ]
  },
  {
   "cell_type": "markdown",
   "id": "47b7cbdc",
   "metadata": {
    "slideshow": {
     "slide_type": "-"
    }
   },
   "source": [
    "O Python possui os seguintes tipos de dados:\n",
    "\n",
    "* Número inteiro (int)\n",
    "* Número real (float)\n",
    "* String (str)\n",
    "* Lógico (bool)"
   ]
  },
  {
   "cell_type": "code",
   "execution_count": 100,
   "id": "a1d6f487",
   "metadata": {
    "slideshow": {
     "slide_type": "fragment"
    }
   },
   "outputs": [
    {
     "name": "stdout",
     "output_type": "stream",
     "text": [
      "<class 'int'>\n",
      "<class 'float'>\n",
      "<class 'str'>\n",
      "<class 'bool'>\n"
     ]
    }
   ],
   "source": [
    "print( type(42) )\n",
    "print( type(3.14) )\n",
    "print( type('Um texto') )\n",
    "print( type(True) )"
   ]
  },
  {
   "cell_type": "markdown",
   "id": "4f86f5f3",
   "metadata": {
    "slideshow": {
     "slide_type": "subslide"
    }
   },
   "source": [
    "**Conversão entre tipos de dados:**"
   ]
  },
  {
   "cell_type": "code",
   "execution_count": 27,
   "id": "470b5c6b",
   "metadata": {
    "slideshow": {
     "slide_type": "-"
    }
   },
   "outputs": [
    {
     "name": "stdout",
     "output_type": "stream",
     "text": [
      "Entre com um número: 32\n",
      "32.0\n",
      "<class 'float'>\n",
      "string\n",
      "<class 'str'>\n"
     ]
    }
   ],
   "source": [
    "x = int(3.14)\n",
    "#print(x)\n",
    "y = int(0.94)\n",
    "#print(y)\n",
    "t = input('Entre com um número: ')\n",
    "\n",
    "z = float(t)\n",
    "print(z)\n",
    "print(type(z))\n",
    "z = 'string'\n",
    "print(z)\n",
    "print(type(z))\n",
    "\n",
    "#print( type(t) , type(z))\n",
    "#print(t, z)"
   ]
  },
  {
   "cell_type": "markdown",
   "id": "9e39e6e7",
   "metadata": {
    "slideshow": {
     "slide_type": "slide"
    }
   },
   "source": [
    "## Conjuntos de dados\n",
    "\n",
    "No python,  existem vários tipos \n",
    "\n",
    "* Listas (list)\n",
    "* Sequências (sequence)\n",
    "* Conjuntos (set)\n",
    "* Dicionários (dict)* "
   ]
  },
  {
   "cell_type": "markdown",
   "id": "1592b95c",
   "metadata": {
    "slideshow": {
     "slide_type": "subslide"
    }
   },
   "source": [
    "**Listas**"
   ]
  },
  {
   "cell_type": "code",
   "execution_count": 41,
   "id": "0b2bc244",
   "metadata": {
    "slideshow": {
     "slide_type": "-"
    }
   },
   "outputs": [
    {
     "name": "stdout",
     "output_type": "stream",
     "text": [
      "O valor do penúltimo elemento é: 16\n"
     ]
    }
   ],
   "source": [
    "squares = [1, 4, 9, 16, 25]\n",
    "\n",
    "lista = ['ab', 'fda', 'asdf a']\n",
    "\n",
    "#print('A variavel possui', len(squares), 'elementos')\n",
    "#print('O valor do primeiro elemento é :', squares[0])\n",
    "#print('O valor do segundo elemento é  :', squares[1])\n",
    "#print('O valor do último elemento é   :', squares[-1])\n",
    "print('O valor do penúltimo elemento é:', squares[-2]) "
   ]
  },
  {
   "cell_type": "code",
   "execution_count": 50,
   "id": "535798f1",
   "metadata": {
    "slideshow": {
     "slide_type": "fragment"
    }
   },
   "outputs": [
    {
     "data": {
      "text/plain": [
       "[4, 9]"
      ]
     },
     "execution_count": 50,
     "metadata": {},
     "output_type": "execute_result"
    }
   ],
   "source": [
    "squares[1:-2]"
   ]
  },
  {
   "cell_type": "code",
   "execution_count": 52,
   "id": "c9a6eac0",
   "metadata": {},
   "outputs": [],
   "source": [
    "teste = 'asf sad safe a vbsdfgas'"
   ]
  },
  {
   "cell_type": "code",
   "execution_count": 57,
   "id": "a1d8a200",
   "metadata": {},
   "outputs": [
    {
     "data": {
      "text/plain": [
       "'sad safe a vbs'"
      ]
     },
     "execution_count": 57,
     "metadata": {},
     "output_type": "execute_result"
    }
   ],
   "source": [
    "teste[4:-5]"
   ]
  },
  {
   "cell_type": "code",
   "execution_count": 51,
   "id": "011ead2e",
   "metadata": {
    "slideshow": {
     "slide_type": "fragment"
    }
   },
   "outputs": [
    {
     "name": "stdout",
     "output_type": "stream",
     "text": [
      "[1, 4, 9, 16, 25, 36, 49, 64]\n"
     ]
    }
   ],
   "source": [
    "sq2 = squares + [36, 49, 64] \n",
    "print(sq2)"
   ]
  },
  {
   "cell_type": "markdown",
   "id": "b7d03d78",
   "metadata": {
    "slideshow": {
     "slide_type": "slide"
    }
   },
   "source": [
    "# Organização do código"
   ]
  },
  {
   "cell_type": "markdown",
   "id": "990f50fa",
   "metadata": {
    "slideshow": {
     "slide_type": "subslide"
    }
   },
   "source": [
    "É recomendável organizar o código-fonte de forma que ele fique bem estruturado.\n",
    "\n",
    "A forma como organizamos um código no Jupyter é um pouco diferente daquela encontrada em um compilador tradicional.\n",
    "Por exemplo, em um compilador C normalmente temos uma função principal:\n",
    "```\n",
    "int main()\n",
    "{\n",
    "}\n",
    "```\n",
    "e o seu código seria escrito dentro desta função.\n",
    "\n",
    "No ambiente jupyter não temos uma função principal, sendo os comandos organizados dentro das células."
   ]
  },
  {
   "cell_type": "markdown",
   "id": "655006d2",
   "metadata": {
    "slideshow": {
     "slide_type": "subslide"
    }
   },
   "source": [
    "Vamos, por questão meramente didática, dividir o código-fonte em células segundo o critério a seguir:\n",
    "\n",
    "1. Inclusão das bibliotecas: Nesta célula vamos realizar os comandos do tipo `import biblioteca`. \n",
    "2. Definição de constantes e variáveis: Nesta(s) célula(s) vamos definir as constantes e variáveis (que possuem valor inicial) que serão usadas durante o código.\n",
    "3. Desenvolvimento do algoritmo: Nesta(s) célula(s) vamos desenvolver o(s) algoritmo(s)."
   ]
  },
  {
   "cell_type": "markdown",
   "id": "0833454e",
   "metadata": {
    "slideshow": {
     "slide_type": "slide"
    }
   },
   "source": [
    "## Exemplo\n",
    "\n",
    "Vamos criar um código para calcular o IMC (índice de massa corporal) de uma pessoa.\n",
    "O IMC é dado pela fórmula:\n",
    "\n",
    "$\n",
    "IMC = \\frac{\\text{massa}}{\\text{altura} \\cdot \\text{altura}}\n",
    "$\n",
    "\n",
    "onde:\n",
    "\n",
    "* massa: Dado em quilogramas;\n",
    "* altura: Dado em metros.\n",
    "\n",
    "Obs.: O IMC ideal encontra-se na faixa entre 18,50 e 24,99.\n",
    "\n",
    "Fonte: https://pt.wikipedia.org/wiki/%C3%8Dndice_de_massa_corporal"
   ]
  },
  {
   "cell_type": "markdown",
   "id": "b9d352d8",
   "metadata": {
    "slideshow": {
     "slide_type": "subslide"
    }
   },
   "source": [
    "### Inclusão das bibliotecas\n",
    "\n",
    "Este exemplo não irá necessitar de nenhuma biblioteca extra."
   ]
  },
  {
   "cell_type": "markdown",
   "id": "77f6042c",
   "metadata": {
    "slideshow": {
     "slide_type": "subslide"
    }
   },
   "source": [
    "### Definição de constantes e variáveis\n",
    "\n",
    "Neste exemplo não iremos ter constantes e as variáveis não possuem valor inicial."
   ]
  },
  {
   "cell_type": "markdown",
   "id": "a5cfa55e",
   "metadata": {
    "slideshow": {
     "slide_type": "subslide"
    }
   },
   "source": [
    "### Desenvolvimento do algoritmo"
   ]
  },
  {
   "cell_type": "code",
   "execution_count": 60,
   "id": "1232496c",
   "metadata": {
    "slideshow": {
     "slide_type": "-"
    }
   },
   "outputs": [
    {
     "name": "stdout",
     "output_type": "stream",
     "text": [
      "Entre com a massa: 70\n",
      "Entre com a altura: 1.65\n",
      "Seu imc é de 25.71\n"
     ]
    }
   ],
   "source": [
    "# Vamos usar o comando float() para converter a entrada em um número real\n",
    "massa = float(input(\"Entre com a massa: \"))\n",
    "altura = float(input(\"Entre com a altura: \"))\n",
    "imc = massa / (altura*altura)\n",
    "print(f\"Seu imc é de {imc:.2f}\")"
   ]
  },
  {
   "cell_type": "markdown",
   "id": "a8c121eb",
   "metadata": {},
   "source": [
    "## Exemplo 2"
   ]
  },
  {
   "cell_type": "markdown",
   "id": "4fbb7183",
   "metadata": {},
   "source": [
    "Vamos criar um programa que sorteia um número inteiro aleatório entre 1 e 10 e imprime-o na tela."
   ]
  },
  {
   "cell_type": "code",
   "execution_count": 3,
   "id": "ef1d0e2e",
   "metadata": {},
   "outputs": [],
   "source": [
    "import random"
   ]
  },
  {
   "cell_type": "code",
   "execution_count": 51,
   "id": "cdab2750",
   "metadata": {},
   "outputs": [
    {
     "name": "stdout",
     "output_type": "stream",
     "text": [
      "O valor sorteado foi: 5\n"
     ]
    }
   ],
   "source": [
    "x = random.randint(1,10)\n",
    "print('O valor sorteado foi:', x)"
   ]
  },
  {
   "cell_type": "markdown",
   "id": "b927f6de",
   "metadata": {
    "slideshow": {
     "slide_type": "slide"
    }
   },
   "source": [
    "## Exemplo 3\n",
    "\n",
    "Vamos criar um algoritmo para calcular a área de um círculo."
   ]
  },
  {
   "cell_type": "markdown",
   "id": "88a25ef7",
   "metadata": {
    "slideshow": {
     "slide_type": "subslide"
    }
   },
   "source": [
    "### Inclusão das bibliotecas\n",
    "\n",
    "Vamos incluir a biblioteca `math` para termos o valor de $\\pi$.\n",
    "Vamos também renomeá-la para `m`, para deixar o código mais limpo.\n",
    "<div class=\"alert alert-info\">Observe que só precisamos importar uma biblioteca uma única vez em cada notebook.</div>"
   ]
  },
  {
   "cell_type": "code",
   "execution_count": 61,
   "id": "6dce75de",
   "metadata": {
    "slideshow": {
     "slide_type": "-"
    }
   },
   "outputs": [],
   "source": [
    "import math as m"
   ]
  },
  {
   "cell_type": "code",
   "execution_count": 62,
   "id": "32321e6c",
   "metadata": {
    "slideshow": {
     "slide_type": "-"
    }
   },
   "outputs": [
    {
     "name": "stdout",
     "output_type": "stream",
     "text": [
      "Entre com o raio: 4\n",
      "A área é de 50.26548245743669\n"
     ]
    }
   ],
   "source": [
    "raio = float(input(\"Entre com o raio: \")) \n",
    "area = m.pi * raio ** 2\n",
    "print(\"A área é de\", area)"
   ]
  },
  {
   "cell_type": "markdown",
   "id": "9c1b563a",
   "metadata": {
    "slideshow": {
     "slide_type": "subslide"
    }
   },
   "source": [
    "Caso você queira formatar a saída para apresentar apenas 2 algarismos após a vírgula, uma das formas possíveis é utilizar as `f-strings` (https://pythonacademy.com.br/blog/f-strings-no-python)"
   ]
  },
  {
   "cell_type": "code",
   "execution_count": 30,
   "id": "bf82f086",
   "metadata": {
    "slideshow": {
     "slide_type": "-"
    }
   },
   "outputs": [
    {
     "name": "stdout",
     "output_type": "stream",
     "text": [
      "A área é de 12.57\n"
     ]
    }
   ],
   "source": [
    "print(f'A área é de {area:.2f}')"
   ]
  },
  {
   "cell_type": "markdown",
   "id": "8bc2b34e",
   "metadata": {
    "slideshow": {
     "slide_type": "slide"
    }
   },
   "source": [
    "## Exemplo 4: Constantes"
   ]
  },
  {
   "cell_type": "markdown",
   "id": "83b36f86",
   "metadata": {},
   "source": [
    "Um carro A viaja de Ouro Branco à Belo Horizonte a uma velocidade de 80km/h.\n",
    "\n",
    "Outro carro B viaja de Belo Horizonte à Ouro Branco a uma velocidade de 100km/h.\n",
    "\n",
    "Sabendo que a distância entre as cidades é de 100km e que eles saíram no mesmo horário, em qual quilômetro eles irão se encontrar?\n",
    "\n",
    "https://www.sofisica.com.br/conteudos/Mecanica/Cinematica/mu.php"
   ]
  },
  {
   "cell_type": "markdown",
   "id": "4e9eecc0",
   "metadata": {
    "slideshow": {
     "slide_type": "subslide"
    }
   },
   "source": [
    "Sabemos que a equação de um movimento uniforme é dado por:\n",
    "\n",
    "\\begin{equation}\n",
    "S_{final} = S_{inicial} + v \\Delta t\n",
    "\\end{equation}"
   ]
  },
  {
   "cell_type": "markdown",
   "id": "37fefe24",
   "metadata": {
    "slideshow": {
     "slide_type": "subslide"
    }
   },
   "source": [
    "Temos que:\n",
    "\n",
    "Para o carro A:\n",
    "\n",
    "* $S^A_{inicial} = 0$\n",
    "* $v_A = 80$\n",
    "\n",
    "Para o carro B:\n",
    "\n",
    "* $S^B_{inicial} = 100$\n",
    "* $v_B = -100$\n",
    "\n",
    "E finalmente:\n",
    "\n",
    "* $S^A_{final} = S^B_{final}$\n",
    "* $\\Delta t_A = \\Delta t_B$\n"
   ]
  },
  {
   "cell_type": "markdown",
   "id": "f468cc7b",
   "metadata": {
    "slideshow": {
     "slide_type": "subslide"
    }
   },
   "source": [
    "Substituindo os valores chegamos em:\n",
    "  \n",
    "$S^A_{inicial} + v_A \\Delta t = S^B_{inicial} + v_B \\Delta t$\n",
    "\n",
    "Ou seja:\n",
    "\n",
    "$\\Delta t = \\dfrac{S^B_{inicial} - S^A_{inicial}}{v_A - v_B}$\n",
    "\n",
    "E:\n",
    "\n",
    "$S_{final} = S^A_{inicial} + v_A \\Delta t$"
   ]
  },
  {
   "cell_type": "code",
   "execution_count": 72,
   "id": "021c6557",
   "metadata": {
    "slideshow": {
     "slide_type": "subslide"
    }
   },
   "outputs": [],
   "source": [
    "velocidade_a = 20\n",
    "velocidade_b = -20\n",
    "distancia = 100\n",
    "s_a = 0\n",
    "s_b = distancia"
   ]
  },
  {
   "cell_type": "code",
   "execution_count": 73,
   "id": "3292a062",
   "metadata": {
    "slideshow": {
     "slide_type": "-"
    }
   },
   "outputs": [
    {
     "name": "stdout",
     "output_type": "stream",
     "text": [
      "Eles irão se encontrar no km: 50.00\n"
     ]
    }
   ],
   "source": [
    "Delta_t = (s_b - s_a)/(velocidade_a - velocidade_b)\n",
    "posicao_final = s_a + velocidade_a * Delta_t\n",
    "print(f'Eles irão se encontrar no km: {posicao_final:.2f}')"
   ]
  },
  {
   "cell_type": "markdown",
   "id": "aef710c6",
   "metadata": {
    "slideshow": {
     "slide_type": "slide"
    }
   },
   "source": [
    "## Exemplo 5: Booleanos"
   ]
  },
  {
   "cell_type": "markdown",
   "id": "da1b9b6a",
   "metadata": {
    "slideshow": {
     "slide_type": "skip"
    }
   },
   "source": [
    "O tipo de dados `bool` armazena valores do tipo *verdadeiro* e *falso*.\n",
    "Seu nome tem origem no matemático <a href=https://www.tecmundo.com.br/programacao/1527-logica-booleana-saiba-um-pouco-mais-sobre-esta-logica-e-como-ela-funciona.htm>George Boole</a>, criador da álgebra booleana.\n",
    "\n",
    "A álgebra de Boole baseia-se em três operadores: E, OU e NÃO (AND, OR, NOT), e foi fundamental para o desenvolvimento dos circuitos lógicos, base dos computadores modernos.\n",
    "Ou seja, embora um microprocessador pareça ser algo extremamente complicado, caso pudéssemos visualizá-lo no seu nível mais fundamental, veríamos milhões de portas lógicas conectadas entre si.\n",
    "\n",
    "Um aspecto interessante é que tais portas lógicas foram inicialmente implementadas com relés, depois válvulas e por último transistores e os circuitos integrados.\n",
    "<a href=https://tecdicas.com/criando-portas-logicas-com-transistores/>[saiba mais]</a>\n",
    "\n",
    "Outra aplicação que tem mostrado crescimento expressivo é na área de biologia sintética, onde circuitos lógicos *biológicos* são inseridos dentro de células, ajustando o fluxo metabólico com o intuito de gerar células que produzam um produto de interesse. \n",
    "Por exemplo, uma bactéria pode ser alterada de forma a apresentar bioluminescência na presença de metais pesados ou toxinas, tornando-se um <a href=https://bv.fapesp.br/pt/bolsas/166316/construcao-de-biossensores-de-arsenio-ultrassensiveis-atraves-da-abordagem-da-biologia-sintetica/>biossensor</a>.\n",
    "Outros exemplos são a produção de <a href=https://www.perfectdayfoods.com/>leite sintético</a> ou um assento feito de <a href=https://forbes.com.br/negocios/2019/09/conheca-cinco-empresas-de-biologia-sintetica-que-vao-mudar-a-industria-automotiva/>teias de aranha</a>.\n",
    "<a href=https://www.blogs.unicamp.br/synbiobrasil/tag/logica-booleana/>[saiba mais]</a>\n",
    "<a href=https://repositorio.unb.br/handle/10482/35547>[Duarte 2019, UnB]</a>\n",
    "\n",
    "Veremos mais a frente, quando estivermos falando de comandos condicionais (`if`), laços (`while`) e operações lógicas a utilização de variáveis do tipo booleano."
   ]
  },
  {
   "cell_type": "code",
   "execution_count": 84,
   "id": "898c7eea",
   "metadata": {
    "slideshow": {
     "slide_type": "subslide"
    }
   },
   "outputs": [
    {
     "name": "stdout",
     "output_type": "stream",
     "text": [
      "Operador not:\n",
      "False\n",
      "False\n",
      "True\n",
      "True\n",
      "\n",
      "Operador and:\n",
      "\n",
      "V and V:  True\n",
      "True\n",
      "1 > 0 and 3 < 4:  True\n",
      "V and F:  False\n",
      "1 > 0 and 5 == 2:  False\n",
      "F and F:  False\n",
      "3 > 5 and 3 > 6:  False\n",
      "\n",
      "Operador or:\n",
      "\n",
      "V or V:  True\n",
      "4 > 4 or 3 < 4:  True\n",
      "V or F:  True\n",
      "4 >= 4 or 5 == 2:  True\n",
      "F or F:  False\n",
      "3 >= 5 or 3 != 3:  True\n"
     ]
    }
   ],
   "source": [
    "# Vamos criar algumas variaveis e armazenar valores booleanos nelas:\n",
    "V1 = True \n",
    "V2 = True\n",
    "F1 = False\n",
    "F2 = False\n",
    "\n",
    "# Em seguida, vamos imprimir o resultado de algumas operacoes boolenas:\n",
    "# Operador not:\n",
    "print('Operador not:')\n",
    "print(not True)\n",
    "print(not V1)\n",
    "\n",
    "print(not False)\n",
    "print(not F1)\n",
    "\n",
    "# Operador and:\n",
    "print('\\nOperador and:\\n')\n",
    "print('V and V: ', True and True)\n",
    "\n",
    "print(V1 and V2)\n",
    "\n",
    "res = 1 > 0 and 3 < 4\n",
    "\n",
    "print('1 > 0 and 3 < 4: ', res)\n",
    "\n",
    "print('V and F: ', True and False)\n",
    "\n",
    "res = 1 > 0 and 5 == 2\n",
    "\n",
    "print('1 > 0 and 5 == 2: ', res)\n",
    "\n",
    "print('F and F: ',False and False)\n",
    "\n",
    "res = 3 > 5 and 3 > 6\n",
    "\n",
    "print('3 > 5 and 3 > 6: ', res)\n",
    "\n",
    "# Operador or:\n",
    "print('\\nOperador or:\\n')\n",
    "print('V or V: ', True or True)\n",
    "print('4 > 4 or 3 < 4: ', 4 > 4 or 3 < 4)\n",
    "\n",
    "print('V or F: ', True or False)\n",
    "print('4 >= 4 or 5 == 2: ', 4 >= 4 or 5 == 2)\n",
    "\n",
    "print('F or F: ', False or False)\n",
    "print('3 >= 5 or 3 != 3: ', 3 >= 5 or 3 != 6)\n"
   ]
  },
  {
   "cell_type": "markdown",
   "id": "6902a3f3",
   "metadata": {
    "heading_collapsed": true
   },
   "source": [
    "# Exercício 1: Média"
   ]
  },
  {
   "cell_type": "markdown",
   "id": "e73a3b0b",
   "metadata": {
    "hidden": true
   },
   "source": [
    "Crie um algoritmo que leia 3 números reais ($a$, $b$ e $c$) e calcule:\n",
    "\n",
    "* A média aritmética deles: \n",
    "$MA = \\dfrac{(a + b + c)}{3}$\n",
    "* A média harmônica deles: \n",
    "$MH = \\dfrac{3}{\\dfrac{1}{a} + \\dfrac{1}{b} + \\dfrac{1}{c}}$\n",
    "\n",
    "<div class=\"alert alert-info\">\n",
    "Obs.: Use os parênteses \"()\" para organizar a precedência das operações.\n",
    "</div>"
   ]
  },
  {
   "cell_type": "markdown",
   "id": "008442fb",
   "metadata": {
    "hidden": true
   },
   "source": [
    "## Escreva sua resposta abaixo:\n",
    "\n",
    "Crie novas células se quiser"
   ]
  },
  {
   "cell_type": "code",
   "execution_count": null,
   "id": "5ba3106b",
   "metadata": {
    "hidden": true
   },
   "outputs": [],
   "source": []
  },
  {
   "cell_type": "markdown",
   "id": "b317c1f7",
   "metadata": {
    "heading_collapsed": true
   },
   "source": [
    "# Exercício 2: Razão áurea"
   ]
  },
  {
   "cell_type": "code",
   "execution_count": null,
   "id": "48f9ef6a",
   "metadata": {
    "hidden": true
   },
   "outputs": [],
   "source": []
  }
 ],
 "metadata": {
  "kernelspec": {
   "display_name": "Python 3 (ipykernel)",
   "language": "python",
   "name": "python3"
  },
  "language_info": {
   "codemirror_mode": {
    "name": "ipython",
    "version": 3
   },
   "file_extension": ".py",
   "mimetype": "text/x-python",
   "name": "python",
   "nbconvert_exporter": "python",
   "pygments_lexer": "ipython3",
   "version": "3.10.4"
  },
  "latex_envs": {
   "LaTeX_envs_menu_present": true,
   "autoclose": true,
   "autocomplete": true,
   "bibliofile": "biblio.bib",
   "cite_by": "apalike",
   "current_citInitial": 1,
   "eqLabelWithNumbers": true,
   "eqNumInitial": 1,
   "hotkeys": {
    "equation": "Ctrl-E",
    "itemize": "Ctrl-I"
   },
   "labels_anchors": false,
   "latex_user_defs": false,
   "report_style_numbering": false,
   "user_envs_cfg": false
  }
 },
 "nbformat": 4,
 "nbformat_minor": 5
}
