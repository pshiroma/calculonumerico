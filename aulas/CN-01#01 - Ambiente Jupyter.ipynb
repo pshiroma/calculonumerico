{
 "cells": [
  {
   "cell_type": "markdown",
   "id": "ad45486e",
   "metadata": {},
   "source": [
    "[Vídeo](https://youtu.be/dmG5qVLXXgE)"
   ]
  },
  {
   "cell_type": "markdown",
   "id": "386ef7b0",
   "metadata": {
    "slideshow": {
     "slide_type": "slide"
    }
   },
   "source": [
    "# O ambiente Jupyter "
   ]
  },
  {
   "cell_type": "markdown",
   "id": "e0484a9c",
   "metadata": {
    "slideshow": {
     "slide_type": "slide"
    }
   },
   "source": [
    "O jupyter é uma aplicação web acessada por meio do navegador de Internet, ou seja, você pode utilizar o Google Chrome, o Firefox, o Internet Explorer ou outro navegador qualquer para acessá-lo.\n",
    "\n",
    "Ao contrário de outras <mark title=\"Um ambiente de desenvolvimento integrado (IDE) é um software para criar programas que combina ferramentas de desenvolvimento em uma única interface gráfica\">IDE´s de programação</mark>, o Jupyter se parece com um **caderno**, onde você pode escrever suas *anotações*, inserir *fórmulas matemáticas*, *imagens*, *vídeos*, *tabelas*, organizando o seu caderno em tópicos, como se fosse um **documento de texto tradicional**.\n",
    "\n",
    "Além disso, é possível escrever programas, mantendo armazenados as suas saídas e resultados, sejam **textos** ou **gráficos**.\n",
    "\n",
    "Os **blocos de texto** (chamados células do tipo Markdown) permitem explicar o contexto, objetivo, fundamentação, desenvolvimento dos algoritmos, enquanto os **blocos de comando** (chamadas de células de código) permitem implementar os algoritmos.\n",
    "\n",
    "Assim, o ambiente **Jupyter** provê um ambiente de programação intuitivo, fácil de dominar, dinâmico e ideal para desenvolver e documentar soluções.\n",
    "\n",
    "Além disso, o servidor do jupyter pode estar sendo executado localmente ou na <mark title=\"Exemplos de servidores na nuvem: Jupyter-lab, google colab, mybinder\">nuvem</mark>, assim você pode acessar o jupyter a partir de qualquer computador conectado a Internet, independente do tipo de sistema operacional ou hardware utilizado.\n",
    "\n",
    "Existem diversas formas de trabalhar com o ambiente jupyter:\n",
    "\n",
    "* Localmente, instalando o [Anaconda](https://anaconda.org/)\n",
    "* Na nuvem:\n",
    " * [Google colab](https://colab.research.google.com/)\n",
    " * [Mybinder](https://mybinder.org/)\n",
    " * [CoCalc](https://cocalc.com/)\n",
    "\n",
    "Também é possível testar o jupyter no site oficial: https://jupyter.org/try"
   ]
  },
  {
   "cell_type": "markdown",
   "id": "768ce789",
   "metadata": {
    "slideshow": {
     "slide_type": "fragment"
    }
   },
   "source": [
    "## Usando o Google colab"
   ]
  },
  {
   "cell_type": "markdown",
   "id": "345e0e84",
   "metadata": {
    "slideshow": {
     "slide_type": "fragment"
    }
   },
   "source": [
    "É possível utilizar o site https://colab.research.google.com/ para executar os notebooks.\n",
    "\n",
    "Na janela que abrir, escolha a opção `github` e configure o local do repositório: https://github.com/pshiroma/calculonumerico.\n",
    "\n",
    "<img src=\"figuras/googlecolab.png\" width=\"1000\">"
   ]
  },
  {
   "cell_type": "markdown",
   "id": "0496cb35",
   "metadata": {
    "slideshow": {
     "slide_type": "fragment"
    }
   },
   "source": [
    "## O que é o jupyter\n",
    "\n",
    "O jupyter é baseado no conceito de **notebook**.\n",
    "Um exemplo é este documento que você está acessando no momento.\n",
    "Um notebook pode ser idealizado como um caderno onde você pode:\n",
    "\n",
    "* escrever textos e anotações,\n",
    "* escrever equações matemáticas como $\\lim\\limits_{x \\rightarrow 2} x^2 = 4$,\n",
    "* inserir figuras como: ![lena](figuras/lena.png)\n",
    "* inserir link de vídeos: [![video](figuras/youtube1.png)](https://www.youtube.com/watch?v=wswYxcNoi00)\n",
    "\n",
    "Além disso, outra característica fundamental é que é possível executar códigos-fonte de diversas linguagens dentre de um notebook do jupyter.\n",
    "\n",
    "Para saber mais, consulte:\n",
    "\n",
    "https://jupyter.brynmawr.edu/services/public/dblank/Jupyter%20Notebook%20Users%20Manual.ipynb\n",
    "\n",
    "https://jupyter.org/\n",
    "\n",
    "https://letscode-academy.com/blog/introducao-ao-jupyter-notebook/\n"
   ]
  },
  {
   "cell_type": "markdown",
   "id": "d94a75eb",
   "metadata": {
    "slideshow": {
     "slide_type": "fragment"
    }
   },
   "source": [
    "# Células"
   ]
  },
  {
   "cell_type": "markdown",
   "id": "99a650ee",
   "metadata": {
    "slideshow": {
     "slide_type": "fragment"
    }
   },
   "source": [
    "Um notebook é dividido em uma ou mais células, e cada célula pode ser do tipo:\n",
    "\n",
    "* Markdown: Usado para escrever anotações, equações matemáticas, inserir figuras ou links para vídeos. Por exemplo, esta célula que você esta lendo no momento é do tipo Markdown;\n",
    "* Code: Usado para escrever e executar códigos em uma linguagem de programação. Por exemplo, a célula abaixo é do tipo Code. Selecione a célula abaixo e dê um clique no botão __Run__ acima:  <img src='figuras/run.png'>\n",
    "\n",
    "Para identificar o tipo de célula, basta observar o lado esquerdo da célula:\n",
    "<img src='figuras/code_cell.png'>\n",
    "\n",
    "Caso apareça o texto __In [ ]__ é sinal de que a célula é do tipo _Code_.\n",
    "O número [1] indica a ordem em que ela foi executada no notebook."
   ]
  },
  {
   "cell_type": "code",
   "execution_count": 5,
   "id": "fd01e222",
   "metadata": {
    "slideshow": {
     "slide_type": "fragment"
    }
   },
   "outputs": [
    {
     "name": "stdout",
     "output_type": "stream",
     "text": [
      "156\n"
     ]
    }
   ],
   "source": [
    "x = 144 + 12\n",
    "print(x)"
   ]
  },
  {
   "cell_type": "markdown",
   "id": "4a186b52",
   "metadata": {
    "heading_collapsed": true,
    "slideshow": {
     "slide_type": "fragment"
    }
   },
   "source": [
    "## Comandos principais \n",
    "\n",
    "A seguir uma breve descrição dos principais comandos usados para trabalhar com células dentro do jupyter:\n",
    "\n",
    "| Função | Tecla |\n",
    "| --- | --- |\n",
    "| Navegar entre as células | Setas $\\uparrow$ ou $\\downarrow$ do teclado |\n",
    "| Editar uma célula | Tecla __Enter__ |\n",
    "| Sair do modo de edição | Tecla __Esc__ |\n",
    "| Executar uma célula de código | __Shift-Enter__ ou __Ctrl-Enter__ |\n",
    "| Inserir uma célula abaixo | Tecla __b__ |\n",
    "| Inserir uma célula acima | Tecla __a__ |\n",
    "| Cortar uma célula | Tecla __x__ |\n",
    "| Colar uma célula | Tecla __v__ |\n",
    "| Outras funções | Consulte as teclas de atalho no __Help__ |"
   ]
  },
  {
   "cell_type": "markdown",
   "id": "1ed23c5d",
   "metadata": {
    "slideshow": {
     "slide_type": "fragment"
    }
   },
   "source": [
    "# Exemplo de como utilizar um notebook (Fórmula de Bhaskara)"
   ]
  },
  {
   "cell_type": "markdown",
   "id": "9d391f2d",
   "metadata": {},
   "source": [
    "A fórmula de Bhaskara permite encontrar as raízes de um polinômio de 2º grau do tipo:\n",
    "\n",
    "$ax^2 + bx + c$\n",
    "\n",
    "A fórmula para encontrar as raízes é:\n",
    "\n",
    "$x_1 = \\dfrac{-b + \\sqrt{\\Delta}}{2a}$\n",
    "\n",
    "e\n",
    "\n",
    "$x_2 = \\dfrac{-b - \\sqrt{\\Delta}}{2a}$\n",
    "\n",
    "onde $\\Delta = b^2 - 4ac$"
   ]
  },
  {
   "cell_type": "markdown",
   "id": "06699bc3",
   "metadata": {},
   "source": [
    "Exemplo: Vamos calcular as raízes do polinômio \n",
    "\n",
    "$2x^2 + x - 1$\n",
    "\n",
    "* a = 2\n",
    "* b = 1\n",
    "* c = -1"
   ]
  },
  {
   "cell_type": "code",
   "execution_count": 9,
   "id": "4712d9c9",
   "metadata": {},
   "outputs": [
    {
     "name": "stdout",
     "output_type": "stream",
     "text": [
      "0.5\n",
      "-1.0\n"
     ]
    }
   ],
   "source": [
    "from math import sqrt\n",
    "\n",
    "a = 2\n",
    "b = 1\n",
    "c = -1\n",
    "delta = b**2 - 4*a*c\n",
    "x1 = (-b + sqrt(delta))/(2*a)\n",
    "x2 = (-b - sqrt(delta))/(2*a)\n",
    "print(x1)\n",
    "print(x2)"
   ]
  },
  {
   "cell_type": "markdown",
   "id": "88249371",
   "metadata": {
    "variables": {
     "x1": "0.5"
    }
   },
   "source": [
    "Para sabermos se o valor está correto, basta substituir o valor de {{x1}} na equação do polinômio"
   ]
  },
  {
   "cell_type": "code",
   "execution_count": 11,
   "id": "8e1d2700",
   "metadata": {},
   "outputs": [
    {
     "name": "stdout",
     "output_type": "stream",
     "text": [
      "0.0\n"
     ]
    }
   ],
   "source": [
    "p = a*x2**2 + b*x2 + c\n",
    "print(p)"
   ]
  },
  {
   "cell_type": "markdown",
   "id": "4782d33f",
   "metadata": {
    "slideshow": {
     "slide_type": "fragment"
    }
   },
   "source": [
    "# Células Markdown"
   ]
  },
  {
   "cell_type": "markdown",
   "id": "793c2ea7",
   "metadata": {
    "slideshow": {
     "slide_type": "fragment"
    }
   },
   "source": [
    "Markdown é uma sintaxe usada para produzir textos utilizando apenas os caracteres disponíveis no teclado, facilitando a padronizar e formatação de textos na web.\n",
    "Os textos utilizam caracteres não-alfabéticos como `# \\ * ! [ ] ( )` como comandos para a configuração de títulos, listas, itálico, negrito, inserção de imagens, dentre outros.\n",
    "\n",
    "Fontes:\n",
    "\n",
    "https://jupyter-notebook.readthedocs.io/en/stable/examples/Notebook/Working%20With%20Markdown%20Cells.html\n",
    "\n",
    "https://medium.com/analytics-vidhya/the-ultimate-markdown-guide-for-jupyter-notebook-d5e5abf728fd\n",
    "\n",
    "https://acervolima.com/celula-markdown-no-caderno-jupyter/\n",
    "\n",
    "https://docs.pipz.com/central-de-ajuda/learning-center/guia-basico-de-markdown#open\n",
    "\n",
    "https://experienceleague.adobe.com/docs/contributor/contributor-guide/writing-essentials/markdown.html?lang=pt-BR"
   ]
  },
  {
   "cell_type": "markdown",
   "id": "27eee1b5",
   "metadata": {
    "slideshow": {
     "slide_type": "fragment"
    }
   },
   "source": [
    "# Cabeçalhos\n",
    "\n",
    "<div class=\"alert alert-warning\">SINTAXE:</div>\n",
    "\n",
    "Para criar um cabeçalho, use uma ou mais marcas de hash (#) no início do título:\n",
    "\n",
    "```\n",
    "# Cabeçalho 1\n",
    " \n",
    "## Cabeçalho 2\n",
    " \n",
    "### Cabeçalho 3\n",
    "```\n",
    "\n",
    "<div class=\"alert alert-success\">RESULTADO:</div>\n",
    "\n",
    "# Cabeçalho 1\n",
    "\n",
    "## Cabeçalho 2\n",
    "\n",
    "### Cabeçalho 3\n"
   ]
  },
  {
   "cell_type": "markdown",
   "id": "a5ecf108",
   "metadata": {
    "slideshow": {
     "slide_type": "fragment"
    }
   },
   "source": [
    "# Listas:\n",
    "\n",
    "<div class=\"alert alert-warning\">SINTAXE:</div>\n",
    "\n",
    "Para listas não ordenadas, utilize um asterisco * na frente to item:\n",
    "\n",
    "```\n",
    "* Item 1\n",
    "* Item 2\n",
    "* Item 3\n",
    "```\n",
    "\n",
    "<div class=\"alert alert-success\">RESULTADO:</div>\n",
    "\n",
    "* Item 1\n",
    "* Item 2\n",
    "* Item 3\n",
    "\n",
    "<div class=\"alert alert-warning\">SINTAXE:</div>\n",
    "\n",
    "Para listas ordenadas, utilize o número do item seguido de ponto . :\n",
    "\n",
    "```\n",
    "1. Item 1\n",
    "1. Item 2\n",
    "1. Item 3\n",
    "```\n",
    "\n",
    "<div class=\"alert alert-success\">RESULTADO:</div>\n",
    "\n",
    "1. Item 1\n",
    "1. Item 2\n",
    "1. Item 3\n",
    "\n",
    "<div class=\"alert alert-warning\">SINTAXE:</div>\n",
    "\n",
    "Listas com níveis são criadas usando a indentação (tab):\n",
    "\n",
    "```\n",
    "1. Lista principal\n",
    "    1. Sub-lista\n",
    "    1. Sub-lista \n",
    "        1. Sub-sub-lista\n",
    "        1. Sub-sub-lista \n",
    "1. Lista principal\n",
    "```\n",
    "\n",
    "<div class=\"alert alert-success\">RESULTADO:</div>\n",
    "\n",
    "1. Lista principal\n",
    "    1. Sub-lista\n",
    "    1. Sub-lista \n",
    "        1. Sub-sub-lista\n",
    "        1. Sub-sub-lista \n",
    "1. Lista principal"
   ]
  },
  {
   "cell_type": "markdown",
   "id": "cd029025",
   "metadata": {
    "slideshow": {
     "slide_type": "fragment"
    }
   },
   "source": [
    "# Ênfase\n",
    "\n",
    "<div class=\"alert alert-warning\">SINTAXE:</div>\n",
    "\n",
    "Para formatar o texto como negrito, coloque-o entre dois asteriscos ou dois traços-baixos:\n",
    "\n",
    "```\n",
    "**texto em negrito usando 2 asteriscos**\n",
    "\n",
    "__texto em negrito usando 2 traços baixos__\n",
    "```\n",
    "\n",
    "<div class=\"alert alert-success\">RESULTADO:</div>\n",
    "\n",
    "**texto em negrito usando 2 asteriscos**\n",
    "\n",
    "__texto em negrito usando 2 traços baixos__\n",
    "\n",
    "<div class=\"alert alert-warning\">SINTAXE:</div>\n",
    "\n",
    "Para formatar o texto como itálico, coloque-o entre um único asterisco ou um traço-baixo:\n",
    "\n",
    "```\n",
    "*texto em itálico usando asterisco* \n",
    "\n",
    "_texto em itálico usando traço baixo_\n",
    "```\n",
    "\n",
    "<div class=\"alert alert-success\">RESULTADO:</div>\n",
    "\n",
    "*texto em itálico usando asterisco* \n",
    "\n",
    "_texto em itálico usando traço baixo_\n"
   ]
  },
  {
   "cell_type": "markdown",
   "id": "c0c60242",
   "metadata": {
    "slideshow": {
     "slide_type": "fragment"
    }
   },
   "source": [
    "# Caracteres reservados:\n",
    "\n",
    "<div class=\"alert alert-warning\">SINTAXE:</div>\n",
    "\n",
    "Insira o caracter `\\` antes do caracter:\n",
    "\n",
    "```\n",
    "\\*\n",
    "\n",
    "\\_\n",
    "\n",
    "\\$\n",
    "```\n",
    "\n",
    "<div class=\"alert alert-success\">RESULTADO:</div>\n",
    "\n",
    "\\*\n",
    "\n",
    "\\_\n",
    "\n",
    "\\$\n",
    "\n"
   ]
  },
  {
   "cell_type": "markdown",
   "id": "4dad0c39",
   "metadata": {
    "slideshow": {
     "slide_type": "fragment"
    }
   },
   "source": [
    "# Imagem\n",
    "\n",
    "<div class=\"alert alert-warning\">SINTAXE:</div>\n",
    "\n",
    "* Método 1: \n",
    "\n",
    "`![Título da imagem](figuras/lena.png)`\n",
    "\n",
    "<div class=\"alert alert-success\">RESULTADO:</div>\n",
    "\n",
    "![Título da imagem](figuras/lena.png)\n",
    "\n",
    "<div class=\"alert alert-warning\">SINTAXE:</div>\n",
    "\n",
    "* Método 2: \n",
    "\n",
    "`<img src=\"figuras/lena.png\" width=\"100\">` \n",
    "\n",
    "<div class=\"alert alert-success\">RESULTADO:</div>\n",
    "\n",
    "<img src=\"figuras/lena.png\" width=\"100\">"
   ]
  },
  {
   "cell_type": "markdown",
   "id": "65c54b34",
   "metadata": {
    "slideshow": {
     "slide_type": "fragment"
    }
   },
   "source": [
    "<a id=\"tabela\"></a>\n",
    "# Tabela\n",
    "\n",
    "<div class=\"alert alert-warning\">SINTAXE:</div>\n",
    "\n",
    "```\n",
    "| País   | População (milhões hab) | \n",
    "| --- | --- |\n",
    "| China | 1411 |\n",
    "| Índia | 1380 |\n",
    "| Estados Unidos | 331 |\n",
    "| Indonésia | 273 |\n",
    "| Paquistão | 220 |\n",
    "| Brasil | 213 |\n",
    "```\n",
    "\n",
    "<div class=\"alert alert-success\">RESULTADO:</div>\n",
    "\n",
    "| País   | População (milhões hab) | \n",
    "| --- | --- |\n",
    "| China | 1411 |\n",
    "| Índia | 1380 |\n",
    "| Estados Unidos | 331 |\n",
    "| Indonésia | 273 |\n",
    "| Paquistão | 220 |\n",
    "| Brasil | 213 |"
   ]
  },
  {
   "cell_type": "markdown",
   "id": "064b77c1",
   "metadata": {
    "slideshow": {
     "slide_type": "fragment"
    }
   },
   "source": [
    "# Código-fonte\n",
    "\n",
    "<div class=\"alert alert-warning\">SINTAXE:</div>\n",
    "\n",
    "\\`\\`\\`python\n",
    "```\n",
    "def funcao(x):\n",
    "    return x ** 2\n",
    "y = funcao(3)\n",
    "print(x)\n",
    "```\n",
    "\\`\\`\\`\n",
    "\n",
    "<div class=\"alert alert-success\">RESULTADO:</div>\n",
    "\n",
    "```python\n",
    "def funcao(x):\n",
    "    return x ** 2\n",
    "y = funcao(3)\n",
    "print(x)\n",
    "```"
   ]
  },
  {
   "cell_type": "markdown",
   "id": "17a3a60b",
   "metadata": {
    "slideshow": {
     "slide_type": "fragment"
    }
   },
   "source": [
    "# Links\n",
    "\n",
    "<div class=\"alert alert-warning\">SINTAXE:</div>\n",
    "\n",
    "A sintaxe de um link consiste na parte `[texto]`, seguida pela parte `(url)`, que é o URL ou link ao qual esta direcionado:\n",
    "\n",
    "`[Exemplos de notebooks](https://jupyter-notebook.readthedocs.io/en/stable/examples/Notebook/examples_index.html)`\n",
    "\n",
    "`[Exemplo de link para vídeo](https://www.youtube.com/watch?v=wswYxcNoi00)`\n",
    "\n",
    "`[Link interno](#tabela)`\n",
    "\n",
    "<div class=\"alert alert-success\">RESULTADO:</div>\n",
    "\n",
    "[Exemplos de notebooks](https://jupyter-notebook.readthedocs.io/en/stable/examples/Notebook/examples_index.html)\n",
    "\n",
    "[Exemplo de link para vídeo](https://www.youtube.com/watch?v=wswYxcNoi00)\n",
    "\n",
    "[Link interno](#tabela)\n"
   ]
  },
  {
   "cell_type": "markdown",
   "id": "cc0ab93c",
   "metadata": {
    "slideshow": {
     "slide_type": "fragment"
    }
   },
   "source": [
    "# Fórmulas matemáticas\n",
    "\n",
    "<div class=\"alert alert-warning\">SINTAXE:</div>\n",
    "\n",
    "A sintaxe markdown do jupyter oferece suporte ao $\\LaTeX$ para produzir fórmulas matemáticas com qualidade:\n",
    "\n",
    "* Fórmulas inline: Coloque o símbolo \\\\$ antes e depois do código latex:\n",
    "\n",
    "`$e^{i \\pi} + 1 = 0$`\n",
    "\n",
    "<div class=\"alert alert-success\">RESULTADO:</div>\n",
    "\n",
    "$e^{i \\pi} + 1 = 0$.\n",
    "\n",
    "<div class=\"alert alert-warning\">SINTAXE:</div>\n",
    "\n",
    "Expressões maiores podem ser produzidas utilizando a sintaxe:\n",
    "\n",
    "```latex\n",
    "\\begin{equation}\n",
    "formula\n",
    "\\end{equation}\n",
    "```\n",
    "\n",
    "Por exemplo o Teorema de Taylor nos diz que:\n",
    "\n",
    "\n",
    "```\n",
    "\\begin{aligned}\n",
    "f(x) =& f(a) + \\dfrac{f'(a)}{1!}(x-a) + \\dfrac{f''(a)}{2!}(x-a)^2 + \\ldots + \\\\\n",
    "&\\dfrac{f^{(k)}(a)}{k!}(x-a)^k + h_k(x)(x-a)^k\n",
    "\\end{aligned}\n",
    "```\n",
    "\n",
    "<div class=\"alert alert-success\">RESULTADO:</div>\n",
    "\n",
    "\\begin{aligned}\n",
    "f(x) =& f(a) + \\dfrac{f'(a)}{1!}(x-a) + \\dfrac{f''(a)}{2!}(x-a)^2 + \\ldots + \\\\\n",
    "&\\dfrac{f^{(k)}(a)}{k!}(x-a)^k + h_k(x)(x-a)^k\n",
    "\\end{aligned}\n",
    "\n",
    "\n",
    "Para saber mais:\n",
    "\n",
    "https://app.mettzer.com/latex"
   ]
  },
  {
   "cell_type": "markdown",
   "id": "4e44319a",
   "metadata": {
    "slideshow": {
     "slide_type": "fragment"
    }
   },
   "source": [
    "# HTML\n",
    "\n",
    "A maioria dos visualizadores irá aceitar a inclusão de tags html para produzir formas mais elaboradas de formatação.\n",
    "Veja alguns exemplos:\n",
    "   \n",
    "<blockquote>\n",
    "    Citação de um texto usando blockquote<br>\n",
    "    Próxima linha\n",
    "</blockquote>\n",
    "\n",
    "<span style='color:Red'>Texto em vermelho.</span>\n",
    "\n",
    "<span style='background:yellow'> Texto com fundo amarelo  </span>\n",
    "\n",
    "<div class=\"alert alert-success\">\n",
    "  <strong>Success!</strong> Classe alert alert-success - fundo verde.\n",
    "</div>\n",
    "\n",
    "<div class=\"alert alert-info\">\n",
    "  <strong>Info!</strong> Classe alert alert-info - fundo azul.\n",
    "</div>\n",
    "\n",
    "<div class=\"alert alert-warning\">\n",
    "  <strong>Warning!</strong> Classe alert alert-warning - fundo pastel.\n",
    "</div>\n",
    "\n",
    "<div class=\"alert alert-danger\">\n",
    "  <strong>Danger!</strong> Classe alert alert-danger - fundo roxo.\n",
    "</div>"
   ]
  },
  {
   "cell_type": "markdown",
   "id": "4d3f8b21",
   "metadata": {
    "slideshow": {
     "slide_type": "fragment"
    }
   },
   "source": [
    "# Células de código: Hello world"
   ]
  },
  {
   "cell_type": "markdown",
   "id": "d2979fc4",
   "metadata": {
    "slideshow": {
     "slide_type": "fragment"
    }
   },
   "source": [
    "A seguir, vamos escrever um trecho de código que escreve o texto \"Hello world\" na tela:"
   ]
  },
  {
   "cell_type": "code",
   "execution_count": 2,
   "id": "19ffc622",
   "metadata": {
    "slideshow": {
     "slide_type": "fragment"
    }
   },
   "outputs": [
    {
     "name": "stdout",
     "output_type": "stream",
     "text": [
      "Hello world!\n"
     ]
    }
   ],
   "source": [
    "print(\"Hello world!\")"
   ]
  }
 ],
 "metadata": {
  "celltoolbar": "Slideshow",
  "kernelspec": {
   "display_name": "Python 3 (ipykernel)",
   "language": "python",
   "name": "python3"
  },
  "language_info": {
   "codemirror_mode": {
    "name": "ipython",
    "version": 3
   },
   "file_extension": ".py",
   "mimetype": "text/x-python",
   "name": "python",
   "nbconvert_exporter": "python",
   "pygments_lexer": "ipython3",
   "version": "3.9.12"
  },
  "latex_envs": {
   "LaTeX_envs_menu_present": true,
   "autoclose": true,
   "autocomplete": true,
   "bibliofile": "biblio.bib",
   "cite_by": "apalike",
   "current_citInitial": 1,
   "eqLabelWithNumbers": true,
   "eqNumInitial": 1,
   "hotkeys": {
    "equation": "Ctrl-E",
    "itemize": "Ctrl-I"
   },
   "labels_anchors": false,
   "latex_user_defs": false,
   "report_style_numbering": false,
   "user_envs_cfg": false
  }
 },
 "nbformat": 4,
 "nbformat_minor": 5
}
