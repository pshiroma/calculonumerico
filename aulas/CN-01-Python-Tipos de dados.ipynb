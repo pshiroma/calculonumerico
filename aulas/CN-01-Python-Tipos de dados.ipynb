{
 "cells": [
  {
   "cell_type": "markdown",
   "id": "018b863d",
   "metadata": {
    "slideshow": {
     "slide_type": "slide"
    }
   },
   "source": [
    "# Tipos de dados básicos"
   ]
  },
  {
   "cell_type": "markdown",
   "id": "698753fe",
   "metadata": {
    "slideshow": {
     "slide_type": "subslide"
    }
   },
   "source": [
    "O Python possui os seguintes tipos de dados:\n",
    "\n",
    "* Número inteiro (int)\n",
    "* Número real (float)\n",
    "* String (str)\n",
    "* Lógico (bool)\n",
    "\n",
    "Uma variável no python pode armazenar qualquer tipo de dado, não sendo necessário declará-la antes."
   ]
  },
  {
   "cell_type": "markdown",
   "id": "04a66878",
   "metadata": {
    "slideshow": {
     "slide_type": "subslide"
    }
   },
   "source": [
    "Para atribuir um valor a uma variável, utilizamos o operador `=`\n",
    "\n",
    "| Operador | Significado | Exemplo |\n",
    "| :-- | :-- | --: |\n",
    "| = | Atribuição | x = 10 |"
   ]
  },
  {
   "cell_type": "code",
   "execution_count": 72,
   "id": "e5f631e4",
   "metadata": {
    "slideshow": {
     "slide_type": "fragment"
    }
   },
   "outputs": [],
   "source": [
    "x = 10"
   ]
  },
  {
   "cell_type": "markdown",
   "id": "ca249a5c",
   "metadata": {
    "slideshow": {
     "slide_type": "subslide"
    }
   },
   "source": [
    "A função `type(variavel)` permite você identificar o tipo de uma variável ou constante:"
   ]
  },
  {
   "cell_type": "code",
   "execution_count": 2,
   "id": "28668f6d",
   "metadata": {
    "slideshow": {
     "slide_type": "fragment"
    }
   },
   "outputs": [
    {
     "name": "stdout",
     "output_type": "stream",
     "text": [
      "<class 'int'>\n",
      "<class 'float'>\n",
      "<class 'str'>\n",
      "<class 'bool'>\n",
      "Tipo da variável x: <class 'int'>\n",
      "Novo tipo da variável x: <class 'bool'>\n"
     ]
    }
   ],
   "source": [
    "print( type( 42 ) )\n",
    "print( type( 3.14 ) )\n",
    "print( type( 'Um texto' ) )\n",
    "print( type( True ) )\n",
    "\n",
    "x = 123\n",
    "print ('Tipo da variável x:', type( x ))\n",
    "\n",
    "x = True\n",
    "print ('Novo tipo da variável x:', type( x ))"
   ]
  },
  {
   "cell_type": "markdown",
   "id": "2a2e6265",
   "metadata": {
    "slideshow": {
     "slide_type": "slide"
    }
   },
   "source": [
    "## Booleano"
   ]
  },
  {
   "cell_type": "code",
   "execution_count": 4,
   "id": "c17f6403",
   "metadata": {
    "slideshow": {
     "slide_type": "subslide"
    }
   },
   "outputs": [],
   "source": [
    "V = True\n",
    "F = False"
   ]
  },
  {
   "cell_type": "markdown",
   "id": "20d60ac8",
   "metadata": {
    "slideshow": {
     "slide_type": "fragment"
    }
   },
   "source": [
    "Vamos ver a seguir a sintaxe dos principais operadores que trabalham com booleanos:"
   ]
  },
  {
   "cell_type": "markdown",
   "id": "a713f66e",
   "metadata": {
    "slideshow": {
     "slide_type": "fragment"
    }
   },
   "source": [
    "### Operadores de comparação"
   ]
  },
  {
   "cell_type": "code",
   "execution_count": 8,
   "id": "c6a9d9e5",
   "metadata": {
    "slideshow": {
     "slide_type": "fragment"
    }
   },
   "outputs": [
    {
     "data": {
      "text/plain": [
       "False"
      ]
     },
     "execution_count": 8,
     "metadata": {},
     "output_type": "execute_result"
    }
   ],
   "source": [
    "# Igual\n",
    "V == F"
   ]
  },
  {
   "cell_type": "code",
   "execution_count": 64,
   "id": "dfa53eb6",
   "metadata": {
    "slideshow": {
     "slide_type": "fragment"
    }
   },
   "outputs": [
    {
     "data": {
      "text/plain": [
       "True"
      ]
     },
     "execution_count": 64,
     "metadata": {},
     "output_type": "execute_result"
    }
   ],
   "source": [
    "# Diferente\n",
    "V != F"
   ]
  },
  {
   "cell_type": "markdown",
   "id": "77497f71",
   "metadata": {
    "slideshow": {
     "slide_type": "subslide"
    }
   },
   "source": [
    "### Operadores lógicos"
   ]
  },
  {
   "cell_type": "markdown",
   "id": "9c7da8ba",
   "metadata": {
    "slideshow": {
     "slide_type": "fragment"
    }
   },
   "source": [
    "O operador NOT segue a seguinte tabela verdade:\n",
    "\n",
    "| X | not X | \n",
    "| :-- | --: |\n",
    "| True | False |\n",
    "| False | True |"
   ]
  },
  {
   "cell_type": "code",
   "execution_count": 11,
   "id": "fa3cfbc1",
   "metadata": {
    "slideshow": {
     "slide_type": "fragment"
    }
   },
   "outputs": [
    {
     "data": {
      "text/plain": [
       "False"
      ]
     },
     "execution_count": 11,
     "metadata": {},
     "output_type": "execute_result"
    }
   ],
   "source": [
    "not V"
   ]
  },
  {
   "cell_type": "markdown",
   "id": "8e80cef0",
   "metadata": {
    "slideshow": {
     "slide_type": "fragment"
    }
   },
   "source": [
    "O operador AND segue a seguinte tabela verdade:\n",
    "\n",
    "| X | Y | X and Y |\n",
    "| :-- | :-- | --: |\n",
    "| True | True | True |\n",
    "| True | False | False |\n",
    "| False | True | False |\n",
    "| False | False | False |"
   ]
  },
  {
   "cell_type": "code",
   "execution_count": 66,
   "id": "bf07e0d6",
   "metadata": {
    "slideshow": {
     "slide_type": "fragment"
    }
   },
   "outputs": [
    {
     "data": {
      "text/plain": [
       "False"
      ]
     },
     "execution_count": 66,
     "metadata": {},
     "output_type": "execute_result"
    }
   ],
   "source": [
    "# Operador AND\n",
    "V and F"
   ]
  },
  {
   "cell_type": "markdown",
   "id": "0d6d87de",
   "metadata": {
    "slideshow": {
     "slide_type": "fragment"
    }
   },
   "source": [
    "O operador OR segue a seguinte tabela verdade:\n",
    "\n",
    "| X | Y | X or Y |\n",
    "| :-- | :-- | --: |\n",
    "| True | True | True |\n",
    "| True | False | True |\n",
    "| False | True | True |\n",
    "| False | False | False |"
   ]
  },
  {
   "cell_type": "code",
   "execution_count": 67,
   "id": "40f58c62",
   "metadata": {
    "slideshow": {
     "slide_type": "fragment"
    }
   },
   "outputs": [
    {
     "data": {
      "text/plain": [
       "True"
      ]
     },
     "execution_count": 67,
     "metadata": {},
     "output_type": "execute_result"
    }
   ],
   "source": [
    "# Operador OR\n",
    "True or False"
   ]
  },
  {
   "cell_type": "markdown",
   "id": "e1c9132b",
   "metadata": {
    "slideshow": {
     "slide_type": "slide"
    }
   },
   "source": [
    "## Números inteiro (int) e real (float)"
   ]
  },
  {
   "cell_type": "markdown",
   "id": "f5238123",
   "metadata": {
    "slideshow": {
     "slide_type": "-"
    }
   },
   "source": [
    "Vamos ver a seguir a sintaxe dos principais operadores que trabalham com números inteiros e números reais:"
   ]
  },
  {
   "cell_type": "markdown",
   "id": "c42369bc",
   "metadata": {
    "slideshow": {
     "slide_type": "subslide"
    }
   },
   "source": [
    "### Operadores de comparação:"
   ]
  },
  {
   "cell_type": "markdown",
   "id": "0f9aa732",
   "metadata": {
    "slideshow": {
     "slide_type": "-"
    }
   },
   "source": [
    "| Operador | Significado | Exemplo |\n",
    "| :-- | :-- | --: |\n",
    "| < | Estritamente menor que | x < y |\n",
    "| <= | Menor ou igual que | x <= y |\n",
    "| > | Estritamente maior que | x > y |\n",
    "| >= | Maior ou igual que | x >= y |\n",
    "| == | Igual | x == y |\n",
    "| != | Diferente  | x != y |\n",
    "| is | É o mesmo objeto  | x is y |\n"
   ]
  },
  {
   "cell_type": "code",
   "execution_count": 10,
   "id": "e23097da",
   "metadata": {
    "slideshow": {
     "slide_type": "subslide"
    }
   },
   "outputs": [],
   "source": [
    "a = 1\n",
    "x = 1\n",
    "y = 2\n",
    "z = 3"
   ]
  },
  {
   "cell_type": "code",
   "execution_count": 19,
   "id": "166d6d7d",
   "metadata": {
    "slideshow": {
     "slide_type": "fragment"
    }
   },
   "outputs": [
    {
     "data": {
      "text/plain": [
       "True"
      ]
     },
     "execution_count": 19,
     "metadata": {},
     "output_type": "execute_result"
    }
   ],
   "source": [
    "# Menor\n",
    "x < y"
   ]
  },
  {
   "cell_type": "code",
   "execution_count": 20,
   "id": "24437268",
   "metadata": {
    "slideshow": {
     "slide_type": "fragment"
    }
   },
   "outputs": [
    {
     "data": {
      "text/plain": [
       "False"
      ]
     },
     "execution_count": 20,
     "metadata": {},
     "output_type": "execute_result"
    }
   ],
   "source": [
    "# Maior\n",
    "x > y"
   ]
  },
  {
   "cell_type": "code",
   "execution_count": 21,
   "id": "d65acff1",
   "metadata": {
    "slideshow": {
     "slide_type": "fragment"
    }
   },
   "outputs": [
    {
     "data": {
      "text/plain": [
       "True"
      ]
     },
     "execution_count": 21,
     "metadata": {},
     "output_type": "execute_result"
    }
   ],
   "source": [
    "# Igual\n",
    "a == x"
   ]
  },
  {
   "cell_type": "code",
   "execution_count": 24,
   "id": "a16c9110",
   "metadata": {
    "slideshow": {
     "slide_type": "fragment"
    }
   },
   "outputs": [
    {
     "data": {
      "text/plain": [
       "True"
      ]
     },
     "execution_count": 24,
     "metadata": {},
     "output_type": "execute_result"
    }
   ],
   "source": [
    "# Menor ou igual\n",
    "a <= x"
   ]
  },
  {
   "cell_type": "code",
   "execution_count": 23,
   "id": "60ec92b1",
   "metadata": {
    "slideshow": {
     "slide_type": "fragment"
    }
   },
   "outputs": [
    {
     "data": {
      "text/plain": [
       "False"
      ]
     },
     "execution_count": 23,
     "metadata": {},
     "output_type": "execute_result"
    }
   ],
   "source": [
    "# Maior ou igual\n",
    "x >= y"
   ]
  },
  {
   "cell_type": "code",
   "execution_count": 68,
   "id": "c9713ea5",
   "metadata": {
    "slideshow": {
     "slide_type": "fragment"
    }
   },
   "outputs": [
    {
     "data": {
      "text/plain": [
       "True"
      ]
     },
     "execution_count": 68,
     "metadata": {},
     "output_type": "execute_result"
    }
   ],
   "source": [
    "# Diferente\n",
    "x != 5"
   ]
  },
  {
   "cell_type": "code",
   "execution_count": 32,
   "id": "87fc6f52",
   "metadata": {
    "slideshow": {
     "slide_type": "fragment"
    }
   },
   "outputs": [
    {
     "data": {
      "text/plain": [
       "True"
      ]
     },
     "execution_count": 32,
     "metadata": {},
     "output_type": "execute_result"
    }
   ],
   "source": [
    "# Verifica se são o mesmo objeto\n",
    "# Use com cuidado, pois seu resultado não é intuitivo (veja o a comparação de listas)\n",
    "a is x"
   ]
  },
  {
   "cell_type": "markdown",
   "id": "48f42bd5",
   "metadata": {
    "slideshow": {
     "slide_type": "subslide"
    }
   },
   "source": [
    "**Expressões compostas**\n",
    "\n",
    "É possível combinar operações de comparação e operações lógicos, formando expressões mais complexas:"
   ]
  },
  {
   "cell_type": "code",
   "execution_count": 69,
   "id": "03892103",
   "metadata": {
    "slideshow": {
     "slide_type": "fragment"
    }
   },
   "outputs": [
    {
     "data": {
      "text/plain": [
       "True"
      ]
     },
     "execution_count": 69,
     "metadata": {},
     "output_type": "execute_result"
    }
   ],
   "source": [
    "5 < 10 or 7 == 10"
   ]
  },
  {
   "cell_type": "code",
   "execution_count": 70,
   "id": "7d6b8d24",
   "metadata": {
    "slideshow": {
     "slide_type": "fragment"
    }
   },
   "outputs": [
    {
     "data": {
      "text/plain": [
       "False"
      ]
     },
     "execution_count": 70,
     "metadata": {},
     "output_type": "execute_result"
    }
   ],
   "source": [
    "x == y and a < x "
   ]
  },
  {
   "cell_type": "markdown",
   "id": "f4fe84ee",
   "metadata": {
    "slideshow": {
     "slide_type": "subslide"
    }
   },
   "source": [
    "### Operadores aritméticos"
   ]
  },
  {
   "cell_type": "markdown",
   "id": "3257737f",
   "metadata": {
    "slideshow": {
     "slide_type": "subslide"
    }
   },
   "source": [
    "Os principais operadores matemáticos são:\n",
    "\n",
    "| Operador | Significado | Exemplo |\n",
    "| :-- | :-- | --: |\n",
    "| + | Soma | x + y |\n",
    "| - | Diferença | x - y |\n",
    "| * | Multiplicação | x * y |\n",
    "| / | Divisão | x / y |\n",
    "| ** | Potência | x ** y |\n",
    "| pow | Potência | pow(x, y) |\n",
    "| // | Divisão inteira | x // y |\n",
    "| % | Resto da divisão inteira | x % y |\n",
    "| divmod | Resultado e resto da divisão inteira | divmod(x, y) |\n",
    "| - | Negação | -x |\n",
    "| abs | Valor absoluto | abs(x) |\n",
    "| int | Converte para número inteiro | int(x) |\n",
    "| float | Converte para número real | float(x) |\n",
    "\n",
    "A ordem que as operações são executadas pode ser modificada utilizando os parênteses `( )`\n"
   ]
  },
  {
   "cell_type": "code",
   "execution_count": 12,
   "id": "2258a298",
   "metadata": {
    "slideshow": {
     "slide_type": "subslide"
    }
   },
   "outputs": [],
   "source": [
    "# Atribuição\n",
    "x = 10\n",
    "y = 20\n",
    "z = 0.5"
   ]
  },
  {
   "cell_type": "code",
   "execution_count": 13,
   "id": "f8a799d2",
   "metadata": {
    "slideshow": {
     "slide_type": "fragment"
    }
   },
   "outputs": [
    {
     "data": {
      "text/plain": [
       "15.0"
      ]
     },
     "execution_count": 13,
     "metadata": {},
     "output_type": "execute_result"
    }
   ],
   "source": [
    "# Operações básicas\n",
    "x+y/2 - z * 10"
   ]
  },
  {
   "cell_type": "code",
   "execution_count": 14,
   "id": "7744b9b7",
   "metadata": {
    "slideshow": {
     "slide_type": "fragment"
    }
   },
   "outputs": [
    {
     "data": {
      "text/plain": [
       "10.0"
      ]
     },
     "execution_count": 14,
     "metadata": {},
     "output_type": "execute_result"
    }
   ],
   "source": [
    "# Mudando a precedência\n",
    "(x + y)/2 - z * 10"
   ]
  },
  {
   "cell_type": "code",
   "execution_count": 15,
   "id": "7b97d041",
   "metadata": {
    "slideshow": {
     "slide_type": "fragment"
    }
   },
   "outputs": [
    {
     "data": {
      "text/plain": [
       "6"
      ]
     },
     "execution_count": 15,
     "metadata": {},
     "output_type": "execute_result"
    }
   ],
   "source": [
    "# Divisão inteira\n",
    "20//3"
   ]
  },
  {
   "cell_type": "code",
   "execution_count": 16,
   "id": "2bbcfcd1",
   "metadata": {
    "slideshow": {
     "slide_type": "fragment"
    }
   },
   "outputs": [
    {
     "data": {
      "text/plain": [
       "2"
      ]
     },
     "execution_count": 16,
     "metadata": {},
     "output_type": "execute_result"
    }
   ],
   "source": [
    "# Resto da divisão\n",
    "20%3"
   ]
  },
  {
   "cell_type": "code",
   "execution_count": 17,
   "id": "6d083704",
   "metadata": {
    "slideshow": {
     "slide_type": "fragment"
    }
   },
   "outputs": [
    {
     "data": {
      "text/plain": [
       "(6, 2)"
      ]
     },
     "execution_count": 17,
     "metadata": {},
     "output_type": "execute_result"
    }
   ],
   "source": [
    "# Resultado e resto da divisão inteira\n",
    "divmod(20,3)"
   ]
  },
  {
   "cell_type": "code",
   "execution_count": 100,
   "id": "022d874e",
   "metadata": {
    "slideshow": {
     "slide_type": "fragment"
    }
   },
   "outputs": [
    {
     "data": {
      "text/plain": [
       "15"
      ]
     },
     "execution_count": 100,
     "metadata": {},
     "output_type": "execute_result"
    }
   ],
   "source": [
    "# Valor absoluto e potência\n",
    "abs(10 - 5**2)"
   ]
  },
  {
   "cell_type": "markdown",
   "id": "e7bcba51",
   "metadata": {
    "slideshow": {
     "slide_type": "slide"
    }
   },
   "source": [
    "## String"
   ]
  },
  {
   "cell_type": "markdown",
   "id": "0de538b1",
   "metadata": {
    "slideshow": {
     "slide_type": "subslide"
    }
   },
   "source": [
    "As strings em Python são uma sequência de caracteres e usam os operadores definidos para ele.\n",
    "\n",
    "Além disso, ele possui funções próprias, como:\n",
    "\n",
    "| Operador | Significado | Exemplo |\n",
    "| :-- | :-- | --: |\n",
    "| isnumeric | Verifica se a string contêm apenas caracteres numéricos | str.isnumeric() |\n",
    "| split | Retorna uma lista de substrings usando um deliminitador  | '1,2,3'.split(',') |\n",
    "| upper | Retorna uma cópia convertendo os caracteres para maíusculo  | 'titulo'.upper() |\n",
    "| lower | Retorna uma cópia convertendo os caracteres para minúsculo  | ''.lower() |"
   ]
  },
  {
   "cell_type": "code",
   "execution_count": 102,
   "id": "67d54cb7",
   "metadata": {
    "slideshow": {
     "slide_type": "fragment"
    }
   },
   "outputs": [
    {
     "data": {
      "text/plain": [
       "'Ola Mundo'"
      ]
     },
     "execution_count": 102,
     "metadata": {},
     "output_type": "execute_result"
    }
   ],
   "source": [
    "# Concatenação de strings\n",
    "'Ola' + \" Mundo\""
   ]
  },
  {
   "cell_type": "code",
   "execution_count": 22,
   "id": "c93b21c9",
   "metadata": {
    "slideshow": {
     "slide_type": "fragment"
    }
   },
   "outputs": [
    {
     "data": {
      "text/plain": [
       "'JOAO'"
      ]
     },
     "execution_count": 22,
     "metadata": {},
     "output_type": "execute_result"
    }
   ],
   "source": [
    "# Produz uma cópia convertendo os caracteres para maiusculo\n",
    "s = 'joao'\n",
    "s.upper()"
   ]
  },
  {
   "cell_type": "code",
   "execution_count": 21,
   "id": "d5b17163",
   "metadata": {
    "slideshow": {
     "slide_type": "fragment"
    }
   },
   "outputs": [
    {
     "data": {
      "text/plain": [
       "'JOAO'"
      ]
     },
     "execution_count": 21,
     "metadata": {},
     "output_type": "execute_result"
    }
   ],
   "source": [
    "# Observe que a variavel continua com o mesmo valor\n",
    "s"
   ]
  },
  {
   "cell_type": "code",
   "execution_count": 8,
   "id": "842008ca",
   "metadata": {
    "slideshow": {
     "slide_type": "fragment"
    }
   },
   "outputs": [
    {
     "data": {
      "text/plain": [
       "4"
      ]
     },
     "execution_count": 8,
     "metadata": {},
     "output_type": "execute_result"
    }
   ],
   "source": [
    "# Sabendo o tamanho de uma string\n",
    "len(s)"
   ]
  },
  {
   "cell_type": "code",
   "execution_count": 121,
   "id": "a4d8a85e",
   "metadata": {
    "slideshow": {
     "slide_type": "fragment"
    }
   },
   "outputs": [
    {
     "data": {
      "text/plain": [
       "'UTGUTCTCGTUU'"
      ]
     },
     "execution_count": 121,
     "metadata": {},
     "output_type": "execute_result"
    }
   ],
   "source": [
    "# Replace \n",
    "'ATGATCTCGTAA'.replace('A', 'U')"
   ]
  },
  {
   "cell_type": "code",
   "execution_count": 23,
   "id": "c8d1b60a",
   "metadata": {
    "slideshow": {
     "slide_type": "fragment"
    }
   },
   "outputs": [
    {
     "data": {
      "text/plain": [
       "'ATG'"
      ]
     },
     "execution_count": 23,
     "metadata": {},
     "output_type": "execute_result"
    }
   ],
   "source": [
    "# Extraindo uma substring\n",
    "dna = 'ATGATCTCGTAA'\n",
    "dna[0:3]"
   ]
  },
  {
   "cell_type": "code",
   "execution_count": 26,
   "id": "6a0ffcb9",
   "metadata": {
    "slideshow": {
     "slide_type": "fragment"
    }
   },
   "outputs": [
    {
     "data": {
      "text/plain": [
       "True"
      ]
     },
     "execution_count": 26,
     "metadata": {},
     "output_type": "execute_result"
    }
   ],
   "source": [
    "# Verificando se uma substring esta presente na string\n",
    "'TAA' in dna"
   ]
  },
  {
   "cell_type": "code",
   "execution_count": 9,
   "id": "7682bce7",
   "metadata": {
    "slideshow": {
     "slide_type": "fragment"
    }
   },
   "outputs": [
    {
     "data": {
      "text/plain": [
       "9"
      ]
     },
     "execution_count": 9,
     "metadata": {},
     "output_type": "execute_result"
    }
   ],
   "source": [
    "# Descobrindo a posicao de uma substring\n",
    "dna.find('TAA')"
   ]
  },
  {
   "cell_type": "code",
   "execution_count": 4,
   "id": "bb2065f0",
   "metadata": {
    "slideshow": {
     "slide_type": "fragment"
    }
   },
   "outputs": [
    {
     "data": {
      "text/plain": [
       "True"
      ]
     },
     "execution_count": 4,
     "metadata": {},
     "output_type": "execute_result"
    }
   ],
   "source": [
    "'joao' not in 'jorge, jose, juca, juliana'"
   ]
  },
  {
   "cell_type": "markdown",
   "id": "27dc53a9",
   "metadata": {
    "slideshow": {
     "slide_type": "slide"
    }
   },
   "source": [
    "# Coleções de dados"
   ]
  },
  {
   "cell_type": "markdown",
   "id": "67cc2968",
   "metadata": {
    "slideshow": {
     "slide_type": "slide"
    }
   },
   "source": [
    "## Listas (list)"
   ]
  },
  {
   "cell_type": "markdown",
   "id": "4ed1be0c",
   "metadata": {
    "slideshow": {
     "slide_type": "subslide"
    }
   },
   "source": [
    "As listas armazenam elementos em sequência e tem as seguintes características:\n",
    "\n",
    "* Os itens são indexados\n",
    "* O primeiro elemento tem índice 0\n",
    "* O último elemento tem índice n-1\n",
    "* Os elementos podem ser de tipos diferentes\n",
    "* Os elementos podem ser modificados (ver tupla)\n",
    "* Os elementos podem ser repetidos (ver conjunto)\n",
    "* São criados usando colchetes [ ]\n",
    "\n",
    "https://www.w3schools.com/python/python_lists.asp"
   ]
  },
  {
   "cell_type": "code",
   "execution_count": 28,
   "id": "befde7f6",
   "metadata": {
    "slideshow": {
     "slide_type": "subslide"
    }
   },
   "outputs": [
    {
     "name": "stdout",
     "output_type": "stream",
     "text": [
      "['banana', 'amora', 'pera', 'uva', 'melancia']\n"
     ]
    }
   ],
   "source": [
    "# criando uma lista: coloque os valores separados por vírgula, dentro dos [ ]\n",
    "umaLista = ['banana', 'amora', 'pera', 'uva', 'melancia']\n",
    "print(umaLista)"
   ]
  },
  {
   "cell_type": "code",
   "execution_count": 25,
   "id": "f8886bbb",
   "metadata": {
    "slideshow": {
     "slide_type": "fragment"
    }
   },
   "outputs": [
    {
     "name": "stdout",
     "output_type": "stream",
     "text": [
      "['banana', 'banana', 'pera']\n"
     ]
    }
   ],
   "source": [
    "# uma lista permite valores duplicados\n",
    "umaLista = ['banana', 'banana', 'pera']\n",
    "print(umaLista)"
   ]
  },
  {
   "cell_type": "code",
   "execution_count": 68,
   "id": "9b8de317",
   "metadata": {},
   "outputs": [
    {
     "name": "stdout",
     "output_type": "stream",
     "text": [
      "['banana', 'pera', 'banana']\n",
      "['pera', 'banana']\n"
     ]
    }
   ],
   "source": [
    "umaLista = ['banana', 'pera']\n",
    "#print(umaLista)\n",
    "umaLista.append('banana')\n",
    "\n",
    "print(umaLista)\n",
    "lista = list( set( umaLista ) )\n",
    "print(lista)"
   ]
  },
  {
   "cell_type": "code",
   "execution_count": 19,
   "id": "9ef2e93a",
   "metadata": {
    "slideshow": {
     "slide_type": "fragment"
    }
   },
   "outputs": [
    {
     "data": {
      "text/plain": [
       "5"
      ]
     },
     "execution_count": 19,
     "metadata": {},
     "output_type": "execute_result"
    }
   ],
   "source": [
    "# tamanho de uma lista\n",
    "len(umaLista)"
   ]
  },
  {
   "cell_type": "code",
   "execution_count": 27,
   "id": "bd060a49",
   "metadata": {
    "slideshow": {
     "slide_type": "fragment"
    }
   },
   "outputs": [
    {
     "name": "stdout",
     "output_type": "stream",
     "text": [
      "[1, 3, 5, 7, 11]\n",
      "[19.32, True, 'uma string', True, 20, [0, 1]]\n"
     ]
    }
   ],
   "source": [
    "# uma lista pode armazenar numeros, booleanos, strings, o resultado de uma operação e outras listas:\n",
    "outraLista = [1, 3, 5, 7, 11]\n",
    "print(outraLista)\n",
    "\n",
    "listaMista = [19.32, True, 'uma string', 5 < 7, 5*4, [0, 1]]\n",
    "print(listaMista)\n"
   ]
  },
  {
   "cell_type": "code",
   "execution_count": 32,
   "id": "3cf1774e",
   "metadata": {
    "slideshow": {
     "slide_type": "fragment"
    }
   },
   "outputs": [
    {
     "data": {
      "text/plain": [
       "19.32"
      ]
     },
     "execution_count": 32,
     "metadata": {},
     "output_type": "execute_result"
    }
   ],
   "source": [
    "# A lista é um tipo indexado, ou seja, você pode acessar os elementos pela sua posição.\n",
    "# A primeira posição possui índice 0:\n",
    "listaMista[0]"
   ]
  },
  {
   "cell_type": "code",
   "execution_count": 30,
   "id": "7f51f6b7",
   "metadata": {
    "slideshow": {
     "slide_type": "fragment"
    }
   },
   "outputs": [
    {
     "data": {
      "text/plain": [
       "[0, 1]"
      ]
     },
     "execution_count": 30,
     "metadata": {},
     "output_type": "execute_result"
    }
   ],
   "source": [
    "# A  última posição possui índice n-1\n",
    "# Também é possível indexar pelo valor -1:\n",
    "listaMista[-1]"
   ]
  },
  {
   "cell_type": "code",
   "execution_count": 46,
   "id": "24cffb62",
   "metadata": {
    "slideshow": {
     "slide_type": "fragment"
    }
   },
   "outputs": [
    {
     "name": "stdout",
     "output_type": "stream",
     "text": [
      "4\n",
      "8\n"
     ]
    }
   ],
   "source": [
    "# Podemos indexar tanto do começo como do final:\n",
    "lista = [1,2,3,4,5,6,7,8,9,10]\n",
    "print(lista[3])\n",
    "print(lista[-3])"
   ]
  },
  {
   "cell_type": "code",
   "execution_count": 36,
   "id": "e78ced68",
   "metadata": {
    "slideshow": {
     "slide_type": "fragment"
    }
   },
   "outputs": [
    {
     "name": "stdout",
     "output_type": "stream",
     "text": [
      "[1, 2, 3]\n",
      "[6, 7, 8, 9, 10]\n",
      "[1, 2, 3, 4]\n",
      "[1, 2, 3, 4, 5, 6, 7]\n"
     ]
    }
   ],
   "source": [
    "# Podemos recuperar um pedaço da lista usando o operador :\n",
    "lista = [1, 2, 3, 4, 5, 6 ,7 ,8 ,9 ,10]\n",
    "# extraindo um intervalo\n",
    "print( lista[0:3] )\n",
    "\n",
    "# extraindo até o final\n",
    "print( lista[5:] )\n",
    "\n",
    "# extraindo a partir do primeiro elemento:\n",
    "print( lista[:4] )\n",
    "\n",
    "# podemos indexar contando a partir do final:\n",
    "print( lista[:-3] )"
   ]
  },
  {
   "cell_type": "code",
   "execution_count": 37,
   "id": "74ff92dd",
   "metadata": {
    "slideshow": {
     "slide_type": "fragment"
    }
   },
   "outputs": [
    {
     "data": {
      "text/plain": [
       "True"
      ]
     },
     "execution_count": 37,
     "metadata": {},
     "output_type": "execute_result"
    }
   ],
   "source": [
    "# Também é possível verificar se um elemento se encontra em uma lista usando o operador in:\n",
    "3 in lista"
   ]
  },
  {
   "cell_type": "code",
   "execution_count": 38,
   "id": "7d964a67",
   "metadata": {
    "slideshow": {
     "slide_type": "fragment"
    }
   },
   "outputs": [
    {
     "name": "stdout",
     "output_type": "stream",
     "text": [
      "O\n",
      "o\n",
      "Ouro\n"
     ]
    }
   ],
   "source": [
    "# A string é uma lista de caracteres, e aceita as mesmas operações:\n",
    "cidade = 'Ouro Branco'\n",
    "print(cidade[0])\n",
    "print(cidade[-1])\n",
    "print(cidade[0:4])"
   ]
  },
  {
   "cell_type": "markdown",
   "id": "90eece21",
   "metadata": {
    "slideshow": {
     "slide_type": "subslide"
    }
   },
   "source": [
    "### Alterando uma lista"
   ]
  },
  {
   "cell_type": "code",
   "execution_count": 39,
   "id": "b2933a67",
   "metadata": {
    "slideshow": {
     "slide_type": "fragment"
    }
   },
   "outputs": [
    {
     "name": "stdout",
     "output_type": "stream",
     "text": [
      "['a', 2, 3, 4, 5, 6, 7, 8, 9, 10]\n"
     ]
    }
   ],
   "source": [
    "# Para modificar o valor de um elemento em uma lista, basta usar o operador [ ]:\n",
    "lista[0] = 'a'\n",
    "print(lista)"
   ]
  },
  {
   "cell_type": "code",
   "execution_count": 55,
   "id": "993d5d66",
   "metadata": {
    "slideshow": {
     "slide_type": "fragment"
    }
   },
   "outputs": [
    {
     "name": "stdout",
     "output_type": "stream",
     "text": [
      "['a', 'b', 'c', 'd', 'e']\n",
      "['a', 'b', 'c', 'd', 'e', 'f']\n"
     ]
    }
   ],
   "source": [
    "# Podemos inserir um elemento no final da lista usando o comando append:\n",
    "lista = ['a', 'b', 'c', 'd', 'e']\n",
    "print(lista)\n",
    "lista.append('f')\n",
    "print(lista)"
   ]
  },
  {
   "cell_type": "code",
   "execution_count": 56,
   "id": "39bedd73",
   "metadata": {
    "slideshow": {
     "slide_type": "fragment"
    }
   },
   "outputs": [
    {
     "name": "stdout",
     "output_type": "stream",
     "text": [
      "['a', 'b', 'd', 'e', 'f']\n",
      "['a', 'b', 'c', 'd', 'e', 'f']\n"
     ]
    }
   ],
   "source": [
    "# Podemos inserir um elemento em uma posição no meio da lista usando o comando insert:\n",
    "lista = ['a', 'b', 'd', 'e', 'f']\n",
    "print(lista)\n",
    "lista.insert(2, 'c')\n",
    "print(lista)"
   ]
  },
  {
   "cell_type": "code",
   "execution_count": 60,
   "id": "cb753086",
   "metadata": {
    "slideshow": {
     "slide_type": "fragment"
    }
   },
   "outputs": [
    {
     "name": "stdout",
     "output_type": "stream",
     "text": [
      "['a', 'b', 'c', 'd', 'e']\n"
     ]
    }
   ],
   "source": [
    "# É possível adicionar os elementos de uma lista em outra usando o comando extend:\n",
    "lista1 = ['a', 'b', 'c']\n",
    "lista2 = ['d', 'e']\n",
    "lista1.extend(lista2)\n",
    "print(lista1)"
   ]
  },
  {
   "cell_type": "code",
   "execution_count": 68,
   "id": "c40531dc",
   "metadata": {
    "slideshow": {
     "slide_type": "fragment"
    }
   },
   "outputs": [
    {
     "name": "stdout",
     "output_type": "stream",
     "text": [
      "['a', 'b', 'c', 'd', 'e']\n"
     ]
    }
   ],
   "source": [
    "# Também podemos utilizar o operador +\n",
    "lista1 = ['a', 'b', 'c']\n",
    "lista2 = ['d', 'e']\n",
    "novaLista = lista1 + lista2\n",
    "print(novaLista)"
   ]
  },
  {
   "cell_type": "code",
   "execution_count": 45,
   "id": "6d2d204a",
   "metadata": {
    "slideshow": {
     "slide_type": "fragment"
    }
   },
   "outputs": [
    {
     "name": "stdout",
     "output_type": "stream",
     "text": [
      "['a', 'c']\n"
     ]
    }
   ],
   "source": [
    "# Para remover um elemento usamos o comando remove:\n",
    "lista = ['a', 'b', 'c']\n",
    "lista.remove('b')\n",
    "print(lista)"
   ]
  },
  {
   "cell_type": "code",
   "execution_count": 43,
   "id": "bcab77f9",
   "metadata": {
    "slideshow": {
     "slide_type": "fragment"
    }
   },
   "outputs": [
    {
     "name": "stdout",
     "output_type": "stream",
     "text": [
      "['a', 'c']\n"
     ]
    }
   ],
   "source": [
    "# Para remover um elemento usando o índice usamos o comando pop:\n",
    "lista = ['a', 'b', 'c']\n",
    "lista.pop(1)\n",
    "print(lista)"
   ]
  },
  {
   "cell_type": "code",
   "execution_count": 64,
   "id": "bd6b3ac9",
   "metadata": {
    "slideshow": {
     "slide_type": "fragment"
    }
   },
   "outputs": [
    {
     "name": "stdout",
     "output_type": "stream",
     "text": [
      "[]\n"
     ]
    }
   ],
   "source": [
    "# Para apagar toda a lista, usamos o comando clear:\n",
    "lista = ['a', 'b', 'c']\n",
    "lista.clear()\n",
    "print(lista)"
   ]
  },
  {
   "cell_type": "code",
   "execution_count": 65,
   "id": "6ee0fcda",
   "metadata": {
    "slideshow": {
     "slide_type": "fragment"
    }
   },
   "outputs": [
    {
     "name": "stdout",
     "output_type": "stream",
     "text": [
      "['ameixa', 'banana', 'kiwi', 'laranja', 'morango']\n"
     ]
    }
   ],
   "source": [
    "# Podemos ordenar uma lista usando o comando sort:\n",
    "lista = [\"laranja\", \"morango\", \"kiwi\", \"ameixa\", \"banana\"]\n",
    "lista.sort()\n",
    "print(lista)"
   ]
  },
  {
   "cell_type": "code",
   "execution_count": 46,
   "id": "17131791",
   "metadata": {
    "slideshow": {
     "slide_type": "fragment"
    }
   },
   "outputs": [
    {
     "name": "stdout",
     "output_type": "stream",
     "text": [
      "['a', 'b', 'c']\n",
      "[]\n"
     ]
    }
   ],
   "source": [
    "# Caso você queira copiar uma lista, você não deve usar o operador =\n",
    "lista = ['a', 'b', 'c']\n",
    "outraLista = lista\n",
    "print(outraLista)\n",
    "lista.clear()\n",
    "print(outraLista)"
   ]
  },
  {
   "cell_type": "code",
   "execution_count": 67,
   "id": "63b2ed59",
   "metadata": {
    "slideshow": {
     "slide_type": "fragment"
    }
   },
   "outputs": [
    {
     "name": "stdout",
     "output_type": "stream",
     "text": [
      "['a', 'b', 'c']\n",
      "['a', 'b', 'c']\n"
     ]
    }
   ],
   "source": [
    "# Você deve usar o comando copy:\n",
    "lista = ['a', 'b', 'c']\n",
    "outraLista = lista.copy()\n",
    "print(outraLista)\n",
    "lista.clear()\n",
    "print(outraLista)"
   ]
  },
  {
   "cell_type": "markdown",
   "id": "19427913",
   "metadata": {
    "slideshow": {
     "slide_type": "slide"
    }
   },
   "source": [
    "## Tuplas (tuple)"
   ]
  },
  {
   "cell_type": "markdown",
   "id": "ff6a2534",
   "metadata": {
    "slideshow": {
     "slide_type": "-"
    }
   },
   "source": [
    "As tuplas armazenam um conjunto de valores e, ao contrário das listas, são imutáveis,\n",
    "ou seja, uma vez criadas, não podem ser alteradas."
   ]
  },
  {
   "cell_type": "markdown",
   "id": "fef29ca4",
   "metadata": {
    "slideshow": {
     "slide_type": "subslide"
    }
   },
   "source": [
    "Tuplas tem as seguintes características:\n",
    "\n",
    "\n",
    "* São imutáveis\n",
    "* São indexadas\n",
    "* Podem apresentar itens duplicados\n",
    "* Podem armazenar elementos de tipos diferentes\n",
    "* São criados usando parênteses ( )"
   ]
  },
  {
   "cell_type": "code",
   "execution_count": 83,
   "id": "21bd1ffe",
   "metadata": {
    "slideshow": {
     "slide_type": "subslide"
    }
   },
   "outputs": [
    {
     "name": "stdout",
     "output_type": "stream",
     "text": [
      "(1, 1, 'a', 3.14, True)\n"
     ]
    }
   ],
   "source": [
    "# Uma tupla é criada colocando os elementos entre ( )\n",
    "umaTupla = (1, 1, 'a', 3.14, True)\n",
    "print(umaTupla)"
   ]
  },
  {
   "cell_type": "code",
   "execution_count": 84,
   "id": "6fddfacd",
   "metadata": {
    "slideshow": {
     "slide_type": "fragment"
    }
   },
   "outputs": [
    {
     "name": "stdout",
     "output_type": "stream",
     "text": [
      "<class 'tuple'>\n"
     ]
    }
   ],
   "source": [
    "# Para saber se o tipo de uma variável, use o comando type\n",
    "umaTupla = (1, 1, 'a', 3.14, True)\n",
    "print(type(umaTupla))"
   ]
  },
  {
   "cell_type": "code",
   "execution_count": 52,
   "id": "4062c7f3",
   "metadata": {},
   "outputs": [
    {
     "data": {
      "text/plain": [
       "'segunda'"
      ]
     },
     "execution_count": 52,
     "metadata": {},
     "output_type": "execute_result"
    }
   ],
   "source": [
    "diasDaSemana = ('segunda','terca', 'quarta', 'quinta', 'sexta', 'sabado', 'domingo')\n",
    "diasDaSemana[0]"
   ]
  },
  {
   "cell_type": "code",
   "execution_count": 50,
   "id": "5eef525a",
   "metadata": {
    "slideshow": {
     "slide_type": "fragment"
    }
   },
   "outputs": [
    {
     "data": {
      "text/plain": [
       "'a'"
      ]
     },
     "execution_count": 50,
     "metadata": {},
     "output_type": "execute_result"
    }
   ],
   "source": [
    "# Acessamos um elemento usando o [ ]\n",
    "umaTupla = (1, 1, 'a', 3.14, True)\n",
    "umaTupla[2]"
   ]
  },
  {
   "cell_type": "code",
   "execution_count": 86,
   "id": "a468f3ca",
   "metadata": {
    "slideshow": {
     "slide_type": "fragment"
    }
   },
   "outputs": [
    {
     "data": {
      "text/plain": [
       "('a', 3.14)"
      ]
     },
     "execution_count": 86,
     "metadata": {},
     "output_type": "execute_result"
    }
   ],
   "source": [
    "# Podemos usar a mesma sintaxe para listas\n",
    "umaTupla = (1, 1, 'a', 3.14, True)\n",
    "umaTupla[2:-1]"
   ]
  },
  {
   "cell_type": "code",
   "execution_count": 54,
   "id": "1c05ab83",
   "metadata": {
    "slideshow": {
     "slide_type": "fragment"
    }
   },
   "outputs": [
    {
     "data": {
      "text/plain": [
       "(1, 1, 'a', True)"
      ]
     },
     "execution_count": 54,
     "metadata": {},
     "output_type": "execute_result"
    }
   ],
   "source": [
    "# Para modificar uma tupla, devemos convertê-la para uma lista:\n",
    "umaTupla = (1, 1, 'a', 3.14, True)\n",
    "umaLista = list(umaTupla)\n",
    "umaLista.remove(3.14)\n",
    "umaLista"
   ]
  },
  {
   "cell_type": "markdown",
   "id": "6abfba85",
   "metadata": {
    "slideshow": {
     "slide_type": "slide"
    }
   },
   "source": [
    "## Conjuntos (set)"
   ]
  },
  {
   "cell_type": "markdown",
   "id": "9a2954cc",
   "metadata": {
    "slideshow": {
     "slide_type": "subslide"
    }
   },
   "source": [
    "Conjuntos são utilizados para armazenar múltiplos elementos distintos."
   ]
  },
  {
   "cell_type": "markdown",
   "id": "195c15dc",
   "metadata": {
    "slideshow": {
     "slide_type": "-"
    }
   },
   "source": [
    "Características:\n",
    "    \n",
    "* Não-ordenados\n",
    "* Não permite elementos duplicados\n",
    "* Não permite alterar o valor de um item\n",
    "* São criados usando chaves { }"
   ]
  },
  {
   "cell_type": "code",
   "execution_count": 91,
   "id": "fe76312d",
   "metadata": {
    "slideshow": {
     "slide_type": "subslide"
    }
   },
   "outputs": [],
   "source": [
    "# Conjuntos são criados colocando os elementos entre chaves { }\n",
    "conjunto = {\"abc\", 34, True, 40, \"male\"}"
   ]
  },
  {
   "cell_type": "code",
   "execution_count": 92,
   "id": "c67873ce",
   "metadata": {
    "slideshow": {
     "slide_type": "fragment"
    }
   },
   "outputs": [
    {
     "data": {
      "text/plain": [
       "{'banana', 'mamão', 'maça', 'pera', 'uva'}"
      ]
     },
     "execution_count": 92,
     "metadata": {},
     "output_type": "execute_result"
    }
   ],
   "source": [
    "# Utilizamos o comando add para adicionar uo elemento\n",
    "frutas = {'maça', 'banana', 'mamão', 'pera'}\n",
    "frutas.add('uva')\n",
    "frutas"
   ]
  },
  {
   "cell_type": "code",
   "execution_count": 95,
   "id": "c3d29f52",
   "metadata": {
    "slideshow": {
     "slide_type": "fragment"
    }
   },
   "outputs": [
    {
     "data": {
      "text/plain": [
       "{'banana', 'jaca', 'kiwi', 'mamão', 'maça', 'pera'}"
      ]
     },
     "execution_count": 95,
     "metadata": {},
     "output_type": "execute_result"
    }
   ],
   "source": [
    "# Utilizamos o comando update para adicionar os elementos de um conjunto em outro\n",
    "# Observe que elementos duplicados são automaticamente descartados\n",
    "frutas = {'maça', 'banana', 'mamão', 'pera'}\n",
    "outrasFrutas = {'kiwi', 'jaca', 'pera'}\n",
    "frutas.update(outrasFrutas)\n",
    "frutas"
   ]
  },
  {
   "cell_type": "code",
   "execution_count": 96,
   "id": "6e10323a",
   "metadata": {
    "slideshow": {
     "slide_type": "fragment"
    }
   },
   "outputs": [
    {
     "data": {
      "text/plain": [
       "{'banana', 'caqui', 'jaca', 'kiwi', 'mamão', 'maça', 'pera', 'uva'}"
      ]
     },
     "execution_count": 96,
     "metadata": {},
     "output_type": "execute_result"
    }
   ],
   "source": [
    "# O comando update aceita listas e tuplas\n",
    "frutas = {'maça', 'banana', 'mamão', 'pera'}\n",
    "outrasFrutas = ['kiwi', 'jaca', 'pera']\n",
    "demaisFrutas = ('banana', 'uva', 'caqui')\n",
    "frutas.update(outrasFrutas)\n",
    "frutas.update(demaisFrutas)\n",
    "frutas"
   ]
  },
  {
   "cell_type": "code",
   "execution_count": 57,
   "id": "4ff45b39",
   "metadata": {
    "slideshow": {
     "slide_type": "fragment"
    }
   },
   "outputs": [
    {
     "data": {
      "text/plain": [
       "{'banana', 'mamão', 'pera'}"
      ]
     },
     "execution_count": 57,
     "metadata": {},
     "output_type": "execute_result"
    }
   ],
   "source": [
    "# Para remover um elemento usamos o comando remove:\n",
    "frutas = {'maça', 'banana', 'mamão', 'pera'}\n",
    "frutas.remove('maça')\n",
    "frutas"
   ]
  },
  {
   "cell_type": "code",
   "execution_count": 59,
   "id": "2a161d4c",
   "metadata": {
    "slideshow": {
     "slide_type": "fragment"
    }
   },
   "outputs": [
    {
     "data": {
      "text/plain": [
       "{'banana', 'mamão', 'maça', 'pera'}"
      ]
     },
     "execution_count": 59,
     "metadata": {},
     "output_type": "execute_result"
    }
   ],
   "source": [
    "# Para remover um elemento mesmo que ele não exista, usamos o comando discard\n",
    "frutas = {'maça', 'banana', 'mamão', 'pera'}\n",
    "frutas.discard('uva')\n",
    "frutas"
   ]
  },
  {
   "cell_type": "markdown",
   "id": "f0afded3",
   "metadata": {
    "slideshow": {
     "slide_type": "slide"
    }
   },
   "source": [
    "## Dicionários (dict)"
   ]
  },
  {
   "cell_type": "markdown",
   "id": "110828ac",
   "metadata": {
    "slideshow": {
     "slide_type": "subslide"
    }
   },
   "source": [
    "Dicionários são utilizados para armazenar pares de valores do tipo chave:valor"
   ]
  },
  {
   "cell_type": "markdown",
   "id": "750a9492",
   "metadata": {
    "slideshow": {
     "slide_type": "subslide"
    }
   },
   "source": [
    "São características de dicionários:\n",
    "\n",
    "* Seus elementos são indexáveis\n",
    "* Não são permitidos chaves duplicatas\n",
    "* Utiliza-se a sintaxe { chave:valor }"
   ]
  },
  {
   "cell_type": "code",
   "execution_count": 101,
   "id": "e2c25e9c",
   "metadata": {
    "slideshow": {
     "slide_type": "subslide"
    }
   },
   "outputs": [
    {
     "data": {
      "text/plain": [
       "{'João': 78, 'Pedro': 64, 'Maria': 99}"
      ]
     },
     "execution_count": 101,
     "metadata": {},
     "output_type": "execute_result"
    }
   ],
   "source": [
    "# Exemplo de criação de um dicionário:\n",
    "notas = {'João': 78, 'Pedro' : 64, 'Maria': 99}\n",
    "notas"
   ]
  },
  {
   "cell_type": "code",
   "execution_count": 102,
   "id": "59fc46a8",
   "metadata": {
    "slideshow": {
     "slide_type": "fragment"
    }
   },
   "outputs": [
    {
     "data": {
      "text/plain": [
       "78"
      ]
     },
     "execution_count": 102,
     "metadata": {},
     "output_type": "execute_result"
    }
   ],
   "source": [
    "# Acessamos um dicionário pela sua chave\n",
    "notas = {'João': 78, 'Pedro' : 64, 'Maria': 99}\n",
    "notas['João']"
   ]
  },
  {
   "cell_type": "code",
   "execution_count": 105,
   "id": "767aa6fe",
   "metadata": {},
   "outputs": [
    {
     "data": {
      "text/plain": [
       "{'João': 90, 'Pedro': 64, 'Maria': 99}"
      ]
     },
     "execution_count": 105,
     "metadata": {},
     "output_type": "execute_result"
    }
   ],
   "source": [
    "# O valor pode ser alterado acessando sua chave\n",
    "notas = {'João': 78, 'Pedro' : 64, 'Maria': 99}\n",
    "notas['João'] = 90\n",
    "notas"
   ]
  },
  {
   "cell_type": "code",
   "execution_count": 104,
   "id": "d9ee49d4",
   "metadata": {},
   "outputs": [
    {
     "data": {
      "text/plain": [
       "{'João': 23, 'Pedro': 64, 'Maria': 99}"
      ]
     },
     "execution_count": 104,
     "metadata": {},
     "output_type": "execute_result"
    }
   ],
   "source": [
    "# Não é possível duplicar uma chave\n",
    "notas = {'João': 78, 'João': 23, 'Pedro' : 64, 'Maria': 99}\n",
    "notas"
   ]
  },
  {
   "cell_type": "code",
   "execution_count": 129,
   "id": "4afbcb4a",
   "metadata": {},
   "outputs": [
    {
     "data": {
      "text/plain": [
       "3"
      ]
     },
     "execution_count": 129,
     "metadata": {},
     "output_type": "execute_result"
    }
   ],
   "source": [
    "# O tamanho de um dicionário é dado pela quantidade de chaves que existem\n",
    "notas = {'João': 78, 'Pedro' : 64, 'Maria': 99}\n",
    "len(notas)"
   ]
  },
  {
   "cell_type": "code",
   "execution_count": 130,
   "id": "453774cf",
   "metadata": {},
   "outputs": [
    {
     "data": {
      "text/plain": [
       "dict_keys(['João', 'Pedro', 'Maria'])"
      ]
     },
     "execution_count": 130,
     "metadata": {},
     "output_type": "execute_result"
    }
   ],
   "source": [
    "# A lista de chaves pode ser recuperada com o comando keys.\n",
    "notas = {'João': 78, 'Pedro' : 64, 'Maria': 99}\n",
    "notas.keys()"
   ]
  },
  {
   "cell_type": "code",
   "execution_count": 131,
   "id": "3f761c6e",
   "metadata": {},
   "outputs": [
    {
     "data": {
      "text/plain": [
       "dict_values([78, 64, 99])"
      ]
     },
     "execution_count": 131,
     "metadata": {},
     "output_type": "execute_result"
    }
   ],
   "source": [
    "# A lista de valores pode ser recuperada com o comando values.\n",
    "notas = {'João': 78, 'Pedro' : 64, 'Maria': 99}\n",
    "notas.values()"
   ]
  },
  {
   "cell_type": "code",
   "execution_count": 132,
   "id": "f95f640c",
   "metadata": {},
   "outputs": [
    {
     "data": {
      "text/plain": [
       "False"
      ]
     },
     "execution_count": 132,
     "metadata": {},
     "output_type": "execute_result"
    }
   ],
   "source": [
    "# Usamos o comando in para verificar se uma chave encontra-se presente.\n",
    "notas = {'João': 78, 'Pedro' : 64, 'Maria': 99}\n",
    "'Paulo' in notas"
   ]
  },
  {
   "cell_type": "code",
   "execution_count": 72,
   "id": "baf2ba0d",
   "metadata": {},
   "outputs": [
    {
     "data": {
      "text/plain": [
       "{'João': 78, 'Maria': 99, 'Paulo': 64}"
      ]
     },
     "execution_count": 72,
     "metadata": {},
     "output_type": "execute_result"
    }
   ],
   "source": [
    "# Novos itens podem ser inseridos usando os colchetes [ ]\n",
    "notas = {'João': 78, 'Pedro' : 64, 'Maria': 99}\n",
    "notas['Paulo'] = 64\n",
    "notas.pop('Pedro')\n",
    "notas"
   ]
  },
  {
   "cell_type": "code",
   "execution_count": 73,
   "id": "1d8598e1",
   "metadata": {},
   "outputs": [
    {
     "name": "stdout",
     "output_type": "stream",
     "text": [
      "64\n",
      "{'João': 78, 'Maria': 99}\n"
     ]
    }
   ],
   "source": [
    "# Removemos um elemento específico do dicionário usando o comando pop\n",
    "notas = {'João': 78, 'Pedro' : 64, 'Maria': 99}\n",
    "# retorna o valor como uma tupla\n",
    "i = notas.pop('Pedro')\n",
    "print(i)\n",
    "print(notas)"
   ]
  },
  {
   "cell_type": "code",
   "execution_count": 126,
   "id": "f619a423",
   "metadata": {},
   "outputs": [
    {
     "name": "stdout",
     "output_type": "stream",
     "text": [
      "('Maria', 99)\n",
      "{'João': 78, 'Pedro': 64}\n"
     ]
    }
   ],
   "source": [
    "# Removemos o último elemento do dicionário usando o comando popitem\n",
    "notas = {'João': 78, 'Pedro' : 64, 'Maria': 99}\n",
    "# retorna o valor como uma tupla\n",
    "i = notas.popitem()\n",
    "print(i)\n",
    "print(notas)"
   ]
  },
  {
   "cell_type": "code",
   "execution_count": 127,
   "id": "afa7f9c1",
   "metadata": {},
   "outputs": [
    {
     "data": {
      "text/plain": [
       "{}"
      ]
     },
     "execution_count": 127,
     "metadata": {},
     "output_type": "execute_result"
    }
   ],
   "source": [
    "# Apagamos todos os elementos com o comando clear\n",
    "notas = {'João': 78, 'Pedro' : 64, 'Maria': 99}\n",
    "notas.clear()\n",
    "notas"
   ]
  },
  {
   "cell_type": "code",
   "execution_count": 134,
   "id": "1112f035",
   "metadata": {},
   "outputs": [
    {
     "data": {
      "text/plain": [
       "{'João': 78, 'Pedro': 64, 'Maria': 99}"
      ]
     },
     "execution_count": 134,
     "metadata": {},
     "output_type": "execute_result"
    }
   ],
   "source": [
    "# Para copiar um dicionario não devemos usar o operador = apenas, e sim junto com o comando copy\n",
    "notas = {'João': 78, 'Pedro' : 64, 'Maria': 99}\n",
    "notas2 = notas.copy()\n",
    "notas2"
   ]
  },
  {
   "cell_type": "markdown",
   "id": "03ad2b0d",
   "metadata": {
    "slideshow": {
     "slide_type": "slide"
    }
   },
   "source": [
    "## Numpy"
   ]
  },
  {
   "cell_type": "markdown",
   "id": "c5dec24c",
   "metadata": {
    "slideshow": {
     "slide_type": "subslide"
    }
   },
   "source": [
    "Uma biblioteca adicional que não faz parte da distribuição básica mas possui tipos importantes é a biblioteca `numpy` \n",
    "\n",
    "Vamos ver brevemente como declará-la e futuramente veremos com mais detalhes "
   ]
  },
  {
   "cell_type": "code",
   "execution_count": 135,
   "id": "b4593cdc",
   "metadata": {
    "slideshow": {
     "slide_type": "subslide"
    }
   },
   "outputs": [],
   "source": [
    "import numpy as np"
   ]
  },
  {
   "cell_type": "code",
   "execution_count": 137,
   "id": "1fc366f7",
   "metadata": {
    "slideshow": {
     "slide_type": "fragment"
    }
   },
   "outputs": [
    {
     "data": {
      "text/plain": [
       "array([1, 2, 3])"
      ]
     },
     "execution_count": 137,
     "metadata": {},
     "output_type": "execute_result"
    }
   ],
   "source": [
    "# Criando um vetor linha 3x1\n",
    "np.array([1, 2, 3])"
   ]
  },
  {
   "cell_type": "code",
   "execution_count": 140,
   "id": "6062acb7",
   "metadata": {
    "slideshow": {
     "slide_type": "fragment"
    }
   },
   "outputs": [
    {
     "data": {
      "text/plain": [
       "array([[1, 2, 3],\n",
       "       [4, 5, 6]])"
      ]
     },
     "execution_count": 140,
     "metadata": {},
     "output_type": "execute_result"
    }
   ],
   "source": [
    "# Criando uma matriz 3x2\n",
    "np.array([[1, 2, 3], [4, 5, 6]])"
   ]
  },
  {
   "cell_type": "code",
   "execution_count": 141,
   "id": "42b950bc",
   "metadata": {
    "slideshow": {
     "slide_type": "fragment"
    }
   },
   "outputs": [
    {
     "data": {
      "text/plain": [
       "array(['1', '2', '3'], dtype='<U11')"
      ]
     },
     "execution_count": 141,
     "metadata": {},
     "output_type": "execute_result"
    }
   ],
   "source": [
    "# Diferente dos tipos anteriores, só é possível armazenar o mesmo tipo de dados em um array do numpy\n",
    "np.array(['1', 2, 3])"
   ]
  },
  {
   "cell_type": "code",
   "execution_count": 150,
   "id": "4b08c095",
   "metadata": {
    "slideshow": {
     "slide_type": "fragment"
    }
   },
   "outputs": [
    {
     "data": {
      "text/plain": [
       "5"
      ]
     },
     "execution_count": 150,
     "metadata": {},
     "output_type": "execute_result"
    }
   ],
   "source": [
    "# A grande vantagem é que existem diversas funções da álgebra definidos na biblioteca numpy,\n",
    "# como o produto interno:\n",
    "vetor1 = np.array([1, 2, 3])\n",
    "vetor2 = np.array([2, 0, 1])\n",
    "\n",
    "np.dot(vetor1, vetor2)"
   ]
  },
  {
   "cell_type": "code",
   "execution_count": 151,
   "id": "26a6019d",
   "metadata": {
    "slideshow": {
     "slide_type": "fragment"
    }
   },
   "outputs": [
    {
     "data": {
      "text/plain": [
       "array([ 2,  5, -4])"
      ]
     },
     "execution_count": 151,
     "metadata": {},
     "output_type": "execute_result"
    }
   ],
   "source": [
    "# Produto vetorial:\n",
    "vetor1 = np.array([1, 2, 3])\n",
    "vetor2 = np.array([2, 0, 1])\n",
    "\n",
    "np.cross(vetor1, vetor2)"
   ]
  },
  {
   "cell_type": "code",
   "execution_count": 85,
   "id": "369d27b3",
   "metadata": {},
   "outputs": [
    {
     "name": "stdout",
     "output_type": "stream",
     "text": [
      "100\n",
      "30\n",
      "5\n",
      "135\n"
     ]
    }
   ],
   "source": [
    "s = str(1) + str(3) + str(5)\n",
    "list = [1, 3, 5]\n",
    "\n",
    "# digito*10**potencia\n",
    "\n",
    "# 135 = 100 + 30 + 5\n",
    "# 1*10^2 + 3*10^1 + 5*10^0\n",
    "\n",
    "potencia = len(list) - 1\n",
    "resposta = 0\n",
    "for digito in list:\n",
    "    print(digito*10**potencia)\n",
    "    resposta += digito*10**potencia\n",
    "    potencia -= 1\n",
    "print(resposta)"
   ]
  },
  {
   "cell_type": "markdown",
   "id": "a04d899b",
   "metadata": {},
   "source": [
    "A biblioteca possui diversas outras funções, que veremos mais adiante durante o curso."
   ]
  }
 ],
 "metadata": {
  "kernelspec": {
   "display_name": "Python 3 (ipykernel)",
   "language": "python",
   "name": "python3"
  },
  "language_info": {
   "codemirror_mode": {
    "name": "ipython",
    "version": 3
   },
   "file_extension": ".py",
   "mimetype": "text/x-python",
   "name": "python",
   "nbconvert_exporter": "python",
   "pygments_lexer": "ipython3",
   "version": "3.12.5"
  },
  "latex_envs": {
   "LaTeX_envs_menu_present": true,
   "autoclose": true,
   "autocomplete": true,
   "bibliofile": "biblio.bib",
   "cite_by": "apalike",
   "current_citInitial": 1,
   "eqLabelWithNumbers": true,
   "eqNumInitial": 1,
   "hotkeys": {
    "equation": "Ctrl-E",
    "itemize": "Ctrl-I"
   },
   "labels_anchors": false,
   "latex_user_defs": false,
   "report_style_numbering": false,
   "user_envs_cfg": false
  }
 },
 "nbformat": 4,
 "nbformat_minor": 5
}
