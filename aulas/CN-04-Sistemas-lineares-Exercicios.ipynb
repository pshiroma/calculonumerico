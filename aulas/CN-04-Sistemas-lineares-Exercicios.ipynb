{
 "cells": [
  {
   "cell_type": "code",
   "execution_count": null,
   "id": "e9f92aae",
   "metadata": {},
   "outputs": [],
   "source": []
  },
  {
   "cell_type": "markdown",
   "id": "62057416",
   "metadata": {},
   "source": [
    "# Exercício 1\n",
    "\n",
    "Crie a matriz abaixo utilizando o tipo de dados `array` da biblioteca `numpy`:\n",
    "\n",
    "\\begin{bmatrix}\n",
    "1 & 2 & 3 \\\\\n",
    "0 & -1 & -2 \\\\\n",
    "2 & 2 & 1\n",
    "\\end{bmatrix}"
   ]
  },
  {
   "cell_type": "code",
   "execution_count": null,
   "id": "841485a2",
   "metadata": {},
   "outputs": [],
   "source": []
  },
  {
   "cell_type": "markdown",
   "id": "444413bd",
   "metadata": {},
   "source": [
    "# Exercício 2\n",
    "\n",
    "Realize a concatenação das matrizes abaixo:\n",
    "\n",
    "$\n",
    "A =\n",
    "\\begin{bmatrix}\n",
    "1 & 2 \\\\\n",
    "4 & 5\n",
    "\\end{bmatrix}\n",
    "$\n",
    "\n",
    "e\n",
    "\n",
    "$b = \\begin{bmatrix}\n",
    "3 \\\\\n",
    "6\n",
    "\\end{bmatrix}\n",
    "$\n",
    "\n",
    "a fim de produzir a matriz aumentada:\n",
    "\n",
    "$\n",
    "Ab =\n",
    "\\begin{bmatrix}\n",
    "1 & 2 & 3\\\\\n",
    "4 & 5 & 6\n",
    "\\end{bmatrix}\n",
    "$\n",
    "\n",
    "utilizando os comandos da biblioteca `numpy`."
   ]
  },
  {
   "cell_type": "code",
   "execution_count": null,
   "id": "c687edeb",
   "metadata": {},
   "outputs": [],
   "source": []
  },
  {
   "cell_type": "markdown",
   "id": "62e9b00c",
   "metadata": {},
   "source": [
    "# Exercício 3\n",
    "\n",
    "Execute o código abaixo e explique o que acontece em cada caso:"
   ]
  },
  {
   "cell_type": "code",
   "execution_count": 1,
   "id": "41be20cc",
   "metadata": {},
   "outputs": [
    {
     "name": "stdout",
     "output_type": "stream",
     "text": [
      "[ 0 -1  4] \n",
      " [ 0 -1  4] \n",
      " [0 2 4]\n"
     ]
    }
   ],
   "source": [
    "import numpy as np\n",
    "v = np.array([0, 2, 4])\n",
    "w = v\n",
    "u = v.copy()\n",
    "w[1] = -1\n",
    "print(v, '\\n', w, '\\n', u)"
   ]
  },
  {
   "cell_type": "markdown",
   "id": "a29d20cc",
   "metadata": {},
   "source": []
  },
  {
   "cell_type": "markdown",
   "id": "526720bc",
   "metadata": {},
   "source": [
    "# Exercício 4\n",
    "\n",
    "Desejamos enviar uma mensagem secreta e desejamos codificá-la antes de enviarmos ela.\n",
    "\n",
    "* Suponha que a mensagem tenha $n$ caracteres ($n$ par)\n",
    "* Vamos dividir a mensagem em 2 linhas de mesmo tamanho, formando uma matriz de tamanho $M_{2\\times n/2}$.\n",
    "* Cada letra da mensagem foi associado a um número. Por exemplo: $A = 1$, $B = 2, \\ldots$, $Z = 26$ e o espaço é o número 27.\n",
    "* A matriz $M$ foi pré-multiplicada pela matriz codificadora $C$.\n",
    "* A mensagem codificada é dado por $M_C = C \\cdot M$\n",
    "\n",
    "1. Com base nestas instruções, determine a mensagem codificada se:\n",
    "\n",
    "$\n",
    "C = \\begin{bmatrix} \n",
    "1 & 2 \\\\\n",
    "-1 & 3\n",
    "\\end{bmatrix}\n",
    "$\n",
    "\n",
    "e a mensagem for: \"OLA MUNDO \"\n",
    "\n",
    "2. Você recebeu a mensagem codificada: \n",
    "\\begin{bmatrix}\n",
    "28 &  25 &  39 &  45 &  57 &  43 \\\\\n",
    "-13 &  0 &  51 &  55 &  18 &  62\n",
    "\\end{bmatrix}.\n",
    "Descubra o significado da mensagem."
   ]
  },
  {
   "cell_type": "code",
   "execution_count": null,
   "id": "13cae43c",
   "metadata": {},
   "outputs": [],
   "source": []
  },
  {
   "cell_type": "markdown",
   "id": "4ce56726",
   "metadata": {},
   "source": [
    "# Exercício 5\n",
    "\n",
    "Considere um modelo que relaciona a população de raposas e coelhos.\n",
    "Inicialmente há 100 raposas e 100 coelhos.\n",
    "\n",
    "O número de coelhos e raposas no próximo mês é governado pela seguinte relação:\n",
    "\n",
    "$R_{n+1} = 0,4R_n + 0,3C_n$\n",
    "\n",
    "e\n",
    "\n",
    "$C_{n+1} = -0,4R_n + 1,2C_n$\n",
    "\n",
    "onde $R_{n}$ corresponde ao número de raposas no mês $n$ e $C_n$ o número de coelhos no mês $n$.\n",
    "\n",
    "Simule o crescimento populacional de coelhos e raposas nos primeiros 20 meses."
   ]
  },
  {
   "cell_type": "code",
   "execution_count": null,
   "id": "bac88585",
   "metadata": {},
   "outputs": [],
   "source": []
  },
  {
   "cell_type": "markdown",
   "id": "b0bda636",
   "metadata": {},
   "source": [
    "# Exercício 6\n",
    "\n",
    "https://repositorio.ufrn.br/bitstream/123456789/25982/1/MatrizesSistemasFatoracao_Vicente_2017.pdf\n",
    "\n",
    "Cláudio usou apenas notas de R\\\\$ 20,00 e de R\\\\$ 5,00 para fazer um pagamento de R\\\\$ 140,00. \n",
    "Quantas notas de cada tipo ele usou, sabendo que no total foram utilizadas 10 notas?\n",
    "\n",
    "Modele o problema como um sistema linear.\n",
    "Em seguida, resolva-o utilizando as funções da bibilioteca `numpy.linalg`"
   ]
  },
  {
   "cell_type": "code",
   "execution_count": null,
   "id": "51bf44c8",
   "metadata": {},
   "outputs": [],
   "source": []
  },
  {
   "cell_type": "markdown",
   "id": "f0778a8f",
   "metadata": {},
   "source": [
    "# Exercício7"
   ]
  },
  {
   "cell_type": "markdown",
   "id": "2b936577",
   "metadata": {},
   "source": [
    "![balanco](data:image/png;base64,iVBORw0KGgoAAAANSUhEUgAAAigAAAFACAYAAACWQocvAAAAAXNSR0IArs4c6QAAAARnQU1BAACxjwv8YQUAAAAJcEhZcwAADsMAAA7DAcdvqGQAAAAhdEVYdENyZWF0aW9uIFRpbWUAMjAyMjowNjowMiAxNjozMTowNWaj3JgAAEavSURBVHhe7d0NXFRl3j7wq7WY1qJspSywniBbIEXyZSLCQM0XDBPDsEXxWYRWBTfEXURbFFeFUqQUWl9XkNZR/wsbgcpCvmAQRISGgAZsBlYO5QpPrlPUsBH/c2ZuEhEsQWcOzPX9OJxz/864stM9Z665z33OualVAiIiIiIF+YVYEhERESkGAwoREREpDgMKERERKQ4DChERESkOAwoREREpDs/iIepF8o7mw8ZmoGjRtRh0zz0YNOge0SIipWNAIepFvJ+ejlt/qcKvH35YVOinnDv3b3x+9iz+tGwJJjw1TlSJSOkYUIh6kbq6M/ibZi90uotYFhXJ0ZSfkPBaIo4d+xATJ45DyNwgUSWi3oABhagX+nvaP5BfUIjA2QF4wt1NVKm9bX9Nwccfn8a8F+bi17/miBNRb8OAQorWUKzBtvxmPOpuC+2BXJz3WITI6fZQie2moj+dhYTYLcgoa4S+/0C4jg9B1DJ/uFqLJ5jBW5n7sCPlDfw55k9Qjx4lqiR7ee16NDf/Fy8tjYRKZSWqdIUWHaoOapBRbiO9x4ATaaW4O2gp5qnNMDLXUIrtq1dI73fje8xz5gpEh3vArp/YTpZHDihEivN9Q2v++tmtz71W0fqdKLV+90Fr7ONPtIbubxAFEzH8u6Nbh/qua83/9GLr+ZOZrSt8pXZYZut58RRzeb/kg9Znnwto/ezzs6JC61/d2Prqa0miRV36prZ1T+Tk1tC3tKIg+TStddZw/9bEcr0omIq2dU/gpffY2XfWtT4zfHTrMztrxXayRDzNmBSoGeVJoQg7osbyMJdLoyUqBziPbEZBZiG0omQSp2vwkb0j5kVHwPMBa9gM9cX8OWqg8ChKGsRzzMTtMTVm/WYmUna+ISqW7fCRPJw9W48/LH5RVKhTLfXIWBaIuKZQrJ5uK4qSB5wwAnXYfrBcFEykoQa1LY7wmR9ieI/ZeYUgaAxQW1oBM7/FyIwYUEh5TmkQlVqHCeHBcL3sWI7e8AelZ0y70xoaiN17NAhXXzpUoG++KP20hsrUx5o68dyM6Thz5jOcPv2JqFiujLf2438DA0SLuqI7uBEx+TYID/OFjagZtHxnXNbVm/Y9ZjMO0dJ7bN0UcWippQENtdLS1kZ6l5GlYkAhhdHh8K4t0MIbU8d02DW1aKVvVNJS/eDlO1VTaWmG7kIjavO3YEVSDRzmzcSTCtl7jvFwxwelx0XLMn3++Vl8++23GDnyUVGhztVgb9JR6cPfF08OFaU25+pRJS/tbc3zHhO0+7dgW70tgp5Wm3y+GSkHAwopi74CJTnSUj0azh0//KsrcUha2Lk7wc5Y6YZKJLiqMazTRyKuOrDdVIRYL29MC09BuWMwop9vd/jJzOzsbPHJJ/JXTstVW1eH++67V7SoS3UVOFQvLZ9ygbOx8iNdeRFKpKXPcCdjoTvKEjt5b4nHhkrxpK7ppb8furIIdkGxeHEEJzhbMgYUUpYLDcb5JUMdrggh5QeTpW0emD/VUVSuoqUZ+haxfhkXRJaX4mSnj0VwFc/qlPU4rJOf90EWNj6ci5Bn4lEiH3JSgDvvuEOe8C5alsnqFivcqoRjbkp3wThK4jnEwdj+USMOHZBHVgIxy6vj6GUn76emZrHSwYhFnby3xGOxi3hSF+qzsDhMA63XcmwJV84XADIPBhRSlgE2nY+OnMvCtlRpp7oqCn6DjCVdTRbi5oRhb52xLR8eyl7mDf9ZgfBfqEF1p+GhGyMoF+pQUlyK2guirbLFhKfHSzvodLz7kagR9RYDbK8YOZHpyzTYVmiPoJdDxdyvTt5PF3KxdJLUlmohmhrDlLArdHcERQonYTNiUaKOQvpaX55eTDzNmJRG3/r+K0+0Dg1Ma/3xxNnvta1vvjiuddaO6kunHEu+++aD1vXDZ7fuaTsT8dO01kWvFbae/160r5evcloXDR/dOvLF5NYT8mnGtYWtib+VfsfH17W+3/4XMqP33nu/ddXql0XLMvE1+LmMp/SOfOWDS++nbypa1/v6t654+/JTjju+n87+fUnr+ndvwGn+X33QGiufui+fZqy92HrxK/G4aOrTnUlJOIJCCmMFt3ANVjvlIGplOgry0pGwPguqhVnYHeJ42ZCvqv+tYs2oQauD6sMVGDtyPOKKuxh+7o4B3lizKwoTvtJg9jPjMXbWGrx7VwiSM6PgxjFo6nVsEbBhM+bXr0fYplwU5KQgYUM5ntyWhtWTLp1yfOX7qRFnL6hQFu2NYV7xKGkyPu+6qHvPOBJal46wKePh7iUey3J4mrEF45VkSZk+y0LE68CSjkO9TTUoOG0Lz+HyMXL5cM062GVqEGBv3CzTlSZi9gt6RH4QBU8LCRDFxSU4dDgPMSteEhXLw9fg2sjvk4jC8di8uMNcj/oilHzvAbcHjM0r3k8tOpQkhSCkaRGOR3twngjdMBxBIcXRVaRg9vOxOPzBbkREJiKjrN44QU9Xg70JebhzyNXP7bVW+yNIXQGtfKYCEV1BmxMrhQ4NTuSsQ1i0BgV1OuOGc0VI2NGAwe0mgl3xfupnDbfnZ8PtVL1pL5hIFocBhZRF34jz1v7YXViEtzdKO0GUIjXCF6PGeGN2UjXcIkPh2l88t0t66FVqOIjJtETUjq4OF12jsO/DPKRHe8OmMRcxs8ZjmNdMRGRZISi64wTVTt5P+maoRj7Yg9P9iX4aD/FQr6VvOIq4p9bBZus+hLvrUJCwAm/0m4Z5rkCDjRo+w81ww7ProL7+C9ja3idaPw8Pb/A1uL4ar3w/2VYjYdluYPpcPCptv/txb7ia82pufVDpseMY+ogz+vf/yW9hFoEBhUhh5NMxnxo/1vDw8nrScI2Tn8IPZ74G1PvJAeUPf1xmeO+PH+cFT88xYotl4iEeIgU6kvcO/rT8z3h66rNYsXKNod3S0umV54ioD/nqwgX8IyMTYS8uxtRpM/DqhiQc/7BMbLUsHEGxQHNDFog1UiL5W1Rn7r9/MEaOeBSPODti2LChcB1+6aqcHD0wvgZJm7bCwf5BUSHqXRoaG1FUVCxal3OR3vPDhw8zHAKS3/v/8z/iNKs+jAHFAskBpasPQeo9br/9duPOytUFKisrfPHll/hzTLTYannkgPLKugTU1p0RFaK+64EH7sdwl2GGsCLvAx5x7sH9kxSKh3iIiIhIcTiCYoHaj6CoR48yLEk5uhrdku9YPHrUSB7i6ULbCIqVFe+AS71TU1MTPvv8rGhdzvie5yEe6uM6BpSdyVsN66QM8lk87ckz+idOGG94qLq4Wy8DCl8D6v3k/XL7OYL9+/8SPlO8MUF673s88bioWg4e4iFSIHlCbNiC3yEz4+9I3LAeU32mdBlOiKhvefTR4VgRvRQ52ZlYGfMniwwnMgYUIoVJfC0eOQfeQljoPAx5yEFUicgSaN5INjyen/kcBv7qV6JqmRhQiBTmqafGiTXqk86VIjUuHtsPFCE7OQphcVmovZ53Bv7ZmlGbGY/ZXmrDYUX3OSuw99R1vAs4XTP5kLs8ekJGDChE1H0tjSjZlYKM0hpkrw3G9jJ+wF1NQ2Ei/F98DyMWR2HeVA/4hMTit/3i4b8sFw3iOaaiL94I/5VZuHOBBu8c1CD8rjzEvRCPw+K+gUTmxoBCRN3TUo+Mxf44bB8IP7UtVN+ewaGTvL9tV/RliQhemAe3l9rf8NIKDzmpoc/fhwIT33279nQ1HIaGYP5MR9gMckTA3JlAUxZOnBZPIDIzBhQi6hbdkS2IawhFwBj5tF5rTFiVh/Q59saNdLmWGrzxJw1qJ4Vi/ojLT4PWt8ijTqWoPWdsm4rznBSk7wmGq7hzse5LOVw6wm6AsU1kbgwoRNQNjTiUlQt4OIHTeH+a7ogGSfWAz0QPKcpd7mxdqfRTDYdBxrZZNFVi27ajwBh/TGTGJIVgQCGibqhHbSHgZmcr2m0akR2uhvv0QPjPMj5SK8Qmi9WMslIpzEkhxG1Yh3jSUoPyI9LSdjScO7yU+qafO5+nERkLjRNdr3xEIOOnRmbkQ3XLFiD1nAdWR/vCRpSJzI0BhYi64XbYDQU+aRRTO6UPuey0UsjzK/UtwIyVGqTvMT6CLP6kBB0aDPNLHPFQxzxXkYtt0jbP+b5wltunUuAvwl1MXrtps3XpmD0rHbWiebmB8NtUipPlnT02wu+qIzPNKE+KQEy+HYI2x8Ov4+9HZEYMKETUDfbwWxKKwW9vQVJaOpKSK+A8VX3F4QuSWcOm0w/+RmTs0ABeyxH9zECp3YyS/dXwS5LnhmiwbmrbX5KelxCPctG6UndHUKRwsiEQs1OBgE1bENlhbgyRuTGgEFG3qEYEIzltI8Jn+iN8njccfjwzBXhzaSD8Z87EtHANqsxyjQ8lsYLbeH+opIjx0WeiJNFmrsH6b0KhWesLO3miqr4ODS3N2Pa8B0a9kI7aFuPz9IVpODvE19joVHdGUJpRmxaF4NSL8Fy2AvOHWUF3QWd4yCNgRErAgEJE15EVHvIKxpptGqSnaRB5VyJisurENsulco9A+ionHIiOxd78o9ibEI83VaE4mBwM57Zgp3KET/RGvFOYhej+G7E0TXrdWmqQUT4cc8de77EpHU7kF0GPRhSsDcZYr/FwF4/XLX7OECkFAwoRXUfN+E4vVqWPP12TFFn68R5CcnBzeCYQM+69CNXD4xAQGYXwKY6wNpzi24yqwkrD/B2DfrbwmzMTVbX1qN2fB9WzV57503Ndj7pEjhBPITIzBhQiuo4GYvAgHXbO94b/zFDsGRCP+BmceQldJbaH+CPm4DGkSuEkIbMSWjnItehQtTceh26TworxmQZ6vR6eTvdA1wycfWsLkv5RDnxVhL2pRSa/4iyRuTCgENF1ZTcpCrsP5hoO8eyOHmecX2HRmtFw7nYEJBfheE4igtRASeoiTH7MA2NDtqBKHYVweYJqTTrCglYgtbgIhxs8ED3lYbhKIS98ofR4zhW4ywMBQR48DZgsxk2tErFOFmJuyAKUHjtuWJdvTrUzeathnXqv4uISHDqch5gVL4mK5eFrQNS3MKBYIAaUvocfzsbXYP2rG3HnnXeKCvUFYaG/M+ynyPIwoFggBpS+hwHlUkD518e8211fIu+fGFAsE+egEBERkeJwBMUCcQSl7+EIivE12J68E+pRI0WFeqvNW/8q1jiCYskYUCwQA0rfw4DC16CvkPdN8j6qDQOK5eIhHiIiIlIcBhQiIiJSHAYUIiIiUhwGFCIiIlIcBhQiIiJSHAYUIiIiUhwGFCIiIlIcBhQiIiJSHAYUIiIiUhwGFCIiIlIcBhQiIiJSHAYUIiIiUhwGFCIiIlIcBhQiIiJSHAYUIiIiUhwGFCIiIlIcBhQiIiJSnJtaJWKdLMTckAUoPXbcsK4ePQo7k7ca1qn3Ki4uQcyqWPz64SGiYnrNzc2wsrISLdP76qsLsLW9DwnxL4sK9UbyvkneR7WR90/yfoosDwOKBWJA6Ztqa+vEmnkkvr4ZgbN/g4G/+pWomIeDg71Yo96IAYXaMKBYIAYUuhGeme6PxYt+j/HjvESF6NoxoFAbzkEhoh776KNq1NWdwclTH4kKEVHPMKAQUY+dKC83LCsrTxqWREQ9xYBCRD1WdqLCsDxRXgm9Xm9YJyLqCQYUIuqx8nJjQPn22295mIeIrgsGFCLqkfKKStR/8aVoASdPMqAQUc8xoBBRj+QXFIo1o8L3isUaEVH3MaAQUY+8806BWDOSLxpX86+PRYuIqHsYUIio294rfh//+vi0aF1y9Gi+WCMi6h4GFCLqtrwugsjR/MtHVYiIrhUDChF1y/fff4+jHQ7vtDl1qgrHPywTLSKia8eAQkTdIo+enDv3b9G6Eg/zEFFPMKAQUbfIAUW+R8rw4S6iYmRv/6ChfuqjalEhIrp2DChE1C1rX15tuJHb+nVxomIUEvxbQ503oSSinmBAISIiIsVhQCEiIiLFYUAhIiIixWFAISIiIsVhQCEiIiLFYUAhIiIixWFAISIiIsVhQCEiIiLFYUAhIiIixWFAIVKQhmIN4tamIDs/F9uXRCAusw56sc3kWhpRsikYo1zVGLahUhSJiEyDAYVICaQwUJAQiND3XRG5LBg+Xt6YFzsbWBeIxQcaxZNM6NxRxARMQ4imRhSIiEyLAYXI7JpRnhSKsCNqLA9zgUpUoXKA88hmFGQWQitKJnOhDp/YhSJ5/0YEiBIRkSkxoBCZ2ykNolLrMCE8GK4/phOZ3vAHpWfQYCyYjmMwdm8IhJvNraJARGRaDChEZqXD4V1boIU3po6xFjWhRYvaUmmpfhA2xgoRkcVgQCEyJ30FSnKkpXo0nDvkE1RX4pC0sHN3gp2x0rWWZuhbxPplKpEgT3Lt9JGIcvEsIiKlYUAhMqcLDcb5JUMdrggh5QeTpW0emD/VEWiqQeqSYPhP8oD7klxxyEeH7GXe8J8VCP+FGlR3erqPCyLLS3Gy08ciuIpnEREpDQMKkTkNsOl8dORcFralAp6rouA3CKhKy8LdS1OQnrMVASdXILVMes5nuTg0aAW27NIgfWswXPsb/+rlOIJCRL0TAwqROanUmBBgBXxYfelMnZZ6ZMQl4j/hKdgw3dZQcg6Kgo88EaWfLQY7uMBuANCg1UH14QqMHTkeccXNhuddiSMoRNQ7MaAQmZUV3MI1WO2Ug6iV6SjIS0fC+iyoFmZhd4jjpVOO21woRUk/X3g+ANi4B2PdrjwU7/BFyYKNKDDbFd2IiK4/BhQic+tvD785vri7yQoPefkjclkofBzFjNmmGhRU6IzraEbJm3XwifGFXT9Rklir/RGkroC2XhSuKzECs9hFtImITIMBhcjMdBUpmP18LA5/sBsRkYnIKKs3npGjq8HehDzcOcQYVrQHNKj1CoGnDdBQ39juEvh66FVqOAwSTSKiPoABhcic9I04b+2P3YVFeHvjbLihFKkRvhg1xhuzk6rhFhlqmPzaUBiP0Lg0ZMQEw3/WTMQWf4mShDCEbMhFSV4N7pgfCLdOJ8kSEfVON7VKxDpZiLkhC1B67LhhXT16FHYmbzWsE3WHtv4LTJ4yTbSA2DUrMX3aVNEiujbyvkneR7WR90/yfoosD0dQiIiISHEYUIiIiEhxGFCIiIhIcRhQiIiISHEYUIiIiEhxGFCIiIhIcRhQiIiISHEYUIiIiEhxGFCIiIhIcRhQiIiISHEYUIiIyKw+//ys4RL38qO65l+iaiS327aRZWFAISIis7r//sHQ7Pm74R486+JfE1UjuS3Xy8rKRYUsBQMKERGZ3TSfKWKtc+PHeYk1shQMKEREZHZPPTXOMJLSmSfc3TBkyEOiRZaCAYWIiBRh6tPeYu1y4zh6YpEYUIiISBEmTBgv1i6xsroFY72eFC2yJAwoRESkCI6/fhhjx3qKltG4sV647957RYssCQMKEREpxsSnLh9F4eiJ5WJAISIixRg9aoRYMxo54lGxRpaGAYWIiBTDzs4WDz3kYFiXl3KbLBMDChERKcojzk6XLckyMaAQEZGiuAwbetmSLNNNrRKxTtdZ1v5s3GNjI1rKkfBaImr+9bFhXZ41H/mHRYZ1pfj2u2/h9pgat912m6hQm7cy9+HeQYNESxkaGv8PL0XHiBYQFDQHHo+7iZYyNP/3v3By/DUGDbpHVKjNP97MhJ3tfaKlDGc+/Qxxr8Qj+qUoPPg/D4iqsrT88ANs77sXDg72okLXGwPKDdLU1AT/5wNhZaXCiEeHi6oyXPjPf9Dc3GxYt7KywoA77zSsK8Hp2lp88cWXWLNqBR53e0xUqc206f645RYruA4fJirmJ++oGxsbRQu4w9oat956q2iZn/xhd/asFosX/R5TpkwSVWrz7IwA9Lv5Fxj2yCP4xS+UM6h+XupTdw8cKFrK8rlWi0+lfhX020DM+s1MUaXrjQHlBtLW1+Nvf9uDL778EqtWLsdddw0QW6gzMX+Oxb///W/DxZqe85suqtTexYtf46/JKYYP3D8sDsf9g+3EFurMuvWvoaq6xnCF0udmPCuq1F5LSws2b/0r6urOIGzB73hJ+Z/wl83bUFj4Hp6dPg3Pz5whqnQjMKCYQFr6mzhRXonZs57H0EecRZXa6PV6bEzchP9+/1/D4SYlfftWqqx9B5BfUAi/Z30xxsNdVKm9xKRNaGhoxIu/D8U999wtqtSVg4eOGA4hTnvGB1O8OdLUmW3bk3H6k1rMnx+CIQ7GM43oxun3Z4lYpxtk6NBH8N///hfr4l+Fs7Mj7r1XWXMIzEmn0xlGTmxsBmLJHyNw8803iy10NfJ8ipv73YzXNiRh8ODB+J8H7hdbSH6vrVrzMm655RYs/9NSzmX6meRTem+++RbsTP0bBgwYgIc4t+IyL7+y3nDofsXyZbhbgXML+yKOoJjQu4XvYdOWbUjakMBvdMKKlWtgb/8/CA76X1Gha1FeUYk/Lf+z1KfW/3jtCEv38tr1hnlVYaHzRIWuhTyBfsnSaLy8ZiWG8Swagw2Jf8EPP/yAPy4OFxUyBZ5mbEJPjnkC06Y+jRTpGwoZzx7o168fw0kPuA53wfx5IVKf2iUqlu2fOW/jP/+5yHDSA/KZfeG/D0XyTu6nZO/kv4va2jqGEzNgQDGxWQHPo6LiJD77/KyoWK63svZhTmCAaFF3yaH3/PnzqK6uERXLlZm1H4GzfyNa1F0TnhoHeXD9+PEyUbFc8nyv2bPYp8yBAcUMPJ54HMeOfyhalunUR1WwGTiQx7mvkyfcH0ephfcp+XRieRieF/e6PuT9VOmx46Jlmc43NOCLL8/hcTe1qJApMaCYwa9+9SvUVP9LtCxTtfT//1d33SVa1FPyKew1NcaL71mqqqoaw3uLrg95ouy/Pj4tWpap6qNq6YsU+5S5MKCYgXzGipXKSrQs0x13WON269tFi3rqnrvvhtUtt4iWZRpw5x24nWfsXDfyVXct/ay6AVLw79+/v2iRqTGgEBERkeIwoBAREZHiMKAQERGR4pg2oOhqkJ0Uj7i9uShIi0fYkhSUNIhtplSWiGGu6iseCTyjru9o0aEqZwvi1qYjOz8dcQujsL300g3tTKmhNAUR08cb+5nXTERsKIK2RWyk3kNBfcpA2p9mrJxp6FdhmWb8PeiaNBRrpD6UIvWhXGxfEoG4zDroxTaTa2lEyaZgjJL3TRsqRbEdM/cxkwUU/el0RMzYAv1zUYgO8IbnTGmpLkTIC1tQbuL/Og3aOumnPzbn56G43eNFZd10mLqrqQ57l/njdb0voqWlj5c/opeqkf9CKJIqjHdxNpnP0rFI6uPvPhCK9IN5eHvtOJxPi0BwUqX5dkp07ZTUpyT6Gg1CpgYi5qAWKlEjhZPCQEFCIELfd0XksmCpD3ljXuxsYF0gFh8wQ8A8dxQxAdMQoun8+klK6GOmCSj1WVg8Jx7NYSvgZytqEruHXYG6FByqEAVT+V7+ocKdA6xh3e6h6mfYSr1ZSz0ylgUirikUq6e362wPOGEE6rD9YLkomEbD6To0Dx2H6Eh/OA+yhp17KMJnANq0QlSL55DCKaxPyZo/PYPvnlmDfbui4CZqpGTNKE8KRdgRNZaHuVz6wFc5wHlkMwoyC6EVJZO5UIdP7EKRvH8jOrtcphL6mAkCig7ZG2JRMCAULz4zUNQEQ1AAarVmGp5saYbugg46nem/AdGNoTu4ETH5NggP88Vlt/Nq+c64rKuHKY8q2oyPQvqeePg9IArSjkovD50MUMGyTzTvPZTWp2TWk5Zjd6Q3HKxFgZTtlAZRqXWYEB4M18uGI6Sdgbw/KD1j8j4Ex2Ds3hAIN5vO7x6vhD524wNKTTqSDgJ2z3nAucMIhfYz49CSg12H4GISWVgw3gPuXuPhPkZaLsnlvIBerwZ7k44Ctr54suPFRM/Vo0pe2tte/iFjKoYwXI/ytHgkpFnBc6EvnMUmUjIF9ynqJXQ4vGsLtPDG1DEdPu1btKgtlZbqB9mHOnHDA0rth3mGoauJwx2NhR/pcOJ9+b+MNx51Mla6oyEzwjj5sJNHV5N6zjfKc1BsMGNtHk6Wl6J4RyDuPrgCUW/WG59AvVNdBQ7J/wmfcrniw19XXoQSaekzvAedrYvJ1YZHZxPM2jutwXNevpgdl4WLU6MQOd4coZyumZL7FPUO+gqU5EhL9Wg4dxyNqK7EIWlh5+4EO2OlGyqR0Fn/MTwSYfoDkNfPDQ8oui/lURIPOPw4xC2cy0O2PLISNBNP9mAIyWb6RkPI6OyxeXrnHwLOARoUF2oQ6W78h63V/ghSA+WFFaYfZqPr54LxG63nEAdj+0eNOHRA/hYciFlePehsIxZ12s8Mj8Uu4kldcAzG2/Lz8jUIuhCLafPTTX/Mma6dkvsU9Q4XGozv9aEOV4SQ8oPJ0jYPzJ/a8Qv8tXBBZGf9x/BYBFfxrN7ohgcU63s7e+GbUb4nBQX2gYifLyYM1eciYVMuCnbFIqlYzAmRT3GKC0bIXnnEo3PdGUHR1Vfjo5Na6ERbPgiob5IW/VWcEd+bDbDt9LCJvkyDbYX2CHo59Mfjvw3FKQibFI8CcSqN9mA8wqSw7O4eiO1dnZXRjW+7+vpKlBRXQtt2ys4AR0yd6AFUSN++z4kaKdfP7VP1RxG3MBjTvDzgv739GVrNKIjzQFzh9etT1MsMsOl8dORcFralSuF3VRT8BomarC4ds2elo1Y0ZfrCeIyKK2rXr9rjCEq3OXj4SgmuFFW1l96g+rItWJGvxsbNUroz3OagUQoiGthM9obnrMloXrDR+MHRzx52/StxUX5KF7ozgoKP0xGyIBBLk6UPDnleQHIiEk5ZIWCqB3rwXYjMzd4DfsOBkuraS2/kpkq8vqoIbus3InKEmJba0iwFZ6lvtAUE3VG8ecYXG1LTsD/aFknbcjofSevGt13VV6WIWRCM0A25qD2ng7YsHUmpRcBwD7i13ymRMv2sPqXD4bfq4Lc+BfveXAG7TcnIFn1L3tfFpV1lEj5HUPo+lRoTAqR+8mH1pVFT+cywuET8JzwFG9qfGSZ/FibEXx4q9FJ/i0vvIpzIOILSfQ/4I3FHCLTrIpCUU4RsOQyUP4GUN5djQtt/F301qgqd4CC3+9nBQZ2Havkmmv2t0Pn84p6xnrQUyQs9cPZvwZjs5YsF+60wf8c+RI/heRW9my0CNmzG/Pr1CJNH43JSkLChHE9uS8PqSe12Av2soGp//y/rcQif52gYPbOxs4PK1ub6BdWhwUhJCsTgvDWYNmk8JkekQ6tejvTN/j045kym83P6lDUmLAyGs9ynbOwwuL8tbOQO1FKHjCPARN6p38JZwS1cg9VOOYhamY6CvHQkrM+CamEWdocY9ztt9IVpODvEV7SMarPygKcssxPd+IAisRnpj996Ac33quETsgjRQWrYiDN6tIWl0BqO0UnhwFCT/nOpGnH+q6t86+ipfgPhNi8e+/KNKbM4Mx7z1Jy02CfYqBEwx0PqbHZwmxKMyOjASyMV9UUo+Uysd6GqtBwBT6uv66E+O69F2HywyPiNJj8NydG+V06WI+W6lj51qhRlM6fATQoruiNHgRnT4HA9O1NHg3yxWepXXY4WkzL0t4ffHF/c3WSFh7z8EbksFD6OYifQVIOCCp0UaGuQUT4cc8e22zlcOIrDmAa/ITfyy7MYgelqxM6MfezGB5SWemSvDkFIajkOvBKBpalFqL1g3NSQn4htDXawu+wYnV7644i77xJNomugzYnF7Bc0OJGzDmHRGhTUiZlG54qQsKMBg682bFGfhUPWK/Bi26EgIsnP7lPysP071lgjz6trKsXez9Xws79DbCRLpqtIweznY3H4g92IiExERlk99PJlLXQ12JuQhzuHWEO7Pw+qZ9tPM2hGyZt1cJtqD0vtRTc8oOg+0+HRP6UZzl5Y/fRANPxzDfy91HCfHoWM/oHGKzOqnOA85hhqP5f+gnxe+KnhcLLnhwRdI10dLrpGYd+HeUiP9oZNYy5iZo033v8mywpB0b6w6+pqwU2VSD1gg1kz7aUPl3poL82gJkv2s/tUM8p35cLmeX849G+G9qPz+O67QmzblIzDtcBHOcnIrrmBo8KkXPpGnLf2x+7CIry9cTbcUIrUCF+MGuON2UnVcIsMhWt/HRqk7nH2rS1I+kc58FUR9qbmQvudHvk7t2BbXh1QnYttB2quMhel77mpVSLWzateeuPvAXyG1KDEJhDhYwYa/sMeftkbsQM34+2F6j5zKfpDh/NQUXkSf1wcLiqWx9yvgb5Cg8A5FQjYHws/Gy32LgtE0mf2GCzPI+inRuS2RYZh+t6iuLjE8JrGrHhJVCyP+V6DZtTujYL/1no42ElfrL63gtuSrYhUy1+yGpGx0BtVAUW9bo6b/P7U7P5/iF8bKyqWxyyvgXxm13pb7NsjhV1Rks9WHXvKH8ejPSzqTFPlBJReKvC3IXjG52lMnjQBAwbcKapXZ7YP56Y6ZKcdA9S2OP96Lu6OWQOfdnNHTYkhrWvd6VNm+3CW74a6JwtaJ2nHeWQdtJO3Yp6ZDpExpHWtO33KbAFFQX2KIe3azQ1ZAPXokZgyZRLsH3xQVLvHJJNk+7ITJyqwJm4tJk15Bmti1+L9kg/EFoVpqkTCrDW46OUPn6FSKvmyCCUf8ziGEvWaPiXPuVjsj8P2gfCTQq/q2zM4dJKXn1Mi9ikypc1b/4pnfP2x6A9RyMk9iO+/Fzfeu0Y/ewQl72i+WKP2wiMixdolrq4umPjUeHh4uOPhIQ+J6iXmGD2oSp4J/y8XKWaIUH4NDmTnwHfaVFGhNlftU088jocfHiKql5hj9EB3cAXGpg5HeruhaHOSX4M9f0/Hs77PiAq16U6fMsfogdL6lPwavP6XrQj4jb+o0E95/S9b8PHpT0TL6P77B2PShKcwbpwnXIYNRb9+P2++xs8OKO5jxkOn4zfuazV4sB2GPuIMF5dheHS4i2GncPjIUdMGlJZKJIwJRm10LjZP7XCqWIsOVfsTsXRlFgavkrab6FQy+cN0xcrV+Prrb0SFfq777rsXjzg7GfqV3J9cpX5VVlZu4oBinFsR90gKji/scHqifFXVpVtQIu8u7Kdh3dpAOJsgFcsB5ZV1CaitOyMq9HN11qf+9fFpEweUq/Qpg2aUb/DH7NPBeGdThztL3yDyfjp6+Z9Rd+ZTUaGeuuuuuzBsqLP0eOTHvmZt3fl1F3iI5wY7e1aLtw8eRsKrGw3Hgd3HjMO27cliq4k01KK2qYu7RlekIDgXcO54p1ZSrC+++BJH8t5BkvRNJeR3YRjt9iReiX8VX39jyrBXj9pCwM2u4yQmHQ4nReHEpHXYl7kOAecSkZrPLzZK11mfWvnnWDQ1yfcAMZWu+pRwIQ87U3lD197uq6++wruF72HLth1YELbIMPgxe04wKk+eEs+4hAHlBpNHUOSJaZF/jIDmjWQUFx7F/HkhYquJiOvMnD8vPiiaKrE3p864PmIRireGwo3Xnek15G+7T40fi/DfhyL5r5txrORdvBT1R9x+223iGaZwO+ykUPtJo7gpgHy9o7RSKZ5YY8LaUqTPsZdqhqsa4Y7+lnTeQe/UWZ9a9efl6N/flKeyddWnjKrStuC89G2bejd5BOXJMU8gdP4L2Lo5UfpMzMPuXSmGQz8d/exDPNr6L8QatTd5yjSxdonbY2qM9XoSjz/+mGLmoGgPrEDEP1TwmW6LixdcMGvOpav5tg2tHp5o2kM87xWX4IWQIFGhNlftU25qxcxB0ZelIOyVCrg+5yF9u7XG1EBvOLT7PNNmRmDamx5IT/WHgwkuESC/Bvuz/4mFYQtEhdp0p0+ZYw5Kl33qwlEsnZIDzxg7LD3woEkP8STvfANRkX8QFfopS5ZGo6Li8htdOjo+LPU1T0MwuSFzUKhz8h0jZc5OjhgvfQOR3/Dy+tWYI6BcnXkCirJeA+XoTp8yR0C5Gn1ZIvzD6hD05kb4mehUdqW9BkrSnT5ljoDSFW1aMIIvLMXb6lwM22HagMLTjK+NfJpx6bHjuPfeQYZROTmYuEtf1rvDog7x6GqyEDNdvgV1BDI63Opevt3+7Eke0jYPjA1PRMHPPNQ5JzAAqcnbkP53jWHI6qfe9EQ/pbf3qbZwErAr3mThhK6ud/epRlRVN+OOd9bAf1UW8OEWhK4+2vkdx8nsBg26BxteXYfc7Ey8tDSy2+FEZiEBpRlVu8IwaWYsss9decEffYXU4Zdk4c65KXjnYArmIw1hYVtQ/jOuKbx0yR8wevRI0SLqud7dpxqRvUODWqt6ZMQEw39WIGIONoptZC69u08NxIQYDdL3SI+VvsDIUGyJGWeSERS6dmtfXo2JE8bj5ptvFpXus5CAoof29HeYsTYN6Us73ra6GSf+Ke1QbUPwYoAjbAY5ImBhCOzqNDjwoaXcO2Mg/Dbxjqh0PRj7knzXZsMHivRYPYn9iq6TEYtw0kSHd8j8TBNQ5EsX70pBRmkNstcGY3uZqT/4rTFhVQoip3R2V0gtaiuk3+cpFziLCoa4YKIcXM7wCoZERETmcOMDiuIvXfw1tPLp1/1uNTZlYr3qy68NSyIiIjKtGx5QdEe2IK4hFAGGO3nKIxl5xmskdJd8p0dXeaJrJ48Nl5/aRERERL3TDQ4ojTiUlQt4OF2/+yrIxyDLSzt/LO7ORXyMFwdCy3fGpkysO997u2FJREREpnWDA8pVLl1cn4uETbko2BWLpGIxJ0VXg4y4YITsFVc57cx1H0Gxg8NwK+BIJapaRKm6EodghUcflK+/SkRERKZ2gwNKV5cubpSCiAY2k73hOWsymhdsRIF8Sm8/e9j1r8RF47M7d91HUKQg8nQgHOqTEZtaiYZzldi+Phla+0BMHXnlKclERER0493ggGIPvyWhGPz2FiSlpSMpuQLOU9Ww1lejqtAJDvLASj87OKjzUH1aWu9vhXZTVU1GNTwUW9b7An8LxthJwdjZ4ouNm0PhyluIEBERmcUNnySrGhGM5LSNCJ/pj/B5bfdVaIAWVlI4MTxD+tOI81+Z5tRjm+kbcbJ8I/wGiYJgNykKu/ONIzHFu6IwgVfAJCIiMpsbHlA6Je6ua6SX/jjibt5Nl4iIiATzBBSVE5zHHEPt59J6ixa1p4bDyZ7zPYiIiMjIPAFFvhx2dDBqM3NRsv89WK0Pgad86EffiPMXgPPnG6BvO6OGiIiILI6ZAorE1hurI73hNn0RwseIe3WoBmLCqlK8E66GyjA/hYiIiCyR+QIKERERURcYUIiIiEhxGFCIiIhIcRhQiIiISHEYUIiIiEhxGFCIiIhIcRhQiIiISHEYUIiIiEhxGFCIiIhIcRhQiIiISHEYUIiIiEhxGFCIiIhIcW5qlYh1MpFDh/OwNv5VDB5sJyqm98MPPxiWv/iFeTLqV19dgHrUSKxYvkxUqCeKi0uwOnYt7hl0t6iYTsv3Lfj3v/8tWsCAAQPwy/6/FC3TuXhRB5ehj2D1qhWiQj1RUXkSy2NW4667BoiKaV38z0XccecdomUe33zzDYY89BDWvrxaVMiUGFDM5Ny5Szt0cyj5oNSwdHtMbViay6BB94g16ilz9akvpX939py5ogVELVmMyRMniJbpsU9dP+bcT7246I94PfFV0TIv9inzYECxUH/ZtNWw/P3CBYYlUXdp67/A5CnTRAuIXbMS06dNFS2ia/f111/jcY9xeL/oKG6//XZRJUvDOSgWqryi0vAgIlKayspTly3JMjGgWCC9Xo8T5ZWGh7xORKQklSdFQBFLskwMKBZI/lby7bffGh78hkJESsOAQjIGFAvU/k3PHQARKYl8hqF8BpFMXradcUiWhwHFAjGgEJFSyaO6jY3/Z1iXlxzltVwMKBamsbHRcM2MNu8WFqG+/gvRIiIyr8N5R8WaUf67hWKNLA0DioU5+k4BdF9/LVrAt99+h7cPHhYtIiLz+e9/v79if/SOtM8iy8SAYmHkgNLR24cYUIjI/HJy375iRPdfH5/Ge8XvixZZEgYUC/Lpp58hv+DK4dKTJz9C8fsfiBYRkXnkvn1IrF0u72i+WCNLwoBiQa72Jv9nzttijYjI9D75pBYF7xaJ1uXkkd/vv/9etMhSMKBYkLx3ug4ouW8fNNxsjYjIHP6Zc1CsXUm+JxBHUSwPA4qFOHWqCjf3uxnq0aNgbW0tqjCsy7VhQ4fin7kcRSEi8/iw7IRhX+Tk+GtRMZLbcp0BxfLwZoEWaG7IApQeO25Yl9/4O5ONNw4k6g7eLJCuJ3nfJO+j2sj7J3k/RZaHIyhERESkOAwoREREpDgMKERERKQ4DChERESkOAwoREREpDgMKERERKQ4DChERESkOAwoREREpDgMKERERKQ4DChECtJQrEHc2hRk5+di+5IIxGXWQS+2mVxLI0o2BWOUqxrDNlSKIvUq50qRGheP7QeKkJ0chbC4LNQ2iW2m1FSH7A1RmOYl9SWpP7lPj0JCjhn7NvUKDChESiCFgYKEQIS+74rIZcHw8fLGvNjZwLpALD7QKJ5kQueOIiZgGkI0NaJAvU1DYSL8X3wPIxZHYd5UD/iExOK3/eLhvywXDeI5pqHD4dWBWJrWjKDUIpwsL8U/5jRj77JAxBzkDUqpawwoRGbXjPKkUIQdUWN5mAtUogqVA5xHNqMgsxBaUTKZC3X4xC4Uyfs3IkCUqPfQlyUieGEe3F4KhWt/UYQVHnJSQ5+/DwX1omQSZ3AipxmYGQI/eytDxW5GiNSvmpF96oyhTdQZBhQiczulQVRqHSaEB8P1x3Qi0xv+oPSMib/xShyDsXtDINxsbhUF6jVaavDGnzSonRSK+SOMgaCNvkUKCihF7Tlj2zQc8WSA9HsczMFh+d+VfgdtXg4OwRZBYx2NTyHqBAMKkVnpcHjXFmjhjaljrEVNaNGitlRaqh+EjbFC9JN0RzRIqgd8JnqgQ4/C2TpDh4LDIGPbNKzgtmQfkp+rR+wkNYaN9MDkxdWYuDUFkR0CFFF7DChE5qSvQEmOtFSPhnPHT5PqSulbJmDn7gQ7Y6UbKpEgT3Lt9JGIcvEs6iuaUVaaKy3VcBvWMfDWoPyItLSV+pqtsXTtGpGxsLO+JD8ikNHFyIx2/xqE7WiA5yoN3snPQvI8YO8fFmF7hTyiQ9Q5BhQic7rQYJxfMtThihBSfjBZ2uaB+VMdgaYapC4Jhv8kD7gvEZMc648ibmU8YoLGw397ZRdnRLggsrzUMDHxysciuIpnUV+hQ4NhfokjHuoYQipysU3a5jnfF85SkKnaFYuYOPnMmihktw8WdemYPSsdtaJ5uYHw29RZX5IfG+HX2ciMvgipK4vgELYGq6c7wmaALdwWrkCkfQ2S9hRJvzFR5xhQiMxpgE3noyPnsrAtVfowWRVl2OlXpWXh7qUpSM/ZioCTK5Ba1ozyDy8iYGkUVr+8CHfszMGJThMKR1AsizVsOh0daUTGDg3gtRzRzwyUwm0RTtiHYnV0vNQ+ij35bbNmpeclxF+lX3RjBEWnM4bwmw2tyzXpeaoxdYkBhcicVGpMkCcQflh96UydlnpkxCXiP+Ep2DDd+GnjHBQFH3kiSj9bDHZwgd0AK7hO9YVDf2n//3ENVGH+ePSyCbZtOIJiWazgNt4fKilifPSZKEm0mWuw/ptQaNb6wq6fVLAdh4AxUlBpqUPVZ/6YP97Yz/SFaTg7xNew3rlujKDYqOHjZYWqpERk1BkP6WjfTETCKSv4TPXg/CrqEgMKkVlJHyjhGqx2ykHUynQU5KUjYX0WVAuzsDvE8dIpx20ulKKkny88HzA2GyqysG1vLgo2p3cxgkKWRuUegfRVTjgQHYu9+UexNyEeb6pCcTA5GM4/nnIs0dehIDkF2aXp2JZXb5ijklE+HHPHdpwM1VMD4bNWg3UzrZAa5GEYbXlulxUCpNrqSdf736K+hAGFyNz628Nvji/ubrLCQ17+iFwWCh9HseNuqkFBRdtR+maUvFkHnxjxLVhiM9wXkVuzsG5MOg5/eCMmHIoRmMUuok3KZwWHZwIx496LUD08DgGRUQif4ghrQ59pRlVhpXHeh8oenvPWIH1HKBr2F+H4/jyonr3yzJ/rQurjPovjsS/fONpSnBmPyCn2VwZwonYYUIjMTFeRgtnPx+LwB7sREZmIjLJ66FvkDTXSt9883DnE+JGhPaBBrVcIPG2AhvrGdsfurWEzyAV3/0o0ybLpKrE9xB8xB48hVQonCZmV0MqdpUWHqr3xOHSbFFaMzzS6ayAeeuA2NEv59uxbW5D0j3LgqyLsTS0y/fV3iNphQCEyJ30jzlv7Y3dhEd7eOBtuKEVqhC9GjfHG7KRquEUarwTaUBiP0Lg0ZMQEw3/WTMQW69GQE4uwDbkoL81Fw+Ox+K0jrylBzWg4dzsCkotwPCcRQWqgJHURJj/mgbEhW1CljkK4fO0RvRRiXliBvcWVOFyuwvzFT8N9ZijCF0qP51yl0OKBgCDODyHzuqlVItbJQswNWYDSY8cN6+rRo7Azeathnag7tPVfYPKUaaIFxK5ZienTpooW0bWR903yPqqNvH+S91NkeTiCQkRERIrDgEJERESKw4BCREREisOAQkRERIrDgEJERESKw4BCREREisOAQkRERIrDgEJERESKw4BCREREisOAQkRERIrDgEJE3bI2/lXDrfPbX+ZetnzFKkN9VuBcUSEiunYMKETULV6eT4q1zo31uvp2IqKrYUAhom5xf/wxPPSQg2hdydNzjFgjIrp2DChE1G1djZLId591cvy1aBERXTsGFCLqNs8nPcTa5bw4ekJEPcSAQkTdNmrkCDzyiLNoXcLDO0TUUwwoRNQjXh1GUTw83OFg/6BoERF1DwMKEfXImDFPiDUjefIsEVFPMaAQUY+4DneBre19ogU84uwk1oiIuo8BhYh6bMSjroblrbfeapiXQkTUUwwoRNRjbaFEHj3p16+fYZ2IqCcYUIiox9SjRxqWrq4uhiURUU/d1CoR62Qh5oYsQOmx44Z1+YJaO5O3GtZJ+ZJT3sADD9wvWsqybv1reGbq04qcg9LU9C0ed1Nj0KB7RIWUSt43yfuoNvL+Sd5PkeVhQLFADCi9k16vR0DgXPzipl9ArR6Jm2++WWxRhosXL8La2ho33XSTqCjDR1XVqK//AgvmvQDfaT6iSkrFgEJtGFAsEANK77Zl619RXfMvLJj/ApydHEWVOvPK2gSc+fRTzPCbjkkTnxJVUjIGFGrDOShEvUzogt/h6SmTodn9//BuYZGoUnvNzc14bcPr+KH1B/wl6TWGE6JeiAGFqBeaPGkCnp3+DF7ftBWHj+SJKsm+/vprLI9ZDdWtKkS/FIVbbrlFbCGi3oQBhaiXGj1qJNb8OQaJSZsN8yzIaP2riYY7KS8MnScqRNQbMaAQ9WKOjg/j9wsXIPUNjahYtsx9B/DDDz8geO7/igoR9VYMKES9nHy4Rz6scfLkKVGxXPukgDI74HnRIqLejAGFFK2hWIO4tSnIzs/F9iURiMusg15sM7mWRpRsCsYoVzWGbagURWV4/PHHcPzDE6JlmWpr63DzzbfAyenXokJEvRkDCimTFAYKEgIR+r4rIpcFw8fLG/NiZwPrArH4QKN4kgmdO4qYgGkI0dSIgrLcqrrV4uehlFdUwvr220SLiHo7BhRSoGaUJ4Ui7Igay8NcoBJVqBzgPLIZBZmF0IqSyVyowyd2oUjevxEBoqQk9w+2w239+4uWZbp30CDceeedokVEvR0DCinPKQ2iUuswITwYrj+mE5ne8AelZ9BgLJiOYzB2bwiEm82tokBERDcSAwopjA6Hd22BFt6YOsZa1IQWLWpLpaX6QdgYK0RE1EcxoJCy6CtQkiMt1aPh3CGfoLoSh6SFnbsT7IyVbqhEgjzJtdNHIsrFs4iIyLwYUEhZLjQY55cMdbgihJQfTJa2eWD+1J7cf8YFkeWlONnpYxFcxbOIiMi8GFBIWQbYdD46ci4L21IBz1VR8BsktZtqkLoyFnGLZ8J9Se6Pc1IailMQNikeBV2ei8wRFCKi3oABhZRFpcaEACvgw+pLZ+q01CMjLhH/CU/Bhum2hpL2/Qo4vLgc0QlLMONgGg59Jj+vGdb3DpTCjOEpXeAIChFRb8CAQgpjBbdwDVY75SBqZToK8tKRsD4LqoVZ2B3i+OMpx3bj/eEpz5Stq0HtzBBMlIdd+llBZdln2hIR9RkMKKQ8/e3hN8cXdzdZ4SEvf0QuC4WPo5gx21SDggqdYVVfV4TtO3NRkpaMQya7MIoYgVnsItpERHQjMKCQ4ugqUjD7+Vgc/mA3IiITkVFWD32LvKEGexPycOcQY1hR2XtgXpwGmoWNOPB+vaFGRER9AwMKKYu+Eeet/bG7sAhvb5wNN5QiNcIXo8Z4Y3ZSNdwiQ+Ha4TDOHQPtMdim4znJRETUmzGgkLKoBsLBXgob/axgN8IXkRs02JdfipPFudgd7QsHEU70FSkIiU5HSdlRnOgfgiVexoCiP6fDeTSg4VyzoU1ERL0TAwr1SqrhwUiO84fbiHHwmeICm35t9UCkl8fD7wErY4GIiHolBhQiIiJSnJtaJWKdLMTckAUoPXbcsK4ePUp6jDSsU+/1+VktfvjhB6x7ZY2oWJ7i4hJsT94J9Sj2595u89a/ijVgZ/JWw36KLA8DigVqH1Co7xjr9ST+kvSaaFkeOaD8acUqnD9/XlSoL2BAsVw8xNPRuVKkxsVj+4EiZCdHISwuC7VNYpspNdUhe0MUpnkZL8PuPj0KCTl16PIK7kRERH0IA0o7DYWJ8H/xPYxYHIV5Uz3gExKL3/aLh/+yS/d6MQ0dDq8OxNK0ZgSlFhkuw/6POc3YuywQMQeNFykjIiLqy3iIR9CXSeEkKA+eqemIHHHpDJCGzAiMXdmM1Tmb4We8DYwJyDe0C0ZqUEq7K5Z2ViMykg9vHDqch5gVL4mKibQ0omRPFrROHlAdWQft5K2Y1+79Y0pmew2I6IbgCIqspQZv/EmD2kmhmN9h56pvka+nUYraq96A7npzxJPyDfMO5uCw/O9Kv4M2LweHYIugsY7GpxCZm3wTx8X+OGwfCD+1LVTfnsGhkya75wAR9XEMKBLdEQ2S6gGfiR7oeD3Ss3Wl0k81HORb/JuMFdyW7EPyc/WInaTGsJEemLy4GhO3plw2ukNkTrojWxDXEIqAMXKftMaEVXlIn2Nv3EhE1EMMKGhGWWmutFTDbViHeNJSg/Ij0tJ2NJy7fXinERkLjRNdr3xEIKOLkRnt/jUI29EAz1UavJOfheR5wN4/LML2Cl4hlZSgEYeypPeNhxMcRKWN/pQGYZO8MW36TExbrEGVOSaZE1Gvx4ACHRoM95lzxEMdQ0hFLrZJ2zzn+8JZaurLUpCQVoTspFhk1EmFphqkroxF3OKZcF/S1UTagfDbVGqY6HrlYyP8OhuZ0RdJ/7tFcAhbg9XTHWEzwBZuC1cg0r4GSXuKpN+YyNzqUVsIuNl1fNPU4I3IRNhE78O+TA0i70hExN4asY2I6OdjQIE1bDodHWlExg4N4LUc0c8MBFoq8XpYPR6Tz+55zgXZ0ekofr8CDi9K2xOWYMbBNBz6TPzVy3RjBEWng+FI/s2G1uWa9DzVmBTgdtgNBT5pFLG8pR7ZaaVSeHbEvJxSrPaykmo66JoAG2veyJGIrh0DijzfY7w/VCjHR+0ChjZzDdZ/EwrNWl/Yyfd5+awaJfYPYrBKWh9kC+dTpfi/kf7wtJHadTWonRmCiXby3+yoGyMoNmr4SDv4qqREZNQZD+lo30xEwikr+EgBSf4niczLHn5LQjH47S1ISktHUnIFnKeqf5zD1XAwFv5TpmGbdTziZ5js9Dci6kMYUCQq9wikr3LCgehY7M0/ir0J8XhTFYqDycFwbru1/4V6VEkxBnJY6Xer9KMeF78C9HVF2L4zFyVpyTh03U5gGAiftRqsm2mF1CAPw2jLc7usECDVVk/it1FSBtWIYCSnbUT4TH+Ez/P+8U7TMptJy5G+X4OAc1FYz2v3EFE3MKAYWMHhmUDMuPciVA+PQ0BkFMKnOMLacIfcZlQVVkI3wNYwD8Wg5Tvphy3uuEvaSdt7YF6cBpqFjTjwvmEyy/XR3x4+i+OxL9842lKcGY/IKfZyRCJSroajiJsVZZyjpbKDnQ1QVX8d3xdEZDEYUGS6SmwP8UfMwWNIlcJJQmYltPJEjxYdqvbG49BtUlh5wAludTU4K5+RcK4eVcPVcG43mHHHQHsMtuHoBlk4Gyngz1Lhzfne8J8ZjG3fR2FjAK/dQ0TXjleSRTMaTmuhsreH1blKZP99F/bmH0NVnR42I3wRvjwCfkOM1x6Rz+KJO+mICRePQTs5FH5NGoT93RrznrNBw5c2cJvkAhvDqAuRafEqqnwNiPoaBhQihVm3/jU8NW4sRo8eKSo/jR/OfA2I+hoe4iFSmF2avQgKmQ//5wOxZdsOVFXzOiJEZHn61AiKtv4LsUbUe02eMk2sXeL2mBpjvZ7E425qPPzwEFG9hKMHfA2I+po+FVAy9x3A8hWrRIuob7rvvnvxiLMThj7iDFdXF7gOd0FZWTkDCgMKUZ/CQzxEvcwXX3yJI3nvIOkvWxDyuzCMdnsSr8S/iq+/+UY8g4io92NAIeqFnJ0cMes3M7HulTXIzc7ES1F/xO233Sa2EhH1fn3uEA9Rb9fZYcpf/vKXGDfWE48//hhGuA6Hvf2DYosRD2/wNSDqa3iaMZHCyLc2aPPkkx6GYCJPkL3n7rtF9Ur8cOZrQNTX8BAPkcIMH+6CxREvYn9mOrb8ZSNmPud31XBCRNQXMaAoRjNqM+Mx20tt+AbtPmcF9p4y3snYoKUeh+OCMdZd2u7ujbANRdC2iG3Up+zZlYKQuf97xWEcIiJLwoCiEPrijfBfmYU7F2jwzkENwu/KQ9wL8ThsuBFsM8q3RiDiwB2YvyMX7+wIAdIiELq1EvItg4iIiPoaBhSFqD1dDYehIZg/0xE2gxwRMHcm0JSFE6eljfpyHNDUwe6FUAQMHQibof548QVb1GpycIIJhYiI+iAGlDZNdchOTUf2qSKkLliBbBPfId55TgrS9wTDVdxsUPelVvrpCLsB0qL+DE40AROHX7orrPPw8dLvXIFa3smeiIj6IAYUWVMlEmatwUUvf/gMtQW+LELJx4ZjK+Yh/T7bth0Fxvhjor3UvlCPKrl+s/xDMKzXQHvB0CIiIupTGFAkVXvXIFUdAj85DMAeQZl5WO1lbdh27RqRsdA40fXKRwQyzomndaWlHhnLFiD1nAdWR/vCRpSJiIgsCQNKSyWyd9TB09UJKlHqmYHw21SKk+WdPTbCb5B4WqeaUZ4UgZh8OwRtjoefrSgPsIWzvPze0DIyrItDQERERH0MA0pDLWqbAAe7gaJwib4sBQlpRchOikVGnVRoqkHqyljELZ4J9yW5aDA+rYPujqBI4WRDIGanAgGbtiByhJWoS2wfxKP9gUNll267X1WWB/QfDoe2EENERNSHMKAMsIGdtDh/Xsw5aarE3hwpjbRU4vWwejw21QM+z7kgOzodxe9XwOHF5YhOWIIZB9Nw6DPjX7lcd0ZQmlGbFoXg1IvwXLYC84dZQXdBZ3jo5WudqFwxNdAe2p3rsL2sEQ1ScIrdWQ+HwCl49PoM+xARESkKA4rKA0Fx3qjdk4jUzBQkpX2HiZPsgc+qUWL/IAbLAWCQLZxPleL/RvrDU54UUleD2pkhmCgnm+tChxP5RdCjEQVrgzHWazzcxeP1Cnm7FVwXbMTGqcDOIG+MDdIAU+OxZYHLdTosRUREpCy8F09XyhIxbL0t9u3xhwMqkeC6DnaZGvihCG/s2IJtB6wQuT8FAQ+I5xOZEe9Dw9eAqK/hCEpX2iamylq+k37Y4o67AJW9B+bFaaBZ2IgD7/MiJERERDcCA0pXHnCCW10NzjZJ6+fqUTVcDed2Zx7fMdAeg226eyoyERERXQ0DSlf6ueDFzbY4/GYRCt46gwkrfWF3KgUh0ekoKTuKE/1DsKTb10ohIiKiq+EcFKI+gPMv+BoQ9TUMKER9gPzhHLd2PW5VWe55Xd980wRPTw+8tDRSVIioN2NAIeojvvnmG7Fm2W677TaxRkS9GQMKERERKQzw/wHvtCxX+6WtrwAAAABJRU5ErkJggg==)"
   ]
  },
  {
   "cell_type": "markdown",
   "id": "c14c3a64",
   "metadata": {},
   "source": [
    "Considere 5 reatores acoplados conforme a figura acima, trabalhando em estado estacionário.\n",
    "No estado estacionário sabemos que $\\sum entradas = \\sum saídas$.\n",
    "\n",
    "Em cada reator temos uma vazão de volume entrando e saindo ($Q$) no qual encontra-se dissolvido uma substância com concentração $c$.\n",
    "A massa de substância que entra ou sai é dado pelo produto $Q\\cdot c$.\n",
    "\n",
    "O valor $Q_{ij}$ representa a vazão em $m^3/min$ entre os reatores $i$ e $j$ e a concentração $c$ é dada em $mg/m^3$.\n",
    "Por exemplo, a taxa de massa que entra no reator $1$ é igual à $Q_{01}c_{01} + Q_{31}c_{3}$.\n",
    "\n",
    "Da mesma forma, a taxa de massa que sai do reator $1$ é igual à $Q_{15}c_{1} + Q_{12}c_{1}$.\n",
    "\n",
    "Assim, aplicando o conceito de balanço de massa, temos que:\n",
    "\n",
    "$Q_{01}c_{01} + Q_{31}c_{3} = Q_{15}c_{1} + Q_{12}c_{1}$.\n",
    "\n",
    "Modele o problema acima como um sistema linear e descubra os valores das concentrações $c_i$ em cada reator."
   ]
  },
  {
   "cell_type": "code",
   "execution_count": null,
   "id": "80c0e1ad",
   "metadata": {},
   "outputs": [],
   "source": []
  },
  {
   "cell_type": "markdown",
   "id": "4a6fda0a",
   "metadata": {},
   "source": [
    "# Exercício 8\n",
    "\n",
    "Calcule o número de condicionamento da matriz:\n",
    "\n",
    "\\begin{bmatrix}\n",
    "3 & -5 & 7 \\\\\n",
    "1 & -2 & 4 \\\\\n",
    "-8 & 1 & -7 \n",
    "\\end{bmatrix}"
   ]
  },
  {
   "cell_type": "code",
   "execution_count": null,
   "id": "21787276",
   "metadata": {},
   "outputs": [],
   "source": []
  },
  {
   "cell_type": "markdown",
   "id": "e43d1b84",
   "metadata": {},
   "source": [
    "# Exercício 9\n",
    "\n",
    "Encontre a solução para os sistemas abaixo:\n",
    "\n",
    "$\n",
    "\\left{\n",
    "\\begin{aligned}\n",
    "100.000x - 9.999,99y = -100 \\\\\n",
    "-9.999,99x + 1.000,1y = 10\n",
    "\\end{aligned}\n",
    "\\right.\n",
    "$\n",
    "\n",
    "e\n",
    "\n",
    "$\n",
    "\\left{\n",
    "\\begin{aligned}\n",
    "100.000x - 9.999,99y = -99,9 \\\\\n",
    "-9.999,99x + 1.000,1y = 10,1\n",
    "\\end{aligned}\n",
    "\\right.\n",
    "$\n",
    "\n",
    "A variação no vetor $b$ produziu uma diferença grande ou pequena na solução?"
   ]
  },
  {
   "cell_type": "code",
   "execution_count": null,
   "id": "ab09c580",
   "metadata": {},
   "outputs": [],
   "source": []
  },
  {
   "cell_type": "markdown",
   "id": "751347f0",
   "metadata": {},
   "source": [
    "# Exercício 10\n",
    "\n",
    "Qual a vantagem de utilizar a decomposição LU em comparação com a eliminação de Gauss?"
   ]
  },
  {
   "cell_type": "code",
   "execution_count": null,
   "id": "f525812e",
   "metadata": {},
   "outputs": [],
   "source": []
  }
 ],
 "metadata": {
  "kernelspec": {
   "display_name": "Python 3 (ipykernel)",
   "language": "python",
   "name": "python3"
  },
  "language_info": {
   "codemirror_mode": {
    "name": "ipython",
    "version": 3
   },
   "file_extension": ".py",
   "mimetype": "text/x-python",
   "name": "python",
   "nbconvert_exporter": "python",
   "pygments_lexer": "ipython3",
   "version": "3.10.4"
  },
  "latex_envs": {
   "LaTeX_envs_menu_present": true,
   "autoclose": true,
   "autocomplete": false,
   "bibliofile": "biblio.bib",
   "cite_by": "apalike",
   "current_citInitial": 1,
   "eqLabelWithNumbers": true,
   "eqNumInitial": 1,
   "hotkeys": {
    "equation": "Ctrl-E",
    "itemize": "Ctrl-I"
   },
   "labels_anchors": false,
   "latex_user_defs": false,
   "report_style_numbering": false,
   "user_envs_cfg": false
  }
 },
 "nbformat": 4,
 "nbformat_minor": 5
}
