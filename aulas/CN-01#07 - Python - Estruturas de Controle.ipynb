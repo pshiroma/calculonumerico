{
 "cells": [
  {
   "cell_type": "markdown",
   "id": "91f05541",
   "metadata": {
    "slideshow": {
     "slide_type": "skip"
    }
   },
   "source": [
    "**CN-01: Python - Estruturas de controle**"
   ]
  },
  {
   "cell_type": "markdown",
   "id": "b3c06174",
   "metadata": {
    "slideshow": {
     "slide_type": "slide"
    }
   },
   "source": [
    "# Estruturas de controle"
   ]
  },
  {
   "cell_type": "markdown",
   "id": "c03f8062",
   "metadata": {
    "slideshow": {
     "slide_type": "subslide"
    }
   },
   "source": [
    "As estruturas de controle permitem modificar a ordem de execução dos comandos\n",
    "\n",
    "Elas podem ser de 2 tipos:\n",
    "\n",
    "* Estruturas condicionais\n",
    "* Estruturas de laço\n",
    "\n",
    "Diferente de outras linguagens, no Python o **escopo** é definido pela indentação do código"
   ]
  },
  {
   "cell_type": "markdown",
   "id": "a74e681b",
   "metadata": {
    "slideshow": {
     "slide_type": "fragment"
    }
   },
   "source": [
    "# Estrutura IF"
   ]
  },
  {
   "cell_type": "markdown",
   "id": "e6620dd2",
   "metadata": {
    "slideshow": {
     "slide_type": "fragment"
    }
   },
   "source": [
    "A estrutura if possui a seguinte sintaxe:\n",
    "\n",
    "```python\n",
    "if condicao:\n",
    "    comandos dentro do IF\n",
    "```"
   ]
  },
  {
   "cell_type": "code",
   "execution_count": 8,
   "id": "9bdfe9a4",
   "metadata": {
    "slideshow": {
     "slide_type": "fragment"
    }
   },
   "outputs": [
    {
     "name": "stdout",
     "output_type": "stream",
     "text": [
      "5 é menor que 7\n"
     ]
    }
   ],
   "source": [
    "# Exemplo de if\n",
    "if 5 < 7:\n",
    "    print('5 é menor que 7')"
   ]
  },
  {
   "cell_type": "code",
   "execution_count": 10,
   "id": "efe770e0",
   "metadata": {
    "slideshow": {
     "slide_type": "fragment"
    }
   },
   "outputs": [
    {
     "name": "stdout",
     "output_type": "stream",
     "text": [
      "Entre com a temperatura: 40\n",
      "Atenção! Você está com febre\n",
      "Procure um médico\n",
      "Obrigado!\n"
     ]
    }
   ],
   "source": [
    "# Exemplo com vários comandos\n",
    "temperatura = float(input('Entre com a temperatura: '))\n",
    "if temperatura > 37.8:\n",
    "    print('Atenção! Você está com febre')\n",
    "    print('Procure um médico')\n",
    "print('Obrigado!')    "
   ]
  },
  {
   "cell_type": "code",
   "execution_count": 11,
   "id": "e3ef155a",
   "metadata": {
    "slideshow": {
     "slide_type": "fragment"
    }
   },
   "outputs": [
    {
     "name": "stdout",
     "output_type": "stream",
     "text": [
      "a é maior que b\n"
     ]
    }
   ],
   "source": [
    "# quando temos apenas 1 comando, é possível colocá-lo na mesma linha\n",
    "a = 6\n",
    "b = 3\n",
    "\n",
    "if a > b: print(\"a é maior que b\")"
   ]
  },
  {
   "cell_type": "markdown",
   "id": "3e6f29eb",
   "metadata": {
    "slideshow": {
     "slide_type": "fragment"
    }
   },
   "source": [
    "## Estrutura IF-ELSE"
   ]
  },
  {
   "cell_type": "markdown",
   "id": "b4880240",
   "metadata": {
    "slideshow": {
     "slide_type": "fragment"
    }
   },
   "source": [
    "A estrutura if-else possui a seguinte sintaxe:\n",
    "\n",
    "```python\n",
    "if condicao:\n",
    "    comandos dentro do IF\n",
    "else:\n",
    "    comandos dentro do ELSE\n",
    "```"
   ]
  },
  {
   "cell_type": "code",
   "execution_count": 13,
   "id": "22ab9a5f",
   "metadata": {
    "slideshow": {
     "slide_type": "fragment"
    }
   },
   "outputs": [
    {
     "name": "stdout",
     "output_type": "stream",
     "text": [
      "Você está de recuperação\n"
     ]
    }
   ],
   "source": [
    "# Exemplo\n",
    "nota = 47\n",
    "if nota >= 60:\n",
    "    print('Você passou')\n",
    "    print('Parabens!')\n",
    "else:\n",
    "    print('Você está de recuperação')"
   ]
  },
  {
   "cell_type": "markdown",
   "id": "50cf908d",
   "metadata": {
    "slideshow": {
     "slide_type": "fragment"
    }
   },
   "source": [
    "## Estrutura IF-ELSEIF"
   ]
  },
  {
   "cell_type": "markdown",
   "id": "9e376f72",
   "metadata": {
    "slideshow": {
     "slide_type": "fragment"
    }
   },
   "source": [
    "A estrutura if-else-if possui a seguinte sintaxe:\n",
    "\n",
    "```python\n",
    "if condicao1:\n",
    "    comandos dentro do IF\n",
    "elif condicao2:\n",
    "    comandos dentro do ELSE-IF\n",
    "```"
   ]
  },
  {
   "cell_type": "code",
   "execution_count": 9,
   "id": "9371c9fc",
   "metadata": {
    "slideshow": {
     "slide_type": "fragment"
    }
   },
   "outputs": [
    {
     "name": "stdout",
     "output_type": "stream",
     "text": [
      "x é maior que y\n"
     ]
    }
   ],
   "source": [
    "# Exemplo de elseif\n",
    "x = 10\n",
    "y = 3\n",
    "if x > y:\n",
    "    print('x é maior que y')\n",
    "elif x == y:\n",
    "    print('x é igual a y')\n",
    "else:\n",
    "    print('x é menor a y')    "
   ]
  },
  {
   "cell_type": "markdown",
   "id": "dc1f530d",
   "metadata": {
    "slideshow": {
     "slide_type": "fragment"
    }
   },
   "source": [
    "## Estrutura IF aninhado"
   ]
  },
  {
   "cell_type": "code",
   "execution_count": 15,
   "id": "0e1da961",
   "metadata": {
    "slideshow": {
     "slide_type": "fragment"
    }
   },
   "outputs": [
    {
     "name": "stdout",
     "output_type": "stream",
     "text": [
      "x é maior que 10\n"
     ]
    }
   ],
   "source": [
    "# Podemos colocar um IF dentro de outro IF:\n",
    "x = 12\n",
    "if x > 10:\n",
    "    print('x é maior que 10')\n",
    "    if x > 20:\n",
    "        print('x também é maior que 20')"
   ]
  },
  {
   "cell_type": "markdown",
   "id": "48edc5b7",
   "metadata": {
    "slideshow": {
     "slide_type": "fragment"
    }
   },
   "source": [
    "# Exercício 1\n",
    "\n",
    "Crie um código que peça para o usuário entrar com um número e em seguida verifique se o número é par ou ímpar"
   ]
  },
  {
   "cell_type": "code",
   "execution_count": null,
   "id": "8ca190a2",
   "metadata": {
    "slideshow": {
     "slide_type": "-"
    }
   },
   "outputs": [],
   "source": []
  },
  {
   "cell_type": "markdown",
   "id": "244d8dc2",
   "metadata": {
    "slideshow": {
     "slide_type": "fragment"
    }
   },
   "source": [
    "# Exercício 2\n",
    "\n",
    "O preço normal vendido em um posto de gasolina é de R\\$ 7,60.\n",
    "O posto fez uma promoção onde, se o consumidor encher com mais de 20 litros, os litros adicionais serão cobrados com um desconto de 20\\%.\n",
    "\n",
    "Crie um código em que leia a quantidade de combustível abastecida e calcule o preço a ser pago."
   ]
  },
  {
   "cell_type": "code",
   "execution_count": null,
   "id": "6df572e9",
   "metadata": {
    "slideshow": {
     "slide_type": "-"
    }
   },
   "outputs": [],
   "source": []
  },
  {
   "cell_type": "markdown",
   "id": "eebcc975",
   "metadata": {
    "slideshow": {
     "slide_type": "fragment"
    }
   },
   "source": [
    "# Exercício 3\n",
    "\n",
    "O índice de massa corporal (IMC) é um parâmetro utilizado para avaliar se o peso está dentro do valor ideal para a altura e pode ajudar a identificar problemas de obesidade ou desnutrição.\n",
    "\n",
    "O IMC é calculado dividindo o peso (em kg) pela altura ao quadrado (em m), de acordo com a seguinte fórmula: \n",
    "\n",
    "$IMC = \\dfrac{peso}{altura^2}$\n",
    "\n",
    "A tabela abaixo pode ser utilizada para classificar o nível de obesidade de uma pessoa:\n",
    "\n",
    "| IMC\t| CLASSIFICAÇÃO\t| \n",
    "| --- | --- | \n",
    "MENOR QUE 18,5\t| MAGREZA \n",
    "ENTRE 18,5 E 24,9\t| NORMAL\t\n",
    "ENTRE 25,0 E 29,9\t| SOBREPESO\t\n",
    "ENTRE 30,0 E 39,9\t| OBESIDADE\t\n",
    "MAIOR QUE 40,0\t| OBESIDADE GRAVE\t\n",
    "\n",
    "Escreva um código que leia o peso e a altura de uma pessoa e classifique seu nível de obesidade."
   ]
  },
  {
   "cell_type": "code",
   "execution_count": null,
   "id": "4eef77a8",
   "metadata": {
    "slideshow": {
     "slide_type": "-"
    }
   },
   "outputs": [],
   "source": []
  },
  {
   "cell_type": "markdown",
   "id": "10d9385d-0b36-4a1c-ad3b-7245d2c27dbd",
   "metadata": {},
   "source": [
    "# Exercício 4\n",
    "\n",
    "Considere uma equação de 2º grau, definido como $ax^2 +bx + c = 0$.\n",
    "Crie um código que leia os valores $a$, $b$ e $c$ e determine as raízes reais da equação.\n",
    "\n",
    "Diferencie os casos onde haja 2 raízes distintas, 1 única raiz e nenhuma raiz real."
   ]
  },
  {
   "cell_type": "code",
   "execution_count": null,
   "id": "2b4fdadf-0d73-4e3c-a134-923a65540063",
   "metadata": {},
   "outputs": [],
   "source": []
  },
  {
   "cell_type": "markdown",
   "id": "dbe7f03d",
   "metadata": {
    "slideshow": {
     "slide_type": "slide"
    }
   },
   "source": [
    "# Estrutura FOR"
   ]
  },
  {
   "cell_type": "markdown",
   "id": "bb9fd2db",
   "metadata": {
    "slideshow": {
     "slide_type": "subslide"
    }
   },
   "source": [
    "A estrutura `for` é utilizada para percorrer uma sequência do tipo lista, tupla, dicionário e possui a seguinte sintaxe:\n",
    "\n",
    "```python\n",
    "for variavel in sequencia\n",
    "    comandos-do-laço\n",
    "```"
   ]
  },
  {
   "cell_type": "code",
   "execution_count": 8,
   "id": "55b1f5a2",
   "metadata": {
    "slideshow": {
     "slide_type": "fragment"
    }
   },
   "outputs": [
    {
     "name": "stdout",
     "output_type": "stream",
     "text": [
      "3\n",
      "0\n",
      "1\n",
      "2\n"
     ]
    }
   ],
   "source": [
    "# Exemplo de laço for usando lista\n",
    "frutas = [\"maça\", \"banana\", \"uva\"]\n",
    "\n",
    "#for f in frutas:\n",
    "#    print(f)\n",
    "\n",
    "#print(frutas[2])\n",
    "n = len(frutas)\n",
    "print(n)\n",
    "for i in range(n):\n",
    "    print(i)\n",
    "    #print(frutas[i])"
   ]
  },
  {
   "cell_type": "code",
   "execution_count": 27,
   "id": "63326b0a",
   "metadata": {
    "slideshow": {
     "slide_type": "fragment"
    }
   },
   "outputs": [
    {
     "name": "stdout",
     "output_type": "stream",
     "text": [
      "maça\n",
      "banana\n"
     ]
    }
   ],
   "source": [
    "# Podemos interromper o laço for usando o comando break\n",
    "frutas = [\"maça\", \"banana\", \"uva\", \"melancia\"]\n",
    "for f in frutas:\n",
    "    print(f)\n",
    "    if f == \"banana\":\n",
    "        break "
   ]
  },
  {
   "cell_type": "code",
   "execution_count": 13,
   "id": "bc85ad75",
   "metadata": {
    "slideshow": {
     "slide_type": "fragment"
    }
   },
   "outputs": [
    {
     "name": "stdout",
     "output_type": "stream",
     "text": [
      "maça\n",
      "melancia\n",
      "melancia\n"
     ]
    }
   ],
   "source": [
    "# Podemos pular uma iteração do laço usando o comando continue\n",
    "frutas = [\"maça\", \"banana\", \"uva\", \"melancia\"]\n",
    "for f in frutas:\n",
    "    if f == \"banana\" or f == \"uva\": continue\n",
    "    print(f)\n",
    "\n",
    "print(f)"
   ]
  },
  {
   "cell_type": "code",
   "execution_count": 4,
   "id": "6484a20f",
   "metadata": {
    "slideshow": {
     "slide_type": "fragment"
    }
   },
   "outputs": [
    {
     "name": "stdout",
     "output_type": "stream",
     "text": [
      "0\n",
      "1\n",
      "2\n",
      "3\n",
      "4\n",
      "5\n"
     ]
    }
   ],
   "source": [
    "# A função range cria uma sequencia de numeros variando de 0 até n-1\n",
    "# https://www.w3schools.com/python/ref_func_range.asp\n",
    "r = range(6)\n",
    "for i in r:\n",
    "    print(i)"
   ]
  },
  {
   "cell_type": "code",
   "execution_count": 5,
   "id": "80a8c357",
   "metadata": {
    "slideshow": {
     "slide_type": "fragment"
    }
   },
   "outputs": [
    {
     "name": "stdout",
     "output_type": "stream",
     "text": [
      "0\n",
      "1\n",
      "2\n",
      "3\n",
      "4\n",
      "5\n"
     ]
    }
   ],
   "source": [
    "for i in range(6):\n",
    "    print(i)"
   ]
  },
  {
   "cell_type": "code",
   "execution_count": 6,
   "id": "e4b1e787",
   "metadata": {
    "slideshow": {
     "slide_type": "fragment"
    }
   },
   "outputs": [
    {
     "name": "stdout",
     "output_type": "stream",
     "text": [
      "3\n",
      "4\n",
      "5\n",
      "6\n",
      "7\n"
     ]
    }
   ],
   "source": [
    "# o intervalo da funcao range pode conter um inicio e um fim:\n",
    "for i in range(3,8):\n",
    "    print(i)"
   ]
  },
  {
   "cell_type": "code",
   "execution_count": 7,
   "id": "5c8cfb35",
   "metadata": {
    "slideshow": {
     "slide_type": "fragment"
    }
   },
   "outputs": [
    {
     "name": "stdout",
     "output_type": "stream",
     "text": [
      "3\n",
      "5\n",
      "7\n",
      "9\n"
     ]
    }
   ],
   "source": [
    "# a funcao range aceita um incremento diferente de 1:\n",
    "for i in range(3,10,2):\n",
    "    print(i)"
   ]
  },
  {
   "cell_type": "code",
   "execution_count": 8,
   "id": "27aac0c3",
   "metadata": {
    "slideshow": {
     "slide_type": "fragment"
    }
   },
   "outputs": [
    {
     "name": "stdout",
     "output_type": "stream",
     "text": [
      "20\n",
      "18\n",
      "16\n",
      "14\n",
      "12\n",
      "10\n",
      "8\n",
      "6\n",
      "4\n"
     ]
    }
   ],
   "source": [
    "# a funcao range aceita incremento negativo:\n",
    "for i in range(20,2,-2):\n",
    "    print(i)"
   ]
  },
  {
   "cell_type": "code",
   "execution_count": 10,
   "id": "c58f9368",
   "metadata": {
    "slideshow": {
     "slide_type": "fragment"
    }
   },
   "outputs": [
    {
     "ename": "TypeError",
     "evalue": "'float' object cannot be interpreted as an integer",
     "output_type": "error",
     "traceback": [
      "\u001b[1;31m---------------------------------------------------------------------------\u001b[0m",
      "\u001b[1;31mTypeError\u001b[0m                                 Traceback (most recent call last)",
      "Input \u001b[1;32mIn [10]\u001b[0m, in \u001b[0;36m<cell line: 2>\u001b[1;34m()\u001b[0m\n\u001b[0;32m      1\u001b[0m \u001b[38;5;66;03m# a funcao range NAO funciona com valores float:\u001b[39;00m\n\u001b[1;32m----> 2\u001b[0m \u001b[38;5;28;01mfor\u001b[39;00m i \u001b[38;5;129;01min\u001b[39;00m \u001b[38;5;28;43mrange\u001b[39;49m\u001b[43m(\u001b[49m\u001b[38;5;241;43m0\u001b[39;49m\u001b[43m,\u001b[49m\u001b[43m \u001b[49m\u001b[38;5;241;43m1\u001b[39;49m\u001b[43m,\u001b[49m\u001b[43m \u001b[49m\u001b[38;5;241;43m0.1\u001b[39;49m\u001b[43m)\u001b[49m:\n\u001b[0;32m      3\u001b[0m     \u001b[38;5;28mprint\u001b[39m(i)\n",
      "\u001b[1;31mTypeError\u001b[0m: 'float' object cannot be interpreted as an integer"
     ]
    }
   ],
   "source": [
    "# a funcao range NAO funciona com valores float:\n",
    "for i in range(0, 1, 0.1):\n",
    "    print(i)"
   ]
  },
  {
   "cell_type": "code",
   "execution_count": 12,
   "id": "a09b3ae7",
   "metadata": {},
   "outputs": [
    {
     "name": "stdout",
     "output_type": "stream",
     "text": [
      "9\n"
     ]
    }
   ],
   "source": [
    "x = 1\n",
    "for _ in range(10):\n",
    "    x = x + 1\n",
    "print(_)"
   ]
  },
  {
   "cell_type": "code",
   "execution_count": 33,
   "id": "fbf3f08b",
   "metadata": {
    "slideshow": {
     "slide_type": "fragment"
    }
   },
   "outputs": [
    {
     "name": "stdout",
     "output_type": "stream",
     "text": [
      "Tabuado do  1\n",
      "1  x  1  =  1\n",
      "1  x  2  =  2\n",
      "1  x  3  =  3\n",
      "1  x  4  =  4\n",
      "1  x  5  =  5\n",
      "1  x  6  =  6\n",
      "1  x  7  =  7\n",
      "1  x  8  =  8\n",
      "1  x  9  =  9\n",
      "1  x  10  =  10\n",
      "Tabuado do  2\n",
      "2  x  1  =  2\n",
      "2  x  2  =  4\n",
      "2  x  3  =  6\n",
      "2  x  4  =  8\n",
      "2  x  5  =  10\n",
      "2  x  6  =  12\n",
      "2  x  7  =  14\n",
      "2  x  8  =  16\n",
      "2  x  9  =  18\n",
      "2  x  10  =  20\n",
      "Tabuado do  3\n",
      "3  x  1  =  3\n",
      "3  x  2  =  6\n",
      "3  x  3  =  9\n",
      "3  x  4  =  12\n",
      "3  x  5  =  15\n",
      "3  x  6  =  18\n",
      "3  x  7  =  21\n",
      "3  x  8  =  24\n",
      "3  x  9  =  27\n",
      "3  x  10  =  30\n"
     ]
    }
   ],
   "source": [
    "# Laço for aninhado\n",
    "for i in range(1,4):\n",
    "    print('Tabuado do ', i)\n",
    "    for j in range(1,11):\n",
    "        print(i, ' x ', j, ' = ', i*j)"
   ]
  },
  {
   "cell_type": "markdown",
   "id": "3c5abcce",
   "metadata": {
    "slideshow": {
     "slide_type": "slide"
    }
   },
   "source": [
    "# Estrutura WHILE"
   ]
  },
  {
   "cell_type": "markdown",
   "id": "d450a79e",
   "metadata": {
    "slideshow": {
     "slide_type": "subslide"
    }
   },
   "source": [
    "A estrutura while possui a seguinte sintaxe:\n",
    "\n",
    "```python\n",
    "while condicao:\n",
    "    comandos-dentro-do-laço\n",
    "```\n",
    "\n"
   ]
  },
  {
   "cell_type": "code",
   "execution_count": 19,
   "id": "e9089d8a",
   "metadata": {
    "slideshow": {
     "slide_type": "fragment"
    }
   },
   "outputs": [
    {
     "name": "stdout",
     "output_type": "stream",
     "text": [
      "1\n",
      "2\n",
      "3\n",
      "4\n",
      "5\n"
     ]
    }
   ],
   "source": [
    "# Exemplo de laço while\n",
    "i = 1\n",
    "while i < 6:\n",
    "    print(i)\n",
    "    i += 1 # i = i + 1"
   ]
  },
  {
   "cell_type": "code",
   "execution_count": 33,
   "id": "f61c3ad3",
   "metadata": {
    "slideshow": {
     "slide_type": "fragment"
    }
   },
   "outputs": [
    {
     "name": "stdout",
     "output_type": "stream",
     "text": [
      "1\n",
      "2\n",
      "3\n",
      "4\n",
      "5\n",
      "6\n"
     ]
    }
   ],
   "source": [
    "# Interrompendo o laço while\n",
    "i = 1\n",
    "while True:\n",
    "    print(i)\n",
    "    i += 1\n",
    "    if i == 7: break"
   ]
  },
  {
   "cell_type": "code",
   "execution_count": 41,
   "id": "b4eeda7f",
   "metadata": {
    "slideshow": {
     "slide_type": "fragment"
    }
   },
   "outputs": [
    {
     "name": "stdout",
     "output_type": "stream",
     "text": [
      "40\n",
      "41\n",
      "42\n",
      "43\n",
      "44\n",
      "45\n",
      "46\n",
      "47\n",
      "48\n",
      "49\n",
      "50\n"
     ]
    }
   ],
   "source": [
    "# Pulando uma iteração do laço while\n",
    "i = 0\n",
    "while i < 50:\n",
    "    i += 1\n",
    "    if (i < 40): continue\n",
    "    print(i)"
   ]
  },
  {
   "cell_type": "markdown",
   "id": "bd68f41b",
   "metadata": {
    "slideshow": {
     "slide_type": "fragment"
    }
   },
   "source": [
    "# Exercício 5\n",
    "\n",
    "Crie um código que leia 5 números do usuário e armazene-os em uma lista.\n",
    "Imprima o conteúdo da lista ao final."
   ]
  },
  {
   "cell_type": "code",
   "execution_count": 22,
   "id": "5a898a79",
   "metadata": {},
   "outputs": [
    {
     "name": "stdout",
     "output_type": "stream",
     "text": [
      "Entre com um numero:12\n",
      "Entre com um numero:2\n",
      "Entre com um numero:4\n",
      "Entre com um numero:75\n",
      "Entre com um numero:23\n",
      "[12, 2, 4, 75, 23]\n"
     ]
    }
   ],
   "source": [
    "# Abordagem 1:\n",
    "lista = []\n",
    "for _ in range(5):\n",
    "    numero = int(input('Entre com um numero:'))\n",
    "    lista.append(numero)\n",
    "print(lista)"
   ]
  },
  {
   "cell_type": "code",
   "execution_count": 23,
   "id": "7501e227",
   "metadata": {
    "slideshow": {
     "slide_type": "-"
    }
   },
   "outputs": [
    {
     "name": "stdout",
     "output_type": "stream",
     "text": [
      "Entre com um numero:43\n",
      "Entre com um numero:32\n",
      "Entre com um numero:4\n",
      "Entre com um numero:5\n",
      "Entre com um numero:7\n",
      "[43, 32, 4, 5, 7]\n"
     ]
    }
   ],
   "source": [
    "# Abordagem 2:\n",
    "lista = 5*[None]\n",
    "for i in range(5):\n",
    "    numero = int(input('Entre com um numero:'))\n",
    "    lista[i] = numero\n",
    "print(lista)"
   ]
  },
  {
   "cell_type": "markdown",
   "id": "79989460",
   "metadata": {
    "slideshow": {
     "slide_type": "fragment"
    }
   },
   "source": [
    "# Exercício 6\n",
    "\n",
    "Crie um código que gere 10 números aleatórios entre 0 e 100, e salve-os em uma lista.\n",
    "Imprima a lista.\n",
    "\n",
    "https://www.w3schools.com/python/ref_random_randint.asp"
   ]
  },
  {
   "cell_type": "code",
   "execution_count": 1,
   "id": "5326a645",
   "metadata": {
    "slideshow": {
     "slide_type": "-"
    }
   },
   "outputs": [],
   "source": [
    "from random import randint\n"
   ]
  },
  {
   "cell_type": "markdown",
   "id": "de64ac2a",
   "metadata": {
    "slideshow": {
     "slide_type": "fragment"
    }
   },
   "source": [
    "# Exercício 7\n",
    "\n",
    "Crie um código que leia o vetor anterior e determine o maior e menor valor da lista."
   ]
  },
  {
   "cell_type": "code",
   "execution_count": null,
   "id": "a16983fd",
   "metadata": {
    "slideshow": {
     "slide_type": "-"
    }
   },
   "outputs": [],
   "source": []
  },
  {
   "cell_type": "markdown",
   "id": "5430215d",
   "metadata": {
    "slideshow": {
     "slide_type": "fragment"
    }
   },
   "source": [
    "# Exercício 8\n",
    "\n",
    "Crie um código que receba um número inteiro positivo e determine o fatorial deste número.\n",
    "\n",
    "Sabemos que:\n",
    "\n",
    "$n! = 1 \\cdot 2 \\cdot 3 \\cdot \\ldots \\cdot n$"
   ]
  },
  {
   "cell_type": "code",
   "execution_count": null,
   "id": "86d9b74c",
   "metadata": {
    "slideshow": {
     "slide_type": "-"
    }
   },
   "outputs": [],
   "source": []
  },
  {
   "cell_type": "markdown",
   "id": "24075b2d",
   "metadata": {
    "slideshow": {
     "slide_type": "fragment"
    }
   },
   "source": [
    "# Exercício 9\n",
    "\n",
    "Sabendo que a série de Taylor da função exponencial é dado por:\n",
    "\n",
    "$e^x = 1 +\\dfrac{1}{1}x + \\dfrac{1}{2}x^2 + \\dfrac{1}{3!}x^3 + \\ldots$\n",
    "\n",
    "crie um código que receba o valor de $x$ e um valor de $n$ e calcule a série de Taylor até o n-ésimo termo."
   ]
  },
  {
   "cell_type": "code",
   "execution_count": null,
   "id": "2ad93910",
   "metadata": {
    "slideshow": {
     "slide_type": "-"
    }
   },
   "outputs": [],
   "source": []
  }
 ],
 "metadata": {
  "celltoolbar": "Slideshow",
  "kernelspec": {
   "display_name": "Python 3 (ipykernel)",
   "language": "python",
   "name": "python3"
  },
  "language_info": {
   "codemirror_mode": {
    "name": "ipython",
    "version": 3
   },
   "file_extension": ".py",
   "mimetype": "text/x-python",
   "name": "python",
   "nbconvert_exporter": "python",
   "pygments_lexer": "ipython3",
   "version": "3.9.12"
  },
  "latex_envs": {
   "LaTeX_envs_menu_present": true,
   "autoclose": true,
   "autocomplete": true,
   "bibliofile": "biblio.bib",
   "cite_by": "apalike",
   "current_citInitial": 1,
   "eqLabelWithNumbers": true,
   "eqNumInitial": 1,
   "hotkeys": {
    "equation": "Ctrl-E",
    "itemize": "Ctrl-I"
   },
   "labels_anchors": false,
   "latex_user_defs": false,
   "report_style_numbering": false,
   "user_envs_cfg": false
  }
 },
 "nbformat": 4,
 "nbformat_minor": 5
}
