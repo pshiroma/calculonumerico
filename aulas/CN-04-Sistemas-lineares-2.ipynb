{
 "cells": [
  {
   "cell_type": "markdown",
   "id": "0ab2516a",
   "metadata": {},
   "source": [
    "# Decomposição LU"
   ]
  },
  {
   "cell_type": "markdown",
   "id": "cf594101",
   "metadata": {},
   "source": [
    "A idéia da decomposição LU é criar 2 matrizes auxiliares:\n",
    "\n",
    "$A = LU$\n",
    "\n",
    "Assim, a equação $Ax = b$ pode ser reescrita como:\n",
    "\n",
    "$LUx = b$\n",
    "\n",
    "Fazendo:\n",
    "\n",
    "$Ux = y$\n",
    "\n",
    "temos:\n",
    "\n",
    "$Ly = b$"
   ]
  },
  {
   "cell_type": "markdown",
   "id": "caca283b",
   "metadata": {},
   "source": [
    "Na decomposição LU, buscamos uma matriz $U$ que seja triangular superior:\n",
    "\n",
    "\\begin{bmatrix}\n",
    "u_{11} & u_{12} & \\ldots & u_{1n} \\\\\n",
    "0 & u_{22} & \\ldots & u_{2n} \\\\\n",
    "\\vdots \\\\\n",
    "0 & 0 & \\ldots & u_{1n} \\\\\n",
    "\\end{bmatrix}\n",
    "\n",
    "e uma matriz $L$ que seja triangular inferior, com 1 na diagonal principal:\n",
    "\n",
    "\\begin{bmatrix}\n",
    "1 & 0 & \\ldots & 0 \\\\\n",
    "l_{21} & 1 & \\ldots & 0 \\\\\n",
    "\\vdots \\\\\n",
    "l_{n1} & l_{n2} & \\ldots & 1 \\\\\n",
    "\\end{bmatrix}\n",
    "\n",
    "Em seguida, resolvemos o sistema $Ly = b$, achando o valor de $y$.\n",
    "\n",
    "Depois, resolvemos o sistema $Ux = y$ e achamos o valor de $x$."
   ]
  },
  {
   "cell_type": "markdown",
   "id": "cf7b680f",
   "metadata": {},
   "source": [
    "Qual a vantagem de utilizar a decomposição LU?\n",
    "\n",
    "* Computacionalmente mais eficiente (quando aplicado para vários vetores $b$, usando a mesma matriz $A$)\n",
    "* Cálculo da inversa de uma matriz"
   ]
  },
  {
   "cell_type": "markdown",
   "id": "0c13f9da",
   "metadata": {},
   "source": [
    "## Exemplo:\n",
    "\n",
    "Resolva o seguinte sistema de equações:\n",
    "\n",
    "\\begin{aligned}\n",
    "\\begin{bmatrix}\n",
    "1 & 1 & 1 \\\\\n",
    "2 & 1 & -1 \\\\\n",
    "2 & -1 & 1 \n",
    "\\end{bmatrix}\n",
    "\\begin{bmatrix} x_1 \\\\ x_2 \\\\ x_3 \\end{bmatrix} = \n",
    "\\begin{bmatrix} b_1 \\\\ b_2 \\\\ b_3 \\end{bmatrix}\n",
    "\\end{aligned}\n",
    "\n",
    "para:\n",
    "\n",
    "$ b = \\begin{bmatrix} -2 \\\\ 1 \\\\ 3 \\end{bmatrix}$\n",
    "\n",
    "e\n",
    "\n",
    "$ b = \\begin{bmatrix} 1 \\\\ 1 \\\\ 3 \\end{bmatrix}$"
   ]
  },
  {
   "cell_type": "code",
   "execution_count": 36,
   "id": "aa85b7a7",
   "metadata": {},
   "outputs": [
    {
     "name": "stdout",
     "output_type": "stream",
     "text": [
      "[ 1. -2. -1.]\n",
      "Verificando a resposta: [-2.  1.  3.]  =  [-2  1  3]\n",
      "[ 1.  -0.5  0.5]\n",
      "Verificando a resposta: [1. 1. 3.]  =  [1 1 3]\n"
     ]
    }
   ],
   "source": [
    "import numpy as np\n",
    "import scipy.linalg\n",
    "\n",
    "A = np.array([ [1, 1, 1], [2, 1, -1], [2, -1, 1] ])\n",
    "    \n",
    "LU, P = scipy.linalg.lu_factor(A)\n",
    "\n",
    "b = np.array( [-2, 1, 3] )\n",
    "x = scipy.linalg.lu_solve( (LU, P), b)\n",
    "print(x)\n",
    "print('Verificando a resposta:', A @ x, ' = ', b)\n",
    "\n",
    "b = np.array( [1, 1, 3] )\n",
    "x = scipy.linalg.lu_solve((LU, P), b)\n",
    "print(x)\n",
    "print('Verificando a resposta:', A @ x, ' = ', b)"
   ]
  },
  {
   "cell_type": "code",
   "execution_count": 37,
   "id": "29cdcdce",
   "metadata": {},
   "outputs": [
    {
     "name": "stdout",
     "output_type": "stream",
     "text": [
      "P: (vetor)\n",
      " [1 2 2]\n",
      "LU:\n",
      " [[ 2.    1.   -1.  ]\n",
      " [ 1.   -2.    2.  ]\n",
      " [ 0.5  -0.25  2.  ]]\n",
      "P:\n",
      " [[0. 0. 1.]\n",
      " [1. 0. 0.]\n",
      " [0. 1. 0.]]\n",
      "L:\n",
      " [[ 1.    0.    0.  ]\n",
      " [ 1.    1.    0.  ]\n",
      " [ 0.5  -0.25  1.  ]]\n",
      "U:\n",
      " [[ 2.  1. -1.]\n",
      " [ 0. -2.  2.]\n",
      " [ 0.  0.  2.]]\n"
     ]
    }
   ],
   "source": [
    "print('P: (vetor)\\n', P)\n",
    "print('LU:\\n', LU)\n",
    "P1,L,U = scipy.linalg.lu(A)\n",
    "print('P:\\n',P1)\n",
    "print('L:\\n', L)\n",
    "print('U:\\n', U)"
   ]
  },
  {
   "cell_type": "markdown",
   "id": "a308c8b3",
   "metadata": {},
   "source": [
    "O método de eliminação de Gauss pode ser adaptado para produzir a decomposição LU.\n",
    "Neste caso a matriz $U$ é a matriz obtida pela eliminação de Gauss (considerando apenas a matriz $A$) e a matriz $L$ é formada pelos fatores utilizados para subtrair as linhas, ou seja:\n",
    "\n",
    "$l_{ij} = a'_{ij}/a'_{jj}$"
   ]
  },
  {
   "cell_type": "code",
   "execution_count": 38,
   "id": "86f63224",
   "metadata": {},
   "outputs": [
    {
     "name": "stdout",
     "output_type": "stream",
     "text": [
      "[[1. 0. 0.]\n",
      " [2. 1. 0.]\n",
      " [2. 3. 1.]] \n",
      "\n",
      "[[ 1  1  1]\n",
      " [ 0 -1 -3]\n",
      " [ 0  0  8]] \n",
      "\n"
     ]
    }
   ],
   "source": [
    "import numpy as np\n",
    "import scipy.linalg \n",
    "\n",
    "def lu(A):\n",
    "    n = np.shape(A)[0]\n",
    "    L = np.identity(n)\n",
    "    U = A.copy()\n",
    "\n",
    "    for PIVO in range(n):\n",
    "        for LIN in range(PIVO+1, n):\n",
    "            C = U[LIN,PIVO]/U[PIVO,PIVO]\n",
    "            L[LIN,PIVO] = C\n",
    "            U[LIN,:] = U[LIN,:] - C*U[PIVO,:]\n",
    "    return L,U\n",
    "    \n",
    "# https://johnfoster.pge.utexas.edu/numerical-methods-book/LinearAlgebra_LU.html\n",
    "def forward_substitution(L, b):\n",
    "    #Get number of rows\n",
    "    n = L.shape[0]\n",
    "    \n",
    "    #Allocating space for the solution vector\n",
    "    y = np.zeros_like(b, dtype=np.double);\n",
    "    \n",
    "    #Here we perform the forward-substitution.  \n",
    "    #Initializing  with the first row.\n",
    "    y[0] = b[0] / L[0, 0]\n",
    "    \n",
    "    #Looping over rows in reverse (from the bottom  up),\n",
    "    #starting with the second to last row, because  the \n",
    "    #last row solve was completed in the last step.\n",
    "    for i in range(1, n):\n",
    "        y[i] = (b[i] - np.dot(L[i,:i], y[:i])) / L[i,i]\n",
    "        \n",
    "    return y\n",
    "\n",
    "def back_substitution(U, y):\n",
    "    #Number of rows\n",
    "    n = U.shape[0]\n",
    "    \n",
    "    #Allocating space for the solution vector\n",
    "    x = np.zeros_like(y, dtype=np.double);\n",
    "\n",
    "    #Here we perform the back-substitution.  \n",
    "    #Initializing with the last row.\n",
    "    x[-1] = y[-1] / U[-1, -1]\n",
    "    \n",
    "    #Looping over rows in reverse (from the bottom up), \n",
    "    #starting with the second to last row, because the \n",
    "    #last row solve was completed in the last step.\n",
    "    for i in range(n-2, -1, -1):\n",
    "        x[i] = (y[i] - np.dot(U[i,i:], x[i:])) / U[i,i]\n",
    "        \n",
    "    return x\n",
    "\n",
    "A = np.array([[1,1,1], [2,1,-1], [2,-1,1]])\n",
    "#A = np.array([[3, 2, 4], [1, 1, 2], [4, 3, -2]])\n",
    "\n",
    "#P,L,U = scipy.linalg.lu(A)\n",
    "#print('LU de A:\\n')\n",
    "L,U = lu(A)\n",
    "\n",
    "#print(P, '\\n')\n",
    "print(L, '\\n')\n",
    "print(U, '\\n')\n",
    "#print(P @ L @ U)\n"
   ]
  },
  {
   "cell_type": "code",
   "execution_count": 40,
   "id": "ac91ed42",
   "metadata": {},
   "outputs": [
    {
     "name": "stdout",
     "output_type": "stream",
     "text": [
      "[-2.  1.  3.]\n"
     ]
    }
   ],
   "source": [
    "b = np.array([-2,1,3])\n",
    "#b = np.array([1,1,3])\n",
    "\n",
    "#y = forward_substitution(L, P.T @  b)\n",
    "y = forward_substitution(L, b)\n",
    "x = back_substitution(U, y)\n",
    "\n",
    "print(A @ x)\n",
    "#print(np.linalg.solve(A, b))"
   ]
  }
 ],
 "metadata": {
  "kernelspec": {
   "display_name": "Python 3 (ipykernel)",
   "language": "python",
   "name": "python3"
  },
  "language_info": {
   "codemirror_mode": {
    "name": "ipython",
    "version": 3
   },
   "file_extension": ".py",
   "mimetype": "text/x-python",
   "name": "python",
   "nbconvert_exporter": "python",
   "pygments_lexer": "ipython3",
   "version": "3.10.4"
  },
  "latex_envs": {
   "LaTeX_envs_menu_present": true,
   "autoclose": true,
   "autocomplete": false,
   "bibliofile": "biblio.bib",
   "cite_by": "apalike",
   "current_citInitial": 1,
   "eqLabelWithNumbers": true,
   "eqNumInitial": 1,
   "hotkeys": {
    "equation": "Ctrl-E",
    "itemize": "Ctrl-I"
   },
   "labels_anchors": false,
   "latex_user_defs": false,
   "report_style_numbering": false,
   "user_envs_cfg": false
  }
 },
 "nbformat": 4,
 "nbformat_minor": 5
}
