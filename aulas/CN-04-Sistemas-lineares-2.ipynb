{
 "cells": [
  {
   "cell_type": "markdown",
   "id": "0ab2516a",
   "metadata": {},
   "source": [
    "# Decomposição LU"
   ]
  },
  {
   "cell_type": "markdown",
   "id": "cf594101",
   "metadata": {},
   "source": [
    "A idéia é criar 2 matrizes auxiliares:\n",
    "\n",
    "$A = LU$\n",
    "\n",
    "Assim, substituindo na equação $Ax = b$:\n",
    "\n",
    "$LUx = b$\n",
    "\n",
    "Fazendo:\n",
    "\n",
    "$Ux = y$\n",
    "\n",
    "temos:\n",
    "\n",
    "$Ly = b$"
   ]
  },
  {
   "cell_type": "markdown",
   "id": "caca283b",
   "metadata": {},
   "source": [
    "Para resolver o sistema, primeiro o sistema $Ly = b$ achando o valor de $y$.\n",
    "\n",
    "Depois, resolvemos o sistema $Ux = y$ e achamos $x$."
   ]
  },
  {
   "cell_type": "markdown",
   "id": "cf7b680f",
   "metadata": {},
   "source": [
    "Qual a vantagem de utilizar a decomposição LU?\n",
    "\n",
    "* Computacionalmente mais eficiente (quando aplicado para vários vetores $b$, usando a mesma matriz $A$)\n",
    "* Cálculo da inversa de uma matriz"
   ]
  },
  {
   "cell_type": "markdown",
   "id": "0c13f9da",
   "metadata": {},
   "source": [
    "## Exemplo:\n",
    "\n",
    "Resolva o seguinte sistema de equações:\n",
    "\n",
    "\\begin{aligned}\n",
    "\\begin{bmatrix}\n",
    "1 & 1 & 1 \\\\\n",
    "2 & 1 & -1 \\\\\n",
    "2 & -1 & 1 \n",
    "\\end{bmatrix}\n",
    "\\begin{bmatrix} x_1 \\\\ x_2 \\\\ x_3 \\end{bmatrix} = \n",
    "\\begin{bmatrix} b_1 \\\\ b_2 \\\\ b_3 \\end{bmatrix}\n",
    "\\end{aligned}\n",
    "\n",
    "para:\n",
    "\n",
    "$ b = \\begin{bmatrix} -2 \\\\ 1 \\\\ 3 \\end{bmatrix}$\n",
    "\n",
    "e\n",
    "\n",
    "$ b = \\begin{bmatrix} 1 \\\\ 1 \\\\ 3 \\end{bmatrix}$"
   ]
  },
  {
   "cell_type": "code",
   "execution_count": 75,
   "id": "86f63224",
   "metadata": {},
   "outputs": [
    {
     "name": "stdout",
     "output_type": "stream",
     "text": [
      "LU de A:\n",
      "\n",
      "[[0. 0. 1.]\n",
      " [1. 0. 0.]\n",
      " [0. 1. 0.]] \n",
      "\n",
      "[[1. 0. 0.]\n",
      " [2. 1. 0.]\n",
      " [2. 3. 1.]] \n",
      "\n",
      "[[ 1  1  1]\n",
      " [ 0 -1 -3]\n",
      " [ 0  0  8]] \n",
      "\n",
      "[[ 2. -1.  1.]\n",
      " [ 1.  1.  1.]\n",
      " [ 2.  1. -1.]]\n"
     ]
    }
   ],
   "source": [
    "import numpy as np\n",
    "import scipy.linalg \n",
    "\n",
    "def lu(A):\n",
    "    n = np.shape(A)[0]\n",
    "    L = np.identity(n)\n",
    "\n",
    "    for PIVO in range(n):\n",
    "        for LIN in range(PIVO+1, n):\n",
    "            C = A[LIN,PIVO]/A[PIVO,PIVO]\n",
    "            L[LIN,PIVO] = C\n",
    "            A[LIN,:] = A[LIN,:] - C*A[PIVO,:]\n",
    "    return L,A\n",
    "    \n",
    "# https://johnfoster.pge.utexas.edu/numerical-methods-book/LinearAlgebra_LU.html\n",
    "def forward_substitution(L, b):\n",
    "    #Get number of rows\n",
    "    n = L.shape[0]\n",
    "    \n",
    "    #Allocating space for the solution vector\n",
    "    y = np.zeros_like(b, dtype=np.double);\n",
    "    \n",
    "    #Here we perform the forward-substitution.  \n",
    "    #Initializing  with the first row.\n",
    "    y[0] = b[0] / L[0, 0]\n",
    "    \n",
    "    #Looping over rows in reverse (from the bottom  up),\n",
    "    #starting with the second to last row, because  the \n",
    "    #last row solve was completed in the last step.\n",
    "    for i in range(1, n):\n",
    "        y[i] = (b[i] - np.dot(L[i,:i], y[:i])) / L[i,i]\n",
    "        \n",
    "    return y\n",
    "\n",
    "def back_substitution(U, y):\n",
    "    #Number of rows\n",
    "    n = U.shape[0]\n",
    "    \n",
    "    #Allocating space for the solution vector\n",
    "    x = np.zeros_like(y, dtype=np.double);\n",
    "\n",
    "    #Here we perform the back-substitution.  \n",
    "    #Initializing with the last row.\n",
    "    x[-1] = y[-1] / U[-1, -1]\n",
    "    \n",
    "    #Looping over rows in reverse (from the bottom up), \n",
    "    #starting with the second to last row, because the \n",
    "    #last row solve was completed in the last step.\n",
    "    for i in range(n-2, -1, -1):\n",
    "        x[i] = (y[i] - np.dot(U[i,i:], x[i:])) / U[i,i]\n",
    "        \n",
    "    return x\n",
    "\n",
    "A = np.array([[1,1,1], [2,1,-1], [2,-1,1]])\n",
    "#A = np.array([[3, 2, 4], [1, 1, 2], [4, 3, -2]])\n",
    "\n",
    "P,L,U = scipy.linalg.lu(A)\n",
    "\n",
    "print('LU de A:\\n')\n",
    "L,U = lu(A)\n",
    "\n",
    "\n",
    "print(P, '\\n')\n",
    "print(L, '\\n')\n",
    "print(U, '\\n')\n",
    "print(P @ L @ U)"
   ]
  },
  {
   "cell_type": "code",
   "execution_count": 77,
   "id": "ac91ed42",
   "metadata": {},
   "outputs": [
    {
     "name": "stdout",
     "output_type": "stream",
     "text": [
      "[[ 1  1  1]\n",
      " [ 0 -1 -3]\n",
      " [ 0  0  8]]\n",
      "[-0.25  -2.125  0.375]\n"
     ]
    }
   ],
   "source": [
    "b = np.array([-2,1,3])\n",
    "#b = np.array([1,1,3])\n",
    "\n",
    "y = forward_substitution(L, P.T @  b)\n",
    "y = forward_substitution(L, b)\n",
    "x = back_substitution(U, y)\n",
    "\n",
    "print(A)\n",
    "print(np.linalg.solve(A,b))"
   ]
  },
  {
   "cell_type": "code",
   "execution_count": 57,
   "id": "035d5e6f",
   "metadata": {},
   "outputs": [
    {
     "name": "stdout",
     "output_type": "stream",
     "text": [
      "[ 1. -2. -1.]\n",
      "[ 1.  -0.5  0.5]\n"
     ]
    }
   ],
   "source": [
    "LU, P = scipy.linalg.lu_factor(A)\n",
    "\n",
    "b = np.array([-2,1,3])\n",
    "x = scipy.linalg.lu_solve((LU,P), b)\n",
    "print(x)\n",
    "\n",
    "b = np.array([1,1,3])\n",
    "x = scipy.linalg.lu_solve((LU,P), b)\n",
    "print(x)"
   ]
  }
 ],
 "metadata": {
  "kernelspec": {
   "display_name": "Python 3 (ipykernel)",
   "language": "python",
   "name": "python3"
  },
  "language_info": {
   "codemirror_mode": {
    "name": "ipython",
    "version": 3
   },
   "file_extension": ".py",
   "mimetype": "text/x-python",
   "name": "python",
   "nbconvert_exporter": "python",
   "pygments_lexer": "ipython3",
   "version": "3.10.4"
  },
  "latex_envs": {
   "LaTeX_envs_menu_present": true,
   "autoclose": true,
   "autocomplete": false,
   "bibliofile": "biblio.bib",
   "cite_by": "apalike",
   "current_citInitial": 1,
   "eqLabelWithNumbers": true,
   "eqNumInitial": 1,
   "hotkeys": {
    "equation": "Ctrl-E",
    "itemize": "Ctrl-I"
   },
   "labels_anchors": false,
   "latex_user_defs": false,
   "report_style_numbering": false,
   "user_envs_cfg": false
  }
 },
 "nbformat": 4,
 "nbformat_minor": 5
}
