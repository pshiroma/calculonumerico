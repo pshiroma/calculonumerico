{
  "nbformat": 4,
  "nbformat_minor": 0,
  "metadata": {
    "colab": {
      "name": "cn_raizes.ipynb",
      "provenance": []
    },
    "kernelspec": {
      "name": "python3",
      "display_name": "Python 3"
    },
    "language_info": {
      "name": "python"
    }
  },
  "cells": [
    {
      "cell_type": "markdown",
      "source": [
        "# Raízes (ou zeros)"
      ],
      "metadata": {
        "id": "pZ_auPzzPMTU"
      }
    },
    {
      "cell_type": "markdown",
      "source": [
        "## Visão geral"
      ],
      "metadata": {
        "id": "CAiq5f5KRTRp"
      }
    },
    {
      "cell_type": "markdown",
      "source": [
        "## Exemplo\n",
        "\n"
      ],
      "metadata": {
        "id": "68mJuLu3d24S"
      }
    },
    {
      "cell_type": "markdown",
      "source": [
        "## Implementação usando bibliotecas do Python"
      ],
      "metadata": {
        "id": "2ftk7LUNRVIQ"
      }
    },
    {
      "cell_type": "code",
      "source": [
        "import numpy as np\n",
        "from scipy.optimize import fsolve"
      ],
      "metadata": {
        "id": "_zMWUmRzRakl"
      },
      "execution_count": 10,
      "outputs": []
    },
    {
      "cell_type": "code",
      "source": [
        "def func(x):\n",
        "    return [x[0] * np.cos(x[1]) - 4,\n",
        "            x[1] * x[0] - x[1] - 5]"
      ],
      "metadata": {
        "id": "83GCdTVPR5f6"
      },
      "execution_count": 5,
      "outputs": []
    },
    {
      "cell_type": "code",
      "source": [
        "root = fsolve(func, [1, 1])\n",
        "print(root)"
      ],
      "metadata": {
        "colab": {
          "base_uri": "https://localhost:8080/"
        },
        "id": "sHNuyppeR_kz",
        "outputId": "e3f50fe6-7469-4eec-d6bc-12a7f493a903"
      },
      "execution_count": 11,
      "outputs": [
        {
          "output_type": "stream",
          "name": "stdout",
          "text": [
            "[6.50409711 0.90841421]\n"
          ]
        }
      ]
    },
    {
      "cell_type": "markdown",
      "source": [
        "# Método gráfico"
      ],
      "metadata": {
        "id": "GR0av0UJPUXa"
      }
    },
    {
      "cell_type": "markdown",
      "source": [
        "# Métodos intervalares"
      ],
      "metadata": {
        "id": "hu_wvoR_PkFR"
      }
    },
    {
      "cell_type": "markdown",
      "source": [
        "## Método da bissecção"
      ],
      "metadata": {
        "id": "xGpUrpg9Qp54"
      }
    },
    {
      "cell_type": "markdown",
      "source": [
        "## Método da falsa posição"
      ],
      "metadata": {
        "id": "ra50_IOqQ4Gp"
      }
    },
    {
      "cell_type": "markdown",
      "source": [
        "# Métodos abertos"
      ],
      "metadata": {
        "id": "bbcakK62PtdA"
      }
    },
    {
      "cell_type": "markdown",
      "source": [
        "## Iteração do ponto fixo"
      ],
      "metadata": {
        "id": "QYmxEorvQG3M"
      }
    },
    {
      "cell_type": "markdown",
      "source": [
        "## Método de Newton-Raphson"
      ],
      "metadata": {
        "id": "kxO2rStiQI3o"
      }
    },
    {
      "cell_type": "markdown",
      "source": [
        "## Método da Secante"
      ],
      "metadata": {
        "id": "BsPu-rZ3QOln"
      }
    },
    {
      "cell_type": "code",
      "execution_count": 2,
      "metadata": {
        "id": "FgD4eP-MPAan"
      },
      "outputs": [],
      "source": [
        ""
      ]
    }
  ]
}