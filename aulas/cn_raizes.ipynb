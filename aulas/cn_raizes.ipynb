{
 "cells": [
  {
   "cell_type": "markdown",
   "metadata": {
    "heading_collapsed": true
   },
   "source": [
    "# Configuração inicial"
   ]
  },
  {
   "cell_type": "code",
   "execution_count": 1,
   "metadata": {
    "hidden": true,
    "slideshow": {
     "slide_type": "skip"
    }
   },
   "outputs": [
    {
     "data": {
      "text/plain": [
       "{'width': 1024, 'height': 768, 'scroll': True}"
      ]
     },
     "execution_count": 1,
     "metadata": {},
     "output_type": "execute_result"
    }
   ],
   "source": [
    "from notebook.services.config import ConfigManager\n",
    "cm = ConfigManager()\n",
    "cm.update('livereveal', {\n",
    "        'width': 1024,\n",
    "        'height': 768,\n",
    "        'scroll': True,\n",
    "})"
   ]
  },
  {
   "cell_type": "markdown",
   "metadata": {
    "id": "pZ_auPzzPMTU",
    "slideshow": {
     "slide_type": "slide"
    }
   },
   "source": [
    "# Raízes (ou zeros)"
   ]
  },
  {
   "cell_type": "markdown",
   "metadata": {
    "id": "68mJuLu3d24S",
    "slideshow": {
     "slide_type": "slide"
    }
   },
   "source": [
    "## Motivação: Exemplo do saltador de Bungee jumping\n",
    "\n",
    "CHAPRA, S. C. \"Métodos numéricos aplicados com MATLAB para engenheiros e cientistas\" "
   ]
  },
  {
   "cell_type": "markdown",
   "metadata": {
    "slideshow": {
     "slide_type": "subslide"
    }
   },
   "source": [
    "### Definição do problema\n",
    "\n",
    "Encontre a massa que faz com que um saltador de bungee jumping ultrapasse a velocidade de 36m/s após 4s de queda livre.\n",
    "\n",
    "A velocidade é dada pela equação:\n",
    "\n",
    "\\begin{equation} \\label{eq:jump1}\n",
    "v(t) = \\sqrt{\\dfrac{gm}{c_d}}\\tanh\\left( \\sqrt{\\dfrac{gc_d}{m}t}\\right)\n",
    "\\end{equation}\n",
    "\n",
    "Suponha que:\n",
    "\n",
    "* $c_d = 0.25 kg/m$\n",
    "* $g = 9.8m/s^2$"
   ]
  },
  {
   "cell_type": "markdown",
   "metadata": {
    "slideshow": {
     "slide_type": "-"
    }
   },
   "source": [
    "### Primeira tentativa\n",
    "\n",
    "Isolar $m$ da equação \\ref{eq:jump1}\n",
    "\n",
    "$\n",
    "m = f(v,g,c_d,t)\n",
    "$\n",
    "\n",
    "Porém, é muito difícil manipular a eq. \\ref{eq:jump1} e isolar $m$!\n"
   ]
  },
  {
   "cell_type": "markdown",
   "metadata": {
    "slideshow": {
     "slide_type": "subslide"
    }
   },
   "source": [
    "## Solução\n",
    "\n",
    "### Criando uma nova função\n",
    "\n",
    "\\begin{equation} \\label{eq:jump2}\n",
    "f(m) = \\sqrt{\\dfrac{gm}{c_d}}\\tanh\\left( \\sqrt{\\dfrac{gc_d}{m}t}\\right) -v(t)\n",
    "\\end{equation}\n",
    "\n",
    "Transformamos o problema original em encontrar as raízes (zeros) de $f(m)$!"
   ]
  },
  {
   "cell_type": "markdown",
   "metadata": {
    "id": "2ftk7LUNRVIQ",
    "slideshow": {
     "slide_type": "slide"
    }
   },
   "source": [
    "# Método da força bruta\n",
    "\n",
    "* O mais simples deles\n",
    "* Baixa precisão\n",
    "* Consiste em determinar diversos valores de $f(m)$ e inspecionar manualmente\n",
    "\n",
    "\\begin{equation} \n",
    "f(m) = \\sqrt{\\dfrac{gm}{c_d}}\\tanh\\left( \\sqrt{\\dfrac{gc_d}{m}t}\\right) -v(t)\n",
    "\\end{equation}"
   ]
  },
  {
   "cell_type": "code",
   "execution_count": 4,
   "metadata": {
    "slideshow": {
     "slide_type": "-"
    }
   },
   "outputs": [],
   "source": [
    "import math as m\n",
    "import numpy as np"
   ]
  },
  {
   "cell_type": "code",
   "execution_count": 20,
   "metadata": {
    "slideshow": {
     "slide_type": "-"
    }
   },
   "outputs": [
    {
     "name": "stdout",
     "output_type": "stream",
     "text": [
      "144.4   -0.00013384739578725657\n",
      "144.41   6.610093494430203e-05\n",
      "144.42   0.0002660242774368271\n",
      "144.42999999999998   0.0004659226363941116\n",
      "144.43999999999997   0.0006657960164986321\n",
      "144.44999999999996   0.0008656444224186544\n",
      "144.45999999999995   0.001065467858850866\n",
      "144.46999999999994   0.001265266330470638\n",
      "144.47999999999993   0.0014650398419533417\n",
      "144.48999999999992   0.0016647883979743483\n"
     ]
    }
   ],
   "source": [
    "g = 9.8\n",
    "cd = 0.25\n",
    "v = 36\n",
    "t = 4\n",
    "for massa in np.arange(144.4,144.5,0.01):\n",
    "    fm = m.sqrt( g*massa/cd ) * m.tanh( m.sqrt( g*cd/massa ) * t ) - v\n",
    "    print(massa, ' ', fm)"
   ]
  },
  {
   "cell_type": "markdown",
   "metadata": {
    "slideshow": {
     "slide_type": "-"
    }
   },
   "source": [
    "<div class=\"alert alert-block alert-info\">Analisando os dados, vemos que a raíz encontra-se entre 144kg e 145kg.</div>"
   ]
  },
  {
   "cell_type": "markdown",
   "metadata": {
    "id": "GR0av0UJPUXa",
    "slideshow": {
     "slide_type": "slide"
    }
   },
   "source": [
    "# Método gráfico\n",
    "\n",
    "* Um pouco mais refinado\n",
    "* Permite analisar melhor a função\n",
    "* Ainda é manual\n",
    "* Baixa precisão"
   ]
  },
  {
   "cell_type": "code",
   "execution_count": 43,
   "metadata": {
    "slideshow": {
     "slide_type": "-"
    }
   },
   "outputs": [],
   "source": [
    "import matplotlib.pyplot as plt\n",
    "import mplcursors\n",
    "%matplotlib widget"
   ]
  },
  {
   "cell_type": "code",
   "execution_count": 44,
   "metadata": {
    "slideshow": {
     "slide_type": "-"
    }
   },
   "outputs": [
    {
     "data": {
      "text/plain": [
       "<mplcursors._mplcursors.Cursor at 0x19fd2791ab0>"
      ]
     },
     "execution_count": 44,
     "metadata": {},
     "output_type": "execute_result"
    },
    {
     "data": {
      "application/vnd.jupyter.widget-view+json": {
       "model_id": "60641e8d354145529b29f6d953c9ccb0",
       "version_major": 2,
       "version_minor": 0
      },
      "image/png": "[encoded data removed]",
      "text/html": [
       "\n",
       "            <div style=\"display: inline-block;\">\n",
       "                <div class=\"jupyter-widgets widget-label\" style=\"text-align: center;\">\n",
       "                    Figure\n",
       "                </div>\n",
       "                <img src='data:image/png;base64,iVBORw0KGgoAAAANSUhEUgAAAbAAAAEgCAYAAADVKCZpAAAAOXRFWHRTb2Z0d2FyZQBNYXRwbG90bGliIHZlcnNpb24zLjUuMSwgaHR0cHM6Ly9tYXRwbG90bGliLm9yZy/YYfK9AAAACXBIWXMAAAsTAAALEwEAmpwYAAAgvElEQVR4nO3deXhcd33v8ffX2ldLslYviuQ1seOQRdlIE0KzEEJKCNDeEEhC0+JAye1Ny30eoO5tedqGsrXlcqE3uBDoLWQB0pCQBEIcCKGhsbETx3hfY1uWbK3WrpFG871/zNhVjORVmnOO9Hk9zzyaOedo/PFPo/nonPnNGXN3REREomZG0AFERETOhApMREQiSQUmIiKRpAITEZFIUoGJiEgkqcBERCSSVGAiIhJJKjAREYkkFZiIiESSCkxERCJJBSYiIpGkAhMRkUhSgYmISCSpwEREJJJUYCIiEkkqMBERiSQVmIiIRJIKTEREIkkFJiIikaQCExGRSFKBiYhIJKnAREQkklRgIiISSSowERGJJBWYiIhEkgpMREQiSQUmIiKRpAITEZFIUoGJiEgkqcBERCSSVGAiIhJJKjAREYkkFZiIiESSCkxERCIpM+gAk6W8vNzr6uqCjiEiEinr169vc/eKoHOciilbYHV1daxbty7oGCIikWJm+4LOcKp0CFFERCJJBSYiIpGkAhMRkUhSgYmISCSpwEREJJJUYCIiEklTdhq9iMhUFh9J0Dc0Qv9QnL5YnN7YCP2xOL2xOBfMLaF6Zm7QESedCkxEJE2GRxL0DMbpHYzTExs+dr03FqdncJieWLKM+mIjya9Dby6m/qGRVFnFicUT4/47X73jIm65YHYa/2fBUIGJiJyEu9M3NELXwHCyaI6VULJ4egfjyWWx5NeeweFj10cvO1HpHDXDoCAnk8KcTPKzMyjMyaQgJ5O5+fkU5mSQn1pXkJ1JQU4GBcdtV5CdSe2s/DSMSvAiU2BmdhPwv4EM4Bvu/rmAI4lIhIwknJ7BYboGhukeiNM1MPymS/fgqOupy3+tizOS8BPe/wyDwpxMinKzKMpNlsyswmzqygsozMmkOLWsMDe5TXLbzGPbFuZmUpSTRW7WDMwsTaMSbZEoMDPLAL4G3AA0Ar82s6fcfUuwyUQk3dyd3liczr5hOvuH6Ogf4kj/EB19w6mvQ3T2D9HZ9+Zy6hmMn/B+szKMmXlZFOdmUZyXRUl+NufMKqA4L5OZeVnHLsW5WRSmSmd0WeVnZ6h40iwSBQZcBuxy9z0AZvYocCugAhOJuMHhEdr7hmjridHRN6qAjiulI/3Dx8pqeGTsvaEZBqX52ZTkZ1Gan03NzFzOrS6i+Gj5jCqiY4WUKqi8LBVQ1ESlwOYAB0bdbgQuDyiLiJyAu9MTi9PWEztWTG29Mdp6h2jrjdGe+nr0ek9s7D2jjBlGaX42pflZlBZkU1eez8UFJZTkZ1OWKqmyguzk7YLkdsW5WcyYoRKaLqJSYGM9In/rTzAzWwGsAKitrZ3sTCLTSiLhdPQPcbh7kJbuGIe7BzncHeNwzyAt3YO09MSSZdU3xNAYkxUstXdUXpjNrIIcls8tobwwm/LCnGPLZhWmyqggm6KcTO0RyQlFpcAagXmjbs8Fmo7fyN1XAasAGhoaTvyKq4gc0xuL03RkgOauQQ53D9Lac7SgkiV1tKDiY0xkmFWQTWVxLpVFOSyqLKK8KJuKwmQZlRfmMKsgh/Ki5F5TZobOnSATJyoF9mtgkZnVAweB24E7go0kEg3DIwkOdQ3SdGSApq4Bmo4MHiurpiMDHDwyMOYEh5L8LKqKcqkszmFhZTlVxTlUFedSmVpWVZxLRWEO2ZkqJQlGJArM3eNmdh/wHMlp9A+5++aAY4mEwvBIgqYjA+zv6D92aexIFlNz1wAtPTH8uB2n0vwsZpfkMa8sn8vry5hdksfskjyqZ+ZSXZxLRVEOuVkZwfyHRE5RJAoMwN2fBZ4NOodIurk7nf3Dx8rpQEc/+9v/q6yauwYYfWQvO2MGc0rzmFOSxzWLKphdkrxeU5KbLKqZeeRlq5wk+iJTYCJTXW8szt7WPva09bKntY89bX3sae1lX3s/vcfN1KsoyqG2LJ9L60qpLZvDvLJ8asvyqZ2VT1VRrmbiybSgAhNJo5GEc6Cjn92tby6pvW19tPTEjm03w2BuaT715QVcWleWLKdUQc0tzSM/W7+6IvotEJkE7s7BIwPsPNzL9sM97DjUw46WHnYe7n3T+fDKCrKpLy/gbYsrqK8oYH55IfMrCqgty9drUCInoQITOUtd/cNsbupi66E3F9Xow37Vxbksri7izitmsbiqiAWVhSyoKKAkPzvA5CLRpgITOUXuTktPjM1NXWw62M3mpi42N3XT2DlwbJvywmwWVRbx/kvmsqiqkCVVRSyqKmJmXlaAyUWmJhWYyDgOdw/y2v5ONjYmi2pzUxdtvUNA8qwS9bMKuKi2lA9dcQ7LZhdzXk0x5YU5AacWmT5UYCIkTyi76WAXr+0/woYDR3htfydNXYMAZM4wFlUVce2SSs6fXcyyOTM5r6aYwhz9+ogESb+BMi01dw2wdm8Hr+7r5LUDR9jS1H3sNElzS/O4pK6MP55XwoW1JSytKdaECpEQUoHJlOfuNHYOsGZvB2v2tLNmbwf7O/oByM/O4C1zS1hxzXwuqi3lwnklVBTpMKBIFKjAZEpq7Ozn5V1tvLInWVpHDweW5GdxWV0Zd115DlfMn8V5NcVk6E2/IpGkApMpoS8W55U97fxyZxsv7WhlT1sfkDxT+uXzy7i3fhaXzy9jcWWRzlIhMkWowCSS3J0tzd38YkcrL+1oZf2+ToZHnNysGVxeP4sPXnEOVy8qZ1FloT5TSmSKUoFJZAzFE6zZ287zWw6zesvhY4cFz6sp5p6r6rlmcQWXnFOqCRci04QKTEKte3CYn29rYfXWFl7c1kJPLE5u1gyuXlTB/dcv5tolFVQW5wYdU0QCoAKT0OmLxVm99TA/er2Zl3a0MjSSoLwwm5uX13DD0iquWliujwMRERWYhMPg8Ag/29bC0xubeGFrC7F4guriXO668hzeubyaC+eVaragiLyJCkwC4+6s39fJD9Y38vTGZnpjccoLs7n90nnc8pbZXFJbqhmDIjIuFZik3aGuQR5/tZHH1zeyp62P/OwMbl5ew20XzeGK+bO0pyUip0QFJmkxknB+tq2F77yyj1/ubCXhcFl9GR+7dgE3L6+hQOcVFJHTpGcNmVQdfUM89usDfOeVfRw8MkBVcQ4ff/tC3n/JXM6ZVRB0PBGJMBWYTIpNB7t46OW9PL2xmaF4givnz+Iv33Ue1y+tIitjRtDxRGQKUIHJhHF3Xt7Vztdf2s0vd7ZRkJ3Bf2uYx51XnsPiqqKg44nIFKMCk7MWH0nw402H+PpLu9l0sJvKohw+9c5zuePyWopz9UnEIjI5Ql9gZvYZ4CNAa2rRX7j7s8ElkqNGEs6TGw7ylRd28kZ7P/MrCvj8+5bznovmkJOpNxqLyOQKfYGl/JO7fynoEJKUSDhP/6aZL6/ewZ7WPpbWFPPghy7hxqVVet+WiKRNVApMQsDdeWFrC194bhs7DveypKqIBz90MTcurVZxiUjaRaXA7jOzu4B1wCfcvTPoQNPN5qYuHnhmK7/a3c788gK+8oGLuGV5jYpLRAJj7h50BsxsNVA9xqqVwCtAG+DA3wI17n7POPezAlgBUFtbe8m+ffsmJ/A0crh7kC89t50fvNpISV4W91+/mDsur9VUeJEpyszWu3tD0DlORSgK7FSZWR3wtLuff7JtGxoafN26dZMfaoqKjyT49q/e4B+f38HwSII/vKqej799ITPzNKtQZCqLUoGF/hCimdW4e3Pq5m3ApiDzTAev7u9k5ROb2Nrcze+eW8lf/95SnTVDREIn9AUGfMHMLiR5CPEN4N5A00xhXQPDfOEn23h47X6qinJ58EMX845l1ZjpdS4RCZ/QF5i73xl0hungxe0tfPLxjbT2xLjnqnr+7IbFFOoEuyISYnqGmub6YnEeeHYrD6/Zz6LKQr5x16Usnzsz6FgiIielApvG1u/r4P7HNtDYOcC918znz25YTG6WzqAhItGgApuGEgnn6y/t4Us/3c7skly+d++VXFpXFnQsEZHTogKbZtp7Y3zi+6/z4vZW3nVBDX//3uU64a6IRJIKbBp5dX8nf/KdV+noH+Lv3nM+H7y8VjMMRSSyVGDTxA/WN/IX//4bqmfm8sSfvJVlszVRQ0SiTQU2xY0knM/9eCv/8su9vHXBLL52x8WUFmQHHUtE5KypwKaw3lic+x5+lRe3t/Lht9ax8l3n6RyGIjJlqMCmqLbeGB/+1lq2Nvfw2duWc8fltUFHEhGZUCqwKWh/ez93PbSGQ92DfOPuBt6+pDLoSCIiE04FNsVsaerm7m+tZXgkwcMfuYKLa0uDjiQiMilUYFPIhgNHuPObayjMyeSRj1zJwsqioCOJiEwaFdgUseHAEe78xhpKC7J5ZMUVzCnJCzqSiMikUoFNAUfLq6wwm0c+cgWzVV4iMg1oTnXEbW7q4s5vqrxEZPpRgUXYG2193P3QWopyMlVeIjLtqMAiqqV7kDsfWsNIwvl/f3S5yktEph29BhZBPYPD3PXQWtp7h3j4I1ewsLIw6EgiImmnAouYkYTz3x95jZ0tvXzrw5dy4bySoCOJiARChxAj5rPPbuXF7a38za3LuGZxRdBxREQCowKLkEfW7ueb/7GXP7yqjg9efk7QcUREAqUCi4h1b3Twv364ibctrmDlzecFHUdEJHAqsAho741x38OvMac0j/9zx0Vk6iNRRETCU2Bm9vtmttnMEmbWcNy6T5vZLjPbbmbvCCpjEBIJ5/7HNtDRP8TX7riY4tysoCOJiIRCmGYhbgLeC3x99EIzWwrcDiwDZgOrzWyxu4+kP2L6fe3nu/jlzjY+e9tyzp8zM+g4IiKhEZo9MHff6u7bx1h1K/Cou8fcfS+wC7gsvemCsWZPO/+0egfvuXA2H7hsXtBxRERCJTQFdgJzgAOjbjemlk1pvbE4n/j+68wtzeeB25ZjZkFHEhEJlbQeQjSz1UD1GKtWuvuT433bGMt8nPtfAawAqK2tPaOMYfHAM1s4eGSA7917JQU5YTrSKyISDml9ZnT368/g2xqB0cfP5gJN49z/KmAVQENDw5glFwU/39bCI2sPcO/b5nNpXVnQcUREQikKhxCfAm43sxwzqwcWAWsDzjRpjvQP8cnHN7Kkqog/v2Fx0HFEREIrNAVmZreZWSNwJfCMmT0H4O6bge8BW4CfAB+fyjMQ//7ZbbT3DfEPf/AWcjIzgo4jIhJaoXlxxd2fAJ4YZ90DwAPpTZR+697o4LF1B7j3mvmaMi8ichKh2QOb7oZHEvzlDzcxe2Yuf3rdoqDjiIiEXmj2wKa7b728l22Hevj6nZdo1qGIyCnQHlgINB0Z4Murd3LduZXcuLQq6DgiIpGgAguBz/9kGyMJ5zPvXqY3LIuInCIVWMBeP3CEJzc08cdX1zOvLD/oOCIikaECC5C788CzWykvzOZj1y4MOo6ISKSowAL0/JbDrN3bwf3XL6ZQEzdERE6LCiwgIwnnC89tZ0FFAbdfqjPNi4icLhVYQJ7e2MSull4+ceMSfcKyiMgZ0DNnAOIjCb68eifnVhdx07KxTs4vIiInowILwA83NLG3rY8/u2ExM2Zo2ryIyJlQgaVZfCTBV17YybLZxXrTsojIWVCBpdmzmw6xv6OfP71ukd60LCJyFlRgaeTuPPjibhZUFHDDedr7EhE5GyqwNPqPXW1sae7m3msW6LUvEZGzpAJLowd/sZuq4hxuvWh20FFERCJPBZYmmw528fKudu65ql6ftCwiMgFUYGny7V+9QX52Bh+4vDboKCIiU4IKLA06+4b40etN3HbRHIpzs4KOIyIyJajA0uB76w4Qiye468q6oKOIiEwZKrBJNpJw/u2VfVxWX8aS6qKg44iITBkqsEn24vYWGjsHuFt7XyIiE0oFNskeXrOfyqIcblymNy6LiEwkFdgkaukZ5MUdrbz34rlk6SNTREQmVGieVc3s981ss5klzKxh1PI6Mxswsw2py4NB5jwdP3ztICMJ5/2XzA06iojIlBOmz7HfBLwX+PoY63a7+4XpjXN23J0frG/kotoSFlYWBh1HRGTKCc0emLtvdfftQeeYKL852MWOw73a+xIRmSShKbCTqDez18zsF2Z2ddBhTsX31zWSkzmDWy7QeQ9FRCZDWg8hmtlqoHqMVSvd/clxvq0ZqHX3djO7BPihmS1z9+4x7n8FsAKgtja4UzYNxRP8aGMTNy6rZmaezrwhIjIZ0lpg7n79GXxPDIilrq83s93AYmDdGNuuAlYBNDQ0+NmlPXMv727jSP8wt75Fe18iIpMl9IcQzazCzDJS1+cDi4A9waY6sWc2NlOUm8nVi8uDjiIiMmWFpsDM7DYzawSuBJ4xs+dSq64BNprZ68APgI+6e0dQOU9mKJ7guc2HuHFptT42RURkEoVmGr27PwE8Mcbyx4HH05/ozPxyZys9g3FuuaAm6CgiIlNaaPbApopnNjYzMy+Lqxbq8KGIyGRSgU2gweERnt9ymHcsqyI7U0MrIjKZ9Cw7gf5zdzs9sTjvXK7DhyIik00FNoFWbz1MfnYGb10wK+goIiJTngpsgrg7P9vWwtWLyjX7UEQkDVRgE2RLczfNXYNcd54+90tEJB1UYBPkha0tmMHbl1QGHUVEZFpQgU2QF7a18Ja5JVQU5QQdRURkWlCBTYCWnkFeP3CE687V3peISLqowCbAi9taAfT6l4hIGqnAJsAvdrZSVZzDeTVFQUcREZk2VGBnKZFw/nN3O1ctKMfMgo4jIjJtqMDO0rZDPXT0DfFWnftQRCStVGBn6Ve72wC4aqHOviEikk4qsLP08q425pcXUDMzL+goIiLTigrsLAyPJFizt4O3au9LRCTtVGBnYcOBI/QPjfA7ev1LRCTtVGBn4eVdbZjBFfO1ByYikm4qsLPwq93tnD97JiX52UFHERGZdlRgZ2gonuD1A0e4rL4s6CgiItOSCuwMbW7qIhZP0HBOadBRRESmJRXYGVq/rxOAi1VgIiKBUIGdofX7OplbmkdVcW7QUUREpqXQFJiZfdHMtpnZRjN7wsxKRq37tJntMrPtZvaOAGMC4O6s29fJJdr7EhEJTGgKDHgeON/dLwB2AJ8GMLOlwO3AMuAm4J/NLCOwlEBj5wCtPTG9/iUiEqDQFJi7/9Td46mbrwBzU9dvBR5195i77wV2AZcFkfGoV/fr9S8RkaCFpsCOcw/w49T1OcCBUesaU8sCs+6NTgqyM1hSpc//EhEJSmY6/zEzWw1Uj7Fqpbs/mdpmJRAHvnv028bY3se5/xXACoDa2tqzzjue9fs6ubC2hMyMsPa/iMjUl9YCc/frT7TezO4GbgGuc/ejJdUIzBu12VygaZz7XwWsAmhoaBiz5M5WbyzOtkPd3Pe7iybj7kVE5BSFZhfCzG4CPgm82937R616CrjdzHLMrB5YBKwNIiPA5oNdJBwunDczqAgiIkKa98BO4qtADvC8mQG84u4fdffNZvY9YAvJQ4sfd/eRoEL+5mAXAOfPUYGJiAQpNAXm7gtPsO4B4IE0xhnXpoNdVBfnUlmkNzCLiAQpNIcQo2LjwS7tfYmIhIAK7DT0xuLsbetjuQpMRCRwKrDTsPlgF+6wfG5x0FFERKY9Fdhp0AQOEZHwUIGdhs1N3VQV52gCh4hICKjATsPW5m6W1ujwoYhIGKjATtHwSILdrb0sqVaBiYiEgQrsFO1p7WN4xDmvRifwFREJAxXYKdp2qBuAJdUqMBGRMFCBnaJth3rIyjDmlxcGHUVERFCBnbJtzd0sqCgkO1NDJiISBno2PkXbD/Vwrg4fioiEhgrsFHT1D9PUNagZiCIiIaICOwU7W3oAWFKt179ERMJCBXYK9rT2AbCgQgUmIhIWKrBTsLu1l+yMGcwtzQ86ioiIpKjATsHu1l7qywvImGFBRxERkRQV2CnY3drHgsqCoGOIiMgoKrCTGIon2N/Rr9e/RERCRgV2Evs7+hhJOPMrtAcmIhImKrCT2NWiGYgiImGkAjuJ3a29AMxXgYmIhIoK7CR2t/ZSXZxLYU5m0FFERGSU0BSYmX3RzLaZ2UYze8LMSlLL68xswMw2pC4PpjPXvvZ+6sr1/i8RkbAJTYEBzwPnu/sFwA7g06PW7Xb3C1OXj6Yz1P6OfmrLVGAiImETmgJz95+6ezx18xVgbpB5AAaGRmjtianARERCKDQFdpx7gB+Pul1vZq+Z2S/M7Op0hWjs7AdgngpMRCR00jozwcxWA9VjrFrp7k+mtlkJxIHvptY1A7Xu3m5mlwA/NLNl7t49xv2vAFYA1NbWnnXe/R3JAtMemIhI+KS1wNz9+hOtN7O7gVuA69zdU98TA2Kp6+vNbDewGFg3xv2vAlYBNDQ0+NnmVYGJiIRXaA4hmtlNwCeBd7t7/6jlFWaWkbo+H1gE7ElHpv0d/RRkZ1BWkJ2Of05ERE5DmN7c9FUgB3jezABeSc04vAb4GzOLAyPAR929Ix2BDnT0M68sn1QeEREJkdAUmLsvHGf548DjaY4DJPfA6mbpHIgiImEUmkOIYePuHOgY0AxEEZGQUoGNo613iIHhEU3gEBEJKRXYOI7OQJxXlhdwEhERGYsKbByHugYBmF2iAhMRCSMV2DgOdScLrLo4N+AkIiIyFhXYOA51DZCTOYOZeVlBRxERkTGowMZxqDtG9cxcvQdMRCSkVGDjONw1qMOHIiIhpgIbx6HuQapnqsBERMJKBTYGd08WmPbARERCSwU2hs7+YYbiCapUYCIioaUCG8PR94DV6BCiiEhoqcDGcKh7AIAqFZiISGipwMZwqCsG6E3MIiJhpgIbw6HuQWYYVBTlBB1FRETGoQIbw+GuQcoLc8jK0PCIiISVnqHH0Kz3gImIhJ4KbAytPTEqdfhQRCTUVGBj6OiLMatABSYiEmYqsOO4O+29Q5QVZgcdRURETkAFdpzugTjxhDOrQAUmIhJmKrDjtPcl3wM2S3tgIiKhpgI7TnvfEIBeAxMRCTkV2HHae5MFVqZDiCIioRaaAjOzvzWzjWa2wcx+amazR637tJntMrPtZvaOycxx9BBieaH2wEREwiw0BQZ80d0vcPcLgaeBvwIws6XA7cAy4Cbgn80sY7JCaA9MRCQaQlNg7t496mYB4KnrtwKPunvM3fcCu4DLJitHVsYMFlYWkp0ZmqEREZExZAYdYDQzewC4C+gC3p5aPAd4ZdRmjallk+Jj1y7gY9cumKy7FxGRCZLW3QwzW21mm8a43Arg7ivdfR7wXeC+o982xl35GMswsxVmts7M1rW2tk7Of0JEREIhrXtg7n79KW76MPAM8Nck97jmjVo3F2ga5/5XAasAGhoaxiw5ERGZGkLzQo+ZLRp1893AttT1p4DbzSzHzOqBRcDadOcTEZFwCdNrYJ8zsyVAAtgHfBTA3Teb2feALUAc+Li7jwQXU0REwiA0Bebu7zvBugeAB9IYR0REQi40hxBFREROhwpMREQiSQUmIiKRZO5Tc7a5mbWSnAxyusqBtgmOMxGU6/SFNZtynb6wZpuKuc5x94qJDDNZpmyBnSkzW+fuDUHnOJ5ynb6wZlOu0xfWbMoVLB1CFBGRSFKBiYhIJKnAftuqoAOMQ7lOX1izKdfpC2s25QqQXgMTEZFI0h6YiIhEkgosxcxuMrPtZrbLzD4VYI55ZvZzM9tqZpvN7H+kln/GzA6a2YbU5eaA8r1hZr9JZViXWlZmZs+b2c7U19I0Z1oyalw2mFm3md0f1JiZ2UNm1mJmm0YtG3eMzOzTqcfddjN7R5pzfdHMtpnZRjN7wsxKUsvrzGxg1Ng9mOZc4/7s0jVeJ8j22Khcb5jZhtTydI7ZeM8TgT/O0srdp/0FyAB2A/OBbOB1YGlAWWqAi1PXi4AdwFLgM8D/DMFYvQGUH7fsC8CnUtc/BXw+4J/lIeCcoMYMuAa4GNh0sjFK/WxfB3KA+tTjMCONuW4EMlPXPz8qV93o7QIYrzF/dukcr/GyHbf+H4C/CmDMxnueCPxxls6L9sCSLgN2ufsedx8CHgVuDSKIuze7+6up6z3AVibxE6gnyK3Av6au/yvwnuCicB2w293P5E3sE8LdXwI6jls83hjdCjzq7jF33wvsIvl4TEsud/+pu8dTN18h+Xl7aTXOeI0nbeN1smxmZsAfAI9M1r8/nhM8TwT+OEsnFVjSHODAqNuNhKA0zKwOuAhYk1p0X+pQz0PpPkw3igM/NbP1ZrYitazK3Zsh+YsFVAaUDeB23vyEEoYxg/HHKEyPvXuAH4+6XW9mr5nZL8zs6gDyjPWzC9N4XQ0cdvedo5alfcyOe56IwuNswqjAkmyMZYFOzzSzQuBx4H537wb+L7AAuBBoJnnoIghXufvFwDuBj5vZNQHl+C1mlk3yw1C/n1oUljE7kVA89sxsJcnP2/tualEzUOvuFwF/DjxsZsVpjDTezy4U45XyAd78x1Lax2yM54lxNx1jWeSnoKvAkhqBeaNuzwWaAsqCmWWRfFB+193/HcDdD7v7iLsngH8hoN1/d29KfW0BnkjlOGxmNansNUBLENlIluqr7n44lTEUY5Yy3hgF/tgzs7uBW4APeuoFk9ShpvbU9fUkXzNZnK5MJ/jZBT5eAGaWCbwXeOzosnSP2VjPE4T4cTYZVGBJvwYWmVl96q/424GnggiSOq7+TWCru//jqOU1oza7Ddh0/PemIVuBmRUdvU5yAsAmkmN1d2qzu4En050t5U1/EYdhzEYZb4yeAm43sxwzqwcWAWvTFcrMbgI+Cbzb3ftHLa8ws4zU9fmpXHvSmGu8n12g4zXK9cA2d288uiCdYzbe8wQhfZxNmqBnkYTlAtxMcibPbmBlgDl+h+Su/UZgQ+pyM/BvwG9Sy58CagLINp/kTKbXgc1HxwmYBbwA7Ex9LQsgWz7QDswctSyQMSNZos3AMMm/fP/oRGMErEw97rYD70xzrl0kXxs5+lh7MLXt+1I/49eBV4HfS3OucX926Rqv8bKlln8b+Ohx26ZzzMZ7ngj8cZbOi87EISIikaRDiCIiEkkqMBERiSQVmIiIRJIKTEREIkkFJiIikaQCExGRSFKBiYhIJKnAREQkklRgIiISSSowERGJJBWYiIhEkgpMREQiSQUmIiKRpAITEZFIUoGJiEgkqcBERCSSVGAiIhJJKjAREYkkFZiIiESSCkxERCLp/wP5PiyvPw+T7wAAAABJRU5ErkJggg==' width=432.0/>\n",
       "            </div>\n",
       "        "
      ],
      "text/plain": [
       "Canvas(toolbar=Toolbar(toolitems=[('Home', 'Reset original view', 'home', 'home'), ('Back', 'Back to previous …"
      ]
     },
     "metadata": {},
     "output_type": "display_data"
    }
   ],
   "source": [
    "g = 9.8\n",
    "cd = 0.25\n",
    "v = 36\n",
    "t = 4\n",
    "massa = np.arange(1,200, 0.5)\n",
    "fm = np.sqrt( g*massa/cd ) * np.tanh( np.sqrt( g*cd/massa ) * t ) - v\n",
    "\n",
    "plt.plot(massa, fm)\n",
    "mplcursors.cursor(hover=True)"
   ]
  },
  {
   "cell_type": "markdown",
   "metadata": {
    "slideshow": {
     "slide_type": "slide"
    }
   },
   "source": [
    "# Utilizando bibliotecas nativas\n",
    "\n",
    "* Alta precisão\n",
    "* Simples\n",
    "* É preciso entender **quando elas falham!**"
   ]
  },
  {
   "cell_type": "code",
   "execution_count": 12,
   "metadata": {
    "id": "_zMWUmRzRakl",
    "slideshow": {
     "slide_type": "slide"
    }
   },
   "outputs": [],
   "source": [
    "import numpy as np\n",
    "from scipy.optimize import fsolve"
   ]
  },
  {
   "cell_type": "code",
   "execution_count": 11,
   "metadata": {
    "id": "83GCdTVPR5f6",
    "slideshow": {
     "slide_type": "-"
    }
   },
   "outputs": [],
   "source": [
    "def jump(massa):\n",
    "    g = 9.8\n",
    "    cd = 0.25\n",
    "    v = 36\n",
    "    t = 4\n",
    "    fm = np.sqrt( g*massa/cd ) * np.tanh( np.sqrt( g*cd/massa ) * t ) - v\n",
    "    return fm"
   ]
  },
  {
   "cell_type": "code",
   "execution_count": 18,
   "metadata": {
    "colab": {
     "base_uri": "https://localhost:8080/"
    },
    "id": "sHNuyppeR_kz",
    "outputId": "e3f50fe6-7469-4eec-d6bc-12a7f493a903",
    "slideshow": {
     "slide_type": "-"
    }
   },
   "outputs": [
    {
     "name": "stdout",
     "output_type": "stream",
     "text": [
      "[144.40669396]\n"
     ]
    }
   ],
   "source": [
    "root = fsolve(jump, 140)\n",
    "print(root)"
   ]
  },
  {
   "cell_type": "markdown",
   "metadata": {
    "id": "hu_wvoR_PkFR"
   },
   "source": [
    "# Métodos intervalares"
   ]
  },
  {
   "cell_type": "markdown",
   "metadata": {
    "id": "xGpUrpg9Qp54"
   },
   "source": [
    "## Método da bissecção"
   ]
  },
  {
   "cell_type": "markdown",
   "metadata": {
    "id": "ra50_IOqQ4Gp"
   },
   "source": [
    "## Método da falsa posição"
   ]
  },
  {
   "cell_type": "markdown",
   "metadata": {
    "id": "bbcakK62PtdA"
   },
   "source": [
    "# Métodos abertos"
   ]
  },
  {
   "cell_type": "markdown",
   "metadata": {
    "id": "QYmxEorvQG3M"
   },
   "source": [
    "## Iteração do ponto fixo"
   ]
  },
  {
   "cell_type": "markdown",
   "metadata": {
    "id": "kxO2rStiQI3o"
   },
   "source": [
    "## Método de Newton-Raphson"
   ]
  },
  {
   "cell_type": "markdown",
   "metadata": {
    "id": "BsPu-rZ3QOln"
   },
   "source": [
    "## Método da Secante"
   ]
  },
  {
   "cell_type": "code",
   "execution_count": 2,
   "metadata": {
    "id": "FgD4eP-MPAan"
   },
   "outputs": [],
   "source": []
  }
 ],
 "metadata": {
  "celltoolbar": "Slideshow",
  "colab": {
   "name": "cn_raizes.ipynb",
   "provenance": []
  },
  "kernelspec": {
   "display_name": "Python 3 (ipykernel)",
   "language": "python",
   "name": "python3"
  },
  "language_info": {
   "codemirror_mode": {
    "name": "ipython",
    "version": 3
   },
   "file_extension": ".py",
   "mimetype": "text/x-python",
   "name": "python",
   "nbconvert_exporter": "python",
   "pygments_lexer": "ipython3",
   "version": "3.10.4"
  },
  "latex_envs": {
   "LaTeX_envs_menu_present": true,
   "autoclose": true,
   "autocomplete": true,
   "bibliofile": "biblio.bib",
   "cite_by": "apalike",
   "current_citInitial": 1,
   "eqLabelWithNumbers": true,
   "eqNumInitial": 1,
   "hotkeys": {
    "equation": "Ctrl-E",
    "itemize": "Ctrl-I"
   },
   "labels_anchors": false,
   "latex_user_defs": false,
   "report_style_numbering": false,
   "user_envs_cfg": false
  }
 },
 "nbformat": 4,
 "nbformat_minor": 1
}
