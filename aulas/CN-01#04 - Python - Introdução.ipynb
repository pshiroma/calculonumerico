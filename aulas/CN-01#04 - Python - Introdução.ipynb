{
 "cells": [
  {
   "cell_type": "markdown",
   "id": "148e1672",
   "metadata": {},
   "source": [
    "[Vídeo]()"
   ]
  },
  {
   "cell_type": "markdown",
   "id": "32453550",
   "metadata": {
    "slideshow": {
     "slide_type": "slide"
    }
   },
   "source": [
    "# Introdução ao Python"
   ]
  },
  {
   "cell_type": "markdown",
   "id": "9ee88249",
   "metadata": {
    "slideshow": {
     "slide_type": "skip"
    }
   },
   "source": [
    "Material de referência:\n",
    "\n",
    "https://docs.python.org/pt-br/3.9/library/index.html"
   ]
  },
  {
   "cell_type": "markdown",
   "id": "a1361449",
   "metadata": {
    "slideshow": {
     "slide_type": "slide"
    }
   },
   "source": [
    "## Entrada de dados\n",
    "\n",
    "Vamos ver agora como ler uma entrada do usuário e armazená-la em uma variável:"
   ]
  },
  {
   "cell_type": "code",
   "execution_count": 1,
   "id": "c7f61356",
   "metadata": {
    "scrolled": true,
    "slideshow": {
     "slide_type": "subslide"
    }
   },
   "outputs": [
    {
     "name": "stdin",
     "output_type": "stream",
     "text": [
      "Entre com um dado:  1232\n"
     ]
    }
   ],
   "source": [
    "x = input('Entre com um dado: ')"
   ]
  },
  {
   "cell_type": "markdown",
   "id": "58c0818c",
   "metadata": {},
   "source": [
    "## Imprimindo na tela"
   ]
  },
  {
   "cell_type": "code",
   "execution_count": 2,
   "id": "f7041f20",
   "metadata": {},
   "outputs": [
    {
     "name": "stdout",
     "output_type": "stream",
     "text": [
      "Ola mundo!!!!\n"
     ]
    }
   ],
   "source": [
    "# Programa Hello World!\n",
    "print(\"Ola mundo!!!!\")"
   ]
  },
  {
   "cell_type": "code",
   "execution_count": 9,
   "id": "f0143a78-8fa9-42d4-b30a-0536d5ccdd47",
   "metadata": {},
   "outputs": [],
   "source": [
    "y = 23.656"
   ]
  },
  {
   "cell_type": "code",
   "execution_count": 10,
   "id": "cbc7ea41",
   "metadata": {
    "slideshow": {
     "slide_type": "-"
    }
   },
   "outputs": [
    {
     "name": "stdout",
     "output_type": "stream",
     "text": [
      "23.656\n"
     ]
    }
   ],
   "source": [
    "# Imprimindo o valor de uma variável\n",
    "print(y)"
   ]
  },
  {
   "cell_type": "code",
   "execution_count": 32,
   "id": "b71535d8",
   "metadata": {
    "slideshow": {
     "slide_type": "fragment"
    }
   },
   "outputs": [
    {
     "name": "stdout",
     "output_type": "stream",
     "text": [
      "O valor que você entrou foi: 4\n"
     ]
    }
   ],
   "source": [
    "# Imprimindo texto + variável\n",
    "print('O valor que você entrou foi:', x)"
   ]
  },
  {
   "cell_type": "markdown",
   "id": "2bc796c2",
   "metadata": {},
   "source": [
    "Imprimindo vários valores:"
   ]
  },
  {
   "cell_type": "code",
   "execution_count": 33,
   "id": "a12a61f8",
   "metadata": {},
   "outputs": [
    {
     "name": "stdout",
     "output_type": "stream",
     "text": [
      "O valor de x é 4 e o de y é 3\n"
     ]
    }
   ],
   "source": [
    "y = 3\n",
    "print('O valor de x é', x, 'e o de y é', y)"
   ]
  },
  {
   "cell_type": "markdown",
   "id": "f9f9e4a3",
   "metadata": {},
   "source": [
    "## Operações básicas"
   ]
  },
  {
   "cell_type": "code",
   "execution_count": 23,
   "id": "c501d891",
   "metadata": {},
   "outputs": [
    {
     "name": "stdout",
     "output_type": "stream",
     "text": [
      "42\n"
     ]
    }
   ],
   "source": [
    "# Soma\n",
    "x = 2 + 40\n",
    "print(x)"
   ]
  },
  {
   "cell_type": "code",
   "execution_count": 24,
   "id": "78548c3d",
   "metadata": {},
   "outputs": [
    {
     "name": "stdout",
     "output_type": "stream",
     "text": [
      "22\n"
     ]
    }
   ],
   "source": [
    "# Subtração\n",
    "z = x - 20\n",
    "print(z)"
   ]
  },
  {
   "cell_type": "code",
   "execution_count": 25,
   "id": "07ff585d",
   "metadata": {},
   "outputs": [
    {
     "name": "stdout",
     "output_type": "stream",
     "text": [
      "50\n"
     ]
    }
   ],
   "source": [
    "# Multiplicação\n",
    "w = 5 * 10\n",
    "print(w)"
   ]
  },
  {
   "cell_type": "code",
   "execution_count": 4,
   "id": "967d013f",
   "metadata": {
    "slideshow": {
     "slide_type": "fragment"
    }
   },
   "outputs": [
    {
     "name": "stdout",
     "output_type": "stream",
     "text": [
      "1.6666666666666667\n"
     ]
    }
   ],
   "source": [
    "# Divisão\n",
    "y = 5/3\n",
    "print(y)"
   ]
  },
  {
   "cell_type": "code",
   "execution_count": 26,
   "id": "dbd6cac6",
   "metadata": {},
   "outputs": [
    {
     "name": "stdout",
     "output_type": "stream",
     "text": [
      "16\n"
     ]
    }
   ],
   "source": [
    "# Potência\n",
    "x = 4\n",
    "y = x**2\n",
    "print(y)"
   ]
  },
  {
   "cell_type": "markdown",
   "id": "3a33e05c",
   "metadata": {},
   "source": [
    "Calculando o valor de:\n",
    "\n",
    "$y = ax^2 + bx + c$"
   ]
  },
  {
   "cell_type": "code",
   "execution_count": 27,
   "id": "6be340ca",
   "metadata": {},
   "outputs": [
    {
     "name": "stdout",
     "output_type": "stream",
     "text": [
      "35\n"
     ]
    }
   ],
   "source": [
    "a = 2\n",
    "b = 1\n",
    "c = -1\n",
    "y = a*x**2 + b*x + c\n",
    "print(y)"
   ]
  },
  {
   "cell_type": "code",
   "execution_count": 29,
   "id": "1ec98cf5",
   "metadata": {},
   "outputs": [
    {
     "name": "stdout",
     "output_type": "stream",
     "text": [
      "3\n"
     ]
    }
   ],
   "source": [
    "# Divisão inteira\n",
    "y = 10//3\n",
    "print(y)"
   ]
  },
  {
   "cell_type": "code",
   "execution_count": 30,
   "id": "a001674b",
   "metadata": {},
   "outputs": [
    {
     "name": "stdout",
     "output_type": "stream",
     "text": [
      "1\n"
     ]
    }
   ],
   "source": [
    "# Resto da divisão\n",
    "y = 10%3\n",
    "print(y)"
   ]
  },
  {
   "cell_type": "code",
   "execution_count": 37,
   "id": "ce327630",
   "metadata": {},
   "outputs": [
    {
     "name": "stdout",
     "output_type": "stream",
     "text": [
      "4.0\n"
     ]
    }
   ],
   "source": [
    "# Controlando a ordem das operações\n",
    "x = (4 + 2*2)/2\n",
    "print(x)"
   ]
  },
  {
   "cell_type": "code",
   "execution_count": 13,
   "id": "e34d74f6",
   "metadata": {},
   "outputs": [
    {
     "name": "stdout",
     "output_type": "stream",
     "text": [
      "2.0\n"
     ]
    }
   ],
   "source": [
    "# Controlando a ordem das operações\n",
    "y = 2\n",
    "x = (4 + 2*2)/(2*y)\n",
    "print(x)"
   ]
  },
  {
   "cell_type": "markdown",
   "id": "b0fac7a4",
   "metadata": {},
   "source": [
    "## Controlando o comando print"
   ]
  },
  {
   "cell_type": "code",
   "execution_count": 34,
   "id": "4033d4df",
   "metadata": {},
   "outputs": [
    {
     "name": "stdout",
     "output_type": "stream",
     "text": [
      "4zzz3\n"
     ]
    }
   ],
   "source": [
    "# Mudando o separador:\n",
    "print(x, y, sep='zzz')"
   ]
  },
  {
   "cell_type": "code",
   "execution_count": 35,
   "id": "4b917ac9",
   "metadata": {},
   "outputs": [
    {
     "name": "stdout",
     "output_type": "stream",
     "text": [
      "4\n",
      "3\n"
     ]
    }
   ],
   "source": [
    "# Mudando o caracter final\n",
    "print(x)\n",
    "print(y)"
   ]
  },
  {
   "cell_type": "code",
   "execution_count": 36,
   "id": "ab8de4b7",
   "metadata": {},
   "outputs": [
    {
     "name": "stdout",
     "output_type": "stream",
     "text": [
      "4/3\n"
     ]
    }
   ],
   "source": [
    "print(x, end='/')\n",
    "print(y)"
   ]
  },
  {
   "cell_type": "markdown",
   "id": "331be617",
   "metadata": {
    "slideshow": {
     "slide_type": "fragment"
    }
   },
   "source": [
    "### F-string\n",
    "\n",
    "Existem várias formas de controlar a formatação da saída.\n",
    "Uma delas é utilizando as chamadas \"f-strings\"."
   ]
  },
  {
   "cell_type": "markdown",
   "id": "b43d3206",
   "metadata": {
    "slideshow": {
     "slide_type": "-"
    }
   },
   "source": [
    "**Controlando quantas casas decimais serão impressas:**"
   ]
  },
  {
   "cell_type": "code",
   "execution_count": 6,
   "id": "9128d20c",
   "metadata": {},
   "outputs": [
    {
     "name": "stdout",
     "output_type": "stream",
     "text": [
      "O valor de y é 1.6666666666666667\n"
     ]
    }
   ],
   "source": [
    "print(f'O valor de y é {y}')"
   ]
  },
  {
   "cell_type": "code",
   "execution_count": 7,
   "id": "da2a5248",
   "metadata": {
    "slideshow": {
     "slide_type": "-"
    }
   },
   "outputs": [
    {
     "name": "stdout",
     "output_type": "stream",
     "text": [
      "O valor de y com 2 casas decimais é 1.67. Agora com 4 casas: 1.6667\n"
     ]
    }
   ],
   "source": [
    "print(f'O valor de y com 2 casas decimais é {y:.2f}. Agora com 4 casas: {y:.4f}')"
   ]
  },
  {
   "cell_type": "markdown",
   "id": "f9b95232",
   "metadata": {
    "slideshow": {
     "slide_type": "fragment"
    }
   },
   "source": [
    "**Executando código dentro da string:**"
   ]
  },
  {
   "cell_type": "code",
   "execution_count": 14,
   "id": "0d63724b",
   "metadata": {
    "slideshow": {
     "slide_type": "-"
    }
   },
   "outputs": [
    {
     "name": "stdout",
     "output_type": "stream",
     "text": [
      "O valor de 10y é 20.00\n"
     ]
    }
   ],
   "source": [
    "print(f'O valor de 10y é {10*y:.2f}')"
   ]
  },
  {
   "cell_type": "markdown",
   "id": "c1b35449",
   "metadata": {
    "slideshow": {
     "slide_type": "fragment"
    }
   },
   "source": [
    "**Outras formatações de números:**"
   ]
  },
  {
   "cell_type": "code",
   "execution_count": 21,
   "id": "af08a6b9",
   "metadata": {
    "slideshow": {
     "slide_type": "-"
    }
   },
   "outputs": [
    {
     "name": "stdout",
     "output_type": "stream",
     "text": [
      "Imprimindo y com 6 caracteres no total, sendo 2 casas decimais:   1.67\n",
      "Imprimindo y com 6 caracteres no total, preenchendo de zeros à esquerda e 2 casas decimais: 001.67\n",
      "Convertendo para porcentagem com 2 casas decimais: 166.67%\n"
     ]
    }
   ],
   "source": [
    "print(f'Imprimindo y com 6 caracteres no total, sendo 2 casas decimais: {y:6.2f}')\n",
    "print(f'Imprimindo y com 6 caracteres no total, preenchendo de zeros à esquerda e 2 casas decimais: {y:06.2f}')\n",
    "print(f'Convertendo para porcentagem com 2 casas decimais: {y:.2%}')"
   ]
  },
  {
   "cell_type": "markdown",
   "id": "86b2a8a9",
   "metadata": {
    "slideshow": {
     "slide_type": "slide"
    }
   },
   "source": [
    "## Tipos básicos de dados (simples)"
   ]
  },
  {
   "cell_type": "markdown",
   "id": "47b7cbdc",
   "metadata": {
    "slideshow": {
     "slide_type": "-"
    }
   },
   "source": [
    "O Python possui os seguintes tipos de dados:\n",
    "\n",
    "* Número inteiro (int)\n",
    "* Número real (float)\n",
    "* String (str)\n",
    "* Lógico (bool)"
   ]
  },
  {
   "cell_type": "code",
   "execution_count": 21,
   "id": "a1d6f487",
   "metadata": {
    "slideshow": {
     "slide_type": "fragment"
    }
   },
   "outputs": [
    {
     "name": "stdout",
     "output_type": "stream",
     "text": [
      "<class 'int'>\n",
      "<class 'float'>\n",
      "<class 'str'>\n",
      "<class 'bool'>\n"
     ]
    }
   ],
   "source": [
    "print( type(42) )\n",
    "print( type(3.14) )\n",
    "print( type('Um texto') )\n",
    "print( type(True) )"
   ]
  },
  {
   "cell_type": "code",
   "execution_count": 19,
   "id": "154b724b",
   "metadata": {},
   "outputs": [
    {
     "name": "stdout",
     "output_type": "stream",
     "text": [
      "23\n",
      "<class 'str'>\n"
     ]
    }
   ],
   "source": [
    "x = input()\n",
    "print(type(x))"
   ]
  },
  {
   "cell_type": "markdown",
   "id": "4f86f5f3",
   "metadata": {
    "slideshow": {
     "slide_type": "subslide"
    }
   },
   "source": [
    "**Conversão entre tipos de dados:**"
   ]
  },
  {
   "cell_type": "code",
   "execution_count": 14,
   "id": "470b5c6b",
   "metadata": {
    "slideshow": {
     "slide_type": "-"
    }
   },
   "outputs": [
    {
     "name": "stdin",
     "output_type": "stream",
     "text": [
      "Entre com um numero: 3.14\n"
     ]
    },
    {
     "name": "stdout",
     "output_type": "stream",
     "text": [
      "3.14\n",
      "<class 'float'>\n"
     ]
    }
   ],
   "source": [
    "x = float(input('Entre com um numero:'))\n",
    "print(x)\n",
    "print(type(x))\n",
    "\n",
    "#x = int(float(\"3.14\"))\n",
    "#print(x)"
   ]
  },
  {
   "cell_type": "markdown",
   "id": "4fa77a67",
   "metadata": {},
   "source": [
    "## Variáveis\n",
    "\n",
    "É recomendado utilizar nomes de variáveis que descrevam bem a informação armazenada nela.\n",
    "\n",
    "Por exemplo:\n",
    "\n",
    "* idade\n",
    "* nome\n",
    "* salario\n",
    "* concentracao\n",
    "\n",
    "Caso a sigla seja bem conhecida, também pode-se utilizá-la, levando sempre em consideração a legibilidade e clareza:\n",
    "\n",
    "* H2O\n",
    "* g\n",
    "* x\n",
    "* Vmax\n",
    "\n",
    "O nome de uma variável deve obedecer às seguintes regras:\n",
    "\n",
    "* Começar com uma letra ou _\n",
    "* Conter apenas caracteres alfanuméricos (a-z, A-Z, 0-9) e _\n",
    "* Não pode conter acentos, ou outros símbolos ($, #, *, ?, etc)\n",
    "* As variáveis são sensíveis à letra maíscula e minúscula. Ou seja, \"x\" e \"X\" são variáveis diferentes.\n"
   ]
  },
  {
   "cell_type": "markdown",
   "id": "45c60cc3",
   "metadata": {},
   "source": [
    "# Exercício 1\n",
    "\n",
    "Crie um programa que leia três números fornecidos pelo usuário e calcule a média deles."
   ]
  },
  {
   "cell_type": "code",
   "execution_count": 15,
   "id": "48990c48",
   "metadata": {},
   "outputs": [
    {
     "name": "stdin",
     "output_type": "stream",
     "text": [
      "Entre com o primeiro numero: 2\n",
      "Entre com o segundo numero: 3\n",
      "Entre com o terceiro numero: 5\n"
     ]
    },
    {
     "name": "stdout",
     "output_type": "stream",
     "text": [
      "3.3333333333333335\n"
     ]
    }
   ],
   "source": [
    "x = float(input('Entre com o primeiro numero:'))\n",
    "y = float(input('Entre com o segundo numero:'))\n",
    "z = float(input('Entre com o terceiro numero:'))\n",
    "media = (x + y + z)/3\n",
    "print(media)"
   ]
  },
  {
   "cell_type": "markdown",
   "id": "ac8e39d0",
   "metadata": {
    "tags": []
   },
   "source": [
    "# Exercício 2\n",
    "\n",
    "crie um programa que leia o valor de $x$ e calcule:\n",
    "\n",
    "$f(x) = x^2 - (x + 5)*2$\n",
    "\n",
    "Imprima o valor de $f(x)$"
   ]
  },
  {
   "cell_type": "code",
   "execution_count": 20,
   "id": "503252b0",
   "metadata": {},
   "outputs": [
    {
     "name": "stdin",
     "output_type": "stream",
     "text": [
      "Digite o valor de x: 3\n"
     ]
    },
    {
     "name": "stdout",
     "output_type": "stream",
     "text": [
      "O valor de f(x) é  11.0\n",
      "O valor de f(3.0) é 11.0\n"
     ]
    }
   ],
   "source": [
    "x = float(input('Digite o valor de x:'))\n",
    "y = x**2 - x + 5\n",
    "print('O valor de f(x) é ', y)\n",
    "print(f'O valor de f({x}) é {y}')"
   ]
  },
  {
   "cell_type": "markdown",
   "id": "ea674d27",
   "metadata": {
    "tags": []
   },
   "source": [
    "# Exercício 3\n",
    "\n",
    "Qual a saída do código abaixo:\n",
    "\n",
    "```python\n",
    "x = 10\n",
    "y = x-6\n",
    "z = (x+5)*y/2\n",
    "print(z)\n",
    "```"
   ]
  },
  {
   "cell_type": "code",
   "execution_count": null,
   "id": "6bd72d79",
   "metadata": {},
   "outputs": [],
   "source": []
  },
  {
   "cell_type": "markdown",
   "id": "9841ba7f",
   "metadata": {},
   "source": [
    "# Exercício 4\n",
    "\n",
    "Qual(s) dos nomes abaixo não pode(m) ser utilizado(s) para nomear uma variável:\n",
    "\n",
    "* nome\n",
    "* rua\n",
    "* concentração\n",
    "* _x\n",
    "* [H2]\n",
    "* massa molar\n",
    "* OH-\n",
    "* 2022_agosto"
   ]
  },
  {
   "cell_type": "markdown",
   "id": "8bc2b34e",
   "metadata": {
    "slideshow": {
     "slide_type": "slide"
    }
   },
   "source": [
    "# Exemplo"
   ]
  },
  {
   "cell_type": "markdown",
   "id": "83b36f86",
   "metadata": {},
   "source": [
    "Um carro A viaja de Ouro Branco à Belo Horizonte a uma velocidade de 80km/h.\n",
    "\n",
    "Outro carro B viaja de Belo Horizonte à Ouro Branco a uma velocidade de 100km/h.\n",
    "\n",
    "Sabendo que a distância entre as cidades é de 100km e que eles saíram no mesmo horário, em qual quilômetro eles irão se encontrar?\n",
    "\n",
    "https://www.sofisica.com.br/conteudos/Mecanica/Cinematica/mu.php"
   ]
  },
  {
   "cell_type": "markdown",
   "id": "01c376d2",
   "metadata": {},
   "source": [
    "## Solução"
   ]
  },
  {
   "cell_type": "markdown",
   "id": "4e9eecc0",
   "metadata": {
    "slideshow": {
     "slide_type": "subslide"
    }
   },
   "source": [
    "Sabemos que a equação de um movimento uniforme é dado por:\n",
    "\n",
    "\\begin{equation}\n",
    "S_{final} = S_{inicial} + v \\Delta t\n",
    "\\end{equation}"
   ]
  },
  {
   "cell_type": "markdown",
   "id": "37fefe24",
   "metadata": {
    "slideshow": {
     "slide_type": "subslide"
    }
   },
   "source": [
    "Temos que:\n",
    "\n",
    "Para o carro A:\n",
    "\n",
    "* $S^A_{inicial} = 0$\n",
    "* $v_A = 80$\n",
    "\n",
    "Para o carro B:\n",
    "\n",
    "* $S^B_{inicial} = 100$\n",
    "* $v_B = -100$\n",
    "\n",
    "E finalmente:\n",
    "\n",
    "* $S^A_{final} = S^B_{final}$\n",
    "* $\\Delta t_A = \\Delta t_B$\n"
   ]
  },
  {
   "cell_type": "markdown",
   "id": "f468cc7b",
   "metadata": {
    "slideshow": {
     "slide_type": "subslide"
    }
   },
   "source": [
    "Substituindo os valores chegamos em:\n",
    "  \n",
    "$S^A_{inicial} + v_A \\Delta t = S^B_{inicial} + v_B \\Delta t$\n",
    "\n",
    "Ou seja:\n",
    "\n",
    "$\\Delta t = \\dfrac{S^B_{inicial} - S^A_{inicial}}{v_A - v_B}$\n",
    "\n",
    "E:\n",
    "\n",
    "$S_{final} = S^A_{inicial} + v_A \\Delta t$"
   ]
  },
  {
   "cell_type": "code",
   "execution_count": 22,
   "id": "d89a25d9",
   "metadata": {},
   "outputs": [
    {
     "name": "stdout",
     "output_type": "stream",
     "text": [
      "0.5555555555555556\n",
      "44.44444444444444\n"
     ]
    }
   ],
   "source": [
    "SBinicial = 100\n",
    "SAinicial = 0\n",
    "va = 80\n",
    "vb = -100\n",
    "Delta_t = (SBinicial - SAinicial)/(va - vb)\n",
    "print(Delta_t)\n",
    "Sfinal = SAinicial + va*Delta_t\n",
    "print(Sfinal)"
   ]
  }
 ],
 "metadata": {
  "kernelspec": {
   "display_name": "Python 3 (ipykernel)",
   "language": "python",
   "name": "python3"
  },
  "language_info": {
   "codemirror_mode": {
    "name": "ipython",
    "version": 3
   },
   "file_extension": ".py",
   "mimetype": "text/x-python",
   "name": "python",
   "nbconvert_exporter": "python",
   "pygments_lexer": "ipython3",
   "version": "3.9.12"
  },
  "latex_envs": {
   "LaTeX_envs_menu_present": true,
   "autoclose": true,
   "autocomplete": true,
   "bibliofile": "biblio.bib",
   "cite_by": "apalike",
   "current_citInitial": 1,
   "eqLabelWithNumbers": true,
   "eqNumInitial": 1,
   "hotkeys": {
    "equation": "Ctrl-E",
    "itemize": "Ctrl-I"
   },
   "labels_anchors": false,
   "latex_user_defs": false,
   "report_style_numbering": false,
   "user_envs_cfg": false
  }
 },
 "nbformat": 4,
 "nbformat_minor": 5
}
