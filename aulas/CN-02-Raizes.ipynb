{
 "cells": [
  {
   "cell_type": "markdown",
   "metadata": {
    "id": "pZ_auPzzPMTU",
    "slideshow": {
     "slide_type": "slide"
    }
   },
   "source": [
    "# Raízes (ou zeros)"
   ]
  },
  {
   "cell_type": "markdown",
   "metadata": {
    "id": "68mJuLu3d24S",
    "slideshow": {
     "slide_type": "slide"
    }
   },
   "source": [
    "## Motivação: Exemplo do saltador de Bungee jumping\n",
    "\n",
    "CHAPRA, S. C. \"Métodos numéricos aplicados com MATLAB para engenheiros e cientistas\" "
   ]
  },
  {
   "cell_type": "markdown",
   "metadata": {
    "slideshow": {
     "slide_type": "subslide"
    }
   },
   "source": [
    "### Definição do problema\n",
    "\n",
    "Encontre a massa que faz com que um saltador de bungee jumping ultrapasse a velocidade de 36m/s após 4s de queda livre.\n",
    "\n",
    "A velocidade é dada pela equação:\n",
    "\n",
    "\\begin{equation} \\label{eq:jump1}\n",
    "v(t) = \\sqrt{\\dfrac{gm}{c_d}}\\tanh\\left( \\sqrt{\\dfrac{gc_d}{m}t}\\right)\n",
    "\\end{equation}\n",
    "\n",
    "Suponha que:\n",
    "\n",
    "* $c_d = 0.25 kg/m$\n",
    "* $g = 9.8m/s^2$"
   ]
  },
  {
   "cell_type": "markdown",
   "metadata": {
    "slideshow": {
     "slide_type": "-"
    }
   },
   "source": [
    "### Primeira tentativa\n",
    "\n",
    "Isolar $m$ da equação \\ref{eq:jump1}\n",
    "\n",
    "$\n",
    "m = f(v,g,c_d,t)\n",
    "$\n",
    "\n",
    "Porém, é muito difícil manipular a eq. \\ref{eq:jump1} e isolar $m$!\n"
   ]
  },
  {
   "cell_type": "markdown",
   "metadata": {
    "slideshow": {
     "slide_type": "subslide"
    }
   },
   "source": [
    "## Solução\n",
    "\n",
    "### Criando uma nova função\n",
    "\n",
    "\\begin{equation} \\label{eq:jump2}\n",
    "f(m) = \\sqrt{\\dfrac{gm}{c_d}}\\tanh\\left( \\sqrt{\\dfrac{gc_d}{m}t}\\right) -v(t)\n",
    "\\end{equation}\n",
    "\n",
    "Transformamos o problema original em encontrar as raízes (zeros) de $f(m)$!"
   ]
  },
  {
   "cell_type": "markdown",
   "metadata": {
    "id": "2ftk7LUNRVIQ",
    "slideshow": {
     "slide_type": "slide"
    }
   },
   "source": [
    "# Método da força bruta\n",
    "\n",
    "* O mais simples deles\n",
    "* Baixa precisão\n",
    "* Consiste em determinar diversos valores de $f(m)$ e inspecionar manualmente\n",
    "\n",
    "\\begin{equation} \n",
    "f(m) = \\sqrt{\\dfrac{gm}{c_d}}\\tanh\\left( \\sqrt{\\dfrac{gc_d}{m}t}\\right) -v(t)\n",
    "\\end{equation}"
   ]
  },
  {
   "cell_type": "code",
   "execution_count": 297,
   "metadata": {
    "slideshow": {
     "slide_type": "-"
    }
   },
   "outputs": [],
   "source": [
    "import math as m\n",
    "import numpy as np"
   ]
  },
  {
   "cell_type": "code",
   "execution_count": 298,
   "metadata": {
    "slideshow": {
     "slide_type": "-"
    }
   },
   "outputs": [
    {
     "name": "stdout",
     "output_type": "stream",
     "text": [
      "140.0   -0.09060434314937282\n",
      "140.1   -0.08849141502955149\n",
      "140.2   -0.08638119906325414\n",
      "140.29999999999998   -0.08427369003094753\n",
      "140.39999999999998   -0.08216888272647083\n",
      "140.49999999999997   -0.08006677195702139\n",
      "140.59999999999997   -0.07796735254308373\n",
      "140.69999999999996   -0.07587061931840822\n",
      "140.79999999999995   -0.07377656712997549\n",
      "140.89999999999995   -0.07168519083791836\n",
      "140.99999999999994   -0.06959648531551466\n",
      "141.09999999999994   -0.06751044544913043\n",
      "141.19999999999993   -0.06542706613816307\n",
      "141.29999999999993   -0.06334634229506975\n",
      "141.39999999999992   -0.061268268845189766\n",
      "141.49999999999991   -0.05919284072686537\n",
      "141.5999999999999   -0.057120052891292517\n",
      "141.6999999999999   -0.05504990030249246\n",
      "141.7999999999999   -0.05298237793731175\n",
      "141.8999999999999   -0.05091748078533698\n",
      "141.9999999999999   -0.04885520384890896\n",
      "142.09999999999988   -0.04679554214300197\n",
      "142.19999999999987   -0.04473849069527347\n",
      "142.29999999999987   -0.042684044545957534\n",
      "142.39999999999986   -0.04063219874783641\n",
      "142.49999999999986   -0.038582948366254755\n",
      "142.59999999999985   -0.0365362884789846\n",
      "142.69999999999985   -0.03449221417628223\n",
      "142.79999999999984   -0.032450720560781576\n",
      "142.89999999999984   -0.03041180274749422\n",
      "142.99999999999983   -0.028375455863738352\n",
      "143.09999999999982   -0.026341675049131652\n",
      "143.19999999999982   -0.024310455455534452\n",
      "143.2999999999998   -0.022281792247\n",
      "143.3999999999998   -0.020255680599781556\n",
      "143.4999999999998   -0.01823211570223293\n",
      "143.5999999999998   -0.01621109275480137\n",
      "143.6999999999998   -0.01419260697003466\n",
      "143.79999999999978   -0.012176653572424812\n",
      "143.89999999999978   -0.01016322779850043\n",
      "143.99999999999977   -0.008152324896713026\n",
      "144.09999999999977   -0.0061439401274157035\n",
      "144.19999999999976   -0.004138068762834735\n",
      "144.29999999999976   -0.0021347060870127166\n",
      "144.39999999999975   -0.00013384739578725657\n",
      "144.49999999999974   0.001864512003209029\n",
      "144.59999999999974   0.003860376790690623\n",
      "144.69999999999973   0.005853751635626736\n",
      "144.79999999999973   0.007844641195383417\n",
      "144.89999999999972   0.009833050115702235\n",
      "144.99999999999972   0.011818983030735808\n",
      "145.0999999999997   0.013802444563118854\n",
      "145.1999999999997   0.015783439324003723\n",
      "145.2999999999997   0.01776197191300355\n",
      "145.3999999999997   0.019738046918376995\n",
      "145.4999999999997   0.021711668916957194\n",
      "145.59999999999968   0.023682842474215704\n",
      "145.69999999999968   0.025651572144305135\n",
      "145.79999999999967   0.027617862470087573\n",
      "145.89999999999966   0.029581717983155897\n",
      "145.99999999999966   0.03154314320391194\n",
      "146.09999999999965   0.03350214264156648\n",
      "146.19999999999965   0.03545872079414636\n",
      "146.29999999999964   0.03741288214860106\n",
      "146.39999999999964   0.039364631180795584\n",
      "146.49999999999963   0.041313972355510487\n",
      "146.59999999999962   0.043260910126562635\n",
      "146.69999999999962   0.04520544893675549\n",
      "146.7999999999996   0.04714759321795725\n",
      "146.8999999999996   0.049087347391136404\n",
      "146.9999999999996   0.05102471586636881\n",
      "147.0999999999996   0.05295970304287323\n",
      "147.1999999999996   0.0548923133090895\n",
      "147.29999999999959   0.05682255104265721\n",
      "147.39999999999958   0.058750420610465426\n",
      "147.49999999999957   0.06067592636871666\n",
      "147.59999999999957   0.06259907266290554\n",
      "147.69999999999956   0.06451986382790409\n",
      "147.79999999999956   0.0664383041879475\n",
      "147.89999999999955   0.06835439805671228\n",
      "147.99999999999955   0.07026814973730211\n",
      "148.09999999999954   0.07217956352233301\n",
      "148.19999999999953   0.0740886436938979\n",
      "148.29999999999953   0.075995394523666\n",
      "148.39999999999952   0.07789982027288289\n",
      "148.49999999999952   0.07980192519239182\n",
      "148.5999999999995   0.08170171352269051\n",
      "148.6999999999995   0.0835991894939383\n",
      "148.7999999999995   0.08549435732601296\n",
      "148.8999999999995   0.08738722122852494\n",
      "148.9999999999995   0.08927778540083153\n",
      "149.09999999999948   0.09116605403215061\n",
      "149.19999999999948   0.0930520313014469\n",
      "149.29999999999947   0.09493572137758832\n",
      "149.39999999999947   0.09681712841935308\n",
      "149.49999999999946   0.09869625657541548\n",
      "149.59999999999945   0.10057310998440272\n",
      "149.69999999999945   0.10244769277491628\n",
      "149.79999999999944   0.10432000906561001\n",
      "149.89999999999944   0.10619006296514044\n",
      "149.99999999999943   0.10805785857225203\n",
      "150.09999999999943   0.10992339997579137\n",
      "150.19999999999942   0.11178669125474983\n",
      "150.29999999999941   0.11364773647825643\n",
      "150.3999999999994   0.11550653970567026\n",
      "150.4999999999994   0.11736310498653779\n",
      "150.5999999999994   0.11921743636067106\n",
      "150.6999999999994   0.12106953785817609\n",
      "150.7999999999994   0.12291941349942448\n",
      "150.89999999999938   0.12476706729518838\n",
      "150.99999999999937   0.12661250324656947\n",
      "151.09999999999937   0.1284557253450629\n",
      "151.19999999999936   0.13029673757263538\n",
      "151.29999999999936   0.13213554390164006\n",
      "151.39999999999935   0.13397214829495852\n",
      "151.49999999999935   0.13580655470598657\n",
      "151.59999999999934   0.1376387670786272\n",
      "151.69999999999933   0.13946878934739715\n",
      "151.79999999999933   0.14129662543736998\n",
      "151.89999999999932   0.14312227926426857\n",
      "151.99999999999932   0.1449457547344437\n",
      "152.0999999999993   0.1467670557449594\n",
      "152.1999999999993   0.14858618618355734\n",
      "152.2999999999993   0.15040314992873505\n",
      "152.3999999999993   0.15221795084974588\n",
      "152.4999999999993   0.15403059280664166\n",
      "152.59999999999928   0.15584107965029403\n",
      "152.69999999999928   0.1576494152223873\n",
      "152.79999999999927   0.159455603355525\n",
      "152.89999999999927   0.16125964787319447\n",
      "152.99999999999926   0.16306155258978805\n",
      "153.09999999999926   0.16486132131068132\n",
      "153.19999999999925   0.16665895783222595\n",
      "153.29999999999924   0.16845446594176394\n",
      "153.39999999999924   0.17024784941768445\n",
      "153.49999999999923   0.172039112029438\n",
      "153.59999999999923   0.17382825753755782\n",
      "153.69999999999922   0.17561528969368823\n",
      "153.79999999999922   0.1774002122406344\n",
      "153.8999999999992   0.17918302891231264\n"
     ]
    }
   ],
   "source": [
    "g = 9.8\n",
    "cd = 0.25\n",
    "v = 36\n",
    "t = 4\n",
    "for massa in np.arange(140.0,154.0,0.1):\n",
    "    fm = m.sqrt( g*massa/cd ) * m.tanh( m.sqrt( g*cd/massa ) * t ) - v\n",
    "    print(massa, ' ', fm)"
   ]
  },
  {
   "cell_type": "markdown",
   "metadata": {
    "slideshow": {
     "slide_type": "-"
    }
   },
   "source": [
    "<div class=\"alert alert-block alert-info\">Analisando os dados, vemos que a raíz encontra-se entre 144kg e 145kg.</div>"
   ]
  },
  {
   "cell_type": "markdown",
   "metadata": {
    "id": "GR0av0UJPUXa",
    "slideshow": {
     "slide_type": "slide"
    }
   },
   "source": [
    "# Método gráfico\n",
    "\n",
    "* Um pouco mais refinado\n",
    "* Permite analisar melhor a função\n",
    "* Ainda é manual\n",
    "* Baixa precisão"
   ]
  },
  {
   "cell_type": "code",
   "execution_count": 43,
   "metadata": {
    "slideshow": {
     "slide_type": "-"
    }
   },
   "outputs": [],
   "source": [
    "import matplotlib.pyplot as plt\n",
    "import mplcursors\n",
    "%matplotlib widget"
   ]
  },
  {
   "cell_type": "code",
   "execution_count": 44,
   "metadata": {
    "slideshow": {
     "slide_type": "-"
    }
   },
   "outputs": [
    {
     "data": {
      "text/plain": [
       "<mplcursors._mplcursors.Cursor at 0x19fd2791ab0>"
      ]
     },
     "execution_count": 44,
     "metadata": {},
     "output_type": "execute_result"
    },
    {
     "data": {
      "application/vnd.jupyter.widget-view+json": {
       "model_id": "60641e8d354145529b29f6d953c9ccb0",
       "version_major": 2,
       "version_minor": 0
      },
      "image/png": "[encoded data removed]",
      "text/html": [
       "\n",
       "            <div style=\"display: inline-block;\">\n",
       "                <div class=\"jupyter-widgets widget-label\" style=\"text-align: center;\">\n",
       "                    Figure\n",
       "                </div>\n",
       "                <img src='data:image/png;base64,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' width=432.0/>\n",
       "            </div>\n",
       "        "
      ],
      "text/plain": [
       "Canvas(toolbar=Toolbar(toolitems=[('Home', 'Reset original view', 'home', 'home'), ('Back', 'Back to previous …"
      ]
     },
     "metadata": {},
     "output_type": "display_data"
    }
   ],
   "source": [
    "g = 9.8\n",
    "cd = 0.25\n",
    "v = 36\n",
    "t = 4\n",
    "massa = np.arange(1,200, 0.5)\n",
    "fm = np.sqrt( g*massa/cd ) * np.tanh( np.sqrt( g*cd/massa ) * t ) - v\n",
    "\n",
    "plt.plot(massa, fm)\n",
    "mplcursors.cursor(hover=True)"
   ]
  },
  {
   "cell_type": "markdown",
   "metadata": {
    "slideshow": {
     "slide_type": "slide"
    }
   },
   "source": [
    "# Utilizando bibliotecas nativas\n",
    "\n",
    "* Alta precisão\n",
    "* Simples\n",
    "* É preciso entender **quando elas falham!**"
   ]
  },
  {
   "cell_type": "code",
   "execution_count": 315,
   "metadata": {
    "id": "_zMWUmRzRakl",
    "slideshow": {
     "slide_type": "slide"
    }
   },
   "outputs": [
    {
     "data": {
      "text/plain": [
       "2.23606797749979"
      ]
     },
     "execution_count": 315,
     "metadata": {},
     "output_type": "execute_result"
    }
   ],
   "source": [
    "import numpy as np\n",
    "from scipy.optimize import fsolve\n",
    "np.sqrt(5)"
   ]
  },
  {
   "cell_type": "code",
   "execution_count": 303,
   "metadata": {
    "id": "83GCdTVPR5f6",
    "slideshow": {
     "slide_type": "-"
    }
   },
   "outputs": [],
   "source": [
    "def jump(massa):\n",
    "    g = 9.8\n",
    "    cd = 0.25\n",
    "    v = 36\n",
    "    t = 4\n",
    "    fm = np.sqrt( g*massa/cd ) * np.tanh( np.sqrt( g*cd/massa ) * t ) - v\n",
    "    return fm"
   ]
  },
  {
   "cell_type": "code",
   "execution_count": 317,
   "metadata": {
    "colab": {
     "base_uri": "https://localhost:8080/"
    },
    "id": "sHNuyppeR_kz",
    "outputId": "e3f50fe6-7469-4eec-d6bc-12a7f493a903",
    "slideshow": {
     "slide_type": "-"
    }
   },
   "outputs": [
    {
     "name": "stdout",
     "output_type": "stream",
     "text": [
      "[144.40669396]\n"
     ]
    }
   ],
   "source": [
    "root = fsolve(jump, 100)\n",
    "print(root)"
   ]
  },
  {
   "cell_type": "markdown",
   "metadata": {
    "id": "hu_wvoR_PkFR",
    "slideshow": {
     "slide_type": "slide"
    }
   },
   "source": [
    "# Métodos intervalares"
   ]
  },
  {
   "cell_type": "markdown",
   "metadata": {
    "slideshow": {
     "slide_type": "-"
    }
   },
   "source": [
    "Buscam a solução a partir de um intervalo inicial (delimitam a raíz)."
   ]
  },
  {
   "cell_type": "markdown",
   "metadata": {
    "slideshow": {
     "slide_type": "slide"
    }
   },
   "source": [
    "## Método da busca incremental"
   ]
  },
  {
   "cell_type": "markdown",
   "metadata": {
    "slideshow": {
     "slide_type": "subslide"
    }
   },
   "source": [
    "<div>\n",
    "<img src=\"figuras/raizes_buscaincremental.svg\" width=\"500\"/>\n",
    "</div>"
   ]
  },
  {
   "cell_type": "markdown",
   "metadata": {
    "slideshow": {
     "slide_type": "subslide"
    }
   },
   "source": [
    "No método de busca incremental, partimos de um intervalo dado por:\n",
    "\n",
    "* $x_l$: limite inferior do intervalo\n",
    "* $x_u$: limite superior do intervalo\n",
    "* $f(x_l)f(x_u) < 0$: garantia da existência de uma raíz no intervalo\n",
    "\n",
    "Partindo de um dos limites, verificamos se a função muda de sinal entre as posições $x_i$ e $x_{i+1}$.\n",
    "Caso mude, dizemos que a raíz encontra-se entre esses pontos, caso contrário, avançamos um passo.\n",
    "\n",
    "A distância entre cada par de pontos é chamada de passo (h).\n",
    "\n",
    "O algoritmo termina quando a condição $f(x_i)f(x_{i+1}) < 0$ é satisfeita."
   ]
  },
  {
   "cell_type": "code",
   "execution_count": 318,
   "metadata": {
    "slideshow": {
     "slide_type": "subslide"
    }
   },
   "outputs": [],
   "source": [
    "from numpy import sin\n",
    "from numpy import cos\n",
    "# funcao que queremos determinar as raizes\n",
    "def funcao(x):\n",
    "    return sin(10*x) + cos(3*x)"
   ]
  },
  {
   "cell_type": "code",
   "execution_count": 262,
   "metadata": {
    "slideshow": {
     "slide_type": "fragment"
    }
   },
   "outputs": [
    {
     "data": {
      "text/plain": [
       "[<matplotlib.lines.Line2D at 0x21259b0dc30>]"
      ]
     },
     "execution_count": 262,
     "metadata": {},
     "output_type": "execute_result"
    },
    {
     "data": {
      "image/png": "[encoded data removed]",
      "text/plain": [
       "<Figure size 432x288 with 1 Axes>"
      ]
     },
     "metadata": {
      "needs_background": "light"
     },
     "output_type": "display_data"
    }
   ],
   "source": [
    "import matplotlib.pyplot as plt\n",
    "import numpy as np\n",
    "X = np.linspace(3,6,100)\n",
    "Y = funcao(X)\n",
    "plt.plot(X,Y)"
   ]
  },
  {
   "cell_type": "code",
   "execution_count": 330,
   "metadata": {
    "code_folding": [],
    "slideshow": {
     "slide_type": "fragment"
    }
   },
   "outputs": [],
   "source": [
    "def buscaincremental(f, h, xl, xu):\n",
    "    '''\n",
    "    Algoritmo de busca incremental. \n",
    "    @f: função que desejamos achar a raíz\n",
    "    @h: valor do passo\n",
    "    @xl: limite inferior\n",
    "    @xu: limite superior\n",
    "    '''\n",
    "    xi = xl\n",
    "    while( f(xi)*f(xi+h) > 0):\n",
    "        xi += h\n",
    "        print(f'{xi:6.2f} {f(xi):.4f} {f(xi+h):.4f}')\n",
    "    return xi  "
   ]
  },
  {
   "cell_type": "code",
   "execution_count": 331,
   "metadata": {
    "slideshow": {
     "slide_type": "fragment"
    }
   },
   "outputs": [
    {
     "name": "stdout",
     "output_type": "stream",
     "text": [
      "  3.02 -1.8719 -1.8039\n",
      "  3.04 -1.8039 -1.6986\n",
      "  3.06 -1.6986 -1.5607\n",
      "  3.08 -1.5607 -1.3963\n",
      "  3.10 -1.3963 -1.2122\n",
      "  3.12 -1.2122 -1.0159\n",
      "  3.14 -1.0159 -0.8154\n",
      "  3.16 -0.8154 -0.6187\n",
      "  3.18 -0.6187 -0.4333\n",
      "  3.20 -0.4333 -0.2663\n",
      "  3.22 -0.2663 -0.1240\n",
      "  3.24 -0.1240 -0.0114\n",
      "  3.26 -0.0114 0.0676\n"
     ]
    },
    {
     "data": {
      "text/plain": [
       "3.2600000000000002"
      ]
     },
     "execution_count": 331,
     "metadata": {},
     "output_type": "execute_result"
    }
   ],
   "source": [
    "buscaincremental(funcao, 0.02, 3, 6)"
   ]
  },
  {
   "cell_type": "code",
   "execution_count": 254,
   "metadata": {
    "slideshow": {
     "slide_type": "fragment"
    }
   },
   "outputs": [
    {
     "name": "stdout",
     "output_type": "stream",
     "text": [
      "[3.26242314]\n"
     ]
    }
   ],
   "source": [
    "root = fsolve(funcao, 3.2)\n",
    "print(root)"
   ]
  },
  {
   "cell_type": "markdown",
   "metadata": {
    "slideshow": {
     "slide_type": "fragment"
    }
   },
   "source": [
    "Considerando que escolhemos o valor de $x_r = x_i$ para a raiz, qual o erro que podemos cometer nesta estimativa?"
   ]
  },
  {
   "cell_type": "markdown",
   "metadata": {
    "slideshow": {
     "slide_type": "fragment"
    }
   },
   "source": [
    "Se escolhermos o valor $x_r = \\dfrac{x_i + x_{i+1}}{2}$ para a raiz, qual o maior erro que podemos cometer?"
   ]
  },
  {
   "cell_type": "markdown",
   "metadata": {
    "id": "xGpUrpg9Qp54",
    "slideshow": {
     "slide_type": "slide"
    }
   },
   "source": [
    "## Método da bissecção"
   ]
  },
  {
   "cell_type": "markdown",
   "metadata": {
    "slideshow": {
     "slide_type": "subslide"
    }
   },
   "source": [
    "<div>\n",
    "<img src=\"figuras/raizes_bisseccao.svg\" width=\"500\"/>\n",
    "</div>"
   ]
  },
  {
   "cell_type": "markdown",
   "metadata": {
    "slideshow": {
     "slide_type": "subslide"
    }
   },
   "source": [
    "O método da bissecção parte do fato que podemos usar o ponto médio do intervalo para realizar o teste de mudança de sinal.\n",
    "\n",
    "Desta forma, conseguimos saber em qual subintervalo se encontra a raíz."
   ]
  },
  {
   "cell_type": "code",
   "execution_count": 332,
   "metadata": {
    "slideshow": {
     "slide_type": "subslide"
    }
   },
   "outputs": [],
   "source": [
    "from math import sqrt\n",
    "from math import tanh\n",
    "def bjump(m):\n",
    "    cd = 0.25\n",
    "    g = 9.81\n",
    "    v = 36\n",
    "    t = 4\n",
    "    fm = sqrt(g*m/cd)*tanh(sqrt(g*cd/m)*t) - v\n",
    "    return fm"
   ]
  },
  {
   "cell_type": "code",
   "execution_count": 333,
   "metadata": {
    "slideshow": {
     "slide_type": "fragment"
    }
   },
   "outputs": [],
   "source": [
    "def bisseccao_laco_for(f, xl, xu, n):\n",
    "    '''\n",
    "    Executa o algoritmo de bisseccao n vezes.\n",
    "    @f: funcao que desejamos achar o zero\n",
    "    @xl: limite inferior\n",
    "    @xu: limite superior\n",
    "    @n: número de vezes que a bissecção será executada\n",
    "    '''\n",
    "    print('xl     xu     xr')\n",
    "    for i in range(n):\n",
    "        xr = (xl + xu)/2\n",
    "\n",
    "        print(f'{xl:6.2f} {xu:6.2f} {xr:6.2f}')\n",
    "        if (f(xl)*f(xr) < 0):\n",
    "            xu = xr\n",
    "        else:\n",
    "            xl = xr\n",
    "    return xr"
   ]
  },
  {
   "cell_type": "code",
   "execution_count": 268,
   "metadata": {
    "slideshow": {
     "slide_type": "fragment"
    }
   },
   "outputs": [],
   "source": [
    "def bisseccao(f, xl, xu, preci sao):\n",
    "    '''\n",
    "    Executa o algoritmo de bisseccao até a precisão especificada.\n",
    "    @f: funcao que desejamos achar o zero\n",
    "    @xl: limite inferior\n",
    "    @xu: limite superior\n",
    "    @precisao: precisao desejada\n",
    "    '''\n",
    "    print('xl     xu     xr')\n",
    "    while ( (xu - xl)/2 > precisao):\n",
    "        xr = (xl + xu)/2\n",
    "\n",
    "        print(f'{xl:6.2f} {xu:6.2f} {xr:6.2f}')\n",
    "        if (f(xl)*f(xr) < 0):\n",
    "            xu = xr\n",
    "        else:\n",
    "            xl = xr\n",
    "    return xr"
   ]
  },
  {
   "cell_type": "code",
   "execution_count": 336,
   "metadata": {
    "slideshow": {
     "slide_type": "fragment"
    }
   },
   "outputs": [
    {
     "name": "stdout",
     "output_type": "stream",
     "text": [
      "xl     xu     xr\n",
      " 50.00 200.00 125.00\n",
      "125.00 200.00 162.50\n",
      "125.00 162.50 143.75\n",
      "125.00 143.75 134.38\n",
      "134.38 143.75 139.06\n",
      "139.06 143.75 141.41\n",
      "141.41 143.75 142.58\n",
      "142.58 143.75 143.16\n",
      "142.58 143.16 142.87\n",
      "142.58 142.87 142.72\n"
     ]
    },
    {
     "data": {
      "text/plain": [
       "142.724609375"
      ]
     },
     "execution_count": 336,
     "metadata": {},
     "output_type": "execute_result"
    }
   ],
   "source": [
    "bisseccao_laco_for(bjump, 50, 200, 10)"
   ]
  },
  {
   "cell_type": "code",
   "execution_count": 277,
   "metadata": {
    "slideshow": {
     "slide_type": "fragment"
    }
   },
   "outputs": [
    {
     "name": "stdout",
     "output_type": "stream",
     "text": [
      "xl     xu     xr\n",
      " 50.00 200.00 125.00\n",
      "125.00 200.00 162.50\n",
      "125.00 162.50 143.75\n",
      "125.00 143.75 134.38\n",
      "134.38 143.75 139.06\n",
      "139.06 143.75 141.41\n",
      "141.41 143.75 142.58\n"
     ]
    },
    {
     "data": {
      "text/plain": [
       "142.578125"
      ]
     },
     "execution_count": 277,
     "metadata": {},
     "output_type": "execute_result"
    }
   ],
   "source": [
    "bisseccao(bjump, 50, 200, 1)"
   ]
  },
  {
   "cell_type": "markdown",
   "metadata": {
    "slideshow": {
     "slide_type": "fragment"
    }
   },
   "source": [
    "Sabendo que o valor exato da raiz é de 142,7376, calcule o erro verdadeiro cometido em cada iteração"
   ]
  },
  {
   "cell_type": "markdown",
   "metadata": {
    "slideshow": {
     "slide_type": "fragment"
    }
   },
   "source": [
    "O erro aproximado pode ser obtido a partir da fórmula:\n",
    "\n",
    "\\begin{equation} \\label{erroaproximado}\n",
    "|\\epsilon_a| = \\bigg | \\dfrac{x_r^{novo} - x_r^{velho}}{x_r^{novo}} \\bigg |\n",
    "\\end{equation}\n",
    "\n",
    "Calcule o erro aproximado para o exemplo anterior."
   ]
  },
  {
   "cell_type": "code",
   "execution_count": 337,
   "metadata": {
    "slideshow": {
     "slide_type": "fragment"
    }
   },
   "outputs": [],
   "source": [
    "import matplotlib.pyplot as plt\n",
    "def bisseccao2(f, xl, xu, precisao):\n",
    "    print('xl     xu     xr     ea     et')\n",
    "    xt = 142.7376\n",
    "    xvelho = (xu - xl)/2\n",
    "    et = []\n",
    "    ea = []\n",
    "    \n",
    "    while ( (xu - xl)/2 > precisao):\n",
    "        xr = (xl + xu)/2\n",
    "        \n",
    "        et.append(abs((xr - xt)/xt))\n",
    "        ea.append(abs((xr - xvelho)/xr))\n",
    "        xvelho = xr\n",
    "\n",
    "        print(f'{xl:6.2f} {xu:6.2f} {xr:6.2f} {ea[-1]:.2%} {et[-1]:.2%}')\n",
    "        if (f(xl)*f(xr) < 0):\n",
    "            xu = xr\n",
    "        else:\n",
    "            xl = xr\n",
    "    plt.plot(et)\n",
    "    plt.plot(ea, 'r')\n",
    "    return xr"
   ]
  },
  {
   "cell_type": "code",
   "execution_count": 155,
   "metadata": {
    "slideshow": {
     "slide_type": "fragment"
    }
   },
   "outputs": [
    {
     "name": "stdout",
     "output_type": "stream",
     "text": [
      "xl     xu     xr     ea     et\n",
      " 50.00 200.00 125.00 40.00% 12.43%\n",
      "125.00 200.00 162.50 23.08% 13.85%\n",
      "125.00 162.50 143.75 13.04% 0.71%\n",
      "125.00 143.75 134.38 6.98% 5.86%\n",
      "134.38 143.75 139.06 3.37% 2.57%\n",
      "139.06 143.75 141.41 1.66% 0.93%\n",
      "141.41 143.75 142.58 0.82% 0.11%\n",
      "142.58 143.75 143.16 0.41% 0.30%\n"
     ]
    },
    {
     "data": {
      "text/plain": [
       "143.1640625"
      ]
     },
     "execution_count": 155,
     "metadata": {},
     "output_type": "execute_result"
    },
    {
     "data": {
      "image/png": "[encoded data removed]",
      "text/plain": [
       "<Figure size 432x288 with 1 Axes>"
      ]
     },
     "metadata": {
      "needs_background": "light"
     },
     "output_type": "display_data"
    }
   ],
   "source": [
    "bisseccao2(bjump, 50, 200, 0.5)"
   ]
  },
  {
   "cell_type": "markdown",
   "metadata": {
    "id": "ra50_IOqQ4Gp",
    "slideshow": {
     "slide_type": "slide"
    }
   },
   "source": [
    "## Método da falsa posição"
   ]
  },
  {
   "cell_type": "markdown",
   "metadata": {
    "slideshow": {
     "slide_type": "slide"
    }
   },
   "source": [
    "<div>\n",
    "<img src=\"figuras/raizes_falsaposicao.svg\" width=\"500\"/>\n",
    "</div>"
   ]
  },
  {
   "cell_type": "markdown",
   "metadata": {
    "slideshow": {
     "slide_type": "subslide"
    }
   },
   "source": [
    "No método da bissecção utilizarmos o ponto médio $(x_l + x_u)/2$ como estimativa para a raiz.\n",
    "\n",
    "No método da falsa posição, ligamos uma reta entre os pontos $(x_l, f(x_l) )$ e $(x_u, f(x_u) )$ para determinar a estimativa da raiz.\n",
    "\n",
    "O valor da raiz é dado por:\n",
    "\n",
    "\\begin{equation} \\label{eq:falsaposicao}\n",
    "x_r = x_u - \\dfrac{f(x_u)(x_l - x_u)}{f(x_l) - f(x_u)}\n",
    "\\end{equation}"
   ]
  },
  {
   "cell_type": "code",
   "execution_count": 338,
   "metadata": {
    "slideshow": {
     "slide_type": "subslide"
    }
   },
   "outputs": [],
   "source": [
    "def falsaposicao_laco_for(f, xl, xu, n):\n",
    "    print('xl     xu     xr')\n",
    "    for i in range(n):\n",
    "        xr = xu - f(xu)*(xl-xu)/(f(xl) - f(xu))\n",
    "       \n",
    "        print(f'{xl:6.2f} {xu:6.2f} {xr:6.2f}')\n",
    "        if (f(xl)*f(xr) < 0):\n",
    "            xu = xr\n",
    "        else:\n",
    "            xl = xr\n",
    "    return xr"
   ]
  },
  {
   "cell_type": "code",
   "execution_count": 341,
   "metadata": {
    "slideshow": {
     "slide_type": "fragment"
    }
   },
   "outputs": [
    {
     "name": "stdout",
     "output_type": "stream",
     "text": [
      "xl     xu     xr\n",
      " 50.00 200.00 176.28\n",
      " 50.00 176.28 162.38\n",
      " 50.00 162.38 154.24\n",
      " 50.00 154.24 149.48\n",
      " 50.00 149.48 146.69\n",
      " 50.00 146.69 145.05\n",
      " 50.00 145.05 144.09\n",
      " 50.00 144.09 143.53\n",
      " 50.00 143.53 143.20\n",
      " 50.00 143.20 143.01\n"
     ]
    },
    {
     "data": {
      "text/plain": [
       "143.0098591360625"
      ]
     },
     "execution_count": 341,
     "metadata": {},
     "output_type": "execute_result"
    }
   ],
   "source": [
    "falsaposicao_laco_for(bjump, 50, 200, 10)"
   ]
  },
  {
   "cell_type": "markdown",
   "metadata": {
    "id": "bbcakK62PtdA",
    "slideshow": {
     "slide_type": "slide"
    }
   },
   "source": [
    "# Métodos abertos"
   ]
  },
  {
   "cell_type": "markdown",
   "metadata": {
    "slideshow": {
     "slide_type": "-"
    }
   },
   "source": [
    "Nos métodos abertos, exigem apenas um único valor inicial de $x_r$.\n",
    "\n",
    "Em alguns casos o método pode divergir.\n",
    "\n",
    "Estes métodos seguem a fórmula:\n",
    "\n",
    "\\begin{equation} \\label{eq:metodosabertos}\n",
    "x_{k+1} = g(x_k)\n",
    "\\end{equation}"
   ]
  },
  {
   "cell_type": "markdown",
   "metadata": {
    "id": "QYmxEorvQG3M",
    "slideshow": {
     "slide_type": "slide"
    }
   },
   "source": [
    "## Iteração do ponto fixo"
   ]
  },
  {
   "cell_type": "markdown",
   "metadata": {
    "slideshow": {
     "slide_type": "slide"
    }
   },
   "source": [
    "<div>\n",
    "<img src=\"figuras/raizes_pontofixo.svg\" width=\"500\"/>\n",
    "</div>"
   ]
  },
  {
   "cell_type": "markdown",
   "metadata": {
    "slideshow": {
     "slide_type": "subslide"
    }
   },
   "source": [
    "https://www.ufrgs.br/reamat/CalculoNumerico/livro-sci/sdeduv-iteracao_de_ponto_fixo.html\n",
    "\n",
    "<div class=\"alert alert-info\">\n",
    "Um ponto $x$ é chamado de ponto fixo da função $g(x)$ se $g(x) = x$\n",
    "</div>\n",
    "\n",
    "Por exemplo, a função $g(x) = x^2 -6$ tem um ponto fixo em $x = 3$."
   ]
  },
  {
   "cell_type": "markdown",
   "metadata": {
    "slideshow": {
     "slide_type": "fragment"
    }
   },
   "source": [
    "Considere a função $f(x)$ e a função $g(x) = x - f(x)$.\n",
    "\n",
    "* Um zero da função $f(x)$ é um ponto fixo da função $g(x)$"
   ]
  },
  {
   "cell_type": "markdown",
   "metadata": {
    "slideshow": {
     "slide_type": "fragment"
    }
   },
   "source": [
    "<div class=\"alert alert-info\">\n",
    "Teorema: Seja $\\{x_k\\}$ a sequência gerada pela relação $x_{k+1} = g(x_k)$.\n",
    "    Se existir $c \\in \\Re$ tal que $\\lim_\\limits{k\\rightarrow \\infty} x_k = c$, então $c$ é um ponto fixo de $g(x)$.\n",
    "</div>"
   ]
  },
  {
   "cell_type": "markdown",
   "metadata": {
    "slideshow": {
     "slide_type": "fragment"
    }
   },
   "source": [
    "Considere um intervalo $I$ tal que:\n",
    "\n",
    "* O ponto fixo $g(x)$ encontra-se dentro de $I$\n",
    "* $g'(x) < 1$ para todo $x \\in I$\n",
    "* $x_0 \\in I$\n",
    "\n",
    "Então a sequência $\\{x_k\\}$ converge para o ponto fixo."
   ]
  },
  {
   "cell_type": "markdown",
   "metadata": {
    "slideshow": {
     "slide_type": "fragment"
    }
   },
   "source": [
    "Vamos achar a raiz da função:\n",
    "\n",
    "$f(x) = e^{-x} - x$,\n",
    "\n",
    "Vamos procurar agora uma função onde $f(x) = g(x) - x$\n",
    "Podemos utilizar a função:\n",
    "\n",
    "$g(x) = e^{-x}$ como função do ponto fixo."
   ]
  },
  {
   "cell_type": "code",
   "execution_count": 359,
   "metadata": {
    "slideshow": {
     "slide_type": "fragment"
    }
   },
   "outputs": [],
   "source": [
    "def f(x):\n",
    "    return np.exp(-x) - x\n",
    "\n",
    "def g(x):\n",
    "    return np.exp(-x) "
   ]
  },
  {
   "cell_type": "code",
   "execution_count": 345,
   "metadata": {
    "slideshow": {
     "slide_type": "fragment"
    }
   },
   "outputs": [],
   "source": [
    "def pontofixo_laco_for(g, x0, n):\n",
    "    xi = x0\n",
    "    for i in range(n):\n",
    "        xi = g(xi)\n",
    "        print(f'{xi:.4f}')\n",
    "    return xi"
   ]
  },
  {
   "cell_type": "code",
   "execution_count": 349,
   "metadata": {
    "slideshow": {
     "slide_type": "fragment"
    }
   },
   "outputs": [],
   "source": [
    "def pontofixo_laco_for(g, x0, n):\n",
    "    xi = x0\n",
    "    xi1 = xi\n",
    "    erro_aprox = 0\n",
    "    for i in range(n):\n",
    "        xi = xi1\n",
    "        xi1 = g(xi)\n",
    "        erro_aprox = abs((xi1 - xi)/xi1)\n",
    "        print(f'{xi1:.4f} {erro_aprox:.2%}')\n",
    "    return xi1"
   ]
  },
  {
   "cell_type": "code",
   "execution_count": 357,
   "metadata": {
    "slideshow": {
     "slide_type": "fragment"
    }
   },
   "outputs": [
    {
     "name": "stdout",
     "output_type": "stream",
     "text": [
      "1.0000 100.00%\n",
      "0.0000 2202546.58%\n",
      "0.9995 100.00%\n",
      "0.0000 2191576.26%\n",
      "0.9995 100.00%\n",
      "0.0000 2191526.49%\n",
      "0.9995 100.00%\n",
      "0.0000 2191526.26%\n",
      "0.9995 100.00%\n",
      "0.0000 2191526.26%\n",
      "0.9995 100.00%\n",
      "0.0000 2191526.26%\n",
      "0.9995 100.00%\n",
      "0.0000 2191526.26%\n",
      "0.9995 100.00%\n",
      "0.0000 2191526.26%\n",
      "0.9995 100.00%\n",
      "0.0000 2191526.26%\n",
      "0.9995 100.00%\n",
      "0.0000 2191526.26%\n",
      "0.9995 100.00%\n",
      "0.0000 2191526.26%\n",
      "0.9995 100.00%\n",
      "0.0000 2191526.26%\n",
      "0.9995 100.00%\n"
     ]
    }
   ],
   "source": [
    "xr = pontofixo_laco_for(g, 0, 25)"
   ]
  },
  {
   "cell_type": "code",
   "execution_count": 212,
   "metadata": {
    "slideshow": {
     "slide_type": "fragment"
    }
   },
   "outputs": [],
   "source": [
    "def pontofixo(g, x0, parada):\n",
    "    xi = x0\n",
    "    xi1 = xi\n",
    "    erro_aprox = parada + 1\n",
    "    while (erro_aprox > parada):\n",
    "        xi = xi1\n",
    "        xi1 = g(xi)\n",
    "        erro_aprox = abs((xi1 - xi)/xi1)\n",
    "        print(f'{xi1:.4f} {erro_aprox:.2%}')\n",
    "    return xi1"
   ]
  },
  {
   "cell_type": "code",
   "execution_count": 214,
   "metadata": {
    "slideshow": {
     "slide_type": "fragment"
    }
   },
   "outputs": [
    {
     "name": "stdout",
     "output_type": "stream",
     "text": [
      "1.0000 100.00%\n",
      "0.3679 171.83%\n",
      "0.6922 46.85%\n",
      "0.5005 38.31%\n",
      "0.6062 17.45%\n",
      "0.5454 11.16%\n",
      "0.5796 5.90%\n",
      "0.5601 3.48%\n",
      "0.5711 1.93%\n",
      "0.5649 1.11%\n",
      "0.5684 0.62%\n",
      "-0.002013991882177435\n"
     ]
    }
   ],
   "source": [
    "xr = pontofixo(g, 0, 0.01)\n",
    "#print(f(xr))"
   ]
  },
  {
   "cell_type": "code",
   "execution_count": 365,
   "metadata": {
    "colab": {
     "base_uri": "https://localhost:8080/"
    },
    "id": "sHNuyppeR_kz",
    "outputId": "e3f50fe6-7469-4eec-d6bc-12a7f493a903",
    "slideshow": {
     "slide_type": "-"
    }
   },
   "outputs": [
    {
     "name": "stdout",
     "output_type": "stream",
     "text": [
      "[0.56714329]\n"
     ]
    }
   ],
   "source": [
    "root = fsolve(f, 1)\n",
    "print(root)"
   ]
  },
  {
   "cell_type": "markdown",
   "metadata": {
    "id": "kxO2rStiQI3o",
    "slideshow": {
     "slide_type": "slide"
    }
   },
   "source": [
    "## Método de Newton-Raphson"
   ]
  },
  {
   "cell_type": "markdown",
   "metadata": {
    "slideshow": {
     "slide_type": "slide"
    }
   },
   "source": [
    "\n",
    "<div>\n",
    "<img src=\"figuras/raizes_newtonraphson.svg\" width=\"500\"/>\n",
    "</div>"
   ]
  },
  {
   "cell_type": "markdown",
   "metadata": {
    "slideshow": {
     "slide_type": "subslide"
    }
   },
   "source": [
    "O método de Newton-Raphson também segue o formato de:\n",
    "\n",
    "\\begin{equation} \n",
    "x_{k+1} = g(x_k)\n",
    "\\end{equation}\n",
    "\n",
    "Porém, neste caso vamos utilizar a seguinte sequência recursiva: \n",
    "\n",
    "\\begin{equation} \\label{eq:newtonraphson}\n",
    "x_{k+1} = x_k - \\dfrac{f(x_k)}{f'(x_k)}\n",
    "\\end{equation}\n",
    "\n",
    "Note que ao utilizarmos a tangente no ponto $(x_i, f(x_i))$ nos aproximamos rapidamente da raiz.\n"
   ]
  },
  {
   "cell_type": "code",
   "execution_count": 293,
   "metadata": {
    "slideshow": {
     "slide_type": "subslide"
    }
   },
   "outputs": [],
   "source": [
    "import numpy as np\n",
    "def f(x):\n",
    "    return np.exp(-x) - x\n",
    "\n",
    "def df(x):\n",
    "    return -np.exp(-x) - 1"
   ]
  },
  {
   "cell_type": "code",
   "execution_count": 294,
   "metadata": {
    "slideshow": {
     "slide_type": "fragment"
    }
   },
   "outputs": [],
   "source": [
    "def newtonraphson_laco_for(f, df, x0, n):\n",
    "    xvelho = x0\n",
    "    for i in range(n):\n",
    "        xnovo = xvelho - f(xvelho)/df(xvelho)\n",
    "        erro_aproximado = abs((xnovo - xvelho)/xnovo)\n",
    "        print(f'{i} {xnovo:.6f} {erro_aproximado:.6%}')\n",
    "        xvelho = xnovo        "
   ]
  },
  {
   "cell_type": "code",
   "execution_count": 295,
   "metadata": {
    "slideshow": {
     "slide_type": "fragment"
    }
   },
   "outputs": [
    {
     "name": "stdout",
     "output_type": "stream",
     "text": [
      "0 0.500000 100.000000%\n",
      "1 0.566311 11.709291%\n",
      "2 0.567143 0.146729%\n",
      "3 0.567143 0.000022%\n",
      "4 0.567143 0.000000%\n"
     ]
    }
   ],
   "source": [
    "newtonraphson_laco_for(f,df, 0, 5)"
   ]
  },
  {
   "cell_type": "code",
   "execution_count": 281,
   "metadata": {
    "colab": {
     "base_uri": "https://localhost:8080/"
    },
    "id": "sHNuyppeR_kz",
    "outputId": "e3f50fe6-7469-4eec-d6bc-12a7f493a903",
    "slideshow": {
     "slide_type": "-"
    }
   },
   "outputs": [
    {
     "name": "stdout",
     "output_type": "stream",
     "text": [
      "[0.56714329]\n"
     ]
    }
   ],
   "source": [
    "root = fsolve(f, 0)\n",
    "print(root)"
   ]
  },
  {
   "cell_type": "markdown",
   "metadata": {
    "id": "BsPu-rZ3QOln",
    "slideshow": {
     "slide_type": "slide"
    }
   },
   "source": [
    "## Método da Secante"
   ]
  },
  {
   "cell_type": "markdown",
   "metadata": {
    "slideshow": {
     "slide_type": "subslide"
    }
   },
   "source": [
    "O método de Newton-Raphson geralmente possui rápida convergência, com seu erro diminuindo de forma quadrática.\n",
    "\n",
    "Porém, ele requer como entrada a função e a derivada da função.\n",
    "\n",
    "Uma forma de contornar este problema é aproximarmos numericamente a derivada.\n",
    "\n",
    "Tal método é conhecido como método da secante"
   ]
  },
  {
   "cell_type": "markdown",
   "metadata": {
    "slideshow": {
     "slide_type": "subslide"
    }
   },
   "source": [
    "A derivada pode ser aproximada por (método da sencante modificada):\n",
    "\n",
    "\\begin{equation}\\label{eq:diferencadividida}\n",
    "f'(x_i) = \\dfrac{f(x_i + \\delta) - f(x_i)}{\\delta}\n",
    "\\end{equation}\n",
    "\n",
    "Assim, utilizamos a mesma sequência do método Newton-Raphson (\\ref{eq:newtonraphson}):\n",
    "\n",
    "\\begin{equation} \n",
    "x_{k+1} = x_k - \\dfrac{f(x_k)}{f'(x_k)}\n",
    "\\end{equation}\n",
    "\n",
    "porém, subtstituindo o valor da derivada por sua aproximação dada em \\ref{eq:diferencadividida}, obtemos:\n",
    "\n",
    "\\begin{equation}\\label{eq:secantemodificada}\n",
    "x_{i+1} = x_i - \\dfrac{\\delta f(x_i)}{f(x_i + \\delta) - f(x_i)}\n",
    "\\end{equation}\n"
   ]
  },
  {
   "cell_type": "code",
   "execution_count": 282,
   "metadata": {
    "id": "FgD4eP-MPAan",
    "slideshow": {
     "slide_type": "subslide"
    }
   },
   "outputs": [],
   "source": [
    "def secante_laco_for(f, x0, delta, n):\n",
    "    xvelho = x0\n",
    "    for i in range(n):\n",
    "        xnovo = xvelho - delta*f(xvelho)/(f(xvelho+delta) - f(xvelho))\n",
    "        erro_aproximado = abs((xnovo - xvelho)/xnovo)\n",
    "        print(f'{i} {xnovo:.6f} {erro_aproximado:.6%}')\n",
    "        xvelho = xnovo"
   ]
  },
  {
   "cell_type": "code",
   "execution_count": 283,
   "metadata": {
    "slideshow": {
     "slide_type": "fragment"
    }
   },
   "outputs": [
    {
     "name": "stdout",
     "output_type": "stream",
     "text": [
      "0 0.512393 100.000000%\n",
      "1 0.567592 9.725106%\n",
      "2 0.567135 0.080580%\n",
      "3 0.567143 0.001442%\n",
      "4 0.567143 0.000026%\n",
      "5 0.567143 0.000000%\n",
      "6 0.567143 0.000000%\n",
      "7 0.567143 0.000000%\n",
      "8 0.567143 0.000000%\n",
      "9 0.567143 0.000000%\n"
     ]
    }
   ],
   "source": [
    "secante_laco_for(f, 0, 0.1, 10)"
   ]
  }
 ],
 "metadata": {
  "celltoolbar": "Slideshow",
  "colab": {
   "name": "cn_raizes.ipynb",
   "provenance": []
  },
  "kernelspec": {
   "display_name": "Python 3 (ipykernel)",
   "language": "python",
   "name": "python3"
  },
  "language_info": {
   "codemirror_mode": {
    "name": "ipython",
    "version": 3
   },
   "file_extension": ".py",
   "mimetype": "text/x-python",
   "name": "python",
   "nbconvert_exporter": "python",
   "pygments_lexer": "ipython3",
   "version": "3.10.4"
  },
  "latex_envs": {
   "LaTeX_envs_menu_present": true,
   "autoclose": true,
   "autocomplete": true,
   "bibliofile": "biblio.bib",
   "cite_by": "apalike",
   "current_citInitial": 1,
   "eqLabelWithNumbers": true,
   "eqNumInitial": 1,
   "hotkeys": {
    "equation": "Ctrl-E",
    "itemize": "Ctrl-I"
   },
   "labels_anchors": false,
   "latex_user_defs": false,
   "report_style_numbering": false,
   "user_envs_cfg": false
  }
 },
 "nbformat": 4,
 "nbformat_minor": 1
}
