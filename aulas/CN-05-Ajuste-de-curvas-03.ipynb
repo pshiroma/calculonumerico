{
 "cells": [
  {
   "cell_type": "markdown",
   "id": "8fb4c75a",
   "metadata": {
    "slideshow": {
     "slide_type": "slide"
    }
   },
   "source": [
    "# Ajuste de curvas\n",
    "\n",
    "A regressão linear permite encontrar a melhor reta que se ajusta a um conjunto de pontos fornecidos.\n",
    "\n",
    "Veremos agora como ajustar o conjunto de pontos no caso de modelo não-lineares.\n",
    "\n",
    "* Regressão linear múltipla\n",
    "* Linearização de modelos não-lineares\n",
    "* Mínimos quadrados para polinômios\n",
    "* Regressão não-linear"
   ]
  },
  {
   "cell_type": "markdown",
   "id": "e15eee48",
   "metadata": {
    "slideshow": {
     "slide_type": "slide"
    }
   },
   "source": [
    "# Linearização de modelos não-lineares"
   ]
  },
  {
   "cell_type": "markdown",
   "id": "20e87029",
   "metadata": {
    "slideshow": {
     "slide_type": "fragment"
    }
   },
   "source": [
    "## Linearização de modelo exponencial\n",
    "\n",
    "Suponha que o modelo tenha a forma de uma curva exponencial:\n",
    "\n",
    "\\begin{equation}\n",
    "y = \\alpha e^{\\beta x}\n",
    "\\end{equation}\n",
    "\n",
    "onde $\\alpha$ e $\\beta$ são os parâmetros a serem estimados.\n",
    "\n",
    "Diversos sistemas apresentam este comportamento, como o crescimento populacional, o decaimento radioativo dentre outros.\n",
    "\n",
    "Podemos **linearizar** o modelo tomando-se o logaritmo de ambos os lados e obtendo:\n",
    "\n",
    "\\begin{equation}\n",
    "\\ln y = \\ln \\alpha + \\beta x\n",
    "\\end{equation}\n",
    "\n",
    "Observe que este modelo apresenta a equação de uma reta:\n",
    "\n",
    "\\begin{equation}\n",
    "Y = \\theta_0 + \\theta_1x\n",
    "\\end{equation}\n",
    "\n",
    "onde $Y = \\ln y$, $\\theta_0 = \\ln \\alpha$ e $\\theta_1 = \\beta$ e assim podemos utilizar o método dos mínimos quadrados no modelo linearizado.\n"
   ]
  },
  {
   "cell_type": "markdown",
   "id": "5cf6c1fa",
   "metadata": {
    "slideshow": {
     "slide_type": "fragment"
    }
   },
   "source": [
    "## Exemplo\n",
    "\n",
    "Considere um experimento que mediu o decaimento de um material radioativo.\n",
    "À medida que o tempo passa, ele emite partículas e sua massa diminui.\n",
    "A emissão, por sua vez, depende da massa e também diminui com o passar do tempo, seguindo uma curva exponencial.\n",
    "Os dados coletados de massa e tempo encontram-se na tabela abaixo:\n",
    "\n",
    "| Tempo (x) | 0 | 1 | 2 | 3 | 4 | 5 | 6 | 7 | 8 |\n",
    "| --- | --- | --- | --- | --- | --- | --- | --- | --- | --- | \n",
    "| Massa (y) | 8100 | 6420 | 4960 | 3190 | 2530 | 2070 | 1800 | 1620 | 1380 |\n",
    "\n",
    "1. Plote o gráfico dos pontos coletados (tempo no eixo $x$ e massa no eixo $y$).\n",
    "2. Em seguida, plote novamente utilizando o eixo semi-log.\n",
    "3. Calcule os valores de $\\ln y$ e plote o gráfico de $\\ln y \\times x$\n",
    "4. Faça a linearização e encontre os parâmetros que melhor se ajustam a curva $y = \\alpha e^{\\beta x}$.\n",
    "5. Plote o gráfico da curva obtida pelo método dos mínimos quadrados\n",
    "6. Estime a massa no tempo $t = 10$"
   ]
  },
  {
   "cell_type": "code",
   "execution_count": 1,
   "id": "4ad801fd",
   "metadata": {
    "scrolled": true,
    "slideshow": {
     "slide_type": "fragment"
    }
   },
   "outputs": [
    {
     "name": "stderr",
     "output_type": "stream",
     "text": [
      "d:\\system\\conda_envs\\cn\\lib\\site-packages\\scipy\\stats\\stats.py:1541: UserWarning: kurtosistest only valid for n>=20 ... continuing anyway, n=9\n",
      "  warnings.warn(\"kurtosistest only valid for n>=20 ... continuing \"\n"
     ]
    },
    {
     "name": "stdout",
     "output_type": "stream",
     "text": [
      "                            OLS Regression Results                            \n",
      "==============================================================================\n",
      "Dep. Variable:                  massa   R-squared:                       0.964\n",
      "Model:                            OLS   Adj. R-squared:                  0.959\n",
      "Method:                 Least Squares   F-statistic:                     187.8\n",
      "Date:                Wed, 29 Jun 2022   Prob (F-statistic):           2.60e-06\n",
      "Time:                        09:18:47   Log-Likelihood:                 6.8064\n",
      "No. Observations:                   9   AIC:                            -9.613\n",
      "Df Residuals:                       7   BIC:                            -9.218\n",
      "Df Model:                           1                                         \n",
      "Covariance Type:            nonrobust                                         \n",
      "==============================================================================\n",
      "                 coef    std err          t      P>|t|      [0.025      0.975]\n",
      "------------------------------------------------------------------------------\n",
      "const          8.9036      0.079    112.474      0.000       8.716       9.091\n",
      "tempo         -0.2278      0.017    -13.702      0.000      -0.267      -0.189\n",
      "==============================================================================\n",
      "Omnibus:                        3.396   Durbin-Watson:                   0.642\n",
      "Prob(Omnibus):                  0.183   Jarque-Bera (JB):                1.070\n",
      "Skew:                          -0.293   Prob(JB):                        0.586\n",
      "Kurtosis:                       1.416   Cond. No.                         9.06\n",
      "==============================================================================\n",
      "\n",
      "Notes:\n",
      "[1] Standard Errors assume that the covariance matrix of the errors is correctly specified.\n",
      "const    8.903606\n",
      "tempo   -0.227830\n",
      "dtype: float64\n",
      "A equação obtida foi: y = 7358.4618e^-0.2278x\n",
      "A massa estimada é de 753.934\n"
     ]
    },
    {
     "data": {
      "image/png": "[encoded data removed]",
      "text/plain": [
       "<Figure size 432x288 with 1 Axes>"
      ]
     },
     "metadata": {
      "needs_background": "light"
     },
     "output_type": "display_data"
    },
    {
     "data": {
      "image/png": "[encoded data removed]",
      "text/plain": [
       "<Figure size 432x288 with 1 Axes>"
      ]
     },
     "metadata": {
      "needs_background": "light"
     },
     "output_type": "display_data"
    },
    {
     "data": {
      "image/png": "[encoded data removed]",
      "text/plain": [
       "<Figure size 432x288 with 1 Axes>"
      ]
     },
     "metadata": {
      "needs_background": "light"
     },
     "output_type": "display_data"
    },
    {
     "data": {
      "image/png": "[encoded data removed]",
      "text/plain": [
       "<Figure size 432x288 with 1 Axes>"
      ]
     },
     "metadata": {
      "needs_background": "light"
     },
     "output_type": "display_data"
    }
   ],
   "source": [
    "import numpy as np\n",
    "import matplotlib.pyplot as plt\n",
    "import pandas as pd\n",
    "\n",
    "tempo = [0, 1, 2, 3, 4, 5, 6, 7, 8]\n",
    "massa = [8100, 6420, 4960, 3190, 2530, 2070, 1800, 1620, 1380]\n",
    "df = pd.DataFrame({'tempo': tempo, 'massa': massa})\n",
    "\n",
    "X = df['tempo']\n",
    "Y = df['massa']\n",
    "\n",
    "# 1. Plote o gráfico dos pontos coletados (tempo no eixo  𝑥  e massa no eixo  𝑦 ).\n",
    "plt.scatter(X, Y)\n",
    "plt.xlabel('Tempo')\n",
    "plt.ylabel('Massa')\n",
    "plt.figure()\n",
    "\n",
    "# 2. Em seguida, plote novamente utilizando o eixo semi-log.\n",
    "plt.semilogy(X, Y, 'or')\n",
    "plt.xlabel('Tempo')\n",
    "plt.ylabel('Massa (log)')\n",
    "\n",
    "# 3. Calcule os valores de  ln(y)  e plote o gráfico de  ln(y) x x\n",
    "LNY = np.log(Y)\n",
    "plt.figure()\n",
    "plt.scatter(X, LNY, c='g')\n",
    "plt.xlabel('Tempo')\n",
    "plt.ylabel('Massa (log)')\n",
    "\n",
    "# 4. Faça a linearização e encontre os parâmetros que melhor se ajustam a curva  y=alpha e^{betax}\n",
    "import statsmodels.api as sm\n",
    "\n",
    "XX = sm.add_constant(X)\n",
    "modelo = sm.OLS(LNY, XX).fit()\n",
    "\n",
    "print(modelo.summary())\n",
    "print(modelo.params)\n",
    "\n",
    "# o valor obtido foi de th1 = ln(alpha). Para achar o valor de alpha fazemos:\n",
    "alpha = np.exp(modelo.params[0])\n",
    "beta = modelo.params[1]\n",
    "print(f'A equação obtida foi: y = {alpha:.4f}e^{beta:.4f}x')\n",
    "\n",
    "# 5. Plote o gráfico da curva obtida pelo método dos mínimos quadrados\n",
    "Xr = np.linspace(0, 10)\n",
    "Yr = alpha*np.exp(Xr*beta)\n",
    "plt.figure()\n",
    "plt.scatter(X, Y)\n",
    "plt.plot(Xr, Yr, 'r')\n",
    "plt.legend(['Pontos originais', 'Modelo obtido'])\n",
    "\n",
    "# 6. Estime a massa no tempo t = 10\n",
    "logm = modelo.predict([1, 10])\n",
    "m10 = np.exp(logm[0])\n",
    "print(f'A massa estimada é de {m10:.3f}')"
   ]
  },
  {
   "cell_type": "markdown",
   "id": "29f47afc",
   "metadata": {},
   "source": [
    "## Linearização da equação de potência\n",
    "\n",
    "De forma análoga, podemos linearizar a equação de potência simples:\n",
    "\n",
    "\\begin{equation}\n",
    "y = \\alpha x^\\beta\n",
    "\\end{equation}\n",
    "\n",
    "aplicando o logaritmico em ambos os lados:\n",
    "\n",
    "\\begin{equation}\n",
    "ln(y) = ln(\\alpha) +  \\beta\\ln(x)\n",
    "\\end{equation}\n",
    "\n",
    "que também apresenta a equação de uma reta:\n",
    "\n",
    "\\begin{equation}\n",
    "Y = \\theta_0 +  \\theta_1X\n",
    "\\end{equation}\n",
    "\n",
    "onde $Y = ln(y)$, $\\theta_0 = \\ln(\\alpha)$, $\\theta_1 = \\beta$ e $X = \\ln(x)$\n"
   ]
  },
  {
   "cell_type": "markdown",
   "id": "456375fe",
   "metadata": {},
   "source": [
    "## Exemplo\n",
    "\n",
    "[CHAPRA, Métodos numéricos aplicados com MATLAB]\n",
    "\n",
    "Ajuste a equação de potência para os dados abaixo:\n",
    "\n",
    "| $x_i$ | $y_i$ |\n",
    "| --- | --- |\n",
    "| 10 | 25 |\n",
    "| 20 | 70 |\n",
    "| 30 | 380 |\n",
    "| 40 | 550 |\n",
    "| 50 | 610 |\n",
    "| 60 | 1220 |\n",
    "| 70 | 830 |\n",
    "| 80 | 1450 |"
   ]
  },
  {
   "cell_type": "code",
   "execution_count": 43,
   "id": "dbb76918",
   "metadata": {},
   "outputs": [
    {
     "name": "stderr",
     "output_type": "stream",
     "text": [
      "d:\\system\\conda_envs\\cn\\lib\\site-packages\\scipy\\stats\\stats.py:1541: UserWarning: kurtosistest only valid for n>=20 ... continuing anyway, n=8\n",
      "  warnings.warn(\"kurtosistest only valid for n>=20 ... continuing \"\n"
     ]
    },
    {
     "name": "stdout",
     "output_type": "stream",
     "text": [
      "                            OLS Regression Results                            \n",
      "==============================================================================\n",
      "Dep. Variable:                      y   R-squared:                       0.948\n",
      "Model:                            OLS   Adj. R-squared:                  0.939\n",
      "Method:                 Least Squares   F-statistic:                     109.5\n",
      "Date:                Thu, 30 Jun 2022   Prob (F-statistic):           4.47e-05\n",
      "Time:                        10:15:30   Log-Likelihood:                 4.8047\n",
      "No. Observations:                   8   AIC:                            -5.609\n",
      "Df Residuals:                       6   BIC:                            -5.451\n",
      "Df Model:                           1                                         \n",
      "Covariance Type:            nonrobust                                         \n",
      "==============================================================================\n",
      "                 coef    std err          t      P>|t|      [0.025      0.975]\n",
      "------------------------------------------------------------------------------\n",
      "const         -0.5620      0.304     -1.851      0.114      -1.305       0.181\n",
      "x              1.9842      0.190     10.464      0.000       1.520       2.448\n",
      "==============================================================================\n",
      "Omnibus:                        0.664   Durbin-Watson:                   2.323\n",
      "Prob(Omnibus):                  0.718   Jarque-Bera (JB):                0.513\n",
      "Skew:                           0.092   Prob(JB):                        0.774\n",
      "Kurtosis:                       1.774   Cond. No.                         12.4\n",
      "==============================================================================\n",
      "\n",
      "Notes:\n",
      "[1] Standard Errors assume that the covariance matrix of the errors is correctly specified.\n",
      "\n",
      " const   -0.562032\n",
      "x        1.984176\n",
      "dtype: float64\n"
     ]
    },
    {
     "data": {
      "text/plain": [
       "<matplotlib.collections.PathCollection at 0x2b316f6d180>"
      ]
     },
     "execution_count": 43,
     "metadata": {},
     "output_type": "execute_result"
    },
    {
     "data": {
      "image/png": "[encoded data removed]",
      "text/plain": [
       "<Figure size 432x288 with 1 Axes>"
      ]
     },
     "metadata": {
      "needs_background": "light"
     },
     "output_type": "display_data"
    }
   ],
   "source": [
    "import numpy as np\n",
    "import matplotlib.pyplot as plt\n",
    "import pandas as pd\n",
    "import statsmodels.api as sm\n",
    "\n",
    "dados = [ [10, 20, 30, 40, 50, 60, 70, 80], [25, 70, 380, 550, 610, 1220, 830, 1450]]\n",
    "df = pd.DataFrame({'x': dados[0], 'y': dados[1]})\n",
    "\n",
    "X = df['x']\n",
    "Y = df['y']\n",
    "\n",
    "Xls = np.log10(X)\n",
    "Xls = sm.add_constant(Xls)\n",
    "Yls = np.log10(Y)\n",
    "\n",
    "modelo = sm.OLS(Yls, Xls).fit()\n",
    "\n",
    "print(modelo.summary())\n",
    "print('\\n',modelo.params)\n",
    "\n",
    "alpha = 10**modelo.params.const\n",
    "beta = modelo.params.x\n",
    "\n",
    "Ym = alpha*X**beta\n",
    "plt.plot(X, Ym)\n",
    "plt.scatter(X, Y, c='r')"
   ]
  },
  {
   "cell_type": "markdown",
   "id": "b5411cac",
   "metadata": {},
   "source": [
    "## Linearização da equação y = ax/(b+x)\n",
    "\n",
    "Outro exemplo de modelo não-linear é a equação:\n",
    "\n",
    "\\begin{equation}\n",
    "y = \\alpha \\dfrac{x}{\\beta + x}\n",
    "\\end{equation}\n",
    "\n",
    "Neste caso, podemos inverter os termos e obter:\n",
    "\n",
    "\\begin{equation}\n",
    "\\dfrac{1}{y} = \\dfrac{1}{\\alpha} + \\dfrac{\\beta}{\\alpha x}\n",
    "\\end{equation}\n",
    "\n",
    "que corresponde à equação linear:\n",
    "\n",
    "\\begin{equation}\n",
    "Y = \\theta_0 + \\theta_1X\n",
    "\\end{equation}\n",
    "\n",
    "onde:\n",
    "\n",
    "\\begin{itemize}\n",
    "\\item $Y = \\dfrac{1}{y}$\n",
    "\\item $\\theta_0 = \\dfrac{1}{\\alpha}$\n",
    "\\item $\\theta_1 = \\dfrac{\\beta}{\\alpha}$\n",
    "\\item $X = \\dfrac{1}{x}$\n",
    "\\end{itemize}\n"
   ]
  },
  {
   "cell_type": "markdown",
   "id": "1fa16dbe",
   "metadata": {},
   "source": [
    "## Exemplo: Equação de Michaelis-Menten\n",
    "\n",
    "A equação de Michaelis-Menten é utilizada para descrever boa parte da cinética enzimática, ramo que estuda as reações químicas catalisadas por enzimas.\n",
    "\n",
    "Neste caso a velocidade inicial de catálise ($V_0$) depende da concentração de substrato ($[S]$).\n",
    "Foi observado que a relação entre $V_0$ e $[S]$ é composto de 2 fases: Uma cinética de primeira ordem, onde a velocidade depende da concentração do substrato, e uma cinética de ordem zero, onde a velocidade não depende da concentração.\n",
    "Esta segunda fase é causada pela saturação e temos que $V_0$ não pode ser superior a um dado valor máximo $V_{max}$.\n",
    "\n",
    "A equação de Michaelis-Menten é matematicamente formulada como:\n",
    "\n",
    "\\begin{equation}\n",
    "V_0 = \\dfrac{V_{max} [S]}{K_m + [S]}\n",
    "\\end{equation}\n",
    "\n",
    "onde:\n",
    "\n",
    "\\begin{itemize}\n",
    "\\item $V_0$ é a velocidade inicial \n",
    "\\item $[S]$ é a concentração de um substrato\n",
    "\\item $V_{max}$ é a velocidade máxima da velocidade inicial, \n",
    "\\item $K_m$ é a concentração de substrato que faz com que tenhamos metade da velocidade máxima\n",
    "\\end{itemize}\n",
    "\n",
    "![michaelis-menten](./figuras/ajuste-curvas-michaelis_menten.png)"
   ]
  },
  {
   "cell_type": "markdown",
   "id": "4c99a103",
   "metadata": {},
   "source": [
    "A linearização pode ser obtida fazendo a transformação (Lineweaver-Burk):\n",
    "\n",
    "\\begin{equation}\n",
    "\\dfrac{1}{V_0} = \\dfrac{K_m}{V_{max}}\\dfrac{1}{[S]} + \\dfrac{1}{V_{max}}\n",
    "\\end{equation}\n",
    "\n",
    "que corresponde à equação linear:\n",
    "\n",
    "\\begin{equation}\n",
    "Y = \\theta_1X + \\theta_0\n",
    "\\end{equation}\n",
    "\n",
    "onde:\n",
    "\n",
    "\\begin{itemize}\n",
    "\\item $Y = \\frac{1}{V_0}$\n",
    "\\item $\\theta_0 = \\frac{1}{V_{max}}$\n",
    "\\item $\\theta_1 = \\frac{K_m}{V_{max}}$\n",
    "\\item $X = \\frac{1}{[S]}$\n",
    "\\end{itemize}\n",
    "\n",
    "e obtemos a relação:\n",
    "\n",
    "$V_{max} = 1/\\theta_0$\n",
    "\n",
    "e\n",
    "\n",
    "$K_m = V_{max}\\cdot \\theta_1$\n",
    "\n"
   ]
  },
  {
   "cell_type": "markdown",
   "id": "e268fbc3",
   "metadata": {},
   "source": [
    "Considere os seguintes dados de concentração e velocidade inicial:\n",
    "\n",
    "| $[S] (\\mu mol)$ | $V_0 (\\mu mol/min)$ |\n",
    "| --- | --- |\n",
    "| 500 | 0,25 | \n",
    "| 50 | 0,25 | \n",
    "| 5,0 | 0,25 | \n",
    "| 0,5 | 0,20 | \n",
    "| 0,05 | 0,071 | \n",
    "| 0,005 | 0,0096 | "
   ]
  },
  {
   "cell_type": "code",
   "execution_count": 9,
   "id": "06e9cada",
   "metadata": {},
   "outputs": [
    {
     "name": "stdout",
     "output_type": "stream",
     "text": [
      "                            OLS Regression Results                            \n",
      "==============================================================================\n",
      "Dep. Variable:                     V0   R-squared:                       1.000\n",
      "Model:                            OLS   Adj. R-squared:                  1.000\n",
      "Method:                 Least Squares   F-statistic:                 2.287e+06\n",
      "Date:                Thu, 30 Jun 2022   Prob (F-statistic):           1.15e-12\n",
      "Time:                        17:32:51   Log-Likelihood:                 9.6416\n",
      "No. Observations:                   6   AIC:                            -15.28\n",
      "Df Residuals:                       4   BIC:                            -15.70\n",
      "Df Model:                           1                                         \n",
      "Covariance Type:            nonrobust                                         \n",
      "==============================================================================\n",
      "                 coef    std err          t      P>|t|      [0.025      0.975]\n",
      "------------------------------------------------------------------------------\n",
      "const          3.9890      0.027    146.743      0.000       3.914       4.065\n",
      "S              0.5009      0.000   1512.170      0.000       0.500       0.502\n",
      "==============================================================================\n",
      "Omnibus:                          nan   Durbin-Watson:                   2.099\n",
      "Prob(Omnibus):                    nan   Jarque-Bera (JB):                0.138\n",
      "Skew:                          -0.370   Prob(JB):                        0.933\n",
      "Kurtosis:                       2.961   Cond. No.                         92.0\n",
      "==============================================================================\n",
      "\n",
      "Notes:\n",
      "[1] Standard Errors assume that the covariance matrix of the errors is correctly specified.\n",
      "const    3.989044\n",
      "S        0.500927\n",
      "dtype: float64\n",
      "Vmax = 0.25068661404809417 e Km = 0.12557559009962926\n"
     ]
    },
    {
     "name": "stderr",
     "output_type": "stream",
     "text": [
      "d:\\system\\conda_envs\\cn\\lib\\site-packages\\statsmodels\\stats\\stattools.py:74: ValueWarning: omni_normtest is not valid with less than 8 observations; 6 samples were given.\n",
      "  warn(\"omni_normtest is not valid with less than 8 observations; %i \"\n"
     ]
    },
    {
     "data": {
      "text/plain": [
       "[<matplotlib.lines.Line2D at 0x161d83a9a80>]"
      ]
     },
     "execution_count": 9,
     "metadata": {},
     "output_type": "execute_result"
    },
    {
     "data": {
      "image/png": "[encoded data removed]",
      "text/plain": [
       "<Figure size 432x288 with 1 Axes>"
      ]
     },
     "metadata": {
      "needs_background": "light"
     },
     "output_type": "display_data"
    }
   ],
   "source": [
    "import matplotlib.pyplot as plt\n",
    "import numpy as np\n",
    "import pandas as pd\n",
    "import statsmodels.api as sm\n",
    "\n",
    "dados = [[ 500, 50, 5, 0.5, 0.05, 0.005],  [0.25, 0.25, 0.25, 0.2, 0.071, 0.0096]]\n",
    "df = pd.DataFrame({'S': dados[0], 'V0': dados[1]})\n",
    "\n",
    "S = df['S']\n",
    "V0 = df['V0']\n",
    "\n",
    "Y = 1/V0\n",
    "X = 1/S\n",
    "X = sm.add_constant(X)\n",
    "\n",
    "modelo = sm.OLS(Y,X).fit()\n",
    "\n",
    "print(modelo.summary())\n",
    "print(modelo.params)\n",
    "\n",
    "Vmax = 1/modelo.params[0]\n",
    "Km = modelo.params[1]*Vmax\n",
    "\n",
    "print(f'Vmax = {Vmax} e Km = {Km}')\n",
    "\n",
    "plt.scatter(S, V0)\n",
    "SS = np.linspace(0.005, 500)\n",
    "V = Vmax*SS/(Km + SS)\n",
    "plt.plot(SS, V)"
   ]
  },
  {
   "cell_type": "markdown",
   "id": "1a45297c",
   "metadata": {
    "slideshow": {
     "slide_type": "slide"
    }
   },
   "source": [
    "## Exemplo: Crescimento exponencial\n",
    "\n",
    "A população brasileira tem crescido constantemente nas últimas décadas, apresentando um alto crescimento vegetativo.\n",
    "Embora a taxa de natalidade tenha apresentado diminuição nos últimos anos, o aumento da espectativa de vida e a diminuição da taxa de mortalidade tem contribuído com o aumento populacional.\n",
    "\n",
    "Observe os dados da população brasileira nas últimas décadas:\n",
    "\n",
    "| Ano | População |\n",
    "| --- | --- |\n",
    "| 1872 | 9.930.478 |\n",
    "| 1890 | 14.333.915 |\t\t\n",
    "| 1900 | 17.438.434 |\t\t\n",
    "| 1920 | 30.635.605\t|\t\n",
    "| 1940 | 41.236.315\t|\t\n",
    "| 1950 | 51.944.397\t|\t\n",
    "| 1960 | 70.992.343\t|\t\n",
    "| 1970 | 94.508.583\t|\t\n",
    "| 1980 | 121.150.573 |\t\t\n",
    "| 1991 | 146.917.459 |\t\t\n",
    "| 2000 | 169.590.693 |\t\t\n",
    "| 2010 | 190.755.799 |\n",
    "\n",
    "1. Trace o diagrama de dispersão dos dados acima\n",
    "2. Em seguida, plote novamente utilizando o eixo semi-log.\n",
    "3. Ajuste os dados a uma curva exponencial\n",
    "4. Sabendo que a população brasileira em 2020 foi de 212,6 milhões de habitantes, podemos afirmar que o crescimento continua obedecendo uma curva exponencial?"
   ]
  },
  {
   "cell_type": "code",
   "execution_count": 3,
   "id": "36f08708",
   "metadata": {
    "slideshow": {
     "slide_type": "fragment"
    }
   },
   "outputs": [
    {
     "name": "stdout",
     "output_type": "stream",
     "text": [
      "A equação obtida foi: y = 6.183e-12 exp(0.0224x)\n",
      "A estimativa para a população em 2020 é de 267592629 habitantes\n"
     ]
    },
    {
     "data": {
      "image/png": "[encoded data removed]",
      "text/plain": [
       "<Figure size 432x288 with 1 Axes>"
      ]
     },
     "metadata": {
      "needs_background": "light"
     },
     "output_type": "display_data"
    },
    {
     "data": {
      "image/png": "[encoded data removed]",
      "text/plain": [
       "<Figure size 432x288 with 1 Axes>"
      ]
     },
     "metadata": {
      "needs_background": "light"
     },
     "output_type": "display_data"
    }
   ],
   "source": [
    "import pandas as pd\n",
    "import matplotlib.pyplot as plt\n",
    "\n",
    "data = [{'ano': 1872, 'pop': 9930478}, {'ano': 1890, 'pop': 14333915}, {'ano': 1900, 'pop': 17438434}, \n",
    " {'ano': 1920, 'pop': 30635605}, {'ano': 1940, 'pop': 41236315}, {'ano': 1950, 'pop': 51944397},\n",
    " {'ano': 1960, 'pop': 70992343}, {'ano': 1970, 'pop': 94508583}, {'ano': 1980, 'pop': 121150573},\n",
    " {'ano': 1991, 'pop': 146917459}, {'ano': 2000, 'pop': 169590693}, {'ano': 2010, 'pop': 190755799}]\n",
    "\n",
    "df = pd.DataFrame(data) \n",
    "\n",
    "X = df['ano']\n",
    "Y = df['pop']\n",
    "\n",
    "# 1. Trace o diagrama de dispersão dos dados acima\n",
    "plt.scatter(X, Y)\n",
    "plt.xlabel('Ano')\n",
    "plt.ylabel('População')\n",
    "\n",
    "# 2. Em seguida, plote novamente utilizando o eixo semi-log.\n",
    "plt.figure()\n",
    "plt.semilogy(X, Y, 'or')\n",
    "\n",
    "# 3. Ajuste os dados a uma curva exponencial\n",
    "from scipy import stats\n",
    "\n",
    "LNY = np.log(Y)\n",
    "r = stats.linregress(X, LNY)\n",
    "th1,th0 = r.slope, r.intercept\n",
    "\n",
    "# o valor obtido foi de th1 = ln(alpha). Para achar o valor de alpha fazemos:\n",
    "alpha = np.exp(th0)\n",
    "beta = th1\n",
    "print(f'A equação obtida foi: y = {alpha:.3e} exp({beta:.4f}x)')\n",
    "estimativa = alpha*np.exp(2020*beta)\n",
    "print(f'A estimativa para a população em 2020 é de {estimativa:.0f} habitantes')\n",
    "\n",
    "# 4. Sabendo que a população brasileira em 2020 foi de 212,6 milhões de habitantes, podemos afirmar que o crescimento continua obedecendo uma curva exponencial?"
   ]
  },
  {
   "cell_type": "markdown",
   "id": "41dc28d0",
   "metadata": {
    "slideshow": {
     "slide_type": "slide"
    }
   },
   "source": [
    "# Exemplo: Regressão não-linear\n",
    "\n",
    "Observe que no exemplo anterior, a curva exponencial já começa a apresentar uma saturação, indicando que ela está diminuindo de velocidade.\n",
    "\n",
    "Este dado reflete o fato que na natureza as populações podem crescer exponencialmente por alguns períodos, mas elas estão limitadas pela disponibilidade de recursos.\n",
    "\n",
    "Este comportamento pode ser descrito pela equação não-linear conhecida como crescimento logístico.\n",
    "No crescimento logístico, a taxa de crescimento populacional se tornam menor à medida que o tamanho da população se aproxima de um máximo imposto por recursos limitantes no ambiente, conhecido como capacidade de suporte ($K$) e pode ser descrito pela equação abaixo:\n",
    "\n",
    "\\begin{equation}\n",
    "N(t) = \\dfrac{N_0 \\cdot K}{K - N_0 e^{-rt} + N_0}\n",
    "\\end{equation}\n",
    "\n",
    "onde $N_0$ é a população no instante $t= 0$, $r$ a taxa de crescimento.\n",
    "\n",
    "Esta equação vem da solução da equação diferencial:\n",
    "\n",
    "\\begin{equation}\n",
    "\\dfrac{dN}{dt} = r \\left(\\dfrac{K - N}{K}\\right)N\n",
    "\\end{equation}\n",
    "\n",
    "Saiba mais em:\n",
    "\n",
    "https://pt.khanacademy.org/science/biology/ecology/population-growth-and-regulation/a/exponential-logistic-growth\n",
    "\n",
    "Neste casos onde não é possível linearizar o modelo e devemos utilizar métodos de linearização nã-lineares.\n",
    "\n",
    "No python, a função `curve_fit` da biblioteca `scipy` é capaz de realizar a regressão não-linear."
   ]
  },
  {
   "cell_type": "code",
   "execution_count": 23,
   "id": "6b355638",
   "metadata": {
    "slideshow": {
     "slide_type": "fragment"
    }
   },
   "outputs": [
    {
     "name": "stdout",
     "output_type": "stream",
     "text": [
      "[6.48767818e+06 3.67784811e+08 2.95410984e-02] \n",
      "\n",
      "[5.77029223e+06 3.39152094e+08 3.10411888e-02]\n"
     ]
    },
    {
     "data": {
      "text/plain": [
       "<matplotlib.collections.PathCollection at 0x2b31394f2b0>"
      ]
     },
     "execution_count": 23,
     "metadata": {},
     "output_type": "execute_result"
    },
    {
     "data": {
      "image/png": "[encoded data removed]",
      "text/plain": [
       "<Figure size 432x288 with 1 Axes>"
      ]
     },
     "metadata": {
      "needs_background": "light"
     },
     "output_type": "display_data"
    }
   ],
   "source": [
    "from scipy.optimize import curve_fit\n",
    "from scipy.optimize import minimize\n",
    "\n",
    "X = df['ano']\n",
    "Y = df['pop']\n",
    "\n",
    "def crescimentologistico(t, N0, k, r):\n",
    "    return N0*k/((k - N0)*np.exp(-r*t) + N0)\n",
    "\n",
    "def crescimentologistico_somatorio_residuos(theta, t, N):\n",
    "    N0 = theta[0]\n",
    "    k = theta[1]\n",
    "    r = theta[2]\n",
    "    residuos = N - N0*k/((k - N0)*np.exp(-r*t) + N0)\n",
    "    return np.sum(residuos**2)\n",
    "\n",
    "\n",
    "# estimativa inicial\n",
    "x0 = [8000000, 350000000, 0.02]\n",
    "\n",
    "r = minimize(crescimentologistico_somatorio_residuos, x0, args=(X-1870,Y))\n",
    "print(r.x, '\\n')\n",
    "\n",
    "res = curve_fit(crescimentologistico, X-1870, Y, x0)\n",
    "print(res[0])\n",
    "\n",
    "YY = crescimentologistico(X-1870, r.x[0], r.x[1], r.x[2])\n",
    "YY2 = crescimentologistico(X-1870, res[0][0], res[0][1], res[0][2])\n",
    "YY3 = crescimentologistico(X-1870, x0[0], x0[1], x0[2])\n",
    "plt.plot(X, YY)\n",
    "plt.plot(X, YY2, 'g')\n",
    "plt.plot(X, YY3, '--')\n",
    "plt.scatter(X, Y, c='r')"
   ]
  },
  {
   "cell_type": "markdown",
   "id": "d6d48db3",
   "metadata": {
    "slideshow": {
     "slide_type": "slide"
    }
   },
   "source": [
    "# Regressão linear múltipla\n",
    "\n",
    "A regressão linear múltipla é semelhante à regressão linear simples, porém com mais de uma variável independente, significando que a variável a ser predita é baseada em 2 ou mais variáveis de entrada.\n",
    "\n",
    "Matematicamente temos:\n",
    "\n",
    "\\begin{equation}\n",
    "y = \\beta_0 + \\beta_1x_1 + \\beta_2x_2\n",
    "\\end{equation}\n",
    "\n",
    "onde $y$ é a variável dependente, $\\beta_0$, a constante, $\\beta_1$ a inclinação em relação à variável $x_1$ e $\\theta_2$ a inclinação em relação à variável $x_2$.\n",
    "\n",
    "Para que a regressão linear múltipla traga bons resultados é preciso que:\n",
    "\n",
    "1. Existe uma relação linear entre a variável dependente e as variáveis independentes.\n",
    "2. As variáveis independentes não tenham alta correlaçãno entre si.\n",
    "3. O tamanho do residuo não depende do tamanho do valor de entrada (homocedasticidade)\n",
    "4. Os resíduos apresentam distribuição normal\n",
    "\n",
    "Avalie a utilização de um modelo de regressão linear múltipla na tentativa de explicar a variação da viscosidade (y) de um polímero em função da temperatura (x1) de reação e da taxa de adição (x2) do catalisador.\n",
    "Através da realização de experimentos para diferentes valores de x1 e x2, obtiveram-se os valores de y mostrados na tabela abaixo. \n",
    "\n",
    "https://uenf.br/posgraduacao/matematica/wp-content/uploads/sites/14/2017/09/28052015Renato-Neves-de-Almeida.pdf\n",
    "\n",
    "1. Encontre o ajuste desejado pelo Método dos Mínimos Quadrados \n",
    "2. Calcule e utilize o coeficiente de determinação ajustado (r2 ajust.) para fazer uma avaliação do modelo.\n",
    "\n",
    "| Observação | Viscosidade (y Pa s) | Temperatura(x1 - ºC) | Catalisador(x2 - lb/h) |\n",
    "| --- | --- | --- | --- |\n",
    "| 1 | 2256 | 80 | 8 |\n",
    "| 2 | 2340 | 93 | 9 |\n",
    "| 3 | 2426 | 100 | 10 |\n",
    "| 4 | 2293 | 82 | 12 |\n",
    "| 5 | 2330 | 90 | 11 |\n",
    "| 6 | 2368 | 99 | 8 |\n",
    "| 7 | 2250 | 81 | 8 |\n",
    "| 8 | 2409 | 96 | 10 |\n",
    "| 9 | 2364 | 94 | 12 |\n",
    "| 10 | 2379 | 93 | 11 |\n",
    "| 11 | 2440 | 97 | 13 |\n",
    "| 12 | 2364 | 95 | 11 |\n",
    "| 13 | 2404 | 100 | 8 |\n",
    "| 14 | 2317 | 85 | 12 |\n",
    "| 15 | 2309 | 86 | 9 |\n",
    "| 16 | 2328 | 87 | 12 |"
   ]
  },
  {
   "cell_type": "code",
   "execution_count": 24,
   "id": "c5f4d353",
   "metadata": {
    "slideshow": {
     "slide_type": "fragment"
    }
   },
   "outputs": [
    {
     "name": "stderr",
     "output_type": "stream",
     "text": [
      "d:\\system\\conda_envs\\cn\\lib\\site-packages\\scipy\\stats\\stats.py:1541: UserWarning: kurtosistest only valid for n>=20 ... continuing anyway, n=16\n",
      "  warnings.warn(\"kurtosistest only valid for n>=20 ... continuing \"\n"
     ]
    },
    {
     "data": {
      "text/html": [
       "<table class=\"simpletable\">\n",
       "<caption>OLS Regression Results</caption>\n",
       "<tr>\n",
       "  <th>Dep. Variable:</th>          <td>visc</td>       <th>  R-squared:         </th> <td>   0.927</td>\n",
       "</tr>\n",
       "<tr>\n",
       "  <th>Model:</th>                   <td>OLS</td>       <th>  Adj. R-squared:    </th> <td>   0.916</td>\n",
       "</tr>\n",
       "<tr>\n",
       "  <th>Method:</th>             <td>Least Squares</td>  <th>  F-statistic:       </th> <td>   82.50</td>\n",
       "</tr>\n",
       "<tr>\n",
       "  <th>Date:</th>             <td>Thu, 30 Jun 2022</td> <th>  Prob (F-statistic):</th> <td>4.10e-08</td>\n",
       "</tr>\n",
       "<tr>\n",
       "  <th>Time:</th>                 <td>07:55:31</td>     <th>  Log-Likelihood:    </th> <td> -65.758</td>\n",
       "</tr>\n",
       "<tr>\n",
       "  <th>No. Observations:</th>      <td>    16</td>      <th>  AIC:               </th> <td>   137.5</td>\n",
       "</tr>\n",
       "<tr>\n",
       "  <th>Df Residuals:</th>          <td>    13</td>      <th>  BIC:               </th> <td>   139.8</td>\n",
       "</tr>\n",
       "<tr>\n",
       "  <th>Df Model:</th>              <td>     2</td>      <th>                     </th>     <td> </td>   \n",
       "</tr>\n",
       "<tr>\n",
       "  <th>Covariance Type:</th>      <td>nonrobust</td>    <th>                     </th>     <td> </td>   \n",
       "</tr>\n",
       "</table>\n",
       "<table class=\"simpletable\">\n",
       "<tr>\n",
       "    <td></td>       <th>coef</th>     <th>std err</th>      <th>t</th>      <th>P>|t|</th>  <th>[0.025</th>    <th>0.975]</th>  \n",
       "</tr>\n",
       "<tr>\n",
       "  <th>const</th> <td> 1566.0778</td> <td>   61.592</td> <td>   25.427</td> <td> 0.000</td> <td> 1433.017</td> <td> 1699.139</td>\n",
       "</tr>\n",
       "<tr>\n",
       "  <th>temp</th>  <td>    7.6213</td> <td>    0.618</td> <td>   12.324</td> <td> 0.000</td> <td>    6.285</td> <td>    8.957</td>\n",
       "</tr>\n",
       "<tr>\n",
       "  <th>catal</th> <td>    8.5848</td> <td>    2.439</td> <td>    3.520</td> <td> 0.004</td> <td>    3.316</td> <td>   13.853</td>\n",
       "</tr>\n",
       "</table>\n",
       "<table class=\"simpletable\">\n",
       "<tr>\n",
       "  <th>Omnibus:</th>       <td> 1.215</td> <th>  Durbin-Watson:     </th> <td>   2.607</td>\n",
       "</tr>\n",
       "<tr>\n",
       "  <th>Prob(Omnibus):</th> <td> 0.545</td> <th>  Jarque-Bera (JB):  </th> <td>   0.779</td>\n",
       "</tr>\n",
       "<tr>\n",
       "  <th>Skew:</th>          <td>-0.004</td> <th>  Prob(JB):          </th> <td>   0.677</td>\n",
       "</tr>\n",
       "<tr>\n",
       "  <th>Kurtosis:</th>      <td> 1.919</td> <th>  Cond. No.          </th> <td>1.38e+03</td>\n",
       "</tr>\n",
       "</table><br/><br/>Notes:<br/>[1] Standard Errors assume that the covariance matrix of the errors is correctly specified.<br/>[2] The condition number is large, 1.38e+03. This might indicate that there are<br/>strong multicollinearity or other numerical problems."
      ],
      "text/plain": [
       "<class 'statsmodels.iolib.summary.Summary'>\n",
       "\"\"\"\n",
       "                            OLS Regression Results                            \n",
       "==============================================================================\n",
       "Dep. Variable:                   visc   R-squared:                       0.927\n",
       "Model:                            OLS   Adj. R-squared:                  0.916\n",
       "Method:                 Least Squares   F-statistic:                     82.50\n",
       "Date:                Thu, 30 Jun 2022   Prob (F-statistic):           4.10e-08\n",
       "Time:                        07:55:31   Log-Likelihood:                -65.758\n",
       "No. Observations:                  16   AIC:                             137.5\n",
       "Df Residuals:                      13   BIC:                             139.8\n",
       "Df Model:                           2                                         \n",
       "Covariance Type:            nonrobust                                         \n",
       "==============================================================================\n",
       "                 coef    std err          t      P>|t|      [0.025      0.975]\n",
       "------------------------------------------------------------------------------\n",
       "const       1566.0778     61.592     25.427      0.000    1433.017    1699.139\n",
       "temp           7.6213      0.618     12.324      0.000       6.285       8.957\n",
       "catal          8.5848      2.439      3.520      0.004       3.316      13.853\n",
       "==============================================================================\n",
       "Omnibus:                        1.215   Durbin-Watson:                   2.607\n",
       "Prob(Omnibus):                  0.545   Jarque-Bera (JB):                0.779\n",
       "Skew:                          -0.004   Prob(JB):                        0.677\n",
       "Kurtosis:                       1.919   Cond. No.                     1.38e+03\n",
       "==============================================================================\n",
       "\n",
       "Notes:\n",
       "[1] Standard Errors assume that the covariance matrix of the errors is correctly specified.\n",
       "[2] The condition number is large, 1.38e+03. This might indicate that there are\n",
       "strong multicollinearity or other numerical problems.\n",
       "\"\"\""
      ]
     },
     "execution_count": 24,
     "metadata": {},
     "output_type": "execute_result"
    }
   ],
   "source": [
    "import pandas as pd\n",
    "import statsmodels.api as sm\n",
    "\n",
    "dados = pd.DataFrame([{'obs': 1, 'visc': 2256, 'temp': 80, 'catal': 8},\n",
    "         {'obs': 2, 'visc': 2340, 'temp': 93, 'catal': 9},\n",
    "         {'obs': 3, 'visc': 2426, 'temp': 100, 'catal': 10},\n",
    "         {'obs': 4, 'visc': 2293, 'temp': 82, 'catal': 12},\n",
    "         {'obs': 5, 'visc': 2330, 'temp': 90, 'catal': 11},\n",
    "         {'obs': 6, 'visc': 2368, 'temp': 99, 'catal': 8},\n",
    "         {'obs': 7, 'visc': 2250, 'temp': 81, 'catal': 8},\n",
    "         {'obs': 8, 'visc': 2409, 'temp': 96, 'catal': 10},\n",
    "         {'obs': 9, 'visc': 2364, 'temp': 94, 'catal': 12},\n",
    "         {'obs': 10, 'visc': 2379, 'temp': 93, 'catal': 11},\n",
    "         {'obs': 11, 'visc': 2440, 'temp': 97, 'catal': 13},\n",
    "         {'obs': 12, 'visc': 2364, 'temp': 95, 'catal': 11},\n",
    "         {'obs': 13, 'visc': 2404, 'temp': 100, 'catal': 8},\n",
    "         {'obs': 14, 'visc': 2317, 'temp': 85, 'catal': 12},\n",
    "         {'obs': 15, 'visc': 2309, 'temp': 86, 'catal': 9},\n",
    "         {'obs': 16, 'visc': 2328, 'temp': 87, 'catal': 12}])\n",
    "\n",
    "X = dados[['temp', 'catal']]\n",
    "Y = dados['visc']\n",
    "X = sm.add_constant(X)\n",
    "modelo = sm.OLS(Y, X).fit()\n",
    "modelo.summary()"
   ]
  }
 ],
 "metadata": {
  "celltoolbar": "Slideshow",
  "kernelspec": {
   "display_name": "Python 3 (ipykernel)",
   "language": "python",
   "name": "python3"
  },
  "language_info": {
   "codemirror_mode": {
    "name": "ipython",
    "version": 3
   },
   "file_extension": ".py",
   "mimetype": "text/x-python",
   "name": "python",
   "nbconvert_exporter": "python",
   "pygments_lexer": "ipython3",
   "version": "3.10.4"
  },
  "latex_envs": {
   "LaTeX_envs_menu_present": true,
   "autoclose": true,
   "autocomplete": false,
   "bibliofile": "biblio.bib",
   "cite_by": "apalike",
   "current_citInitial": 1,
   "eqLabelWithNumbers": true,
   "eqNumInitial": 1,
   "hotkeys": {
    "equation": "Ctrl-E",
    "itemize": "Ctrl-I"
   },
   "labels_anchors": false,
   "latex_user_defs": false,
   "report_style_numbering": false,
   "user_envs_cfg": false
  }
 },
 "nbformat": 4,
 "nbformat_minor": 5
}
