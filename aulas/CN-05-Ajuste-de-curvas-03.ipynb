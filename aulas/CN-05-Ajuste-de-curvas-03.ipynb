{
 "cells": [
  {
   "cell_type": "code",
   "execution_count": 1,
   "id": "6fdf8ae1",
   "metadata": {
    "slideshow": {
     "slide_type": "skip"
    }
   },
   "outputs": [
    {
     "data": {
      "text/html": [
       "<style>.container { width:95% !important; }</style>"
      ],
      "text/plain": [
       "<IPython.core.display.HTML object>"
      ]
     },
     "metadata": {},
     "output_type": "display_data"
    }
   ],
   "source": [
    "from IPython.display import display, HTML\n",
    "display(HTML(\"<style>.container { width:95% !important; }</style>\"))"
   ]
  },
  {
   "cell_type": "markdown",
   "id": "8fb4c75a",
   "metadata": {
    "slideshow": {
     "slide_type": "slide"
    }
   },
   "source": [
    "# Ajuste de curvas\n",
    "\n",
    "A regressão linear permite encontrar a melhor **reta** que se ajusta a um conjunto de pontos fornecidos.\n",
    "\n",
    "Veremos agora como ajustar o conjunto de pontos no caso de modelo não-lineares.\n",
    "\n",
    "* Linearização de modelos não-lineares (modelo exponencial)"
   ]
  },
  {
   "cell_type": "markdown",
   "id": "e15eee48",
   "metadata": {
    "slideshow": {
     "slide_type": "slide"
    }
   },
   "source": [
    "# Linearização de modelos não-lineares (modelo exponencial)"
   ]
  },
  {
   "cell_type": "markdown",
   "id": "20e87029",
   "metadata": {
    "slideshow": {
     "slide_type": "fragment"
    }
   },
   "source": [
    "Suponha que o modelo tenha a forma de uma curva exponencial:\n",
    "\n",
    "\\begin{equation}\n",
    "y = \\alpha e^{\\beta x}\n",
    "\\end{equation}\n",
    "\n",
    "onde $\\alpha$ e $\\beta$ são os parâmetros a serem estimados.\n",
    "\n",
    "Diversos sistemas apresentam este comportamento, como o crescimento populacional, o decaimento radioativo dentre outros.\n",
    "\n",
    "Podemos **linearizar** o modelo tomando-se o logaritmo de ambos os lados e obtendo:\n",
    "\n",
    "\\begin{equation}\n",
    "\\ln y = \\ln \\alpha + \\beta x\n",
    "\\end{equation}\n",
    "\n",
    "Observe que este modelo apresenta a equação de uma reta:\n",
    "\n",
    "\\begin{equation}\n",
    "Y = \\theta_0 + \\theta_1x\n",
    "\\end{equation}\n",
    "\n",
    "onde $Y = \\ln y$, $\\theta_0 = \\ln \\alpha$ e $\\theta_1 = \\beta$ e assim podemos utilizar o método dos mínimos quadrados no modelo linearizado.\n"
   ]
  },
  {
   "cell_type": "markdown",
   "id": "5cf6c1fa",
   "metadata": {
    "slideshow": {
     "slide_type": "fragment"
    }
   },
   "source": [
    "## Exemplo\n",
    "\n",
    "Considere um experimento que mediu o decaimento de um material radioativo.\n",
    "À medida que o tempo passa, ele emite partículas e sua massa diminui.\n",
    "A emissão, por sua vez, depende da massa e também diminui com o passar do tempo, seguindo uma **curva exponencial**.\n",
    "Os dados coletados de massa e tempo encontram-se na tabela abaixo:\n",
    "\n",
    "| Tempo (x) | 0 | 1 | 2 | 3 | 4 | 5 | 6 | 7 | 8 |\n",
    "| --- | --- | --- | --- | --- | --- | --- | --- | --- | --- | \n",
    "| Massa (y) | 8100 | 6420 | 4960 | 3190 | 2530 | 2070 | 1800 | 1620 | 1380 |\n",
    "\n",
    "1. Plote o gráfico dos pontos coletados (tempo no eixo $x$ e massa no eixo $y$).\n",
    "2. Em seguida, plote novamente utilizando o eixo semi-log.\n",
    "3. Calcule os valores de $\\ln y$ e plote o gráfico de $\\ln y \\times x$\n",
    "4. Faça a linearização e encontre os parâmetros que melhor se ajustam a curva $y = \\alpha e^{\\beta x}$.\n",
    "5. Plote o gráfico da curva obtida pelo método dos mínimos quadrados\n",
    "6. Estime a massa no tempo $t = 10$"
   ]
  },
  {
   "cell_type": "code",
   "execution_count": 2,
   "id": "4ad801fd",
   "metadata": {
    "scrolled": true,
    "slideshow": {
     "slide_type": "fragment"
    }
   },
   "outputs": [
    {
     "data": {
      "text/plain": [
       "<Figure size 432x288 with 0 Axes>"
      ]
     },
     "execution_count": 2,
     "metadata": {},
     "output_type": "execute_result"
    },
    {
     "data": {
      "image/png": "[encoded data removed]",
      "text/plain": [
       "<Figure size 432x288 with 1 Axes>"
      ]
     },
     "metadata": {
      "needs_background": "light"
     },
     "output_type": "display_data"
    },
    {
     "data": {
      "text/plain": [
       "<Figure size 432x288 with 0 Axes>"
      ]
     },
     "metadata": {},
     "output_type": "display_data"
    }
   ],
   "source": [
    "import numpy as np\n",
    "import matplotlib.pyplot as plt\n",
    "\n",
    "tempo = [0, 1, 2, 3, 4, 5, 6, 7, 8]\n",
    "massa = [8100, 6420, 4960, 3190, 2530, 2070, 1800, 1620, 1380]\n",
    "\n",
    "X = np.array(tempo)\n",
    "Y = np.array(massa)\n",
    "\n",
    "# 1. Plote o gráfico dos pontos coletados (tempo no eixo  𝑥  e massa no eixo  𝑦 ).\n",
    "plt.scatter(X, Y)\n",
    "plt.xlabel('Tempo')\n",
    "plt.ylabel('Massa')\n",
    "plt.figure()"
   ]
  },
  {
   "cell_type": "code",
   "execution_count": 3,
   "id": "254dab3d",
   "metadata": {
    "slideshow": {
     "slide_type": "fragment"
    }
   },
   "outputs": [
    {
     "data": {
      "text/plain": [
       "Text(0, 0.5, 'Massa (log)')"
      ]
     },
     "execution_count": 3,
     "metadata": {},
     "output_type": "execute_result"
    },
    {
     "data": {
      "image/png": "[encoded data removed]",
      "text/plain": [
       "<Figure size 432x288 with 1 Axes>"
      ]
     },
     "metadata": {
      "needs_background": "light"
     },
     "output_type": "display_data"
    }
   ],
   "source": [
    "# 2. Em seguida, plote novamente utilizando o eixo semi-log.\n",
    "plt.semilogy(X, Y, 'or')\n",
    "plt.xlabel('Tempo')\n",
    "plt.ylabel('Massa (log)')"
   ]
  },
  {
   "cell_type": "code",
   "execution_count": 4,
   "id": "1512e813",
   "metadata": {
    "slideshow": {
     "slide_type": "fragment"
    }
   },
   "outputs": [
    {
     "data": {
      "text/plain": [
       "Text(0, 0.5, 'Massa (log)')"
      ]
     },
     "execution_count": 4,
     "metadata": {},
     "output_type": "execute_result"
    },
    {
     "data": {
      "image/png": "[encoded data removed]",
      "text/plain": [
       "<Figure size 432x288 with 1 Axes>"
      ]
     },
     "metadata": {
      "needs_background": "light"
     },
     "output_type": "display_data"
    }
   ],
   "source": [
    "# 3. Calcule os valores de  ln(y)  e plote o gráfico de  ln(y) x x\n",
    "LNY = np.log(Y)\n",
    "plt.figure()\n",
    "plt.scatter(X, LNY, c='g')\n",
    "plt.xlabel('Tempo')\n",
    "plt.ylabel('Massa (log)')"
   ]
  },
  {
   "cell_type": "code",
   "execution_count": 5,
   "id": "b9297136",
   "metadata": {},
   "outputs": [
    {
     "name": "stdout",
     "output_type": "stream",
     "text": [
      "A equação obtida foi: y = 7358.4618e^-0.2278x\n"
     ]
    }
   ],
   "source": [
    "# 4. Faça a linearização e encontre os parâmetros que melhor se ajustam a curva  y=alpha e^{betax}\n",
    "from scipy import stats\n",
    "\n",
    "mod = stats.linregress(X, LNY)\n",
    "\n",
    "# o valor obtido foi de th1 = ln(alpha). Para achar o valor de alpha fazemos:\n",
    "alpha = np.exp(mod.intercept)\n",
    "beta = mod.slope\n",
    "print(f'A equação obtida foi: y = {alpha:.4f}e^{beta:.4f}x')"
   ]
  },
  {
   "cell_type": "code",
   "execution_count": 9,
   "id": "3beb6cae",
   "metadata": {
    "slideshow": {
     "slide_type": "fragment"
    }
   },
   "outputs": [
    {
     "data": {
      "text/plain": [
       "<matplotlib.legend.Legend at 0x1e0b2e43ca0>"
      ]
     },
     "execution_count": 9,
     "metadata": {},
     "output_type": "execute_result"
    },
    {
     "data": {
      "image/png": "[encoded data removed]",
      "text/plain": [
       "<Figure size 432x288 with 1 Axes>"
      ]
     },
     "metadata": {
      "needs_background": "light"
     },
     "output_type": "display_data"
    }
   ],
   "source": [
    "# 5. Plote o gráfico da curva obtida pelo método dos mínimos quadrados\n",
    "Xr = np.linspace(0, 10)\n",
    "Yr = alpha*np.exp(Xr*beta)\n",
    "plt.figure()\n",
    "plt.scatter(X, Y)\n",
    "plt.plot(Xr, Yr, 'r')\n",
    "plt.legend(['Pontos originais', 'Modelo obtido'])"
   ]
  },
  {
   "cell_type": "code",
   "execution_count": 15,
   "id": "996d71a1",
   "metadata": {
    "slideshow": {
     "slide_type": "fragment"
    }
   },
   "outputs": [
    {
     "name": "stdout",
     "output_type": "stream",
     "text": [
      "A massa estimada é de 753.934\n"
     ]
    }
   ],
   "source": [
    "# 6. Estime a massa no tempo t = 10\n",
    "t = 10\n",
    "y = alpha*np.exp(beta*t)\n",
    "print(f'A massa estimada é de {y:.3f}')"
   ]
  },
  {
   "cell_type": "markdown",
   "id": "11101496-3a17-49cc-bf48-ee82ed695fd6",
   "metadata": {},
   "source": [
    "# Exercício"
   ]
  },
  {
   "cell_type": "markdown",
   "id": "cb0c5d91-8df5-46b1-8c04-43828eb3307b",
   "metadata": {},
   "source": [
    "Suponha que um determinado fenômeno obedece ao modelo $P(t) = P_0 e^{-\\lambda/t}$.\n",
    "Considerando os valores de $P$ e $t$ abaixo, faça o que se pede: \n",
    "\n",
    "\\begin{array}{|c|c|} \\hline\n",
    "P & t \\\\ \\hline\n",
    "2,5 & 261 \\\\\n",
    "6,1 & 280 \\\\\n",
    "10,1 & 290 \\\\\n",
    "31,3 & 302 \\\\\n",
    "44,1 & 310 \\\\\n",
    "80,0 & 322 \\\\\n",
    "150,0 & 331 \\\\\n",
    "260,0 & 340 \\\\ \\hline\n",
    "\\end{array}\n",
    "\n",
    "1. Linearize o modelo.\n",
    "2. Determine os valores de $P_0$ e $\\lambda$ utilizando regressão linear.\n",
    "3. Plote os pontos originais.\n",
    "4. Plote o gráfico da curva $P(t) = P_0 e^{-\\lambda/t}$ estimada."
   ]
  },
  {
   "cell_type": "code",
   "execution_count": null,
   "id": "fe9291e5",
   "metadata": {},
   "outputs": [],
   "source": []
  }
 ],
 "metadata": {
  "celltoolbar": "Slideshow",
  "kernelspec": {
   "display_name": "Python 3 (ipykernel)",
   "language": "python",
   "name": "python3"
  },
  "language_info": {
   "codemirror_mode": {
    "name": "ipython",
    "version": 3
   },
   "file_extension": ".py",
   "mimetype": "text/x-python",
   "name": "python",
   "nbconvert_exporter": "python",
   "pygments_lexer": "ipython3",
   "version": "3.9.12"
  },
  "latex_envs": {
   "LaTeX_envs_menu_present": true,
   "autoclose": true,
   "autocomplete": false,
   "bibliofile": "biblio.bib",
   "cite_by": "apalike",
   "current_citInitial": 1,
   "eqLabelWithNumbers": true,
   "eqNumInitial": 1,
   "hotkeys": {
    "equation": "Ctrl-E",
    "itemize": "Ctrl-I"
   },
   "labels_anchors": false,
   "latex_user_defs": false,
   "report_style_numbering": false,
   "user_envs_cfg": false
  }
 },
 "nbformat": 4,
 "nbformat_minor": 5
}
