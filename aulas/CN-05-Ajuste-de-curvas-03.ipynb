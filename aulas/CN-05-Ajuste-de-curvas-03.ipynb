{
 "cells": [
  {
   "cell_type": "markdown",
   "id": "8fb4c75a",
   "metadata": {},
   "source": [
    "# Ajuste de curvas\n",
    "\n",
    "A regressão linear permite encontrar a melhor reta que se ajusta a um conjunto de pontos fornecidos.\n",
    "\n",
    "Veremos agora como ajustar o conjunto de pontos no caso de modelo não-lineares.\n",
    "\n",
    "* Regressão linear múltipla\n",
    "* Linearização de modelos não-lineares\n",
    "* Mínimos quadrados para polinômios\n",
    "* Regressão não-linear"
   ]
  },
  {
   "cell_type": "markdown",
   "id": "1d13ec7d",
   "metadata": {},
   "source": [
    "# Linearização de modelos não-lineares"
   ]
  },
  {
   "cell_type": "markdown",
   "id": "7efe6338",
   "metadata": {},
   "source": [
    "Suponha que o modelo tenha a forma de uma curva exponencial:\n",
    "\n",
    "\\begin{equation}\n",
    "y = \\alpha e^{\\beta x}\n",
    "\\end{equation}\n",
    "\n",
    "onde $\\alpha$ e $\\beta$ são os parâmetros a serem estimados.\n",
    "\n",
    "Diversos sistemas apresentam este comportamento, como o crescimento populacional, o decaimento radioativo dentre outros.\n",
    "\n",
    "Podemos **linearizar** o modelo tomando-se o logaritmo e obtendo:\n",
    "\n",
    "\\begin{equation}\n",
    "\\ln y = \\ln \\alpha + \\beta x\n",
    "\\end{equation}\n",
    "\n",
    "Observe que este modelo apresenta a equação de uma reta:\n",
    "\n",
    "\\begin{equation}\n",
    "Y = \\theta_0 + \\theta_1x\n",
    "\\end{equation}\n",
    "\n",
    "onde $Y = \\ln y$, $\\theta_0 = \\ln \\alpha$ e $\\theta_1 = \\beta$ e assim podemos utilizar o método dos mínimos quadrados no modelo linearizado.\n"
   ]
  },
  {
   "cell_type": "markdown",
   "id": "35b24fe4",
   "metadata": {},
   "source": [
    "## Exemplo\n",
    "\n",
    "Considere um experimento que mediu o decaimento de um material radioativo.\n",
    "À medida que o tempo passa, ele emite partículas e sua massa diminui.\n",
    "A emissão, por sua vez, depende da massa e também diminui com o passar do tempo, seguindo uma curva exponencial.\n",
    "Os dados coletados de massa e tempo encontram-se na tabela abaixo:\n",
    "\n",
    "| Tempo (x) | 0 | 1 | 2 | 3 | 4 | 5 | 6 | 7 | 8 |\n",
    "| --- | --- | --- | --- | --- | --- | --- | --- | --- | --- | \n",
    "| Massa (y) | 8100 | 6420 | 4960 | 3190 | 2530 | 2070 | 1800 | 1620 | 1380 |\n",
    "\n",
    "1. Plote o gráfico dos pontos coletados (tempo no eixo $x$ e massa no eixo $y$).\n",
    "2. Em seguida, plote novamente utilizando o eixo semi-log.\n",
    "3. Calcule os valores de $\\ln y$ e plote o gráfico de $\\ln y \\times x$\n",
    "4. Faça a linearização e encontre os parâmetros que melhor se ajustam a curva $y = \\alpha e^{\\beta x}$.\n",
    "5. Plote o gráfico da curva obtida pelo método dos mínimos quadrados\n",
    "6. Estime a massa no tempo $t = 10$"
   ]
  },
  {
   "cell_type": "code",
   "execution_count": 79,
   "id": "23edf1f2",
   "metadata": {},
   "outputs": [
    {
     "name": "stderr",
     "output_type": "stream",
     "text": [
      "d:\\system\\conda_envs\\cn\\lib\\site-packages\\scipy\\stats\\stats.py:1541: UserWarning: kurtosistest only valid for n>=20 ... continuing anyway, n=9\n",
      "  warnings.warn(\"kurtosistest only valid for n>=20 ... continuing \"\n"
     ]
    },
    {
     "name": "stdout",
     "output_type": "stream",
     "text": [
      "                            OLS Regression Results                            \n",
      "==============================================================================\n",
      "Dep. Variable:                      y   R-squared:                       0.964\n",
      "Model:                            OLS   Adj. R-squared:                  0.959\n",
      "Method:                 Least Squares   F-statistic:                     187.8\n",
      "Date:                Mon, 27 Jun 2022   Prob (F-statistic):           2.60e-06\n",
      "Time:                        17:44:15   Log-Likelihood:                 6.8064\n",
      "No. Observations:                   9   AIC:                            -9.613\n",
      "Df Residuals:                       7   BIC:                            -9.218\n",
      "Df Model:                           1                                         \n",
      "Covariance Type:            nonrobust                                         \n",
      "==============================================================================\n",
      "                 coef    std err          t      P>|t|      [0.025      0.975]\n",
      "------------------------------------------------------------------------------\n",
      "Intercept      8.9036      0.079    112.474      0.000       8.716       9.091\n",
      "x1            -0.2278      0.017    -13.702      0.000      -0.267      -0.189\n",
      "==============================================================================\n",
      "Omnibus:                        3.396   Durbin-Watson:                   0.642\n",
      "Prob(Omnibus):                  0.183   Jarque-Bera (JB):                1.070\n",
      "Skew:                          -0.293   Prob(JB):                        0.586\n",
      "Kurtosis:                       1.416   Cond. No.                         9.06\n",
      "==============================================================================\n",
      "\n",
      "Notes:\n",
      "[1] Standard Errors assume that the covariance matrix of the errors is correctly specified.\n",
      "Intercept    8.903606\n",
      "x1          -0.227830\n",
      "dtype: float64\n",
      "A equação obtida foi: y = 7358.4618e^-0.2278x\n",
      "A massa estimada é de 753.934\n"
     ]
    },
    {
     "data": {
      "image/png": "[encoded data removed]",
      "text/plain": [
       "<Figure size 432x288 with 1 Axes>"
      ]
     },
     "metadata": {
      "needs_background": "light"
     },
     "output_type": "display_data"
    },
    {
     "data": {
      "image/png": "[encoded data removed]",
      "text/plain": [
       "<Figure size 432x288 with 1 Axes>"
      ]
     },
     "metadata": {
      "needs_background": "light"
     },
     "output_type": "display_data"
    },
    {
     "data": {
      "image/png": "[encoded data removed]",
      "text/plain": [
       "<Figure size 432x288 with 1 Axes>"
      ]
     },
     "metadata": {
      "needs_background": "light"
     },
     "output_type": "display_data"
    },
    {
     "data": {
      "image/png": "[encoded data removed]",
      "text/plain": [
       "<Figure size 432x288 with 1 Axes>"
      ]
     },
     "metadata": {
      "needs_background": "light"
     },
     "output_type": "display_data"
    }
   ],
   "source": [
    "import numpy as np\n",
    "import matplotlib.pyplot as plt\n",
    "\n",
    "tempo = [0, 1, 2, 3, 4, 5, 6, 7, 8]\n",
    "massa = [8100, 6420, 4960, 3190, 2530, 2070, 1800, 1620, 1380]\n",
    "\n",
    "X = np.array(tempo)\n",
    "Y = np.array(massa)\n",
    "\n",
    "# 1. Plote o gráfico dos pontos coletados (tempo no eixo  𝑥  e massa no eixo  𝑦 ).\n",
    "plt.scatter(X, Y)\n",
    "plt.xlabel('Tempo')\n",
    "plt.ylabel('Massa')\n",
    "plt.figure()\n",
    "\n",
    "# 2. Em seguida, plote novamente utilizando o eixo semi-log.\n",
    "plt.semilogy(X, Y, 'or')\n",
    "plt.xlabel('Tempo')\n",
    "plt.ylabel('Massa (log)')\n",
    "\n",
    "# 3. Calcule os valores de  ln(y)  e plote o gráfico de  ln(y) x x\n",
    "LNY = np.log(Y)\n",
    "plt.figure()\n",
    "plt.scatter(X, LNY, c='g')\n",
    "plt.xlabel('Tempo')\n",
    "plt.ylabel('Massa (log)')\n",
    "\n",
    "# 4. Faça a linearização e encontre os parâmetros que melhor se ajustam a curva  y=alpha e^{betax}\n",
    "import statsmodels.api as sm\n",
    "\n",
    "data = {'x1' : X, 'y': LNY}\n",
    "modelo = ols('y ~ x1', data = data)\n",
    "resultado = modelo.fit()\n",
    "print(resultado.summary())\n",
    "print(resultado.params)\n",
    "\n",
    "# o valor obtido foi de th1 = ln(alpha). Para achar o valor de alpha fazemos:\n",
    "alpha = np.exp(resultado.params[0])\n",
    "beta = resultado.params[1]\n",
    "print(f'A equação obtida foi: y = {alpha:.4f}e^{beta:.4f}x')\n",
    "\n",
    "# 5. Plote o gráfico da curva obtida pelo método dos mínimos quadrados\n",
    "Xr = np.linspace(0, 10)\n",
    "Yr = alpha*np.exp(Xr*beta)\n",
    "plt.figure()\n",
    "plt.scatter(X, Y)\n",
    "plt.plot(Xr, Yr, 'r')\n",
    "plt.legend(['Pontos originais', 'Modelo obtido'])\n",
    "\n",
    "# 6. Estime a massa no tempo t = 10\n",
    "logm = resultado.predict(exog=dict(x1=10))\n",
    "m10 = np.exp(logm[0])\n",
    "print(f'A massa estimada é de {m10:.3f}')"
   ]
  },
  {
   "cell_type": "markdown",
   "id": "f1568ecb",
   "metadata": {},
   "source": [
    "## Exemplo 2: Crescimento exponencial\n",
    "\n",
    "A população brasileira tem crescido constantemente nas últimas décadas, apresentando um alto crescimento vegetativo.\n",
    "Embora a taxa de natalidade tenha apresentado diminuição nos últimos anos, o aumento da espectativa de vida e a diminuição da taxa de mortalidade tem contribuído com o aumento populacional.\n",
    "\n",
    "Observe os dados da população brasileira nas últimas décadas:\n",
    "\n",
    "| Ano | População |\n",
    "| --- | --- |\n",
    "| 1872 | 9.930.478 |\n",
    "| 1890 | 14.333.915 |\t\t\n",
    "| 1900 | 17.438.434 |\t\t\n",
    "| 1920 | 30.635.605\t|\t\n",
    "| 1940 | 41.236.315\t|\t\n",
    "| 1950 | 51.944.397\t|\t\n",
    "| 1960 | 70.992.343\t|\t\n",
    "| 1970 | 94.508.583\t|\t\n",
    "| 1980 | 121.150.573 |\t\t\n",
    "| 1991 | 146.917.459 |\t\t\n",
    "| 2000 | 169.590.693 |\t\t\n",
    "| 2010 | 190.755.799 |\n",
    "\n",
    "1. Trace o diagrama de dispersão dos dados acima\n",
    "2. Em seguida, plote novamente utilizando o eixo semi-log.\n",
    "3. Ajuste os dados a uma curva exponencial\n",
    "4. Sabendo que a população brasileira em 2020 foi de 212,6 milhões de habitantes, podemos afirmar que o crescimento continua obedecendo uma curva exponencial?"
   ]
  },
  {
   "cell_type": "code",
   "execution_count": 172,
   "id": "3f6569b9",
   "metadata": {},
   "outputs": [
    {
     "name": "stdout",
     "output_type": "stream",
     "text": [
      "A equação obtida foi: y = 6.183e-12 exp(0.0224x)\n",
      "A estimativa para a população em 2020 é de 267592629 habitantes\n"
     ]
    },
    {
     "data": {
      "image/png": "[encoded data removed]",
      "text/plain": [
       "<Figure size 432x288 with 1 Axes>"
      ]
     },
     "metadata": {
      "needs_background": "light"
     },
     "output_type": "display_data"
    },
    {
     "data": {
      "image/png": "[encoded data removed]",
      "text/plain": [
       "<Figure size 432x288 with 1 Axes>"
      ]
     },
     "metadata": {
      "needs_background": "light"
     },
     "output_type": "display_data"
    }
   ],
   "source": [
    "import pandas as pd\n",
    "import matplotlib.pyplot as plt\n",
    "\n",
    "data = [{'ano': 1872, 'pop': 9930478}, {'ano': 1890, 'pop': 14333915}, {'ano': 1900, 'pop': 17438434}, \n",
    " {'ano': 1920, 'pop': 30635605}, {'ano': 1940, 'pop': 41236315}, {'ano': 1950, 'pop': 51944397},\n",
    " {'ano': 1960, 'pop': 70992343}, {'ano': 1970, 'pop': 94508583}, {'ano': 1980, 'pop': 121150573},\n",
    " {'ano': 1991, 'pop': 146917459}, {'ano': 2000, 'pop': 169590693}, {'ano': 2010, 'pop': 190755799}]\n",
    "\n",
    "df = pd.DataFrame(data) \n",
    "\n",
    "X = datadf['ano']\n",
    "Y = datadf['pop']\n",
    "\n",
    "# 1. Trace o diagrama de dispersão dos dados acima\n",
    "plt.scatter(X, Y)\n",
    "plt.xlabel('Ano')\n",
    "plt.ylabel('População')\n",
    "\n",
    "# 2. Em seguida, plote novamente utilizando o eixo semi-log.\n",
    "plt.figure()\n",
    "plt.semilogy(X, Y, 'or')\n",
    "\n",
    "# 3. Ajuste os dados a uma curva exponencial\n",
    "from scipy import stats\n",
    "\n",
    "LNY = np.log(Y)\n",
    "r = stats.linregress(X, LNY)\n",
    "th1,th0 = r.slope, r.intercept\n",
    "\n",
    "# o valor obtido foi de th1 = ln(alpha). Para achar o valor de alpha fazemos:\n",
    "alpha = np.exp(th0)\n",
    "beta = th1\n",
    "print(f'A equação obtida foi: y = {alpha:.3e} exp({beta:.4f}x)')\n",
    "estimativa = alpha*np.exp(2020*beta)\n",
    "print(f'A estimativa para a população em 2020 é de {estimativa:.0f} habitantes')\n",
    "\n",
    "# Sabendo que a população brasileira em 2020 foi de 212,6 milhões de habitantes, podemos afirmar que o crescimento continua obedecendo uma curva exponencial?"
   ]
  },
  {
   "cell_type": "code",
   "execution_count": 159,
   "id": "dbd3b694",
   "metadata": {},
   "outputs": [
    {
     "name": "stdout",
     "output_type": "stream",
     "text": [
      "(array([1.00000000e+00, 7.99528828e+07, 1.00000000e+00]), array([[inf, inf, inf],\n",
      "       [inf, inf, inf],\n",
      "       [inf, inf, inf]]))\n"
     ]
    },
    {
     "name": "stderr",
     "output_type": "stream",
     "text": [
      "d:\\system\\conda_envs\\cn\\lib\\site-packages\\scipy\\optimize\\minpack.py:833: OptimizeWarning: Covariance of the parameters could not be estimated\n",
      "  warnings.warn('Covariance of the parameters could not be estimated',\n"
     ]
    },
    {
     "data": {
      "text/plain": [
       "<matplotlib.collections.PathCollection at 0x1924a18e650>"
      ]
     },
     "execution_count": 159,
     "metadata": {},
     "output_type": "execute_result"
    },
    {
     "data": {
      "image/png": "[encoded data removed]",
      "text/plain": [
       "<Figure size 432x288 with 1 Axes>"
      ]
     },
     "metadata": {
      "needs_background": "light"
     },
     "output_type": "display_data"
    }
   ],
   "source": [
    "X = np.array(ano)\n",
    "Y = np.array(populacao)\n",
    "\n",
    "def crescimentologistico(theta):\n",
    "    N = Y \n",
    "    t = X \n",
    "    N0 = theta[0]\n",
    "    k = theta[1]\n",
    "    r = theta[2]\n",
    "    residuo = N - N0*k/((k-N0)*np.exp(-r*t)+N0)\n",
    "    return N0*k/((k-N0)*np.exp(-r*t)+N0)\n",
    "    #return np.sum(residuo**2)\n",
    "\n",
    "def crescimentologistico2(t, N0, k, r):\n",
    "    return N0*k/((k - N0)*np.exp(-r*t) + N0)\n",
    "       \n",
    "x0 = [9930478, 50000000, 0.02]\n",
    "\n",
    "from scipy.optimize import curve_fit\n",
    "#import scipy.optimize as opt\n",
    "#res = opt.minimize(crescimentologistico, x0)\n",
    "\n",
    "res = curve_fit(crescimentologistico2, X, Y)\n",
    "print(res)\n",
    "\n",
    "YY = crescimentologistico2(X, 90000, 70000000, 0.05)\n",
    "plt.plot(X, YY)\n",
    "plt.scatter(X, Y, c='r')"
   ]
  },
  {
   "cell_type": "markdown",
   "id": "be710446",
   "metadata": {},
   "source": [
    "# Regressão linear múltipla\n",
    "\n",
    "A regressão linear múltipla é semelhante à regressão linear simples, porém com mais de uma variável independente, significando que a variável a ser predita é baseada em 2 ou mais variáveis de entrada.\n",
    "\n",
    "Matematicamente temos:\n",
    "\n",
    "\\begin{equation}\n",
    "y = \\beta_0 + \\beta_1x_1 + \\beta_2x_2\n",
    "\\end{equation}\n",
    "\n",
    "onde $y$ é a variável dependente, $\\beta_0$, a constante, $\\beta_1$ a inclinação em relação à variável $x_1$ e $\\theta_2$ a inclinação em relação à variável $x_2$.\n",
    "\n",
    "Para que a regressão linear múltipla traga bons resultados é preciso que:\n",
    "\n",
    "1. Existe uma relação linear entre a variável dependente e as variáveis independentes.\n",
    "2. As variáveis independentes não tenham alta correlaçãno entre si.\n",
    "3. O tamanho do residuo não depende do tamanho do valor de entrada (homocedasticidade)\n",
    "4. Os resíduos apresentam distribuição normal\n",
    "\n",
    "Avalie a utilização de um modelo de regressão linear múltipla na tentativa de explicar a variação da viscosidade (y) de um polímero em função da temperatura (x1) de reação e da taxa de adição (x2) do catalisador.\n",
    "Através da realização de experimentos para diferentes valores de x1 e x2, obtiveram-se os valores de y mostrados na tabela abaixo. \n",
    "\n",
    "https://uenf.br/posgraduacao/matematica/wp-content/uploads/sites/14/2017/09/28052015Renato-Neves-de-Almeida.pdf\n",
    "\n",
    "1. Encontre o ajuste desejado pelo Método dos Mínimos Quadrados \n",
    "2. Calcule e utilize o coeficiente de determinação ajustado (r2 ajust.) para fazer uma avaliação do modelo.\n",
    "\n",
    "| Observação | Viscosidade (y Pa s) | Temperatura(x1 - ºC) | Catalisador(x2 - lb/h) |\n",
    "| --- | --- | --- | --- |\n",
    "| 1 | 2256 | 80 | 8 |\n",
    "| 2 | 2340 | 93 | 9 |\n",
    "| 3 | 2426 | 100 | 10 |\n",
    "| 4 | 2293 | 82 | 12 |\n",
    "| 5 | 2330 | 90 | 11 |\n",
    "| 6 | 2368 | 99 | 8 |\n",
    "| 7 | 2250 | 81 | 8 |\n",
    "| 8 | 2409 | 96 | 10 |\n",
    "| 9 | 2364 | 94 | 12 |\n",
    "| 10 | 2379 | 93 | 11 |\n",
    "| 11 | 2440 | 97 | 13 |\n",
    "| 12 | 2364 | 95 | 11 |\n",
    "| 13 | 2404 | 100 | 8 |\n",
    "| 14 | 2317 | 85 | 12 |\n",
    "| 15 | 2309 | 86 | 9 |\n",
    "| 16 | 2328 | 87 | 12 |"
   ]
  },
  {
   "cell_type": "code",
   "execution_count": 171,
   "id": "fabdf59d",
   "metadata": {},
   "outputs": [
    {
     "name": "stderr",
     "output_type": "stream",
     "text": [
      "d:\\system\\conda_envs\\cn\\lib\\site-packages\\scipy\\stats\\stats.py:1541: UserWarning: kurtosistest only valid for n>=20 ... continuing anyway, n=16\n",
      "  warnings.warn(\"kurtosistest only valid for n>=20 ... continuing \"\n"
     ]
    },
    {
     "data": {
      "text/html": [
       "<table class=\"simpletable\">\n",
       "<caption>OLS Regression Results</caption>\n",
       "<tr>\n",
       "  <th>Dep. Variable:</th>          <td>visc</td>       <th>  R-squared:         </th> <td>   0.927</td>\n",
       "</tr>\n",
       "<tr>\n",
       "  <th>Model:</th>                   <td>OLS</td>       <th>  Adj. R-squared:    </th> <td>   0.916</td>\n",
       "</tr>\n",
       "<tr>\n",
       "  <th>Method:</th>             <td>Least Squares</td>  <th>  F-statistic:       </th> <td>   82.50</td>\n",
       "</tr>\n",
       "<tr>\n",
       "  <th>Date:</th>             <td>Tue, 28 Jun 2022</td> <th>  Prob (F-statistic):</th> <td>4.10e-08</td>\n",
       "</tr>\n",
       "<tr>\n",
       "  <th>Time:</th>                 <td>12:09:53</td>     <th>  Log-Likelihood:    </th> <td> -65.758</td>\n",
       "</tr>\n",
       "<tr>\n",
       "  <th>No. Observations:</th>      <td>    16</td>      <th>  AIC:               </th> <td>   137.5</td>\n",
       "</tr>\n",
       "<tr>\n",
       "  <th>Df Residuals:</th>          <td>    13</td>      <th>  BIC:               </th> <td>   139.8</td>\n",
       "</tr>\n",
       "<tr>\n",
       "  <th>Df Model:</th>              <td>     2</td>      <th>                     </th>     <td> </td>   \n",
       "</tr>\n",
       "<tr>\n",
       "  <th>Covariance Type:</th>      <td>nonrobust</td>    <th>                     </th>     <td> </td>   \n",
       "</tr>\n",
       "</table>\n",
       "<table class=\"simpletable\">\n",
       "<tr>\n",
       "    <td></td>       <th>coef</th>     <th>std err</th>      <th>t</th>      <th>P>|t|</th>  <th>[0.025</th>    <th>0.975]</th>  \n",
       "</tr>\n",
       "<tr>\n",
       "  <th>const</th> <td> 1566.0778</td> <td>   61.592</td> <td>   25.427</td> <td> 0.000</td> <td> 1433.017</td> <td> 1699.139</td>\n",
       "</tr>\n",
       "<tr>\n",
       "  <th>temp</th>  <td>    7.6213</td> <td>    0.618</td> <td>   12.324</td> <td> 0.000</td> <td>    6.285</td> <td>    8.957</td>\n",
       "</tr>\n",
       "<tr>\n",
       "  <th>catal</th> <td>    8.5848</td> <td>    2.439</td> <td>    3.520</td> <td> 0.004</td> <td>    3.316</td> <td>   13.853</td>\n",
       "</tr>\n",
       "</table>\n",
       "<table class=\"simpletable\">\n",
       "<tr>\n",
       "  <th>Omnibus:</th>       <td> 1.215</td> <th>  Durbin-Watson:     </th> <td>   2.607</td>\n",
       "</tr>\n",
       "<tr>\n",
       "  <th>Prob(Omnibus):</th> <td> 0.545</td> <th>  Jarque-Bera (JB):  </th> <td>   0.779</td>\n",
       "</tr>\n",
       "<tr>\n",
       "  <th>Skew:</th>          <td>-0.004</td> <th>  Prob(JB):          </th> <td>   0.677</td>\n",
       "</tr>\n",
       "<tr>\n",
       "  <th>Kurtosis:</th>      <td> 1.919</td> <th>  Cond. No.          </th> <td>1.38e+03</td>\n",
       "</tr>\n",
       "</table><br/><br/>Notes:<br/>[1] Standard Errors assume that the covariance matrix of the errors is correctly specified.<br/>[2] The condition number is large, 1.38e+03. This might indicate that there are<br/>strong multicollinearity or other numerical problems."
      ],
      "text/plain": [
       "<class 'statsmodels.iolib.summary.Summary'>\n",
       "\"\"\"\n",
       "                            OLS Regression Results                            \n",
       "==============================================================================\n",
       "Dep. Variable:                   visc   R-squared:                       0.927\n",
       "Model:                            OLS   Adj. R-squared:                  0.916\n",
       "Method:                 Least Squares   F-statistic:                     82.50\n",
       "Date:                Tue, 28 Jun 2022   Prob (F-statistic):           4.10e-08\n",
       "Time:                        12:09:53   Log-Likelihood:                -65.758\n",
       "No. Observations:                  16   AIC:                             137.5\n",
       "Df Residuals:                      13   BIC:                             139.8\n",
       "Df Model:                           2                                         \n",
       "Covariance Type:            nonrobust                                         \n",
       "==============================================================================\n",
       "                 coef    std err          t      P>|t|      [0.025      0.975]\n",
       "------------------------------------------------------------------------------\n",
       "const       1566.0778     61.592     25.427      0.000    1433.017    1699.139\n",
       "temp           7.6213      0.618     12.324      0.000       6.285       8.957\n",
       "catal          8.5848      2.439      3.520      0.004       3.316      13.853\n",
       "==============================================================================\n",
       "Omnibus:                        1.215   Durbin-Watson:                   2.607\n",
       "Prob(Omnibus):                  0.545   Jarque-Bera (JB):                0.779\n",
       "Skew:                          -0.004   Prob(JB):                        0.677\n",
       "Kurtosis:                       1.919   Cond. No.                     1.38e+03\n",
       "==============================================================================\n",
       "\n",
       "Notes:\n",
       "[1] Standard Errors assume that the covariance matrix of the errors is correctly specified.\n",
       "[2] The condition number is large, 1.38e+03. This might indicate that there are\n",
       "strong multicollinearity or other numerical problems.\n",
       "\"\"\""
      ]
     },
     "execution_count": 171,
     "metadata": {},
     "output_type": "execute_result"
    }
   ],
   "source": [
    "import pandas as pd\n",
    "import statsmodels.api as sm\n",
    "\n",
    "dados = pd.DataFrame([{'obs': 1, 'visc': 2256, 'temp': 80, 'catal': 8},\n",
    "         {'obs': 2, 'visc': 2340, 'temp': 93, 'catal': 9},\n",
    "         {'obs': 3, 'visc': 2426, 'temp': 100, 'catal': 10},\n",
    "         {'obs': 4, 'visc': 2293, 'temp': 82, 'catal': 12},\n",
    "         {'obs': 5, 'visc': 2330, 'temp': 90, 'catal': 11},\n",
    "         {'obs': 6, 'visc': 2368, 'temp': 99, 'catal': 8},\n",
    "         {'obs': 7, 'visc': 2250, 'temp': 81, 'catal': 8},\n",
    "         {'obs': 8, 'visc': 2409, 'temp': 96, 'catal': 10},\n",
    "         {'obs': 9, 'visc': 2364, 'temp': 94, 'catal': 12},\n",
    "         {'obs': 10, 'visc': 2379, 'temp': 93, 'catal': 11},\n",
    "         {'obs': 11, 'visc': 2440, 'temp': 97, 'catal': 13},\n",
    "         {'obs': 12, 'visc': 2364, 'temp': 95, 'catal': 11},\n",
    "         {'obs': 13, 'visc': 2404, 'temp': 100, 'catal': 8},\n",
    "         {'obs': 14, 'visc': 2317, 'temp': 85, 'catal': 12},\n",
    "         {'obs': 15, 'visc': 2309, 'temp': 86, 'catal': 9},\n",
    "         {'obs': 16, 'visc': 2328, 'temp': 87, 'catal': 12}])\n",
    "\n",
    "X = dados[['temp', 'catal']]\n",
    "Y = dados['visc']\n",
    "X = sm.add_constant(X)\n",
    "modelo = sm.OLS(Y, X).fit()\n",
    "modelo.summary()"
   ]
  }
 ],
 "metadata": {
  "kernelspec": {
   "display_name": "Python 3 (ipykernel)",
   "language": "python",
   "name": "python3"
  },
  "language_info": {
   "codemirror_mode": {
    "name": "ipython",
    "version": 3
   },
   "file_extension": ".py",
   "mimetype": "text/x-python",
   "name": "python",
   "nbconvert_exporter": "python",
   "pygments_lexer": "ipython3",
   "version": "3.10.4"
  },
  "latex_envs": {
   "LaTeX_envs_menu_present": true,
   "autoclose": true,
   "autocomplete": false,
   "bibliofile": "biblio.bib",
   "cite_by": "apalike",
   "current_citInitial": 1,
   "eqLabelWithNumbers": true,
   "eqNumInitial": 1,
   "hotkeys": {
    "equation": "Ctrl-E",
    "itemize": "Ctrl-I"
   },
   "labels_anchors": false,
   "latex_user_defs": false,
   "report_style_numbering": false,
   "user_envs_cfg": false
  }
 },
 "nbformat": 4,
 "nbformat_minor": 5
}
