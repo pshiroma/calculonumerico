{
 "cells": [
  {
   "cell_type": "markdown",
   "id": "9988e73c",
   "metadata": {
    "slideshow": {
     "slide_type": "slide"
    }
   },
   "source": [
    "# Derivação\n",
    "\n",
    "* Derivada de ordem 1\n",
    "* Derivada progressiva, regressiva e centrada\n",
    "* Derivadas de ordem superior\n",
    "* Derivadas de alta acurácia"
   ]
  },
  {
   "cell_type": "markdown",
   "id": "393c8323",
   "metadata": {
    "slideshow": {
     "slide_type": "slide"
    }
   },
   "source": [
    "O conceito de derivada está relacionado à taxa de variação instantânea de uma função.\n",
    "Uma definição da derivada de uma função $f(x)$ é:\n",
    "\n",
    "\\begin{equation}\n",
    "f'(x) = \\lim\\limits_{\\Delta x \\rightarrow 0} \\dfrac{f(x + \\Delta x) - f(x)}{\\Delta x}\n",
    "\\end{equation}"
   ]
  },
  {
   "cell_type": "markdown",
   "id": "5401b361",
   "metadata": {
    "slideshow": {
     "slide_type": "fragment"
    }
   },
   "source": [
    "# Exemplo 1\n",
    "\n",
    "Calcule a derivada da função:\n",
    "\n",
    "\\begin{equation}\n",
    "f(x) = -0.1x^4 - 0.15x^3 -0.5x^2 -0.25x + 1.2\n",
    "\\end{equation}\n",
    "\n",
    "em $x = 0.5$"
   ]
  },
  {
   "cell_type": "markdown",
   "id": "06c3aa8f",
   "metadata": {
    "slideshow": {
     "slide_type": "fragment"
    }
   },
   "source": [
    "## Solução analítica\n",
    "\n",
    "Sabemos do cálculo que a derivada de $f(x)$ é:\n",
    "\n",
    "\\begin{equation}\n",
    "f'(x) = -0.4x^3 - 0.45x^2 -1.0x - 0.25\n",
    "\\end{equation}\n",
    "\n",
    "Assim, \n",
    "\n",
    "\\begin{equation}\n",
    "f'(0.5) = -0.9125\n",
    "\\end{equation}\n"
   ]
  },
  {
   "cell_type": "markdown",
   "id": "ee0eba3e",
   "metadata": {
    "slideshow": {
     "slide_type": "fragment"
    }
   },
   "source": [
    "## Solução numérica - biblioteca scipy"
   ]
  },
  {
   "cell_type": "code",
   "execution_count": 14,
   "id": "5da6a279",
   "metadata": {
    "slideshow": {
     "slide_type": "fragment"
    }
   },
   "outputs": [
    {
     "name": "stdout",
     "output_type": "stream",
     "text": [
      "Valor estimado: -0.915999999999999 erro: 0.0034999999999990594\n",
      "Valor estimado: -0.9125349999999977 erro: 3.499999999767578e-05\n",
      "Valor estimado: -0.9125003500000117 erro: 3.5000001175067297e-07\n",
      "Valor estimado: -0.9125000000331783 erro: 3.317834895710803e-11\n",
      "Valor estimado: -0.9125000755005885 erro: 7.550058855887443e-08\n",
      "Valor estimado: -0.9126033262418787 erro: 0.00010332624187869843\n",
      "Valor estimado: -0.943689570931383 erro: 0.03118957093138297\n"
     ]
    },
    {
     "data": {
      "text/plain": [
       "[<matplotlib.lines.Line2D at 0x1e9ddd4ece0>]"
      ]
     },
     "execution_count": 14,
     "metadata": {},
     "output_type": "execute_result"
    },
    {
     "data": {
      "image/png": "[encoded data removed]",
      "text/plain": [
       "<Figure size 432x288 with 1 Axes>"
      ]
     },
     "metadata": {
      "needs_background": "light"
     },
     "output_type": "display_data"
    }
   ],
   "source": [
    "from scipy.misc import derivative\n",
    "\n",
    "def f(x):\n",
    "    return -0.1*x**4 - 0.15*x**3 - 0.5*x**2 - 0.25*x + 1.2\n",
    "\n",
    "x0 = 0.5\n",
    "dx = 1e-1\n",
    "real = -0.9125 # valor real da derivada em x = 0.5\n",
    "erro = []\n",
    "for dx in [1e-1, 1e-2, 1e-3, 1e-5, 1e-10, 1e-13, 1e-15]:\n",
    "    df = derivative(f, x0, dx)\n",
    "    erro.append(abs(df - real))\n",
    "    print(f'Valor estimado: {df} erro: {abs(df-real)}')\n",
    "    \n",
    "import matplotlib.pyplot as plt\n",
    "\n",
    "plt.semilogy(erro)"
   ]
  },
  {
   "cell_type": "markdown",
   "id": "a6878e5c",
   "metadata": {
    "slideshow": {
     "slide_type": "fragment"
    }
   },
   "source": [
    "# Série de Taylor\n",
    "\n",
    "A expansão em série de Taylor de uma função em $f(x+h)$ é dada por:\n",
    "\n",
    "\\begin{equation} \\label{eq:taylorprogressiva}\n",
    "f(x+h) = f(x) + hf'(x) + \\dfrac{h^2}{2}f''(x) + \\ldots\n",
    "\\end{equation}\n",
    "\n",
    "Reorganizando os termos, obtemos uma fórmula para a derivada:\n",
    "\n",
    "\\begin{equation} \n",
    "\\dfrac{f(x+h) - f(x)}{h} = f'(x) + \\dfrac{h}{2}f''(x) + \\ldots\n",
    "\\end{equation}\n",
    "\n",
    "que nos diz que:\n",
    "\n",
    "\\begin{equation} \n",
    "f'(x) = \\dfrac{f(x+h) - f(x)}{h} + O(h)\n",
    "\\end{equation}\n",
    "\n",
    "onde $O(h)$ nos diz que o erro cometido é da ordem (proporcional) de $h$.\n",
    "\n",
    "Esta fórmula é conhecida como **derivada por diferença progressiva**."
   ]
  },
  {
   "cell_type": "code",
   "execution_count": 22,
   "id": "4212ae17",
   "metadata": {
    "slideshow": {
     "slide_type": "fragment"
    }
   },
   "outputs": [
    {
     "name": "stdout",
     "output_type": "stream",
     "text": [
      "Valor estimado: -0.9125087500283512 erro: -8.75002835121208e-06\n"
     ]
    }
   ],
   "source": [
    "def f(x):\n",
    "    return -0.1*x**4 - 0.15*x**3 - 0.5*x**2 - 0.25*x + 1.2\n",
    "\n",
    "def derivada_progressiva(f, x0, h):\n",
    "    df = (f(x0 + h) - f(x0))/h\n",
    "    return df\n",
    "\n",
    "x0 = 0.5\n",
    "h = 1e-5\n",
    "real = -0.9125 # valor real da derivada em x = 0.5\n",
    "\n",
    "df = derivada_progressiva(f, x0, h)\n",
    "print(f'Valor estimado: {df} erro: {df-real}')"
   ]
  },
  {
   "cell_type": "markdown",
   "id": "315dc91d",
   "metadata": {
    "slideshow": {
     "slide_type": "fragment"
    }
   },
   "source": [
    "## Derivada por diferença regressiva\n",
    "\n",
    "Também é possível aproximar a derivada utilizando o ponto $x - h$:\n",
    "\n",
    "\\begin{equation} \\label{eq:taylorregressiva}\n",
    "f(x - h) = f(x) - hf'(x) + \\dfrac{h^2}{2}f''(x) + \\ldots\n",
    "\\end{equation}\n",
    "\n",
    "Neste caso, ela é chamada derivada por diferença regressiva:\n",
    "\n",
    "\\begin{equation}\n",
    "f'(x) \\cong \\dfrac{f(x) - f(x - h)}{h}\n",
    "\\end{equation}"
   ]
  },
  {
   "cell_type": "code",
   "execution_count": 30,
   "id": "e82ce943",
   "metadata": {
    "slideshow": {
     "slide_type": "fragment"
    }
   },
   "outputs": [
    {
     "name": "stdout",
     "output_type": "stream",
     "text": [
      "Valor estimado: -0.9124912500380055 erro: 8.749961994514166e-06\n"
     ]
    }
   ],
   "source": [
    "def f(x):\n",
    "    return -0.1*x**4 - 0.15*x**3 - 0.5*x**2 - 0.25*x + 1.2\n",
    "\n",
    "def derivada_regressiva(f, x0, h):\n",
    "    df = (f(x0) - f(x0 - h))/h\n",
    "    return df\n",
    "\n",
    "x0 = 0.5\n",
    "h = 1e-5\n",
    "real = -0.9125 # valor real da derivada em x = 0.5\n",
    "\n",
    "df = derivada_regressiva(f, x0, h)\n",
    "print(f'Valor estimado: {df} erro: {df-real}')"
   ]
  },
  {
   "cell_type": "markdown",
   "id": "a6242d07",
   "metadata": {
    "slideshow": {
     "slide_type": "fragment"
    }
   },
   "source": [
    "## Derivada por diferença centrada\n",
    "\n",
    "Por último, podemos subtrair a equação \\ref{eq:taylorregressiva} da eq. \\ref{eq:taylorprogressiva} e obter:\n",
    "\n",
    "\\begin{equation} \n",
    "f(x + h) - f(x - h) = 0 + 2hf'(x)  + 2\\dfrac{h^3}{6}f'''(x) + \\ldots\n",
    "\\end{equation}\n",
    "\n",
    "o que, após agruparmos os termos nos dá:\n",
    "\n",
    "\\begin{equation}\n",
    "f'(x) = \\dfrac{f(x + h) - f(x - h)}{2h} + O(h^2)  \n",
    "\\end{equation}\n",
    "\n",
    "Neste caso, ela é chamada derivada por diferença centrada:\n",
    "\n",
    "\\begin{equation}\n",
    "f'(x) \\cong \\dfrac{f(x + h) - f(x - h)}{2h}\n",
    "\\end{equation}\n",
    "\n",
    "Observe que o erro cometido nesta formulação é da ordem de $O(h^2)$ enquanto que nas anteriores é de $O(h)$.\n",
    "Ou seja, ao diminuirmos o valor de $h$, na diferença progressiva ou regressiva, o erro irá diminuir proporcionalmente, enquanto que na diferença centrada o erro irá diminuir de forma quadrática."
   ]
  },
  {
   "cell_type": "code",
   "execution_count": 27,
   "id": "87c34da4",
   "metadata": {
    "slideshow": {
     "slide_type": "fragment"
    }
   },
   "outputs": [
    {
     "name": "stdout",
     "output_type": "stream",
     "text": [
      "Valor estimado: -0.9125000000331783 erro: -3.317834895710803e-11\n"
     ]
    }
   ],
   "source": [
    "def f(x):\n",
    "    return -0.1*x**4 - 0.15*x**3 - 0.5*x**2 - 0.25*x + 1.2\n",
    "\n",
    "def derivada_centrada(f, x0, h):\n",
    "    df = (f(x0 + h) - f(x0 - h))/(2*h)\n",
    "    return df\n",
    "\n",
    "x0 = 0.5\n",
    "h = 1e-5\n",
    "real = -0.9125 # valor real da derivada em x = 0.5\n",
    "\n",
    "df = derivada_centrada(f, x0, h)\n",
    "print(f'Valor estimado: {df} erro: {df-real}')"
   ]
  },
  {
   "cell_type": "markdown",
   "id": "9f3a7f14",
   "metadata": {
    "slideshow": {
     "slide_type": "fragment"
    }
   },
   "source": [
    "# Exemplo 2:\n",
    "\n",
    "Calcule a **derivada segunda** da função\n",
    "\n",
    "\\begin{equation}\n",
    "f(x) = -0.1x^4 - 0.15x^3 -0.5x^2 -0.25x + 1.2\n",
    "\\end{equation}\n",
    "\n",
    "em $x = 0.5$"
   ]
  },
  {
   "cell_type": "markdown",
   "id": "1dbb6c58",
   "metadata": {
    "slideshow": {
     "slide_type": "fragment"
    }
   },
   "source": [
    "## Solução analítica\n",
    "\n",
    "A solução analítica é dada por:\n",
    "\n",
    "\\begin{equation}\n",
    "f''(x) = -1.2x^2 - 0.9x -1.0\n",
    "\\end{equation}\n",
    "\n",
    "ou seja:\n",
    "\n",
    "\\begin{equation}\n",
    "f''(0.5) = -1.75\n",
    "\\end{equation}\n"
   ]
  },
  {
   "cell_type": "code",
   "execution_count": 39,
   "id": "b6b1c3d8",
   "metadata": {
    "slideshow": {
     "slide_type": "fragment"
    }
   },
   "outputs": [
    {
     "data": {
      "text/plain": [
       "-1.750000000466656"
      ]
     },
     "execution_count": 39,
     "metadata": {},
     "output_type": "execute_result"
    }
   ],
   "source": [
    "from scipy.misc import derivative\n",
    "\n",
    "def f(x):\n",
    "    return -0.1*x**4 - 0.15*x**3 - 0.5*x**2 - 0.25*x + 1.2\n",
    "\n",
    "x0 = 0.5\n",
    "dx = 1e-4\n",
    "\n",
    "derivative(f, x0, dx, n=2)"
   ]
  },
  {
   "cell_type": "markdown",
   "id": "f20f72b5",
   "metadata": {
    "slideshow": {
     "slide_type": "fragment"
    }
   },
   "source": [
    "# Derivada de ordem superior\n",
    "\n",
    "A série de Taylor pode ser utilizada também para gerar aproximações das derivadas de ordem superior.\n",
    "\n",
    "Considere as expansões abaixo:\n",
    "\n",
    "\\begin{equation} \\label{eq:taylor1}\n",
    "f(x+2h) = f(x) + 2hf'(x) + \\dfrac{(2h)^2}{2}f''(x) + \\ldots\n",
    "\\end{equation}\n",
    "\n",
    "e\n",
    "\n",
    "\\begin{equation} \\label{eq:taylor2}\n",
    "f(x+h) = f(x) + hf'(x) + \\dfrac{h^2}{2}f''(x) + \\ldots\n",
    "\\end{equation}\n",
    "\n",
    "Tomando o dobro da equação \\ref{eq:taylor2} e subtraindo da equação \\ref{eq:taylor1} temos:\n",
    "\n",
    "\\begin{equation} \n",
    "f(x + 2h) - 2f(x + h) = -f(x) + 0 + h^2f''(x) + \\ldots\n",
    "\\end{equation}\n",
    "\n",
    "o que nos leva à fórmula:\n",
    "\n",
    "\\begin{equation} \\label{eq:derivadasegundaprogressiva}\n",
    "f''(x) = \\dfrac{ f(x + 2h) - 2f(x - h) + f(x)}{h^2} + O(h)\n",
    "\\end{equation}\n",
    "\n",
    "conhecida como segunda diferença dividida finita progressiva.\n",
    "\n",
    "A versão regressiva é dada por:\n",
    "\n",
    "\\begin{equation} \n",
    "f''(x) = \\dfrac{ f(x) - 2f(x - h) + f(x - 2h)}{h^2}\n",
    "\\end{equation}\n",
    "\n",
    "com erro da ordem de $O(h)$, e a versão centrada é dada por:\n",
    "\n",
    "\n",
    "\\begin{equation} \\label{eq:derivadasegunda}\n",
    "f''(x) = \\dfrac{ f(x + h) - 2f(x) + f(x - h)}{h^2}\n",
    "\\end{equation}\n",
    "com erro da ordem de $O(h^2)$\n",
    "\n"
   ]
  },
  {
   "cell_type": "code",
   "execution_count": 41,
   "id": "4b78a7a8",
   "metadata": {
    "slideshow": {
     "slide_type": "fragment"
    }
   },
   "outputs": [
    {
     "name": "stdout",
     "output_type": "stream",
     "text": [
      "Valor estimado: -1.750000000466656 erro: -4.666560471378034e-10\n"
     ]
    }
   ],
   "source": [
    "def f(x):\n",
    "    return -0.1*x**4 - 0.15*x**3 - 0.5*x**2 - 0.25*x + 1.2\n",
    "\n",
    "def derivada_segunda_centrada(f, x0, h):\n",
    "    df = (f(x0 + h) - 2*f(x0) + f(x0 - h))/(h**2)\n",
    "    return df\n",
    "\n",
    "x0 = 0.5\n",
    "h = 1e-4\n",
    "real = -1.75 # valor real da derivada em x = 0.5\n",
    "\n",
    "df = derivada_segunda_centrada(f, x0, h)\n",
    "print(f'Valor estimado: {df} erro: {df-real}')"
   ]
  },
  {
   "cell_type": "markdown",
   "id": "2689e875",
   "metadata": {
    "slideshow": {
     "slide_type": "fragment"
    }
   },
   "source": [
    "# Derivadas de alta acurácia\n",
    "\n",
    "Se substituirmos a fórmula da derivada segunda (eq. \\ref{eq:derivadasegundaprogressiva}) na série de Taylor (\\ref{eq:taylorprogressiva}), podemos obter uma forma mais precisa:\n",
    "\n",
    "\\begin{equation}\n",
    "f'(x) = \\dfrac{-f(x+2h) + 4f(x+h) -3f(x)}{2h} + O(h^2)\n",
    "\\end{equation}\n",
    "\n",
    "Observe que o ganho de precisão exige um número maior de operações."
   ]
  },
  {
   "cell_type": "code",
   "execution_count": 4,
   "id": "2bf58688",
   "metadata": {
    "slideshow": {
     "slide_type": "fragment"
    }
   },
   "outputs": [
    {
     "name": "stdout",
     "output_type": "stream",
     "text": [
      "Valor estimado: -0.9125087500283512 erro: -8.75002835121208e-06\n",
      "Valor estimado: -0.9125000000331783 erro: -3.317834895710803e-11\n",
      "Valor estimado: -0.9124999999166049 erro: 8.339506862853341e-11\n",
      "Valor estimado: -0.9125000000331783 erro: -3.317834895710803e-11\n"
     ]
    }
   ],
   "source": [
    "def f(x):\n",
    "    return -0.1*x**4 - 0.15*x**3 - 0.5*x**2 - 0.25*x + 1.2\n",
    "\n",
    "def derivada_progressiva(f, x0, h):\n",
    "    df = (f(x0 + h) - f(x0))/h\n",
    "    return df\n",
    "\n",
    "def derivada_centrada(f, x0, h):\n",
    "    df = (f(x0 + h) - f(x0 - h))/(2*h)\n",
    "    return df\n",
    "\n",
    "def derivada_altaacuracia(f, x0, h):\n",
    "    df = (-f(x0 + 2*h) + 4*f(x0+h) -3*f(x0))/(2*h)\n",
    "    return df\n",
    "\n",
    "x0 = 0.5\n",
    "h = 1e-5\n",
    "real = -0.9125 # valor real da derivada em x = 0.5\n",
    "\n",
    "df = derivada_progressiva(f, x0, h)\n",
    "print(f'Valor estimado: {df} erro: {df-real}')\n",
    "\n",
    "df = derivada_centrada(f, x0, h)\n",
    "print(f'Valor estimado: {df} erro: {df-real}')\n",
    "\n",
    "df = derivada_altaacuracia(f, x0, h)\n",
    "print(f'Valor estimado: {df} erro: {df-real}')\n",
    "\n",
    "df = derivative(f, x0, h)\n",
    "print(f'Valor estimado: {df} erro: {df-real}')"
   ]
  },
  {
   "cell_type": "code",
   "execution_count": null,
   "id": "e0aa9708",
   "metadata": {},
   "outputs": [],
   "source": []
  }
 ],
 "metadata": {
  "celltoolbar": "Slideshow",
  "kernelspec": {
   "display_name": "Python 3 (ipykernel)",
   "language": "python",
   "name": "python3"
  },
  "language_info": {
   "codemirror_mode": {
    "name": "ipython",
    "version": 3
   },
   "file_extension": ".py",
   "mimetype": "text/x-python",
   "name": "python",
   "nbconvert_exporter": "python",
   "pygments_lexer": "ipython3",
   "version": "3.10.4"
  },
  "latex_envs": {
   "LaTeX_envs_menu_present": true,
   "autoclose": true,
   "autocomplete": false,
   "bibliofile": "biblio.bib",
   "cite_by": "apalike",
   "current_citInitial": 1,
   "eqLabelWithNumbers": true,
   "eqNumInitial": 1,
   "hotkeys": {
    "equation": "Ctrl-E",
    "itemize": "Ctrl-I"
   },
   "labels_anchors": false,
   "latex_user_defs": false,
   "report_style_numbering": false,
   "user_envs_cfg": false
  }
 },
 "nbformat": 4,
 "nbformat_minor": 5
}
