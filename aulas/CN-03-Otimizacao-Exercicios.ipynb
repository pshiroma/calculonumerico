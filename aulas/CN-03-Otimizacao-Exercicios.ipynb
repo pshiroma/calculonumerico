{
 "cells": [
  {
   "cell_type": "markdown",
   "id": "64bcdc69",
   "metadata": {},
   "source": [
    "# Exercício 1\n",
    "\n",
    "Determine o mínimo da função $f(x) = x^4 - 20x^2 + 20x$ numericamente utilizando a função `minimize` da biblioteca `scipy.optimize`.\n",
    "\n",
    "https://docs.scipy.org/doc/scipy/reference/generated/scipy.optimize.minimize_scalar.html"
   ]
  },
  {
   "cell_type": "code",
   "execution_count": null,
   "id": "ec664a23",
   "metadata": {},
   "outputs": [],
   "source": []
  },
  {
   "cell_type": "markdown",
   "id": "3f452bde",
   "metadata": {},
   "source": [
    "# Exercício 2\n",
    "\n",
    "Determine o máximo da função $f(x) = x(1-x/6) $ numericamente utilizando a função `minimize` da biblioteca `scipy.optimize`"
   ]
  },
  {
   "cell_type": "code",
   "execution_count": null,
   "id": "88c0b919",
   "metadata": {},
   "outputs": [],
   "source": []
  },
  {
   "cell_type": "markdown",
   "id": "36822574",
   "metadata": {},
   "source": [
    "# Exercício 3\n",
    "\n",
    "https://www2.ufjf.br/quimicaead//files/2013/05/YAula4_FQI.pdf\n",
    "\n",
    "A densidade da água varia conforme a temperatura e pode ser aproximado por um polinômio de terceiro grau:\n",
    "\n",
    "\\begin{equation}\n",
    "\\rho(T) = a + bT + cT^2 + dT^3\n",
    "\\end{equation}\n",
    "\n",
    "onde $a = 0,9986$, $b = 5,669\\times 10^{-5}$, $c = -7,6207\\times 10^{-6}$, $d = 3,5255\\times 10^{-8}$ e $0 \\leq T \\leq 50$.\n",
    "\n",
    "Determine a temperatura em que a água apresenta a maior densidade."
   ]
  },
  {
   "cell_type": "code",
   "execution_count": null,
   "id": "41ccee1a",
   "metadata": {},
   "outputs": [],
   "source": []
  },
  {
   "cell_type": "markdown",
   "id": "40156b72",
   "metadata": {},
   "source": [
    "# Exercício 4\n",
    "\n",
    "Deseja-se ligar uma rede de água potável entre uma estação de tratamento e um cojunto habitacional.\n",
    "A estação de tratamento está situada na margem de um rio, que possui 300m de largura.\n",
    "O conjunto habitacional está localizado na outra margem do rio e está distante 1km rio abaixo.\n",
    "Sabendo que o custo de instalação é de R\\\\$ 600,00/metro quando ela atravessa o rio e de R\\\\$ 350,00/metro quando é por terra, qual o trajeto econômico de se instalar a rede de água?"
   ]
  },
  {
   "cell_type": "code",
   "execution_count": null,
   "id": "ab83067f",
   "metadata": {},
   "outputs": [],
   "source": []
  },
  {
   "cell_type": "markdown",
   "id": "ecebceed",
   "metadata": {},
   "source": [
    "# Exercício 5\n",
    "\n",
    "Fonte: Oliveira, Samuel & Pereira, Felix. (2015). Um Modelo Matemático Simples para a Otimização de Bioprocessos em Batelada: Estudo de Caso da Produção de um Metabólito Primário. 10.5151/biochem-vsimbbtec-22070. \n",
    "\n",
    "Suponha que você tenha um processo em batelada operado ciclicamente, ou seja, as etapas de carregamento, inoculação, fermentação, descarregamento e limpeza são repetidas indefinidamente.\n",
    "Vamos buscar a maximização da produtividade do processo.\n",
    "\n",
    "A produtividade $Pr$ pode ser equacionada como:\n",
    "\n",
    "\\begin{equation}\n",
    "Pr = \\dfrac{P}{t + t_c}\n",
    "\\end{equation}\n",
    "\n",
    "onde $t_c$ o tempo morto (etapa improdutiva), $t$ o tempo de fermentação e $P$ é a concentração do produto.\n",
    "\n",
    "A concentração $P$ do produto é dada por\n",
    "\n",
    "\\begin{equation}\n",
    "P = Y_{P/S}(S_0 - S)\n",
    "\\end{equation}\n",
    "\n",
    "onde a concentração de nutriente é dado por:\n",
    "\n",
    "\\begin{equation}\n",
    "S = \\left[S_0^{(1-\\delta)} - k(1-\\delta)t \\right]^{1/(1-\\delta)}\n",
    "\\end{equation}\n",
    "\n",
    "Determine o tempo e o valor onde ocorre a máxima produtividade para os seguintes valores:\n",
    "\n",
    "* Tempo reacional: $t_c = 0,5$\n",
    "* Coeficiente de rendimento do produto: $Y_{P/S} = 0,31$\n",
    "* Concentração inicial: $S_0 = 111,5$\n",
    "* $k = 4,3652$\n",
    "* $\\delta = 0,59395$"
   ]
  },
  {
   "cell_type": "code",
   "execution_count": null,
   "id": "9c1917e4",
   "metadata": {},
   "outputs": [],
   "source": []
  }
 ],
 "metadata": {
  "kernelspec": {
   "display_name": "Python 3 (ipykernel)",
   "language": "python",
   "name": "python3"
  },
  "language_info": {
   "codemirror_mode": {
    "name": "ipython",
    "version": 3
   },
   "file_extension": ".py",
   "mimetype": "text/x-python",
   "name": "python",
   "nbconvert_exporter": "python",
   "pygments_lexer": "ipython3",
   "version": "3.9.12"
  },
  "latex_envs": {
   "LaTeX_envs_menu_present": true,
   "autoclose": true,
   "autocomplete": false,
   "bibliofile": "biblio.bib",
   "cite_by": "apalike",
   "current_citInitial": 1,
   "eqLabelWithNumbers": true,
   "eqNumInitial": 1,
   "hotkeys": {
    "equation": "Ctrl-E",
    "itemize": "Ctrl-I"
   },
   "labels_anchors": false,
   "latex_user_defs": false,
   "report_style_numbering": false,
   "user_envs_cfg": false
  }
 },
 "nbformat": 4,
 "nbformat_minor": 5
}
