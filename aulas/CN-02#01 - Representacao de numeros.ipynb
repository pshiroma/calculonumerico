{
 "cells": [
  {
   "cell_type": "markdown",
   "id": "fbb226b4",
   "metadata": {
    "slideshow": {
     "slide_type": "slide"
    }
   },
   "source": [
    "# Representando números decimais\n",
    "\n",
    "Suponha que o seu computador armazene os números usando no máximo 5 dígitos.\n",
    "\n",
    "Suponha também que o primeiro dígito será utilizado para armazenar o sinal (+ ou -).\n",
    "\n",
    "Qual o maior número representável?\n",
    "\n",
    "| S | UM | C | D | U |\n",
    "| --- | --- | --- | --- | --- |\n",
    "| + | 9 | 9 | 9 | 9 |\n",
    "\n",
    "Este número pode ser escrito como:\n",
    "\n",
    "$9 \\times 10^3 + 9 \\times 10^2 + 9 \\times 10^1 + 9 \\times 10^0$.\n",
    "\n",
    "Da mesma forma, o número:\n",
    "\n",
    "$502$\n",
    "\n",
    "é representado por:\n",
    "\n",
    "$0 \\times 10^3 + 5 \\times 10^2 + 0 \\times 10^1 + 2 \\times 10^0$\n",
    "\n",
    "e pode ser armazenado como:\n",
    "\n",
    "<table>\n",
    "  <tr>\n",
    "    <th>S</th> <th>10<sup>3</sup></th> <th>10<sup>2</sup></th> <th>10<sup>1</sup></th> <th>10<sup>0</sup></th>\n",
    "  </tr>\n",
    "  <tr>\n",
    "    <td> + </td> <td>0</td> <td>5</td> <td> 0 </td> <td>2</td>\n",
    "  </tr>\n",
    "</table>"
   ]
  },
  {
   "cell_type": "markdown",
   "id": "c58ef4ad",
   "metadata": {},
   "source": [
    "## Exercício\n",
    "\n",
    "Se armazenarmos um número utilizando $n$ dígitos decimais, sendo que um deles irá armazenar o sinal, qual o maior número inteiro representável?"
   ]
  },
  {
   "cell_type": "markdown",
   "id": "b00e308a",
   "metadata": {},
   "source": [
    "Na realidade, o computador moderno armazena os números utilizando **dígitos binários**\n",
    "\n",
    "Cada dígito armazena um valor 0 ou 1.\n",
    "\n",
    "Por exemplo, o número $101_2$ pode ser armazenado como:\n",
    "\n",
    "<table>\n",
    "  <tr>\n",
    "    <th>S</th> <th>2<sup>3</sup></th> <th>2<sup>2</sup></th> <th>2<sup>1</sup></th> <th>2<sup>0</sup></th>\n",
    "  </tr>\n",
    "  <tr>\n",
    "    <td> + </td> <td>0</td> <td>1</td> <td> 0 </td> <td>1</td>\n",
    "  </tr>\n",
    "</table>\n",
    "\n",
    "Convertendo para a base decimal, o número $101_2$ equivale à:\n",
    "\n",
    "\\begin{aligned}\n",
    "101_2 &= \\\\\n",
    "&= 1 \\times 2^2 + 0 \\times 2^1 + 1 \\times 2^0 \\\\\n",
    "&= 4 + 0  + 1  \\\\\n",
    "&= 5\n",
    "\\end{aligned}\n",
    "\n",
    "O maior inteiro representável utilizando 4 bits (+1 para o sinal) é:\n",
    "\n",
    "\\begin{aligned}\n",
    "1111_2 &= \\\\\n",
    "&= 1 \\times 2^3 + 1 \\times 2^2 + 1 \\times 2^1 + 1 \\times 2^0 \\\\\n",
    "&= 8 + 4 + 2  + 1  \\\\\n",
    "&= 15\n",
    "\\end{aligned}\n"
   ]
  },
  {
   "cell_type": "markdown",
   "id": "09dc0274",
   "metadata": {},
   "source": [
    "## Limites do tipo int\n",
    "\n",
    "Em Python, as variáveis do tipo `int`, `float`, `bool` ocupam um espaço de memória fixo e pré-determinado.\n",
    "\n",
    "uma varíavel do tipo `int` pode ser armazenada usando 64 bits, sendo que um bit é reservado para o sinal.\n",
    "\n",
    "Assim, o maior número inteiro representável é:\n",
    "\n",
    "$2^{63} -1$"
   ]
  },
  {
   "cell_type": "code",
   "execution_count": 7,
   "id": "c4850561",
   "metadata": {},
   "outputs": [
    {
     "name": "stdout",
     "output_type": "stream",
     "text": [
      "9223372036854775807\n",
      "9223372036854775807\n"
     ]
    }
   ],
   "source": [
    "import sys\n",
    "\n",
    "print(sys.maxsize)\n",
    "print(2**63-1)"
   ]
  },
  {
   "cell_type": "markdown",
   "id": "1e76234d",
   "metadata": {
    "slideshow": {
     "slide_type": "subslide"
    }
   },
   "source": [
    "# Números reais\n",
    "\n",
    "Da mesma forma que os números inteiros, as variáveis do tipo `float` tem um tamanho fixo.\n",
    "\n",
    "Neste caso, um número real $n$ é armazenado da seguinte forma:\n",
    "\n",
    "$n = 0,f \\times 2^e$\n",
    "\n",
    "onde $f$ é chamada mantissa e $e$ é chamado expoente.\n",
    "\n",
    "<img src=\"figuras/float.svg\" width=\"700\">\n",
    "\n",
    "O padrão IEEE 754 define dois tipos de float, um com 32 bits e outro com 64 bits.\n",
    "\n",
    "A linguagem Python utiliza o float de 64 bits:\n",
    "\n",
    "<img src=\"figuras/ieee754.jpg\" width=\"700\">\n"
   ]
  },
  {
   "cell_type": "code",
   "execution_count": 8,
   "id": "8bf5e7bd",
   "metadata": {},
   "outputs": [
    {
     "data": {
      "text/plain": [
       "sys.float_info(max=1.7976931348623157e+308, max_exp=1024, max_10_exp=308, min=2.2250738585072014e-308, min_exp=-1021, min_10_exp=-307, dig=15, mant_dig=53, epsilon=2.220446049250313e-16, radix=2, rounds=1)"
      ]
     },
     "execution_count": 8,
     "metadata": {},
     "output_type": "execute_result"
    }
   ],
   "source": [
    "import sys\n",
    "sys.float_info"
   ]
  },
  {
   "cell_type": "code",
   "execution_count": 16,
   "id": "7a8e486d",
   "metadata": {},
   "outputs": [
    {
     "name": "stdout",
     "output_type": "stream",
     "text": [
      "1.7e+308\n"
     ]
    }
   ],
   "source": [
    "x = 1.7e308\n",
    "print(x)"
   ]
  },
  {
   "cell_type": "code",
   "execution_count": 26,
   "id": "eba6f32a",
   "metadata": {},
   "outputs": [
    {
     "name": "stdout",
     "output_type": "stream",
     "text": [
      "1.7e+308\n",
      "True\n"
     ]
    }
   ],
   "source": [
    "y = x - 1e290\n",
    "print(y)\n",
    "print(x-y == 0.0)"
   ]
  },
  {
   "cell_type": "markdown",
   "id": "13eb3d3a",
   "metadata": {},
   "source": [
    "## Tipos especiais de float"
   ]
  },
  {
   "cell_type": "code",
   "execution_count": 38,
   "id": "92ef4d68",
   "metadata": {},
   "outputs": [
    {
     "ename": "ValueError",
     "evalue": "could not convert string to float: 'a'",
     "output_type": "error",
     "traceback": [
      "\u001b[1;31m---------------------------------------------------------------------------\u001b[0m",
      "\u001b[1;31mValueError\u001b[0m                                Traceback (most recent call last)",
      "Input \u001b[1;32mIn [38]\u001b[0m, in \u001b[0;36m<cell line: 6>\u001b[1;34m()\u001b[0m\n\u001b[0;32m      3\u001b[0m f \u001b[38;5;241m=\u001b[39m \u001b[38;5;241m1\u001b[39m\n\u001b[0;32m      4\u001b[0m m\u001b[38;5;241m.\u001b[39misnan(f)\n\u001b[1;32m----> 6\u001b[0m g \u001b[38;5;241m=\u001b[39m \u001b[38;5;28;43mfloat\u001b[39;49m\u001b[43m(\u001b[49m\u001b[38;5;124;43m'\u001b[39;49m\u001b[38;5;124;43ma\u001b[39;49m\u001b[38;5;124;43m'\u001b[39;49m\u001b[43m)\u001b[49m\n\u001b[0;32m      7\u001b[0m m\u001b[38;5;241m.\u001b[39misnan(g)\n",
      "\u001b[1;31mValueError\u001b[0m: could not convert string to float: 'a'"
     ]
    }
   ],
   "source": [
    "import math as m\n",
    "\n",
    "f = 1\n",
    "m.isnan(f)\n",
    "\n",
    "g = float('a')\n",
    "m.isnan(g)"
   ]
  },
  {
   "cell_type": "code",
   "execution_count": 32,
   "id": "923edc65",
   "metadata": {},
   "outputs": [],
   "source": [
    "n = float('NaN')"
   ]
  },
  {
   "cell_type": "code",
   "execution_count": 37,
   "id": "e1ce203b",
   "metadata": {},
   "outputs": [],
   "source": [
    "infinito = float('Inf')"
   ]
  },
  {
   "cell_type": "markdown",
   "id": "d92a9dc0",
   "metadata": {
    "slideshow": {
     "slide_type": "slide"
    }
   },
   "source": [
    "# Convertendo de binário para decimal"
   ]
  },
  {
   "cell_type": "code",
   "execution_count": 10,
   "id": "aad80be1",
   "metadata": {},
   "outputs": [
    {
     "data": {
      "text/plain": [
       "9"
      ]
     },
     "execution_count": 10,
     "metadata": {},
     "output_type": "execute_result"
    }
   ],
   "source": [
    "n = '1001'\n",
    "int(n,2)"
   ]
  },
  {
   "cell_type": "markdown",
   "id": "c13c529d",
   "metadata": {},
   "source": [
    "# Convertendo de decimal para binário"
   ]
  },
  {
   "cell_type": "code",
   "execution_count": 11,
   "id": "483a2e81",
   "metadata": {},
   "outputs": [
    {
     "data": {
      "text/plain": [
       "'0b1100'"
      ]
     },
     "execution_count": 11,
     "metadata": {},
     "output_type": "execute_result"
    }
   ],
   "source": [
    "n = 12\n",
    "bin(n)"
   ]
  }
 ],
 "metadata": {
  "celltoolbar": "Slideshow",
  "kernelspec": {
   "display_name": "Python 3 (ipykernel)",
   "language": "python",
   "name": "python3"
  },
  "language_info": {
   "codemirror_mode": {
    "name": "ipython",
    "version": 3
   },
   "file_extension": ".py",
   "mimetype": "text/x-python",
   "name": "python",
   "nbconvert_exporter": "python",
   "pygments_lexer": "ipython3",
   "version": "3.9.12"
  }
 },
 "nbformat": 4,
 "nbformat_minor": 5
}
