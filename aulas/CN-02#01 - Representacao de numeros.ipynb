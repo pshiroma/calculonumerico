{
 "cells": [
  {
   "cell_type": "markdown",
   "id": "102ea9a4",
   "metadata": {
    "slideshow": {
     "slide_type": "slide"
    }
   },
   "source": [
    "# Representando números decimais\n",
    "\n",
    "Suponha que o seu computador armazene os números usando no máximo 5 dígitos.\n",
    "\n",
    "Suponha também que o primeiro dígito será utilizado para armazenar o sinal (+ ou -).\n",
    "\n",
    "Qual o maior número representável?\n",
    "\n",
    "| S | UM | C | D | U |\n",
    "| --- | --- | --- | --- | --- |\n",
    "| + | 9 | 9 | 9 | 9 |\n",
    "\n",
    "Este número pode ser escrito como:\n",
    "\n",
    "$9 \\times 10^3 + 9 \\times 10^2 + 9 \\times 10^1 + 9 \\times 10^0$.\n",
    "\n",
    "Da mesma forma, o número:\n",
    "\n",
    "$502$\n",
    "\n",
    "é representado por:\n",
    "\n",
    "$0 \\times 10^3 + 5 \\times 10^2 + 0 \\times 10^1 + 2 \\times 10^0$\n",
    "\n",
    "e pode ser armazenado como:\n",
    "\n",
    "<table>\n",
    "  <tr>\n",
    "    <th>S</th> <th>10<sup>3</sup></th> <th>10<sup>2</sup></th> <th>10<sup>1</sup></th> <th>10<sup>0</sup></th>\n",
    "  </tr>\n",
    "  <tr>\n",
    "    <td> + </td> <td>0</td> <td>5</td> <td> 0 </td> <td>2</td>\n",
    "  </tr>\n",
    "</table>"
   ]
  },
  {
   "cell_type": "markdown",
   "id": "16070984",
   "metadata": {},
   "source": [
    "## Exercício\n",
    "\n",
    "Se armazenarmos um número utilizando $n$ dígitos decimais, sendo que um deles irá armazenar o sinal, qual o maior número inteiro representável?"
   ]
  },
  {
   "cell_type": "markdown",
   "id": "3c76b92c",
   "metadata": {},
   "source": [
    "Na realidade, o computador moderno armazena os números utilizando **dígitos binários**\n",
    "\n",
    "Cada dígito armazena um valor 0 ou 1.\n",
    "\n",
    "Por exemplo, o número $101_2$ pode ser armazenado como:\n",
    "\n",
    "<table>\n",
    "  <tr>\n",
    "    <th>S</th> <th>2<sup>3</sup></th> <th>2<sup>2</sup></th> <th>2<sup>1</sup></th> <th>2<sup>0</sup></th>\n",
    "  </tr>\n",
    "  <tr>\n",
    "    <td> + </td> <td>0</td> <td>1</td> <td> 0 </td> <td>1</td>\n",
    "  </tr>\n",
    "</table>\n",
    "\n",
    "Convertendo para a base decimal, o número $101_2$ equivale à:\n",
    "\n",
    "\\begin{aligned}\n",
    "101_2 &= \\\\\n",
    "&= 1 \\times 2^2 + 0 \\times 2^1 + 1 \\times 2^0 \\\\\n",
    "&= 4 + 0  + 1  \\\\\n",
    "&= 5\n",
    "\\end{aligned}\n",
    "\n",
    "O maior inteiro representável utilizando 4 bits (+1 para o sinal) é:\n",
    "\n",
    "\\begin{aligned}\n",
    "1111_2 &= \\\\\n",
    "&= 1 \\times 2^3 + 1 \\times 2^2 + 1 \\times 2^1 + 1 \\times 2^0 \\\\\n",
    "&= 8 + 4 + 2  + 1  \\\\\n",
    "&= 15\n",
    "\\end{aligned}\n"
   ]
  },
  {
   "cell_type": "markdown",
   "id": "94559a05",
   "metadata": {},
   "source": [
    "## Limites do tipo int\n",
    "\n",
    "Em Python, as variáveis do tipo `int`, `float`, `bool` ocupam um espaço de memória fixo e pré-determinado.\n",
    "\n",
    "uma varíavel do tipo `int` pode ser armazenada usando 64 bits, sendo que um bit é reservado para o sinal.\n",
    "\n",
    "Assim, o maior número inteiro representável é:\n",
    "\n",
    "$2^{63} -1$"
   ]
  },
  {
   "cell_type": "code",
   "execution_count": 7,
   "id": "6f369bfc",
   "metadata": {},
   "outputs": [
    {
     "name": "stdout",
     "output_type": "stream",
     "text": [
      "9223372036854775807\n",
      "9223372036854775807\n"
     ]
    }
   ],
   "source": [
    "import sys\n",
    "\n",
    "print(sys.maxsize)\n",
    "print(2**63-1)"
   ]
  },
  {
   "cell_type": "markdown",
   "id": "3c160408",
   "metadata": {
    "slideshow": {
     "slide_type": "subslide"
    }
   },
   "source": [
    "# Números reais\n",
    "\n",
    "Da mesma forma que os números inteiros, as variáveis do tipo `float` tem um tamanho fixo.\n",
    "\n",
    "Neste caso, um número real $n$ é armazenado da seguinte forma:\n",
    "\n",
    "$n = 0,f \\times 2^e$\n",
    "\n",
    "onde $f$ é chamada mantissa e $e$ é chamado expoente.\n",
    "\n",
    "<img src=\"figuras/float.svg\" width=\"700\">\n",
    "\n",
    "O padrão IEEE 754 define dois tipos de float, um com 32 bits e outro com 64 bits.\n",
    "\n",
    "A linguagem Python utiliza o float de 64 bits:\n",
    "\n",
    "<img src=\"figuras/ieee754.jpg\" width=\"700\">\n"
   ]
  },
  {
   "cell_type": "code",
   "execution_count": 8,
   "id": "74e106ec",
   "metadata": {},
   "outputs": [
    {
     "data": {
      "text/plain": [
       "sys.float_info(max=1.7976931348623157e+308, max_exp=1024, max_10_exp=308, min=2.2250738585072014e-308, min_exp=-1021, min_10_exp=-307, dig=15, mant_dig=53, epsilon=2.220446049250313e-16, radix=2, rounds=1)"
      ]
     },
     "execution_count": 8,
     "metadata": {},
     "output_type": "execute_result"
    }
   ],
   "source": [
    "import sys\n",
    "sys.float_info"
   ]
  },
  {
   "cell_type": "code",
   "execution_count": 16,
   "id": "9f04d075",
   "metadata": {},
   "outputs": [
    {
     "name": "stdout",
     "output_type": "stream",
     "text": [
      "1.7e+308\n"
     ]
    }
   ],
   "source": [
    "x = 1.7e308\n",
    "print(x)"
   ]
  },
  {
   "cell_type": "code",
   "execution_count": 26,
   "id": "2b6f86c3",
   "metadata": {},
   "outputs": [
    {
     "name": "stdout",
     "output_type": "stream",
     "text": [
      "1.7e+308\n",
      "True\n"
     ]
    }
   ],
   "source": [
    "y = x - 1e290\n",
    "print(y)\n",
    "print(x-y == 0.0)"
   ]
  },
  {
   "cell_type": "markdown",
   "id": "8eaee109",
   "metadata": {
    "slideshow": {
     "slide_type": "slide"
    }
   },
   "source": [
    "# Convertendo de binário para decimal"
   ]
  },
  {
   "cell_type": "code",
   "execution_count": 10,
   "id": "34b5f4f9",
   "metadata": {},
   "outputs": [
    {
     "data": {
      "text/plain": [
       "9"
      ]
     },
     "execution_count": 10,
     "metadata": {},
     "output_type": "execute_result"
    }
   ],
   "source": [
    "n = '1001'\n",
    "int(n,2)"
   ]
  },
  {
   "cell_type": "markdown",
   "id": "5c7bb677",
   "metadata": {},
   "source": [
    "# Convertendo de decimal para binário"
   ]
  },
  {
   "cell_type": "code",
   "execution_count": 11,
   "id": "d37fcc9b",
   "metadata": {},
   "outputs": [
    {
     "data": {
      "text/plain": [
       "'0b1100'"
      ]
     },
     "execution_count": 11,
     "metadata": {},
     "output_type": "execute_result"
    }
   ],
   "source": [
    "n = 12\n",
    "bin(n)"
   ]
  }
 ],
 "metadata": {
  "celltoolbar": "Slideshow",
  "kernelspec": {
   "display_name": "Python 3 (ipykernel)",
   "language": "python",
   "name": "python3"
  },
  "language_info": {
   "codemirror_mode": {
    "name": "ipython",
    "version": 3
   },
   "file_extension": ".py",
   "mimetype": "text/x-python",
   "name": "python",
   "nbconvert_exporter": "python",
   "pygments_lexer": "ipython3",
   "version": "3.9.12"
  }
 },
 "nbformat": 4,
 "nbformat_minor": 5
}
