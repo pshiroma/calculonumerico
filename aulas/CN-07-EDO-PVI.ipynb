{
 "cells": [
  {
   "cell_type": "code",
   "execution_count": 218,
   "id": "d981cac0",
   "metadata": {
    "slideshow": {
     "slide_type": "skip"
    }
   },
   "outputs": [],
   "source": [
    "import matplotlib.pyplot as plt\n",
    "plt.rcParams['figure.figsize'] = [7, 3]\n",
    "plt.rcParams['figure.dpi'] = 100\n",
    "plt.style.use('seaborn-notebook')"
   ]
  },
  {
   "cell_type": "markdown",
   "id": "722e183a",
   "metadata": {
    "slideshow": {
     "slide_type": "slide"
    }
   },
   "source": [
    "# Equações Diferenciais Ordinárias\n",
    "\n",
    "* Problema de Valor Inicial (PVI)\n",
    "* Biblioteca `scipy.integrate.solve_ivp`\n",
    "* Sistemas de EDO's\n",
    "* Implementação de métodos numéricos: Euler, ponto médio, Runge-Kutta\n",
    "* Exemplos\n",
    "* Problema de Valor de Contorno (PVC)"
   ]
  },
  {
   "cell_type": "markdown",
   "id": "e9ef37d8",
   "metadata": {
    "slideshow": {
     "slide_type": "slide"
    }
   },
   "source": [
    "# Introdução\n",
    "\n",
    "Nesta seção iremos aprender a resolver **Equações Diferenciais Ordinárias** (EDO's) utilizando métodos numericos.\n",
    "\n",
    "Lembre-se que uma equação diferencial pode ser classificada quanto ao seu **tipo**, **ordem** e **linearidade**:\n",
    "\n",
    "* **Tipo**: Pode ser do tipo ordinária (possui apenas 1 variável independente) ou parcial (possui mais de 1 variável independente)\n",
    "\n",
    "Exemplo de equação diferencial ordinária:\n",
    "\\begin{equation}\n",
    "\\dfrac{dN}{dt} = k\\cdot N (1 - N/r)\n",
    "\\end{equation}\n",
    "\n",
    "Exemplo de equação diferencial parcial:\n",
    "\\begin{equation}\n",
    "\\dfrac{\\partial u(t,x)}{\\partial t} = c^2 \\dfrac{\\partial^2 u(t,x)}{\\partial x^2}\n",
    "\\end{equation}\n",
    "\n",
    "* **Ordem**: Podem ser de 1ª,  2ª, .. n-ésima ordem, dependendo da derivada de maior ordem presente na equação:\n",
    "Exemplo de equação diferencial ordinária de 1º ordem:\n",
    "\\begin{equation}\n",
    "\\dfrac{dN}{dt} = k\\cdot N (1 - N/r)\n",
    "\\end{equation}\n",
    "\n",
    "Exemplo de equação diferencial ordinária de 2º ordem:\n",
    "\\begin{equation}\n",
    "\\dfrac{d^2y}{dt^2} = 0\n",
    "\\end{equation}\n",
    "\n",
    "Exemplo de equação diferencial parcial de 2º ordem:\n",
    "\\begin{equation}\n",
    "\\dfrac{\\partial^2 u}{\\partial x^2} + 5\\dfrac{\\partial^2 u}{\\partial y} + 3u = 0\n",
    "\\end{equation}\n",
    "\n",
    "* **Linearidade**: Linear, se puder ser escrita como uma combinação linear das derivadas, ou não-linear, caso contrário.\n",
    "\n",
    "Exemplo de equação diferencial ordinária de 1º ordem linear:\n",
    "\\begin{equation}\n",
    "\\dfrac{dQ(t)}{dt} = q\\left(c - \\dfrac{Q(t)}{V}\\right)\n",
    "\\end{equation}\n",
    "\n",
    "Exemplo de equação diferencial ordinária de 2º ordem linear:\n",
    "\\begin{equation}\n",
    "\\ddot{u} + 2\\xi \\omega_0 \\dot{u} + \\omega_0^2 u = 0\n",
    "\\end{equation}\n",
    "\n",
    "Exemplo de equação diferencial ordinária de 1º ordem não-linear:\n",
    "\\begin{equation}\n",
    "x' + p(t)x = q(t)x^n\n",
    "\\end{equation}\n",
    "\n",
    "que, embora seja não-linear, é possível realizar a transformação $z = x^{1-n}$ e transformá-la em uma EDO linear.\n",
    "\n",
    "Ou seja, dizemos que uma EDO é linear se é possível escrevê-la no formato:\n",
    "\n",
    "\\begin{equation}\n",
    "a_n(t)\\dfrac{d^ny}{dt^n} + a_{n-1}(t)\\dfrac{d^{(n-1)}y}{dt^{(n-1)}} + \\ldots + a_0(t)y = g(t)\n",
    "\\end{equation}\n",
    "\n",
    "Também é possível termos um **sistema de equações diferenciais**, por exemplo:\n",
    "\n",
    "\\begin{array}{ll}\n",
    "\\dfrac{dx}{dt} & = x(\\alpha - \\beta y) \\\\\n",
    "\\dfrac{dy}{dt} & = y(\\delta x - \\gamma) \n",
    "\\end{array}\n"
   ]
  },
  {
   "cell_type": "markdown",
   "id": "e8711633",
   "metadata": {
    "slideshow": {
     "slide_type": "slide"
    }
   },
   "source": [
    "## Problema de Valor Inicial (PVI)\n",
    "\n",
    "Um problema de valor inicial é uma EDO onde os valores da função e suas derivadas (quando necessário) são todos conhecidos no mesmo ponto."
   ]
  },
  {
   "cell_type": "markdown",
   "id": "d4b5d71d",
   "metadata": {
    "slideshow": {
     "slide_type": "fragment"
    }
   },
   "source": [
    "Caso, para uma EDO de ordem $m$, sejam dados os valores da função, bem como o de suas derivadas até a ordem $m-1$, todas elas no mesmo ponto, então dizemos que temos um Problema de Valor Inicial."
   ]
  },
  {
   "cell_type": "markdown",
   "id": "f3792c22",
   "metadata": {
    "heading_collapsed": true,
    "slideshow": {
     "slide_type": "slide"
    }
   },
   "source": [
    "## Problema de Valor de Contorno (PVC)"
   ]
  },
  {
   "cell_type": "markdown",
   "id": "ec1d2984",
   "metadata": {
    "hidden": true,
    "slideshow": {
     "slide_type": "fragment"
    }
   },
   "source": [
    "Caso, para uma EDO de ordem $m$, sejam dados $m-1$ valores da função ou de suas derivadas, não necessariamente no mesmo ponto, então dizemos que temos um Problema de Valor de Contorno.\n",
    "\n",
    "Uma característica dos PVC é que não é garantido a unicidade de solução.\n",
    "\n",
    "\n",
    "Fontes consultadas:\n",
    "\n",
    "* https://sites.google.com/view/projetoclculonumricoparatodos/m1?authuser=0\n",
    "* http://paginapessoal.utfpr.edu.br/lcpereira/esta-e-uma-pasta/ma63b/Semana1_MA70G.pdf"
   ]
  },
  {
   "cell_type": "markdown",
   "id": "7aebdbf3",
   "metadata": {
    "slideshow": {
     "slide_type": "slide"
    }
   },
   "source": [
    "## Exemplo: PVI"
   ]
  },
  {
   "cell_type": "markdown",
   "id": "8d83bb0e",
   "metadata": {
    "slideshow": {
     "slide_type": "fragment"
    }
   },
   "source": [
    "### Formulação do problema"
   ]
  },
  {
   "cell_type": "markdown",
   "id": "e0f189c6",
   "metadata": {
    "slideshow": {
     "slide_type": "fragment"
    }
   },
   "source": [
    "Considere um PVI da forma:\n",
    "\n",
    "$\n",
    "\\dfrac{dy}{dt} = f(t,y)\n",
    "$\n",
    "\n",
    "Suponha que desejamos calcular a velocidade de um corpo rígido, inicialmente parado, em queda livre [CHAPRA, pg 4].\n",
    "Sobre esse corpo agem duas forças: A força da gravidade e a resistência do ar.\n",
    "\n",
    "Um modelo adequado para este cenário é:\n",
    "\n",
    "$\n",
    "F = ma = mg - c_d v^2\n",
    "$\n",
    "\n",
    "onde:\n",
    "\n",
    "* $m$ é a massa do corpo;\n",
    "* $g$ a aceleração da gravidade;\n",
    "* $c_d$ é o coeficiente de arraste;\n",
    "* $v$ é a velocidade do corpo;\n",
    "\n",
    "Sabemos também que:\n",
    "\n",
    "$\n",
    "a = \\dfrac{dv}{dt}\n",
    "$\n",
    "\n",
    "assim podemos chegar na equação:\n",
    "\n",
    "$\n",
    "\\dfrac{dv}{dt} = g - \\dfrac{c_d}{m}v^2\n",
    "$\n",
    "\n",
    "que encontra-se no formato ($g$, $c_d$ e $m$ são constantes):\n",
    "\n",
    "$\n",
    "\\dfrac{dv}{dt} = f(t, v)\n",
    "$\n",
    "\n",
    "Como o corpo encontra-se inicialmente parado, temos que:\n",
    "\n",
    "$\n",
    "v(0) = 0\n",
    "$\n",
    "\n",
    "caracterizando-o como um PVI.\n",
    "\n",
    "[CHAPRA] CHAPRA, S. C. , \"Métodos Numéricos Aplicados com MATLAB para Engenheiros e Cientistas\", 3ª ed., 2013. "
   ]
  },
  {
   "cell_type": "markdown",
   "id": "b484d2e6",
   "metadata": {
    "slideshow": {
     "slide_type": "fragment"
    }
   },
   "source": [
    "### Solução Numérica"
   ]
  },
  {
   "cell_type": "markdown",
   "id": "6a026b9a",
   "metadata": {
    "slideshow": {
     "slide_type": "fragment"
    }
   },
   "source": [
    "Vamos resolver numericamente a EDO abaixo:\n",
    "\n",
    "$\n",
    "\\dfrac{dv}{dt} = g - \\dfrac{c_d}{m}v^2\n",
    "$\n",
    "\n",
    "e determinar o valor de $v(t)$"
   ]
  },
  {
   "cell_type": "code",
   "execution_count": 22,
   "id": "5d8160f8",
   "metadata": {
    "code_folding": [],
    "slideshow": {
     "slide_type": "fragment"
    }
   },
   "outputs": [],
   "source": [
    "def quedalivre_edo(t, v):\n",
    "    g = 9.81\n",
    "    cd = 0.25\n",
    "    m = 68.1\n",
    "    dvdt =  g - cd/m*v**2\n",
    "    return dvdt"
   ]
  },
  {
   "cell_type": "markdown",
   "id": "0be46ca6",
   "metadata": {
    "slideshow": {
     "slide_type": "fragment"
    }
   },
   "source": [
    "Em seguida, podemos resolver o PVI utilizando a função `solve_ivp`"
   ]
  },
  {
   "cell_type": "code",
   "execution_count": 219,
   "id": "bc0d0e9f",
   "metadata": {
    "slideshow": {
     "slide_type": "fragment"
    }
   },
   "outputs": [
    {
     "name": "stdout",
     "output_type": "stream",
     "text": [
      "  message: 'The solver successfully reached the end of the integration interval.'\n",
      "     nfev: 74\n",
      "     njev: 0\n",
      "      nlu: 0\n",
      "      sol: None\n",
      "   status: 0\n",
      "  success: True\n",
      "        t: array([0.00000000e+00, 1.00000000e-04, 1.10000000e-03, 1.11000000e-02,\n",
      "       1.11100000e-01, 1.11110000e+00, 5.62593689e+00, 8.39163338e+00,\n",
      "       1.11573299e+01, 1.51143851e+01, 1.96670102e+01, 2.00000000e+01])\n",
      " t_events: None\n",
      "        y: array([[0.00000000e+00, 9.81000000e-04, 1.07909998e-02, 1.08890839e-01,\n",
      "        1.08972954e+00, 1.07411772e+01, 4.07662263e+01, 4.75878160e+01,\n",
      "        5.02178060e+01, 5.13554892e+01, 5.16288752e+01, 5.16365734e+01]])\n",
      " y_events: None\n"
     ]
    },
    {
     "data": {
      "text/plain": [
       "[<matplotlib.lines.Line2D at 0x2091dd03c70>]"
      ]
     },
     "execution_count": 219,
     "metadata": {},
     "output_type": "execute_result"
    },
    {
     "data": {
      "image/png": "[encoded data removed]",
      "text/plain": [
       "<Figure size 800x550 with 1 Axes>"
      ]
     },
     "metadata": {
      "needs_background": "light"
     },
     "output_type": "display_data"
    }
   ],
   "source": [
    "import numpy as np\n",
    "import matplotlib.pyplot as plt\n",
    "from scipy.integrate import solve_ivp\n",
    "\n",
    "v0 = 0\n",
    "sol = solve_ivp(quedalivre_edo, y0 = [v0], t_span = [0,20])\n",
    "\n",
    "print(sol)\n",
    "velocidade = sol.y[0]\n",
    "tempo = sol.t\n",
    "plt.plot(tempo, velocidade, 'r', lw=1)"
   ]
  },
  {
   "cell_type": "markdown",
   "id": "3a756051",
   "metadata": {
    "slideshow": {
     "slide_type": "fragment"
    }
   },
   "source": [
    "### Solução analítica"
   ]
  },
  {
   "cell_type": "markdown",
   "id": "03d3c304",
   "metadata": {
    "slideshow": {
     "slide_type": "fragment"
    }
   },
   "source": [
    "Observe que é possível obter uma solução analítica para a EDO anterior, ou seja, encontrar uma função do tipo:\n",
    "\n",
    "$\n",
    "v(t) = f(t)\n",
    "$\n",
    "\n",
    "Utilizando a técnica, por exemplo, de separação de variáveis, podemos reescrever a EDO acima como:\n",
    "\n",
    "$\n",
    "\\dfrac{dv}{1 - \\left(\\dfrac{v}{v_t}\\right)^2} = g \\cdot dt\n",
    "$\n",
    "\n",
    "onde $v_t = \\sqrt{\\frac{mg}{c_d}}$ o que, após integrarmos ambos os lados da equação, obtemos a solução:\n",
    "\n",
    "$\n",
    "v(t) = \\sqrt{\\dfrac{gm}{c_d}} \\cdot \\tanh \\left(\\sqrt{\\dfrac{gc_d}{m}} \\cdot t \\right)\n",
    "$"
   ]
  },
  {
   "cell_type": "code",
   "execution_count": 220,
   "id": "96de9abb",
   "metadata": {
    "code_folding": [],
    "slideshow": {
     "slide_type": "fragment"
    }
   },
   "outputs": [
    {
     "data": {
      "text/plain": [
       "Text(0, 0.5, 'Velocidade')"
      ]
     },
     "execution_count": 220,
     "metadata": {},
     "output_type": "execute_result"
    },
    {
     "data": {
      "image/png": "[encoded data removed]",
      "text/plain": [
       "<Figure size 800x550 with 1 Axes>"
      ]
     },
     "metadata": {
      "needs_background": "light"
     },
     "output_type": "display_data"
    }
   ],
   "source": [
    "def quedalivre_analitico(t):\n",
    "    g = 9.81\n",
    "    cd = 0.25\n",
    "    m = 68.1\n",
    "    v = np.sqrt(g*m/cd)*np.tanh(np.sqrt(g*cd/m)*t)\n",
    "    return v\n",
    "\n",
    "treal = np.linspace(0, 20, 21)\n",
    "vreal = quedalivre_analitico(treal)\n",
    "\n",
    "# podemos comparar a solucao numerica obtida anteriormente com a solucao analitica:\n",
    "plt.plot(treal, vreal, '-b', tempo , velocidade, '-r', lw=1)\n",
    "plt.xlabel('Tempo')\n",
    "plt.ylabel('Velocidade')"
   ]
  },
  {
   "cell_type": "code",
   "execution_count": 252,
   "id": "645dd9a2",
   "metadata": {
    "slideshow": {
     "slide_type": "fragment"
    }
   },
   "outputs": [
    {
     "data": {
      "text/plain": [
       "Text(0, 0.5, 'Velocidade')"
      ]
     },
     "execution_count": 252,
     "metadata": {},
     "output_type": "execute_result"
    },
    {
     "data": {
      "image/png": "[encoded data removed]",
      "text/plain": [
       "<Figure size 800x550 with 1 Axes>"
      ]
     },
     "metadata": {
      "needs_background": "light"
     },
     "output_type": "display_data"
    }
   ],
   "source": [
    "# vamos amostrar a solução numérica nos mesmos pontos que a solução analítica:\n",
    "\n",
    "sol_scipy = solve_ivp(quedalivre_edo, y0 = [v0], t_span = [0,20], t_eval = treal)\n",
    "tempo = sol_scipy.t\n",
    "velocidade = sol_scipy.y[0]\n",
    "\n",
    "plt.plot(treal, vreal, '-b', tempo , velocidade, '.r', lw=1)\n",
    "plt.legend(['solução analítico', 'Solução numérica'])\n",
    "plt.xlabel('Tempo')\n",
    "plt.ylabel('Velocidade')"
   ]
  },
  {
   "cell_type": "markdown",
   "id": "5970ba93",
   "metadata": {
    "slideshow": {
     "slide_type": "-"
    }
   },
   "source": [
    "<a id=CHAPRA>[CHAPRA] CHAPRA, S. C. *Métodos Numéricos Aplicados com MATLAB para Engenheiros e Cientistas*, 3ª ed. 2013</a>"
   ]
  }
 ],
 "metadata": {
  "celltoolbar": "Slideshow",
  "kernelspec": {
   "display_name": "Python 3 (ipykernel)",
   "language": "python",
   "name": "python3"
  },
  "language_info": {
   "codemirror_mode": {
    "name": "ipython",
    "version": 3
   },
   "file_extension": ".py",
   "mimetype": "text/x-python",
   "name": "python",
   "nbconvert_exporter": "python",
   "pygments_lexer": "ipython3",
   "version": "3.9.12"
  },
  "latex_envs": {
   "LaTeX_envs_menu_present": true,
   "autoclose": true,
   "autocomplete": true,
   "bibliofile": "biblio.bib",
   "cite_by": "apalike",
   "current_citInitial": 1,
   "eqLabelWithNumbers": true,
   "eqNumInitial": 1,
   "hotkeys": {
    "equation": "Ctrl-E",
    "itemize": "Ctrl-I"
   },
   "labels_anchors": false,
   "latex_user_defs": false,
   "report_style_numbering": false,
   "user_envs_cfg": false
  }
 },
 "nbformat": 4,
 "nbformat_minor": 5
}
