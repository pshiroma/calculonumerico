{
 "cells": [
  {
   "cell_type": "code",
   "execution_count": 218,
   "id": "d981cac0",
   "metadata": {
    "slideshow": {
     "slide_type": "skip"
    }
   },
   "outputs": [],
   "source": [
    "import matplotlib.pyplot as plt\n",
    "plt.rcParams['figure.figsize'] = [7, 3]\n",
    "plt.rcParams['figure.dpi'] = 100\n",
    "plt.style.use('seaborn-notebook')"
   ]
  },
  {
   "cell_type": "markdown",
   "id": "a4d3696b-aaeb-489a-888f-48266453c05b",
   "metadata": {},
   "source": [
    "# Equações Diferenciais Ordinárias"
   ]
  },
  {
   "cell_type": "markdown",
   "id": "a9e934cd-1b66-4c26-b324-4e4afa61cfdc",
   "metadata": {},
   "source": [
    "Uma **equação diferencial** é uma equação que envolve uma função desconhecida e suas *derivadas*."
   ]
  },
  {
   "cell_type": "markdown",
   "id": "cd5ce4e3-cc39-448e-826d-f1d898e5d4c8",
   "metadata": {
    "slideshow": {
     "slide_type": "slide"
    }
   },
   "source": [
    "## Conteúdo: "
   ]
  },
  {
   "cell_type": "markdown",
   "id": "dbb2f85e-fea7-4c86-89e5-623c3a19e68d",
   "metadata": {},
   "source": [
    "* Problema de Valor Inicial (PVI)\n",
    "* Biblioteca `scipy.integrate.solve_ivp`\n",
    "* Sistemas de EDO's\n",
    "* Implementação de métodos numéricos: Euler, ponto médio, Runge-Kutta\n",
    "* Exemplos\n",
    "* Problema de Valor de Contorno (PVC)"
   ]
  },
  {
   "cell_type": "markdown",
   "id": "be0e88cd-b563-458b-9054-666bf1d1ed06",
   "metadata": {},
   "source": [
    "## Exemplos de equações diferenciais:"
   ]
  },
  {
   "cell_type": "markdown",
   "id": "07b28641-4dc0-4e49-9007-ad981d8b47d2",
   "metadata": {},
   "source": [
    "$\n",
    "\\begin{array}{lr}\n",
    "\\dfrac{dN}{dt} = kN & \\text{Crescimento exponencial} \\\\\n",
    "\\dfrac{dN}{dt} = kN \\left(1-\\dfrac{N}{c}\\right) & \\text{Crescimento logístico}\\\\\n",
    "m\\dot{v} = mg - kv & \\text{Queda livre com atrito do ar}\\\\\n",
    "\\dfrac{\\partial u}{\\partial t} = \\kappa^2 \\dfrac{\\partial^2 u}{\\partial x^2} & \\text{Equação do calor} \\\\\n",
    "\\dfrac{d^2y}{dx^2} = \\dfrac{M(x)}{EI} & \\text{Equação da linha elástica} \\\\\n",
    "\\left\\{\\begin{array}{l} \\frac{dx}{dt} = x(\\alpha - \\beta y) \\\\\n",
    " \\frac{dy}{dt} = y(\\delta x - \\gamma) \\end{array} \\right. & \\text{Predador-presa}\n",
    "\\end{array}\n",
    "$"
   ]
  },
  {
   "cell_type": "markdown",
   "id": "a9cebf51-4b04-472a-9602-fdc6a640e83b",
   "metadata": {},
   "source": [
    "Dizemos que uma equação diferencial é ordinária (EDO) se a função depende de uma única variável independente. \n",
    "Caso contrário, dizemos que ela é uma equação diferencial parcial (EDP).\n",
    "* Na equação 1 temos um exemplo de EDO, onde $N$ depende apenas de uma variável ($t$).\n",
    "* Na equação 4 a variável $u$ depende de $x$ e $t$, caracterizando uma EDP."
   ]
  },
  {
   "cell_type": "markdown",
   "id": "dad318c5-04b6-4d82-ae4e-967900e24a08",
   "metadata": {},
   "source": [
    "## Família de soluções"
   ]
  },
  {
   "cell_type": "markdown",
   "id": "22ff44e4-7202-4a36-97c6-e509dd68ba6a",
   "metadata": {},
   "source": [
    "Uma característica importante de EDO's é que, quando existe, não há apenas uma única solução, mas sim uma família de soluções que resolvem uma EDO.\n",
    "\n",
    "Por exemplo, dado a EDO:\n",
    "\n",
    "$\n",
    "u^{'''} = 0\n",
    "$\n",
    "\n",
    "qualquer polinônio na forma $u(x) = ax^2 + bx + c$ resolve a EDO dada.\n",
    "\n",
    "Portanto, para resolver de forma única uma EDO é necessário impor condições adicionais no problema.\n",
    "\n",
    "Uma EDO de ordem $m$ necessita de $m$ condições adicionais para ter solução única, onde a ordem $m$ é definida como a mais alta ordem de derivação que aparece na equação."
   ]
  },
  {
   "cell_type": "markdown",
   "id": "4d0033c8-13ed-4b44-85ba-4207ac393e20",
   "metadata": {},
   "source": [
    "## Classificação de EDO"
   ]
  },
  {
   "cell_type": "markdown",
   "id": "e9ef37d8",
   "metadata": {
    "slideshow": {
     "slide_type": "slide"
    }
   },
   "source": [
    "Nesta seção iremos aprender a resolver **Equações Diferenciais Ordinárias** (EDO's) utilizando métodos numericos.\n",
    "\n",
    "Lembre-se que uma equação diferencial pode ser classificada quanto ao seu **tipo**, **ordem** e **linearidade**:\n",
    "\n",
    "* **Tipo**: Pode ser do tipo ordinária (possui apenas 1 variável independente) ou parcial (possui mais de 1 variável independente)\n",
    "\n",
    "Exemplo de equação diferencial ordinária:\n",
    "\\begin{equation}\n",
    "\\dfrac{dN}{dt} = k\\cdot N (1 - N/r)\n",
    "\\end{equation}\n",
    "\n",
    "Exemplo de equação diferencial parcial:\n",
    "\\begin{equation}\n",
    "\\dfrac{\\partial u(t,x)}{\\partial t} = c^2 \\dfrac{\\partial^2 u(t,x)}{\\partial x^2}\n",
    "\\end{equation}\n",
    "\n",
    "* **Ordem**: Podem ser de 1ª,  2ª, .. n-ésima ordem, dependendo da derivada de maior ordem presente na equação:\n",
    "Exemplo de equação diferencial ordinária de 1º ordem:\n",
    "\\begin{equation}\n",
    "\\dfrac{dN}{dt} = k\\cdot N (1 - N/r)\n",
    "\\end{equation}\n",
    "\n",
    "Exemplo de equação diferencial ordinária de 2º ordem:\n",
    "\\begin{equation}\n",
    "\\dfrac{d^2y}{dt^2} = 0\n",
    "\\end{equation}\n",
    "\n",
    "Exemplo de equação diferencial parcial de 2º ordem:\n",
    "\\begin{equation}\n",
    "\\dfrac{\\partial^2 u}{\\partial x^2} + 5\\dfrac{\\partial^2 u}{\\partial y} + 3u = 0\n",
    "\\end{equation}\n",
    "\n",
    "* **Linearidade**: Linear, se puder ser escrita como uma combinação linear das derivadas, ou não-linear, caso contrário.\n",
    "\n",
    "Exemplo de equação diferencial ordinária de 1º ordem linear:\n",
    "\\begin{equation}\n",
    "\\dfrac{dQ(t)}{dt} = q\\left(c - \\dfrac{Q(t)}{V}\\right)\n",
    "\\end{equation}\n",
    "\n",
    "Exemplo de equação diferencial ordinária de 2º ordem linear:\n",
    "\\begin{equation}\n",
    "\\ddot{u} + 2\\xi \\omega_0 \\dot{u} + \\omega_0^2 u = 0\n",
    "\\end{equation}\n",
    "\n",
    "Exemplo de equação diferencial ordinária de 1º ordem não-linear:\n",
    "\\begin{equation}\n",
    "x' + p(t)x = q(t)x^n\n",
    "\\end{equation}\n",
    "\n",
    "que, embora seja não-linear, é possível realizar a transformação $z = x^{1-n}$ e transformá-la em uma EDO linear.\n",
    "\n",
    "Ou seja, dizemos que uma EDO é linear se é possível escrevê-la no formato:\n",
    "\n",
    "\\begin{equation}\n",
    "a_n(t)\\dfrac{d^ny}{dt^n} + a_{n-1}(t)\\dfrac{d^{(n-1)}y}{dt^{(n-1)}} + \\ldots + a_0(t)y = g(t)\n",
    "\\end{equation}\n",
    "\n",
    "Também é possível termos um **sistema de equações diferenciais**, por exemplo:\n",
    "\n",
    "\\begin{array}{ll}\n",
    "\\dfrac{dx}{dt} & = x(\\alpha - \\beta y) \\\\\n",
    "\\dfrac{dy}{dt} & = y(\\delta x - \\gamma) \n",
    "\\end{array}\n"
   ]
  },
  {
   "cell_type": "markdown",
   "id": "05517949-aba7-4f8a-b9b4-9031cf00af7e",
   "metadata": {},
   "source": [
    "## Problema de Valor Inicial (PVI)"
   ]
  },
  {
   "cell_type": "markdown",
   "id": "dc92b69c-a6eb-4855-908d-aaaddcf8f534",
   "metadata": {},
   "source": [
    "Um problema de valor inicial é uma EDO onde os valores da função e suas derivadas (quando necessário) são todos conhecidos **no mesmo ponto**."
   ]
  },
  {
   "cell_type": "markdown",
   "id": "d4b5d71d",
   "metadata": {
    "slideshow": {
     "slide_type": "fragment"
    }
   },
   "source": [
    "Caso, para uma EDO de ordem $m$, sejam dados os valores da função, bem como o de suas derivadas até a ordem $m-1$, todas elas no mesmo ponto, então dizemos que temos um Problema de Valor Inicial."
   ]
  },
  {
   "cell_type": "markdown",
   "id": "6b0b91c7-949a-4143-8577-1a27e93f7387",
   "metadata": {
    "slideshow": {
     "slide_type": "slide"
    }
   },
   "source": [
    "### Exemplos"
   ]
  },
  {
   "cell_type": "markdown",
   "id": "6e7cfc8c-2e33-4915-9e0c-05b1edea870b",
   "metadata": {},
   "source": [
    "$\\left\\{\\begin{array}{c}\n",
    "\\dfrac{dy}{dt} = 5y \\\\\n",
    "y(0) = 0\n",
    "\\end{array} \\right.$\n",
    "\n",
    "$\\left\\{\\begin{array}{c}\n",
    "m\\dfrac{d^2y}{dt^2} + b\\dfrac{dy}{dt} + ky = 0 \\\\\n",
    "y(0) = c \\\\\n",
    "y'(0) = 0\n",
    "\\end{array} \\right.$\n"
   ]
  },
  {
   "cell_type": "markdown",
   "id": "f3792c22",
   "metadata": {
    "heading_collapsed": true,
    "slideshow": {
     "slide_type": "slide"
    }
   },
   "source": [
    "## Problema de Valor de Contorno (PVC)"
   ]
  },
  {
   "cell_type": "markdown",
   "id": "ec1d2984",
   "metadata": {
    "hidden": true,
    "slideshow": {
     "slide_type": "fragment"
    }
   },
   "source": [
    "Caso, para uma EDO de ordem $m$, sejam dados $m-1$ valores da função ou de suas derivadas, não necessariamente no mesmo ponto, então dizemos que temos um Problema de Valor de Contorno.\n",
    "\n",
    "Uma característica dos PVC é que não é garantido a unicidade de solução.\n",
    "\n",
    "\n",
    "Fontes consultadas:\n",
    "\n",
    "* https://sites.google.com/view/projetoclculonumricoparatodos/m1?authuser=0\n",
    "* http://paginapessoal.utfpr.edu.br/lcpereira/esta-e-uma-pasta/ma63b/Semana1_MA70G.pdf"
   ]
  },
  {
   "cell_type": "markdown",
   "id": "7aebdbf3",
   "metadata": {
    "slideshow": {
     "slide_type": "slide"
    }
   },
   "source": [
    "## Solução de um PVI"
   ]
  },
  {
   "cell_type": "markdown",
   "id": "98673d5b-fcb0-4359-9dd5-e4bc65bb2c00",
   "metadata": {},
   "source": [
    "```python\n",
    "solve_ivp(fun, t_span, y0, method='RK45', t_eval=None, dense_output=False, events=None, vectorized=False, args=None, **options)\n",
    "```\n",
    "\n",
    "https://docs.scipy.org/doc/scipy/reference/generated/scipy.integrate.solve_ivp.html"
   ]
  },
  {
   "cell_type": "markdown",
   "id": "2bd86f6a-4c12-4329-b2d8-0627686c5b51",
   "metadata": {},
   "source": [
    "### Decaimento exponencial"
   ]
  },
  {
   "cell_type": "markdown",
   "id": "97704eef-57a3-4952-9bce-bba3447942c0",
   "metadata": {},
   "source": [
    "Cada átomo de uma substância radioativa tem uma certa probabilidade, por unidade de tempo, de se transformar num átomo mais leve, emitindo radiação no processo. \n",
    "Se $x$ for uma quantidade de massa de uma determinada substância radioativa, então a velocidade com que esta massa diminui é dada por:\n",
    "\n",
    "$\\dfrac{dx}{dt} = -px\n",
    "$\n",
    "\n",
    "onde $p$ é chamada de constante de decaimento.\n",
    "\n",
    "Suponha que você tenha uma quantidade de 3000g de uma substância radioativa que possui uma constante de decaimento $p = 0.086$.\n",
    "\n",
    "1. Plote o gráfico da massa pelo tempo (até $t = 100$)."
   ]
  },
  {
   "cell_type": "code",
   "execution_count": 17,
   "id": "3e518463-e1bb-416a-a071-032c71d9713c",
   "metadata": {},
   "outputs": [
    {
     "name": "stdout",
     "output_type": "stream",
     "text": [
      "  message: The solver successfully reached the end of the integration interval.\n",
      "  success: True\n",
      "   status: 0\n",
      "        t: [ 0.000e+00  1.633e-01 ...  9.432e+01  1.000e+02]\n",
      "        y: [[ 3.000e+03  2.958e+03 ...  9.045e-01  5.548e-01]]\n",
      "      sol: None\n",
      " t_events: None\n",
      " y_events: None\n",
      "     nfev: 74\n",
      "     njev: 0\n",
      "      nlu: 0\n"
     ]
    },
    {
     "data": {
      "text/plain": [
       "[<matplotlib.lines.Line2D at 0x1ff87007560>]"
      ]
     },
     "execution_count": 17,
     "metadata": {},
     "output_type": "execute_result"
    },
    {
     "data": {
      "image/png": "[encoded data removed]",
      "text/plain": [
       "<Figure size 640x480 with 1 Axes>"
      ]
     },
     "metadata": {},
     "output_type": "display_data"
    }
   ],
   "source": [
    "import numpy as np\n",
    "import matplotlib.pyplot as plt\n",
    "from scipy.integrate import solve_ivp\n",
    "\n",
    "m0 = 3000\n",
    "p = 0.086\n",
    "def decaimento_edo(t, x):\n",
    "    # observe que são dados 2 parâmetros de entrada: t e x\n",
    "    return -p*x\n",
    "\n",
    "sol = solve_ivp(decaimento_edo, y0 = [m0], t_span = [0,100])\n",
    "\n",
    "print(sol)\n",
    "massa = sol.y[0]\n",
    "tempo = sol.t\n",
    "plt.plot(tempo, massa, 'r', lw=1)"
   ]
  },
  {
   "cell_type": "markdown",
   "id": "57f0b11f-5eef-406d-84b7-6df955fd59fd",
   "metadata": {},
   "source": [
    "2. Determine a massa após 30 dias"
   ]
  },
  {
   "cell_type": "code",
   "execution_count": 36,
   "id": "9ffbd4f2-1bb3-47fd-b2e9-9ef229f0a4ae",
   "metadata": {},
   "outputs": [
    {
     "name": "stdout",
     "output_type": "stream",
     "text": [
      "[ 0.          0.16334293  1.79677222 12.59543997 22.77901369 30.        ]\n"
     ]
    }
   ],
   "source": [
    "sol = solve_ivp(decaimento_edo, y0 = [m0], t_span = [0,30])\n",
    "massa = sol.y[0]\n",
    "print(sol.t)"
   ]
  },
  {
   "cell_type": "code",
   "execution_count": 37,
   "id": "9657a699-2769-4558-999d-f043f2b66065",
   "metadata": {},
   "outputs": [
    {
     "name": "stdout",
     "output_type": "stream",
     "text": [
      "0.0\n",
      "0.1633429289199574\n",
      "1.6334292891995736\n",
      "10.798667747187224\n",
      "10.183573722077046\n",
      "7.220986312616198\n"
     ]
    }
   ],
   "source": [
    "tanterior = 0\n",
    "for t in sol.t:\n",
    "    print(t - tanterior)\n",
    "    tanterior = t"
   ]
  },
  {
   "cell_type": "markdown",
   "id": "3e11723c-2b4f-4b09-b063-41c988f793d2",
   "metadata": {},
   "source": [
    "3. Sabendo que a solução é dada por $m(t) = m_0e^{-pt}$, compare com o valor exato"
   ]
  },
  {
   "cell_type": "code",
   "execution_count": 38,
   "id": "8230efd2-9853-40f0-a64e-b253cb2f29f9",
   "metadata": {},
   "outputs": [
    {
     "data": {
      "text/plain": [
       "[<matplotlib.lines.Line2D at 0x1ff86f4d490>]"
      ]
     },
     "execution_count": 38,
     "metadata": {},
     "output_type": "execute_result"
    },
    {
     "data": {
      "image/png": "[encoded data removed]",
      "text/plain": [
       "<Figure size 640x480 with 1 Axes>"
      ]
     },
     "metadata": {},
     "output_type": "display_data"
    }
   ],
   "source": [
    "import numpy as np\n",
    "import matplotlib.pyplot as plt\n",
    "from scipy.integrate import solve_ivp\n",
    "\n",
    "m0 = 3000\n",
    "p = 0.086\n",
    "\n",
    "def decaimento_edo(t, x):\n",
    "    # observe que são dados 2 parâmetros de entrada: t e x\n",
    "    return -p*x\n",
    "\n",
    "def decaimento_solucao(t, p, m0):\n",
    "    return m0*np.exp(-p*t)\n",
    "    \n",
    "sol = solve_ivp(decaimento_edo, y0 = [m0], t_span = [0,100])\n",
    "massa = sol.y[0]\n",
    "tempo = sol.t\n",
    "plt.plot(tempo, massa, 'ro', lw=1)\n",
    "\n",
    "massa2 = decaimento_solucao(tempo, p, m0)\n",
    "plt.plot(tempo, massa2, 'b', lw=1)\n"
   ]
  },
  {
   "cell_type": "code",
   "execution_count": 39,
   "id": "8c4e81d9-7361-415b-8a5f-feda4bbf5e46",
   "metadata": {},
   "outputs": [
    {
     "data": {
      "text/plain": [
       "[<matplotlib.lines.Line2D at 0x1ff8adb41d0>]"
      ]
     },
     "execution_count": 39,
     "metadata": {},
     "output_type": "execute_result"
    },
    {
     "data": {
      "image/png": "[encoded data removed]",
      "text/plain": [
       "<Figure size 640x480 with 1 Axes>"
      ]
     },
     "metadata": {},
     "output_type": "display_data"
    }
   ],
   "source": [
    "erro = massa2 - massa\n",
    "plt.plot(tempo, erro, 'b', lw=1)"
   ]
  },
  {
   "cell_type": "markdown",
   "id": "8d83bb0e",
   "metadata": {
    "slideshow": {
     "slide_type": "fragment"
    }
   },
   "source": [
    "### Queda livre com atrito do ar"
   ]
  },
  {
   "cell_type": "markdown",
   "id": "e0f189c6",
   "metadata": {
    "slideshow": {
     "slide_type": "fragment"
    }
   },
   "source": [
    "Considere um PVI da forma:\n",
    "\n",
    "$\n",
    "\\dfrac{dy}{dt} = f(t,y)\n",
    "$\n",
    "\n",
    "Suponha que desejamos calcular a velocidade de um corpo rígido, inicialmente parado, em queda livre [CHAPRA, pg 4].\n",
    "Sobre esse corpo agem duas forças: A força da gravidade e a resistência do ar.\n",
    "\n",
    "Um modelo adequado para este cenário é:\n",
    "\n",
    "$\n",
    "F = ma = mg - c_d v^2\n",
    "$\n",
    "\n",
    "onde:\n",
    "\n",
    "* $m$ é a massa do corpo;\n",
    "* $g$ a aceleração da gravidade;\n",
    "* $c_d$ é o coeficiente de arraste;\n",
    "* $v$ é a velocidade do corpo;\n",
    "\n",
    "Sabemos também que:\n",
    "\n",
    "$\n",
    "a = \\dfrac{dv}{dt}\n",
    "$\n",
    "\n",
    "assim podemos chegar na equação:\n",
    "\n",
    "$\n",
    "\\dfrac{dv}{dt} = g - \\dfrac{c_d}{m}v^2\n",
    "$\n",
    "\n",
    "que encontra-se no formato ($g$, $c_d$ e $m$ são constantes):\n",
    "\n",
    "$\n",
    "\\dfrac{dv}{dt} = f(t, v)\n",
    "$\n",
    "\n",
    "Como o corpo encontra-se inicialmente parado, temos que:\n",
    "\n",
    "$\n",
    "v(0) = 0\n",
    "$\n",
    "\n",
    "caracterizando-o como um PVI.\n",
    "\n",
    "[CHAPRA] CHAPRA, S. C. , \"Métodos Numéricos Aplicados com MATLAB para Engenheiros e Cientistas\", 3ª ed., 2013. "
   ]
  },
  {
   "cell_type": "markdown",
   "id": "b484d2e6",
   "metadata": {
    "slideshow": {
     "slide_type": "fragment"
    }
   },
   "source": [
    "### Solução Numérica"
   ]
  },
  {
   "cell_type": "markdown",
   "id": "6a026b9a",
   "metadata": {
    "slideshow": {
     "slide_type": "fragment"
    }
   },
   "source": [
    "Vamos resolver numericamente a EDO abaixo:\n",
    "\n",
    "$\n",
    "\\dfrac{dv}{dt} = g - \\dfrac{c_d}{m}v^2\n",
    "$\n",
    "\n",
    "e determinar o valor de $v(t)$"
   ]
  },
  {
   "cell_type": "code",
   "execution_count": 1,
   "id": "5d8160f8",
   "metadata": {
    "code_folding": [],
    "slideshow": {
     "slide_type": "fragment"
    }
   },
   "outputs": [],
   "source": [
    "def quedalivre_edo(t, v):\n",
    "    g = 9.81\n",
    "    cd = 0.25\n",
    "    m = 68.1\n",
    "    dvdt =  g - cd/m*v**2\n",
    "    return dvdt"
   ]
  },
  {
   "cell_type": "markdown",
   "id": "0be46ca6",
   "metadata": {
    "slideshow": {
     "slide_type": "fragment"
    }
   },
   "source": [
    "Em seguida, podemos resolver o PVI utilizando a função `solve_ivp`"
   ]
  },
  {
   "cell_type": "code",
   "execution_count": 2,
   "id": "bc0d0e9f",
   "metadata": {
    "slideshow": {
     "slide_type": "fragment"
    }
   },
   "outputs": [
    {
     "name": "stdout",
     "output_type": "stream",
     "text": [
      "  message: The solver successfully reached the end of the integration interval.\n",
      "  success: True\n",
      "   status: 0\n",
      "        t: [ 0.000e+00  1.000e-04  1.100e-03  1.110e-02  1.111e-01\n",
      "             1.111e+00  5.626e+00  8.392e+00  1.116e+01  1.511e+01\n",
      "             1.967e+01  2.000e+01]\n",
      "        y: [[ 0.000e+00  9.810e-04  1.079e-02  1.089e-01  1.090e+00\n",
      "              1.074e+01  4.077e+01  4.759e+01  5.022e+01  5.136e+01\n",
      "              5.163e+01  5.164e+01]]\n",
      "      sol: None\n",
      " t_events: None\n",
      " y_events: None\n",
      "     nfev: 74\n",
      "     njev: 0\n",
      "      nlu: 0\n"
     ]
    },
    {
     "data": {
      "text/plain": [
       "[<matplotlib.lines.Line2D at 0x18e133c9850>]"
      ]
     },
     "execution_count": 2,
     "metadata": {},
     "output_type": "execute_result"
    },
    {
     "data": {
      "image/png": "[encoded data removed]",
      "text/plain": [
       "<Figure size 640x480 with 1 Axes>"
      ]
     },
     "metadata": {},
     "output_type": "display_data"
    }
   ],
   "source": [
    "import numpy as np\n",
    "import matplotlib.pyplot as plt\n",
    "from scipy.integrate import solve_ivp\n",
    "\n",
    "v0 = 0\n",
    "sol = solve_ivp(quedalivre_edo, y0 = [v0], t_span = [0,20])\n",
    "\n",
    "print(sol)\n",
    "velocidade = sol.y[0]\n",
    "tempo = sol.t\n",
    "plt.plot(tempo, velocidade, 'r', lw=1)"
   ]
  },
  {
   "cell_type": "markdown",
   "id": "3a756051",
   "metadata": {
    "slideshow": {
     "slide_type": "fragment"
    }
   },
   "source": [
    "### Solução analítica"
   ]
  },
  {
   "cell_type": "markdown",
   "id": "03d3c304",
   "metadata": {
    "slideshow": {
     "slide_type": "fragment"
    }
   },
   "source": [
    "Observe que é possível obter uma solução analítica para a EDO anterior, ou seja, encontrar uma função do tipo:\n",
    "\n",
    "$\n",
    "v(t) = f(t)\n",
    "$\n",
    "\n",
    "Utilizando a técnica, por exemplo, de separação de variáveis, podemos reescrever a EDO acima como:\n",
    "\n",
    "$\n",
    "\\dfrac{dv}{1 - \\left(\\dfrac{v}{v_t}\\right)^2} = g \\cdot dt\n",
    "$\n",
    "\n",
    "onde $v_t = \\sqrt{\\frac{mg}{c_d}}$ o que, após integrarmos ambos os lados da equação, obtemos a solução:\n",
    "\n",
    "$\n",
    "v(t) = \\sqrt{\\dfrac{gm}{c_d}} \\cdot \\tanh \\left(\\sqrt{\\dfrac{gc_d}{m}} \\cdot t \\right)\n",
    "$"
   ]
  },
  {
   "cell_type": "code",
   "execution_count": 3,
   "id": "96de9abb",
   "metadata": {
    "code_folding": [],
    "slideshow": {
     "slide_type": "fragment"
    }
   },
   "outputs": [
    {
     "data": {
      "text/plain": [
       "Text(0, 0.5, 'Velocidade')"
      ]
     },
     "execution_count": 3,
     "metadata": {},
     "output_type": "execute_result"
    },
    {
     "data": {
      "image/png": "[encoded data removed]",
      "text/plain": [
       "<Figure size 640x480 with 1 Axes>"
      ]
     },
     "metadata": {},
     "output_type": "display_data"
    }
   ],
   "source": [
    "def quedalivre_analitico(t):\n",
    "    g = 9.81\n",
    "    cd = 0.25\n",
    "    m = 68.1\n",
    "    v = np.sqrt(g*m/cd)*np.tanh(np.sqrt(g*cd/m)*t)\n",
    "    return v\n",
    "\n",
    "treal = np.linspace(0, 20, 21)\n",
    "vreal = quedalivre_analitico(treal)\n",
    "\n",
    "# podemos comparar a solucao numerica obtida anteriormente com a solucao analitica:\n",
    "plt.plot(treal, vreal, '-b', tempo , velocidade, '-r', lw=1)\n",
    "plt.xlabel('Tempo')\n",
    "plt.ylabel('Velocidade')"
   ]
  },
  {
   "cell_type": "code",
   "execution_count": 4,
   "id": "645dd9a2",
   "metadata": {
    "slideshow": {
     "slide_type": "fragment"
    }
   },
   "outputs": [
    {
     "data": {
      "text/plain": [
       "Text(0, 0.5, 'Velocidade')"
      ]
     },
     "execution_count": 4,
     "metadata": {},
     "output_type": "execute_result"
    },
    {
     "data": {
      "image/png": "[encoded data removed]",
      "text/plain": [
       "<Figure size 640x480 with 1 Axes>"
      ]
     },
     "metadata": {},
     "output_type": "display_data"
    }
   ],
   "source": [
    "# vamos amostrar a solução numérica nos mesmos pontos que a solução analítica:\n",
    "\n",
    "sol_scipy = solve_ivp(quedalivre_edo, y0 = [v0], t_span = [0,20], t_eval = treal)\n",
    "tempo = sol_scipy.t\n",
    "velocidade = sol_scipy.y[0]\n",
    "\n",
    "plt.plot(treal, vreal, '-b', tempo , velocidade, '.r', lw=1)\n",
    "plt.legend(['solução analítico', 'Solução numérica'])\n",
    "plt.xlabel('Tempo')\n",
    "plt.ylabel('Velocidade')"
   ]
  },
  {
   "cell_type": "markdown",
   "id": "5970ba93",
   "metadata": {
    "slideshow": {
     "slide_type": "-"
    }
   },
   "source": [
    "<a id=CHAPRA>[CHAPRA] CHAPRA, S. C. *Métodos Numéricos Aplicados com MATLAB para Engenheiros e Cientistas*, 3ª ed. 2013</a>"
   ]
  },
  {
   "cell_type": "markdown",
   "id": "5bd6e395-c502-4b7b-9bf2-1b4c4aa13ae7",
   "metadata": {},
   "source": [
    "### Exercício"
   ]
  },
  {
   "cell_type": "markdown",
   "id": "d3aa04cb-8d68-41bd-88ea-64e84457f2eb",
   "metadata": {},
   "source": [
    "Determine a solução da seguinte equação diferencial ordinária:\n",
    "\n",
    "$\n",
    "\\dfrac{dy}{dx} = \\dfrac{2x}{y^2}\n",
    "$\n",
    "\n",
    "com condição inicial $y(0) = 3$ no intervalo de 0 a 100."
   ]
  },
  {
   "cell_type": "code",
   "execution_count": 41,
   "id": "a98292ec-fa36-4800-8e4a-df64496ed582",
   "metadata": {},
   "outputs": [
    {
     "data": {
      "text/plain": [
       "[<matplotlib.lines.Line2D at 0x1ff8ade9a00>]"
      ]
     },
     "execution_count": 41,
     "metadata": {},
     "output_type": "execute_result"
    },
    {
     "data": {
      "image/png": "[encoded data removed]",
      "text/plain": [
       "<Figure size 640x480 with 1 Axes>"
      ]
     },
     "metadata": {},
     "output_type": "display_data"
    }
   ],
   "source": [
    "import numpy as np\n",
    "import matplotlib.pyplot as plt\n",
    "from scipy.integrate import solve_ivp\n",
    "\n",
    "def edo(t,y):\n",
    "    return 2*t/y**2\n",
    "    \n",
    "sol = solve_ivp(edo, y0 = [3], t_span = [0,100])\n",
    "\n",
    "plt.plot(sol.t, sol.y[0], 'r', lw=1)"
   ]
  },
  {
   "cell_type": "markdown",
   "id": "913bba7d-d50f-416d-a6ef-158f1b2b4d5a",
   "metadata": {},
   "source": [
    "### Exercício: Modelo logístico\n"
   ]
  },
  {
   "cell_type": "markdown",
   "id": "c1880628-9887-4e8b-a7be-6f57bbba841b",
   "metadata": {},
   "source": [
    "O modelo logístico é muitas vezes utilizado para descrever o crescimento de uma população em um ambiente com recursos limitados.\n",
    "Neste modelo a taxa de crescimento populacional se torna menor à medida que o tamanho da população se aproxima de um máximo imposto por recursos limitantes no ambiente, conhecido como capacidade de suporte ($K$) e pode ser descrito pela equação diferencial abaixo:\n",
    "\n",
    "\\begin{equation}\n",
    "\\dfrac{dN}{dt} = r \\left(\\dfrac{K - N}{K}\\right)N\n",
    "\\end{equation}\n",
    "\n",
    "onde $r$ é a taxa de crescimento.\n",
    "\n",
    "A solução analítica é dada por:\n",
    "\n",
    "\\begin{equation}\n",
    "N(t) = \\dfrac{N_0 \\cdot K}{K - N_0 e^{-rt} + N_0}\n",
    "\\end{equation}\n",
    "\n",
    "onde $N_0$ é a população no instante $t= 0$.\n",
    "\n",
    "![crescimentologistico](figuras/ajuste-curvas-fig02.png)\n",
    "\n",
    "Simule o crescimento de uma população com $r = 0,02$ e $K = 100$ e para diversos valores de $N_0$ (1, 50, 150, 200) no intervalo de [0, 600]."
   ]
  },
  {
   "cell_type": "code",
   "execution_count": 53,
   "id": "9dab904f-938b-4d34-b43e-264f24784d7f",
   "metadata": {},
   "outputs": [
    {
     "data": {
      "image/png": "[encoded data removed]",
      "text/plain": [
       "<Figure size 640x480 with 1 Axes>"
      ]
     },
     "metadata": {},
     "output_type": "display_data"
    }
   ],
   "source": [
    "import numpy as np\n",
    "import matplotlib.pyplot as plt\n",
    "from scipy.integrate import solve_ivp\n",
    "\n",
    "def crescimento_logistico_edo(t,N):\n",
    "    r = 0.02\n",
    "    K = 100\n",
    "    return N*r*(K - N)/K\n",
    "\n",
    "t = np.linspace(0,600)\n",
    "for y0 in [1, 50, 150, 200]:\n",
    "    sol = solve_ivp(crescimento_logistico_edo, y0 = [y0], t_span = [0,600], t_eval=t)\n",
    "    plt.plot(sol.t, sol.y[0], 'r', lw=1)"
   ]
  }
 ],
 "metadata": {
  "celltoolbar": "Slideshow",
  "kernelspec": {
   "display_name": "Python 3 (ipykernel)",
   "language": "python",
   "name": "python3"
  },
  "language_info": {
   "codemirror_mode": {
    "name": "ipython",
    "version": 3
   },
   "file_extension": ".py",
   "mimetype": "text/x-python",
   "name": "python",
   "nbconvert_exporter": "python",
   "pygments_lexer": "ipython3",
   "version": "3.12.5"
  },
  "latex_envs": {
   "LaTeX_envs_menu_present": true,
   "autoclose": true,
   "autocomplete": true,
   "bibliofile": "biblio.bib",
   "cite_by": "apalike",
   "current_citInitial": 1,
   "eqLabelWithNumbers": true,
   "eqNumInitial": 1,
   "hotkeys": {
    "equation": "Ctrl-E",
    "itemize": "Ctrl-I"
   },
   "labels_anchors": false,
   "latex_user_defs": false,
   "report_style_numbering": false,
   "user_envs_cfg": false
  }
 },
 "nbformat": 4,
 "nbformat_minor": 5
}
