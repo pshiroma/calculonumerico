{
 "cells": [
  {
   "cell_type": "markdown",
   "id": "32bcc95f",
   "metadata": {
    "slideshow": {
     "slide_type": "slide"
    }
   },
   "source": [
    "# Ajuste de curvas\n",
    "\n",
    "* Regressão não-linear"
   ]
  },
  {
   "cell_type": "markdown",
   "id": "afce7a8c-5e74-4444-bae4-b57e81910c21",
   "metadata": {
    "tags": []
   },
   "source": [
    "## Exemplo: Crescimento exponencial"
   ]
  },
  {
   "cell_type": "markdown",
   "id": "1a45297c",
   "metadata": {
    "jp-MarkdownHeadingCollapsed": true,
    "slideshow": {
     "slide_type": "slide"
    },
    "tags": []
   },
   "source": [
    "A população brasileira tem crescido constantemente nas últimas décadas, apresentando um alto crescimento vegetativo.\n",
    "Embora a taxa de natalidade tenha apresentado diminuição nos últimos anos, o aumento da espectativa de vida e a diminuição da taxa de mortalidade tem contribuído com o aumento populacional.\n",
    "\n",
    "Observe os dados da população brasileira nas últimas décadas:\n",
    "\n",
    "| Ano | População |\n",
    "| --- | --- |\n",
    "| 1872 | 9.930.478 |\n",
    "| 1890 | 14.333.915 |\t\t\n",
    "| 1900 | 17.438.434 |\t\t\n",
    "| 1920 | 30.635.605\t|\t\n",
    "| 1940 | 41.236.315\t|\t\n",
    "| 1950 | 51.944.397\t|\t\n",
    "| 1960 | 70.992.343\t|\t\n",
    "| 1970 | 94.508.583\t|\t\n",
    "| 1980 | 121.150.573 |\t\t\n",
    "| 1991 | 146.917.459 |\t\t\n",
    "| 2000 | 169.590.693 |\t\t\n",
    "| 2010 | 190.755.799 |\n",
    "\n",
    "1. Trace o diagrama de dispersão dos dados acima\n",
    "2. Em seguida, plote novamente utilizando o eixo semi-log.\n",
    "3. Ajuste os dados a uma curva exponencial\n",
    "4. Sabendo que a população brasileira em 2020 foi de 212,6 milhões de habitantes, podemos afirmar que o crescimento continua obedecendo uma curva exponencial?"
   ]
  },
  {
   "cell_type": "code",
   "execution_count": 9,
   "id": "36f08708",
   "metadata": {
    "slideshow": {
     "slide_type": "fragment"
    }
   },
   "outputs": [
    {
     "data": {
      "text/plain": [
       "Text(0, 0.5, 'População')"
      ]
     },
     "execution_count": 9,
     "metadata": {},
     "output_type": "execute_result"
    },
    {
     "data": {
      "image/png": "[encoded data removed]",
      "text/plain": [
       "<Figure size 432x288 with 1 Axes>"
      ]
     },
     "metadata": {
      "needs_background": "light"
     },
     "output_type": "display_data"
    }
   ],
   "source": [
    "import matplotlib.pyplot as plt\n",
    "import numpy as np\n",
    "\n",
    "ano = np.array([1872,1890,1900,1920,1940,1950,1960,1970,1980,1991,2000,2010])\n",
    "populacao = np.array([9930478,14333915,17438434,30635605,41236315,51944397,70992343,94508583,121150573,146917459,169590693,190755799])\n",
    "\n",
    "X = ano\n",
    "Y = populacao\n",
    "\n",
    "# 1. Trace o diagrama de dispersão dos dados acima\n",
    "plt.scatter(X, Y)\n",
    "plt.xlabel('Ano')\n",
    "plt.ylabel('População')"
   ]
  },
  {
   "cell_type": "code",
   "execution_count": 2,
   "id": "629e58df",
   "metadata": {
    "slideshow": {
     "slide_type": "fragment"
    }
   },
   "outputs": [
    {
     "data": {
      "text/plain": [
       "[<matplotlib.lines.Line2D at 0x1e35ecc6b30>]"
      ]
     },
     "execution_count": 2,
     "metadata": {},
     "output_type": "execute_result"
    },
    {
     "data": {
      "image/png": "[encoded data removed]",
      "text/plain": [
       "<Figure size 432x288 with 1 Axes>"
      ]
     },
     "metadata": {
      "needs_background": "light"
     },
     "output_type": "display_data"
    }
   ],
   "source": [
    "# 2. Em seguida, plote novamente utilizando o eixo semi-log.\n",
    "plt.figure()\n",
    "plt.semilogy(X, Y, 'or')"
   ]
  },
  {
   "cell_type": "code",
   "execution_count": 8,
   "id": "35085e8a",
   "metadata": {
    "slideshow": {
     "slide_type": "fragment"
    }
   },
   "outputs": [
    {
     "name": "stdout",
     "output_type": "stream",
     "text": [
      "A equação obtida foi: y = 6.183e-12 exp(0.0224x)\n",
      "A estimativa para a população em 2020 é de 267592629 habitantes\n"
     ]
    }
   ],
   "source": [
    "# 3. Ajuste os dados a uma curva exponencial\n",
    "from scipy import stats\n",
    "\n",
    "LNY = np.log(Y)\n",
    "r = stats.linregress(X, LNY)\n",
    "th1,th0 = r.slope, r.intercept\n",
    "\n",
    "# o valor obtido foi de th1 = ln(alpha). Para achar o valor de alpha fazemos:\n",
    "alpha = np.exp(th0)\n",
    "beta = th1\n",
    "print(f'A equação obtida foi: y = {alpha:.3e} exp({beta:.4f}x)')\n",
    "estimativa = alpha*np.exp(2020*beta)\n",
    "print(f'A estimativa para a população em 2020 é de {estimativa:.0f} habitantes')\n",
    "\n",
    "# 4. Sabendo que a população brasileira em 2020 foi de 212,6 milhões de habitantes, podemos afirmar que o crescimento continua obedecendo uma curva exponencial?"
   ]
  },
  {
   "cell_type": "code",
   "execution_count": null,
   "id": "d98d0b2d",
   "metadata": {
    "slideshow": {
     "slide_type": "-"
    }
   },
   "outputs": [],
   "source": []
  },
  {
   "cell_type": "markdown",
   "id": "bdf53fa3-aa06-4495-a142-3d1c91156180",
   "metadata": {},
   "source": [
    "# Regressão não-linear"
   ]
  },
  {
   "cell_type": "markdown",
   "id": "41dc28d0",
   "metadata": {
    "slideshow": {
     "slide_type": "slide"
    }
   },
   "source": [
    "Em muitos casos, não é possível linearizar o modelo que desejamos ajustar. \n",
    "Nestes casos é preciso utilizar outra técnica diferente do método dos mínimos quadrados, como por exemplo técnicas baseados em otimização.\n",
    "\n",
    "Observe que no exemplo anterior, a curva exponencial já começa a apresentar uma saturação, indicando que ela está diminuindo de velocidade.\n",
    "\n",
    "Este dado reflete o fato que na natureza as populações podem crescer exponencialmente por alguns períodos, mas elas estão limitadas pela disponibilidade de recursos.\n",
    "\n",
    "Este comportamento pode ser descrito pela equação não-linear conhecida como crescimento logístico.\n",
    "No crescimento logístico, a taxa de crescimento populacional se torna menor à medida que o tamanho da população se aproxima de um máximo imposto por recursos limitantes no ambiente, conhecido como capacidade de suporte ($K$) e pode ser descrito pela equação abaixo:\n",
    "\n",
    "\\begin{equation}\n",
    "N(t) = \\dfrac{N_0 \\cdot K}{K - N_0 e^{-rt} + N_0}\n",
    "\\end{equation}\n",
    "\n",
    "onde $N_0$ é a população no instante $t= 0$, $r$ a taxa de crescimento.\n",
    "\n",
    "Esta equação vem da solução da equação diferencial:\n",
    "\n",
    "\\begin{equation}\n",
    "\\dfrac{dN}{dt} = r \\left(\\dfrac{K - N}{K}\\right)N\n",
    "\\end{equation}\n",
    "\n",
    "![crescimentologistico](figuras/ajuste-curvas-fig02.png)\n",
    "\n",
    "Saiba mais em:\n",
    "\n",
    "https://pt.khanacademy.org/science/biology/ecology/population-growth-and-regulation/a/exponential-logistic-growth\n",
    "\n",
    "Entretanto, não é possível linearizar este modelo e devemos utilizar métodos de linearização não-lineares.\n",
    "\n",
    "No python, as funções `curve_fit` e `minimize` da biblioteca `scipy` são capazes de realizar a regressão não-linear."
   ]
  },
  {
   "cell_type": "markdown",
   "id": "8488c5b7",
   "metadata": {
    "slideshow": {
     "slide_type": "fragment"
    }
   },
   "source": [
    "A partir do modelo de crescimento logístico com estimativa inicial $N_0 = 8.000.000$, $K = 350.000.000$ e $r = 0,02$, faça:\n",
    "\n",
    "* A regressão não-linear utilizando a função `curve_fit`\n",
    "* A regressão não-linear utilizando a função `minimize`\n",
    "* Plote o gráfico do modelo com a estimativa inicial\n",
    "* Plote o gráfico do modelo com os valores obtidos pela função `curve_fit` e `minimize`\n",
    "* Estime a população em 2020."
   ]
  },
  {
   "cell_type": "code",
   "execution_count": 10,
   "id": "6b355638",
   "metadata": {
    "slideshow": {
     "slide_type": "fragment"
    }
   },
   "outputs": [
    {
     "name": "stdout",
     "output_type": "stream",
     "text": [
      "[5.77029223e+06 3.39152094e+08 3.10411888e-02]\n"
     ]
    }
   ],
   "source": [
    "# Regressão não-lnear utilizando a função `curve_fit`\n",
    "\n",
    "from scipy.optimize import curve_fit\n",
    "\n",
    "ano = np.array([1872,1890,1900,1920,1940,1950,1960,1970,1980,1991,2000,2010])\n",
    "populacao = np.array([9930478,14333915,17438434,30635605,41236315,51944397,70992343,94508583,121150573,146917459,169590693,190755799])\n",
    "\n",
    "X = ano\n",
    "Y = populacao\n",
    "\n",
    "# estimativa inicial\n",
    "x0 = [8000000, 350000000, 0.02]\n",
    "\n",
    "def crescimentologistico(t, N0, k, r):\n",
    "    return N0*k/((k - N0)*np.exp(-r*t) + N0)\n",
    "\n",
    "res = curve_fit(crescimentologistico, X-1870, Y, x0)\n",
    "print(res[0])"
   ]
  },
  {
   "cell_type": "code",
   "execution_count": 13,
   "id": "bab67729",
   "metadata": {
    "slideshow": {
     "slide_type": "fragment"
    }
   },
   "outputs": [
    {
     "name": "stdout",
     "output_type": "stream",
     "text": [
      "[6.48767818e+06 3.67784811e+08 2.95410984e-02] \n",
      "\n"
     ]
    }
   ],
   "source": [
    "# A regressão não-linear utilizando a função `minimize`\n",
    "\n",
    "from scipy.optimize import minimize\n",
    "\n",
    "def crescimentologistico_somatorio_residuos(theta, t, N):\n",
    "    N0 = theta[0]\n",
    "    k = theta[1]\n",
    "    r = theta[2]\n",
    "    residuos = N - N0*k/((k - N0)*np.exp(-r*t) + N0)\n",
    "    return np.sum(residuos**2)\n",
    "\n",
    "r = minimize(crescimentologistico_somatorio_residuos, x0, args=(X-1870,Y))\n",
    "print(r.x, '\\n')"
   ]
  },
  {
   "cell_type": "code",
   "execution_count": 21,
   "id": "44f25c89",
   "metadata": {
    "slideshow": {
     "slide_type": "fragment"
    }
   },
   "outputs": [
    {
     "data": {
      "text/plain": [
       "<matplotlib.collections.PathCollection at 0x1e3624be1a0>"
      ]
     },
     "execution_count": 21,
     "metadata": {},
     "output_type": "execute_result"
    },
    {
     "data": {
      "image/png": "[encoded data removed]",
      "text/plain": [
       "<Figure size 432x288 with 1 Axes>"
      ]
     },
     "metadata": {
      "needs_background": "light"
     },
     "output_type": "display_data"
    }
   ],
   "source": [
    "# Plote o gráfico do modelo com a estimativa inicial\n",
    "# Plote o gráfico do modelo com os valores obtidos pela função `curve_fit` e `minimize`\n",
    "\n",
    "Yinicial = crescimentologistico(X-1870, x0[0], x0[1], x0[2])\n",
    "Ycurvefit = crescimentologistico(X-1870, res[0][0], res[0][1], res[0][2])\n",
    "Yminimize = crescimentologistico(X-1870, r.x[0], r.x[1], r.x[2])\n",
    "plt.plot(X, Yinicial, 'y--')\n",
    "plt.plot(X, Ycurvefit, 'mx')\n",
    "plt.plot(X, Yminimize, 'b')\n",
    "plt.scatter(X, Y, c='r')"
   ]
  },
  {
   "cell_type": "code",
   "execution_count": 27,
   "id": "a0aa24a0",
   "metadata": {
    "slideshow": {
     "slide_type": "fragment"
    }
   },
   "outputs": [
    {
     "name": "stdout",
     "output_type": "stream",
     "text": [
      "Estimativa (exponencial)           : 267592629 habitantes\n",
      "Estimativa (crescimento logístico) : 218945632 habitantes\n"
     ]
    }
   ],
   "source": [
    "# Estime a população em 2020.\n",
    "# Compare com o valor obtido no crescimento exponencial e o valor verdadeiro, de 212,6 milhões\n",
    "\n",
    "estimativa2 = crescimentologistico(2020-1870, res[0][0], res[0][1], res[0][2])\n",
    "print(f'Estimativa (exponencial)           : {estimativa:.0f} habitantes')\n",
    "print(f'Estimativa (crescimento logístico) : {estimativa2:.0f} habitantes')"
   ]
  },
  {
   "cell_type": "code",
   "execution_count": null,
   "id": "380731b0",
   "metadata": {
    "slideshow": {
     "slide_type": "-"
    }
   },
   "outputs": [],
   "source": []
  },
  {
   "cell_type": "markdown",
   "id": "f643a07b-70ee-4b0f-ade0-898fe319e421",
   "metadata": {},
   "source": [
    "# Exercício"
   ]
  },
  {
   "cell_type": "markdown",
   "id": "51279b84-60eb-42ab-9503-4a9846447719",
   "metadata": {},
   "source": [
    "Considere o modelo abaixo:\n",
    "\n",
    "$\n",
    "\\begin{equation}\n",
    "y = x(\\alpha + \\beta x^\\phi)^{-1/\\theta}\n",
    "\\end{equation}\n",
    "$\n",
    "\n",
    "conhecido como modelo de Bleasdale e Nelder, de 1960.\n",
    "Este modelo pode ser utilizado para modelar curvas relacionadas ao rendimento de uma plantação na agricultura, quantificando a relação entre o rendimento total de uma cultura (y) e a densidade da cultura (x).\n",
    "Ele tem a capacidade de capturar o caráter de competição entre plantas por recursos, de forma que o rendimento tende a diminuir com o aumento da densidade de plantio.\n",
    "\n",
    "Considere os dados a seguir:\n",
    "\n",
    "| Amostra | 1 | 2 | 3 | 4 | 5 | 6 | 7 | 8 | 9 | 10 |\n",
    "| -- | -- | -- | -- | -- | -- | -- | -- | -- | -- | -- |\n",
    "| x | 1 | 4 | 8 | 11 | 14 | 18 | 21 | 24 | 28 | 31 | \n",
    "| y | 19 | 63 | 58 | 44 | 35 | 23 | 17 | 7 | 6 | 3 |\n",
    "\n",
    "Determine os parâmetros do modelo de Bleasdale e Nelder que melhor se ajustam aos dados acima.\n",
    "\n",
    "Utilize os valores iniciais de $\\alpha = \\beta = \\phi = \\theta = 1$"
   ]
  },
  {
   "cell_type": "code",
   "execution_count": 109,
   "id": "d66ddc8a-74b3-468e-aaf2-8443bf3f95b6",
   "metadata": {},
   "outputs": [],
   "source": [
    "# estimativa inicial\n",
    "x0 = [1, 1, 1, 1]\n",
    "x = np.array([1,4,8,11,14,18,21,24,28,31])\n",
    "y = np.array([19,63,58,44,35,23,17,7,6,3])\n"
   ]
  }
 ],
 "metadata": {
  "celltoolbar": "Slideshow",
  "kernelspec": {
   "display_name": "Python 3 (ipykernel)",
   "language": "python",
   "name": "python3"
  },
  "language_info": {
   "codemirror_mode": {
    "name": "ipython",
    "version": 3
   },
   "file_extension": ".py",
   "mimetype": "text/x-python",
   "name": "python",
   "nbconvert_exporter": "python",
   "pygments_lexer": "ipython3",
   "version": "3.9.12"
  },
  "latex_envs": {
   "LaTeX_envs_menu_present": true,
   "autoclose": true,
   "autocomplete": false,
   "bibliofile": "biblio.bib",
   "cite_by": "apalike",
   "current_citInitial": 1,
   "eqLabelWithNumbers": true,
   "eqNumInitial": 1,
   "hotkeys": {
    "equation": "Ctrl-E",
    "itemize": "Ctrl-I"
   },
   "labels_anchors": false,
   "latex_user_defs": false,
   "report_style_numbering": false,
   "user_envs_cfg": false
  }
 },
 "nbformat": 4,
 "nbformat_minor": 5
}
