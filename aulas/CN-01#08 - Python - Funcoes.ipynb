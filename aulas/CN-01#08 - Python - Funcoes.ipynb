{
 "cells": [
  {
   "cell_type": "markdown",
   "id": "92fe14ba",
   "metadata": {
    "slideshow": {
     "slide_type": "skip"
    }
   },
   "source": [
    "**CN-01: Python - Funções**"
   ]
  },
  {
   "cell_type": "markdown",
   "id": "26d1705c",
   "metadata": {
    "slideshow": {
     "slide_type": "slide"
    }
   },
   "source": [
    "# Funções"
   ]
  },
  {
   "cell_type": "markdown",
   "id": "2cfc6cf6",
   "metadata": {
    "slideshow": {
     "slide_type": "fragment"
    }
   },
   "source": [
    "Função é um conjunto de instruções que recebe um nome e pode ser chamado de qualquer lugar no código.\n",
    "\n",
    "Funções são utilizadas para manter o código mais legível, flexível e fácil de manter.\n",
    "\n",
    "No Python, você pode criar suas próprias funções ou executar funções já existentes. "
   ]
  },
  {
   "cell_type": "markdown",
   "id": "3016763c",
   "metadata": {
    "slideshow": {
     "slide_type": "slide"
    }
   },
   "source": [
    "# Bibliotecas"
   ]
  },
  {
   "cell_type": "markdown",
   "id": "2d295364",
   "metadata": {
    "slideshow": {
     "slide_type": "fragment"
    }
   },
   "source": [
    "Para executar uma função definida em um módulo externo, utilizamos o comando `import`\n",
    "\n",
    "Para acessar a função, devemos usar a sintaxe `nome_do_modulo.nome_da_função(argumentos)`"
   ]
  },
  {
   "cell_type": "code",
   "execution_count": 5,
   "id": "acb9b051",
   "metadata": {
    "slideshow": {
     "slide_type": "fragment"
    }
   },
   "outputs": [
    {
     "data": {
      "text/plain": [
       "-1.0"
      ]
     },
     "execution_count": 5,
     "metadata": {},
     "output_type": "execute_result"
    }
   ],
   "source": [
    "# Exemplo de utilização da função cosseno definida dentro do módulo math\n",
    "import math as m\n",
    "m.cos(m.pi)"
   ]
  },
  {
   "cell_type": "markdown",
   "id": "fcb5f821",
   "metadata": {
    "slideshow": {
     "slide_type": "fragment"
    }
   },
   "source": [
    "Caso você queira importar apenas uma única função dentro de um módulo, podemos utilizar o comando `from`.\n",
    "\n",
    "A sintaxe é `from nome_do_modulo import nome_da_funcao`.\n",
    "Neste caso, não é necessário colocar o prefixo para chamar a função"
   ]
  },
  {
   "cell_type": "code",
   "execution_count": 12,
   "id": "158b57ae",
   "metadata": {
    "slideshow": {
     "slide_type": "fragment"
    }
   },
   "outputs": [
    {
     "data": {
      "text/plain": [
       "1.2246467991473532e-16"
      ]
     },
     "execution_count": 12,
     "metadata": {},
     "output_type": "execute_result"
    }
   ],
   "source": [
    "from math import sin\n",
    "sin(m.pi)"
   ]
  },
  {
   "cell_type": "markdown",
   "id": "9b100ac2",
   "metadata": {
    "slideshow": {
     "slide_type": "subslide"
    }
   },
   "source": [
    "É possível obter uma breve descrição da função usando o comando `help` ou o caracter `?`"
   ]
  },
  {
   "cell_type": "code",
   "execution_count": 2,
   "id": "667dd955",
   "metadata": {
    "slideshow": {
     "slide_type": "fragment"
    }
   },
   "outputs": [
    {
     "name": "stdout",
     "output_type": "stream",
     "text": [
      "Help on built-in function tan in module math:\n",
      "\n",
      "tan(x, /)\n",
      "    Return the tangent of x (measured in radians).\n",
      "\n"
     ]
    }
   ],
   "source": [
    "import math  as m\n",
    "help(m.tan)  "
   ]
  },
  {
   "cell_type": "code",
   "execution_count": 13,
   "id": "68dd6ff7",
   "metadata": {
    "slideshow": {
     "slide_type": "fragment"
    }
   },
   "outputs": [],
   "source": [
    "?m.atan2"
   ]
  },
  {
   "cell_type": "code",
   "execution_count": 1,
   "id": "ceea13f7",
   "metadata": {},
   "outputs": [],
   "source": [
    "import math as m"
   ]
  },
  {
   "cell_type": "code",
   "execution_count": null,
   "id": "45834c9b",
   "metadata": {},
   "outputs": [],
   "source": [
    "m.cosh"
   ]
  },
  {
   "cell_type": "markdown",
   "id": "0098df8d",
   "metadata": {
    "slideshow": {
     "slide_type": "slide"
    }
   },
   "source": [
    "# Criando uma função"
   ]
  },
  {
   "cell_type": "markdown",
   "id": "cbd6f393",
   "metadata": {
    "slideshow": {
     "slide_type": "fragment"
    }
   },
   "source": [
    "Para criarmos uma nova função, usamos a sintaxe a seguir:\n",
    "\n",
    "```python\n",
    "def nome_da_funcao():\n",
    "    comandos\n",
    "```\n",
    "\n",
    "Ao contrário de outras linguagens, onde o início e final da função são definidos por palavras chaves como `begin ... end` ou `{ }`, em Python o escopo das instruções que pertencem a uma função é definido pela indentação.\n",
    "\n",
    "Por exemplo, no código abaixo:\n",
    "\n",
    "```python\n",
    "def nome_da_funcao():\n",
    "    instrucao1\n",
    "    instrucao2\n",
    "instrucao3\n",
    "```\n",
    "\n",
    "as instruções 1 e 2 estão dentro da função, enquanto que a instrução 3 está fora dela."
   ]
  },
  {
   "cell_type": "markdown",
   "id": "47ee48e0",
   "metadata": {
    "slideshow": {
     "slide_type": "fragment"
    }
   },
   "source": [
    "Em seguida, para utilizarmos a função, basta chamarmos pelo seu nome:\n",
    "\n",
    "`nome_da_funcao()`"
   ]
  },
  {
   "cell_type": "code",
   "execution_count": 14,
   "id": "50c33e9f",
   "metadata": {
    "slideshow": {
     "slide_type": "fragment"
    }
   },
   "outputs": [],
   "source": [
    "# Exemplo de criacao de uma funcao:\n",
    "def exemplo_de_funcao():\n",
    "    print('Hello world!')"
   ]
  },
  {
   "cell_type": "code",
   "execution_count": 15,
   "id": "f5bc9e20",
   "metadata": {
    "slideshow": {
     "slide_type": "fragment"
    }
   },
   "outputs": [
    {
     "name": "stdout",
     "output_type": "stream",
     "text": [
      "Hello world!\n"
     ]
    }
   ],
   "source": [
    "# Chamando a função definida acima:\n",
    "exemplo_de_funcao()"
   ]
  },
  {
   "cell_type": "markdown",
   "id": "40ebeb6c",
   "metadata": {
    "slideshow": {
     "slide_type": "fragment"
    }
   },
   "source": [
    "Para criarmos a documentação da função, inserimos um texto entre 3 aspas logo no início da função: \n",
    "\n",
    "```python\n",
    "def nome_da_funcao():\n",
    "    '''\n",
    "    Texto que irá aparecer quando você entrar com o comando help(nome_da_funcao)\n",
    "    '''\n",
    "    instrucao1\n",
    "    instrucao2\n",
    "instrucao3\n",
    "```"
   ]
  },
  {
   "cell_type": "code",
   "execution_count": 6,
   "id": "7574b324",
   "metadata": {
    "slideshow": {
     "slide_type": "fragment"
    }
   },
   "outputs": [],
   "source": [
    "# Exemplo de criacao de uma funcao com o texto de help:\n",
    "def exemplo_de_funcao2():\n",
    "    \"\"\"\n",
    "    Esta função imprime o texto Hello world na tela\n",
    "    \"\"\"\n",
    "    print('Hello world!')"
   ]
  },
  {
   "cell_type": "code",
   "execution_count": 7,
   "id": "04cdec52",
   "metadata": {},
   "outputs": [
    {
     "name": "stdout",
     "output_type": "stream",
     "text": [
      "Help on function exemplo_de_funcao2 in module __main__:\n",
      "\n",
      "exemplo_de_funcao2()\n",
      "    Esta função imprime o texto Hello world na tela\n",
      "\n"
     ]
    }
   ],
   "source": [
    "help(exemplo_de_funcao2)"
   ]
  },
  {
   "cell_type": "code",
   "execution_count": 56,
   "id": "6f97d091",
   "metadata": {
    "slideshow": {
     "slide_type": "skip"
    }
   },
   "outputs": [
    {
     "name": "stdout",
     "output_type": "stream",
     "text": [
      "Help on function exemplo_de_funcao2 in module __main__:\n",
      "\n",
      "exemplo_de_funcao2()\n",
      "    Esta função imprime o texto Hello world na tela\n",
      "\n"
     ]
    }
   ],
   "source": [
    "help(exemplo_de_funcao2)"
   ]
  },
  {
   "cell_type": "markdown",
   "id": "dc16876e",
   "metadata": {
    "slideshow": {
     "slide_type": "slide"
    }
   },
   "source": [
    "## Parâmetros de entrada"
   ]
  },
  {
   "cell_type": "markdown",
   "id": "b547b385",
   "metadata": {
    "slideshow": {
     "slide_type": "fragment"
    }
   },
   "source": [
    "Uma função pode receber um ou mais parâmetros de entrada:\n",
    "\n",
    "```python\n",
    "def nome_da_funcao(parametro1, parametro2, etc):\n",
    "    instrucoes\n",
    "```"
   ]
  },
  {
   "cell_type": "code",
   "execution_count": 16,
   "id": "2957879e",
   "metadata": {
    "slideshow": {
     "slide_type": "fragment"
    }
   },
   "outputs": [],
   "source": [
    "# Exemplo de funcao com 1 parâmetro de entrada:\n",
    "def quadrado(numero):\n",
    "    quad = numero**2\n",
    "    print('O quadrado de', numero, 'é', quad)"
   ]
  },
  {
   "cell_type": "code",
   "execution_count": 18,
   "id": "7ab9dc65",
   "metadata": {
    "slideshow": {
     "slide_type": "fragment"
    }
   },
   "outputs": [
    {
     "name": "stdout",
     "output_type": "stream",
     "text": [
      "O quadrado de 10 é 100\n"
     ]
    }
   ],
   "source": [
    "x = 2\n",
    "quadrado(10)"
   ]
  },
  {
   "cell_type": "code",
   "execution_count": 16,
   "id": "2bacc9e1",
   "metadata": {
    "slideshow": {
     "slide_type": "fragment"
    }
   },
   "outputs": [],
   "source": [
    "# Exemplo de funcao com 2 parâmetros de entrada:\n",
    "def imc(peso, altura):\n",
    "    '''\n",
    "    Calcula e imprime o IMC (índice de massa corporal)\n",
    "    '''\n",
    "    imc = peso/(altura*altura)\n",
    "    print(f'Seu imc é de {imc:.2f}')"
   ]
  },
  {
   "cell_type": "code",
   "execution_count": 20,
   "id": "892901cf",
   "metadata": {
    "slideshow": {
     "slide_type": "fragment"
    }
   },
   "outputs": [
    {
     "name": "stdout",
     "output_type": "stream",
     "text": [
      "Seu imc é de 14.53\n"
     ]
    }
   ],
   "source": [
    "imc(42, 1.7)"
   ]
  },
  {
   "cell_type": "markdown",
   "id": "4e153d8e",
   "metadata": {
    "slideshow": {
     "slide_type": "slide"
    }
   },
   "source": [
    "## Valor de retorno"
   ]
  },
  {
   "cell_type": "markdown",
   "id": "278ee298",
   "metadata": {
    "slideshow": {
     "slide_type": "fragment"
    }
   },
   "source": [
    "Uma função pode retornar um ou mais valores como resposta:\n",
    "\n",
    "```python\n",
    "\n",
    "def nome_da_funcao():\n",
    "    return alguma_coisa\n",
    "```"
   ]
  },
  {
   "cell_type": "code",
   "execution_count": 19,
   "id": "303011ba",
   "metadata": {
    "slideshow": {
     "slide_type": "fragment"
    }
   },
   "outputs": [],
   "source": [
    "# Exemplo de funcao com retorno\n",
    "def fatorial(n):\n",
    "    '''\n",
    "    Calcula o fatorial de um número: n! = 1*2* ... *n\n",
    "    '''\n",
    "    fat = 1\n",
    "    for i in range(1,n+1):\n",
    "        #print(fat)\n",
    "        fat *= i\n",
    "    return fat"
   ]
  },
  {
   "cell_type": "code",
   "execution_count": 22,
   "id": "4829df6a",
   "metadata": {
    "slideshow": {
     "slide_type": "fragment"
    }
   },
   "outputs": [
    {
     "name": "stdout",
     "output_type": "stream",
     "text": [
      "720\n"
     ]
    }
   ],
   "source": [
    "x = fatorial(6)\n",
    "print(x)"
   ]
  },
  {
   "cell_type": "markdown",
   "id": "b966eace",
   "metadata": {
    "slideshow": {
     "slide_type": "fragment"
    }
   },
   "source": [
    "Também é possível retornar mais de 1 valor como resposta, separando-os por vírgulas."
   ]
  },
  {
   "cell_type": "code",
   "execution_count": 23,
   "id": "cb5e95cc",
   "metadata": {
    "slideshow": {
     "slide_type": "fragment"
    }
   },
   "outputs": [],
   "source": [
    "from random import randint"
   ]
  },
  {
   "cell_type": "code",
   "execution_count": 24,
   "id": "68a74841",
   "metadata": {
    "slideshow": {
     "slide_type": "fragment"
    }
   },
   "outputs": [],
   "source": [
    "def sorteia_ponto():\n",
    "    \"\"\"\n",
    "    Sorteia um ponto de coordenadas (x,y).\n",
    "    As coordenadas são geradas de forma aleatórias, e encontram-se no intervalo de 0 a 100\n",
    "    \"\"\"\n",
    "    x = randint(0,100)\n",
    "    y = randint(0,100)\n",
    "    return x,y"
   ]
  },
  {
   "cell_type": "code",
   "execution_count": 4,
   "id": "d2a50c62",
   "metadata": {
    "slideshow": {
     "slide_type": "skip"
    }
   },
   "outputs": [
    {
     "name": "stdout",
     "output_type": "stream",
     "text": [
      "Help on function sorteia_ponto in module __main__:\n",
      "\n",
      "sorteia_ponto()\n",
      "    Sorteia um ponto de coordenadas (x,y).\n",
      "    As coordenadas são geradas de forma aleatórias, e encontram-se no intervalo de 0 a 100\n",
      "\n"
     ]
    }
   ],
   "source": [
    "help(sorteia_ponto)"
   ]
  },
  {
   "cell_type": "code",
   "execution_count": 28,
   "id": "64c6e69f",
   "metadata": {
    "slideshow": {
     "slide_type": "fragment"
    }
   },
   "outputs": [
    {
     "name": "stdout",
     "output_type": "stream",
     "text": [
      "(37, 79)\n",
      "79\n"
     ]
    }
   ],
   "source": [
    "p = sorteia_ponto()\n",
    "print(p)\n",
    "print(p[1])"
   ]
  },
  {
   "cell_type": "code",
   "execution_count": 26,
   "id": "e6125c9d",
   "metadata": {
    "slideshow": {
     "slide_type": "fragment"
    }
   },
   "outputs": [
    {
     "name": "stdout",
     "output_type": "stream",
     "text": [
      "55 95\n"
     ]
    }
   ],
   "source": [
    "# É possível salvar os valores de retorno em variáveis separadas\n",
    "x,y = sorteia_ponto()\n",
    "print(x,y)"
   ]
  },
  {
   "cell_type": "markdown",
   "id": "570dbe58",
   "metadata": {
    "slideshow": {
     "slide_type": "slide"
    }
   },
   "source": [
    "# Passando uma função como parâmetro"
   ]
  },
  {
   "cell_type": "markdown",
   "id": "967354a8",
   "metadata": {
    "slideshow": {
     "slide_type": "fragment"
    }
   },
   "source": [
    "É possível passar uma função como parâmetro para outra função.\n",
    "\n",
    "Por exemplo, podemos passar uma função `f1` como parâmetro de entrada de uma função `f2`:\n",
    "\n",
    "```python\n",
    "def f2(f1):\n",
    "    instrucoes\n",
    "```\n"
   ]
  },
  {
   "cell_type": "code",
   "execution_count": 1,
   "id": "fefd1674",
   "metadata": {
    "slideshow": {
     "slide_type": "fragment"
    }
   },
   "outputs": [],
   "source": [
    "# Exemplo de passagem de função como parâmetro\n",
    "\n",
    "# calcula n^2\n",
    "def f1(n):\n",
    "    return n**2\n",
    "\n",
    "# calcula n^3\n",
    "def f2(n):\n",
    "    return n**3\n",
    "\n",
    "# A função g recebe uma função como entrada e um parâmetro n\n",
    "def g(f, n):\n",
    "    print('O valor calculado foi de', f(n))"
   ]
  },
  {
   "cell_type": "code",
   "execution_count": 41,
   "id": "c60dabac",
   "metadata": {
    "slideshow": {
     "slide_type": "fragment"
    }
   },
   "outputs": [
    {
     "name": "stdout",
     "output_type": "stream",
     "text": [
      "O valor calculado foi de 100\n",
      "O valor calculado foi de 1000\n"
     ]
    }
   ],
   "source": [
    "g(f1, 10) # f1(10)\n",
    "g(f2, 10) # f2(10)"
   ]
  },
  {
   "cell_type": "markdown",
   "id": "f86ba7e6",
   "metadata": {
    "slideshow": {
     "slide_type": "slide"
    }
   },
   "source": [
    "# Exemplo"
   ]
  },
  {
   "cell_type": "markdown",
   "id": "9cf37c2f",
   "metadata": {
    "slideshow": {
     "slide_type": "fragment"
    }
   },
   "source": [
    "Crie uma função que receba um número como entrada um número `n` e determine se ele é par.\n",
    "Ele deve retornar `True` se `n` for par e `False` se for ímpar."
   ]
  },
  {
   "cell_type": "markdown",
   "id": "223d0cc2",
   "metadata": {
    "slideshow": {
     "slide_type": "fragment"
    }
   },
   "source": [
    "**Definição da função:**"
   ]
  },
  {
   "cell_type": "code",
   "execution_count": 48,
   "id": "5dc26dfe",
   "metadata": {},
   "outputs": [
    {
     "data": {
      "text/plain": [
       "dict"
      ]
     },
     "execution_count": 48,
     "metadata": {},
     "output_type": "execute_result"
    }
   ],
   "source": [
    "type({'a':3})"
   ]
  },
  {
   "cell_type": "code",
   "execution_count": 54,
   "id": "ebf06596",
   "metadata": {
    "code_folding": [],
    "slideshow": {
     "slide_type": "fragment"
    }
   },
   "outputs": [],
   "source": [
    "def par(n):\n",
    "    if type(n) == int or type(n) == float:\n",
    "        if n%2 == 0:\n",
    "            return True\n",
    "        else:\n",
    "            return False\n",
    "    else:\n",
    "        print('Por favor, entre com um numero inteiro')"
   ]
  },
  {
   "cell_type": "markdown",
   "id": "bd653489",
   "metadata": {
    "slideshow": {
     "slide_type": "fragment"
    }
   },
   "source": [
    "**Chamada da função:**"
   ]
  },
  {
   "cell_type": "code",
   "execution_count": 55,
   "id": "ae07fa27",
   "metadata": {
    "slideshow": {
     "slide_type": "fragment"
    }
   },
   "outputs": [
    {
     "data": {
      "text/plain": [
       "False"
      ]
     },
     "execution_count": 55,
     "metadata": {},
     "output_type": "execute_result"
    }
   ],
   "source": [
    "par(5.0)"
   ]
  },
  {
   "cell_type": "markdown",
   "id": "71f426fb",
   "metadata": {
    "slideshow": {
     "slide_type": "fragment"
    }
   },
   "source": [
    "# Exercício 1"
   ]
  },
  {
   "cell_type": "markdown",
   "id": "ac0655a6",
   "metadata": {},
   "source": [
    "Crie uma função que receba um número `n` como entrada e determine se ele está entre 0 e 10.\n",
    "Ele deve retornar `True` se $0 \\leq n \\leq 10$ e `False` caso contrário."
   ]
  },
  {
   "cell_type": "markdown",
   "id": "e5a50f9b",
   "metadata": {},
   "source": [
    "**Definição da função:**"
   ]
  },
  {
   "cell_type": "code",
   "execution_count": null,
   "id": "4425c916",
   "metadata": {},
   "outputs": [],
   "source": []
  },
  {
   "cell_type": "markdown",
   "id": "761d3fa5",
   "metadata": {},
   "source": [
    "**Chamada da função:**"
   ]
  },
  {
   "cell_type": "code",
   "execution_count": null,
   "id": "e48097cb",
   "metadata": {},
   "outputs": [],
   "source": []
  },
  {
   "cell_type": "markdown",
   "id": "4e8cfb1d",
   "metadata": {},
   "source": [
    "# Exercício 2\n",
    "\n",
    "Crie uma função que calcule do volume de uma esfera, sabendo que o volume é dado por:\n",
    "\n",
    "$V = \\dfrac{4}{3}\\pi R ^3$\n",
    "\n",
    "Receba o raio como parâmetro de entrada e retorne o volume como resposta."
   ]
  },
  {
   "cell_type": "markdown",
   "id": "de7267ea",
   "metadata": {},
   "source": [
    "**Definição da função:**"
   ]
  },
  {
   "cell_type": "code",
   "execution_count": 1,
   "id": "698b41be",
   "metadata": {},
   "outputs": [],
   "source": [
    "from math import pi\n"
   ]
  },
  {
   "cell_type": "markdown",
   "id": "a81e45d0",
   "metadata": {},
   "source": [
    "**Chamada da função:**"
   ]
  },
  {
   "cell_type": "code",
   "execution_count": null,
   "id": "9d2c4f96",
   "metadata": {},
   "outputs": [],
   "source": []
  },
  {
   "cell_type": "markdown",
   "id": "f3f37e26",
   "metadata": {},
   "source": [
    "# Exercício 3\n",
    "\n",
    "Crie uma função que receba 2 parâmetros como entrada e retorna a soma de todos os números neste intervalo como resposta."
   ]
  },
  {
   "cell_type": "markdown",
   "id": "fd40256e",
   "metadata": {},
   "source": [
    "**Definição da função:**"
   ]
  },
  {
   "cell_type": "code",
   "execution_count": null,
   "id": "ffd0e81e",
   "metadata": {},
   "outputs": [],
   "source": []
  },
  {
   "cell_type": "markdown",
   "id": "4d2dd872",
   "metadata": {},
   "source": [
    "**Chamada da função:**"
   ]
  },
  {
   "cell_type": "code",
   "execution_count": null,
   "id": "157f4933",
   "metadata": {},
   "outputs": [],
   "source": []
  },
  {
   "cell_type": "markdown",
   "id": "c47e3d78",
   "metadata": {},
   "source": [
    "# Exercício 4\n",
    "\n",
    "Crie uma função que receba uma temperatura em Fahrenheit e converta-a para a escala Celsius.\n"
   ]
  },
  {
   "cell_type": "markdown",
   "id": "b6e14f39",
   "metadata": {},
   "source": [
    "**Definição da função:**"
   ]
  },
  {
   "cell_type": "code",
   "execution_count": null,
   "id": "cde29f9e",
   "metadata": {},
   "outputs": [],
   "source": []
  },
  {
   "cell_type": "markdown",
   "id": "55a32b5d",
   "metadata": {},
   "source": [
    "**Chamada da função:**"
   ]
  },
  {
   "cell_type": "code",
   "execution_count": null,
   "id": "7048cad4",
   "metadata": {},
   "outputs": [],
   "source": []
  },
  {
   "cell_type": "markdown",
   "id": "8c3564a7",
   "metadata": {},
   "source": [
    "# Exercício 5\n",
    "\n",
    "Crie uma função que receba uma lista de caracteres (string) como entrada e determine quantas vezes o caracter \"C\" apareceu na lista.\n",
    "Ele deve retornar como resposta a quantidade de vezes em que o caracter apareceu na lista."
   ]
  },
  {
   "cell_type": "markdown",
   "id": "79e8d4c2",
   "metadata": {},
   "source": [
    "**Definição da função:**"
   ]
  },
  {
   "cell_type": "code",
   "execution_count": 2,
   "id": "ea3f1446",
   "metadata": {},
   "outputs": [],
   "source": [
    "texto = 'AGCAGTAGCC'\n"
   ]
  },
  {
   "cell_type": "markdown",
   "id": "0c745bd2",
   "metadata": {},
   "source": [
    "**Chamada da função:**"
   ]
  },
  {
   "cell_type": "code",
   "execution_count": 3,
   "id": "9b178bf2",
   "metadata": {},
   "outputs": [],
   "source": [
    "texto = 'AGCCTcAA'\n"
   ]
  },
  {
   "cell_type": "markdown",
   "id": "77b45ed7",
   "metadata": {},
   "source": [
    "# Exercício 6\n",
    "\n",
    "Crie uma função que receba o valor de $x$ e determine se $x$ é raíz da função $f(x) = -12 -21x +18x^2 -2,75x^3$."
   ]
  },
  {
   "cell_type": "markdown",
   "id": "19124a79",
   "metadata": {},
   "source": [
    "**Definição da função:**"
   ]
  },
  {
   "cell_type": "code",
   "execution_count": null,
   "id": "8023f96a",
   "metadata": {},
   "outputs": [],
   "source": []
  },
  {
   "cell_type": "code",
   "execution_count": null,
   "id": "7e74adbc",
   "metadata": {},
   "outputs": [],
   "source": []
  },
  {
   "cell_type": "markdown",
   "id": "78a259bb",
   "metadata": {},
   "source": [
    "**Chamada da função:**"
   ]
  },
  {
   "cell_type": "code",
   "execution_count": null,
   "id": "4660f1ee",
   "metadata": {},
   "outputs": [],
   "source": []
  }
 ],
 "metadata": {
  "celltoolbar": "Slideshow",
  "kernelspec": {
   "display_name": "Python 3 (ipykernel)",
   "language": "python",
   "name": "python3"
  },
  "language_info": {
   "codemirror_mode": {
    "name": "ipython",
    "version": 3
   },
   "file_extension": ".py",
   "mimetype": "text/x-python",
   "name": "python",
   "nbconvert_exporter": "python",
   "pygments_lexer": "ipython3",
   "version": "3.9.12"
  },
  "latex_envs": {
   "LaTeX_envs_menu_present": true,
   "autoclose": true,
   "autocomplete": true,
   "bibliofile": "biblio.bib",
   "cite_by": "apalike",
   "current_citInitial": 1,
   "eqLabelWithNumbers": true,
   "eqNumInitial": 1,
   "hotkeys": {
    "equation": "Ctrl-E",
    "itemize": "Ctrl-I"
   },
   "labels_anchors": false,
   "latex_user_defs": false,
   "report_style_numbering": false,
   "user_envs_cfg": false
  }
 },
 "nbformat": 4,
 "nbformat_minor": 5
}
